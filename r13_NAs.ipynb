{
 "cells": [
  {
   "cell_type": "markdown",
   "id": "6f67e7c1-df35-4b02-b486-553d2709f486",
   "metadata": {},
   "source": [
    "# <font color = yellow> Expanded Kenya: all dataset features"
   ]
  },
  {
   "cell_type": "code",
   "execution_count": 1,
   "id": "acf92a20-7e4f-433e-9292-d6b6ead753f9",
   "metadata": {},
   "outputs": [
    {
     "data": {
      "text/html": [
       "<table class=\"dataframe\">\n",
       "<caption>A matrix: 1 × 447 of type chr</caption>\n",
       "<thead>\n",
       "\t<tr><th scope=col>abind</th><th scope=col>archive</th><th scope=col>askpass</th><th scope=col>assertthat</th><th scope=col>automl</th><th scope=col>backports</th><th scope=col>base64enc</th><th scope=col>BBmisc</th><th scope=col>BH</th><th scope=col>bit</th><th scope=col>⋯</th><th scope=col>rpart</th><th scope=col>spatial</th><th scope=col>splines</th><th scope=col>stats</th><th scope=col>stats4</th><th scope=col>survival</th><th scope=col>tcltk</th><th scope=col>tools</th><th scope=col>translations</th><th scope=col>utils</th></tr>\n",
       "</thead>\n",
       "<tbody>\n",
       "\t<tr><td>abind</td><td>archive</td><td>askpass</td><td>assertthat</td><td>automl</td><td>backports</td><td>base64enc</td><td>BBmisc</td><td>BH</td><td>bit</td><td>⋯</td><td>rpart</td><td>spatial</td><td>splines</td><td>stats</td><td>stats4</td><td>survival</td><td>tcltk</td><td>tools</td><td>translations</td><td>utils</td></tr>\n",
       "</tbody>\n",
       "</table>\n"
      ],
      "text/latex": [
       "A matrix: 1 × 447 of type chr\n",
       "\\begin{tabular}{lllllllllllllllllllll}\n",
       " abind & archive & askpass & assertthat & automl & backports & base64enc & BBmisc & BH & bit & ⋯ & rpart & spatial & splines & stats & stats4 & survival & tcltk & tools & translations & utils\\\\\n",
       "\\hline\n",
       "\t abind & archive & askpass & assertthat & automl & backports & base64enc & BBmisc & BH & bit & ⋯ & rpart & spatial & splines & stats & stats4 & survival & tcltk & tools & translations & utils\\\\\n",
       "\\end{tabular}\n"
      ],
      "text/markdown": [
       "\n",
       "A matrix: 1 × 447 of type chr\n",
       "\n",
       "| abind | archive | askpass | assertthat | automl | backports | base64enc | BBmisc | BH | bit | ⋯ | rpart | spatial | splines | stats | stats4 | survival | tcltk | tools | translations | utils |\n",
       "|---|---|---|---|---|---|---|---|---|---|---|---|---|---|---|---|---|---|---|---|---|\n",
       "| abind | archive | askpass | assertthat | automl | backports | base64enc | BBmisc | BH | bit | ⋯ | rpart | spatial | splines | stats | stats4 | survival | tcltk | tools | translations | utils |\n",
       "\n"
      ],
      "text/plain": [
       "     abind archive askpass assertthat automl backports base64enc BBmisc BH bit\n",
       "[1,] abind archive askpass assertthat automl backports base64enc BBmisc BH bit\n",
       "     ⋯ rpart spatial splines stats stats4 survival tcltk tools translations\n",
       "[1,] ⋯ rpart spatial splines stats stats4 survival tcltk tools translations\n",
       "     utils\n",
       "[1,] utils"
      ]
     },
     "metadata": {},
     "output_type": "display_data"
    }
   ],
   "source": [
    "# List all installed R libraries\n",
    "installed_libraries <- installed.packages()\n",
    "\n",
    "# Print the names of the installed libraries\n",
    "t(installed_libraries[, \"Package\"])\n"
   ]
  },
  {
   "cell_type": "code",
   "execution_count": null,
   "id": "e8e2b7d9-ecd3-49ed-8c79-ffa8caedf53c",
   "metadata": {},
   "outputs": [],
   "source": []
  },
  {
   "cell_type": "code",
   "execution_count": 2,
   "id": "31b3ef54-f8e5-4d7b-8abf-cc51919ff072",
   "metadata": {},
   "outputs": [
    {
     "name": "stderr",
     "output_type": "stream",
     "text": [
      "Warning message:\n",
      "\"package 'readr' was built under R version 4.3.3\"\n",
      "Warning message:\n",
      "\"package 'dplyr' was built under R version 4.3.2\"\n",
      "\n",
      "Attaching package: 'dplyr'\n",
      "\n",
      "\n",
      "The following objects are masked from 'package:stats':\n",
      "\n",
      "    filter, lag\n",
      "\n",
      "\n",
      "The following objects are masked from 'package:base':\n",
      "\n",
      "    intersect, setdiff, setequal, union\n",
      "\n",
      "\n",
      "Warning message:\n",
      "\"package 'reticulate' was built under R version 4.3.3\"\n",
      "Warning message:\n",
      "\"package 'ggplot2' was built under R version 4.3.3\"\n",
      "\n",
      "Attaching package: 'gridExtra'\n",
      "\n",
      "\n",
      "The following object is masked from 'package:dplyr':\n",
      "\n",
      "    combine\n",
      "\n",
      "\n"
     ]
    }
   ],
   "source": [
    "# Load necessary libraries\n",
    "\n",
    "library(readr)\n",
    "library(dplyr)\n",
    "library(kaggler)\n",
    "library(reticulate)\n",
    "library(ggplot2)\n",
    "library(gridExtra)\n",
    "\n",
    "\n",
    "# library(rle)   # Run Length Encoding: base rle( ) fct\n",
    "\n",
    "options(scipen = 999)\n",
    "#     Load the datasets w/ powershell:\n",
    "\n",
    "#  kaggle competitions download -c playground-series-s5e1 -p 'C:/all_kaggle/jan25/dataset'\n",
    "# $basePath = \"C:\\all_kaggle\\jan25\\dataset\"\n",
    "# $zipFilePath = Join-Path $basePath \"playground-series-s5e1.zip\"\n",
    "# $trainFolderPath = Join-Path $basePath \"train\"\n",
    "# $testFolderPath = Join-Path $basePath \"test\"\n",
    "# $submissionFolderPath = Join-Path $basePath \"submission\"\n",
    "#     # Unzip the file\n",
    "# Expand-Archive -Path $zipFilePath -DestinationPath $basePath\n",
    "#     # Move the CSV files to their respective subfolders\n",
    "# Move-Item -Path (Join-Path $basePath \"train.csv\") -Destination $trainFolderPath\n",
    "# Move-Item -Path (Join-Path $basePath \"test.csv\") -Destination $testFolderPath\n"
   ]
  },
  {
   "cell_type": "markdown",
   "id": "87ca1c56-8919-4615-a4bd-5cf6f1eff7b4",
   "metadata": {},
   "source": [
    "### <font color = yellow> Get the kaggle, training dataset"
   ]
  },
  {
   "cell_type": "code",
   "execution_count": 3,
   "id": "f59466ae-c603-4b54-b322-14fe0e66d439",
   "metadata": {},
   "outputs": [
    {
     "name": "stderr",
     "output_type": "stream",
     "text": [
      "starting httpd help server ...\n",
      " done\n",
      "\n"
     ]
    }
   ],
   "source": [
    "vignette(\"dplyr\")\n",
    "vignette(\"dplyr\")"
   ]
  },
  {
   "cell_type": "code",
   "execution_count": 4,
   "id": "40042a30-c629-4f53-aec7-5499c19198ab",
   "metadata": {
    "scrolled": true
   },
   "outputs": [
    {
     "data": {
      "text/html": [
       "<style>\n",
       ".list-inline {list-style: none; margin:0; padding: 0}\n",
       ".list-inline>li {display: inline-block}\n",
       ".list-inline>li:not(:last-child)::after {content: \"\\00b7\"; padding: 0 .5ex}\n",
       "</style>\n",
       "<ol class=list-inline><li>230130</li><li>6</li></ol>\n"
      ],
      "text/latex": [
       "\\begin{enumerate*}\n",
       "\\item 230130\n",
       "\\item 6\n",
       "\\end{enumerate*}\n"
      ],
      "text/markdown": [
       "1. 230130\n",
       "2. 6\n",
       "\n",
       "\n"
      ],
      "text/plain": [
       "[1] 230130      6"
      ]
     },
     "metadata": {},
     "output_type": "display_data"
    },
    {
     "data": {
      "text/html": [
       "<table class=\"dataframe\">\n",
       "<caption>A tibble: 2 × 6</caption>\n",
       "<thead>\n",
       "\t<tr><th scope=col>id</th><th scope=col>date</th><th scope=col>country</th><th scope=col>store</th><th scope=col>product</th><th scope=col>num_sold</th></tr>\n",
       "\t<tr><th scope=col>&lt;dbl&gt;</th><th scope=col>&lt;date&gt;</th><th scope=col>&lt;chr&gt;</th><th scope=col>&lt;chr&gt;</th><th scope=col>&lt;chr&gt;</th><th scope=col>&lt;dbl&gt;</th></tr>\n",
       "</thead>\n",
       "<tbody>\n",
       "\t<tr><td>0</td><td>2010-01-01</td><td>Canada</td><td>Discount Stickers</td><td>Holographic Goose</td><td> NA</td></tr>\n",
       "\t<tr><td>1</td><td>2010-01-01</td><td>Canada</td><td>Discount Stickers</td><td>Kaggle           </td><td>973</td></tr>\n",
       "</tbody>\n",
       "</table>\n"
      ],
      "text/latex": [
       "A tibble: 2 × 6\n",
       "\\begin{tabular}{llllll}\n",
       " id & date & country & store & product & num\\_sold\\\\\n",
       " <dbl> & <date> & <chr> & <chr> & <chr> & <dbl>\\\\\n",
       "\\hline\n",
       "\t 0 & 2010-01-01 & Canada & Discount Stickers & Holographic Goose &  NA\\\\\n",
       "\t 1 & 2010-01-01 & Canada & Discount Stickers & Kaggle            & 973\\\\\n",
       "\\end{tabular}\n"
      ],
      "text/markdown": [
       "\n",
       "A tibble: 2 × 6\n",
       "\n",
       "| id &lt;dbl&gt; | date &lt;date&gt; | country &lt;chr&gt; | store &lt;chr&gt; | product &lt;chr&gt; | num_sold &lt;dbl&gt; |\n",
       "|---|---|---|---|---|---|\n",
       "| 0 | 2010-01-01 | Canada | Discount Stickers | Holographic Goose |  NA |\n",
       "| 1 | 2010-01-01 | Canada | Discount Stickers | Kaggle            | 973 |\n",
       "\n"
      ],
      "text/plain": [
       "  id date       country store             product           num_sold\n",
       "1 0  2010-01-01 Canada  Discount Stickers Holographic Goose  NA     \n",
       "2 1  2010-01-01 Canada  Discount Stickers Kaggle            973     "
      ]
     },
     "metadata": {},
     "output_type": "display_data"
    }
   ],
   "source": [
    "# Load the datasets with the correct path\n",
    "train <- read_csv('C:/all_kaggle/jan25/dataset/train/train.csv', show_col_types = FALSE)\n",
    "# test <- read_csv('C:/all_kaggle/jan25/dataset/test/test.csv', show_col_types = FALSE)\n",
    "dim(train)\n",
    "head(train,2)\n",
    "# dim(test)"
   ]
  },
  {
   "cell_type": "code",
   "execution_count": null,
   "id": "c4554e39-0531-481a-b23a-6056fa9a10ef",
   "metadata": {},
   "outputs": [],
   "source": []
  },
  {
   "cell_type": "markdown",
   "id": "ca61429e-90d0-430f-8c33-9a8024e5f98f",
   "metadata": {},
   "source": [
    "# <font color = lime> Functions Section:"
   ]
  },
  {
   "cell_type": "code",
   "execution_count": null,
   "id": "202e637f-46b0-414f-b2c0-3fd20826c329",
   "metadata": {},
   "outputs": [],
   "source": []
  },
  {
   "cell_type": "markdown",
   "id": "86ac2ed8-f3a7-4629-a398-b00407766535",
   "metadata": {},
   "source": [
    "### <font color = yellow> Fct: Preliminary dfs: year_2010, 2011, 2012, etc..."
   ]
  },
  {
   "cell_type": "code",
   "execution_count": 5,
   "id": "4d23b200-bf48-4027-9adc-1a40b460f966",
   "metadata": {},
   "outputs": [
    {
     "data": {
      "text/html": [
       "<style>\n",
       ".list-inline {list-style: none; margin:0; padding: 0}\n",
       ".list-inline>li {display: inline-block}\n",
       ".list-inline>li:not(:last-child)::after {content: \"\\00b7\"; padding: 0 .5ex}\n",
       "</style>\n",
       "<ol class=list-inline><li>230130</li><li>6</li></ol>\n"
      ],
      "text/latex": [
       "\\begin{enumerate*}\n",
       "\\item 230130\n",
       "\\item 6\n",
       "\\end{enumerate*}\n"
      ],
      "text/markdown": [
       "1. 230130\n",
       "2. 6\n",
       "\n",
       "\n"
      ],
      "text/plain": [
       "[1] 230130      6"
      ]
     },
     "metadata": {},
     "output_type": "display_data"
    },
    {
     "data": {
      "text/html": [
       "<style>\n",
       ".list-inline {list-style: none; margin:0; padding: 0}\n",
       ".list-inline>li {display: inline-block}\n",
       ".list-inline>li:not(:last-child)::after {content: \"\\00b7\"; padding: 0 .5ex}\n",
       "</style>\n",
       "<ol class=list-inline><li>230130</li><li>6</li></ol>\n"
      ],
      "text/latex": [
       "\\begin{enumerate*}\n",
       "\\item 230130\n",
       "\\item 6\n",
       "\\end{enumerate*}\n"
      ],
      "text/markdown": [
       "1. 230130\n",
       "2. 6\n",
       "\n",
       "\n"
      ],
      "text/plain": [
       "[1] 230130      6"
      ]
     },
     "metadata": {},
     "output_type": "display_data"
    }
   ],
   "source": [
    "# Filter the data for the specified year within the function\n",
    "get_filtered_year <- function(df, year) {\n",
    "  filtered_data <- df %>% filter(year == !!year)\n",
    "  return(filtered_data)\n",
    "}\n",
    "\n",
    "# Initialize the vector of years\n",
    "yr <- c(2010, 2011, 2012, 2013, 2014, 2015, 2016)\n",
    "\n",
    "# Loop through each year and create separate dataframes\n",
    "for (i in 1:length(yr)) {\n",
    "  filtered_data <- get_filtered_year(train, yr[i])\n",
    "  var_name <- paste0(\"year_\", yr[i])\n",
    "  assign(var_name, filtered_data)\n",
    "}\n",
    "\n",
    "# Display the content of the dynamically created dataframes\n",
    "dim(year_2010)\n",
    "dim(year_2011)\n"
   ]
  },
  {
   "cell_type": "code",
   "execution_count": null,
   "id": "31fca1d9-b015-4ba8-83b1-2f3918a00d1e",
   "metadata": {},
   "outputs": [],
   "source": []
  },
  {
   "cell_type": "code",
   "execution_count": null,
   "id": "7040ca43-0b64-4730-b3a0-f47b7dbdbc64",
   "metadata": {},
   "outputs": [],
   "source": []
  },
  {
   "cell_type": "markdown",
   "id": "f122229f-01db-4315-8154-af1f050493a8",
   "metadata": {},
   "source": [
    "### <font color = lime> Grouping / Plotting Monthly Sales:"
   ]
  },
  {
   "cell_type": "code",
   "execution_count": 6,
   "id": "c64c923a-57ef-43a4-8a0e-cc57cbd90aad",
   "metadata": {},
   "outputs": [],
   "source": [
    "# Assuming your dataframe is named year_2010\n",
    "# Group by month and calculate total sales for each month\n",
    "monthly_group_by <- function(df) {\n",
    "    \n",
    "    monthly_sales <- df %>%\n",
    "      group_by(mo) %>%\n",
    "      summarise(total_sales = sum(num_sold, na.rm = TRUE))\n",
    "    \n",
    "    # Display the prepared data\n",
    "    # print(monthly_sales)\n",
    "    return(monthly_sales)    \n",
    "}  "
   ]
  },
  {
   "cell_type": "code",
   "execution_count": 7,
   "id": "f6c90622-1d8e-404f-81e4-724526da3cee",
   "metadata": {},
   "outputs": [],
   "source": [
    "    # Create the histogram plot\n",
    "histogram_monthly_plot <- function(df) {\n",
    "\n",
    "    plot <- ggplot(monthly_sales, aes(x = mo, y = total_sales, fill = mo)) +\n",
    "      geom_bar(stat = \"identity\") +\n",
    "      labs(title = \"Total Sales by Month for the Year 2010\",\n",
    "           x = \"Month\",\n",
    "           y = \"Total Sales\") +\n",
    "      theme_minimal() +\n",
    "      scale_fill_brewer(palette = \"Paired\")\n",
    "\n",
    "    # Print the plot \n",
    "    print(plot)\n",
    "    }\n",
    "      "
   ]
  },
  {
   "cell_type": "code",
   "execution_count": null,
   "id": "1ece878f-8f02-40dc-8fc6-94b2b31f9c1b",
   "metadata": {},
   "outputs": [],
   "source": []
  },
  {
   "cell_type": "code",
   "execution_count": 8,
   "id": "6240f643-8441-4b8f-a44e-9cc26701d68e",
   "metadata": {},
   "outputs": [],
   "source": [
    "library(dplyr)\n",
    "\n",
    "country_sales_and_na_mo <- function(df, country_name) {\n",
    "    \n",
    "    # Filter the dataframe for the specified country and non-NA num_sold values\n",
    "    filtered_country_na <- df %>%\n",
    "      filter(country == !!country_name)\n",
    "    \n",
    "    # Display the filtered data (optional)\n",
    "    print(head(filtered_country_na, 1))\n",
    "    \n",
    "    # Summarize the count of NA values per month\n",
    "    count_na_per_month <- function(df) {\n",
    "      df %>%\n",
    "        group_by(mo) %>%\n",
    "        summarise(count_na = sum(is.na(num_sold)))\n",
    "    }\n",
    "    \n",
    "    # Apply the function to the entire dataframe to get NA counts\n",
    "    test_sum_na <- count_na_per_month(df)\n",
    "    \n",
    "    # Summarize total sales per month for the filtered country\n",
    "    total_sales_per_month <- function(df) {\n",
    "      df %>%\n",
    "        group_by(mo) %>%\n",
    "        summarise(total_sales = sum(num_sold, na.rm = TRUE))\n",
    "    }\n",
    "    \n",
    "    # Apply the function to the filtered data\n",
    "    test_mo_na <- total_sales_per_month(filtered_country_na)\n",
    "    \n",
    "    # Perform a full join to combine count of NAs and total sales per month\n",
    "    final_df <- full_join(test_sum_na, test_mo_na, by = \"mo\")\n",
    "    \n",
    "    # Return the final dataframe\n",
    "    return(final_df)\n",
    "}\n",
    "\n"
   ]
  },
  {
   "cell_type": "code",
   "execution_count": 9,
   "id": "09b291b1-f184-41de-901d-4ada70d2fb70",
   "metadata": {},
   "outputs": [],
   "source": [
    "# head(country_sales_and_na_mo(year_2010, \"Kenya\"), 2)"
   ]
  },
  {
   "cell_type": "code",
   "execution_count": 10,
   "id": "5b456ff2-c701-42fc-ae79-854dceca8f8d",
   "metadata": {},
   "outputs": [],
   "source": [
    "\n",
    "\n",
    "product_sales_and_na_mo <- function(df, product_name) {\n",
    "    \n",
    "    # Filter the dataframe for the specified product and non-NA num_sold values\n",
    "    filtered_product_na <- df %>%\n",
    "      filter(product == !!product_name & !is.na(num_sold))\n",
    "    \n",
    "    # Display the filtered data (optional)\n",
    "    print(head(filtered_product_na, 1))\n",
    "    \n",
    "    # Summarize the count of NA values per month\n",
    "    count_na_per_month <- function(df) {\n",
    "      df %>%\n",
    "        group_by(mo) %>%\n",
    "        summarise(count_na = sum(is.na(num_sold)))\n",
    "    }\n",
    "    \n",
    "    # Apply the function to the entire dataframe to get NA counts\n",
    "    test_sum_na <- count_na_per_month(df)\n",
    "    \n",
    "    # Summarize total sales per month for the filtered product\n",
    "    total_sales_per_month <- function(df) {\n",
    "      df %>%\n",
    "        group_by(mo) %>%\n",
    "        summarise(total_sales = sum(num_sold, na.rm = TRUE))\n",
    "    }\n",
    "    \n",
    "    # Apply the function to the filtered data  (GS: missed this part) \n",
    "    test_mo_na <- total_sales_per_month(filtered_product_na)\n",
    "    \n",
    "    # Perform a full join to combine count of NAs and total sales per month\n",
    "    final_df <- full_join(test_sum_na, test_mo_na, by = \"mo\")\n",
    "    \n",
    "    # Return the final dataframe\n",
    "    return(final_df)\n",
    "}"
   ]
  },
  {
   "cell_type": "code",
   "execution_count": 11,
   "id": "b29022ca-f25e-4f1f-bc03-5d301b4c5cb9",
   "metadata": {},
   "outputs": [],
   "source": [
    "# head(product_sales_and_na_mo(year_2010, \"Holographic Goose\"), 3)"
   ]
  },
  {
   "cell_type": "code",
   "execution_count": null,
   "id": "b9cd5b82-a3c2-4f08-b943-be2745d4a35a",
   "metadata": {},
   "outputs": [],
   "source": []
  },
  {
   "cell_type": "code",
   "execution_count": null,
   "id": "64c388e0-675a-421c-92ca-ced6541e18d5",
   "metadata": {},
   "outputs": [],
   "source": []
  },
  {
   "cell_type": "markdown",
   "id": "a24e1954-f045-4377-b2fc-36e1be8ed0ca",
   "metadata": {},
   "source": [
    "### <font color = lime> The Pattern:  Each Country(1:6) > Each store(1:3) > Each product (1:5) = 90 row cycles\n",
    "\n",
    "#### 1-1-5/ 1-1-5 / 1-1-5 (1 country/ each store / each product  { for each day => 90 rows }"
   ]
  },
  {
   "cell_type": "code",
   "execution_count": null,
   "id": "be688275-9121-4f16-96d3-399c61b26542",
   "metadata": {},
   "outputs": [],
   "source": []
  },
  {
   "cell_type": "markdown",
   "id": "153abb8e-a7c9-4a7e-83cc-04700482c970",
   "metadata": {},
   "source": [
    "### <font color = yellow> Cursory Evaluations for NAs - only found.: num_sold ... cat response feature"
   ]
  },
  {
   "cell_type": "code",
   "execution_count": 12,
   "id": "bf99346a-8312-4961-bed2-8c757fa82db1",
   "metadata": {},
   "outputs": [
    {
     "name": "stdout",
     "output_type": "stream",
     "text": [
      "Rows: 230,130\n",
      "Columns: 6\n",
      "$ id       \u001b[3m\u001b[90m<dbl>\u001b[39m\u001b[23m 0, 1, 2, 3, 4, 5, 6, 7, 8, 9, 10, 11, 12, 13, 14, 15, 16, 17,…\n",
      "$ date     \u001b[3m\u001b[90m<date>\u001b[39m\u001b[23m 2010-01-01, 2010-01-01, 2010-01-01, 2010-01-01, 2010-01-01, …\n",
      "$ country  \u001b[3m\u001b[90m<chr>\u001b[39m\u001b[23m \"Canada\", \"Canada\", \"Canada\", \"Canada\", \"Canada\", \"Canada\", \"…\n",
      "$ store    \u001b[3m\u001b[90m<chr>\u001b[39m\u001b[23m \"Discount Stickers\", \"Discount Stickers\", \"Discount Stickers\"…\n",
      "$ product  \u001b[3m\u001b[90m<chr>\u001b[39m\u001b[23m \"Holographic Goose\", \"Kaggle\", \"Kaggle Tiers\", \"Kerneler\", \"K…\n",
      "$ num_sold \u001b[3m\u001b[90m<dbl>\u001b[39m\u001b[23m \u001b[31mNA\u001b[39m, 973, 906, 423, 491, 300, 1837, 1659, 807, 940, 375, 2212,…\n"
     ]
    },
    {
     "data": {
      "text/plain": [
       "       id              date              country             store          \n",
       " Min.   :     0   Min.   :2010-01-01   Length:230130      Length:230130     \n",
       " 1st Qu.: 57532   1st Qu.:2011-10-02   Class :character   Class :character  \n",
       " Median :115065   Median :2013-07-02   Mode  :character   Mode  :character  \n",
       " Mean   :115065   Mean   :2013-07-02                                        \n",
       " 3rd Qu.:172597   3rd Qu.:2015-04-02                                        \n",
       " Max.   :230129   Max.   :2016-12-31                                        \n",
       "                                                                            \n",
       "   product             num_sold     \n",
       " Length:230130      Min.   :   5.0  \n",
       " Class :character   1st Qu.: 219.0  \n",
       " Mode  :character   Median : 605.0  \n",
       "                    Mean   : 752.5  \n",
       "                    3rd Qu.:1114.0  \n",
       "                    Max.   :5939.0  \n",
       "                    NA's   :8871    "
      ]
     },
     "metadata": {},
     "output_type": "display_data"
    }
   ],
   "source": [
    "glimpse(train)\n",
    "summary(train)"
   ]
  },
  {
   "cell_type": "markdown",
   "id": "7402a1c4-159b-4556-9a58-17ee41c4173e",
   "metadata": {},
   "source": [
    "### <font color = yellow> Expand the date to (year, month, day)"
   ]
  },
  {
   "cell_type": "code",
   "execution_count": 13,
   "id": "b47cbe35-2afc-4033-beb2-f9951a8a0331",
   "metadata": {},
   "outputs": [
    {
     "data": {
      "text/html": [
       "<table class=\"dataframe\">\n",
       "<caption>A tibble: 1 × 6</caption>\n",
       "<thead>\n",
       "\t<tr><th scope=col>id</th><th scope=col>date</th><th scope=col>country</th><th scope=col>store</th><th scope=col>product</th><th scope=col>num_sold</th></tr>\n",
       "\t<tr><th scope=col>&lt;dbl&gt;</th><th scope=col>&lt;date&gt;</th><th scope=col>&lt;chr&gt;</th><th scope=col>&lt;chr&gt;</th><th scope=col>&lt;chr&gt;</th><th scope=col>&lt;dbl&gt;</th></tr>\n",
       "</thead>\n",
       "<tbody>\n",
       "\t<tr><td>0</td><td>2010-01-01</td><td>Canada</td><td>Discount Stickers</td><td>Holographic Goose</td><td>NA</td></tr>\n",
       "</tbody>\n",
       "</table>\n"
      ],
      "text/latex": [
       "A tibble: 1 × 6\n",
       "\\begin{tabular}{llllll}\n",
       " id & date & country & store & product & num\\_sold\\\\\n",
       " <dbl> & <date> & <chr> & <chr> & <chr> & <dbl>\\\\\n",
       "\\hline\n",
       "\t 0 & 2010-01-01 & Canada & Discount Stickers & Holographic Goose & NA\\\\\n",
       "\\end{tabular}\n"
      ],
      "text/markdown": [
       "\n",
       "A tibble: 1 × 6\n",
       "\n",
       "| id &lt;dbl&gt; | date &lt;date&gt; | country &lt;chr&gt; | store &lt;chr&gt; | product &lt;chr&gt; | num_sold &lt;dbl&gt; |\n",
       "|---|---|---|---|---|---|\n",
       "| 0 | 2010-01-01 | Canada | Discount Stickers | Holographic Goose | NA |\n",
       "\n"
      ],
      "text/plain": [
       "  id date       country store             product           num_sold\n",
       "1 0  2010-01-01 Canada  Discount Stickers Holographic Goose NA      "
      ]
     },
     "metadata": {},
     "output_type": "display_data"
    }
   ],
   "source": [
    "head(train,1)"
   ]
  },
  {
   "cell_type": "code",
   "execution_count": 14,
   "id": "99b47e74-2c01-4281-95f3-6898d91d0ac9",
   "metadata": {},
   "outputs": [
    {
     "name": "stderr",
     "output_type": "stream",
     "text": [
      "Warning message:\n",
      "\"package 'lubridate' was built under R version 4.3.3\"\n",
      "\n",
      "Attaching package: 'lubridate'\n",
      "\n",
      "\n",
      "The following objects are masked from 'package:base':\n",
      "\n",
      "    date, intersect, setdiff, union\n",
      "\n",
      "\n"
     ]
    }
   ],
   "source": [
    "library(lubridate)\n",
    "# vignette(\"lubridate\")\n",
    "# vignette(\"lubridate\")"
   ]
  },
  {
   "cell_type": "markdown",
   "id": "9cf1bdbb-0788-496d-927d-5672021a54ae",
   "metadata": {},
   "source": [
    "## <font color = yellow> Add: year, mo, day, wkday variables"
   ]
  },
  {
   "cell_type": "code",
   "execution_count": 15,
   "id": "bc769de9-4188-40e8-8ec4-b03918dccde6",
   "metadata": {},
   "outputs": [
    {
     "data": {
      "text/html": [
       "<table class=\"dataframe\">\n",
       "<caption>A tibble: 2 × 10</caption>\n",
       "<thead>\n",
       "\t<tr><th scope=col>id</th><th scope=col>date</th><th scope=col>country</th><th scope=col>store</th><th scope=col>product</th><th scope=col>num_sold</th><th scope=col>year</th><th scope=col>mo</th><th scope=col>day</th><th scope=col>wkday</th></tr>\n",
       "\t<tr><th scope=col>&lt;dbl&gt;</th><th scope=col>&lt;date&gt;</th><th scope=col>&lt;chr&gt;</th><th scope=col>&lt;chr&gt;</th><th scope=col>&lt;chr&gt;</th><th scope=col>&lt;dbl&gt;</th><th scope=col>&lt;dbl&gt;</th><th scope=col>&lt;ord&gt;</th><th scope=col>&lt;int&gt;</th><th scope=col>&lt;ord&gt;</th></tr>\n",
       "</thead>\n",
       "<tbody>\n",
       "\t<tr><td>230128</td><td>2016-12-31</td><td>Singapore</td><td>Premium Sticker Mart</td><td>Kerneler          </td><td>1242</td><td>2016</td><td>Dec</td><td>31</td><td>Sat</td></tr>\n",
       "\t<tr><td>230129</td><td>2016-12-31</td><td>Singapore</td><td>Premium Sticker Mart</td><td>Kerneler Dark Mode</td><td>1622</td><td>2016</td><td>Dec</td><td>31</td><td>Sat</td></tr>\n",
       "</tbody>\n",
       "</table>\n"
      ],
      "text/latex": [
       "A tibble: 2 × 10\n",
       "\\begin{tabular}{llllllllll}\n",
       " id & date & country & store & product & num\\_sold & year & mo & day & wkday\\\\\n",
       " <dbl> & <date> & <chr> & <chr> & <chr> & <dbl> & <dbl> & <ord> & <int> & <ord>\\\\\n",
       "\\hline\n",
       "\t 230128 & 2016-12-31 & Singapore & Premium Sticker Mart & Kerneler           & 1242 & 2016 & Dec & 31 & Sat\\\\\n",
       "\t 230129 & 2016-12-31 & Singapore & Premium Sticker Mart & Kerneler Dark Mode & 1622 & 2016 & Dec & 31 & Sat\\\\\n",
       "\\end{tabular}\n"
      ],
      "text/markdown": [
       "\n",
       "A tibble: 2 × 10\n",
       "\n",
       "| id &lt;dbl&gt; | date &lt;date&gt; | country &lt;chr&gt; | store &lt;chr&gt; | product &lt;chr&gt; | num_sold &lt;dbl&gt; | year &lt;dbl&gt; | mo &lt;ord&gt; | day &lt;int&gt; | wkday &lt;ord&gt; |\n",
       "|---|---|---|---|---|---|---|---|---|---|\n",
       "| 230128 | 2016-12-31 | Singapore | Premium Sticker Mart | Kerneler           | 1242 | 2016 | Dec | 31 | Sat |\n",
       "| 230129 | 2016-12-31 | Singapore | Premium Sticker Mart | Kerneler Dark Mode | 1622 | 2016 | Dec | 31 | Sat |\n",
       "\n"
      ],
      "text/plain": [
       "  id     date       country   store                product            num_sold\n",
       "1 230128 2016-12-31 Singapore Premium Sticker Mart Kerneler           1242    \n",
       "2 230129 2016-12-31 Singapore Premium Sticker Mart Kerneler Dark Mode 1622    \n",
       "  year mo  day wkday\n",
       "1 2016 Dec 31  Sat  \n",
       "2 2016 Dec 31  Sat  "
      ]
     },
     "metadata": {},
     "output_type": "display_data"
    }
   ],
   "source": [
    "train <- train %>% mutate(year = year(date), mo = month(date , label = TRUE), day = day(date), wkday = wday(date, label = TRUE ) )\n",
    "tail(train, 2)"
   ]
  },
  {
   "cell_type": "code",
   "execution_count": null,
   "id": "533d0a45-8090-4976-b7b6-8f52ee4fff78",
   "metadata": {},
   "outputs": [],
   "source": []
  },
  {
   "cell_type": "markdown",
   "id": "c9945b85-585d-4808-b205-28d208b0d73a",
   "metadata": {},
   "source": [
    "# <font color = yellow> Create date arrays: Month / Year"
   ]
  },
  {
   "cell_type": "markdown",
   "id": "e8d3be0b-f7e1-45af-899b-6f616bb7a5eb",
   "metadata": {},
   "source": [
    "### <font color = yellow> month_list$mo "
   ]
  },
  {
   "cell_type": "code",
   "execution_count": 16,
   "id": "86ee67c8-0ae7-4a64-980e-84b220a293c4",
   "metadata": {},
   "outputs": [
    {
     "data": {
      "text/html": [
       "<table class=\"dataframe\">\n",
       "<caption>A tibble: 6 × 10</caption>\n",
       "<thead>\n",
       "\t<tr><th scope=col>id</th><th scope=col>date</th><th scope=col>country</th><th scope=col>store</th><th scope=col>product</th><th scope=col>num_sold</th><th scope=col>year</th><th scope=col>mo</th><th scope=col>day</th><th scope=col>wkday</th></tr>\n",
       "\t<tr><th scope=col>&lt;dbl&gt;</th><th scope=col>&lt;date&gt;</th><th scope=col>&lt;chr&gt;</th><th scope=col>&lt;chr&gt;</th><th scope=col>&lt;chr&gt;</th><th scope=col>&lt;dbl&gt;</th><th scope=col>&lt;dbl&gt;</th><th scope=col>&lt;ord&gt;</th><th scope=col>&lt;int&gt;</th><th scope=col>&lt;ord&gt;</th></tr>\n",
       "</thead>\n",
       "<tbody>\n",
       "\t<tr><td>2784</td><td>2010-01-31</td><td>Singapore</td><td>Stickers for Less   </td><td>Kerneler Dark Mode</td><td> 940</td><td>2010</td><td>Jan</td><td>31</td><td>Sun</td></tr>\n",
       "\t<tr><td>2785</td><td>2010-01-31</td><td>Singapore</td><td>Premium Sticker Mart</td><td>Holographic Goose </td><td> 305</td><td>2010</td><td>Jan</td><td>31</td><td>Sun</td></tr>\n",
       "\t<tr><td>2786</td><td>2010-01-31</td><td>Singapore</td><td>Premium Sticker Mart</td><td>Kaggle            </td><td>1700</td><td>2010</td><td>Jan</td><td>31</td><td>Sun</td></tr>\n",
       "\t<tr><td>2787</td><td>2010-01-31</td><td>Singapore</td><td>Premium Sticker Mart</td><td>Kaggle Tiers      </td><td>1537</td><td>2010</td><td>Jan</td><td>31</td><td>Sun</td></tr>\n",
       "\t<tr><td>2788</td><td>2010-01-31</td><td>Singapore</td><td>Premium Sticker Mart</td><td>Kerneler          </td><td> 741</td><td>2010</td><td>Jan</td><td>31</td><td>Sun</td></tr>\n",
       "\t<tr><td>2789</td><td>2010-01-31</td><td>Singapore</td><td>Premium Sticker Mart</td><td>Kerneler Dark Mode</td><td>1054</td><td>2010</td><td>Jan</td><td>31</td><td>Sun</td></tr>\n",
       "</tbody>\n",
       "</table>\n"
      ],
      "text/latex": [
       "A tibble: 6 × 10\n",
       "\\begin{tabular}{llllllllll}\n",
       " id & date & country & store & product & num\\_sold & year & mo & day & wkday\\\\\n",
       " <dbl> & <date> & <chr> & <chr> & <chr> & <dbl> & <dbl> & <ord> & <int> & <ord>\\\\\n",
       "\\hline\n",
       "\t 2784 & 2010-01-31 & Singapore & Stickers for Less    & Kerneler Dark Mode &  940 & 2010 & Jan & 31 & Sun\\\\\n",
       "\t 2785 & 2010-01-31 & Singapore & Premium Sticker Mart & Holographic Goose  &  305 & 2010 & Jan & 31 & Sun\\\\\n",
       "\t 2786 & 2010-01-31 & Singapore & Premium Sticker Mart & Kaggle             & 1700 & 2010 & Jan & 31 & Sun\\\\\n",
       "\t 2787 & 2010-01-31 & Singapore & Premium Sticker Mart & Kaggle Tiers       & 1537 & 2010 & Jan & 31 & Sun\\\\\n",
       "\t 2788 & 2010-01-31 & Singapore & Premium Sticker Mart & Kerneler           &  741 & 2010 & Jan & 31 & Sun\\\\\n",
       "\t 2789 & 2010-01-31 & Singapore & Premium Sticker Mart & Kerneler Dark Mode & 1054 & 2010 & Jan & 31 & Sun\\\\\n",
       "\\end{tabular}\n"
      ],
      "text/markdown": [
       "\n",
       "A tibble: 6 × 10\n",
       "\n",
       "| id &lt;dbl&gt; | date &lt;date&gt; | country &lt;chr&gt; | store &lt;chr&gt; | product &lt;chr&gt; | num_sold &lt;dbl&gt; | year &lt;dbl&gt; | mo &lt;ord&gt; | day &lt;int&gt; | wkday &lt;ord&gt; |\n",
       "|---|---|---|---|---|---|---|---|---|---|\n",
       "| 2784 | 2010-01-31 | Singapore | Stickers for Less    | Kerneler Dark Mode |  940 | 2010 | Jan | 31 | Sun |\n",
       "| 2785 | 2010-01-31 | Singapore | Premium Sticker Mart | Holographic Goose  |  305 | 2010 | Jan | 31 | Sun |\n",
       "| 2786 | 2010-01-31 | Singapore | Premium Sticker Mart | Kaggle             | 1700 | 2010 | Jan | 31 | Sun |\n",
       "| 2787 | 2010-01-31 | Singapore | Premium Sticker Mart | Kaggle Tiers       | 1537 | 2010 | Jan | 31 | Sun |\n",
       "| 2788 | 2010-01-31 | Singapore | Premium Sticker Mart | Kerneler           |  741 | 2010 | Jan | 31 | Sun |\n",
       "| 2789 | 2010-01-31 | Singapore | Premium Sticker Mart | Kerneler Dark Mode | 1054 | 2010 | Jan | 31 | Sun |\n",
       "\n"
      ],
      "text/plain": [
       "  id   date       country   store                product            num_sold\n",
       "1 2784 2010-01-31 Singapore Stickers for Less    Kerneler Dark Mode  940    \n",
       "2 2785 2010-01-31 Singapore Premium Sticker Mart Holographic Goose   305    \n",
       "3 2786 2010-01-31 Singapore Premium Sticker Mart Kaggle             1700    \n",
       "4 2787 2010-01-31 Singapore Premium Sticker Mart Kaggle Tiers       1537    \n",
       "5 2788 2010-01-31 Singapore Premium Sticker Mart Kerneler            741    \n",
       "6 2789 2010-01-31 Singapore Premium Sticker Mart Kerneler Dark Mode 1054    \n",
       "  year mo  day wkday\n",
       "1 2010 Jan 31  Sun  \n",
       "2 2010 Jan 31  Sun  \n",
       "3 2010 Jan 31  Sun  \n",
       "4 2010 Jan 31  Sun  \n",
       "5 2010 Jan 31  Sun  \n",
       "6 2010 Jan 31  Sun  "
      ]
     },
     "metadata": {},
     "output_type": "display_data"
    }
   ],
   "source": [
    "# Generate a sequence of 12 months from January to December\n",
    "months_array <- format(seq.Date(from = as.Date(\"2010-01-01\"), to = as.Date(\"2010-12-01\"), by = \"month\"), \"%b\")\n",
    "#print(months_array)\n",
    "\n",
    "# Generate an array to store the filtered data  (ALL Years)\n",
    "month_list <- list()\n",
    "\n",
    "# Loop through each month and filter the dataframe\n",
    "for (month in months_array) {\n",
    "  filtered_data <- train %>%\n",
    "    filter(month(date, label = TRUE) == month & year(date) == 2010)\n",
    "  month_list[[month]] <- filtered_data\n",
    "}\n",
    "\n",
    "tail(month_list$Jan)\n"
   ]
  },
  {
   "cell_type": "code",
   "execution_count": null,
   "id": "f8e16d4e-af95-4a1a-b89c-84fce016555e",
   "metadata": {},
   "outputs": [],
   "source": []
  },
  {
   "cell_type": "code",
   "execution_count": null,
   "id": "34dbcbbf-8c96-4e58-9433-a22bdf415935",
   "metadata": {},
   "outputs": [],
   "source": []
  },
  {
   "cell_type": "markdown",
   "id": "047ea810-7ba9-4229-849e-429980010a75",
   "metadata": {},
   "source": [
    "### <font color = yellow> filtered_year_20xx "
   ]
  },
  {
   "cell_type": "code",
   "execution_count": 17,
   "id": "90537568-24ac-45e8-842f-02227b81b227",
   "metadata": {
    "scrolled": true
   },
   "outputs": [
    {
     "name": "stdout",
     "output_type": "stream",
     "text": [
      "[1] 32850    10\n",
      "\u001b[90m# A tibble: 10 × 10\u001b[39m\n",
      "      id date       country   store     product num_sold  year mo      day wkday\n",
      "   \u001b[3m\u001b[90m<dbl>\u001b[39m\u001b[23m \u001b[3m\u001b[90m<date>\u001b[39m\u001b[23m     \u001b[3m\u001b[90m<chr>\u001b[39m\u001b[23m     \u001b[3m\u001b[90m<chr>\u001b[39m\u001b[23m     \u001b[3m\u001b[90m<chr>\u001b[39m\u001b[23m      \u001b[3m\u001b[90m<dbl>\u001b[39m\u001b[23m \u001b[3m\u001b[90m<dbl>\u001b[39m\u001b[23m \u001b[3m\u001b[90m<ord>\u001b[39m\u001b[23m \u001b[3m\u001b[90m<int>\u001b[39m\u001b[23m \u001b[3m\u001b[90m<ord>\u001b[39m\u001b[23m\n",
      "\u001b[90m 1\u001b[39m \u001b[4m6\u001b[24m\u001b[4m5\u001b[24m690 2011-12-31 Singapore Stickers… Hologr…      351  \u001b[4m2\u001b[24m011 Dec      31 Sat  \n",
      "\u001b[90m 2\u001b[39m \u001b[4m6\u001b[24m\u001b[4m5\u001b[24m691 2011-12-31 Singapore Stickers… Kaggle      \u001b[4m2\u001b[24m017  \u001b[4m2\u001b[24m011 Dec      31 Sat  \n",
      "\u001b[90m 3\u001b[39m \u001b[4m6\u001b[24m\u001b[4m5\u001b[24m692 2011-12-31 Singapore Stickers… Kaggle…     \u001b[4m1\u001b[24m870  \u001b[4m2\u001b[24m011 Dec      31 Sat  \n",
      "\u001b[90m 4\u001b[39m \u001b[4m6\u001b[24m\u001b[4m5\u001b[24m693 2011-12-31 Singapore Stickers… Kernel…      977  \u001b[4m2\u001b[24m011 Dec      31 Sat  \n",
      "\u001b[90m 5\u001b[39m \u001b[4m6\u001b[24m\u001b[4m5\u001b[24m694 2011-12-31 Singapore Stickers… Kernel…     \u001b[4m1\u001b[24m231  \u001b[4m2\u001b[24m011 Dec      31 Sat  \n",
      "\u001b[90m 6\u001b[39m \u001b[4m6\u001b[24m\u001b[4m5\u001b[24m695 2011-12-31 Singapore Premium … Hologr…      384  \u001b[4m2\u001b[24m011 Dec      31 Sat  \n",
      "\u001b[90m 7\u001b[39m \u001b[4m6\u001b[24m\u001b[4m5\u001b[24m696 2011-12-31 Singapore Premium … Kaggle      \u001b[4m2\u001b[24m668  \u001b[4m2\u001b[24m011 Dec      31 Sat  \n",
      "\u001b[90m 8\u001b[39m \u001b[4m6\u001b[24m\u001b[4m5\u001b[24m697 2011-12-31 Singapore Premium … Kaggle…     \u001b[4m2\u001b[24m520  \u001b[4m2\u001b[24m011 Dec      31 Sat  \n",
      "\u001b[90m 9\u001b[39m \u001b[4m6\u001b[24m\u001b[4m5\u001b[24m698 2011-12-31 Singapore Premium … Kernel…     \u001b[4m1\u001b[24m146  \u001b[4m2\u001b[24m011 Dec      31 Sat  \n",
      "\u001b[90m10\u001b[39m \u001b[4m6\u001b[24m\u001b[4m5\u001b[24m699 2011-12-31 Singapore Premium … Kernel…     \u001b[4m1\u001b[24m497  \u001b[4m2\u001b[24m011 Dec      31 Sat  \n",
      "[1] 32940    10\n",
      "\u001b[90m# A tibble: 10 × 10\u001b[39m\n",
      "      id date       country store       product num_sold  year mo      day wkday\n",
      "   \u001b[3m\u001b[90m<dbl>\u001b[39m\u001b[23m \u001b[3m\u001b[90m<date>\u001b[39m\u001b[23m     \u001b[3m\u001b[90m<chr>\u001b[39m\u001b[23m   \u001b[3m\u001b[90m<chr>\u001b[39m\u001b[23m       \u001b[3m\u001b[90m<chr>\u001b[39m\u001b[23m      \u001b[3m\u001b[90m<dbl>\u001b[39m\u001b[23m \u001b[3m\u001b[90m<dbl>\u001b[39m\u001b[23m \u001b[3m\u001b[90m<ord>\u001b[39m\u001b[23m \u001b[3m\u001b[90m<int>\u001b[39m\u001b[23m \u001b[3m\u001b[90m<ord>\u001b[39m\u001b[23m\n",
      "\u001b[90m 1\u001b[39m \u001b[4m6\u001b[24m\u001b[4m5\u001b[24m700 2012-01-01 Canada  Discount S… Hologr…       \u001b[31mNA\u001b[39m  \u001b[4m2\u001b[24m012 Jan       1 Sun  \n",
      "\u001b[90m 2\u001b[39m \u001b[4m6\u001b[24m\u001b[4m5\u001b[24m701 2012-01-01 Canada  Discount S… Kaggle      \u001b[4m1\u001b[24m142  \u001b[4m2\u001b[24m012 Jan       1 Sun  \n",
      "\u001b[90m 3\u001b[39m \u001b[4m6\u001b[24m\u001b[4m5\u001b[24m702 2012-01-01 Canada  Discount S… Kaggle…      983  \u001b[4m2\u001b[24m012 Jan       1 Sun  \n",
      "\u001b[90m 4\u001b[39m \u001b[4m6\u001b[24m\u001b[4m5\u001b[24m703 2012-01-01 Canada  Discount S… Kernel…      478  \u001b[4m2\u001b[24m012 Jan       1 Sun  \n",
      "\u001b[90m 5\u001b[39m \u001b[4m6\u001b[24m\u001b[4m5\u001b[24m704 2012-01-01 Canada  Discount S… Kernel…      576  \u001b[4m2\u001b[24m012 Jan       1 Sun  \n",
      "\u001b[90m 6\u001b[39m \u001b[4m6\u001b[24m\u001b[4m5\u001b[24m705 2012-01-01 Canada  Stickers f… Hologr…      349  \u001b[4m2\u001b[24m012 Jan       1 Sun  \n",
      "\u001b[90m 7\u001b[39m \u001b[4m6\u001b[24m\u001b[4m5\u001b[24m706 2012-01-01 Canada  Stickers f… Kaggle      \u001b[4m2\u001b[24m143  \u001b[4m2\u001b[24m012 Jan       1 Sun  \n",
      "\u001b[90m 8\u001b[39m \u001b[4m6\u001b[24m\u001b[4m5\u001b[24m707 2012-01-01 Canada  Stickers f… Kaggle…     \u001b[4m1\u001b[24m955  \u001b[4m2\u001b[24m012 Jan       1 Sun  \n",
      "\u001b[90m 9\u001b[39m \u001b[4m6\u001b[24m\u001b[4m5\u001b[24m708 2012-01-01 Canada  Stickers f… Kernel…      937  \u001b[4m2\u001b[24m012 Jan       1 Sun  \n",
      "\u001b[90m10\u001b[39m \u001b[4m6\u001b[24m\u001b[4m5\u001b[24m709 2012-01-01 Canada  Stickers f… Kernel…      978  \u001b[4m2\u001b[24m012 Jan       1 Sun  \n"
     ]
    }
   ],
   "source": [
    "# Create array w/range of years\n",
    "years_array <- seq(2010, 2016, by = 1)\n",
    "\n",
    "# Generate an array to store the filtered data\n",
    "year_list <- list()\n",
    "\n",
    "# Loop through each year and filter the dataframe\n",
    "for (year in years_array) {\n",
    "  filtered_data <- train %>%\n",
    "    filter(year == !!year)  # Use the correct variable inside the filter\n",
    "  year_list[[as.character(year)]] <- filtered_data\n",
    "}\n",
    "\n",
    "# Function to return filtered data for a specific year\n",
    "get_filtered_year <- function(year) {\n",
    "  year_list[[as.character(year)]]\n",
    "}\n",
    "\n",
    "# Example: Accessing the dataframe for the year 2011\n",
    "filtered_year_2011 <- get_filtered_year(2011)\n",
    "print(dim(filtered_year_2011))\n",
    "print(tail(filtered_year_2011, 10))\n",
    "\n",
    "# Example: Accessing the dataframe for the year 2012\n",
    "filtered_year_2012 <- get_filtered_year(2012)\n",
    "print(dim(filtered_year_2012))\n",
    "print(head(filtered_year_2012, 10))\n"
   ]
  },
  {
   "cell_type": "code",
   "execution_count": null,
   "id": "4632cc19-defa-40a6-9a43-d059a0d5b5bf",
   "metadata": {},
   "outputs": [],
   "source": []
  },
  {
   "cell_type": "code",
   "execution_count": null,
   "id": "48054b06-c622-49e8-b9a1-8d06ca1e19bd",
   "metadata": {},
   "outputs": [],
   "source": []
  },
  {
   "cell_type": "markdown",
   "id": "b6620b8a-01af-4476-b3ec-a406bf2ec64d",
   "metadata": {},
   "source": [
    "## <font color = yellow> Primary Cycle: 6 countries repeat in 90 row cycles"
   ]
  },
  {
   "cell_type": "code",
   "execution_count": 18,
   "id": "d7dcde20-a482-4554-8d91-3a9f98446e76",
   "metadata": {},
   "outputs": [
    {
     "data": {
      "text/html": [
       "<table class=\"dataframe\">\n",
       "<caption>A tibble: 2 × 10</caption>\n",
       "<thead>\n",
       "\t<tr><th scope=col>id</th><th scope=col>date</th><th scope=col>country</th><th scope=col>store</th><th scope=col>product</th><th scope=col>num_sold</th><th scope=col>year</th><th scope=col>mo</th><th scope=col>day</th><th scope=col>wkday</th></tr>\n",
       "\t<tr><th scope=col>&lt;dbl&gt;</th><th scope=col>&lt;date&gt;</th><th scope=col>&lt;chr&gt;</th><th scope=col>&lt;chr&gt;</th><th scope=col>&lt;chr&gt;</th><th scope=col>&lt;dbl&gt;</th><th scope=col>&lt;dbl&gt;</th><th scope=col>&lt;ord&gt;</th><th scope=col>&lt;int&gt;</th><th scope=col>&lt;ord&gt;</th></tr>\n",
       "</thead>\n",
       "<tbody>\n",
       "\t<tr><td>0</td><td>2010-01-01</td><td>Canada</td><td>Discount Stickers</td><td>Holographic Goose</td><td> NA</td><td>2010</td><td>Jan</td><td>1</td><td>Fri</td></tr>\n",
       "\t<tr><td>1</td><td>2010-01-01</td><td>Canada</td><td>Discount Stickers</td><td>Kaggle           </td><td>973</td><td>2010</td><td>Jan</td><td>1</td><td>Fri</td></tr>\n",
       "</tbody>\n",
       "</table>\n"
      ],
      "text/latex": [
       "A tibble: 2 × 10\n",
       "\\begin{tabular}{llllllllll}\n",
       " id & date & country & store & product & num\\_sold & year & mo & day & wkday\\\\\n",
       " <dbl> & <date> & <chr> & <chr> & <chr> & <dbl> & <dbl> & <ord> & <int> & <ord>\\\\\n",
       "\\hline\n",
       "\t 0 & 2010-01-01 & Canada & Discount Stickers & Holographic Goose &  NA & 2010 & Jan & 1 & Fri\\\\\n",
       "\t 1 & 2010-01-01 & Canada & Discount Stickers & Kaggle            & 973 & 2010 & Jan & 1 & Fri\\\\\n",
       "\\end{tabular}\n"
      ],
      "text/markdown": [
       "\n",
       "A tibble: 2 × 10\n",
       "\n",
       "| id &lt;dbl&gt; | date &lt;date&gt; | country &lt;chr&gt; | store &lt;chr&gt; | product &lt;chr&gt; | num_sold &lt;dbl&gt; | year &lt;dbl&gt; | mo &lt;ord&gt; | day &lt;int&gt; | wkday &lt;ord&gt; |\n",
       "|---|---|---|---|---|---|---|---|---|---|\n",
       "| 0 | 2010-01-01 | Canada | Discount Stickers | Holographic Goose |  NA | 2010 | Jan | 1 | Fri |\n",
       "| 1 | 2010-01-01 | Canada | Discount Stickers | Kaggle            | 973 | 2010 | Jan | 1 | Fri |\n",
       "\n"
      ],
      "text/plain": [
       "  id date       country store             product           num_sold year mo \n",
       "1 0  2010-01-01 Canada  Discount Stickers Holographic Goose  NA      2010 Jan\n",
       "2 1  2010-01-01 Canada  Discount Stickers Kaggle            973      2010 Jan\n",
       "  day wkday\n",
       "1 1   Fri  \n",
       "2 1   Fri  "
      ]
     },
     "metadata": {},
     "output_type": "display_data"
    },
    {
     "data": {
      "text/html": [
       "<table class=\"dataframe\">\n",
       "<caption>A tibble: 3 × 10</caption>\n",
       "<thead>\n",
       "\t<tr><th scope=col>id</th><th scope=col>date</th><th scope=col>country</th><th scope=col>store</th><th scope=col>product</th><th scope=col>num_sold</th><th scope=col>year</th><th scope=col>mo</th><th scope=col>day</th><th scope=col>wkday</th></tr>\n",
       "\t<tr><th scope=col>&lt;dbl&gt;</th><th scope=col>&lt;date&gt;</th><th scope=col>&lt;chr&gt;</th><th scope=col>&lt;chr&gt;</th><th scope=col>&lt;chr&gt;</th><th scope=col>&lt;dbl&gt;</th><th scope=col>&lt;dbl&gt;</th><th scope=col>&lt;ord&gt;</th><th scope=col>&lt;int&gt;</th><th scope=col>&lt;ord&gt;</th></tr>\n",
       "</thead>\n",
       "<tbody>\n",
       "\t<tr><td>89</td><td>2010-01-01</td><td>Singapore</td><td>Premium Sticker Mart</td><td>Kerneler Dark Mode</td><td>1255</td><td>2010</td><td>Jan</td><td>1</td><td>Fri</td></tr>\n",
       "\t<tr><td>90</td><td>2010-01-02</td><td>Canada   </td><td>Discount Stickers   </td><td>Holographic Goose </td><td>  NA</td><td>2010</td><td>Jan</td><td>2</td><td>Sat</td></tr>\n",
       "\t<tr><td>91</td><td>2010-01-02</td><td>Canada   </td><td>Discount Stickers   </td><td>Kaggle            </td><td> 881</td><td>2010</td><td>Jan</td><td>2</td><td>Sat</td></tr>\n",
       "</tbody>\n",
       "</table>\n"
      ],
      "text/latex": [
       "A tibble: 3 × 10\n",
       "\\begin{tabular}{llllllllll}\n",
       " id & date & country & store & product & num\\_sold & year & mo & day & wkday\\\\\n",
       " <dbl> & <date> & <chr> & <chr> & <chr> & <dbl> & <dbl> & <ord> & <int> & <ord>\\\\\n",
       "\\hline\n",
       "\t 89 & 2010-01-01 & Singapore & Premium Sticker Mart & Kerneler Dark Mode & 1255 & 2010 & Jan & 1 & Fri\\\\\n",
       "\t 90 & 2010-01-02 & Canada    & Discount Stickers    & Holographic Goose  &   NA & 2010 & Jan & 2 & Sat\\\\\n",
       "\t 91 & 2010-01-02 & Canada    & Discount Stickers    & Kaggle             &  881 & 2010 & Jan & 2 & Sat\\\\\n",
       "\\end{tabular}\n"
      ],
      "text/markdown": [
       "\n",
       "A tibble: 3 × 10\n",
       "\n",
       "| id &lt;dbl&gt; | date &lt;date&gt; | country &lt;chr&gt; | store &lt;chr&gt; | product &lt;chr&gt; | num_sold &lt;dbl&gt; | year &lt;dbl&gt; | mo &lt;ord&gt; | day &lt;int&gt; | wkday &lt;ord&gt; |\n",
       "|---|---|---|---|---|---|---|---|---|---|\n",
       "| 89 | 2010-01-01 | Singapore | Premium Sticker Mart | Kerneler Dark Mode | 1255 | 2010 | Jan | 1 | Fri |\n",
       "| 90 | 2010-01-02 | Canada    | Discount Stickers    | Holographic Goose  |   NA | 2010 | Jan | 2 | Sat |\n",
       "| 91 | 2010-01-02 | Canada    | Discount Stickers    | Kaggle             |  881 | 2010 | Jan | 2 | Sat |\n",
       "\n"
      ],
      "text/plain": [
       "  id date       country   store                product            num_sold year\n",
       "1 89 2010-01-01 Singapore Premium Sticker Mart Kerneler Dark Mode 1255     2010\n",
       "2 90 2010-01-02 Canada    Discount Stickers    Holographic Goose    NA     2010\n",
       "3 91 2010-01-02 Canada    Discount Stickers    Kaggle              881     2010\n",
       "  mo  day wkday\n",
       "1 Jan 1   Fri  \n",
       "2 Jan 2   Sat  \n",
       "3 Jan 2   Sat  "
      ]
     },
     "metadata": {},
     "output_type": "display_data"
    }
   ],
   "source": [
    "head(train[1:92,],2)\n",
    "tail(train[1:92, ], 3)  # beginning of repeated cycle on Jan 2"
   ]
  },
  {
   "cell_type": "markdown",
   "id": "069948ca-881e-4ec2-ae96-b39a16a1e1a1",
   "metadata": {},
   "source": [
    "### <font color = yellow> Create reference dfs:"
   ]
  },
  {
   "cell_type": "code",
   "execution_count": 19,
   "id": "cd411c75-a746-4b9d-80e9-58c05610b682",
   "metadata": {},
   "outputs": [],
   "source": [
    "# Create the key data frames\n",
    "country_df <- data.frame(\n",
    "  Num = 1:6,\n",
    "  Country = c(\"Canada\", \"Finland\", \"Italy\", \"Kenya\", \"Norway\", \"Singapore\")\n",
    ")\n",
    "\n",
    "product_df <- data.frame(\n",
    "  Num = 1:5,\n",
    "  Product = c(\"Holographic Goose\", \"Kaggle\", \"Kaggle Tiers\", \"Kerneler\", \"Kerneler Dark Mode\")\n",
    ")\n",
    "\n",
    "store_df <- data.frame(\n",
    "  Num = 1:3,\n",
    "  Store = c(\"Discount Stickers\", \"Stickers for Less\", \"Premium Sticker Mart\"),\n",
    "  kenya <- c(64, 46, 1358)   \n",
    ")\n"
   ]
  },
  {
   "cell_type": "code",
   "execution_count": 20,
   "id": "a749736f-82e5-4c82-bfb2-13fbb0f82c63",
   "metadata": {},
   "outputs": [
    {
     "data": {
      "text/html": [
       "<style>\n",
       ".list-inline {list-style: none; margin:0; padding: 0}\n",
       ".list-inline>li {display: inline-block}\n",
       ".list-inline>li:not(:last-child)::after {content: \"\\00b7\"; padding: 0 .5ex}\n",
       "</style>\n",
       "<ol class=list-inline><li>'id'</li><li>'date'</li><li>'country'</li><li>'store'</li><li>'product'</li><li>'num_sold'</li><li>'year'</li><li>'mo'</li><li>'day'</li><li>'wkday'</li></ol>\n"
      ],
      "text/latex": [
       "\\begin{enumerate*}\n",
       "\\item 'id'\n",
       "\\item 'date'\n",
       "\\item 'country'\n",
       "\\item 'store'\n",
       "\\item 'product'\n",
       "\\item 'num\\_sold'\n",
       "\\item 'year'\n",
       "\\item 'mo'\n",
       "\\item 'day'\n",
       "\\item 'wkday'\n",
       "\\end{enumerate*}\n"
      ],
      "text/markdown": [
       "1. 'id'\n",
       "2. 'date'\n",
       "3. 'country'\n",
       "4. 'store'\n",
       "5. 'product'\n",
       "6. 'num_sold'\n",
       "7. 'year'\n",
       "8. 'mo'\n",
       "9. 'day'\n",
       "10. 'wkday'\n",
       "\n",
       "\n"
      ],
      "text/plain": [
       " [1] \"id\"       \"date\"     \"country\"  \"store\"    \"product\"  \"num_sold\"\n",
       " [7] \"year\"     \"mo\"       \"day\"      \"wkday\"   "
      ]
     },
     "metadata": {},
     "output_type": "display_data"
    }
   ],
   "source": [
    "names(train)"
   ]
  },
  {
   "cell_type": "markdown",
   "id": "48c34c3e-57a5-4d08-b1f5-179df8cbe412",
   "metadata": {},
   "source": [
    "### <font color = lime> Pattern 1: Country(6) x Product(5) x Store(3) = 90 rows ( = 1 day)\n",
    "\n",
    "##### Pattern 1: Every 90 rows: Canada / Discount Stickers / Holographic Goose == NA"
   ]
  },
  {
   "cell_type": "code",
   "execution_count": 21,
   "id": "e396c298-79cc-47f1-bf7c-8eccb9fdbc12",
   "metadata": {},
   "outputs": [
    {
     "data": {
      "text/html": [
       "<table class=\"dataframe\">\n",
       "<caption>A tibble: 93 × 10</caption>\n",
       "<thead>\n",
       "\t<tr><th scope=col>id</th><th scope=col>date</th><th scope=col>country</th><th scope=col>store</th><th scope=col>product</th><th scope=col>num_sold</th><th scope=col>year</th><th scope=col>mo</th><th scope=col>day</th><th scope=col>wkday</th></tr>\n",
       "\t<tr><th scope=col>&lt;dbl&gt;</th><th scope=col>&lt;date&gt;</th><th scope=col>&lt;chr&gt;</th><th scope=col>&lt;chr&gt;</th><th scope=col>&lt;chr&gt;</th><th scope=col>&lt;dbl&gt;</th><th scope=col>&lt;dbl&gt;</th><th scope=col>&lt;ord&gt;</th><th scope=col>&lt;int&gt;</th><th scope=col>&lt;ord&gt;</th></tr>\n",
       "</thead>\n",
       "<tbody>\n",
       "\t<tr><td> 45</td><td>2010-01-01</td><td>Kenya</td><td>Discount Stickers   </td><td>Holographic Goose</td><td>NA</td><td>2010</td><td>Jan</td><td> 1</td><td>Fri</td></tr>\n",
       "\t<tr><td> 50</td><td>2010-01-01</td><td>Kenya</td><td>Stickers for Less   </td><td>Holographic Goose</td><td> 5</td><td>2010</td><td>Jan</td><td> 1</td><td>Fri</td></tr>\n",
       "\t<tr><td> 55</td><td>2010-01-01</td><td>Kenya</td><td>Premium Sticker Mart</td><td>Holographic Goose</td><td> 7</td><td>2010</td><td>Jan</td><td> 1</td><td>Fri</td></tr>\n",
       "\t<tr><td>135</td><td>2010-01-02</td><td>Kenya</td><td>Discount Stickers   </td><td>Holographic Goose</td><td>NA</td><td>2010</td><td>Jan</td><td> 2</td><td>Sat</td></tr>\n",
       "\t<tr><td>140</td><td>2010-01-02</td><td>Kenya</td><td>Stickers for Less   </td><td>Holographic Goose</td><td> 5</td><td>2010</td><td>Jan</td><td> 2</td><td>Sat</td></tr>\n",
       "\t<tr><td>145</td><td>2010-01-02</td><td>Kenya</td><td>Premium Sticker Mart</td><td>Holographic Goose</td><td> 6</td><td>2010</td><td>Jan</td><td> 2</td><td>Sat</td></tr>\n",
       "\t<tr><td>225</td><td>2010-01-03</td><td>Kenya</td><td>Discount Stickers   </td><td>Holographic Goose</td><td>NA</td><td>2010</td><td>Jan</td><td> 3</td><td>Sun</td></tr>\n",
       "\t<tr><td>230</td><td>2010-01-03</td><td>Kenya</td><td>Stickers for Less   </td><td>Holographic Goose</td><td> 5</td><td>2010</td><td>Jan</td><td> 3</td><td>Sun</td></tr>\n",
       "\t<tr><td>235</td><td>2010-01-03</td><td>Kenya</td><td>Premium Sticker Mart</td><td>Holographic Goose</td><td> 7</td><td>2010</td><td>Jan</td><td> 3</td><td>Sun</td></tr>\n",
       "\t<tr><td>315</td><td>2010-01-04</td><td>Kenya</td><td>Discount Stickers   </td><td>Holographic Goose</td><td>NA</td><td>2010</td><td>Jan</td><td> 4</td><td>Mon</td></tr>\n",
       "\t<tr><td>320</td><td>2010-01-04</td><td>Kenya</td><td>Stickers for Less   </td><td>Holographic Goose</td><td>NA</td><td>2010</td><td>Jan</td><td> 4</td><td>Mon</td></tr>\n",
       "\t<tr><td>325</td><td>2010-01-04</td><td>Kenya</td><td>Premium Sticker Mart</td><td>Holographic Goose</td><td> 5</td><td>2010</td><td>Jan</td><td> 4</td><td>Mon</td></tr>\n",
       "\t<tr><td>405</td><td>2010-01-05</td><td>Kenya</td><td>Discount Stickers   </td><td>Holographic Goose</td><td>NA</td><td>2010</td><td>Jan</td><td> 5</td><td>Tue</td></tr>\n",
       "\t<tr><td>410</td><td>2010-01-05</td><td>Kenya</td><td>Stickers for Less   </td><td>Holographic Goose</td><td>NA</td><td>2010</td><td>Jan</td><td> 5</td><td>Tue</td></tr>\n",
       "\t<tr><td>415</td><td>2010-01-05</td><td>Kenya</td><td>Premium Sticker Mart</td><td>Holographic Goose</td><td> 5</td><td>2010</td><td>Jan</td><td> 5</td><td>Tue</td></tr>\n",
       "\t<tr><td>495</td><td>2010-01-06</td><td>Kenya</td><td>Discount Stickers   </td><td>Holographic Goose</td><td>NA</td><td>2010</td><td>Jan</td><td> 6</td><td>Wed</td></tr>\n",
       "\t<tr><td>500</td><td>2010-01-06</td><td>Kenya</td><td>Stickers for Less   </td><td>Holographic Goose</td><td>NA</td><td>2010</td><td>Jan</td><td> 6</td><td>Wed</td></tr>\n",
       "\t<tr><td>505</td><td>2010-01-06</td><td>Kenya</td><td>Premium Sticker Mart</td><td>Holographic Goose</td><td>NA</td><td>2010</td><td>Jan</td><td> 6</td><td>Wed</td></tr>\n",
       "\t<tr><td>585</td><td>2010-01-07</td><td>Kenya</td><td>Discount Stickers   </td><td>Holographic Goose</td><td>NA</td><td>2010</td><td>Jan</td><td> 7</td><td>Thu</td></tr>\n",
       "\t<tr><td>590</td><td>2010-01-07</td><td>Kenya</td><td>Stickers for Less   </td><td>Holographic Goose</td><td>NA</td><td>2010</td><td>Jan</td><td> 7</td><td>Thu</td></tr>\n",
       "\t<tr><td>595</td><td>2010-01-07</td><td>Kenya</td><td>Premium Sticker Mart</td><td>Holographic Goose</td><td>NA</td><td>2010</td><td>Jan</td><td> 7</td><td>Thu</td></tr>\n",
       "\t<tr><td>675</td><td>2010-01-08</td><td>Kenya</td><td>Discount Stickers   </td><td>Holographic Goose</td><td>NA</td><td>2010</td><td>Jan</td><td> 8</td><td>Fri</td></tr>\n",
       "\t<tr><td>680</td><td>2010-01-08</td><td>Kenya</td><td>Stickers for Less   </td><td>Holographic Goose</td><td>NA</td><td>2010</td><td>Jan</td><td> 8</td><td>Fri</td></tr>\n",
       "\t<tr><td>685</td><td>2010-01-08</td><td>Kenya</td><td>Premium Sticker Mart</td><td>Holographic Goose</td><td> 5</td><td>2010</td><td>Jan</td><td> 8</td><td>Fri</td></tr>\n",
       "\t<tr><td>765</td><td>2010-01-09</td><td>Kenya</td><td>Discount Stickers   </td><td>Holographic Goose</td><td>NA</td><td>2010</td><td>Jan</td><td> 9</td><td>Sat</td></tr>\n",
       "\t<tr><td>770</td><td>2010-01-09</td><td>Kenya</td><td>Stickers for Less   </td><td>Holographic Goose</td><td>NA</td><td>2010</td><td>Jan</td><td> 9</td><td>Sat</td></tr>\n",
       "\t<tr><td>775</td><td>2010-01-09</td><td>Kenya</td><td>Premium Sticker Mart</td><td>Holographic Goose</td><td> 5</td><td>2010</td><td>Jan</td><td> 9</td><td>Sat</td></tr>\n",
       "\t<tr><td>855</td><td>2010-01-10</td><td>Kenya</td><td>Discount Stickers   </td><td>Holographic Goose</td><td>NA</td><td>2010</td><td>Jan</td><td>10</td><td>Sun</td></tr>\n",
       "\t<tr><td>860</td><td>2010-01-10</td><td>Kenya</td><td>Stickers for Less   </td><td>Holographic Goose</td><td> 5</td><td>2010</td><td>Jan</td><td>10</td><td>Sun</td></tr>\n",
       "\t<tr><td>865</td><td>2010-01-10</td><td>Kenya</td><td>Premium Sticker Mart</td><td>Holographic Goose</td><td> 5</td><td>2010</td><td>Jan</td><td>10</td><td>Sun</td></tr>\n",
       "\t<tr><td>⋮</td><td>⋮</td><td>⋮</td><td>⋮</td><td>⋮</td><td>⋮</td><td>⋮</td><td>⋮</td><td>⋮</td><td>⋮</td></tr>\n",
       "\t<tr><td>1935</td><td>2010-01-22</td><td>Kenya</td><td>Discount Stickers   </td><td>Holographic Goose</td><td>NA</td><td>2010</td><td>Jan</td><td>22</td><td>Fri</td></tr>\n",
       "\t<tr><td>1940</td><td>2010-01-22</td><td>Kenya</td><td>Stickers for Less   </td><td>Holographic Goose</td><td>NA</td><td>2010</td><td>Jan</td><td>22</td><td>Fri</td></tr>\n",
       "\t<tr><td>1945</td><td>2010-01-22</td><td>Kenya</td><td>Premium Sticker Mart</td><td>Holographic Goose</td><td>NA</td><td>2010</td><td>Jan</td><td>22</td><td>Fri</td></tr>\n",
       "\t<tr><td>2025</td><td>2010-01-23</td><td>Kenya</td><td>Discount Stickers   </td><td>Holographic Goose</td><td>NA</td><td>2010</td><td>Jan</td><td>23</td><td>Sat</td></tr>\n",
       "\t<tr><td>2030</td><td>2010-01-23</td><td>Kenya</td><td>Stickers for Less   </td><td>Holographic Goose</td><td>NA</td><td>2010</td><td>Jan</td><td>23</td><td>Sat</td></tr>\n",
       "\t<tr><td>2035</td><td>2010-01-23</td><td>Kenya</td><td>Premium Sticker Mart</td><td>Holographic Goose</td><td> 5</td><td>2010</td><td>Jan</td><td>23</td><td>Sat</td></tr>\n",
       "\t<tr><td>2115</td><td>2010-01-24</td><td>Kenya</td><td>Discount Stickers   </td><td>Holographic Goose</td><td>NA</td><td>2010</td><td>Jan</td><td>24</td><td>Sun</td></tr>\n",
       "\t<tr><td>2120</td><td>2010-01-24</td><td>Kenya</td><td>Stickers for Less   </td><td>Holographic Goose</td><td> 5</td><td>2010</td><td>Jan</td><td>24</td><td>Sun</td></tr>\n",
       "\t<tr><td>2125</td><td>2010-01-24</td><td>Kenya</td><td>Premium Sticker Mart</td><td>Holographic Goose</td><td> 5</td><td>2010</td><td>Jan</td><td>24</td><td>Sun</td></tr>\n",
       "\t<tr><td>2205</td><td>2010-01-25</td><td>Kenya</td><td>Discount Stickers   </td><td>Holographic Goose</td><td>NA</td><td>2010</td><td>Jan</td><td>25</td><td>Mon</td></tr>\n",
       "\t<tr><td>2210</td><td>2010-01-25</td><td>Kenya</td><td>Stickers for Less   </td><td>Holographic Goose</td><td>NA</td><td>2010</td><td>Jan</td><td>25</td><td>Mon</td></tr>\n",
       "\t<tr><td>2215</td><td>2010-01-25</td><td>Kenya</td><td>Premium Sticker Mart</td><td>Holographic Goose</td><td>NA</td><td>2010</td><td>Jan</td><td>25</td><td>Mon</td></tr>\n",
       "\t<tr><td>2295</td><td>2010-01-26</td><td>Kenya</td><td>Discount Stickers   </td><td>Holographic Goose</td><td>NA</td><td>2010</td><td>Jan</td><td>26</td><td>Tue</td></tr>\n",
       "\t<tr><td>2300</td><td>2010-01-26</td><td>Kenya</td><td>Stickers for Less   </td><td>Holographic Goose</td><td>NA</td><td>2010</td><td>Jan</td><td>26</td><td>Tue</td></tr>\n",
       "\t<tr><td>2305</td><td>2010-01-26</td><td>Kenya</td><td>Premium Sticker Mart</td><td>Holographic Goose</td><td>NA</td><td>2010</td><td>Jan</td><td>26</td><td>Tue</td></tr>\n",
       "\t<tr><td>2385</td><td>2010-01-27</td><td>Kenya</td><td>Discount Stickers   </td><td>Holographic Goose</td><td>NA</td><td>2010</td><td>Jan</td><td>27</td><td>Wed</td></tr>\n",
       "\t<tr><td>2390</td><td>2010-01-27</td><td>Kenya</td><td>Stickers for Less   </td><td>Holographic Goose</td><td>NA</td><td>2010</td><td>Jan</td><td>27</td><td>Wed</td></tr>\n",
       "\t<tr><td>2395</td><td>2010-01-27</td><td>Kenya</td><td>Premium Sticker Mart</td><td>Holographic Goose</td><td>NA</td><td>2010</td><td>Jan</td><td>27</td><td>Wed</td></tr>\n",
       "\t<tr><td>2475</td><td>2010-01-28</td><td>Kenya</td><td>Discount Stickers   </td><td>Holographic Goose</td><td>NA</td><td>2010</td><td>Jan</td><td>28</td><td>Thu</td></tr>\n",
       "\t<tr><td>2480</td><td>2010-01-28</td><td>Kenya</td><td>Stickers for Less   </td><td>Holographic Goose</td><td>NA</td><td>2010</td><td>Jan</td><td>28</td><td>Thu</td></tr>\n",
       "\t<tr><td>2485</td><td>2010-01-28</td><td>Kenya</td><td>Premium Sticker Mart</td><td>Holographic Goose</td><td>NA</td><td>2010</td><td>Jan</td><td>28</td><td>Thu</td></tr>\n",
       "\t<tr><td>2565</td><td>2010-01-29</td><td>Kenya</td><td>Discount Stickers   </td><td>Holographic Goose</td><td>NA</td><td>2010</td><td>Jan</td><td>29</td><td>Fri</td></tr>\n",
       "\t<tr><td>2570</td><td>2010-01-29</td><td>Kenya</td><td>Stickers for Less   </td><td>Holographic Goose</td><td>NA</td><td>2010</td><td>Jan</td><td>29</td><td>Fri</td></tr>\n",
       "\t<tr><td>2575</td><td>2010-01-29</td><td>Kenya</td><td>Premium Sticker Mart</td><td>Holographic Goose</td><td>NA</td><td>2010</td><td>Jan</td><td>29</td><td>Fri</td></tr>\n",
       "\t<tr><td>2655</td><td>2010-01-30</td><td>Kenya</td><td>Discount Stickers   </td><td>Holographic Goose</td><td>NA</td><td>2010</td><td>Jan</td><td>30</td><td>Sat</td></tr>\n",
       "\t<tr><td>2660</td><td>2010-01-30</td><td>Kenya</td><td>Stickers for Less   </td><td>Holographic Goose</td><td>NA</td><td>2010</td><td>Jan</td><td>30</td><td>Sat</td></tr>\n",
       "\t<tr><td>2665</td><td>2010-01-30</td><td>Kenya</td><td>Premium Sticker Mart</td><td>Holographic Goose</td><td> 5</td><td>2010</td><td>Jan</td><td>30</td><td>Sat</td></tr>\n",
       "\t<tr><td>2745</td><td>2010-01-31</td><td>Kenya</td><td>Discount Stickers   </td><td>Holographic Goose</td><td>NA</td><td>2010</td><td>Jan</td><td>31</td><td>Sun</td></tr>\n",
       "\t<tr><td>2750</td><td>2010-01-31</td><td>Kenya</td><td>Stickers for Less   </td><td>Holographic Goose</td><td>NA</td><td>2010</td><td>Jan</td><td>31</td><td>Sun</td></tr>\n",
       "\t<tr><td>2755</td><td>2010-01-31</td><td>Kenya</td><td>Premium Sticker Mart</td><td>Holographic Goose</td><td> 5</td><td>2010</td><td>Jan</td><td>31</td><td>Sun</td></tr>\n",
       "</tbody>\n",
       "</table>\n"
      ],
      "text/latex": [
       "A tibble: 93 × 10\n",
       "\\begin{tabular}{llllllllll}\n",
       " id & date & country & store & product & num\\_sold & year & mo & day & wkday\\\\\n",
       " <dbl> & <date> & <chr> & <chr> & <chr> & <dbl> & <dbl> & <ord> & <int> & <ord>\\\\\n",
       "\\hline\n",
       "\t  45 & 2010-01-01 & Kenya & Discount Stickers    & Holographic Goose & NA & 2010 & Jan &  1 & Fri\\\\\n",
       "\t  50 & 2010-01-01 & Kenya & Stickers for Less    & Holographic Goose &  5 & 2010 & Jan &  1 & Fri\\\\\n",
       "\t  55 & 2010-01-01 & Kenya & Premium Sticker Mart & Holographic Goose &  7 & 2010 & Jan &  1 & Fri\\\\\n",
       "\t 135 & 2010-01-02 & Kenya & Discount Stickers    & Holographic Goose & NA & 2010 & Jan &  2 & Sat\\\\\n",
       "\t 140 & 2010-01-02 & Kenya & Stickers for Less    & Holographic Goose &  5 & 2010 & Jan &  2 & Sat\\\\\n",
       "\t 145 & 2010-01-02 & Kenya & Premium Sticker Mart & Holographic Goose &  6 & 2010 & Jan &  2 & Sat\\\\\n",
       "\t 225 & 2010-01-03 & Kenya & Discount Stickers    & Holographic Goose & NA & 2010 & Jan &  3 & Sun\\\\\n",
       "\t 230 & 2010-01-03 & Kenya & Stickers for Less    & Holographic Goose &  5 & 2010 & Jan &  3 & Sun\\\\\n",
       "\t 235 & 2010-01-03 & Kenya & Premium Sticker Mart & Holographic Goose &  7 & 2010 & Jan &  3 & Sun\\\\\n",
       "\t 315 & 2010-01-04 & Kenya & Discount Stickers    & Holographic Goose & NA & 2010 & Jan &  4 & Mon\\\\\n",
       "\t 320 & 2010-01-04 & Kenya & Stickers for Less    & Holographic Goose & NA & 2010 & Jan &  4 & Mon\\\\\n",
       "\t 325 & 2010-01-04 & Kenya & Premium Sticker Mart & Holographic Goose &  5 & 2010 & Jan &  4 & Mon\\\\\n",
       "\t 405 & 2010-01-05 & Kenya & Discount Stickers    & Holographic Goose & NA & 2010 & Jan &  5 & Tue\\\\\n",
       "\t 410 & 2010-01-05 & Kenya & Stickers for Less    & Holographic Goose & NA & 2010 & Jan &  5 & Tue\\\\\n",
       "\t 415 & 2010-01-05 & Kenya & Premium Sticker Mart & Holographic Goose &  5 & 2010 & Jan &  5 & Tue\\\\\n",
       "\t 495 & 2010-01-06 & Kenya & Discount Stickers    & Holographic Goose & NA & 2010 & Jan &  6 & Wed\\\\\n",
       "\t 500 & 2010-01-06 & Kenya & Stickers for Less    & Holographic Goose & NA & 2010 & Jan &  6 & Wed\\\\\n",
       "\t 505 & 2010-01-06 & Kenya & Premium Sticker Mart & Holographic Goose & NA & 2010 & Jan &  6 & Wed\\\\\n",
       "\t 585 & 2010-01-07 & Kenya & Discount Stickers    & Holographic Goose & NA & 2010 & Jan &  7 & Thu\\\\\n",
       "\t 590 & 2010-01-07 & Kenya & Stickers for Less    & Holographic Goose & NA & 2010 & Jan &  7 & Thu\\\\\n",
       "\t 595 & 2010-01-07 & Kenya & Premium Sticker Mart & Holographic Goose & NA & 2010 & Jan &  7 & Thu\\\\\n",
       "\t 675 & 2010-01-08 & Kenya & Discount Stickers    & Holographic Goose & NA & 2010 & Jan &  8 & Fri\\\\\n",
       "\t 680 & 2010-01-08 & Kenya & Stickers for Less    & Holographic Goose & NA & 2010 & Jan &  8 & Fri\\\\\n",
       "\t 685 & 2010-01-08 & Kenya & Premium Sticker Mart & Holographic Goose &  5 & 2010 & Jan &  8 & Fri\\\\\n",
       "\t 765 & 2010-01-09 & Kenya & Discount Stickers    & Holographic Goose & NA & 2010 & Jan &  9 & Sat\\\\\n",
       "\t 770 & 2010-01-09 & Kenya & Stickers for Less    & Holographic Goose & NA & 2010 & Jan &  9 & Sat\\\\\n",
       "\t 775 & 2010-01-09 & Kenya & Premium Sticker Mart & Holographic Goose &  5 & 2010 & Jan &  9 & Sat\\\\\n",
       "\t 855 & 2010-01-10 & Kenya & Discount Stickers    & Holographic Goose & NA & 2010 & Jan & 10 & Sun\\\\\n",
       "\t 860 & 2010-01-10 & Kenya & Stickers for Less    & Holographic Goose &  5 & 2010 & Jan & 10 & Sun\\\\\n",
       "\t 865 & 2010-01-10 & Kenya & Premium Sticker Mart & Holographic Goose &  5 & 2010 & Jan & 10 & Sun\\\\\n",
       "\t ⋮ & ⋮ & ⋮ & ⋮ & ⋮ & ⋮ & ⋮ & ⋮ & ⋮ & ⋮\\\\\n",
       "\t 1935 & 2010-01-22 & Kenya & Discount Stickers    & Holographic Goose & NA & 2010 & Jan & 22 & Fri\\\\\n",
       "\t 1940 & 2010-01-22 & Kenya & Stickers for Less    & Holographic Goose & NA & 2010 & Jan & 22 & Fri\\\\\n",
       "\t 1945 & 2010-01-22 & Kenya & Premium Sticker Mart & Holographic Goose & NA & 2010 & Jan & 22 & Fri\\\\\n",
       "\t 2025 & 2010-01-23 & Kenya & Discount Stickers    & Holographic Goose & NA & 2010 & Jan & 23 & Sat\\\\\n",
       "\t 2030 & 2010-01-23 & Kenya & Stickers for Less    & Holographic Goose & NA & 2010 & Jan & 23 & Sat\\\\\n",
       "\t 2035 & 2010-01-23 & Kenya & Premium Sticker Mart & Holographic Goose &  5 & 2010 & Jan & 23 & Sat\\\\\n",
       "\t 2115 & 2010-01-24 & Kenya & Discount Stickers    & Holographic Goose & NA & 2010 & Jan & 24 & Sun\\\\\n",
       "\t 2120 & 2010-01-24 & Kenya & Stickers for Less    & Holographic Goose &  5 & 2010 & Jan & 24 & Sun\\\\\n",
       "\t 2125 & 2010-01-24 & Kenya & Premium Sticker Mart & Holographic Goose &  5 & 2010 & Jan & 24 & Sun\\\\\n",
       "\t 2205 & 2010-01-25 & Kenya & Discount Stickers    & Holographic Goose & NA & 2010 & Jan & 25 & Mon\\\\\n",
       "\t 2210 & 2010-01-25 & Kenya & Stickers for Less    & Holographic Goose & NA & 2010 & Jan & 25 & Mon\\\\\n",
       "\t 2215 & 2010-01-25 & Kenya & Premium Sticker Mart & Holographic Goose & NA & 2010 & Jan & 25 & Mon\\\\\n",
       "\t 2295 & 2010-01-26 & Kenya & Discount Stickers    & Holographic Goose & NA & 2010 & Jan & 26 & Tue\\\\\n",
       "\t 2300 & 2010-01-26 & Kenya & Stickers for Less    & Holographic Goose & NA & 2010 & Jan & 26 & Tue\\\\\n",
       "\t 2305 & 2010-01-26 & Kenya & Premium Sticker Mart & Holographic Goose & NA & 2010 & Jan & 26 & Tue\\\\\n",
       "\t 2385 & 2010-01-27 & Kenya & Discount Stickers    & Holographic Goose & NA & 2010 & Jan & 27 & Wed\\\\\n",
       "\t 2390 & 2010-01-27 & Kenya & Stickers for Less    & Holographic Goose & NA & 2010 & Jan & 27 & Wed\\\\\n",
       "\t 2395 & 2010-01-27 & Kenya & Premium Sticker Mart & Holographic Goose & NA & 2010 & Jan & 27 & Wed\\\\\n",
       "\t 2475 & 2010-01-28 & Kenya & Discount Stickers    & Holographic Goose & NA & 2010 & Jan & 28 & Thu\\\\\n",
       "\t 2480 & 2010-01-28 & Kenya & Stickers for Less    & Holographic Goose & NA & 2010 & Jan & 28 & Thu\\\\\n",
       "\t 2485 & 2010-01-28 & Kenya & Premium Sticker Mart & Holographic Goose & NA & 2010 & Jan & 28 & Thu\\\\\n",
       "\t 2565 & 2010-01-29 & Kenya & Discount Stickers    & Holographic Goose & NA & 2010 & Jan & 29 & Fri\\\\\n",
       "\t 2570 & 2010-01-29 & Kenya & Stickers for Less    & Holographic Goose & NA & 2010 & Jan & 29 & Fri\\\\\n",
       "\t 2575 & 2010-01-29 & Kenya & Premium Sticker Mart & Holographic Goose & NA & 2010 & Jan & 29 & Fri\\\\\n",
       "\t 2655 & 2010-01-30 & Kenya & Discount Stickers    & Holographic Goose & NA & 2010 & Jan & 30 & Sat\\\\\n",
       "\t 2660 & 2010-01-30 & Kenya & Stickers for Less    & Holographic Goose & NA & 2010 & Jan & 30 & Sat\\\\\n",
       "\t 2665 & 2010-01-30 & Kenya & Premium Sticker Mart & Holographic Goose &  5 & 2010 & Jan & 30 & Sat\\\\\n",
       "\t 2745 & 2010-01-31 & Kenya & Discount Stickers    & Holographic Goose & NA & 2010 & Jan & 31 & Sun\\\\\n",
       "\t 2750 & 2010-01-31 & Kenya & Stickers for Less    & Holographic Goose & NA & 2010 & Jan & 31 & Sun\\\\\n",
       "\t 2755 & 2010-01-31 & Kenya & Premium Sticker Mart & Holographic Goose &  5 & 2010 & Jan & 31 & Sun\\\\\n",
       "\\end{tabular}\n"
      ],
      "text/markdown": [
       "\n",
       "A tibble: 93 × 10\n",
       "\n",
       "| id &lt;dbl&gt; | date &lt;date&gt; | country &lt;chr&gt; | store &lt;chr&gt; | product &lt;chr&gt; | num_sold &lt;dbl&gt; | year &lt;dbl&gt; | mo &lt;ord&gt; | day &lt;int&gt; | wkday &lt;ord&gt; |\n",
       "|---|---|---|---|---|---|---|---|---|---|\n",
       "|  45 | 2010-01-01 | Kenya | Discount Stickers    | Holographic Goose | NA | 2010 | Jan |  1 | Fri |\n",
       "|  50 | 2010-01-01 | Kenya | Stickers for Less    | Holographic Goose |  5 | 2010 | Jan |  1 | Fri |\n",
       "|  55 | 2010-01-01 | Kenya | Premium Sticker Mart | Holographic Goose |  7 | 2010 | Jan |  1 | Fri |\n",
       "| 135 | 2010-01-02 | Kenya | Discount Stickers    | Holographic Goose | NA | 2010 | Jan |  2 | Sat |\n",
       "| 140 | 2010-01-02 | Kenya | Stickers for Less    | Holographic Goose |  5 | 2010 | Jan |  2 | Sat |\n",
       "| 145 | 2010-01-02 | Kenya | Premium Sticker Mart | Holographic Goose |  6 | 2010 | Jan |  2 | Sat |\n",
       "| 225 | 2010-01-03 | Kenya | Discount Stickers    | Holographic Goose | NA | 2010 | Jan |  3 | Sun |\n",
       "| 230 | 2010-01-03 | Kenya | Stickers for Less    | Holographic Goose |  5 | 2010 | Jan |  3 | Sun |\n",
       "| 235 | 2010-01-03 | Kenya | Premium Sticker Mart | Holographic Goose |  7 | 2010 | Jan |  3 | Sun |\n",
       "| 315 | 2010-01-04 | Kenya | Discount Stickers    | Holographic Goose | NA | 2010 | Jan |  4 | Mon |\n",
       "| 320 | 2010-01-04 | Kenya | Stickers for Less    | Holographic Goose | NA | 2010 | Jan |  4 | Mon |\n",
       "| 325 | 2010-01-04 | Kenya | Premium Sticker Mart | Holographic Goose |  5 | 2010 | Jan |  4 | Mon |\n",
       "| 405 | 2010-01-05 | Kenya | Discount Stickers    | Holographic Goose | NA | 2010 | Jan |  5 | Tue |\n",
       "| 410 | 2010-01-05 | Kenya | Stickers for Less    | Holographic Goose | NA | 2010 | Jan |  5 | Tue |\n",
       "| 415 | 2010-01-05 | Kenya | Premium Sticker Mart | Holographic Goose |  5 | 2010 | Jan |  5 | Tue |\n",
       "| 495 | 2010-01-06 | Kenya | Discount Stickers    | Holographic Goose | NA | 2010 | Jan |  6 | Wed |\n",
       "| 500 | 2010-01-06 | Kenya | Stickers for Less    | Holographic Goose | NA | 2010 | Jan |  6 | Wed |\n",
       "| 505 | 2010-01-06 | Kenya | Premium Sticker Mart | Holographic Goose | NA | 2010 | Jan |  6 | Wed |\n",
       "| 585 | 2010-01-07 | Kenya | Discount Stickers    | Holographic Goose | NA | 2010 | Jan |  7 | Thu |\n",
       "| 590 | 2010-01-07 | Kenya | Stickers for Less    | Holographic Goose | NA | 2010 | Jan |  7 | Thu |\n",
       "| 595 | 2010-01-07 | Kenya | Premium Sticker Mart | Holographic Goose | NA | 2010 | Jan |  7 | Thu |\n",
       "| 675 | 2010-01-08 | Kenya | Discount Stickers    | Holographic Goose | NA | 2010 | Jan |  8 | Fri |\n",
       "| 680 | 2010-01-08 | Kenya | Stickers for Less    | Holographic Goose | NA | 2010 | Jan |  8 | Fri |\n",
       "| 685 | 2010-01-08 | Kenya | Premium Sticker Mart | Holographic Goose |  5 | 2010 | Jan |  8 | Fri |\n",
       "| 765 | 2010-01-09 | Kenya | Discount Stickers    | Holographic Goose | NA | 2010 | Jan |  9 | Sat |\n",
       "| 770 | 2010-01-09 | Kenya | Stickers for Less    | Holographic Goose | NA | 2010 | Jan |  9 | Sat |\n",
       "| 775 | 2010-01-09 | Kenya | Premium Sticker Mart | Holographic Goose |  5 | 2010 | Jan |  9 | Sat |\n",
       "| 855 | 2010-01-10 | Kenya | Discount Stickers    | Holographic Goose | NA | 2010 | Jan | 10 | Sun |\n",
       "| 860 | 2010-01-10 | Kenya | Stickers for Less    | Holographic Goose |  5 | 2010 | Jan | 10 | Sun |\n",
       "| 865 | 2010-01-10 | Kenya | Premium Sticker Mart | Holographic Goose |  5 | 2010 | Jan | 10 | Sun |\n",
       "| ⋮ | ⋮ | ⋮ | ⋮ | ⋮ | ⋮ | ⋮ | ⋮ | ⋮ | ⋮ |\n",
       "| 1935 | 2010-01-22 | Kenya | Discount Stickers    | Holographic Goose | NA | 2010 | Jan | 22 | Fri |\n",
       "| 1940 | 2010-01-22 | Kenya | Stickers for Less    | Holographic Goose | NA | 2010 | Jan | 22 | Fri |\n",
       "| 1945 | 2010-01-22 | Kenya | Premium Sticker Mart | Holographic Goose | NA | 2010 | Jan | 22 | Fri |\n",
       "| 2025 | 2010-01-23 | Kenya | Discount Stickers    | Holographic Goose | NA | 2010 | Jan | 23 | Sat |\n",
       "| 2030 | 2010-01-23 | Kenya | Stickers for Less    | Holographic Goose | NA | 2010 | Jan | 23 | Sat |\n",
       "| 2035 | 2010-01-23 | Kenya | Premium Sticker Mart | Holographic Goose |  5 | 2010 | Jan | 23 | Sat |\n",
       "| 2115 | 2010-01-24 | Kenya | Discount Stickers    | Holographic Goose | NA | 2010 | Jan | 24 | Sun |\n",
       "| 2120 | 2010-01-24 | Kenya | Stickers for Less    | Holographic Goose |  5 | 2010 | Jan | 24 | Sun |\n",
       "| 2125 | 2010-01-24 | Kenya | Premium Sticker Mart | Holographic Goose |  5 | 2010 | Jan | 24 | Sun |\n",
       "| 2205 | 2010-01-25 | Kenya | Discount Stickers    | Holographic Goose | NA | 2010 | Jan | 25 | Mon |\n",
       "| 2210 | 2010-01-25 | Kenya | Stickers for Less    | Holographic Goose | NA | 2010 | Jan | 25 | Mon |\n",
       "| 2215 | 2010-01-25 | Kenya | Premium Sticker Mart | Holographic Goose | NA | 2010 | Jan | 25 | Mon |\n",
       "| 2295 | 2010-01-26 | Kenya | Discount Stickers    | Holographic Goose | NA | 2010 | Jan | 26 | Tue |\n",
       "| 2300 | 2010-01-26 | Kenya | Stickers for Less    | Holographic Goose | NA | 2010 | Jan | 26 | Tue |\n",
       "| 2305 | 2010-01-26 | Kenya | Premium Sticker Mart | Holographic Goose | NA | 2010 | Jan | 26 | Tue |\n",
       "| 2385 | 2010-01-27 | Kenya | Discount Stickers    | Holographic Goose | NA | 2010 | Jan | 27 | Wed |\n",
       "| 2390 | 2010-01-27 | Kenya | Stickers for Less    | Holographic Goose | NA | 2010 | Jan | 27 | Wed |\n",
       "| 2395 | 2010-01-27 | Kenya | Premium Sticker Mart | Holographic Goose | NA | 2010 | Jan | 27 | Wed |\n",
       "| 2475 | 2010-01-28 | Kenya | Discount Stickers    | Holographic Goose | NA | 2010 | Jan | 28 | Thu |\n",
       "| 2480 | 2010-01-28 | Kenya | Stickers for Less    | Holographic Goose | NA | 2010 | Jan | 28 | Thu |\n",
       "| 2485 | 2010-01-28 | Kenya | Premium Sticker Mart | Holographic Goose | NA | 2010 | Jan | 28 | Thu |\n",
       "| 2565 | 2010-01-29 | Kenya | Discount Stickers    | Holographic Goose | NA | 2010 | Jan | 29 | Fri |\n",
       "| 2570 | 2010-01-29 | Kenya | Stickers for Less    | Holographic Goose | NA | 2010 | Jan | 29 | Fri |\n",
       "| 2575 | 2010-01-29 | Kenya | Premium Sticker Mart | Holographic Goose | NA | 2010 | Jan | 29 | Fri |\n",
       "| 2655 | 2010-01-30 | Kenya | Discount Stickers    | Holographic Goose | NA | 2010 | Jan | 30 | Sat |\n",
       "| 2660 | 2010-01-30 | Kenya | Stickers for Less    | Holographic Goose | NA | 2010 | Jan | 30 | Sat |\n",
       "| 2665 | 2010-01-30 | Kenya | Premium Sticker Mart | Holographic Goose |  5 | 2010 | Jan | 30 | Sat |\n",
       "| 2745 | 2010-01-31 | Kenya | Discount Stickers    | Holographic Goose | NA | 2010 | Jan | 31 | Sun |\n",
       "| 2750 | 2010-01-31 | Kenya | Stickers for Less    | Holographic Goose | NA | 2010 | Jan | 31 | Sun |\n",
       "| 2755 | 2010-01-31 | Kenya | Premium Sticker Mart | Holographic Goose |  5 | 2010 | Jan | 31 | Sun |\n",
       "\n"
      ],
      "text/plain": [
       "   id   date       country store                product           num_sold year\n",
       "1   45  2010-01-01 Kenya   Discount Stickers    Holographic Goose NA       2010\n",
       "2   50  2010-01-01 Kenya   Stickers for Less    Holographic Goose  5       2010\n",
       "3   55  2010-01-01 Kenya   Premium Sticker Mart Holographic Goose  7       2010\n",
       "4  135  2010-01-02 Kenya   Discount Stickers    Holographic Goose NA       2010\n",
       "5  140  2010-01-02 Kenya   Stickers for Less    Holographic Goose  5       2010\n",
       "6  145  2010-01-02 Kenya   Premium Sticker Mart Holographic Goose  6       2010\n",
       "7  225  2010-01-03 Kenya   Discount Stickers    Holographic Goose NA       2010\n",
       "8  230  2010-01-03 Kenya   Stickers for Less    Holographic Goose  5       2010\n",
       "9  235  2010-01-03 Kenya   Premium Sticker Mart Holographic Goose  7       2010\n",
       "10 315  2010-01-04 Kenya   Discount Stickers    Holographic Goose NA       2010\n",
       "11 320  2010-01-04 Kenya   Stickers for Less    Holographic Goose NA       2010\n",
       "12 325  2010-01-04 Kenya   Premium Sticker Mart Holographic Goose  5       2010\n",
       "13 405  2010-01-05 Kenya   Discount Stickers    Holographic Goose NA       2010\n",
       "14 410  2010-01-05 Kenya   Stickers for Less    Holographic Goose NA       2010\n",
       "15 415  2010-01-05 Kenya   Premium Sticker Mart Holographic Goose  5       2010\n",
       "16 495  2010-01-06 Kenya   Discount Stickers    Holographic Goose NA       2010\n",
       "17 500  2010-01-06 Kenya   Stickers for Less    Holographic Goose NA       2010\n",
       "18 505  2010-01-06 Kenya   Premium Sticker Mart Holographic Goose NA       2010\n",
       "19 585  2010-01-07 Kenya   Discount Stickers    Holographic Goose NA       2010\n",
       "20 590  2010-01-07 Kenya   Stickers for Less    Holographic Goose NA       2010\n",
       "21 595  2010-01-07 Kenya   Premium Sticker Mart Holographic Goose NA       2010\n",
       "22 675  2010-01-08 Kenya   Discount Stickers    Holographic Goose NA       2010\n",
       "23 680  2010-01-08 Kenya   Stickers for Less    Holographic Goose NA       2010\n",
       "24 685  2010-01-08 Kenya   Premium Sticker Mart Holographic Goose  5       2010\n",
       "25 765  2010-01-09 Kenya   Discount Stickers    Holographic Goose NA       2010\n",
       "26 770  2010-01-09 Kenya   Stickers for Less    Holographic Goose NA       2010\n",
       "27 775  2010-01-09 Kenya   Premium Sticker Mart Holographic Goose  5       2010\n",
       "28 855  2010-01-10 Kenya   Discount Stickers    Holographic Goose NA       2010\n",
       "29 860  2010-01-10 Kenya   Stickers for Less    Holographic Goose  5       2010\n",
       "30 865  2010-01-10 Kenya   Premium Sticker Mart Holographic Goose  5       2010\n",
       "⋮  ⋮    ⋮          ⋮       ⋮                    ⋮                 ⋮        ⋮   \n",
       "64 1935 2010-01-22 Kenya   Discount Stickers    Holographic Goose NA       2010\n",
       "65 1940 2010-01-22 Kenya   Stickers for Less    Holographic Goose NA       2010\n",
       "66 1945 2010-01-22 Kenya   Premium Sticker Mart Holographic Goose NA       2010\n",
       "67 2025 2010-01-23 Kenya   Discount Stickers    Holographic Goose NA       2010\n",
       "68 2030 2010-01-23 Kenya   Stickers for Less    Holographic Goose NA       2010\n",
       "69 2035 2010-01-23 Kenya   Premium Sticker Mart Holographic Goose  5       2010\n",
       "70 2115 2010-01-24 Kenya   Discount Stickers    Holographic Goose NA       2010\n",
       "71 2120 2010-01-24 Kenya   Stickers for Less    Holographic Goose  5       2010\n",
       "72 2125 2010-01-24 Kenya   Premium Sticker Mart Holographic Goose  5       2010\n",
       "73 2205 2010-01-25 Kenya   Discount Stickers    Holographic Goose NA       2010\n",
       "74 2210 2010-01-25 Kenya   Stickers for Less    Holographic Goose NA       2010\n",
       "75 2215 2010-01-25 Kenya   Premium Sticker Mart Holographic Goose NA       2010\n",
       "76 2295 2010-01-26 Kenya   Discount Stickers    Holographic Goose NA       2010\n",
       "77 2300 2010-01-26 Kenya   Stickers for Less    Holographic Goose NA       2010\n",
       "78 2305 2010-01-26 Kenya   Premium Sticker Mart Holographic Goose NA       2010\n",
       "79 2385 2010-01-27 Kenya   Discount Stickers    Holographic Goose NA       2010\n",
       "80 2390 2010-01-27 Kenya   Stickers for Less    Holographic Goose NA       2010\n",
       "81 2395 2010-01-27 Kenya   Premium Sticker Mart Holographic Goose NA       2010\n",
       "82 2475 2010-01-28 Kenya   Discount Stickers    Holographic Goose NA       2010\n",
       "83 2480 2010-01-28 Kenya   Stickers for Less    Holographic Goose NA       2010\n",
       "84 2485 2010-01-28 Kenya   Premium Sticker Mart Holographic Goose NA       2010\n",
       "85 2565 2010-01-29 Kenya   Discount Stickers    Holographic Goose NA       2010\n",
       "86 2570 2010-01-29 Kenya   Stickers for Less    Holographic Goose NA       2010\n",
       "87 2575 2010-01-29 Kenya   Premium Sticker Mart Holographic Goose NA       2010\n",
       "88 2655 2010-01-30 Kenya   Discount Stickers    Holographic Goose NA       2010\n",
       "89 2660 2010-01-30 Kenya   Stickers for Less    Holographic Goose NA       2010\n",
       "90 2665 2010-01-30 Kenya   Premium Sticker Mart Holographic Goose  5       2010\n",
       "91 2745 2010-01-31 Kenya   Discount Stickers    Holographic Goose NA       2010\n",
       "92 2750 2010-01-31 Kenya   Stickers for Less    Holographic Goose NA       2010\n",
       "93 2755 2010-01-31 Kenya   Premium Sticker Mart Holographic Goose  5       2010\n",
       "   mo  day wkday\n",
       "1  Jan  1  Fri  \n",
       "2  Jan  1  Fri  \n",
       "3  Jan  1  Fri  \n",
       "4  Jan  2  Sat  \n",
       "5  Jan  2  Sat  \n",
       "6  Jan  2  Sat  \n",
       "7  Jan  3  Sun  \n",
       "8  Jan  3  Sun  \n",
       "9  Jan  3  Sun  \n",
       "10 Jan  4  Mon  \n",
       "11 Jan  4  Mon  \n",
       "12 Jan  4  Mon  \n",
       "13 Jan  5  Tue  \n",
       "14 Jan  5  Tue  \n",
       "15 Jan  5  Tue  \n",
       "16 Jan  6  Wed  \n",
       "17 Jan  6  Wed  \n",
       "18 Jan  6  Wed  \n",
       "19 Jan  7  Thu  \n",
       "20 Jan  7  Thu  \n",
       "21 Jan  7  Thu  \n",
       "22 Jan  8  Fri  \n",
       "23 Jan  8  Fri  \n",
       "24 Jan  8  Fri  \n",
       "25 Jan  9  Sat  \n",
       "26 Jan  9  Sat  \n",
       "27 Jan  9  Sat  \n",
       "28 Jan 10  Sun  \n",
       "29 Jan 10  Sun  \n",
       "30 Jan 10  Sun  \n",
       "⋮  ⋮   ⋮   ⋮    \n",
       "64 Jan 22  Fri  \n",
       "65 Jan 22  Fri  \n",
       "66 Jan 22  Fri  \n",
       "67 Jan 23  Sat  \n",
       "68 Jan 23  Sat  \n",
       "69 Jan 23  Sat  \n",
       "70 Jan 24  Sun  \n",
       "71 Jan 24  Sun  \n",
       "72 Jan 24  Sun  \n",
       "73 Jan 25  Mon  \n",
       "74 Jan 25  Mon  \n",
       "75 Jan 25  Mon  \n",
       "76 Jan 26  Tue  \n",
       "77 Jan 26  Tue  \n",
       "78 Jan 26  Tue  \n",
       "79 Jan 27  Wed  \n",
       "80 Jan 27  Wed  \n",
       "81 Jan 27  Wed  \n",
       "82 Jan 28  Thu  \n",
       "83 Jan 28  Thu  \n",
       "84 Jan 28  Thu  \n",
       "85 Jan 29  Fri  \n",
       "86 Jan 29  Fri  \n",
       "87 Jan 29  Fri  \n",
       "88 Jan 30  Sat  \n",
       "89 Jan 30  Sat  \n",
       "90 Jan 30  Sat  \n",
       "91 Jan 31  Sun  \n",
       "92 Jan 31  Sun  \n",
       "93 Jan 31  Sun  "
      ]
     },
     "metadata": {},
     "output_type": "display_data"
    }
   ],
   "source": [
    "kenya_Jan_Holograph <- head(month_list$Jan %>% filter(year == \"2010\" & country == \"Kenya\" & product == \"Holographic Goose\"), 100)  # & is.na(num_sold)  )\n",
    "kenya_Jan_Holograph"
   ]
  },
  {
   "cell_type": "code",
   "execution_count": null,
   "id": "3bcf6386-5551-46cc-a549-fab060fedf8f",
   "metadata": {},
   "outputs": [],
   "source": []
  },
  {
   "cell_type": "markdown",
   "id": "f9d730cf-28ef-4c17-bd26-da79d02f3080",
   "metadata": {},
   "source": [
    "## <font color = yellow> Total NAs: initial"
   ]
  },
  {
   "cell_type": "code",
   "execution_count": 22,
   "id": "220429a8-653b-4865-ab14-7e570c1ccbc7",
   "metadata": {},
   "outputs": [
    {
     "data": {
      "text/html": [
       "8871"
      ],
      "text/latex": [
       "8871"
      ],
      "text/markdown": [
       "8871"
      ],
      "text/plain": [
       "[1] 8871"
      ]
     },
     "metadata": {},
     "output_type": "display_data"
    }
   ],
   "source": [
    "# est initial na count\n",
    "tally_na <- sum(is.na(train))\n",
    "sum(is.na(train))"
   ]
  },
  {
   "cell_type": "markdown",
   "id": "8a0fc36f-43fd-4ed1-9b9f-f42c3f7a719f",
   "metadata": {},
   "source": [
    "# <font color = lime> Explore / Remove: NA pattern - no sales/all years"
   ]
  },
  {
   "cell_type": "markdown",
   "id": "6d54c767-5234-4c05-8483-014d0c64f42e",
   "metadata": {},
   "source": [
    "## <font color = lime> train: remove all NA - no sales \n",
    "\n",
    "##### ALL Kenya/ filter(country == \"Kenya\" & store == \"Discount Stickers\" & product == \"Holographic Goose\") \n",
    "\n",
    " - NO SALES: it would be more appropriate to remove the store/product combination."
   ]
  },
  {
   "cell_type": "code",
   "execution_count": 23,
   "id": "8664fa09-b847-4921-bce9-797545a9e3ad",
   "metadata": {},
   "outputs": [
    {
     "data": {
      "text/html": [
       "2557"
      ],
      "text/latex": [
       "2557"
      ],
      "text/markdown": [
       "2557"
      ],
      "text/plain": [
       "[1] 2557"
      ]
     },
     "metadata": {},
     "output_type": "display_data"
    },
    {
     "data": {
      "text/html": [
       "<style>\n",
       ".list-inline {list-style: none; margin:0; padding: 0}\n",
       ".list-inline>li {display: inline-block}\n",
       ".list-inline>li:not(:last-child)::after {content: \"\\00b7\"; padding: 0 .5ex}\n",
       "</style>\n",
       "<ol class=list-inline><li>230130</li><li>10</li></ol>\n"
      ],
      "text/latex": [
       "\\begin{enumerate*}\n",
       "\\item 230130\n",
       "\\item 10\n",
       "\\end{enumerate*}\n"
      ],
      "text/markdown": [
       "1. 230130\n",
       "2. 10\n",
       "\n",
       "\n"
      ],
      "text/plain": [
       "[1] 230130     10"
      ]
     },
     "metadata": {},
     "output_type": "display_data"
    },
    {
     "name": "stdout",
     "output_type": "stream",
     "text": [
      "\n",
      "\n",
      " The dim of train after filtering is:  227573 10 \n",
      "\n",
      "\n"
     ]
    },
    {
     "data": {
      "text/html": [
       "0"
      ],
      "text/latex": [
       "0"
      ],
      "text/markdown": [
       "0"
      ],
      "text/plain": [
       "[1] 0"
      ]
     },
     "metadata": {},
     "output_type": "display_data"
    }
   ],
   "source": [
    "# Review NA before / after \n",
    "sum(is.na(train %>% filter(country == \"Kenya\" & store == \"Discount Stickers\" & product == \"Holographic Goose\")))\n",
    "\n",
    "dim(train)\n",
    "train <- train %>% filter(!(country == \"Kenya\" & store == \"Discount Stickers\" & product == \"Holographic Goose\")) \n",
    "cat(\"\\n\\n The dim of train after filtering is: \", dim(train), \"\\n\\n\\n\")\n",
    "sum(is.na(train %>% filter(country == \"Kenya\" & store == \"Discount Stickers\" & product == \"Holographic Goose\")))"
   ]
  },
  {
   "cell_type": "markdown",
   "id": "efdc5298-3ada-4aa3-946f-7812f8feac3e",
   "metadata": {},
   "source": [
    "## <font color = yellow> Update total NAs: "
   ]
  },
  {
   "cell_type": "code",
   "execution_count": 24,
   "id": "7fc9ecb3-c2d9-4137-acb2-f5df9e1ac95b",
   "metadata": {},
   "outputs": [
    {
     "data": {
      "text/html": [
       "6314"
      ],
      "text/latex": [
       "6314"
      ],
      "text/markdown": [
       "6314"
      ],
      "text/plain": [
       "[1] 6314"
      ]
     },
     "metadata": {},
     "output_type": "display_data"
    },
    {
     "data": {
      "text/html": [
       "6314"
      ],
      "text/latex": [
       "6314"
      ],
      "text/markdown": [
       "6314"
      ],
      "text/plain": [
       "[1] 6314"
      ]
     },
     "metadata": {},
     "output_type": "display_data"
    }
   ],
   "source": [
    "sum(is.na(train))\n",
    "tally_na <- sum(is.na(train))\n",
    "tally_na"
   ]
  },
  {
   "cell_type": "code",
   "execution_count": null,
   "id": "81a124a3-fc94-478a-8368-8fe252857a54",
   "metadata": {},
   "outputs": [],
   "source": []
  },
  {
   "cell_type": "code",
   "execution_count": null,
   "id": "3996e165-b6d5-472c-ac17-b4422fca696b",
   "metadata": {},
   "outputs": [],
   "source": []
  },
  {
   "cell_type": "markdown",
   "id": "2394e597-e38f-42a6-b350-ac324b862221",
   "metadata": {},
   "source": [
    "## <font color = yellow> A Second Pattern: \n",
    "\n",
    "####  Canada / Discount Stickers /  Holographic Goose / All days / All years"
   ]
  },
  {
   "cell_type": "code",
   "execution_count": 25,
   "id": "5f67eb4e-b99e-4a1e-adc6-d01a4e6ab7a9",
   "metadata": {},
   "outputs": [
    {
     "data": {
      "text/html": [
       "<table class=\"dataframe\">\n",
       "<caption>A tibble: 12 × 10</caption>\n",
       "<thead>\n",
       "\t<tr><th scope=col>id</th><th scope=col>date</th><th scope=col>country</th><th scope=col>store</th><th scope=col>product</th><th scope=col>num_sold</th><th scope=col>year</th><th scope=col>mo</th><th scope=col>day</th><th scope=col>wkday</th></tr>\n",
       "\t<tr><th scope=col>&lt;dbl&gt;</th><th scope=col>&lt;date&gt;</th><th scope=col>&lt;chr&gt;</th><th scope=col>&lt;chr&gt;</th><th scope=col>&lt;chr&gt;</th><th scope=col>&lt;dbl&gt;</th><th scope=col>&lt;dbl&gt;</th><th scope=col>&lt;ord&gt;</th><th scope=col>&lt;int&gt;</th><th scope=col>&lt;ord&gt;</th></tr>\n",
       "</thead>\n",
       "<tbody>\n",
       "\t<tr><td>  0</td><td>2010-01-01</td><td>Canada</td><td>Discount Stickers   </td><td>Holographic Goose</td><td> NA</td><td>2010</td><td>Jan</td><td>1</td><td>Fri</td></tr>\n",
       "\t<tr><td>  5</td><td>2010-01-01</td><td>Canada</td><td>Stickers for Less   </td><td>Holographic Goose</td><td>300</td><td>2010</td><td>Jan</td><td>1</td><td>Fri</td></tr>\n",
       "\t<tr><td> 10</td><td>2010-01-01</td><td>Canada</td><td>Premium Sticker Mart</td><td>Holographic Goose</td><td>375</td><td>2010</td><td>Jan</td><td>1</td><td>Fri</td></tr>\n",
       "\t<tr><td> 90</td><td>2010-01-02</td><td>Canada</td><td>Discount Stickers   </td><td>Holographic Goose</td><td> NA</td><td>2010</td><td>Jan</td><td>2</td><td>Sat</td></tr>\n",
       "\t<tr><td> 95</td><td>2010-01-02</td><td>Canada</td><td>Stickers for Less   </td><td>Holographic Goose</td><td>281</td><td>2010</td><td>Jan</td><td>2</td><td>Sat</td></tr>\n",
       "\t<tr><td>100</td><td>2010-01-02</td><td>Canada</td><td>Premium Sticker Mart</td><td>Holographic Goose</td><td>336</td><td>2010</td><td>Jan</td><td>2</td><td>Sat</td></tr>\n",
       "\t<tr><td>180</td><td>2010-01-03</td><td>Canada</td><td>Discount Stickers   </td><td>Holographic Goose</td><td> NA</td><td>2010</td><td>Jan</td><td>3</td><td>Sun</td></tr>\n",
       "\t<tr><td>185</td><td>2010-01-03</td><td>Canada</td><td>Stickers for Less   </td><td>Holographic Goose</td><td>297</td><td>2010</td><td>Jan</td><td>3</td><td>Sun</td></tr>\n",
       "\t<tr><td>190</td><td>2010-01-03</td><td>Canada</td><td>Premium Sticker Mart</td><td>Holographic Goose</td><td>338</td><td>2010</td><td>Jan</td><td>3</td><td>Sun</td></tr>\n",
       "\t<tr><td>270</td><td>2010-01-04</td><td>Canada</td><td>Discount Stickers   </td><td>Holographic Goose</td><td> NA</td><td>2010</td><td>Jan</td><td>4</td><td>Mon</td></tr>\n",
       "\t<tr><td>275</td><td>2010-01-04</td><td>Canada</td><td>Stickers for Less   </td><td>Holographic Goose</td><td>235</td><td>2010</td><td>Jan</td><td>4</td><td>Mon</td></tr>\n",
       "\t<tr><td>280</td><td>2010-01-04</td><td>Canada</td><td>Premium Sticker Mart</td><td>Holographic Goose</td><td>277</td><td>2010</td><td>Jan</td><td>4</td><td>Mon</td></tr>\n",
       "</tbody>\n",
       "</table>\n"
      ],
      "text/latex": [
       "A tibble: 12 × 10\n",
       "\\begin{tabular}{llllllllll}\n",
       " id & date & country & store & product & num\\_sold & year & mo & day & wkday\\\\\n",
       " <dbl> & <date> & <chr> & <chr> & <chr> & <dbl> & <dbl> & <ord> & <int> & <ord>\\\\\n",
       "\\hline\n",
       "\t   0 & 2010-01-01 & Canada & Discount Stickers    & Holographic Goose &  NA & 2010 & Jan & 1 & Fri\\\\\n",
       "\t   5 & 2010-01-01 & Canada & Stickers for Less    & Holographic Goose & 300 & 2010 & Jan & 1 & Fri\\\\\n",
       "\t  10 & 2010-01-01 & Canada & Premium Sticker Mart & Holographic Goose & 375 & 2010 & Jan & 1 & Fri\\\\\n",
       "\t  90 & 2010-01-02 & Canada & Discount Stickers    & Holographic Goose &  NA & 2010 & Jan & 2 & Sat\\\\\n",
       "\t  95 & 2010-01-02 & Canada & Stickers for Less    & Holographic Goose & 281 & 2010 & Jan & 2 & Sat\\\\\n",
       "\t 100 & 2010-01-02 & Canada & Premium Sticker Mart & Holographic Goose & 336 & 2010 & Jan & 2 & Sat\\\\\n",
       "\t 180 & 2010-01-03 & Canada & Discount Stickers    & Holographic Goose &  NA & 2010 & Jan & 3 & Sun\\\\\n",
       "\t 185 & 2010-01-03 & Canada & Stickers for Less    & Holographic Goose & 297 & 2010 & Jan & 3 & Sun\\\\\n",
       "\t 190 & 2010-01-03 & Canada & Premium Sticker Mart & Holographic Goose & 338 & 2010 & Jan & 3 & Sun\\\\\n",
       "\t 270 & 2010-01-04 & Canada & Discount Stickers    & Holographic Goose &  NA & 2010 & Jan & 4 & Mon\\\\\n",
       "\t 275 & 2010-01-04 & Canada & Stickers for Less    & Holographic Goose & 235 & 2010 & Jan & 4 & Mon\\\\\n",
       "\t 280 & 2010-01-04 & Canada & Premium Sticker Mart & Holographic Goose & 277 & 2010 & Jan & 4 & Mon\\\\\n",
       "\\end{tabular}\n"
      ],
      "text/markdown": [
       "\n",
       "A tibble: 12 × 10\n",
       "\n",
       "| id &lt;dbl&gt; | date &lt;date&gt; | country &lt;chr&gt; | store &lt;chr&gt; | product &lt;chr&gt; | num_sold &lt;dbl&gt; | year &lt;dbl&gt; | mo &lt;ord&gt; | day &lt;int&gt; | wkday &lt;ord&gt; |\n",
       "|---|---|---|---|---|---|---|---|---|---|\n",
       "|   0 | 2010-01-01 | Canada | Discount Stickers    | Holographic Goose |  NA | 2010 | Jan | 1 | Fri |\n",
       "|   5 | 2010-01-01 | Canada | Stickers for Less    | Holographic Goose | 300 | 2010 | Jan | 1 | Fri |\n",
       "|  10 | 2010-01-01 | Canada | Premium Sticker Mart | Holographic Goose | 375 | 2010 | Jan | 1 | Fri |\n",
       "|  90 | 2010-01-02 | Canada | Discount Stickers    | Holographic Goose |  NA | 2010 | Jan | 2 | Sat |\n",
       "|  95 | 2010-01-02 | Canada | Stickers for Less    | Holographic Goose | 281 | 2010 | Jan | 2 | Sat |\n",
       "| 100 | 2010-01-02 | Canada | Premium Sticker Mart | Holographic Goose | 336 | 2010 | Jan | 2 | Sat |\n",
       "| 180 | 2010-01-03 | Canada | Discount Stickers    | Holographic Goose |  NA | 2010 | Jan | 3 | Sun |\n",
       "| 185 | 2010-01-03 | Canada | Stickers for Less    | Holographic Goose | 297 | 2010 | Jan | 3 | Sun |\n",
       "| 190 | 2010-01-03 | Canada | Premium Sticker Mart | Holographic Goose | 338 | 2010 | Jan | 3 | Sun |\n",
       "| 270 | 2010-01-04 | Canada | Discount Stickers    | Holographic Goose |  NA | 2010 | Jan | 4 | Mon |\n",
       "| 275 | 2010-01-04 | Canada | Stickers for Less    | Holographic Goose | 235 | 2010 | Jan | 4 | Mon |\n",
       "| 280 | 2010-01-04 | Canada | Premium Sticker Mart | Holographic Goose | 277 | 2010 | Jan | 4 | Mon |\n",
       "\n"
      ],
      "text/plain": [
       "   id  date       country store                product           num_sold year\n",
       "1    0 2010-01-01 Canada  Discount Stickers    Holographic Goose  NA      2010\n",
       "2    5 2010-01-01 Canada  Stickers for Less    Holographic Goose 300      2010\n",
       "3   10 2010-01-01 Canada  Premium Sticker Mart Holographic Goose 375      2010\n",
       "4   90 2010-01-02 Canada  Discount Stickers    Holographic Goose  NA      2010\n",
       "5   95 2010-01-02 Canada  Stickers for Less    Holographic Goose 281      2010\n",
       "6  100 2010-01-02 Canada  Premium Sticker Mart Holographic Goose 336      2010\n",
       "7  180 2010-01-03 Canada  Discount Stickers    Holographic Goose  NA      2010\n",
       "8  185 2010-01-03 Canada  Stickers for Less    Holographic Goose 297      2010\n",
       "9  190 2010-01-03 Canada  Premium Sticker Mart Holographic Goose 338      2010\n",
       "10 270 2010-01-04 Canada  Discount Stickers    Holographic Goose  NA      2010\n",
       "11 275 2010-01-04 Canada  Stickers for Less    Holographic Goose 235      2010\n",
       "12 280 2010-01-04 Canada  Premium Sticker Mart Holographic Goose 277      2010\n",
       "   mo  day wkday\n",
       "1  Jan 1   Fri  \n",
       "2  Jan 1   Fri  \n",
       "3  Jan 1   Fri  \n",
       "4  Jan 2   Sat  \n",
       "5  Jan 2   Sat  \n",
       "6  Jan 2   Sat  \n",
       "7  Jan 3   Sun  \n",
       "8  Jan 3   Sun  \n",
       "9  Jan 3   Sun  \n",
       "10 Jan 4   Mon  \n",
       "11 Jan 4   Mon  \n",
       "12 Jan 4   Mon  "
      ]
     },
     "metadata": {},
     "output_type": "display_data"
    },
    {
     "data": {
      "text/html": [
       "<table class=\"dataframe\">\n",
       "<caption>A tibble: 5 × 10</caption>\n",
       "<thead>\n",
       "\t<tr><th scope=col>id</th><th scope=col>date</th><th scope=col>country</th><th scope=col>store</th><th scope=col>product</th><th scope=col>num_sold</th><th scope=col>year</th><th scope=col>mo</th><th scope=col>day</th><th scope=col>wkday</th></tr>\n",
       "\t<tr><th scope=col>&lt;dbl&gt;</th><th scope=col>&lt;date&gt;</th><th scope=col>&lt;chr&gt;</th><th scope=col>&lt;chr&gt;</th><th scope=col>&lt;chr&gt;</th><th scope=col>&lt;dbl&gt;</th><th scope=col>&lt;dbl&gt;</th><th scope=col>&lt;ord&gt;</th><th scope=col>&lt;int&gt;</th><th scope=col>&lt;ord&gt;</th></tr>\n",
       "</thead>\n",
       "<tbody>\n",
       "\t<tr><td>229955</td><td>2016-12-30</td><td>Canada</td><td>Stickers for Less   </td><td>Holographic Goose</td><td>303</td><td>2016</td><td>Dec</td><td>30</td><td>Fri</td></tr>\n",
       "\t<tr><td>229960</td><td>2016-12-30</td><td>Canada</td><td>Premium Sticker Mart</td><td>Holographic Goose</td><td>302</td><td>2016</td><td>Dec</td><td>30</td><td>Fri</td></tr>\n",
       "\t<tr><td>230040</td><td>2016-12-31</td><td>Canada</td><td>Discount Stickers   </td><td>Holographic Goose</td><td> NA</td><td>2016</td><td>Dec</td><td>31</td><td>Sat</td></tr>\n",
       "\t<tr><td>230045</td><td>2016-12-31</td><td>Canada</td><td>Stickers for Less   </td><td>Holographic Goose</td><td>284</td><td>2016</td><td>Dec</td><td>31</td><td>Sat</td></tr>\n",
       "\t<tr><td>230050</td><td>2016-12-31</td><td>Canada</td><td>Premium Sticker Mart</td><td>Holographic Goose</td><td>309</td><td>2016</td><td>Dec</td><td>31</td><td>Sat</td></tr>\n",
       "</tbody>\n",
       "</table>\n"
      ],
      "text/latex": [
       "A tibble: 5 × 10\n",
       "\\begin{tabular}{llllllllll}\n",
       " id & date & country & store & product & num\\_sold & year & mo & day & wkday\\\\\n",
       " <dbl> & <date> & <chr> & <chr> & <chr> & <dbl> & <dbl> & <ord> & <int> & <ord>\\\\\n",
       "\\hline\n",
       "\t 229955 & 2016-12-30 & Canada & Stickers for Less    & Holographic Goose & 303 & 2016 & Dec & 30 & Fri\\\\\n",
       "\t 229960 & 2016-12-30 & Canada & Premium Sticker Mart & Holographic Goose & 302 & 2016 & Dec & 30 & Fri\\\\\n",
       "\t 230040 & 2016-12-31 & Canada & Discount Stickers    & Holographic Goose &  NA & 2016 & Dec & 31 & Sat\\\\\n",
       "\t 230045 & 2016-12-31 & Canada & Stickers for Less    & Holographic Goose & 284 & 2016 & Dec & 31 & Sat\\\\\n",
       "\t 230050 & 2016-12-31 & Canada & Premium Sticker Mart & Holographic Goose & 309 & 2016 & Dec & 31 & Sat\\\\\n",
       "\\end{tabular}\n"
      ],
      "text/markdown": [
       "\n",
       "A tibble: 5 × 10\n",
       "\n",
       "| id &lt;dbl&gt; | date &lt;date&gt; | country &lt;chr&gt; | store &lt;chr&gt; | product &lt;chr&gt; | num_sold &lt;dbl&gt; | year &lt;dbl&gt; | mo &lt;ord&gt; | day &lt;int&gt; | wkday &lt;ord&gt; |\n",
       "|---|---|---|---|---|---|---|---|---|---|\n",
       "| 229955 | 2016-12-30 | Canada | Stickers for Less    | Holographic Goose | 303 | 2016 | Dec | 30 | Fri |\n",
       "| 229960 | 2016-12-30 | Canada | Premium Sticker Mart | Holographic Goose | 302 | 2016 | Dec | 30 | Fri |\n",
       "| 230040 | 2016-12-31 | Canada | Discount Stickers    | Holographic Goose |  NA | 2016 | Dec | 31 | Sat |\n",
       "| 230045 | 2016-12-31 | Canada | Stickers for Less    | Holographic Goose | 284 | 2016 | Dec | 31 | Sat |\n",
       "| 230050 | 2016-12-31 | Canada | Premium Sticker Mart | Holographic Goose | 309 | 2016 | Dec | 31 | Sat |\n",
       "\n"
      ],
      "text/plain": [
       "  id     date       country store                product           num_sold\n",
       "1 229955 2016-12-30 Canada  Stickers for Less    Holographic Goose 303     \n",
       "2 229960 2016-12-30 Canada  Premium Sticker Mart Holographic Goose 302     \n",
       "3 230040 2016-12-31 Canada  Discount Stickers    Holographic Goose  NA     \n",
       "4 230045 2016-12-31 Canada  Stickers for Less    Holographic Goose 284     \n",
       "5 230050 2016-12-31 Canada  Premium Sticker Mart Holographic Goose 309     \n",
       "  year mo  day wkday\n",
       "1 2016 Dec 30  Fri  \n",
       "2 2016 Dec 30  Fri  \n",
       "3 2016 Dec 31  Sat  \n",
       "4 2016 Dec 31  Sat  \n",
       "5 2016 Dec 31  Sat  "
      ]
     },
     "metadata": {},
     "output_type": "display_data"
    }
   ],
   "source": [
    "head(train %>% filter(country == \"Canada\" &  product == \"Holographic Goose\" ), 12)\n",
    "tail(train %>% filter(country == \"Canada\" &  product == \"Holographic Goose\" ), 5)"
   ]
  },
  {
   "cell_type": "markdown",
   "id": "2a3cab27-8194-4612-832d-052dafc948fa",
   "metadata": {},
   "source": [
    "# <font color = yellow> Canada: remove rows from train / update NAs\n",
    "\n",
    "- math: 1 country x 1 store x 365 days x 1 product x 7 years + 2 days = 2557"
   ]
  },
  {
   "cell_type": "code",
   "execution_count": 26,
   "id": "dd0f78d6-62ad-48bb-9df7-88cc868a4eda",
   "metadata": {},
   "outputs": [
    {
     "data": {
      "text/html": [
       "2557"
      ],
      "text/latex": [
       "2557"
      ],
      "text/markdown": [
       "2557"
      ],
      "text/plain": [
       "[1] 2557"
      ]
     },
     "metadata": {},
     "output_type": "display_data"
    }
   ],
   "source": [
    "CanMath <- (1 * 365 * 7) + 2\n",
    "CanMath"
   ]
  },
  {
   "cell_type": "code",
   "execution_count": 27,
   "id": "afa10b98-c7c6-464c-bc32-610d637e0e8d",
   "metadata": {},
   "outputs": [
    {
     "name": "stdout",
     "output_type": "stream",
     "text": [
      "\n",
      " The sum of NA in train before removing the Canada non-sales is:  6314 \n",
      "\n"
     ]
    },
    {
     "data": {
      "text/html": [
       "2557"
      ],
      "text/latex": [
       "2557"
      ],
      "text/markdown": [
       "2557"
      ],
      "text/plain": [
       "[1] 2557"
      ]
     },
     "metadata": {},
     "output_type": "display_data"
    },
    {
     "name": "stdout",
     "output_type": "stream",
     "text": [
      "\n",
      " The sum of NA in train after removing the Canada non-sales is:  3757 \n",
      "\n"
     ]
    }
   ],
   "source": [
    "cat(\"\\n The sum of NA in train before removing the Canada non-sales is: \", sum(is.na(train)), \"\\n\\n\")\n",
    "# The targeted number of non-sale rows to be deleted \n",
    "sum(is.na(train %>% filter(country == \"Canada\" & store == \"Discount Stickers\" & product == \"Holographic Goose\" )))\n",
    "# remove rows from train\n",
    "train <- train %>% filter(!(country == \"Canada\" & store == \"Discount Stickers\" & product == \"Holographic Goose\" ))\n",
    "\n",
    "# proof \n",
    "cat(\"\\n The sum of NA in train after removing the Canada non-sales is: \", sum(is.na(train)), \"\\n\\n\")\n",
    "\n"
   ]
  },
  {
   "cell_type": "markdown",
   "id": "2cc13c4b-c52c-4715-bd89-45f19d854795",
   "metadata": {},
   "source": [
    "# <font color = lime> Update NA \n"
   ]
  },
  {
   "cell_type": "code",
   "execution_count": 28,
   "id": "162a6d18-2477-4fa1-8c65-57557b73d1b2",
   "metadata": {},
   "outputs": [
    {
     "data": {
      "text/html": [
       "3757"
      ],
      "text/latex": [
       "3757"
      ],
      "text/markdown": [
       "3757"
      ],
      "text/plain": [
       "[1] 3757"
      ]
     },
     "metadata": {},
     "output_type": "display_data"
    },
    {
     "data": {
      "text/html": [
       "3757"
      ],
      "text/latex": [
       "3757"
      ],
      "text/markdown": [
       "3757"
      ],
      "text/plain": [
       "[1] 3757"
      ]
     },
     "metadata": {},
     "output_type": "display_data"
    }
   ],
   "source": [
    "sum(is.na(train))\n",
    "tally_na <- sum(is.na(train))\n",
    "tally_na"
   ]
  },
  {
   "cell_type": "code",
   "execution_count": null,
   "id": "1dce0068-102b-4061-806f-264ada6f7c5a",
   "metadata": {},
   "outputs": [],
   "source": []
  },
  {
   "cell_type": "markdown",
   "id": "990fa4fd-48df-454a-8702-88db33ae5d5e",
   "metadata": {},
   "source": [
    "### <font color = yellow> Seq( ) fct"
   ]
  },
  {
   "cell_type": "markdown",
   "id": "55b4b5e6-a562-412b-9178-4397ce4d28e0",
   "metadata": {
    "scrolled": true
   },
   "source": [
    "#### seq( )\n",
    "\n",
    "    seq(from = , to = , by = )"
   ]
  },
  {
   "cell_type": "code",
   "execution_count": null,
   "id": "c936d6a7-e12b-479f-9c5a-c0d5ad828758",
   "metadata": {},
   "outputs": [],
   "source": []
  },
  {
   "cell_type": "markdown",
   "id": "38cda06e-64fa-4dd0-a298-dd2837f1bb1c",
   "metadata": {},
   "source": [
    "## <font color = lime> NA patterns: Kenya & Canada\n",
    "\n",
    "### (all remaining NA accounted for)"
   ]
  },
  {
   "cell_type": "code",
   "execution_count": 29,
   "id": "7c5df15f-a71a-4e68-ab4f-f1360c85fb28",
   "metadata": {},
   "outputs": [
    {
     "name": "stdout",
     "output_type": "stream",
     "text": [
      "\n",
      " The current sum of NA in train is:  3757 \n",
      "\n",
      "\n",
      " The current sum of NA in Kenya is:  2068 \n",
      "\n",
      "\n",
      " The current sum of NA in Canada is:  1689 \n",
      "\n"
     ]
    },
    {
     "data": {
      "text/html": [
       "2068"
      ],
      "text/latex": [
       "2068"
      ],
      "text/markdown": [
       "2068"
      ],
      "text/plain": [
       "[1] 2068"
      ]
     },
     "metadata": {},
     "output_type": "display_data"
    },
    {
     "data": {
      "text/html": [
       "1689"
      ],
      "text/latex": [
       "1689"
      ],
      "text/markdown": [
       "1689"
      ],
      "text/plain": [
       "[1] 1689"
      ]
     },
     "metadata": {},
     "output_type": "display_data"
    },
    {
     "data": {
      "text/html": [
       "3757"
      ],
      "text/latex": [
       "3757"
      ],
      "text/markdown": [
       "3757"
      ],
      "text/plain": [
       "[1] 3757"
      ]
     },
     "metadata": {},
     "output_type": "display_data"
    }
   ],
   "source": [
    "cat(\"\\n The current sum of NA in train is: \", sum(is.na(train)), \"\\n\\n\")\n",
    "\n",
    "kenya <- train %>% filter(country == \"Kenya\") \n",
    "canada <- train %>% filter(country == \"Canada\")\n",
    "\n",
    "cat(\"\\n The current sum of NA in Kenya is: \", sum(is.na(kenya)), \"\\n\\n\")\n",
    "cat(\"\\n The current sum of NA in Canada is: \", sum(is.na(canada)), \"\\n\\n\")\n",
    "sum(is.na(kenya))\n",
    "sum(is.na(canada))\n",
    "2068+1689      # all NA accounted for in Canada / Kenya"
   ]
  },
  {
   "cell_type": "markdown",
   "id": "846a0200-b9f3-4c11-afc3-2cfc5c3ab27b",
   "metadata": {},
   "source": [
    "# <font color = lime>Kenya NA:"
   ]
  },
  {
   "cell_type": "code",
   "execution_count": 30,
   "id": "82a34539-5ae3-41bf-848d-fae4f1919448",
   "metadata": {},
   "outputs": [
    {
     "data": {
      "text/html": [
       "2068"
      ],
      "text/latex": [
       "2068"
      ],
      "text/markdown": [
       "2068"
      ],
      "text/plain": [
       "[1] 2068"
      ]
     },
     "metadata": {},
     "output_type": "display_data"
    },
    {
     "data": {
      "text/html": [
       "<table class=\"dataframe\">\n",
       "<caption>A tibble: 8 × 10</caption>\n",
       "<thead>\n",
       "\t<tr><th scope=col>id</th><th scope=col>date</th><th scope=col>country</th><th scope=col>store</th><th scope=col>product</th><th scope=col>num_sold</th><th scope=col>year</th><th scope=col>mo</th><th scope=col>day</th><th scope=col>wkday</th></tr>\n",
       "\t<tr><th scope=col>&lt;dbl&gt;</th><th scope=col>&lt;date&gt;</th><th scope=col>&lt;chr&gt;</th><th scope=col>&lt;chr&gt;</th><th scope=col>&lt;chr&gt;</th><th scope=col>&lt;dbl&gt;</th><th scope=col>&lt;dbl&gt;</th><th scope=col>&lt;ord&gt;</th><th scope=col>&lt;int&gt;</th><th scope=col>&lt;ord&gt;</th></tr>\n",
       "</thead>\n",
       "<tbody>\n",
       "\t<tr><td>46</td><td>2010-01-01</td><td>Kenya</td><td>Discount Stickers</td><td>Kaggle            </td><td>20</td><td>2010</td><td>Jan</td><td>1</td><td>Fri</td></tr>\n",
       "\t<tr><td>47</td><td>2010-01-01</td><td>Kenya</td><td>Discount Stickers</td><td>Kaggle Tiers      </td><td>16</td><td>2010</td><td>Jan</td><td>1</td><td>Fri</td></tr>\n",
       "\t<tr><td>48</td><td>2010-01-01</td><td>Kenya</td><td>Discount Stickers</td><td>Kerneler          </td><td> 8</td><td>2010</td><td>Jan</td><td>1</td><td>Fri</td></tr>\n",
       "\t<tr><td>49</td><td>2010-01-01</td><td>Kenya</td><td>Discount Stickers</td><td>Kerneler Dark Mode</td><td> 9</td><td>2010</td><td>Jan</td><td>1</td><td>Fri</td></tr>\n",
       "\t<tr><td>50</td><td>2010-01-01</td><td>Kenya</td><td>Stickers for Less</td><td>Holographic Goose </td><td> 5</td><td>2010</td><td>Jan</td><td>1</td><td>Fri</td></tr>\n",
       "\t<tr><td>51</td><td>2010-01-01</td><td>Kenya</td><td>Stickers for Less</td><td>Kaggle            </td><td>40</td><td>2010</td><td>Jan</td><td>1</td><td>Fri</td></tr>\n",
       "\t<tr><td>52</td><td>2010-01-01</td><td>Kenya</td><td>Stickers for Less</td><td>Kaggle Tiers      </td><td>32</td><td>2010</td><td>Jan</td><td>1</td><td>Fri</td></tr>\n",
       "\t<tr><td>53</td><td>2010-01-01</td><td>Kenya</td><td>Stickers for Less</td><td>Kerneler          </td><td>17</td><td>2010</td><td>Jan</td><td>1</td><td>Fri</td></tr>\n",
       "</tbody>\n",
       "</table>\n"
      ],
      "text/latex": [
       "A tibble: 8 × 10\n",
       "\\begin{tabular}{llllllllll}\n",
       " id & date & country & store & product & num\\_sold & year & mo & day & wkday\\\\\n",
       " <dbl> & <date> & <chr> & <chr> & <chr> & <dbl> & <dbl> & <ord> & <int> & <ord>\\\\\n",
       "\\hline\n",
       "\t 46 & 2010-01-01 & Kenya & Discount Stickers & Kaggle             & 20 & 2010 & Jan & 1 & Fri\\\\\n",
       "\t 47 & 2010-01-01 & Kenya & Discount Stickers & Kaggle Tiers       & 16 & 2010 & Jan & 1 & Fri\\\\\n",
       "\t 48 & 2010-01-01 & Kenya & Discount Stickers & Kerneler           &  8 & 2010 & Jan & 1 & Fri\\\\\n",
       "\t 49 & 2010-01-01 & Kenya & Discount Stickers & Kerneler Dark Mode &  9 & 2010 & Jan & 1 & Fri\\\\\n",
       "\t 50 & 2010-01-01 & Kenya & Stickers for Less & Holographic Goose  &  5 & 2010 & Jan & 1 & Fri\\\\\n",
       "\t 51 & 2010-01-01 & Kenya & Stickers for Less & Kaggle             & 40 & 2010 & Jan & 1 & Fri\\\\\n",
       "\t 52 & 2010-01-01 & Kenya & Stickers for Less & Kaggle Tiers       & 32 & 2010 & Jan & 1 & Fri\\\\\n",
       "\t 53 & 2010-01-01 & Kenya & Stickers for Less & Kerneler           & 17 & 2010 & Jan & 1 & Fri\\\\\n",
       "\\end{tabular}\n"
      ],
      "text/markdown": [
       "\n",
       "A tibble: 8 × 10\n",
       "\n",
       "| id &lt;dbl&gt; | date &lt;date&gt; | country &lt;chr&gt; | store &lt;chr&gt; | product &lt;chr&gt; | num_sold &lt;dbl&gt; | year &lt;dbl&gt; | mo &lt;ord&gt; | day &lt;int&gt; | wkday &lt;ord&gt; |\n",
       "|---|---|---|---|---|---|---|---|---|---|\n",
       "| 46 | 2010-01-01 | Kenya | Discount Stickers | Kaggle             | 20 | 2010 | Jan | 1 | Fri |\n",
       "| 47 | 2010-01-01 | Kenya | Discount Stickers | Kaggle Tiers       | 16 | 2010 | Jan | 1 | Fri |\n",
       "| 48 | 2010-01-01 | Kenya | Discount Stickers | Kerneler           |  8 | 2010 | Jan | 1 | Fri |\n",
       "| 49 | 2010-01-01 | Kenya | Discount Stickers | Kerneler Dark Mode |  9 | 2010 | Jan | 1 | Fri |\n",
       "| 50 | 2010-01-01 | Kenya | Stickers for Less | Holographic Goose  |  5 | 2010 | Jan | 1 | Fri |\n",
       "| 51 | 2010-01-01 | Kenya | Stickers for Less | Kaggle             | 40 | 2010 | Jan | 1 | Fri |\n",
       "| 52 | 2010-01-01 | Kenya | Stickers for Less | Kaggle Tiers       | 32 | 2010 | Jan | 1 | Fri |\n",
       "| 53 | 2010-01-01 | Kenya | Stickers for Less | Kerneler           | 17 | 2010 | Jan | 1 | Fri |\n",
       "\n"
      ],
      "text/plain": [
       "  id date       country store             product            num_sold year mo \n",
       "1 46 2010-01-01 Kenya   Discount Stickers Kaggle             20       2010 Jan\n",
       "2 47 2010-01-01 Kenya   Discount Stickers Kaggle Tiers       16       2010 Jan\n",
       "3 48 2010-01-01 Kenya   Discount Stickers Kerneler            8       2010 Jan\n",
       "4 49 2010-01-01 Kenya   Discount Stickers Kerneler Dark Mode  9       2010 Jan\n",
       "5 50 2010-01-01 Kenya   Stickers for Less Holographic Goose   5       2010 Jan\n",
       "6 51 2010-01-01 Kenya   Stickers for Less Kaggle             40       2010 Jan\n",
       "7 52 2010-01-01 Kenya   Stickers for Less Kaggle Tiers       32       2010 Jan\n",
       "8 53 2010-01-01 Kenya   Stickers for Less Kerneler           17       2010 Jan\n",
       "  day wkday\n",
       "1 1   Fri  \n",
       "2 1   Fri  \n",
       "3 1   Fri  \n",
       "4 1   Fri  \n",
       "5 1   Fri  \n",
       "6 1   Fri  \n",
       "7 1   Fri  \n",
       "8 1   Fri  "
      ]
     },
     "metadata": {},
     "output_type": "display_data"
    }
   ],
   "source": [
    "sum(is.na(kenya))\n",
    "head(kenya, 8)"
   ]
  },
  {
   "cell_type": "code",
   "execution_count": null,
   "id": "80048762-d27b-4df2-acec-727e57c4491f",
   "metadata": {},
   "outputs": [],
   "source": []
  },
  {
   "cell_type": "code",
   "execution_count": 31,
   "id": "6f81bd00-f12b-4400-b332-c764e6520960",
   "metadata": {},
   "outputs": [
    {
     "data": {
      "text/html": [
       "<style>\n",
       ".list-inline {list-style: none; margin:0; padding: 0}\n",
       ".list-inline>li {display: inline-block}\n",
       ".list-inline>li:not(:last-child)::after {content: \"\\00b7\"; padding: 0 .5ex}\n",
       "</style>\n",
       "<ol class=list-inline><li>1358</li><li>10</li></ol>\n"
      ],
      "text/latex": [
       "\\begin{enumerate*}\n",
       "\\item 1358\n",
       "\\item 10\n",
       "\\end{enumerate*}\n"
      ],
      "text/markdown": [
       "1. 1358\n",
       "2. 10\n",
       "\n",
       "\n"
      ],
      "text/plain": [
       "[1] 1358   10"
      ]
     },
     "metadata": {},
     "output_type": "display_data"
    },
    {
     "data": {
      "text/html": [
       "<style>\n",
       ".list-inline {list-style: none; margin:0; padding: 0}\n",
       ".list-inline>li {display: inline-block}\n",
       ".list-inline>li:not(:last-child)::after {content: \"\\00b7\"; padding: 0 .5ex}\n",
       "</style>\n",
       "<ol class=list-inline><li>646</li><li>10</li></ol>\n"
      ],
      "text/latex": [
       "\\begin{enumerate*}\n",
       "\\item 646\n",
       "\\item 10\n",
       "\\end{enumerate*}\n"
      ],
      "text/markdown": [
       "1. 646\n",
       "2. 10\n",
       "\n",
       "\n"
      ],
      "text/plain": [
       "[1] 646  10"
      ]
     },
     "metadata": {},
     "output_type": "display_data"
    },
    {
     "data": {
      "text/html": [
       "<style>\n",
       ".list-inline {list-style: none; margin:0; padding: 0}\n",
       ".list-inline>li {display: inline-block}\n",
       ".list-inline>li:not(:last-child)::after {content: \"\\00b7\"; padding: 0 .5ex}\n",
       "</style>\n",
       "<ol class=list-inline><li>64</li><li>10</li></ol>\n"
      ],
      "text/latex": [
       "\\begin{enumerate*}\n",
       "\\item 64\n",
       "\\item 10\n",
       "\\end{enumerate*}\n"
      ],
      "text/markdown": [
       "1. 64\n",
       "2. 10\n",
       "\n",
       "\n"
      ],
      "text/plain": [
       "[1] 64 10"
      ]
     },
     "metadata": {},
     "output_type": "display_data"
    },
    {
     "name": "stdout",
     "output_type": "stream",
     "text": [
      "\n",
      " The count of days in 7 years (includes 2 days)  2557 \n",
      "\n",
      " Total NA in Kenya are:  2068  across 7 years \n"
     ]
    },
    {
     "data": {
      "text/html": [
       "<table class=\"dataframe\">\n",
       "<caption>A tibble: 5 × 10</caption>\n",
       "<thead>\n",
       "\t<tr><th scope=col>id</th><th scope=col>date</th><th scope=col>country</th><th scope=col>store</th><th scope=col>product</th><th scope=col>num_sold</th><th scope=col>year</th><th scope=col>mo</th><th scope=col>day</th><th scope=col>wkday</th></tr>\n",
       "\t<tr><th scope=col>&lt;dbl&gt;</th><th scope=col>&lt;date&gt;</th><th scope=col>&lt;chr&gt;</th><th scope=col>&lt;chr&gt;</th><th scope=col>&lt;chr&gt;</th><th scope=col>&lt;dbl&gt;</th><th scope=col>&lt;dbl&gt;</th><th scope=col>&lt;ord&gt;</th><th scope=col>&lt;int&gt;</th><th scope=col>&lt;ord&gt;</th></tr>\n",
       "</thead>\n",
       "<tbody>\n",
       "\t<tr><td>46</td><td>2010-01-01</td><td>Kenya</td><td>Discount Stickers</td><td>Kaggle            </td><td>20</td><td>2010</td><td>Jan</td><td>1</td><td>Fri</td></tr>\n",
       "\t<tr><td>47</td><td>2010-01-01</td><td>Kenya</td><td>Discount Stickers</td><td>Kaggle Tiers      </td><td>16</td><td>2010</td><td>Jan</td><td>1</td><td>Fri</td></tr>\n",
       "\t<tr><td>48</td><td>2010-01-01</td><td>Kenya</td><td>Discount Stickers</td><td>Kerneler          </td><td> 8</td><td>2010</td><td>Jan</td><td>1</td><td>Fri</td></tr>\n",
       "\t<tr><td>49</td><td>2010-01-01</td><td>Kenya</td><td>Discount Stickers</td><td>Kerneler Dark Mode</td><td> 9</td><td>2010</td><td>Jan</td><td>1</td><td>Fri</td></tr>\n",
       "\t<tr><td>50</td><td>2010-01-01</td><td>Kenya</td><td>Stickers for Less</td><td>Holographic Goose </td><td> 5</td><td>2010</td><td>Jan</td><td>1</td><td>Fri</td></tr>\n",
       "</tbody>\n",
       "</table>\n"
      ],
      "text/latex": [
       "A tibble: 5 × 10\n",
       "\\begin{tabular}{llllllllll}\n",
       " id & date & country & store & product & num\\_sold & year & mo & day & wkday\\\\\n",
       " <dbl> & <date> & <chr> & <chr> & <chr> & <dbl> & <dbl> & <ord> & <int> & <ord>\\\\\n",
       "\\hline\n",
       "\t 46 & 2010-01-01 & Kenya & Discount Stickers & Kaggle             & 20 & 2010 & Jan & 1 & Fri\\\\\n",
       "\t 47 & 2010-01-01 & Kenya & Discount Stickers & Kaggle Tiers       & 16 & 2010 & Jan & 1 & Fri\\\\\n",
       "\t 48 & 2010-01-01 & Kenya & Discount Stickers & Kerneler           &  8 & 2010 & Jan & 1 & Fri\\\\\n",
       "\t 49 & 2010-01-01 & Kenya & Discount Stickers & Kerneler Dark Mode &  9 & 2010 & Jan & 1 & Fri\\\\\n",
       "\t 50 & 2010-01-01 & Kenya & Stickers for Less & Holographic Goose  &  5 & 2010 & Jan & 1 & Fri\\\\\n",
       "\\end{tabular}\n"
      ],
      "text/markdown": [
       "\n",
       "A tibble: 5 × 10\n",
       "\n",
       "| id &lt;dbl&gt; | date &lt;date&gt; | country &lt;chr&gt; | store &lt;chr&gt; | product &lt;chr&gt; | num_sold &lt;dbl&gt; | year &lt;dbl&gt; | mo &lt;ord&gt; | day &lt;int&gt; | wkday &lt;ord&gt; |\n",
       "|---|---|---|---|---|---|---|---|---|---|\n",
       "| 46 | 2010-01-01 | Kenya | Discount Stickers | Kaggle             | 20 | 2010 | Jan | 1 | Fri |\n",
       "| 47 | 2010-01-01 | Kenya | Discount Stickers | Kaggle Tiers       | 16 | 2010 | Jan | 1 | Fri |\n",
       "| 48 | 2010-01-01 | Kenya | Discount Stickers | Kerneler           |  8 | 2010 | Jan | 1 | Fri |\n",
       "| 49 | 2010-01-01 | Kenya | Discount Stickers | Kerneler Dark Mode |  9 | 2010 | Jan | 1 | Fri |\n",
       "| 50 | 2010-01-01 | Kenya | Stickers for Less | Holographic Goose  |  5 | 2010 | Jan | 1 | Fri |\n",
       "\n"
      ],
      "text/plain": [
       "  id date       country store             product            num_sold year mo \n",
       "1 46 2010-01-01 Kenya   Discount Stickers Kaggle             20       2010 Jan\n",
       "2 47 2010-01-01 Kenya   Discount Stickers Kaggle Tiers       16       2010 Jan\n",
       "3 48 2010-01-01 Kenya   Discount Stickers Kerneler            8       2010 Jan\n",
       "4 49 2010-01-01 Kenya   Discount Stickers Kerneler Dark Mode  9       2010 Jan\n",
       "5 50 2010-01-01 Kenya   Stickers for Less Holographic Goose   5       2010 Jan\n",
       "  day wkday\n",
       "1 1   Fri  \n",
       "2 1   Fri  \n",
       "3 1   Fri  \n",
       "4 1   Fri  \n",
       "5 1   Fri  "
      ]
     },
     "metadata": {},
     "output_type": "display_data"
    }
   ],
   "source": [
    "dim(kenya %>% filter(store == \"Stickers for Less\" & is.na(num_sold)))\n",
    "dim(kenya %>% filter(store == \"Premium Sticker Mart\" & is.na(num_sold)))\n",
    "dim(kenya %>% filter(store == \"Discount Stickers\" & is.na(num_sold)))    # Rather insignificant sales\n",
    "cat(\"\\n The count of days in 7 years (includes 2 days) \", 365*7 + 2, \"\\n\")\n",
    "cat(\"\\n Total NA in Kenya are: \", 1358+646+64, \" across 7 years \\n\")   # kenya NAs\n",
    "kenya[1:5, ]"
   ]
  },
  {
   "cell_type": "code",
   "execution_count": 32,
   "id": "31d693e1-3868-4ed2-a725-206d2116d711",
   "metadata": {},
   "outputs": [],
   "source": [
    " #  Pay close attn:  It appears the 1358 ??? Impute w/what values ???"
   ]
  },
  {
   "cell_type": "markdown",
   "id": "38e31ce0-a660-4cc9-97d7-26a7778f5703",
   "metadata": {},
   "source": [
    "### <font color = lime> 1358 NA:: ...Stickers for Less"
   ]
  },
  {
   "cell_type": "code",
   "execution_count": 33,
   "id": "de0ffb12-264b-44a7-b904-e5536a52708a",
   "metadata": {},
   "outputs": [
    {
     "data": {
      "text/html": [
       "<style>\n",
       ".list-inline {list-style: none; margin:0; padding: 0}\n",
       ".list-inline>li {display: inline-block}\n",
       ".list-inline>li:not(:last-child)::after {content: \"\\00b7\"; padding: 0 .5ex}\n",
       "</style>\n",
       "<ol class=list-inline><li>1358</li><li>10</li></ol>\n"
      ],
      "text/latex": [
       "\\begin{enumerate*}\n",
       "\\item 1358\n",
       "\\item 10\n",
       "\\end{enumerate*}\n"
      ],
      "text/markdown": [
       "1. 1358\n",
       "2. 10\n",
       "\n",
       "\n"
      ],
      "text/plain": [
       "[1] 1358   10"
      ]
     },
     "metadata": {},
     "output_type": "display_data"
    },
    {
     "data": {
      "text/html": [
       "<style>\n",
       ".list-inline {list-style: none; margin:0; padding: 0}\n",
       ".list-inline>li {display: inline-block}\n",
       ".list-inline>li:not(:last-child)::after {content: \"\\00b7\"; padding: 0 .5ex}\n",
       "</style>\n",
       "<ol class=list-inline><li>343</li><li>10</li></ol>\n"
      ],
      "text/latex": [
       "\\begin{enumerate*}\n",
       "\\item 343\n",
       "\\item 10\n",
       "\\end{enumerate*}\n"
      ],
      "text/markdown": [
       "1. 343\n",
       "2. 10\n",
       "\n",
       "\n"
      ],
      "text/plain": [
       "[1] 343  10"
      ]
     },
     "metadata": {},
     "output_type": "display_data"
    },
    {
     "data": {
      "text/html": [
       "<style>\n",
       ".list-inline {list-style: none; margin:0; padding: 0}\n",
       ".list-inline>li {display: inline-block}\n",
       ".list-inline>li:not(:last-child)::after {content: \"\\00b7\"; padding: 0 .5ex}\n",
       "</style>\n",
       "<ol class=list-inline><li>331</li><li>10</li></ol>\n"
      ],
      "text/latex": [
       "\\begin{enumerate*}\n",
       "\\item 331\n",
       "\\item 10\n",
       "\\end{enumerate*}\n"
      ],
      "text/markdown": [
       "1. 331\n",
       "2. 10\n",
       "\n",
       "\n"
      ],
      "text/plain": [
       "[1] 331  10"
      ]
     },
     "metadata": {},
     "output_type": "display_data"
    },
    {
     "data": {
      "text/html": [
       "<style>\n",
       ".list-inline {list-style: none; margin:0; padding: 0}\n",
       ".list-inline>li {display: inline-block}\n",
       ".list-inline>li:not(:last-child)::after {content: \"\\00b7\"; padding: 0 .5ex}\n",
       "</style>\n",
       "<ol class=list-inline><li>265</li><li>10</li></ol>\n"
      ],
      "text/latex": [
       "\\begin{enumerate*}\n",
       "\\item 265\n",
       "\\item 10\n",
       "\\end{enumerate*}\n"
      ],
      "text/markdown": [
       "1. 265\n",
       "2. 10\n",
       "\n",
       "\n"
      ],
      "text/plain": [
       "[1] 265  10"
      ]
     },
     "metadata": {},
     "output_type": "display_data"
    },
    {
     "data": {
      "text/html": [
       "<style>\n",
       ".list-inline {list-style: none; margin:0; padding: 0}\n",
       ".list-inline>li {display: inline-block}\n",
       ".list-inline>li:not(:last-child)::after {content: \"\\00b7\"; padding: 0 .5ex}\n",
       "</style>\n",
       "<ol class=list-inline><li>200</li><li>10</li></ol>\n"
      ],
      "text/latex": [
       "\\begin{enumerate*}\n",
       "\\item 200\n",
       "\\item 10\n",
       "\\end{enumerate*}\n"
      ],
      "text/markdown": [
       "1. 200\n",
       "2. 10\n",
       "\n",
       "\n"
      ],
      "text/plain": [
       "[1] 200  10"
      ]
     },
     "metadata": {},
     "output_type": "display_data"
    },
    {
     "data": {
      "text/html": [
       "<style>\n",
       ".list-inline {list-style: none; margin:0; padding: 0}\n",
       ".list-inline>li {display: inline-block}\n",
       ".list-inline>li:not(:last-child)::after {content: \"\\00b7\"; padding: 0 .5ex}\n",
       "</style>\n",
       "<ol class=list-inline><li>113</li><li>10</li></ol>\n"
      ],
      "text/latex": [
       "\\begin{enumerate*}\n",
       "\\item 113\n",
       "\\item 10\n",
       "\\end{enumerate*}\n"
      ],
      "text/markdown": [
       "1. 113\n",
       "2. 10\n",
       "\n",
       "\n"
      ],
      "text/plain": [
       "[1] 113  10"
      ]
     },
     "metadata": {},
     "output_type": "display_data"
    },
    {
     "data": {
      "text/html": [
       "<style>\n",
       ".list-inline {list-style: none; margin:0; padding: 0}\n",
       ".list-inline>li {display: inline-block}\n",
       ".list-inline>li:not(:last-child)::after {content: \"\\00b7\"; padding: 0 .5ex}\n",
       "</style>\n",
       "<ol class=list-inline><li>78</li><li>10</li></ol>\n"
      ],
      "text/latex": [
       "\\begin{enumerate*}\n",
       "\\item 78\n",
       "\\item 10\n",
       "\\end{enumerate*}\n"
      ],
      "text/markdown": [
       "1. 78\n",
       "2. 10\n",
       "\n",
       "\n"
      ],
      "text/plain": [
       "[1] 78 10"
      ]
     },
     "metadata": {},
     "output_type": "display_data"
    },
    {
     "data": {
      "text/html": [
       "<style>\n",
       ".list-inline {list-style: none; margin:0; padding: 0}\n",
       ".list-inline>li {display: inline-block}\n",
       ".list-inline>li:not(:last-child)::after {content: \"\\00b7\"; padding: 0 .5ex}\n",
       "</style>\n",
       "<ol class=list-inline><li>28</li><li>10</li></ol>\n"
      ],
      "text/latex": [
       "\\begin{enumerate*}\n",
       "\\item 28\n",
       "\\item 10\n",
       "\\end{enumerate*}\n"
      ],
      "text/markdown": [
       "1. 28\n",
       "2. 10\n",
       "\n",
       "\n"
      ],
      "text/plain": [
       "[1] 28 10"
      ]
     },
     "metadata": {},
     "output_type": "display_data"
    },
    {
     "data": {
      "text/html": [
       "1358"
      ],
      "text/latex": [
       "1358"
      ],
      "text/markdown": [
       "1358"
      ],
      "text/plain": [
       "[1] 1358"
      ]
     },
     "metadata": {},
     "output_type": "display_data"
    }
   ],
   "source": [
    "# Deep dive moving up from block below \n",
    "dim(kenya %>% filter( is.na(num_sold) & product == \"Holographic Goose\" & store == \"Stickers for Less\"))   # 1358 NA All yr /  1099 sold All yrs\n",
    "dim(kenya %>% filter( is.na(num_sold) & product == \"Holographic Goose\" & store == \"Stickers for Less\" & year == \"2010\"))   #  343 NA / only 22 sold\n",
    "dim(kenya %>% filter( is.na(num_sold) & product == \"Holographic Goose\" & store == \"Stickers for Less\" & year == \"2011\"))    # 331 NA / 34 sold\n",
    "dim(kenya %>% filter( is.na(num_sold) & product == \"Holographic Goose\" & store == \"Stickers for Less\" & year == \"2012\"))    # 265 NA w/ 101 sold\n",
    "dim(kenya %>% filter( is.na(num_sold) & product == \"Holographic Goose\" & store == \"Stickers for Less\" & year == \"2013\"))    # 200 NA w/ 165 sold\n",
    "dim(kenya %>% filter( is.na(num_sold) & product == \"Holographic Goose\" & store == \"Stickers for Less\" & year == \"2014\"))    # 113 NA w/ 252 sold\n",
    "dim(kenya %>% filter( is.na(num_sold) & product == \"Holographic Goose\" & store == \"Stickers for Less\" & year == \"2015\"))    # 78 NA w/ 287 sold\n",
    "dim(kenya %>% filter( is.na(num_sold) & product == \"Holographic Goose\" & store == \"Stickers for Less\" & year == \"2016\"))     # 28 NA w/ 338 sold\n",
    "343+331+265+200+113+78+28\n",
    "\n",
    "kenya_StickerforLess <- data.frame(NAs = c(343,331,265,200,113,78,28), Sales = c(22,34,101,165,525,287,338), Yrs = c(2010,2011,2012,2013,2014,2015,2016) )"
   ]
  },
  {
   "cell_type": "code",
   "execution_count": 34,
   "id": "30529d50-743d-48fb-8237-491c4079ff1c",
   "metadata": {},
   "outputs": [
    {
     "data": {
      "text/html": [
       "<table class=\"dataframe\">\n",
       "<caption>A data.frame: 7 × 3</caption>\n",
       "<thead>\n",
       "\t<tr><th scope=col>NAs</th><th scope=col>Sales</th><th scope=col>Yrs</th></tr>\n",
       "\t<tr><th scope=col>&lt;dbl&gt;</th><th scope=col>&lt;dbl&gt;</th><th scope=col>&lt;dbl&gt;</th></tr>\n",
       "</thead>\n",
       "<tbody>\n",
       "\t<tr><td>343</td><td> 22</td><td>2010</td></tr>\n",
       "\t<tr><td>331</td><td> 34</td><td>2011</td></tr>\n",
       "\t<tr><td>265</td><td>101</td><td>2012</td></tr>\n",
       "\t<tr><td>200</td><td>165</td><td>2013</td></tr>\n",
       "\t<tr><td>113</td><td>525</td><td>2014</td></tr>\n",
       "\t<tr><td> 78</td><td>287</td><td>2015</td></tr>\n",
       "\t<tr><td> 28</td><td>338</td><td>2016</td></tr>\n",
       "</tbody>\n",
       "</table>\n"
      ],
      "text/latex": [
       "A data.frame: 7 × 3\n",
       "\\begin{tabular}{lll}\n",
       " NAs & Sales & Yrs\\\\\n",
       " <dbl> & <dbl> & <dbl>\\\\\n",
       "\\hline\n",
       "\t 343 &  22 & 2010\\\\\n",
       "\t 331 &  34 & 2011\\\\\n",
       "\t 265 & 101 & 2012\\\\\n",
       "\t 200 & 165 & 2013\\\\\n",
       "\t 113 & 525 & 2014\\\\\n",
       "\t  78 & 287 & 2015\\\\\n",
       "\t  28 & 338 & 2016\\\\\n",
       "\\end{tabular}\n"
      ],
      "text/markdown": [
       "\n",
       "A data.frame: 7 × 3\n",
       "\n",
       "| NAs &lt;dbl&gt; | Sales &lt;dbl&gt; | Yrs &lt;dbl&gt; |\n",
       "|---|---|---|\n",
       "| 343 |  22 | 2010 |\n",
       "| 331 |  34 | 2011 |\n",
       "| 265 | 101 | 2012 |\n",
       "| 200 | 165 | 2013 |\n",
       "| 113 | 525 | 2014 |\n",
       "|  78 | 287 | 2015 |\n",
       "|  28 | 338 | 2016 |\n",
       "\n"
      ],
      "text/plain": [
       "  NAs Sales Yrs \n",
       "1 343  22   2010\n",
       "2 331  34   2011\n",
       "3 265 101   2012\n",
       "4 200 165   2013\n",
       "5 113 525   2014\n",
       "6  78 287   2015\n",
       "7  28 338   2016"
      ]
     },
     "metadata": {},
     "output_type": "display_data"
    },
    {
     "name": "stderr",
     "output_type": "stream",
     "text": [
      "Warning message:\n",
      "\"package 'tidyr' was built under R version 4.3.3\"\n"
     ]
    },
    {
     "name": "stdout",
     "output_type": "stream",
     "text": [
      "\u001b[90m# A tibble: 14 × 3\u001b[39m\n",
      "     Yrs Type  Count\n",
      "   \u001b[3m\u001b[90m<dbl>\u001b[39m\u001b[23m \u001b[3m\u001b[90m<chr>\u001b[39m\u001b[23m \u001b[3m\u001b[90m<dbl>\u001b[39m\u001b[23m\n",
      "\u001b[90m 1\u001b[39m  \u001b[4m2\u001b[24m010 NAs     343\n",
      "\u001b[90m 2\u001b[39m  \u001b[4m2\u001b[24m010 Sales    22\n",
      "\u001b[90m 3\u001b[39m  \u001b[4m2\u001b[24m011 NAs     331\n",
      "\u001b[90m 4\u001b[39m  \u001b[4m2\u001b[24m011 Sales    34\n",
      "\u001b[90m 5\u001b[39m  \u001b[4m2\u001b[24m012 NAs     265\n",
      "\u001b[90m 6\u001b[39m  \u001b[4m2\u001b[24m012 Sales   101\n",
      "\u001b[90m 7\u001b[39m  \u001b[4m2\u001b[24m013 NAs     200\n",
      "\u001b[90m 8\u001b[39m  \u001b[4m2\u001b[24m013 Sales   165\n",
      "\u001b[90m 9\u001b[39m  \u001b[4m2\u001b[24m014 NAs     113\n",
      "\u001b[90m10\u001b[39m  \u001b[4m2\u001b[24m014 Sales   525\n",
      "\u001b[90m11\u001b[39m  \u001b[4m2\u001b[24m015 NAs      78\n",
      "\u001b[90m12\u001b[39m  \u001b[4m2\u001b[24m015 Sales   287\n",
      "\u001b[90m13\u001b[39m  \u001b[4m2\u001b[24m016 NAs      28\n",
      "\u001b[90m14\u001b[39m  \u001b[4m2\u001b[24m016 Sales   338\n"
     ]
    },
    {
     "name": "stderr",
     "output_type": "stream",
     "text": [
      "Warning message:\n",
      "\"\u001b[1m\u001b[22mUsing `size` aesthetic for lines was deprecated in\n",
      "ggplot2 3.4.0.\n",
      "\u001b[36mℹ\u001b[39m Please use `linewidth` instead.\"\n"
     ]
    },
    {
     "data": {
      "image/png": "[encoded data removed]",
      "text/plain": [
       "plot without title"
      ]
     },
     "metadata": {
      "image/png": {
       "height": 420,
       "width": 420
      }
     },
     "output_type": "display_data"
    }
   ],
   "source": [
    "kenya_StickerforLess \n",
    "\n",
    "library(tidyr)\n",
    "\n",
    "# Reshape data to long format\n",
    "data_long <- kenya_StickerforLess  %>%\n",
    "  pivot_longer(cols = c(NAs, Sales), names_to = \"Type\", values_to = \"Count\")\n",
    "\n",
    "# Display the reshaped data (optional)\n",
    "print(data_long)\n",
    "\n",
    "# Create the plot\n",
    "ggplot(data_long, aes(x = Yrs, y = Count, color = Type, group = Type)) +\n",
    "  geom_line(size = 1) +\n",
    "  geom_point(size = 2) +\n",
    "  labs(title = \"NA Counts and Sales Over Years\",\n",
    "       subtitle = \"Keny: Stickers for Less/Holographic Goose\",\n",
    "       x = \"Year\",\n",
    "       y = \"Count\",\n",
    "       color = \"Legend\") +\n",
    "  theme_minimal()\n"
   ]
  },
  {
   "cell_type": "markdown",
   "id": "12f6c5cb-ae75-4e7b-90ed-9338657ab4b1",
   "metadata": {},
   "source": [
    "### <font color = lime> group-by / date example:"
   ]
  },
  {
   "cell_type": "code",
   "execution_count": 35,
   "id": "bc304bf9-983c-4d5b-a23d-cc78a787d77e",
   "metadata": {},
   "outputs": [
    {
     "data": {
      "text/html": [
       "<table class=\"dataframe\">\n",
       "<caption>A tibble: 1 × 1</caption>\n",
       "<thead>\n",
       "\t<tr><th scope=col>sales</th></tr>\n",
       "\t<tr><th scope=col>&lt;dbl&gt;</th></tr>\n",
       "</thead>\n",
       "<tbody>\n",
       "\t<tr><td>30</td></tr>\n",
       "</tbody>\n",
       "</table>\n"
      ],
      "text/latex": [
       "A tibble: 1 × 1\n",
       "\\begin{tabular}{l}\n",
       " sales\\\\\n",
       " <dbl>\\\\\n",
       "\\hline\n",
       "\t 30\\\\\n",
       "\\end{tabular}\n"
      ],
      "text/markdown": [
       "\n",
       "A tibble: 1 × 1\n",
       "\n",
       "| sales &lt;dbl&gt; |\n",
       "|---|\n",
       "| 30 |\n",
       "\n"
      ],
      "text/plain": [
       "  sales\n",
       "1 30   "
      ]
     },
     "metadata": {},
     "output_type": "display_data"
    },
    {
     "data": {
      "text/html": [
       "<table class=\"dataframe\">\n",
       "<caption>A tibble: 3 × 10</caption>\n",
       "<thead>\n",
       "\t<tr><th scope=col>id</th><th scope=col>date</th><th scope=col>country</th><th scope=col>store</th><th scope=col>product</th><th scope=col>num_sold</th><th scope=col>year</th><th scope=col>mo</th><th scope=col>day</th><th scope=col>wkday</th></tr>\n",
       "\t<tr><th scope=col>&lt;dbl&gt;</th><th scope=col>&lt;date&gt;</th><th scope=col>&lt;chr&gt;</th><th scope=col>&lt;chr&gt;</th><th scope=col>&lt;chr&gt;</th><th scope=col>&lt;dbl&gt;</th><th scope=col>&lt;dbl&gt;</th><th scope=col>&lt;ord&gt;</th><th scope=col>&lt;int&gt;</th><th scope=col>&lt;ord&gt;</th></tr>\n",
       "</thead>\n",
       "<tbody>\n",
       "\t<tr><td> 50</td><td>2010-01-01</td><td>Kenya</td><td>Stickers for Less</td><td>Holographic Goose</td><td>5</td><td>2010</td><td>Jan</td><td>1</td><td>Fri</td></tr>\n",
       "\t<tr><td>140</td><td>2010-01-02</td><td>Kenya</td><td>Stickers for Less</td><td>Holographic Goose</td><td>5</td><td>2010</td><td>Jan</td><td>2</td><td>Sat</td></tr>\n",
       "\t<tr><td>230</td><td>2010-01-03</td><td>Kenya</td><td>Stickers for Less</td><td>Holographic Goose</td><td>5</td><td>2010</td><td>Jan</td><td>3</td><td>Sun</td></tr>\n",
       "</tbody>\n",
       "</table>\n"
      ],
      "text/latex": [
       "A tibble: 3 × 10\n",
       "\\begin{tabular}{llllllllll}\n",
       " id & date & country & store & product & num\\_sold & year & mo & day & wkday\\\\\n",
       " <dbl> & <date> & <chr> & <chr> & <chr> & <dbl> & <dbl> & <ord> & <int> & <ord>\\\\\n",
       "\\hline\n",
       "\t  50 & 2010-01-01 & Kenya & Stickers for Less & Holographic Goose & 5 & 2010 & Jan & 1 & Fri\\\\\n",
       "\t 140 & 2010-01-02 & Kenya & Stickers for Less & Holographic Goose & 5 & 2010 & Jan & 2 & Sat\\\\\n",
       "\t 230 & 2010-01-03 & Kenya & Stickers for Less & Holographic Goose & 5 & 2010 & Jan & 3 & Sun\\\\\n",
       "\\end{tabular}\n"
      ],
      "text/markdown": [
       "\n",
       "A tibble: 3 × 10\n",
       "\n",
       "| id &lt;dbl&gt; | date &lt;date&gt; | country &lt;chr&gt; | store &lt;chr&gt; | product &lt;chr&gt; | num_sold &lt;dbl&gt; | year &lt;dbl&gt; | mo &lt;ord&gt; | day &lt;int&gt; | wkday &lt;ord&gt; |\n",
       "|---|---|---|---|---|---|---|---|---|---|\n",
       "|  50 | 2010-01-01 | Kenya | Stickers for Less | Holographic Goose | 5 | 2010 | Jan | 1 | Fri |\n",
       "| 140 | 2010-01-02 | Kenya | Stickers for Less | Holographic Goose | 5 | 2010 | Jan | 2 | Sat |\n",
       "| 230 | 2010-01-03 | Kenya | Stickers for Less | Holographic Goose | 5 | 2010 | Jan | 3 | Sun |\n",
       "\n"
      ],
      "text/plain": [
       "  id  date       country store             product           num_sold year mo \n",
       "1  50 2010-01-01 Kenya   Stickers for Less Holographic Goose 5        2010 Jan\n",
       "2 140 2010-01-02 Kenya   Stickers for Less Holographic Goose 5        2010 Jan\n",
       "3 230 2010-01-03 Kenya   Stickers for Less Holographic Goose 5        2010 Jan\n",
       "  day wkday\n",
       "1 1   Fri  \n",
       "2 2   Sat  \n",
       "3 3   Sun  "
      ]
     },
     "metadata": {},
     "output_type": "display_data"
    }
   ],
   "source": [
    "test_sales <- kenya %>% filter( !is.na(num_sold) & product == \"Holographic Goose\" & store == \"Stickers for Less\" & year == \"2010\")\n",
    "test_sales %>% filter(mo == \"Jan\") %>% summarize(sales = sum(num_sold))\n",
    "head(test_sales,3)"
   ]
  },
  {
   "cell_type": "code",
   "execution_count": 36,
   "id": "09104f14-1f1c-42f1-84c1-5d47aadc1b81",
   "metadata": {},
   "outputs": [
    {
     "name": "stdout",
     "output_type": "stream",
     "text": [
      "\u001b[90m# A tibble: 5 × 2\u001b[39m\n",
      "  month      total_sales\n",
      "  \u001b[3m\u001b[90m<date>\u001b[39m\u001b[23m           \u001b[3m\u001b[90m<dbl>\u001b[39m\u001b[23m\n",
      "\u001b[90m1\u001b[39m 2010-01-01          30\n",
      "\u001b[90m2\u001b[39m 2010-02-01           5\n",
      "\u001b[90m3\u001b[39m 2010-10-01           5\n",
      "\u001b[90m4\u001b[39m 2010-11-01          20\n",
      "\u001b[90m5\u001b[39m 2010-12-01          51\n"
     ]
    },
    {
     "data": {
      "text/html": [
       "111"
      ],
      "text/latex": [
       "111"
      ],
      "text/markdown": [
       "111"
      ],
      "text/plain": [
       "[1] 111"
      ]
     },
     "metadata": {},
     "output_type": "display_data"
    }
   ],
   "source": [
    "# Assuming your dataframe is named 'df'\n",
    "# Group by month and summarize total sales for each month\n",
    "monthly_data <- test_sales %>%\n",
    "  mutate(month = floor_date(date, \"month\")) %>%\n",
    "  group_by(month) %>%\n",
    "  summarise(total_sales = sum(num_sold, na.rm = TRUE)) \n",
    "\n",
    "# Display the monthly data\n",
    "print(monthly_data)\n",
    "sum(monthly_data$total_sales)"
   ]
  },
  {
   "cell_type": "code",
   "execution_count": 37,
   "id": "d892223b-795f-4ee7-9961-02252289be39",
   "metadata": {},
   "outputs": [
    {
     "data": {
      "text/html": [
       "<table class=\"dataframe\">\n",
       "<caption>A data.frame: 7 × 3</caption>\n",
       "<thead>\n",
       "\t<tr><th scope=col>NAs</th><th scope=col>Sales</th><th scope=col>Yrs</th></tr>\n",
       "\t<tr><th scope=col>&lt;dbl&gt;</th><th scope=col>&lt;dbl&gt;</th><th scope=col>&lt;dbl&gt;</th></tr>\n",
       "</thead>\n",
       "<tbody>\n",
       "\t<tr><td>343</td><td> 22</td><td>2010</td></tr>\n",
       "\t<tr><td>331</td><td> 34</td><td>2011</td></tr>\n",
       "\t<tr><td>265</td><td>101</td><td>2012</td></tr>\n",
       "\t<tr><td>200</td><td>165</td><td>2013</td></tr>\n",
       "\t<tr><td>113</td><td>525</td><td>2014</td></tr>\n",
       "\t<tr><td> 78</td><td>287</td><td>2015</td></tr>\n",
       "\t<tr><td> 28</td><td>338</td><td>2016</td></tr>\n",
       "</tbody>\n",
       "</table>\n"
      ],
      "text/latex": [
       "A data.frame: 7 × 3\n",
       "\\begin{tabular}{lll}\n",
       " NAs & Sales & Yrs\\\\\n",
       " <dbl> & <dbl> & <dbl>\\\\\n",
       "\\hline\n",
       "\t 343 &  22 & 2010\\\\\n",
       "\t 331 &  34 & 2011\\\\\n",
       "\t 265 & 101 & 2012\\\\\n",
       "\t 200 & 165 & 2013\\\\\n",
       "\t 113 & 525 & 2014\\\\\n",
       "\t  78 & 287 & 2015\\\\\n",
       "\t  28 & 338 & 2016\\\\\n",
       "\\end{tabular}\n"
      ],
      "text/markdown": [
       "\n",
       "A data.frame: 7 × 3\n",
       "\n",
       "| NAs &lt;dbl&gt; | Sales &lt;dbl&gt; | Yrs &lt;dbl&gt; |\n",
       "|---|---|---|\n",
       "| 343 |  22 | 2010 |\n",
       "| 331 |  34 | 2011 |\n",
       "| 265 | 101 | 2012 |\n",
       "| 200 | 165 | 2013 |\n",
       "| 113 | 525 | 2014 |\n",
       "|  78 | 287 | 2015 |\n",
       "|  28 | 338 | 2016 |\n",
       "\n"
      ],
      "text/plain": [
       "  NAs Sales Yrs \n",
       "1 343  22   2010\n",
       "2 331  34   2011\n",
       "3 265 101   2012\n",
       "4 200 165   2013\n",
       "5 113 525   2014\n",
       "6  78 287   2015\n",
       "7  28 338   2016"
      ]
     },
     "metadata": {},
     "output_type": "display_data"
    }
   ],
   "source": [
    "# Holographic Goose at the Stickers for Less stores\n",
    "kenya_StickerforLess "
   ]
  },
  {
   "cell_type": "markdown",
   "id": "0a416231-f691-462d-9946-1367a33b7074",
   "metadata": {},
   "source": [
    "### <font color = lime> Kenya...||... (3) stores... || ... Holographic Goose (1) product"
   ]
  },
  {
   "cell_type": "code",
   "execution_count": 38,
   "id": "62068efb-0b08-4986-966a-f81923ea31c6",
   "metadata": {},
   "outputs": [
    {
     "name": "stdout",
     "output_type": "stream",
     "text": [
      "\n",
      " Sum of Kenya, all NA, current tally is :  2068 \n",
      "\n"
     ]
    },
    {
     "data": {
      "text/html": [
       "<style>\n",
       ".list-inline {list-style: none; margin:0; padding: 0}\n",
       ".list-inline>li {display: inline-block}\n",
       ".list-inline>li:not(:last-child)::after {content: \"\\00b7\"; padding: 0 .5ex}\n",
       "</style>\n",
       "<ol class=list-inline><li>1358</li><li>10</li></ol>\n"
      ],
      "text/latex": [
       "\\begin{enumerate*}\n",
       "\\item 1358\n",
       "\\item 10\n",
       "\\end{enumerate*}\n"
      ],
      "text/markdown": [
       "1. 1358\n",
       "2. 10\n",
       "\n",
       "\n"
      ],
      "text/plain": [
       "[1] 1358   10"
      ]
     },
     "metadata": {},
     "output_type": "display_data"
    },
    {
     "data": {
      "text/html": [
       "<style>\n",
       ".list-inline {list-style: none; margin:0; padding: 0}\n",
       ".list-inline>li {display: inline-block}\n",
       ".list-inline>li:not(:last-child)::after {content: \"\\00b7\"; padding: 0 .5ex}\n",
       "</style>\n",
       "<ol class=list-inline><li>0</li><li>10</li></ol>\n"
      ],
      "text/latex": [
       "\\begin{enumerate*}\n",
       "\\item 0\n",
       "\\item 10\n",
       "\\end{enumerate*}\n"
      ],
      "text/markdown": [
       "1. 0\n",
       "2. 10\n",
       "\n",
       "\n"
      ],
      "text/plain": [
       "[1]  0 10"
      ]
     },
     "metadata": {},
     "output_type": "display_data"
    },
    {
     "data": {
      "text/html": [
       "<style>\n",
       ".list-inline {list-style: none; margin:0; padding: 0}\n",
       ".list-inline>li {display: inline-block}\n",
       ".list-inline>li:not(:last-child)::after {content: \"\\00b7\"; padding: 0 .5ex}\n",
       "</style>\n",
       "<ol class=list-inline><li>646</li><li>10</li></ol>\n"
      ],
      "text/latex": [
       "\\begin{enumerate*}\n",
       "\\item 646\n",
       "\\item 10\n",
       "\\end{enumerate*}\n"
      ],
      "text/markdown": [
       "1. 646\n",
       "2. 10\n",
       "\n",
       "\n"
      ],
      "text/plain": [
       "[1] 646  10"
      ]
     },
     "metadata": {},
     "output_type": "display_data"
    },
    {
     "data": {
      "text/html": [
       "<style>\n",
       ".list-inline {list-style: none; margin:0; padding: 0}\n",
       ".list-inline>li {display: inline-block}\n",
       ".list-inline>li:not(:last-child)::after {content: \"\\00b7\"; padding: 0 .5ex}\n",
       "</style>\n",
       "<ol class=list-inline><li>64</li><li>10</li></ol>\n"
      ],
      "text/latex": [
       "\\begin{enumerate*}\n",
       "\\item 64\n",
       "\\item 10\n",
       "\\end{enumerate*}\n"
      ],
      "text/markdown": [
       "1. 64\n",
       "2. 10\n",
       "\n",
       "\n"
      ],
      "text/plain": [
       "[1] 64 10"
      ]
     },
     "metadata": {},
     "output_type": "display_data"
    },
    {
     "data": {
      "text/html": [
       "'xxxxxxxxxxxxxxxxxxxxxxxxxxxxxxxxxxxxxxxxxxxxxxxxxxxxxxxxxxxxxxxxxxxxxxxx'"
      ],
      "text/latex": [
       "'xxxxxxxxxxxxxxxxxxxxxxxxxxxxxxxxxxxxxxxxxxxxxxxxxxxxxxxxxxxxxxxxxxxxxxxx'"
      ],
      "text/markdown": [
       "'xxxxxxxxxxxxxxxxxxxxxxxxxxxxxxxxxxxxxxxxxxxxxxxxxxxxxxxxxxxxxxxxxxxxxxxx'"
      ],
      "text/plain": [
       "[1] \"xxxxxxxxxxxxxxxxxxxxxxxxxxxxxxxxxxxxxxxxxxxxxxxxxxxxxxxxxxxxxxxxxxxxxxxx\""
      ]
     },
     "metadata": {},
     "output_type": "display_data"
    },
    {
     "data": {
      "text/html": [
       "<style>\n",
       ".list-inline {list-style: none; margin:0; padding: 0}\n",
       ".list-inline>li {display: inline-block}\n",
       ".list-inline>li:not(:last-child)::after {content: \"\\00b7\"; padding: 0 .5ex}\n",
       "</style>\n",
       "<ol class=list-inline><li>63</li><li>10</li></ol>\n"
      ],
      "text/latex": [
       "\\begin{enumerate*}\n",
       "\\item 63\n",
       "\\item 10\n",
       "\\end{enumerate*}\n"
      ],
      "text/markdown": [
       "1. 63\n",
       "2. 10\n",
       "\n",
       "\n"
      ],
      "text/plain": [
       "[1] 63 10"
      ]
     },
     "metadata": {},
     "output_type": "display_data"
    },
    {
     "data": {
      "text/html": [
       "'xxxxxxxxxxxxxxxxxxxxxxxxxxxxxxxxxxxxxxxxxxxxxxxxxxxxxxxxxxxxxxxxxxxxxxxx'"
      ],
      "text/latex": [
       "'xxxxxxxxxxxxxxxxxxxxxxxxxxxxxxxxxxxxxxxxxxxxxxxxxxxxxxxxxxxxxxxxxxxxxxxx'"
      ],
      "text/markdown": [
       "'xxxxxxxxxxxxxxxxxxxxxxxxxxxxxxxxxxxxxxxxxxxxxxxxxxxxxxxxxxxxxxxxxxxxxxxx'"
      ],
      "text/plain": [
       "[1] \"xxxxxxxxxxxxxxxxxxxxxxxxxxxxxxxxxxxxxxxxxxxxxxxxxxxxxxxxxxxxxxxxxxxxxxxx\""
      ]
     },
     "metadata": {},
     "output_type": "display_data"
    },
    {
     "name": "stdout",
     "output_type": "stream",
     "text": [
      "\n",
      " Sum of Kenya, all stores, all years NA are reconcilled, 1358+646+64 =   2068 \n",
      "\n"
     ]
    },
    {
     "data": {
      "text/html": [
       "2068"
      ],
      "text/latex": [
       "2068"
      ],
      "text/markdown": [
       "2068"
      ],
      "text/plain": [
       "[1] 2068"
      ]
     },
     "metadata": {},
     "output_type": "display_data"
    }
   ],
   "source": [
    "# sum(is.na(kenya))\n",
    "cat(\"\\n Sum of Kenya, all NA, current tally is : \", sum(is.na(kenya)), \"\\n\\n\")\n",
    "\n",
    "dim(kenya %>% filter( is.na(num_sold) & product == \"Holographic Goose\" & store == \"Stickers for Less\"))   # 1358 x 10\n",
    "dim(kenya %>% filter(!is.na(num_sold) & product == \"Holographic Goose\" & store == \"Discount Stickers\"))       # 0 x 10\n",
    "dim(kenya %>% filter(is.na(num_sold) & product == \"Holographic Goose\" & store == \"Premium Sticker Mart\"))      # 646 x 10\n",
    "\n",
    "# That elusive 64 is: \n",
    "dim(kenya %>% filter(store == \"Discount Stickers\" & is.na(num_sold)))    # Rather insignificant NA sales / tf full sales , T/F impute\n",
    "target_ken_discount_stickers_kerneler <- kenya %>% filter(store == \"Discount Stickers\" & is.na(num_sold) & product ==\"Kerneler\")    # \n",
    "(\"xxxxxxxxxxxxxxxxxxxxxxxxxxxxxxxxxxxxxxxxxxxxxxxxxxxxxxxxxxxxxxxxxxxxxxxx\")\n",
    "dim(target_ken_discount_stickers_kerneler)\n",
    "(\"xxxxxxxxxxxxxxxxxxxxxxxxxxxxxxxxxxxxxxxxxxxxxxxxxxxxxxxxxxxxxxxxxxxxxxxx\")\n",
    "# 1358+646+64\n",
    "cat(\"\\n Sum of Kenya, all stores, all years NA are reconcilled, 1358+646+64 =  \", 1358+646+64, \"\\n\\n\")\n",
    "sum(is.na(kenya))"
   ]
  },
  {
   "cell_type": "markdown",
   "id": "a0308e65-c021-438c-bdfe-0ef55d074f1d",
   "metadata": {},
   "source": [
    "### <font color = lime> Kenya: Premium Sticker Mart (store 2 / 3 )"
   ]
  },
  {
   "cell_type": "code",
   "execution_count": 39,
   "id": "83edd73a-6a60-4e53-8060-23a283c307be",
   "metadata": {},
   "outputs": [
    {
     "data": {
      "text/html": [
       "<style>\n",
       ".list-inline {list-style: none; margin:0; padding: 0}\n",
       ".list-inline>li {display: inline-block}\n",
       ".list-inline>li:not(:last-child)::after {content: \"\\00b7\"; padding: 0 .5ex}\n",
       "</style>\n",
       "<ol class=list-inline><li>1911</li><li>10</li></ol>\n"
      ],
      "text/latex": [
       "\\begin{enumerate*}\n",
       "\\item 1911\n",
       "\\item 10\n",
       "\\end{enumerate*}\n"
      ],
      "text/markdown": [
       "1. 1911\n",
       "2. 10\n",
       "\n",
       "\n"
      ],
      "text/plain": [
       "[1] 1911   10"
      ]
     },
     "metadata": {},
     "output_type": "display_data"
    },
    {
     "data": {
      "text/html": [
       "<style>\n",
       ".list-inline {list-style: none; margin:0; padding: 0}\n",
       ".list-inline>li {display: inline-block}\n",
       ".list-inline>li:not(:last-child)::after {content: \"\\00b7\"; padding: 0 .5ex}\n",
       "</style>\n",
       "<ol class=list-inline><li>88</li><li>10</li></ol>\n"
      ],
      "text/latex": [
       "\\begin{enumerate*}\n",
       "\\item 88\n",
       "\\item 10\n",
       "\\end{enumerate*}\n"
      ],
      "text/markdown": [
       "1. 88\n",
       "2. 10\n",
       "\n",
       "\n"
      ],
      "text/plain": [
       "[1] 88 10"
      ]
     },
     "metadata": {},
     "output_type": "display_data"
    },
    {
     "data": {
      "text/html": [
       "<style>\n",
       ".list-inline {list-style: none; margin:0; padding: 0}\n",
       ".list-inline>li {display: inline-block}\n",
       ".list-inline>li:not(:last-child)::after {content: \"\\00b7\"; padding: 0 .5ex}\n",
       "</style>\n",
       "<ol class=list-inline><li>148</li><li>10</li></ol>\n"
      ],
      "text/latex": [
       "\\begin{enumerate*}\n",
       "\\item 148\n",
       "\\item 10\n",
       "\\end{enumerate*}\n"
      ],
      "text/markdown": [
       "1. 148\n",
       "2. 10\n",
       "\n",
       "\n"
      ],
      "text/plain": [
       "[1] 148  10"
      ]
     },
     "metadata": {},
     "output_type": "display_data"
    },
    {
     "data": {
      "text/html": [
       "<style>\n",
       ".list-inline {list-style: none; margin:0; padding: 0}\n",
       ".list-inline>li {display: inline-block}\n",
       ".list-inline>li:not(:last-child)::after {content: \"\\00b7\"; padding: 0 .5ex}\n",
       "</style>\n",
       "<ol class=list-inline><li>274</li><li>10</li></ol>\n"
      ],
      "text/latex": [
       "\\begin{enumerate*}\n",
       "\\item 274\n",
       "\\item 10\n",
       "\\end{enumerate*}\n"
      ],
      "text/markdown": [
       "1. 274\n",
       "2. 10\n",
       "\n",
       "\n"
      ],
      "text/plain": [
       "[1] 274  10"
      ]
     },
     "metadata": {},
     "output_type": "display_data"
    },
    {
     "data": {
      "text/html": [
       "<style>\n",
       ".list-inline {list-style: none; margin:0; padding: 0}\n",
       ".list-inline>li {display: inline-block}\n",
       ".list-inline>li:not(:last-child)::after {content: \"\\00b7\"; padding: 0 .5ex}\n",
       "</style>\n",
       "<ol class=list-inline><li>317</li><li>10</li></ol>\n"
      ],
      "text/latex": [
       "\\begin{enumerate*}\n",
       "\\item 317\n",
       "\\item 10\n",
       "\\end{enumerate*}\n"
      ],
      "text/markdown": [
       "1. 317\n",
       "2. 10\n",
       "\n",
       "\n"
      ],
      "text/plain": [
       "[1] 317  10"
      ]
     },
     "metadata": {},
     "output_type": "display_data"
    },
    {
     "data": {
      "text/html": [
       "<style>\n",
       ".list-inline {list-style: none; margin:0; padding: 0}\n",
       ".list-inline>li {display: inline-block}\n",
       ".list-inline>li:not(:last-child)::after {content: \"\\00b7\"; padding: 0 .5ex}\n",
       "</style>\n",
       "<ol class=list-inline><li>355</li><li>10</li></ol>\n"
      ],
      "text/latex": [
       "\\begin{enumerate*}\n",
       "\\item 355\n",
       "\\item 10\n",
       "\\end{enumerate*}\n"
      ],
      "text/markdown": [
       "1. 355\n",
       "2. 10\n",
       "\n",
       "\n"
      ],
      "text/plain": [
       "[1] 355  10"
      ]
     },
     "metadata": {},
     "output_type": "display_data"
    },
    {
     "data": {
      "text/html": [
       "<style>\n",
       ".list-inline {list-style: none; margin:0; padding: 0}\n",
       ".list-inline>li {display: inline-block}\n",
       ".list-inline>li:not(:last-child)::after {content: \"\\00b7\"; padding: 0 .5ex}\n",
       "</style>\n",
       "<ol class=list-inline><li>363</li><li>10</li></ol>\n"
      ],
      "text/latex": [
       "\\begin{enumerate*}\n",
       "\\item 363\n",
       "\\item 10\n",
       "\\end{enumerate*}\n"
      ],
      "text/markdown": [
       "1. 363\n",
       "2. 10\n",
       "\n",
       "\n"
      ],
      "text/plain": [
       "[1] 363  10"
      ]
     },
     "metadata": {},
     "output_type": "display_data"
    },
    {
     "data": {
      "text/html": [
       "<style>\n",
       ".list-inline {list-style: none; margin:0; padding: 0}\n",
       ".list-inline>li {display: inline-block}\n",
       ".list-inline>li:not(:last-child)::after {content: \"\\00b7\"; padding: 0 .5ex}\n",
       "</style>\n",
       "<ol class=list-inline><li>366</li><li>10</li></ol>\n"
      ],
      "text/latex": [
       "\\begin{enumerate*}\n",
       "\\item 366\n",
       "\\item 10\n",
       "\\end{enumerate*}\n"
      ],
      "text/markdown": [
       "1. 366\n",
       "2. 10\n",
       "\n",
       "\n"
      ],
      "text/plain": [
       "[1] 366  10"
      ]
     },
     "metadata": {},
     "output_type": "display_data"
    },
    {
     "data": {
      "text/html": [
       "646"
      ],
      "text/latex": [
       "646"
      ],
      "text/markdown": [
       "646"
      ],
      "text/plain": [
       "[1] 646"
      ]
     },
     "metadata": {},
     "output_type": "display_data"
    },
    {
     "data": {
      "text/html": [
       "2191"
      ],
      "text/latex": [
       "2191"
      ],
      "text/markdown": [
       "2191"
      ],
      "text/plain": [
       "[1] 2191"
      ]
     },
     "metadata": {},
     "output_type": "display_data"
    }
   ],
   "source": [
    "dim(kenya %>% filter( !is.na(num_sold) & product == \"Holographic Goose\" & store == \"Premium Sticker Mart\"))        # 646 NA / 1911 sold\n",
    "dim(kenya %>% filter( !is.na(num_sold) & product == \"Holographic Goose\" & store == \"Premium Sticker Mart\" & year == \"2010\"))   # 277 NA / 88\n",
    "dim(kenya %>% filter( !is.na(num_sold) & product == \"Holographic Goose\" & store == \"Premium Sticker Mart\" & year == \"2011\"))   # 217  NA / 148\n",
    "dim(kenya %>% filter( !is.na(num_sold) & product == \"Holographic Goose\" & store == \"Premium Sticker Mart\" & year == \"2012\"))   #  92 NA / 274 \n",
    "dim(kenya %>% filter( !is.na(num_sold) & product == \"Holographic Goose\" & store == \"Premium Sticker Mart\" & year == \"2013\"))   #  48 NA / 317\n",
    "dim(kenya %>% filter( !is.na(num_sold) & product == \"Holographic Goose\" & store == \"Premium Sticker Mart\" & year == \"2014\"))   #  10 NA/ 355\n",
    "dim(kenya %>% filter( !is.na(num_sold) & product == \"Holographic Goose\" & store == \"Premium Sticker Mart\" & year == \"2015\"))   #  2  NA/ 363\n",
    "dim(kenya %>% filter( !is.na(num_sold) & product == \"Holographic Goose\" & store == \"Premium Sticker Mart\" & year == \"2016\"))   #  0  NA/ 646  ???\n",
    "277+217+92+48+10+2\n",
    "88+148+274+317+355+363+646\n"
   ]
  },
  {
   "cell_type": "code",
   "execution_count": 40,
   "id": "bfe18150-eaf7-4b34-8cfc-8bbe3504a8af",
   "metadata": {},
   "outputs": [
    {
     "data": {
      "text/html": [
       "<table class=\"dataframe\">\n",
       "<caption>A data.frame: 7 × 3</caption>\n",
       "<thead>\n",
       "\t<tr><th scope=col>NAs</th><th scope=col>Sales</th><th scope=col>Yrs</th></tr>\n",
       "\t<tr><th scope=col>&lt;dbl&gt;</th><th scope=col>&lt;dbl&gt;</th><th scope=col>&lt;dbl&gt;</th></tr>\n",
       "</thead>\n",
       "<tbody>\n",
       "\t<tr><td>277</td><td>  88</td><td>2010</td></tr>\n",
       "\t<tr><td>217</td><td> 148</td><td>2011</td></tr>\n",
       "\t<tr><td> 92</td><td> 274</td><td>2012</td></tr>\n",
       "\t<tr><td> 48</td><td> 317</td><td>2013</td></tr>\n",
       "\t<tr><td> 10</td><td> 355</td><td>2014</td></tr>\n",
       "\t<tr><td>  2</td><td> 363</td><td>2015</td></tr>\n",
       "\t<tr><td>  0</td><td>1012</td><td>2016</td></tr>\n",
       "</tbody>\n",
       "</table>\n"
      ],
      "text/latex": [
       "A data.frame: 7 × 3\n",
       "\\begin{tabular}{lll}\n",
       " NAs & Sales & Yrs\\\\\n",
       " <dbl> & <dbl> & <dbl>\\\\\n",
       "\\hline\n",
       "\t 277 &   88 & 2010\\\\\n",
       "\t 217 &  148 & 2011\\\\\n",
       "\t  92 &  274 & 2012\\\\\n",
       "\t  48 &  317 & 2013\\\\\n",
       "\t  10 &  355 & 2014\\\\\n",
       "\t   2 &  363 & 2015\\\\\n",
       "\t   0 & 1012 & 2016\\\\\n",
       "\\end{tabular}\n"
      ],
      "text/markdown": [
       "\n",
       "A data.frame: 7 × 3\n",
       "\n",
       "| NAs &lt;dbl&gt; | Sales &lt;dbl&gt; | Yrs &lt;dbl&gt; |\n",
       "|---|---|---|\n",
       "| 277 |   88 | 2010 |\n",
       "| 217 |  148 | 2011 |\n",
       "|  92 |  274 | 2012 |\n",
       "|  48 |  317 | 2013 |\n",
       "|  10 |  355 | 2014 |\n",
       "|   2 |  363 | 2015 |\n",
       "|   0 | 1012 | 2016 |\n",
       "\n"
      ],
      "text/plain": [
       "  NAs Sales Yrs \n",
       "1 277   88  2010\n",
       "2 217  148  2011\n",
       "3  92  274  2012\n",
       "4  48  317  2013\n",
       "5  10  355  2014\n",
       "6   2  363  2015\n",
       "7   0 1012  2016"
      ]
     },
     "metadata": {},
     "output_type": "display_data"
    },
    {
     "name": "stdout",
     "output_type": "stream",
     "text": [
      "\u001b[90m# A tibble: 14 × 3\u001b[39m\n",
      "     Yrs Type  Count\n",
      "   \u001b[3m\u001b[90m<dbl>\u001b[39m\u001b[23m \u001b[3m\u001b[90m<chr>\u001b[39m\u001b[23m \u001b[3m\u001b[90m<dbl>\u001b[39m\u001b[23m\n",
      "\u001b[90m 1\u001b[39m  \u001b[4m2\u001b[24m010 NAs     277\n",
      "\u001b[90m 2\u001b[39m  \u001b[4m2\u001b[24m010 Sales    88\n",
      "\u001b[90m 3\u001b[39m  \u001b[4m2\u001b[24m011 NAs     217\n",
      "\u001b[90m 4\u001b[39m  \u001b[4m2\u001b[24m011 Sales   148\n",
      "\u001b[90m 5\u001b[39m  \u001b[4m2\u001b[24m012 NAs      92\n",
      "\u001b[90m 6\u001b[39m  \u001b[4m2\u001b[24m012 Sales   274\n",
      "\u001b[90m 7\u001b[39m  \u001b[4m2\u001b[24m013 NAs      48\n",
      "\u001b[90m 8\u001b[39m  \u001b[4m2\u001b[24m013 Sales   317\n",
      "\u001b[90m 9\u001b[39m  \u001b[4m2\u001b[24m014 NAs      10\n",
      "\u001b[90m10\u001b[39m  \u001b[4m2\u001b[24m014 Sales   355\n",
      "\u001b[90m11\u001b[39m  \u001b[4m2\u001b[24m015 NAs       2\n",
      "\u001b[90m12\u001b[39m  \u001b[4m2\u001b[24m015 Sales   363\n",
      "\u001b[90m13\u001b[39m  \u001b[4m2\u001b[24m016 NAs       0\n",
      "\u001b[90m14\u001b[39m  \u001b[4m2\u001b[24m016 Sales  \u001b[4m1\u001b[24m012\n"
     ]
    },
    {
     "data": {
      "image/png": "[encoded data removed]",
      "text/plain": [
       "plot without title"
      ]
     },
     "metadata": {
      "image/png": {
       "height": 420,
       "width": 420
      }
     },
     "output_type": "display_data"
    }
   ],
   "source": [
    "sticker_mart <- data.frame(NAs = c(277,217,92,48,10,2,0), Sales = c(88,148,274,317,355,363,366+646), Yrs = c(2010,2011,2012,2013,2014,2015,2016) )\n",
    "sticker_mart\n",
    "\n",
    "# Reshape data to long format\n",
    "data_long <- sticker_mart %>%\n",
    "  pivot_longer(cols = c(NAs, Sales), names_to = \"Type\", values_to = \"Count\")\n",
    "\n",
    "# Display the reshaped data (optional)\n",
    "print(data_long)\n",
    "\n",
    "# Create the plot\n",
    "ggplot(data_long, aes(x = Yrs, y = Count, color = Type, group = Type)) +\n",
    "  geom_line(size = 1) +\n",
    "  geom_point(size = 2) +\n",
    "  labs(title = \"NA Counts and Sales Over Years\",\n",
    "       subtitle = \"Keny: Stickers for Less/Holographic Goose\",\n",
    "       x = \"Year\",\n",
    "       y = \"Count\",\n",
    "       color = \"Legend\") +\n",
    "  theme_minimal()\n"
   ]
  },
  {
   "cell_type": "markdown",
   "id": "0af0b5b0-5146-498e-be51-bfb1f0338206",
   "metadata": {},
   "source": [
    "### <font color = lime> Impute Kenya 64: for all (two) years"
   ]
  },
  {
   "cell_type": "code",
   "execution_count": 41,
   "id": "80194fa1-5641-4399-87da-e52ddf872c8d",
   "metadata": {},
   "outputs": [
    {
     "data": {
      "text/html": [
       "<style>\n",
       ".list-inline {list-style: none; margin:0; padding: 0}\n",
       ".list-inline>li {display: inline-block}\n",
       ".list-inline>li:not(:last-child)::after {content: \"\\00b7\"; padding: 0 .5ex}\n",
       "</style>\n",
       "<ol class=list-inline><li>63</li><li>10</li></ol>\n"
      ],
      "text/latex": [
       "\\begin{enumerate*}\n",
       "\\item 63\n",
       "\\item 10\n",
       "\\end{enumerate*}\n"
      ],
      "text/markdown": [
       "1. 63\n",
       "2. 10\n",
       "\n",
       "\n"
      ],
      "text/plain": [
       "[1] 63 10"
      ]
     },
     "metadata": {},
     "output_type": "display_data"
    },
    {
     "data": {
      "text/html": [
       "<style>\n",
       ".list-inline {list-style: none; margin:0; padding: 0}\n",
       ".list-inline>li {display: inline-block}\n",
       ".list-inline>li:not(:last-child)::after {content: \"\\00b7\"; padding: 0 .5ex}\n",
       "</style>\n",
       "<ol class=list-inline><li>1</li><li>10</li></ol>\n"
      ],
      "text/latex": [
       "\\begin{enumerate*}\n",
       "\\item 1\n",
       "\\item 10\n",
       "\\end{enumerate*}\n"
      ],
      "text/markdown": [
       "1. 1\n",
       "2. 10\n",
       "\n",
       "\n"
      ],
      "text/plain": [
       "[1]  1 10"
      ]
     },
     "metadata": {},
     "output_type": "display_data"
    },
    {
     "data": {
      "text/html": [
       "<table class=\"dataframe\">\n",
       "<caption>A tibble: 1 × 10</caption>\n",
       "<thead>\n",
       "\t<tr><th scope=col>id</th><th scope=col>date</th><th scope=col>country</th><th scope=col>store</th><th scope=col>product</th><th scope=col>num_sold</th><th scope=col>year</th><th scope=col>mo</th><th scope=col>day</th><th scope=col>wkday</th></tr>\n",
       "\t<tr><th scope=col>&lt;dbl&gt;</th><th scope=col>&lt;date&gt;</th><th scope=col>&lt;chr&gt;</th><th scope=col>&lt;chr&gt;</th><th scope=col>&lt;chr&gt;</th><th scope=col>&lt;dbl&gt;</th><th scope=col>&lt;dbl&gt;</th><th scope=col>&lt;ord&gt;</th><th scope=col>&lt;int&gt;</th><th scope=col>&lt;ord&gt;</th></tr>\n",
       "</thead>\n",
       "<tbody>\n",
       "\t<tr><td>23719</td><td>2010-09-21</td><td>Kenya</td><td>Discount Stickers</td><td>Kerneler Dark Mode</td><td>NA</td><td>2010</td><td>Sep</td><td>21</td><td>Tue</td></tr>\n",
       "</tbody>\n",
       "</table>\n"
      ],
      "text/latex": [
       "A tibble: 1 × 10\n",
       "\\begin{tabular}{llllllllll}\n",
       " id & date & country & store & product & num\\_sold & year & mo & day & wkday\\\\\n",
       " <dbl> & <date> & <chr> & <chr> & <chr> & <dbl> & <dbl> & <ord> & <int> & <ord>\\\\\n",
       "\\hline\n",
       "\t 23719 & 2010-09-21 & Kenya & Discount Stickers & Kerneler Dark Mode & NA & 2010 & Sep & 21 & Tue\\\\\n",
       "\\end{tabular}\n"
      ],
      "text/markdown": [
       "\n",
       "A tibble: 1 × 10\n",
       "\n",
       "| id &lt;dbl&gt; | date &lt;date&gt; | country &lt;chr&gt; | store &lt;chr&gt; | product &lt;chr&gt; | num_sold &lt;dbl&gt; | year &lt;dbl&gt; | mo &lt;ord&gt; | day &lt;int&gt; | wkday &lt;ord&gt; |\n",
       "|---|---|---|---|---|---|---|---|---|---|\n",
       "| 23719 | 2010-09-21 | Kenya | Discount Stickers | Kerneler Dark Mode | NA | 2010 | Sep | 21 | Tue |\n",
       "\n"
      ],
      "text/plain": [
       "  id    date       country store             product            num_sold year\n",
       "1 23719 2010-09-21 Kenya   Discount Stickers Kerneler Dark Mode NA       2010\n",
       "  mo  day wkday\n",
       "1 Sep 21  Tue  "
      ]
     },
     "metadata": {},
     "output_type": "display_data"
    },
    {
     "data": {
      "text/html": [
       "<style>\n",
       ".list-inline {list-style: none; margin:0; padding: 0}\n",
       ".list-inline>li {display: inline-block}\n",
       ".list-inline>li:not(:last-child)::after {content: \"\\00b7\"; padding: 0 .5ex}\n",
       "</style>\n",
       "<ol class=list-inline><li>46</li><li>10</li></ol>\n"
      ],
      "text/latex": [
       "\\begin{enumerate*}\n",
       "\\item 46\n",
       "\\item 10\n",
       "\\end{enumerate*}\n"
      ],
      "text/markdown": [
       "1. 46\n",
       "2. 10\n",
       "\n",
       "\n"
      ],
      "text/plain": [
       "[1] 46 10"
      ]
     },
     "metadata": {},
     "output_type": "display_data"
    },
    {
     "data": {
      "text/html": [
       "<style>\n",
       ".list-inline {list-style: none; margin:0; padding: 0}\n",
       ".list-inline>li {display: inline-block}\n",
       ".list-inline>li:not(:last-child)::after {content: \"\\00b7\"; padding: 0 .5ex}\n",
       "</style>\n",
       "<ol class=list-inline><li>17</li><li>10</li></ol>\n"
      ],
      "text/latex": [
       "\\begin{enumerate*}\n",
       "\\item 17\n",
       "\\item 10\n",
       "\\end{enumerate*}\n"
      ],
      "text/markdown": [
       "1. 17\n",
       "2. 10\n",
       "\n",
       "\n"
      ],
      "text/plain": [
       "[1] 17 10"
      ]
     },
     "metadata": {},
     "output_type": "display_data"
    },
    {
     "data": {
      "text/html": [
       "<style>\n",
       ".list-inline {list-style: none; margin:0; padding: 0}\n",
       ".list-inline>li {display: inline-block}\n",
       ".list-inline>li:not(:last-child)::after {content: \"\\00b7\"; padding: 0 .5ex}\n",
       "</style>\n",
       "<ol class=list-inline><li>1</li><li>10</li></ol>\n"
      ],
      "text/latex": [
       "\\begin{enumerate*}\n",
       "\\item 1\n",
       "\\item 10\n",
       "\\end{enumerate*}\n"
      ],
      "text/markdown": [
       "1. 1\n",
       "2. 10\n",
       "\n",
       "\n"
      ],
      "text/plain": [
       "[1]  1 10"
      ]
     },
     "metadata": {},
     "output_type": "display_data"
    },
    {
     "data": {
      "text/html": [
       "<style>\n",
       ".list-inline {list-style: none; margin:0; padding: 0}\n",
       ".list-inline>li {display: inline-block}\n",
       ".list-inline>li:not(:last-child)::after {content: \"\\00b7\"; padding: 0 .5ex}\n",
       "</style>\n",
       "<ol class=list-inline><li>64</li><li>10</li></ol>\n"
      ],
      "text/latex": [
       "\\begin{enumerate*}\n",
       "\\item 64\n",
       "\\item 10\n",
       "\\end{enumerate*}\n"
      ],
      "text/markdown": [
       "1. 64\n",
       "2. 10\n",
       "\n",
       "\n"
      ],
      "text/plain": [
       "[1] 64 10"
      ]
     },
     "metadata": {},
     "output_type": "display_data"
    },
    {
     "name": "stdout",
     "output_type": "stream",
     "text": [
      "\n",
      " Loads of effort to get that mean for one Kerneler Dark Mode in Discount Stickers:  5.344828 \n",
      "\n"
     ]
    },
    {
     "data": {
      "text/html": [
       "<style>\n",
       ".list-inline {list-style: none; margin:0; padding: 0}\n",
       ".list-inline>li {display: inline-block}\n",
       ".list-inline>li:not(:last-child)::after {content: \"\\00b7\"; padding: 0 .5ex}\n",
       "</style>\n",
       "<ol class=list-inline><li>64</li><li>10</li></ol>\n"
      ],
      "text/latex": [
       "\\begin{enumerate*}\n",
       "\\item 64\n",
       "\\item 10\n",
       "\\end{enumerate*}\n"
      ],
      "text/markdown": [
       "1. 64\n",
       "2. 10\n",
       "\n",
       "\n"
      ],
      "text/plain": [
       "[1] 64 10"
      ]
     },
     "metadata": {},
     "output_type": "display_data"
    },
    {
     "data": {
      "text/html": [
       "<style>\n",
       ".list-inline {list-style: none; margin:0; padding: 0}\n",
       ".list-inline>li {display: inline-block}\n",
       ".list-inline>li:not(:last-child)::after {content: \"\\00b7\"; padding: 0 .5ex}\n",
       "</style>\n",
       "<ol class=list-inline><li>17</li><li>10</li></ol>\n"
      ],
      "text/latex": [
       "\\begin{enumerate*}\n",
       "\\item 17\n",
       "\\item 10\n",
       "\\end{enumerate*}\n"
      ],
      "text/markdown": [
       "1. 17\n",
       "2. 10\n",
       "\n",
       "\n"
      ],
      "text/plain": [
       "[1] 17 10"
      ]
     },
     "metadata": {},
     "output_type": "display_data"
    },
    {
     "data": {
      "text/html": [
       "<style>\n",
       ".list-inline {list-style: none; margin:0; padding: 0}\n",
       ".list-inline>li {display: inline-block}\n",
       ".list-inline>li:not(:last-child)::after {content: \"\\00b7\"; padding: 0 .5ex}\n",
       "</style>\n",
       "<ol class=list-inline><li>46</li><li>10</li></ol>\n"
      ],
      "text/latex": [
       "\\begin{enumerate*}\n",
       "\\item 46\n",
       "\\item 10\n",
       "\\end{enumerate*}\n"
      ],
      "text/markdown": [
       "1. 46\n",
       "2. 10\n",
       "\n",
       "\n"
      ],
      "text/plain": [
       "[1] 46 10"
      ]
     },
     "metadata": {},
     "output_type": "display_data"
    },
    {
     "data": {
      "text/html": [
       "<style>\n",
       ".list-inline {list-style: none; margin:0; padding: 0}\n",
       ".list-inline>li {display: inline-block}\n",
       ".list-inline>li:not(:last-child)::after {content: \"\\00b7\"; padding: 0 .5ex}\n",
       "</style>\n",
       "<ol class=list-inline><li>17</li><li>10</li></ol>\n"
      ],
      "text/latex": [
       "\\begin{enumerate*}\n",
       "\\item 17\n",
       "\\item 10\n",
       "\\end{enumerate*}\n"
      ],
      "text/markdown": [
       "1. 17\n",
       "2. 10\n",
       "\n",
       "\n"
      ],
      "text/plain": [
       "[1] 17 10"
      ]
     },
     "metadata": {},
     "output_type": "display_data"
    },
    {
     "data": {
      "text/html": [
       "<style>\n",
       ".list-inline {list-style: none; margin:0; padding: 0}\n",
       ".list-inline>li {display: inline-block}\n",
       ".list-inline>li:not(:last-child)::after {content: \"\\00b7\"; padding: 0 .5ex}\n",
       "</style>\n",
       "<ol class=list-inline><li>0</li><li>10</li></ol>\n"
      ],
      "text/latex": [
       "\\begin{enumerate*}\n",
       "\\item 0\n",
       "\\item 10\n",
       "\\end{enumerate*}\n"
      ],
      "text/markdown": [
       "1. 0\n",
       "2. 10\n",
       "\n",
       "\n"
      ],
      "text/plain": [
       "[1]  0 10"
      ]
     },
     "metadata": {},
     "output_type": "display_data"
    },
    {
     "data": {
      "text/html": [
       "<style>\n",
       ".list-inline {list-style: none; margin:0; padding: 0}\n",
       ".list-inline>li {display: inline-block}\n",
       ".list-inline>li:not(:last-child)::after {content: \"\\00b7\"; padding: 0 .5ex}\n",
       "</style>\n",
       "<ol class=list-inline><li>0</li><li>10</li></ol>\n"
      ],
      "text/latex": [
       "\\begin{enumerate*}\n",
       "\\item 0\n",
       "\\item 10\n",
       "\\end{enumerate*}\n"
      ],
      "text/markdown": [
       "1. 0\n",
       "2. 10\n",
       "\n",
       "\n"
      ],
      "text/plain": [
       "[1]  0 10"
      ]
     },
     "metadata": {},
     "output_type": "display_data"
    },
    {
     "data": {
      "text/html": [
       "<style>\n",
       ".list-inline {list-style: none; margin:0; padding: 0}\n",
       ".list-inline>li {display: inline-block}\n",
       ".list-inline>li:not(:last-child)::after {content: \"\\00b7\"; padding: 0 .5ex}\n",
       "</style>\n",
       "<ol class=list-inline><li>0</li><li>10</li></ol>\n"
      ],
      "text/latex": [
       "\\begin{enumerate*}\n",
       "\\item 0\n",
       "\\item 10\n",
       "\\end{enumerate*}\n"
      ],
      "text/markdown": [
       "1. 0\n",
       "2. 10\n",
       "\n",
       "\n"
      ],
      "text/plain": [
       "[1]  0 10"
      ]
     },
     "metadata": {},
     "output_type": "display_data"
    },
    {
     "data": {
      "text/html": [
       "<style>\n",
       ".list-inline {list-style: none; margin:0; padding: 0}\n",
       ".list-inline>li {display: inline-block}\n",
       ".list-inline>li:not(:last-child)::after {content: \"\\00b7\"; padding: 0 .5ex}\n",
       "</style>\n",
       "<ol class=list-inline><li>0</li><li>10</li></ol>\n"
      ],
      "text/latex": [
       "\\begin{enumerate*}\n",
       "\\item 0\n",
       "\\item 10\n",
       "\\end{enumerate*}\n"
      ],
      "text/markdown": [
       "1. 0\n",
       "2. 10\n",
       "\n",
       "\n"
      ],
      "text/plain": [
       "[1]  0 10"
      ]
     },
     "metadata": {},
     "output_type": "display_data"
    },
    {
     "data": {
      "text/html": [
       "<table class=\"dataframe\">\n",
       "<caption>A tibble: 6 × 10</caption>\n",
       "<thead>\n",
       "\t<tr><th scope=col>id</th><th scope=col>date</th><th scope=col>country</th><th scope=col>store</th><th scope=col>product</th><th scope=col>num_sold</th><th scope=col>year</th><th scope=col>mo</th><th scope=col>day</th><th scope=col>wkday</th></tr>\n",
       "\t<tr><th scope=col>&lt;dbl&gt;</th><th scope=col>&lt;date&gt;</th><th scope=col>&lt;chr&gt;</th><th scope=col>&lt;chr&gt;</th><th scope=col>&lt;chr&gt;</th><th scope=col>&lt;dbl&gt;</th><th scope=col>&lt;dbl&gt;</th><th scope=col>&lt;ord&gt;</th><th scope=col>&lt;int&gt;</th><th scope=col>&lt;ord&gt;</th></tr>\n",
       "</thead>\n",
       "<tbody>\n",
       "\t<tr><td>1128</td><td>2010-01-13</td><td>Kenya</td><td>Discount Stickers</td><td>Kerneler</td><td>NA</td><td>2010</td><td>Jan</td><td>13</td><td>Wed</td></tr>\n",
       "\t<tr><td>3108</td><td>2010-02-04</td><td>Kenya</td><td>Discount Stickers</td><td>Kerneler</td><td>NA</td><td>2010</td><td>Feb</td><td> 4</td><td>Thu</td></tr>\n",
       "\t<tr><td>3558</td><td>2010-02-09</td><td>Kenya</td><td>Discount Stickers</td><td>Kerneler</td><td>NA</td><td>2010</td><td>Feb</td><td> 9</td><td>Tue</td></tr>\n",
       "\t<tr><td>3738</td><td>2010-02-11</td><td>Kenya</td><td>Discount Stickers</td><td>Kerneler</td><td>NA</td><td>2010</td><td>Feb</td><td>11</td><td>Thu</td></tr>\n",
       "\t<tr><td>4098</td><td>2010-02-15</td><td>Kenya</td><td>Discount Stickers</td><td>Kerneler</td><td>NA</td><td>2010</td><td>Feb</td><td>15</td><td>Mon</td></tr>\n",
       "\t<tr><td>4188</td><td>2010-02-16</td><td>Kenya</td><td>Discount Stickers</td><td>Kerneler</td><td>NA</td><td>2010</td><td>Feb</td><td>16</td><td>Tue</td></tr>\n",
       "</tbody>\n",
       "</table>\n"
      ],
      "text/latex": [
       "A tibble: 6 × 10\n",
       "\\begin{tabular}{llllllllll}\n",
       " id & date & country & store & product & num\\_sold & year & mo & day & wkday\\\\\n",
       " <dbl> & <date> & <chr> & <chr> & <chr> & <dbl> & <dbl> & <ord> & <int> & <ord>\\\\\n",
       "\\hline\n",
       "\t 1128 & 2010-01-13 & Kenya & Discount Stickers & Kerneler & NA & 2010 & Jan & 13 & Wed\\\\\n",
       "\t 3108 & 2010-02-04 & Kenya & Discount Stickers & Kerneler & NA & 2010 & Feb &  4 & Thu\\\\\n",
       "\t 3558 & 2010-02-09 & Kenya & Discount Stickers & Kerneler & NA & 2010 & Feb &  9 & Tue\\\\\n",
       "\t 3738 & 2010-02-11 & Kenya & Discount Stickers & Kerneler & NA & 2010 & Feb & 11 & Thu\\\\\n",
       "\t 4098 & 2010-02-15 & Kenya & Discount Stickers & Kerneler & NA & 2010 & Feb & 15 & Mon\\\\\n",
       "\t 4188 & 2010-02-16 & Kenya & Discount Stickers & Kerneler & NA & 2010 & Feb & 16 & Tue\\\\\n",
       "\\end{tabular}\n"
      ],
      "text/markdown": [
       "\n",
       "A tibble: 6 × 10\n",
       "\n",
       "| id &lt;dbl&gt; | date &lt;date&gt; | country &lt;chr&gt; | store &lt;chr&gt; | product &lt;chr&gt; | num_sold &lt;dbl&gt; | year &lt;dbl&gt; | mo &lt;ord&gt; | day &lt;int&gt; | wkday &lt;ord&gt; |\n",
       "|---|---|---|---|---|---|---|---|---|---|\n",
       "| 1128 | 2010-01-13 | Kenya | Discount Stickers | Kerneler | NA | 2010 | Jan | 13 | Wed |\n",
       "| 3108 | 2010-02-04 | Kenya | Discount Stickers | Kerneler | NA | 2010 | Feb |  4 | Thu |\n",
       "| 3558 | 2010-02-09 | Kenya | Discount Stickers | Kerneler | NA | 2010 | Feb |  9 | Tue |\n",
       "| 3738 | 2010-02-11 | Kenya | Discount Stickers | Kerneler | NA | 2010 | Feb | 11 | Thu |\n",
       "| 4098 | 2010-02-15 | Kenya | Discount Stickers | Kerneler | NA | 2010 | Feb | 15 | Mon |\n",
       "| 4188 | 2010-02-16 | Kenya | Discount Stickers | Kerneler | NA | 2010 | Feb | 16 | Tue |\n",
       "\n"
      ],
      "text/plain": [
       "  id   date       country store             product  num_sold year mo  day\n",
       "1 1128 2010-01-13 Kenya   Discount Stickers Kerneler NA       2010 Jan 13 \n",
       "2 3108 2010-02-04 Kenya   Discount Stickers Kerneler NA       2010 Feb  4 \n",
       "3 3558 2010-02-09 Kenya   Discount Stickers Kerneler NA       2010 Feb  9 \n",
       "4 3738 2010-02-11 Kenya   Discount Stickers Kerneler NA       2010 Feb 11 \n",
       "5 4098 2010-02-15 Kenya   Discount Stickers Kerneler NA       2010 Feb 15 \n",
       "6 4188 2010-02-16 Kenya   Discount Stickers Kerneler NA       2010 Feb 16 \n",
       "  wkday\n",
       "1 Wed  \n",
       "2 Thu  \n",
       "3 Tue  \n",
       "4 Thu  \n",
       "5 Mon  \n",
       "6 Tue  "
      ]
     },
     "metadata": {},
     "output_type": "display_data"
    },
    {
     "data": {
      "text/html": [
       "<style>\n",
       ".list-inline {list-style: none; margin:0; padding: 0}\n",
       ".list-inline>li {display: inline-block}\n",
       ".list-inline>li:not(:last-child)::after {content: \"\\00b7\"; padding: 0 .5ex}\n",
       "</style>\n",
       "<ol class=list-inline><li>6</li><li>6</li><li>7</li><li>7</li><li>8</li><li>9</li><li>9</li></ol>\n"
      ],
      "text/latex": [
       "\\begin{enumerate*}\n",
       "\\item 6\n",
       "\\item 6\n",
       "\\item 7\n",
       "\\item 7\n",
       "\\item 8\n",
       "\\item 9\n",
       "\\item 9\n",
       "\\end{enumerate*}\n"
      ],
      "text/markdown": [
       "1. 6\n",
       "2. 6\n",
       "3. 7\n",
       "4. 7\n",
       "5. 8\n",
       "6. 9\n",
       "7. 9\n",
       "\n",
       "\n"
      ],
      "text/plain": [
       "[1] 6 6 7 7 8 9 9"
      ]
     },
     "metadata": {},
     "output_type": "display_data"
    }
   ],
   "source": [
    "dim(kenya %>% filter(store == \"Discount Stickers\" & is.na(num_sold) & product ==\"Kerneler\")) \n",
    "dim(kenya %>% filter(store == \"Discount Stickers\" & is.na(num_sold) & product !=\"Kerneler\")) # the odd ball is found\n",
    "# id that odd ball\n",
    "kenya %>% filter(store == \"Discount Stickers\" & is.na(num_sold) & product !=\"Kerneler\")\n",
    "\n",
    "dim(kenya %>% filter(store == \"Discount Stickers\" & is.na(num_sold) & product ==\"Kerneler\" & year == \"2010\") )\n",
    "dim(kenya %>% filter(store == \"Discount Stickers\" & is.na(num_sold) & product ==\"Kerneler\" & year == \"2011\") )\n",
    "dim(kenya %>% filter(store == \"Discount Stickers\" & is.na(num_sold) & product !=\"Kerneler\")) # the odd ball is found\n",
    "dim(kenya %>% filter(store == \"Discount Stickers\" & is.na(num_sold))) \n",
    "\n",
    "# Find the mean for replacment \n",
    "# kenya %>% filter(store == \"Discount Stickers\" & year == \"2010\" & product == \"Kerneler Dark Mode\" & mo == \"Sep\")\n",
    "temp <- kenya %>% filter(store == \"Discount Stickers\" & year == \"2010\" & product == \"Kerneler Dark Mode\" ) \n",
    "\n",
    "temp1 <- temp %>% \n",
    "  filter(mo == \"Sep\") %>% \n",
    "  summarize(mean_sold = mean(num_sold, na.rm = TRUE))\n",
    "\n",
    "temp1 <- c(temp1$mean_sold)  # convert tibble to vector for cat()\n",
    "\n",
    "#temp %>% summarise(mean_num_sold = mean(num_sold))\n",
    "\n",
    "cat(\"\\n Loads of effort to get that mean for one Kerneler Dark Mode in Discount Stickers: \", temp1, \"\\n\\n\")\n",
    "#get_mean <- kenya %>% filter(store == \"Discount Stickers\" & year == \"2010\" & product == \"Kerneler Dark Mode\" & mo == \"Sep\") \n",
    "#get_mean\n",
    "\n",
    "\n",
    "\n",
    "dim(kenya %>% filter(store == \"Discount Stickers\" & is.na(num_sold))) \n",
    "dim(target_ken_discount_stickers_kerneler %>% filter(is.na(num_sold) & year == \"2011\") )\n",
    "dim(target_ken_discount_stickers_kerneler %>% filter(year == \"2010\" ))  # 46\n",
    "dim(target_ken_discount_stickers_kerneler %>% filter(year == \"2011\" ) ) # 17\n",
    "dim(target_ken_discount_stickers_kerneler %>% filter(year == \"2013\" ))    # 0\n",
    "dim(target_ken_discount_stickers_kerneler %>% filter(year == \"2014\" ))    # 0\n",
    "dim(target_ken_discount_stickers_kerneler %>% filter(year == \"2015\" ))  # It is not the same parameter\n",
    "dim(target_ken_discount_stickers_kerneler %>% filter(year == \"2016\" )) \n",
    "# kenya %>% filter(store == \"Discount Stickers\" & product == \"kerneler\n",
    "head(kenya %>% filter(store == \"Discount Stickers\" & is.na(num_sold) & product ==\"Kerneler\")   )\n",
    "\n",
    "# kenya %>% filter(store == \"Discount Stickers\" & !is.na(num_sold) & product ==\"Kerneler\", mo == \"Jan\") \n",
    "# get_mean <- kenya %>% filter(store == \"Discount Stickers\" & !is.na(num_sold) & product ==\"Kerneler\", year == \"2016\") %>% summarise(mean_num_sold = mean(num_sold))  \n",
    "\n",
    "repl_yr <- c( 6,6,7,7, 8,9,9)  # and the oddball is ... 5\n",
    "repl_yr"
   ]
  },
  {
   "cell_type": "code",
   "execution_count": null,
   "id": "68c16491-9914-487a-8313-aeb1dd007557",
   "metadata": {},
   "outputs": [],
   "source": []
  },
  {
   "cell_type": "markdown",
   "id": "51c7db48-7f27-4977-98da-58f34c0c4229",
   "metadata": {},
   "source": [
    "# <font color = lime> Exec Decision: \n",
    "\n",
    "### <font color = yellow> Remove NA when NA > Sales, Replace NA w/ 0 when Sales > NA\n",
    "### <font color = yellow> Proceed with model builds w/ flawed Canada NA data"
   ]
  },
  {
   "cell_type": "code",
   "execution_count": 42,
   "id": "49bc7e91-64fd-412a-866d-fc70890755d3",
   "metadata": {},
   "outputs": [
    {
     "data": {
      "text/html": [
       "3757"
      ],
      "text/latex": [
       "3757"
      ],
      "text/markdown": [
       "3757"
      ],
      "text/plain": [
       "[1] 3757"
      ]
     },
     "metadata": {},
     "output_type": "display_data"
    },
    {
     "data": {
      "text/html": [
       "2068"
      ],
      "text/latex": [
       "2068"
      ],
      "text/markdown": [
       "2068"
      ],
      "text/plain": [
       "[1] 2068"
      ]
     },
     "metadata": {},
     "output_type": "display_data"
    }
   ],
   "source": [
    "sum(is.na(train))\n",
    "sum(is.na(kenya))"
   ]
  },
  {
   "cell_type": "code",
   "execution_count": null,
   "id": "899a844d-de1f-4b4b-87f7-7861de0b8702",
   "metadata": {},
   "outputs": [],
   "source": []
  },
  {
   "cell_type": "code",
   "execution_count": null,
   "id": "5747abc5-a4be-4296-a16f-6fdfb6314786",
   "metadata": {},
   "outputs": [],
   "source": []
  },
  {
   "cell_type": "code",
   "execution_count": null,
   "id": "80af63aa-d540-4265-a03a-9fec195ce5a6",
   "metadata": {},
   "outputs": [],
   "source": []
  },
  {
   "cell_type": "code",
   "execution_count": null,
   "id": "c18c1ff5-85ff-4011-91a4-8631daa5bd6d",
   "metadata": {},
   "outputs": [],
   "source": []
  },
  {
   "cell_type": "code",
   "execution_count": null,
   "id": "8eeff21f-a5eb-451f-b269-8a618e76a7cd",
   "metadata": {},
   "outputs": [],
   "source": []
  },
  {
   "cell_type": "code",
   "execution_count": 43,
   "id": "230077be-f493-46d0-ad61-017f767561cd",
   "metadata": {},
   "outputs": [
    {
     "ename": "ERROR",
     "evalue": "Error: object 'stopper' not found\n",
     "output_type": "error",
     "traceback": [
      "Error: object 'stopper' not found\nTraceback:\n"
     ]
    }
   ],
   "source": [
    "stopper # After 64 imputed and ....# 95"
   ]
  },
  {
   "cell_type": "code",
   "execution_count": null,
   "id": "b18d7760-2c18-4031-ad53-0abda25e9507",
   "metadata": {},
   "outputs": [],
   "source": []
  },
  {
   "cell_type": "code",
   "execution_count": null,
   "id": "843e52f3-72a9-4e85-a27e-4f0a068f5920",
   "metadata": {},
   "outputs": [],
   "source": [
    "dim(canada_na %>% filter(store == \"Stickers for Less\"))\n",
    "dim(canada_na %>% filter(store == \"Premium Sticker Mart\"))\n",
    "dim(canada_na %>% filter(store == \"Discount Stickers\" ) )\n",
    "\n",
    "\n",
    "cat(\"\\n Total NA Canada are: \", 1308+380+1, \"\\n\")\n",
    "cat(\"\\n Total remaining NA are counted in full:\",  2068 + 1689, \" Tally NA is: \", tally_na, \"\\n\")"
   ]
  },
  {
   "cell_type": "code",
   "execution_count": null,
   "id": "0b1dfd4a-dadb-4a4d-be56-16610723fad3",
   "metadata": {},
   "outputs": [],
   "source": [
    "#library(rle)"
   ]
  },
  {
   "cell_type": "code",
   "execution_count": null,
   "id": "f0f8759a-06e8-4adc-8325-01cfee0344a1",
   "metadata": {},
   "outputs": [],
   "source": [
    "store1 <- kenya_na %>% filter(store == \"Stickers for Less\")\n",
    "dim(store1)\n",
    "store1_indices <- store1$id\n",
    "store2 <- kenya_na %>% filter(store == \"Premium Sticker Mart\")\n",
    "dim(store2)\n",
    "store2_indices <- store2$id\n",
    "store3 <- kenya_na %>% filter(store == \"Discount Stickers\" ) \n",
    "dim(store3)\n",
    "store3_indices <- store3$id\n",
    "ken <- 1358+646+64\n",
    "cat(\"\\n The total NAs from the 3 store types in Kenya are: \", ken ,\"\\n\\n\")"
   ]
  },
  {
   "cell_type": "code",
   "execution_count": null,
   "id": "5398a75d-44d5-4bab-8cec-a48c13c89060",
   "metadata": {},
   "outputs": [],
   "source": []
  },
  {
   "cell_type": "markdown",
   "id": "ed18bf0a-dda6-48fe-bb6e-7f4f63ade3ce",
   "metadata": {},
   "source": [
    "## <font color = lime> Drill Down Canada NA:"
   ]
  },
  {
   "cell_type": "code",
   "execution_count": null,
   "id": "422f44e2-9ebf-4b76-afe2-42eb0ac040ea",
   "metadata": {},
   "outputs": [],
   "source": [
    "sum(is.na(canada_na))\n",
    "head(canada_na)"
   ]
  },
  {
   "cell_type": "code",
   "execution_count": null,
   "id": "63f17d65-5066-4b71-b1cd-04e8fd73e3fc",
   "metadata": {},
   "outputs": [],
   "source": [
    "store1 <- canada_na %>% filter(store == \"Stickers for Less\")\n",
    "dim(store1)\n",
    "indices_store1 <- store1$id\n",
    "store2 <- canada_na %>% filter(store == \"Premium Sticker Mart\")\n",
    "dim(store2)\n",
    "indices_store2 <- store2$id\n",
    "store3 <- canada_na %>% filter(store == \"Discount Stickers\" ) \n",
    "dim(store3)\n",
    "indices_store3 <- store3$id\n",
    "can <- 1308 + 380+ 1\n",
    "\n",
    "cat(\"\\n The total NAs from the 3 store types in Canada are: \", can ,\"\\n\\n\")"
   ]
  },
  {
   "cell_type": "markdown",
   "id": "181db96a-d312-462f-ae9d-c04bb8f5d2f1",
   "metadata": {},
   "source": [
    "# <font color = lime> Reconciled NAs:\n",
    "\n",
    "### <font color = yellow> NAs in Kenya & Canada equal NA in train"
   ]
  },
  {
   "cell_type": "code",
   "execution_count": null,
   "id": "5fa201b8-41bc-4186-9b09-46500c70165b",
   "metadata": {},
   "outputs": [],
   "source": [
    "sum(is.na(train))\n",
    "kencan <- can + ken\n",
    "kencan\n",
    "    "
   ]
  },
  {
   "cell_type": "code",
   "execution_count": null,
   "id": "50a4212e-9d3f-45b6-b873-38ec79eba470",
   "metadata": {},
   "outputs": [],
   "source": []
  },
  {
   "cell_type": "code",
   "execution_count": null,
   "id": "bb463ead-713f-4e40-b790-11b90ad0b26d",
   "metadata": {},
   "outputs": [],
   "source": []
  },
  {
   "cell_type": "markdown",
   "id": "253e1ebc-b95d-4403-959d-db45de1e33a7",
   "metadata": {},
   "source": [
    "# <font color = lime> Function Call: df_year w/ ALL daily data (each yr)"
   ]
  },
  {
   "cell_type": "code",
   "execution_count": null,
   "id": "3d71924f-6920-4030-be23-27aa023722bd",
   "metadata": {},
   "outputs": [],
   "source": [
    "# Initialize the vector of years\n",
    "yr <- c(2010, 2011, 2012, 2013, 2014, 2015, 2016)\n",
    "\n",
    "for (i in 1:length(yr)) {\n",
    "  # Generate the filtered data for the current year\n",
    "  filtered_data <- get_filtered_year(yr[i])\n",
    "  \n",
    "  # Create a dynamic variable name\n",
    "  var_name <- paste0(\"year_\", yr[i])\n",
    "  \n",
    "  # Assign the filtered data to the dynamic variable name\n",
    "  assign(var_name, filtered_data)\n",
    "}\n",
    "\n",
    "# Example: Display the content of the dynamically created dataframes\n",
    "dim(year_2010)\n",
    "dim(year_2011)\n",
    "head(year_2010,3)\n"
   ]
  },
  {
   "cell_type": "code",
   "execution_count": null,
   "id": "a061ea39-b36b-415f-b50d-0ae357ee04e8",
   "metadata": {},
   "outputs": [],
   "source": []
  },
  {
   "cell_type": "markdown",
   "id": "89d1b6fd-030f-4784-90cd-0da2ce3b46ec",
   "metadata": {},
   "source": [
    "# <font color = lime> Monthly Array: ALL daily data (by month)"
   ]
  },
  {
   "cell_type": "code",
   "execution_count": null,
   "id": "df31f2d5-951d-4e31-9d59-cd71f87f0bef",
   "metadata": {},
   "outputs": [],
   "source": [
    "# Generate a sequence of 12 months from January to December\n",
    "months_array <- format(seq.Date(from = as.Date(\"2010-01-01\"), to = as.Date(\"2010-12-01\"), by = \"month\"), \"%b\")\n",
    "\n",
    "# Generate an array to store the filtered data  (ALL Years)\n",
    "month_list <- list()\n",
    "\n",
    "# Loop through each month and filter the dataframe\n",
    "for (month in months_array) {\n",
    "  filtered_data <- train %>%\n",
    "    filter(month(date, label = TRUE) == month & year(date) == 2010)\n",
    "  month_list[[month]] <- filtered_data\n",
    "}\n",
    "\n",
    "dim(month_list$Jan)\n",
    "head(month_list$Jan)\n"
   ]
  },
  {
   "cell_type": "markdown",
   "id": "b1dcdd3a-08b9-4b6d-8d5b-343d57647830",
   "metadata": {},
   "source": [
    "# <font color = yellow> Addional Patterns? Rebuild arrays w/ current train df"
   ]
  },
  {
   "cell_type": "code",
   "execution_count": null,
   "id": "5ad2092b-13ad-4954-be7d-a72e3ef7b67c",
   "metadata": {},
   "outputs": [],
   "source": []
  },
  {
   "cell_type": "code",
   "execution_count": null,
   "id": "95cb2200-788b-47b0-be7d-8347ba1cb34f",
   "metadata": {},
   "outputs": [],
   "source": [
    "dim(month_list$Jan)\n",
    "str(month_list$Jan)\n",
    "head(month_list$Jan)"
   ]
  },
  {
   "cell_type": "code",
   "execution_count": null,
   "id": "0cea29e3-a880-480c-92ca-9cb7fa5ea589",
   "metadata": {
    "scrolled": true
   },
   "outputs": [],
   "source": [
    "# Create array w/range of years\n",
    "years_array <- seq(2010, 2016, by = 1)\n",
    "\n",
    "# Generate an array to store the filtered data\n",
    "year_list <- list()\n",
    "\n",
    "# Loop through each year and filter the dataframe\n",
    "for (year in years_array) {\n",
    "  filtered_data <- train %>%\n",
    "    filter(year == !!year)  # Use the correct variable inside the filter\n",
    "  year_list[[as.character(year)]] <- filtered_data\n",
    "}\n",
    "\n",
    "# Function to return filtered data for a specific year\n",
    "get_filtered_year <- function(year) {\n",
    "  year_list[[as.character(year)]]\n",
    "}\n",
    "\n",
    "# Example: Accessing the dataframe for the year 2011\n",
    "filtered_year_2011 <- get_filtered_year(2011)\n",
    "print(dim(filtered_year_2011))\n",
    "print(tail(filtered_year_2011, 10))\n",
    "\n",
    "# Example: Accessing the dataframe for the year 2012\n",
    "filtered_year_2012 <- get_filtered_year(2012)\n",
    "print(dim(filtered_year_2012))\n",
    "print(head(filtered_year_2012, 10))\n"
   ]
  },
  {
   "cell_type": "code",
   "execution_count": null,
   "id": "56c992f5-b1ae-4675-8893-7f0070114cf6",
   "metadata": {},
   "outputs": [],
   "source": []
  },
  {
   "cell_type": "code",
   "execution_count": null,
   "id": "40988ca3-399f-4d10-9f69-f756ad6b2767",
   "metadata": {},
   "outputs": [],
   "source": [
    "head(month_list$Jan)"
   ]
  },
  {
   "cell_type": "code",
   "execution_count": null,
   "id": "327ecd66-acd7-4022-bc31-f27d49ee62d4",
   "metadata": {},
   "outputs": [],
   "source": [
    "# Fct Call: pass 2010\n",
    "year_2012 <- get_filtered_year(2012)\n",
    "# print(dim(year_2010))\n",
    "# head(year_2010, 2)"
   ]
  },
  {
   "cell_type": "code",
   "execution_count": null,
   "id": "6a92cc08-1daa-44cd-a0a2-afd9866689ac",
   "metadata": {},
   "outputs": [],
   "source": [
    "# kenya_2010_na <- filter(year_2010, country == \"Kenya\" & is.na(num_sold) )\n",
    "# dim(kenya_2010_na )\n",
    "# dim(kenya_2010_na %>% distinct(day, .keep_all = TRUE))\n",
    "na_2010 <- filter(year_2010, country == \"Kenya\", store == \"Stickers for Less\", is.na(num_sold) )  #, mo == \"xyz\")\n",
    "dim(na_2010)\n",
    "na_2011 <- filter(year_2011, country == \"Kenya\", store == \"Stickers for Less\", is.na(num_sold) )  #, mo == \"xyz\")\n",
    "dim(na_2011)\n",
    "\n",
    "na_2012 <- filter(year_2011, country == \"Kenya\", store == \"Stickers for Less\", is.na(num_sold) )  #, mo == \"xyz\")\n",
    "dim(na_2012)\n",
    "\n",
    "na_2013 <- filter(year_2011, country == \"Kenya\", store == \"Stickers for Less\", is.na(num_sold) )  #, mo == \"xyz\")\n",
    "dim(na_2013)\n",
    "\n",
    "\n",
    "na_2014 <- filter(year_2011, country == \"Kenya\", store == \"Stickers for Less\", is.na(num_sold) )  #, mo == \"xyz\")\n",
    "dim(na_2014)\n",
    "\n",
    "\n",
    "na_2015 <- filter(year_2011, country == \"Kenya\", store == \"Stickers for Less\", is.na(num_sold) )  #, mo == \"xyz\")\n",
    "dim(na_2015)\n",
    "\n",
    "na_2016 <- filter(year_2011, country == \"Kenya\", store == \"Stickers for Less\", is.na(num_sold) )  #, mo == \"xyz\")\n",
    "dim(na_2016)\n",
    "\n",
    "\n",
    "s <- 343 + (5*331)\n",
    "cat(\"\\n Total sequences of NA in filtered Kenya for 6 years are: 343+(331*5) \", s, \" Most of these NA s/b replaced by 0 ??? Products? \\n\\n\")"
   ]
  },
  {
   "cell_type": "markdown",
   "id": "d2aa2fa9-e7e9-4e42-8de6-571d7f7eff7f",
   "metadata": {},
   "source": [
    "## <font color = lime> Pattern identified: \n",
    "\n",
    "##### - Total sequences of NA in filtered Kenya for 6 years are: 343+(331*5)  1998  Most of these NA s/b replaced by 0 ??? Products? \n"
   ]
  },
  {
   "cell_type": "code",
   "execution_count": null,
   "id": "bc18f591-5dcb-4fc6-8b00-02772046ce7f",
   "metadata": {},
   "outputs": [],
   "source": [
    "year_2011 <- get_filtered_year(2011)\n",
    "year_2011 %>% filter(day == 1 & is.na(num_sold) & product == \"Holographic Goose\" & country == \"Canada\" & store == \"Discount Stickers\")"
   ]
  },
  {
   "cell_type": "code",
   "execution_count": null,
   "id": "84101c6a-ed8a-429b-94cb-c31539497d52",
   "metadata": {},
   "outputs": [],
   "source": [
    "summary(year_2011)"
   ]
  },
  {
   "cell_type": "markdown",
   "id": "190a34a0-2740-48c6-97b4-378b755fa7ed",
   "metadata": {},
   "source": [
    "### <font color = lime> New Pattern: Each country, each store, sold Kaggle, every day during \n",
    "\n",
    "#### year_2011 %>% filter(product == \"Kaggle\" & !is.na(num_sold) )\n",
    "\n",
    "-  2011 (6570 x 10) 6x3x365\n",
    "-  2012 (6588 x 10)  6x3x365 + (6x3x365 x1)\n",
    "-  2013 (6570 x 10)\n",
    "-  2014 (6570 x 10)\n",
    "-  2015 (6570 x 10)\n",
    "-  2016 (6570 x 10)"
   ]
  },
  {
   "cell_type": "code",
   "execution_count": null,
   "id": "0b6e23cf-f7fe-42d9-adab-5ad4b049eea8",
   "metadata": {},
   "outputs": [],
   "source": [
    "# product_df"
   ]
  },
  {
   "cell_type": "markdown",
   "id": "6cdfff04-aa8b-4b29-864f-07577ca1a167",
   "metadata": {},
   "source": [
    "## <font color = lime> Product Sales: One Yr."
   ]
  },
  {
   "cell_type": "code",
   "execution_count": null,
   "id": "af7baecb-161e-4f06-85d5-397e62cabe27",
   "metadata": {},
   "outputs": [],
   "source": []
  },
  {
   "cell_type": "code",
   "execution_count": null,
   "id": "442a90d0-72ae-4bd0-9791-c51aeac707a5",
   "metadata": {},
   "outputs": [],
   "source": [
    "t(histogram_monthly_plot(2012))"
   ]
  },
  {
   "cell_type": "code",
   "execution_count": null,
   "id": "469464b9-9d12-4763-9b72-1044d38a5c94",
   "metadata": {},
   "outputs": [],
   "source": []
  },
  {
   "cell_type": "code",
   "execution_count": null,
   "id": "13e970b1-b559-45dd-84ea-4ce583e38cc4",
   "metadata": {},
   "outputs": [],
   "source": [
    "head(year_2010,1)"
   ]
  },
  {
   "cell_type": "code",
   "execution_count": null,
   "id": "668d439f-1af3-4b9f-9671-13acc82b3c52",
   "metadata": {},
   "outputs": [],
   "source": [
    "6*3*365 \n",
    "dim(year_2011 %>% filter(product == \"Kaggle\" & !is.na(num_sold) ))\n",
    "dim(year_2011 %>% filter(product == \"Kaggle Tiers\" & !is.na(num_sold) ))\n",
    "dim(year_2011 %>% filter(product == \"Kerneler Dark Mode\" & !is.na(num_sold) ))\n",
    " (\"xxxxxxxxxxxxxxxxxxxxxxxxxxxxxxxxxxxxxxxxxxxxxxxxxxxxxxxxxxxxxxxxxxxxxxxxxx\")                        \n",
    "dim(year_2011 %>% filter(product == \"Kerneler\" & !is.na(num_sold) ))\n",
    "dim(year_2011 %>% filter(product == \"Holographic Goose\" & !is.na(num_sold) ))"
   ]
  },
  {
   "cell_type": "code",
   "execution_count": null,
   "id": "8bea7147-6168-4004-8000-a09d52c677e9",
   "metadata": {},
   "outputs": [],
   "source": [
    "store_df"
   ]
  },
  {
   "cell_type": "code",
   "execution_count": null,
   "id": "346a6a8a-0db9-4124-83e5-4159c5f80da9",
   "metadata": {},
   "outputs": [],
   "source": [
    "\n",
    "dim(year_2011 %>% filter(store == \"Stickers for Less\" & !is.na(num_sold) & country == \"Kenya\" & product == \"Holographic Goose\"))    # 2010/2011.. Kenya- Holographic Goose- summer void\n",
    "dim(year_2012 %>% filter(store == \"Stickers for Less\" & !is.na(num_sold) & country == \"Kenya\" & product == \"Holographic Goose\")) \n",
    "dim(year_2013 %>% filter(store == \"Stickers for Less\" & !is.na(num_sold) & country == \"Kenya\" & product == \"Holographic Goose\")) \n",
    "dim(year_2014 %>% filter(store == \"Stickers for Less\" & !is.na(num_sold) & country == \"Kenya\" & product == \"Holographic Goose\")) \n",
    "dim(year_2015 %>% filter(store == \"Stickers for Less\" & !is.na(num_sold) & country == \"Kenya\" & product == \"Holographic Goose\")) \n",
    "dim(year_2016 %>% filter(store == \"Stickers for Less\" & !is.na(num_sold) & country == \"Kenya\" & product == \"Holographic Goose\")) \n",
    "\n",
    "# ken_stickers_goose_yearly_sales_trend <- c(34,101,165,252,287,338)\n",
    "# par(bg =\"white\")                                          \n",
    "# plot(ken_stickers_goose_yearly_sales_trend)\n",
    "# year_2011 %>% filter(store == \"Discount Stickers\" & is.na(num_sold))"
   ]
  },
  {
   "cell_type": "markdown",
   "id": "2f9eb001-336c-4a45-8249-913ed5a4ea58",
   "metadata": {},
   "source": [
    "## <font color = yellow> Fct CalL:  "
   ]
  },
  {
   "cell_type": "code",
   "execution_count": null,
   "id": "65fb2630-f38b-4414-b2e9-3b2eaefa4f2a",
   "metadata": {},
   "outputs": [],
   "source": [
    "# Example usage with 'kaggle' as the product name\n",
    "month_sales_na <- product_sales_and_na_mo(year_2010, \"Kaggle\")\n",
    "print(month_sales_na)"
   ]
  },
  {
   "cell_type": "code",
   "execution_count": null,
   "id": "2a944fa1-e64d-4608-833e-bb02769adff7",
   "metadata": {},
   "outputs": [],
   "source": [
    "product_df"
   ]
  },
  {
   "cell_type": "code",
   "execution_count": null,
   "id": "41b2996e-475e-4504-8bad-16909ae013d5",
   "metadata": {},
   "outputs": [],
   "source": [
    "year_2011 %>% filter(mo == \"Jan\")"
   ]
  },
  {
   "cell_type": "code",
   "execution_count": null,
   "id": "c19e4f6e-913f-4fd6-bb9d-afff95c66dd3",
   "metadata": {},
   "outputs": [],
   "source": [
    "year_2011 %>% filter(country == \"Kenya\" & !is.na(num_sold) & product != \"Holographic Goose\")"
   ]
  },
  {
   "cell_type": "code",
   "execution_count": null,
   "id": "58a31b0e-aae8-4a85-9b95-cc5d260bb3d1",
   "metadata": {},
   "outputs": [],
   "source": [
    "sum(is.na(year_2010))"
   ]
  },
  {
   "cell_type": "code",
   "execution_count": null,
   "id": "3a720e1f-8f17-4660-97f3-2e010f07e939",
   "metadata": {},
   "outputs": [],
   "source": [
    "# Example usage with 'Kenya' as the country name\n",
    "result <- country_sales_and_na_mo(year_2010, \"Kenya\")\n",
    "print(result)\n",
    "\n",
    "sum(result$count_na)\n",
    "sum(result$total_sales)"
   ]
  },
  {
   "cell_type": "code",
   "execution_count": null,
   "id": "5308db4e-ee4f-475a-9650-8eae1f75a863",
   "metadata": {},
   "outputs": [],
   "source": [
    "head(result, 12)"
   ]
  },
  {
   "cell_type": "code",
   "execution_count": null,
   "id": "2ba16450-d881-41eb-9769-18eca2aab161",
   "metadata": {},
   "outputs": [],
   "source": []
  },
  {
   "cell_type": "code",
   "execution_count": null,
   "id": "e734e9b3-84da-4950-bc5c-f078638d8942",
   "metadata": {},
   "outputs": [],
   "source": [
    "K <- year_2010 %>% filter(country == \"Kenya\" )\n",
    "sum(is.na(K))   \n",
    "sum(K$num_sold, na.rm = TRUE)"
   ]
  },
  {
   "cell_type": "code",
   "execution_count": null,
   "id": "1391586e-7f96-4fa9-ae0a-053e9cd51e69",
   "metadata": {},
   "outputs": [],
   "source": [
    "K"
   ]
  },
  {
   "cell_type": "code",
   "execution_count": null,
   "id": "b1aeff08-c584-424d-84a4-267b443b7462",
   "metadata": {},
   "outputs": [],
   "source": [
    "result <- sum_sales_and_na_mo (year_2011, \"kaggle\")\n",
    "result"
   ]
  },
  {
   "cell_type": "code",
   "execution_count": null,
   "id": "fb47c324-df9f-40a7-b0e2-7e41e0a7df2c",
   "metadata": {},
   "outputs": [],
   "source": [
    "product_df"
   ]
  },
  {
   "cell_type": "code",
   "execution_count": null,
   "id": "834db9d0-4e47-4268-9915-98d9031b870f",
   "metadata": {},
   "outputs": [],
   "source": [
    "stopper"
   ]
  },
  {
   "cell_type": "code",
   "execution_count": null,
   "id": "8b7f6419-1015-4fed-9ea6-e1396bbd7314",
   "metadata": {},
   "outputs": [],
   "source": [
    "  \n",
    "    # Apply the function to the filtered data\n",
    "    test_sum_na <- count_na_per_month(year_2010)\n",
    "    \n",
    "    # Display the result (optional)\n",
    "    #(print(head(test_sum_na, 12))\n",
    "    \n",
    "    # Perform a full join to combine count of NAs and total sales per month\n",
    "    final_df <- full_join(test_sum_na, test_mo_na, by = \"mo\")\n",
    "    \n",
    "    # Display the final dataframe\n",
    "    final_df"
   ]
  },
  {
   "cell_type": "code",
   "execution_count": null,
   "id": "bbb171bf-e2bf-49ba-bcdc-f5673af93554",
   "metadata": {},
   "outputs": [],
   "source": []
  },
  {
   "cell_type": "code",
   "execution_count": null,
   "id": "722a5aa1-a900-46f7-882a-a5c6d3b11354",
   "metadata": {},
   "outputs": [],
   "source": []
  },
  {
   "cell_type": "code",
   "execution_count": null,
   "id": "3bae20be-ec52-4d43-b27b-13af5cedefcb",
   "metadata": {},
   "outputs": [],
   "source": []
  },
  {
   "cell_type": "code",
   "execution_count": null,
   "id": "39eac060-b666-45b3-8b14-1bbc9bfc7ba0",
   "metadata": {},
   "outputs": [],
   "source": []
  },
  {
   "cell_type": "code",
   "execution_count": null,
   "id": "927f4f97-c7d4-4906-b641-5be63afca16b",
   "metadata": {},
   "outputs": [],
   "source": [
    "# Summarize the count of NA values per month\n",
    "count_na_per_month <- function(df) {\n",
    "  df %>% \n",
    "    group_by(mo) %>% \n",
    "    summarise(count_na = sum(is.na(num_sold)))\n",
    "}\n",
    "\n",
    "# Apply the function to the filtered data\n",
    "test_sum_na <- count_na_per_month(year_2010)\n",
    "\n",
    "# Display the result (optional)\n",
    "# head(test_sum_na,12)\n",
    "\n",
    "# Summarize total sales per month\n",
    "total_sales_per_month <- function(df) {\n",
    "  df %>% \n",
    "    group_by(mo) %>% \n",
    "    summarise(total_sales = sum(num_sold, na.rm = TRUE))\n",
    "}\n",
    "\n",
    "# Apply the function to the filtered data\n",
    "test_mo_na <- total_sales_per_month(test)\n",
    "\n",
    "# Display the result (optional)\n",
    "head(test_mo_na,12)\n"
   ]
  },
  {
   "cell_type": "code",
   "execution_count": null,
   "id": "2364b34b-e2f3-4a84-961b-48a5ac6f2e37",
   "metadata": {},
   "outputs": [],
   "source": []
  },
  {
   "cell_type": "code",
   "execution_count": null,
   "id": "4bf0f8b5-f92d-4b6a-9ab3-cddd2df4954e",
   "metadata": {},
   "outputs": [],
   "source": []
  },
  {
   "cell_type": "code",
   "execution_count": null,
   "id": "2c10fd31-0a98-4838-a462-7840161d83a6",
   "metadata": {},
   "outputs": [],
   "source": []
  },
  {
   "cell_type": "code",
   "execution_count": null,
   "id": "eb437a2d-874d-443e-b547-b4169be107c0",
   "metadata": {},
   "outputs": [],
   "source": []
  },
  {
   "cell_type": "code",
   "execution_count": null,
   "id": "d259762d-6c08-4369-9338-48e1d8f40dca",
   "metadata": {},
   "outputs": [],
   "source": []
  },
  {
   "cell_type": "code",
   "execution_count": null,
   "id": "16c2ffde-6cb3-4908-9e44-fae241760e02",
   "metadata": {},
   "outputs": [],
   "source": []
  },
  {
   "cell_type": "code",
   "execution_count": null,
   "id": "441bd174-ef40-46eb-bbb5-745e85ffbea0",
   "metadata": {},
   "outputs": [],
   "source": []
  },
  {
   "cell_type": "code",
   "execution_count": null,
   "id": "9f1b322b-635c-4f93-b0ab-159e46449952",
   "metadata": {},
   "outputs": [],
   "source": []
  },
  {
   "cell_type": "code",
   "execution_count": null,
   "id": "329db7ed-80e5-4ede-b5d0-aa83abdd3c8f",
   "metadata": {},
   "outputs": [],
   "source": []
  },
  {
   "cell_type": "code",
   "execution_count": null,
   "id": "5ef35f39-ab4d-4917-9572-8b72c007e406",
   "metadata": {},
   "outputs": [],
   "source": []
  },
  {
   "cell_type": "code",
   "execution_count": null,
   "id": "3768a7b6-6e18-41ad-bc13-44395ed0b162",
   "metadata": {},
   "outputs": [],
   "source": [
    "# old pendind delete\n",
    "\n",
    "\n",
    "dim(year_2010 %>% filter(store == \"Discount Stickers\" & is.na(num_sold) ) )  # likely s/b 0\n",
    "test <- (year_2010 %>% filter(store == \"Discount Stickers\" & !is.na(num_sold) ) )  # likely s/b 0\n",
    "test_sum_na <- test %>% group_by(mo) %>% summarize(count_na = sum(is.na(num_sold)))\n",
    "head(test_sum_na,1)\n",
    "test_mo_na <- monthly_group_by(test)\n",
    "head(test_mo_na,12)\n",
    "full_join(test_sum_na, test_mo_na, by = \"mo\")"
   ]
  },
  {
   "cell_type": "code",
   "execution_count": null,
   "id": "017686ac-5468-4262-8f0c-c1dc19702c12",
   "metadata": {},
   "outputs": [],
   "source": [
    "histogram_monthly_plot(2010)"
   ]
  },
  {
   "cell_type": "code",
   "execution_count": null,
   "id": "3680d7ad-c51c-4f6f-966d-227182e68f79",
   "metadata": {},
   "outputs": [],
   "source": []
  },
  {
   "cell_type": "code",
   "execution_count": null,
   "id": "77042754-9229-48ff-a7b6-e18d1162fdd9",
   "metadata": {},
   "outputs": [],
   "source": []
  },
  {
   "cell_type": "markdown",
   "id": "375af41a-65bd-43f6-9e81-51e7a47b9c6c",
   "metadata": {},
   "source": [
    "### <font color = lime> New patterns: the mean of the sales from each country, store type, each year, seasonal ?? "
   ]
  },
  {
   "cell_type": "code",
   "execution_count": null,
   "id": "f347fb58-cb5c-4f79-bdf8-784aa3b02e7d",
   "metadata": {},
   "outputs": [],
   "source": []
  },
  {
   "cell_type": "code",
   "execution_count": null,
   "id": "f6aa6919-5b54-4010-b4aa-8ab6ef09e7ec",
   "metadata": {},
   "outputs": [],
   "source": [
    "t(country_df)\n",
    "country_df[1,2]\n",
    "# year_df <- data.frame(Num = c(1:7), Yr = c(2010,2011,2012,2013,2014,2015,2016) )\n",
    "# year_df"
   ]
  },
  {
   "cell_type": "code",
   "execution_count": null,
   "id": "99aea807-d5a5-4511-b5b3-f99272f6c2bb",
   "metadata": {},
   "outputs": [],
   "source": [
    " summary(year_2011 %>% filter(country == country_df[4,2]  & store == \"Discount Stickers\" & product == \"Kaggle\" ))"
   ]
  },
  {
   "cell_type": "code",
   "execution_count": null,
   "id": "7dc60cb0-7e66-46f4-8307-42413fd10376",
   "metadata": {},
   "outputs": [],
   "source": []
  },
  {
   "cell_type": "code",
   "execution_count": null,
   "id": "954dbc6c-6778-491e-9ae6-a9ee29a340d4",
   "metadata": {},
   "outputs": [],
   "source": [
    "head(year_2011)"
   ]
  },
  {
   "cell_type": "code",
   "execution_count": null,
   "id": "97dc2f72-fc27-4ab1-bd1c-06d9dd90158f",
   "metadata": {},
   "outputs": [],
   "source": []
  },
  {
   "cell_type": "code",
   "execution_count": null,
   "id": "b2d6c2ca-60a1-4657-b673-fabf22aed3be",
   "metadata": {},
   "outputs": [],
   "source": [
    "train %>% filter(day == 1 & is.na(num_sold) & product == \"Holographic Goose\" & country == \"Canada\" & store == \"Discount Stickers\")\n",
    "head(train, 2)"
   ]
  },
  {
   "cell_type": "code",
   "execution_count": null,
   "id": "5b93cd1d-01e8-479e-800e-d2e147116668",
   "metadata": {},
   "outputs": [],
   "source": [
    "train %>% filter(day == 1 & is.na(num_sold) )"
   ]
  },
  {
   "cell_type": "code",
   "execution_count": null,
   "id": "81b01b37-368b-432e-b7c3-fa0e1bea73a1",
   "metadata": {},
   "outputs": [],
   "source": [
    "head(train, 2)"
   ]
  },
  {
   "cell_type": "code",
   "execution_count": null,
   "id": "ebc11f81-60dd-45ad-9baa-2aad8376e349",
   "metadata": {},
   "outputs": [],
   "source": []
  },
  {
   "cell_type": "code",
   "execution_count": null,
   "id": "a09ae338-ac13-4a0a-8849-525a4d7b5ff3",
   "metadata": {},
   "outputs": [],
   "source": [
    "rle_list <- rle(kenya_store1_nosales$num_sold)\n",
    "str(rle_list)\n",
    "rle_list$values"
   ]
  },
  {
   "cell_type": "code",
   "execution_count": null,
   "id": "8d863fe0-4454-424b-909a-29155b2c88d1",
   "metadata": {},
   "outputs": [],
   "source": []
  },
  {
   "cell_type": "code",
   "execution_count": null,
   "id": "28040c50-1045-47c1-9f79-7be447c9f47f",
   "metadata": {},
   "outputs": [],
   "source": []
  },
  {
   "cell_type": "markdown",
   "id": "8202a25c-bf46-43e5-95c7-383697fb42f6",
   "metadata": {},
   "source": [
    "### <font color = yellow> Another pattern: Kenya > Stickers for Less > Holographic Goose  (is not consistant through df) \n",
    "##### w/in the 90 day series, there are some/not all NA  (1356 NAs ) w/ mean value of the group about 5 or 6 \n",
    "\n",
    "##### There is yet another pattern (+5 ) from the other, but replacement w/ 5 or 6 will address ? "
   ]
  },
  {
   "cell_type": "code",
   "execution_count": null,
   "id": "52790f5e-efba-40d0-9c11-52ad3558cf43",
   "metadata": {},
   "outputs": [],
   "source": []
  },
  {
   "cell_type": "markdown",
   "id": "e2cbb4cb-a7eb-4a7d-878e-4b9b3c6f1284",
   "metadata": {},
   "source": [
    "### <font color = yellow> Explore moving the month\n"
   ]
  },
  {
   "cell_type": "code",
   "execution_count": null,
   "id": "45b27f20-5bee-4ce4-bc1b-31970f9ce4f0",
   "metadata": {},
   "outputs": [],
   "source": [
    "tester$date[1] + months(3)\n"
   ]
  },
  {
   "cell_type": "code",
   "execution_count": null,
   "id": "82982959-367b-44cd-82be-1fad37769adb",
   "metadata": {},
   "outputs": [],
   "source": []
  },
  {
   "cell_type": "code",
   "execution_count": null,
   "id": "d0523561-9a23-4983-b7bb-4fc1afded442",
   "metadata": {},
   "outputs": [],
   "source": [
    "# Start a new month, then subset\n",
    "# head(kenya_mo1, 2)\n",
    "# c <- kenya_mo1$date[1] + months(1)\n",
    "# c\n",
    "# kenya_mo1 %>% filter(month(date) == 2 )"
   ]
  },
  {
   "cell_type": "markdown",
   "id": "6748e472-9bb7-4aa7-b600-f6fa190ea906",
   "metadata": {},
   "source": [
    "### <font color = lime> logical subsetting by the month (ALL YEARS)"
   ]
  },
  {
   "cell_type": "code",
   "execution_count": null,
   "id": "ea6a8912-c205-4f91-b3f5-11a86ecb3144",
   "metadata": {},
   "outputs": [],
   "source": [
    "#  month(kenya_df2$date) == 2"
   ]
  },
  {
   "cell_type": "code",
   "execution_count": null,
   "id": "9d548b5c-c75e-4069-babc-f7d20c05cd3a",
   "metadata": {},
   "outputs": [],
   "source": [
    "# This is returning ALL the february (each year) \n",
    "tail(kenya_df2[month(kenya_df2$date) == 2, ])"
   ]
  },
  {
   "cell_type": "code",
   "execution_count": null,
   "id": "85bbc77d-09bf-4486-ab6a-58906aaabbbb",
   "metadata": {},
   "outputs": [],
   "source": []
  },
  {
   "cell_type": "code",
   "execution_count": null,
   "id": "ea36c764-d9e3-4f77-bbd8-412e4f0fde03",
   "metadata": {},
   "outputs": [],
   "source": [
    "# Filter for February using dplyr (returns ALL years / February)\n",
    "feb_data <- kenya_df2 %>% filter(month(date) == 2)\n",
    "dim(feb_data)  # All years\n",
    "head(feb_data, 2)\n",
    "tail(feb_data, 2)\n",
    "summary(feb_data)"
   ]
  },
  {
   "cell_type": "code",
   "execution_count": null,
   "id": "dea2c531-2ab6-47aa-929a-69763717e0ef",
   "metadata": {},
   "outputs": [],
   "source": []
  },
  {
   "cell_type": "markdown",
   "id": "942c3750-703c-4427-946a-416e1fa25d0d",
   "metadata": {},
   "source": [
    "### <font color = yellow> The dim is correctly, 365  == days in year"
   ]
  },
  {
   "cell_type": "code",
   "execution_count": null,
   "id": "00cb87b5-bc91-42ae-8dde-900e78f206b8",
   "metadata": {},
   "outputs": [],
   "source": [
    "# Filters all days in 2011 (kenya / Stickers for Less / Holographic Goose\n",
    "daily_data_2011 <- kenya_df2 %>% filter(year(date) == 2011) #  && year(date) == 2011)\n",
    "dim(daily_data_2011)  \n",
    "\n",
    "\n",
    "head(daily_data_2011,2)\n",
    "tail(daily_data_2011,2)"
   ]
  },
  {
   "cell_type": "code",
   "execution_count": null,
   "id": "39aece14-745c-46be-b03d-6f819717f599",
   "metadata": {},
   "outputs": [],
   "source": [
    "length(daily_data_2011$date)\n",
    "tail(daily_data_2011$date)"
   ]
  },
  {
   "cell_type": "code",
   "execution_count": null,
   "id": "57135183-a425-4f1f-875e-68fdc6b8931a",
   "metadata": {},
   "outputs": [],
   "source": [
    "# Create the density plot\n",
    "data <- daily_data_2011\n",
    "ggplot(data, aes(x = num_sold)) +\n",
    "  geom_density(fill = \"skyblue\", alpha = 0.5) +\n",
    "  labs(title = \"Density Plot of Values\",\n",
    "       x = \"Value\",\n",
    "       y = \"Density\") +\n",
    "  theme_minimal()\n"
   ]
  },
  {
   "cell_type": "code",
   "execution_count": null,
   "id": "834655df-6f75-47ce-a44c-5325fa65e5e5",
   "metadata": {},
   "outputs": [],
   "source": []
  },
  {
   "cell_type": "code",
   "execution_count": null,
   "id": "ffc2ee4e-5d1b-48aa-8f1f-1bd1e530e53f",
   "metadata": {},
   "outputs": [],
   "source": []
  },
  {
   "cell_type": "code",
   "execution_count": null,
   "id": "2c29794a-e90c-4e7e-ad2b-c929b2f529ee",
   "metadata": {},
   "outputs": [],
   "source": [
    "# Filter kenya_df2 to include only rows where the month is February\n",
    "feb_data <- kenya_df2 %>%\n",
    "  filter(month(date) == 2) %>%\n",
    "  mutate(year = year(date)) %>%  # Extract year from date\n",
    "  group_by(year)\n",
    "\n",
    "# Display the grouped data\n",
    "dim(feb_data)\n",
    "print(feb_data)\n",
    "\n",
    "\n",
    "feb_data_2010 <- feb_data %>% filter(year == 2010)\n",
    "dim(feb_data_2010)\n",
    "feb_data_2010\n"
   ]
  },
  {
   "cell_type": "markdown",
   "id": "1fc61045-1e99-4656-9b81-8f0a9ca3755a",
   "metadata": {},
   "source": [
    "## <font color = lime> Function: returns daily data for a single month / Yr"
   ]
  },
  {
   "cell_type": "code",
   "execution_count": null,
   "id": "26c89661-5bf5-4ea1-86f8-3288bc08c15b",
   "metadata": {},
   "outputs": [],
   "source": [
    "# fct: to filter the passed month and year and return the daily data for the month/year that gets passed\n",
    "\n",
    "mo_year <- function (mo, yr) {\n",
    " filtered_data <- kenya_df2 %>%\n",
    "  filter(month(date) == mo) %>%\n",
    "  mutate(year = year(date)) %>%  # Extract year from date\n",
    "  group_by(year)\n",
    "  filtered_data$day_of_week <- wday(filtered_data$date, label = TRUE)\n",
    "  return(filtered_data)\n",
    "}"
   ]
  },
  {
   "cell_type": "markdown",
   "id": "46cf0460-e3c0-457d-add8-6b40f7cb0150",
   "metadata": {},
   "source": [
    "## <font color = lime> New Pattern: Kenya / Sunday sales\n",
    "\n",
    "- Sunday sales.\n",
    "-   2/21/10 - 10/24/10 - NO SALES / s/b 0 ?\n",
    "-   After 11/14/ - 12/31 Sunday Sales (missing 1 )\n",
    "-   Jan - Feb - probably 3 or 4 missing Sunday sales"
   ]
  },
  {
   "cell_type": "markdown",
   "id": "20b52ba2-bf54-4f71-8ed8-3b4960d67699",
   "metadata": {},
   "source": [
    "### <font color = lime> Fct Call:"
   ]
  },
  {
   "cell_type": "code",
   "execution_count": null,
   "id": "66fb7255-c6f3-4c27-a24f-f081b0a3489d",
   "metadata": {},
   "outputs": [],
   "source": [
    "# Function call: pass the mo/yr to get daily data passed in return\n",
    "yr <- 2012\n",
    "mo <- 12\n",
    "month_year <- mo_year(mo, yr)  %>% filter(year == yr)\n",
    "dim(month_year)\n",
    "head(month_year,2)\n",
    "# Add the day of week to the data\n",
    "# month_year$day_of_week <- wday(month_year$date, label = TRUE)\n",
    "# month_year"
   ]
  },
  {
   "cell_type": "code",
   "execution_count": null,
   "id": "b47b8845-0a91-4a7a-8237-8fbe4e7340b3",
   "metadata": {},
   "outputs": [],
   "source": []
  },
  {
   "cell_type": "markdown",
   "id": "0644390b-1737-4792-b47d-2655228e147a",
   "metadata": {},
   "source": [
    "## <font color = lime>  all days / all years |  kenya_df2"
   ]
  },
  {
   "cell_type": "code",
   "execution_count": null,
   "id": "c2432f63-bcfa-4991-b60c-e76318bf3d53",
   "metadata": {},
   "outputs": [],
   "source": [
    "# Add a column for the day of the week\n",
    "kenya_df2 <- kenya_df2 %>%\n",
    "  mutate(year = year(date), month = month(date, label = TRUE), day_of_week = wday(date, label = TRUE))\n",
    "\n",
    "# Display the dataframe with the new column\n",
    "\n",
    "7*365 # Note data will include 2 days from leap years (2012 and 2016) \n",
    "2012 / 4  # leap year\n",
    "\n",
    "dim(kenya_df2 )  # all days for 7 years\n",
    "head(kenya_df2, 2) \n",
    "tail(kenya_df2, 2)\n"
   ]
  },
  {
   "cell_type": "code",
   "execution_count": null,
   "id": "e4ce4f1d-bb26-4919-a639-5d7997936b01",
   "metadata": {},
   "outputs": [],
   "source": [
    "# Review for patterns \n",
    "kenya_df2"
   ]
  },
  {
   "cell_type": "code",
   "execution_count": null,
   "id": "6236ddb6-4a2e-4570-bf34-cf35c33d42b0",
   "metadata": {},
   "outputs": [],
   "source": []
  },
  {
   "cell_type": "code",
   "execution_count": null,
   "id": "9918e3b9-2309-4698-9cd7-abbfe27f5373",
   "metadata": {},
   "outputs": [],
   "source": [
    "# Filter the dataframe for Sundays\n",
    "kenya_sunday <- kenya_df2 %>%\n",
    "  filter(day_of_week == \"Sun\")\n",
    "\n",
    "# Display the filtered data ( output is weekly on Sundays - all years\n",
    "sum(is.na(kenya_sunday))\n",
    "dim(kenya_sunday)\n",
    "head(kenya_sunday)\n",
    "tail(kenya_sunday, 2)"
   ]
  },
  {
   "cell_type": "markdown",
   "id": "2a26ea97-4e3c-4607-9bfb-0b4a13df838f",
   "metadata": {},
   "source": [
    "\n",
    "# <font color = lime> Function: filter goose to single year / replace NA w/ 0"
   ]
  },
  {
   "cell_type": "code",
   "execution_count": null,
   "id": "aa60d713-1f64-4f53-953c-03f6407093fc",
   "metadata": {},
   "outputs": [],
   "source": [
    "annual_sunday_goose <- function(df,yr) {\n",
    "    sunday_goose <- df %>% filter(year(date) == yr)\n",
    "    # Create a modified count column to adjust the height of \"No Sale\" bars\n",
    "    # sunday_goose <- sunday_goose %>%\n",
    "           # mutate(num_sold = ifelse(is.na(num_sold), 0, num_sold))\n",
    "    return(sunday_goose)\n",
    "    }"
   ]
  },
  {
   "cell_type": "markdown",
   "id": "915cb687-8922-4c88-b34b-2177dba74945",
   "metadata": {},
   "source": [
    "## <font color = lime> Fct Call: annual_sunday_goose (create yearly goose)"
   ]
  },
  {
   "cell_type": "code",
   "execution_count": null,
   "id": "9987fb0a-d1ea-4b80-917c-abc2fe253be9",
   "metadata": {},
   "outputs": [],
   "source": [
    "goose2010 <- annual_sunday_goose(kenya_sunday, 2010)\n",
    "dim(goose2010)   # good ... s/b 52 week of the year\n",
    "\n",
    "sum(is.na(goose2010))\n",
    "head(goose2010, 2)\n"
   ]
  },
  {
   "cell_type": "code",
   "execution_count": null,
   "id": "ed8a2d49-56ee-4079-b29f-bc013f0a62f1",
   "metadata": {},
   "outputs": [],
   "source": []
  },
  {
   "cell_type": "code",
   "execution_count": null,
   "id": "2d8a9ee0-efaa-49be-9fa1-5c2e953c1624",
   "metadata": {},
   "outputs": [],
   "source": [
    "sum(is.na(goose2010$num_sold))"
   ]
  },
  {
   "cell_type": "code",
   "execution_count": null,
   "id": "a1e47b89-f4a9-4bb1-afe0-08ece4719886",
   "metadata": {},
   "outputs": [],
   "source": [
    "histogram_plot <- function(df) {\n",
    "\n",
    "    # Extract the year from the date column \n",
    "    year_value <- as.character(format(min(df$date), \"%Y\"))\n",
    "    \n",
    "    plot_goose <- ggplot(df, aes(x = date, y = num_sold)) +\n",
    "          geom_col(fill = \"skyblue\", alpha = 0.8) +\n",
    "          labs(title = paste(\"Weekly Sales /\", year_value),\n",
    "               x = \"Date\",\n",
    "               y = \"Number of Sales\") +\n",
    "          theme_minimal()\n",
    "    return(plot_goose)\n",
    "    }"
   ]
  },
  {
   "cell_type": "code",
   "execution_count": null,
   "id": "7ca6dcbe-5755-4c80-be72-ba7897f0dcd4",
   "metadata": {},
   "outputs": [],
   "source": [
    "goose_plot2010 <- histogram_plot(goose2010)\n",
    "goose_plot2010"
   ]
  },
  {
   "cell_type": "markdown",
   "id": "029b4cf5-1733-4925-94c0-88478aaf1642",
   "metadata": {},
   "source": [
    "## <font color = lime> Fct Calls: 1. annual_goose_sunday 2. histogram_plot"
   ]
  },
  {
   "cell_type": "code",
   "execution_count": null,
   "id": "e019c7c1-a341-4d4c-89fb-04f80db630b7",
   "metadata": {},
   "outputs": [],
   "source": [
    "# fct calls\n",
    "\n",
    "goose2010<- annual_sunday_goose(kenya_sunday, 2010)\n",
    "goose_plot2010 <- histogram_plot(goose2010)\n",
    "# goose_plot2010\n",
    "\n",
    "\n",
    "goose2011<- annual_sunday_goose(kenya_sunday, 2011)\n",
    "goose_plot2011 <- histogram_plot(goose2011)\n",
    "# goose_plot2011\n",
    "\n",
    "goose2012<- annual_sunday_goose(kenya_sunday, 2012)\n",
    "goose_plot2012 <- histogram_plot(goose2012)\n",
    "# goose_plot2012\n",
    "\n",
    "goose2013<- annual_sunday_goose(kenya_sunday, 2013)\n",
    "goose_plot2013 <- histogram_plot(goose2013)\n",
    "# goose_plot2013\n",
    "\n",
    "\n",
    "goose2014<- annual_sunday_goose(kenya_sunday, 2014)\n",
    "goose_plot2014 <- histogram_plot(goose2014)\n",
    "# goose_plot2014\n",
    "\n",
    "\n",
    "goose2015<- annual_sunday_goose(kenya_sunday, 2015)\n",
    "goose_plot2015 <- histogram_plot(goose2015)\n",
    "# goose_plot2015\n",
    "\n",
    "goose2016<- annual_sunday_goose(kenya_sunday, 2016)\n",
    "goose_plot2016 <- histogram_plot(goose2016)\n",
    "# goose_plot2016\n",
    "\n",
    "# Combine the plots into a grid with updated names\n",
    "grid.arrange(goose_plot2010, goose_plot2011, goose_plot2012,\n",
    "             goose_plot2013, goose_plot2014, goose_plot2015,\n",
    "             goose_plot2016, ncol = 3, nrow = 3)"
   ]
  },
  {
   "cell_type": "code",
   "execution_count": null,
   "id": "e5098ddd-8286-4cf5-8de6-335aeb761348",
   "metadata": {},
   "outputs": [],
   "source": []
  },
  {
   "cell_type": "code",
   "execution_count": null,
   "id": "f1c92607-5fd4-4a8e-81a2-d7b26e84444c",
   "metadata": {},
   "outputs": [],
   "source": [
    "sum(is.na(goose2010))\n",
    "goose2010$num_sold\n",
    "head(goose2010)"
   ]
  },
  {
   "cell_type": "code",
   "execution_count": null,
   "id": "5d7dc970-c545-4c7f-8366-db23a1077618",
   "metadata": {},
   "outputs": [],
   "source": []
  },
  {
   "cell_type": "markdown",
   "id": "6c522622-85fe-402f-8f6c-0a163ac5f3f2",
   "metadata": {},
   "source": [
    "### <font color = yellow> The Plan: mid_yr empty region will be zero, outside NA become mean ... aka 5\n"
   ]
  },
  {
   "cell_type": "code",
   "execution_count": null,
   "id": "6ee38674-4900-4204-a578-f1c1b0d85f5f",
   "metadata": {},
   "outputs": [],
   "source": [
    "# Calculate the mid-point of the year\n",
    "mid_date <- as.Date(paste0(unique(format(goose2010$date, \"%Y\")), \"-07-01\"))\n",
    "mid_date"
   ]
  },
  {
   "cell_type": "markdown",
   "id": "5b1d653c-28cd-4ca2-a035-c7f549840e1e",
   "metadata": {},
   "source": [
    "# <font color = lime> Function: from mid-year, find left/Rt sides of empty zone  # 140"
   ]
  },
  {
   "cell_type": "code",
   "execution_count": null,
   "id": "fdcedb7c-eb11-4aa7-ab9d-c6d6ab992fe7",
   "metadata": {
    "scrolled": true
   },
   "outputs": [],
   "source": [
    "zero_space <- function(df) {\n",
    "    # Calculate the mid-point of the year\n",
    "    mid_date <- as.Date(paste0(unique(format(df$date, \"%Y\")), \"-07-01\"))\n",
    "    # Filter dates with sales\n",
    "    sales_dates <- df %>%\n",
    "      filter(num_sold > 0)\n",
    "    \n",
    "    # Split the data into two halves around the mid-point\n",
    "    left_side <- sales_dates %>% filter(date < mid_date)\n",
    "    right_side <- sales_dates %>% filter(date > mid_date)\n",
    "    \n",
    "    # Find the nearest sale date on each side\n",
    "    left_sale_date <- left_side %>% arrange(desc(date)) %>% slice(1) %>% pull(date)\n",
    "    right_sale_date <- right_side %>% arrange(date) %>% slice(1) %>% pull(date)\n",
    "    \n",
    "    left_sale_date\n",
    "    right_sale_date\n",
    "    zero_space <- data.frame(Side = c(\"left\", \"right\"), Date = c(left_sale_date, right_sale_date) )\n",
    "    return(zero_space)\n",
    "    }\n",
    "    \n"
   ]
  },
  {
   "cell_type": "markdown",
   "id": "9c86fa20-0525-4081-8e28-a25c5ebb84e3",
   "metadata": {},
   "source": [
    "## <font color = lime> Fct Call: get left/right date boundaries of empty space"
   ]
  },
  {
   "cell_type": "code",
   "execution_count": null,
   "id": "7308cd05-5265-49d3-bf2d-fd6560273cba",
   "metadata": {},
   "outputs": [],
   "source": [
    "# fct call  testingthe fct call\n",
    "zero_spaces <- zero_space(goose2010)\n",
    "zero_spaces\n",
    "left_zero_space <- zero_spaces$Date[1]\n",
    "right_zero_space <- zero_spaces$Date[2]\n",
    "\n",
    "left_zero_space\n",
    "right_zero_space"
   ]
  },
  {
   "cell_type": "code",
   "execution_count": null,
   "id": "657d9bb7-ab59-4efc-80d7-1f984dc6b191",
   "metadata": {},
   "outputs": [],
   "source": []
  },
  {
   "cell_type": "code",
   "execution_count": null,
   "id": "3c0ebf61-baca-4c3c-b6b2-fef854c4c650",
   "metadata": {},
   "outputs": [],
   "source": [
    "# Get boundaries (left / right date)  of the empty space\n",
    "zero_zone2010 <- zero_space(goose2010)\n",
    "\n",
    "# Show the rows / boundaries\n",
    "goose2010 %>% filter(date %in% zero_zone2010$Date[1:2])\n",
    "\n",
    "zero_zone2010$Date[1]\n",
    "zero_zone2010$Date[2]\n"
   ]
  },
  {
   "cell_type": "markdown",
   "id": "f5050d58-9d3e-47e0-83ee-f241a21e8f84",
   "metadata": {},
   "source": [
    "# <font color = lime> Function: Remove / Replace outside NA (from gooseX) in from kenya_df2 "
   ]
  },
  {
   "cell_type": "code",
   "execution_count": null,
   "id": "e905e68c-76ed-4bfb-bab5-649171ecf4c3",
   "metadata": {},
   "outputs": [],
   "source": [
    "\n",
    "\n",
    "# zero_space()  Passed the date boundaries of empty space (lst), Fills void with replace_value, enter googe20xx \n",
    "\n",
    "remove_patterned_NAs <- function (lst, replace_value, goose) {\n",
    "\n",
    "    # Use lapply to iterate over the list and assign each vector to a variable\n",
    "  lapply(seq_along(lst), function(i) {\n",
    "    assign(paste0(\"vec\", i), lst[[i]], envir = .GlobalEnv)\n",
    "  })\n",
    "\n",
    "    message(paste(\"\\n The value of na_1 is: \", vec1, \"\\n\"))\n",
    "    str(vec1)\n",
    "    str(vec2)\n",
    "    message(paste(\"\\n The value of na_1 is: \", vec2, \"\\n\"))\n",
    "    print(sum(is.na(kenya_df2$num_sold)))\n",
    "              \n",
    "    kenya_df2$num_sold[vec1] <<- replace_value\n",
    "    kenya_df2$num_sold[vec2] <<- replace_value\n",
    "    \n",
    "    print(sum(is.na(kenya_df2$num_sold)))\n",
    "   \n",
    "    }\n",
    "\n",
    "\n",
    "\n",
    "\n",
    "head(goose2010, 3)  # FMI ref / compare  "
   ]
  },
  {
   "cell_type": "code",
   "execution_count": null,
   "id": "d719f593-2972-4a37-97ee-70265bd2e4cb",
   "metadata": {},
   "outputs": [],
   "source": []
  },
  {
   "cell_type": "markdown",
   "id": "50fdb537-e3c4-44c8-9992-9b83e04424f0",
   "metadata": {},
   "source": [
    "## <font color = lime> Replace outside NAs (intermit NAs) with the common value == 5 (mean / mode)"
   ]
  },
  {
   "cell_type": "code",
   "execution_count": null,
   "id": "7d50979c-690e-4266-a8f4-72d0d807fe5f",
   "metadata": {},
   "outputs": [],
   "source": []
  },
  {
   "cell_type": "code",
   "execution_count": null,
   "id": "759a8d19-f7b5-4103-ab90-8d1035d7f035",
   "metadata": {},
   "outputs": [],
   "source": [
    "# Get the indices from the start of the year until and including the left_date  (part 1)\n",
    "left_indices <- which(goose2010$date >= as.Date(\"2010-01-01\") & goose2010$date <= zero_zone2010$Date[1])\n",
    "# Get the indices from the right_date to the end of the year\n",
    "right_indices <- which(goose2010$date >= zero_zone2010$Date[2] & goose2010$date <= as.Date(\"2010-12-31\"))\n",
    "\n",
    "\n",
    "# Indices for the left range\n",
    "left_na_indices <- which(is.na(goose2010$num_sold[left_indices]))\n",
    "left_na_indices <- left_indices[left_na_indices]\n",
    "# Indices for the right range\n",
    "right_na_indices <- which(is.na(goose2010$num_sold[right_indices]))\n",
    "right_na_indices <- right_indices[right_na_indices]\n",
    "\n",
    "print(left_na_indices)\n",
    "print(right_na_indices)\n",
    "\n",
    "\n",
    "# # Count NA values in the left range\n",
    "# left_na_count <- length(left_na_indices)\n",
    "# right_na_count <- length(right_na_indices)\n",
    "# # Display the left NA count and indices\n",
    "# print(left_na_count)\n",
    "# print(right_na_count)\n"
   ]
  },
  {
   "cell_type": "code",
   "execution_count": null,
   "id": "45fb644c-232b-4ed2-9b49-3e84893aeecc",
   "metadata": {},
   "outputs": [],
   "source": []
  },
  {
   "cell_type": "code",
   "execution_count": null,
   "id": "ba00465b-55f6-471f-ac19-f9abc4a4be33",
   "metadata": {},
   "outputs": [],
   "source": [
    "cat(\"\\n The goose2010 NAs are: \", sum(is.na(goose2010)), \"\\n\\n\")\n",
    "cat(\"\\n The kenya_na2$num_sold NAs are: \", sum(is.na(kenya_df2$num_sold)), \"\\n\\n\")"
   ]
  },
  {
   "cell_type": "code",
   "execution_count": null,
   "id": "f6c7a572-7486-48ca-8167-d4adad9b4c37",
   "metadata": {},
   "outputs": [],
   "source": []
  },
  {
   "cell_type": "code",
   "execution_count": null,
   "id": "5981a9e0-69a0-4ee8-aae8-eb18d3b82cf8",
   "metadata": {},
   "outputs": [],
   "source": [
    "# create a list to pass to fct\n",
    "\n",
    "lf_rt_na_indices <- list(left_na_indices, right_na_indices)\n",
    "\n",
    "left_date <- zero_zone2010$Date[1]\n",
    "right_date <- zero_zone2010$Date[2]\n",
    "left_date\n",
    "right_date\n",
    "\n",
    "# Get the indices between the left_date and right_date\n",
    "between_indices <- which(goose2010$date > left_date & goose2010$date < right_date)\n",
    "between_indices\n",
    "\n",
    "\n",
    "cat(\"\\n The length of the goose void is: \", length(between_indices), \"\\n\")\n",
    "cat(\"\\n sum goose NA before filling void \", sum(is.na(goose2010)), \"\\n\")\n",
    "\n"
   ]
  },
  {
   "cell_type": "code",
   "execution_count": null,
   "id": "f54cd6cc-3bb2-4b89-8139-169dd863b586",
   "metadata": {},
   "outputs": [],
   "source": [
    "goose2010$num_sold[between_indices]\n",
    "kenya_df2$num_sold[between_indices]"
   ]
  },
  {
   "cell_type": "code",
   "execution_count": null,
   "id": "f6df1b34-b32e-462f-9887-91d347617aa9",
   "metadata": {},
   "outputs": [],
   "source": [
    "# Replace NA values with 0 within the specified range\n",
    "goose2010$num_sold[between_indices][is.na(goose2010$num_sold[between_indices])] <- 0\n",
    "# Replace NA values with 0 within the specified range\n",
    "kenya_df2$num_sold[between_indices][is.na(kenya_df2$num_sold[between_indices])] <- 0\n",
    "\n",
    "cat(\"\\n sum kenya_df2 NAs after filling void: \", sum(is.na(kenya_df2)), \"\\n\\n\")\n",
    "\n"
   ]
  },
  {
   "cell_type": "code",
   "execution_count": null,
   "id": "399cc672-2a89-4b65-acd1-f394ddfb26fe",
   "metadata": {},
   "outputs": [],
   "source": [
    "goose2010$num_sold[between_indices]\n",
    "kenya_df2$num_sold[between_indices]"
   ]
  },
  {
   "cell_type": "code",
   "execution_count": null,
   "id": "f20f1785-eaa2-4793-9a9d-f26898b86627",
   "metadata": {},
   "outputs": [],
   "source": []
  },
  {
   "cell_type": "code",
   "execution_count": null,
   "id": "db90f5b2-4b7f-47c5-b92c-9f9b2489073a",
   "metadata": {},
   "outputs": [],
   "source": [
    "cat(\"\\n The goose2010 NAs are: \", sum(is.na(goose2010)), \"\\n\\n\")\n",
    "cat(\"\\n The kenya_na2$num_sold NAs are: \", sum(is.na(kenya_df2$num_sold)), \"\\n\\n\")"
   ]
  },
  {
   "cell_type": "markdown",
   "id": "5f7640a4-09e2-4d1e-82ef-a931752992cc",
   "metadata": {},
   "source": [
    "# <font color = lime> Non-fct Call: "
   ]
  },
  {
   "cell_type": "code",
   "execution_count": null,
   "id": "bc86d7c6-416b-454a-8933-e4a13cc4031a",
   "metadata": {},
   "outputs": [],
   "source": [
    "# Include the value that will replace the NA in the outer sides\n",
    "\n",
    "m <- 5     # the replament value\n",
    "kenya_df2[left_na_indices,]  \n",
    "kenya_df2[right_na_indices,]\n",
    "\n",
    "# Update the dataframe directly at the specified indices \n",
    "kenya_df2$num_sold[left_na_indices] <- 5 \n",
    "kenya_df2$num_sold[right_na_indices] <- 5\n",
    "\n",
    "kenya_df2[left_na_indices,]  \n",
    "kenya_df2[right_na_indices,]  \n"
   ]
  },
  {
   "cell_type": "code",
   "execution_count": null,
   "id": "2149df39-9926-48cf-b784-5bc7810436e0",
   "metadata": {},
   "outputs": [],
   "source": [
    "sum(is.na(kenya_df2$num_sold))\n",
    "dim(kenya_df2)"
   ]
  },
  {
   "cell_type": "markdown",
   "id": "c20c0481-f249-4dd4-b36e-35189e37ef4a",
   "metadata": {},
   "source": [
    "## <font color = yellow> Some odd day NAs - req trend exp"
   ]
  },
  {
   "cell_type": "code",
   "execution_count": null,
   "id": "74cd0b8f-d71d-4924-8234-257f7a3ceec7",
   "metadata": {},
   "outputs": [],
   "source": [
    "# Filtering kenya_df2 the hard way\n",
    "kenya_df2 %>% filter(month == \"Feb\" & year == \"2010\")\n"
   ]
  },
  {
   "cell_type": "markdown",
   "id": "8416f970-f566-4db3-a9b3-aeb9d50ab5ce",
   "metadata": {},
   "source": [
    "### <font color = yellow> All years: kenya ... // daily detail\n"
   ]
  },
  {
   "cell_type": "code",
   "execution_count": null,
   "id": "d94a7a94-228d-485d-9aa3-98dd14e09ebe",
   "metadata": {},
   "outputs": [],
   "source": [
    "dim(kenya_df2)"
   ]
  },
  {
   "cell_type": "markdown",
   "id": "68f19b65-1685-4edf-a0d2-34dcfee7dd55",
   "metadata": {},
   "source": [
    "# <font color = lime> Array: Months of Kenya_df2 ..// ... / daily detail"
   ]
  },
  {
   "cell_type": "code",
   "execution_count": null,
   "id": "facf4c00-c8b2-4eff-af29-dc9d58286bbd",
   "metadata": {},
   "outputs": [],
   "source": [
    "# Generate a sequence of 12 months from January to December\n",
    "months_array <- format(seq.Date(from = as.Date(\"2010-01-01\"), to = as.Date(\"2010-12-01\"), by = \"month\"), \"%b\")\n",
    "#print(months_array)\n",
    "\n",
    "# Generate an array to store the filtered data  (ALL Years)\n",
    "filtered_data_list <- list()\n",
    "\n",
    "# Loop through each month and filter the dataframe\n",
    "for (month in months_array) {\n",
    "  filtered_data <- kenya_df2 %>%\n",
    "    filter(month(date, label = TRUE) == month & year(date) == 2010)\n",
    "  filtered_data_list[[month]] <- filtered_data\n",
    "}\n",
    "\n",
    "# Display the filtered data for each month\n",
    "# for (month in months_array) {\n",
    "  # cat(\"Data for:\", month, \"\\n\")\n",
    "  # print(filtered_data_list[[month]])\n",
    "#}\n",
    "#str(filtered_data_list)\n",
    "tail(filtered_data_list$Jan)\n"
   ]
  },
  {
   "cell_type": "code",
   "execution_count": null,
   "id": "bfffb013-ec74-4324-9165-9311d1477636",
   "metadata": {},
   "outputs": [],
   "source": [
    "head(kenya_df2, 2)"
   ]
  },
  {
   "cell_type": "code",
   "execution_count": null,
   "id": "603ddb95-db15-4322-8d46-13d5af3480f2",
   "metadata": {},
   "outputs": [],
   "source": []
  },
  {
   "cell_type": "markdown",
   "id": "fdf23467-9967-4d7a-9b41-429f1ccc4472",
   "metadata": {},
   "source": [
    "# <font color = lime> Array: Years of Kenya_df..// ... / daily detail\n",
    "\n"
   ]
  },
  {
   "cell_type": "code",
   "execution_count": null,
   "id": "eac3d6af-7904-40fa-97a1-6109bfb59389",
   "metadata": {},
   "outputs": [],
   "source": [
    "# Generate a sequence of 7 years starting from 2010\n",
    "years_array <- seq(2010, 2016, by = 1)\n",
    "\n",
    "# Add a 'year' column to the dataframe\n",
    "kenya_df2 <- kenya_df2 %>%\n",
    "  mutate(year = year(date))\n",
    "\n",
    "# Generate a sequence of 7 years starting from 2010\n",
    "years_array <- seq(2010, 2016, by = 1)\n",
    "\n",
    "# Generate an array to store the filtered data\n",
    "filtered_data_year_list <- list()\n",
    "\n",
    "# Loop through each year and filter the dataframe\n",
    "for (year in years_array) {\n",
    "  filtered_data <- kenya_df2 %>%\n",
    "    filter(year == !!year)  # Use the correct variable inside the filter\n",
    "  filtered_data_year_list[[as.character(year)]] <- filtered_data\n",
    "}\n",
    "\n",
    "# Function to return filtered data for a specific year\n",
    "get_data_for_year <- function(year) {\n",
    "  filtered_data_year_list[[as.character(year)]]\n",
    "}\n",
    "\n",
    "# Example: Accessing the dataframe for the year 2011\n",
    "filtered_data_2011 <- get_data_for_year(2011)\n",
    "dim(filtered_data_2011)\n",
    "head(filtered_data_2011, 30)\n",
    "\n",
    "\n",
    "# Example: Accessing the dataframe for the year 2012\n",
    "filtered_data_2012 <- get_data_for_year(2012)\n",
    "dim(filtered_data_2012)\n",
    "# print(filtered_data_2012)\n",
    "\n"
   ]
  },
  {
   "cell_type": "code",
   "execution_count": null,
   "id": "5992c50c-ba4d-444a-bed2-f4e00c2720e5",
   "metadata": {},
   "outputs": [],
   "source": []
  },
  {
   "cell_type": "code",
   "execution_count": null,
   "id": "55bc12ff-a482-404e-9df5-ee7c5c7c7f4b",
   "metadata": {},
   "outputs": [],
   "source": [
    "# library(dplyr)\n",
    "# library(lubridate)\n",
    "\n",
    "# # Sample dataframe kenya_df2\n",
    "# kenya_df2 <- data.frame(\n",
    "#   date = as.Date(c(\"2010-01-03\", \"2010-01-10\", \"2010-01-17\", \"2010-01-24\", \"2010-01-31\",\n",
    "#                    \"2010-02-07\", \"2010-02-14\", \"2010-02-21\", \"2010-02-28\", \"2010-03-07\")),\n",
    "#   num_sold = c(5, 5, 5, 5, NA, 0, 0, 5, 0, NA)\n",
    "# )\n",
    "\n",
    "# Add week number and year-week columns to the dataframe starting from the 1st of each month\n",
    "kenya_df2 <- kenya_df2 %>%\n",
    "  mutate(month = month(date),\n",
    "         day_of_month = day(date),\n",
    "         start_of_month = floor_date(date, \"month\"),\n",
    "         week_in_month = ceiling((day_of_month + wday(start_of_month) - 1) / 7))\n",
    "\n",
    "# Display the updated dataframe with week_in_month\n",
    "head(kenya_df2, 35)\n",
    "\n"
   ]
  },
  {
   "cell_type": "code",
   "execution_count": null,
   "id": "54e050fc-69d6-465e-91d1-cb7ca58fdd80",
   "metadata": {},
   "outputs": [],
   "source": []
  },
  {
   "cell_type": "code",
   "execution_count": null,
   "id": "f92bdd50-ae41-4082-b256-d66ddb3f2cfe",
   "metadata": {},
   "outputs": [],
   "source": []
  },
  {
   "cell_type": "code",
   "execution_count": null,
   "id": "3eb82052-fbad-4e75-b59e-a1c62645a9ca",
   "metadata": {},
   "outputs": [],
   "source": [
    "\n",
    "stopper"
   ]
  },
  {
   "cell_type": "markdown",
   "id": "26197b8a-4981-400e-a4b5-5c26748e6d5f",
   "metadata": {},
   "source": [
    "## <font color = lime> Remaining NA in goose2010"
   ]
  },
  {
   "cell_type": "code",
   "execution_count": null,
   "id": "830e6028-5e44-41c7-922b-a289641a54c9",
   "metadata": {},
   "outputs": [],
   "source": [
    "sum(is.na(goose2010))\n",
    "head(goose2010,10)"
   ]
  },
  {
   "cell_type": "code",
   "execution_count": null,
   "id": "d746317b-aa5c-464c-913e-2e23b7c099da",
   "metadata": {},
   "outputs": [],
   "source": [
    "goose_plot2010 <- histogram_plot(goose2010)\n",
    "goose_plot2010"
   ]
  },
  {
   "cell_type": "code",
   "execution_count": null,
   "id": "f4ef3d2d-c960-4eb8-8393-db8fdf46e436",
   "metadata": {},
   "outputs": [],
   "source": []
  },
  {
   "cell_type": "code",
   "execution_count": null,
   "id": "f644d02a-e603-4afe-8143-4b56e7f03195",
   "metadata": {},
   "outputs": [],
   "source": []
  },
  {
   "cell_type": "markdown",
   "id": "27ec8c6c-470e-4010-a0b6-e169e5a0341e",
   "metadata": {},
   "source": [
    "# <font color = lime> Function: replace NA w/ 0"
   ]
  },
  {
   "cell_type": "code",
   "execution_count": null,
   "id": "543e3832-24ca-415c-9c37-50eb06b9413d",
   "metadata": {},
   "outputs": [],
   "source": [
    "make_zero_sale <- function(df,yr) {\n",
    "    sunday_goose <- df %>% filter(year(date) == yr)\n",
    "    # Create a modified count column to adjust the height of \"No Sale\" bars\n",
    "     sunday_goose <- sunday_goose %>%\n",
    "            mutate(num_sold = ifelse(is.na(num_sold), 0, num_sold))\n",
    "    return(sunday_goose)\n",
    "    }\n",
    "\n"
   ]
  },
  {
   "cell_type": "markdown",
   "id": "6b823c6f-edd2-4729-8723-a385b69df703",
   "metadata": {},
   "source": [
    "### <font color = lime> Fct Call: "
   ]
  },
  {
   "cell_type": "code",
   "execution_count": null,
   "id": "7c617dae-3d5e-4a73-8512-eb4b87a813f0",
   "metadata": {},
   "outputs": [],
   "source": [
    "goose2010 <- make_zero_sale(goose2010, 2010)\n",
    "head(goose2010,10)                           # looks good: all na to 0"
   ]
  },
  {
   "cell_type": "code",
   "execution_count": null,
   "id": "b7bee667-3863-4c67-aca5-4f17401890e0",
   "metadata": {},
   "outputs": [],
   "source": []
  },
  {
   "cell_type": "code",
   "execution_count": null,
   "id": "3f74ad0a-2a6b-4193-a005-ec92d4566d08",
   "metadata": {},
   "outputs": [],
   "source": [
    "# Check NAs\n",
    "sum(is.na(goose2010))\n",
    "head(goose2010,2)\n",
    "# tail(goose2010)"
   ]
  },
  {
   "cell_type": "code",
   "execution_count": null,
   "id": "a872ec84-8037-478e-b412-c4ac1ccca519",
   "metadata": {},
   "outputs": [],
   "source": [
    "sum(is.na(kenya_df2))"
   ]
  },
  {
   "cell_type": "code",
   "execution_count": null,
   "id": "a2f8e933-377c-4cb2-9bae-4cd793521bbe",
   "metadata": {},
   "outputs": [],
   "source": [
    "stopper"
   ]
  },
  {
   "cell_type": "markdown",
   "id": "4cbffc66-9e61-4d74-9a80-ced3fc0f13fb",
   "metadata": {},
   "source": [
    "# <font color = lime> NA's update: 40 NA gone from goose2010\n",
    "\n",
    "#### Now repeat for goose2011 - 2016"
   ]
  },
  {
   "cell_type": "code",
   "execution_count": null,
   "id": "3efbeb28-05ee-47cd-be8b-0b8cfb5bac6d",
   "metadata": {},
   "outputs": [],
   "source": []
  },
  {
   "cell_type": "code",
   "execution_count": null,
   "id": "03b5f5da-485f-49cb-85f3-a600bd0bb64e",
   "metadata": {},
   "outputs": [],
   "source": [
    "goose2011 <- annual_sunday_goose(kenya_sunday, 2011)   # create geese\n",
    "\n",
    "\n",
    "# fct \n",
    "zero_spaces <- zero_space(goose2011)\n",
    "# zero_spaces\n",
    "\n",
    "left_zero_space <- zero_spaces$Date[1]\n",
    "right_zero_space <- zero_spaces$Date[2]\n",
    "\n",
    "# left_zero_space\n",
    "# right_zero_space\n",
    "\n",
    "zero_zone2011 <- zero_space(goose2011)\n",
    "zero_zone2011\n",
    "\n",
    "# get the boundaries\n",
    "goose2011 %>% filter(date %in% zero_zone2011$Date[1:2])\n",
    "\n"
   ]
  },
  {
   "cell_type": "code",
   "execution_count": null,
   "id": "02f9c0c5-0d55-4878-ad6c-09756cb2068e",
   "metadata": {},
   "outputs": [],
   "source": [
    "cat(\"\\n The NAs in goose2011 are: \", sum(is.na(goose2011)), \"\\n\\n\")"
   ]
  },
  {
   "cell_type": "code",
   "execution_count": null,
   "id": "7e0ac2d6-c37a-49a4-9647-cc1be7fb0875",
   "metadata": {},
   "outputs": [],
   "source": [
    "# Get the indices from the start of the year until and including the left_date\n",
    "left_indices <- which(goose2011$date >= as.Date(\"2011-01-01\") & goose2011$date <= zero_zone2011$Date[1])\n",
    "# Get the indices from the right_date to the end of the year\n",
    "right_indices <- which(goose2011$date >= zero_zone2011$Date[2] & goose2011$date <= as.Date(\"2011-12-31\"))\n",
    "\n",
    "# Display the indices\n",
    "print(left_indices)\n",
    "print(right_indices)\n",
    "\n",
    "# Direct replacement: subset \n",
    "goose2011$num_sold[left_indices]  <- 5\n",
    "goose2011$num_sold[right_indices]  <- 5 \n",
    "\n",
    "cat(\"\\n The NAs in goose2011 are: \", sum(is.na(goose2011)), \"\\n\\n\")\n",
    "tail(goose2011, 2) "
   ]
  },
  {
   "cell_type": "code",
   "execution_count": null,
   "id": "db33ae73-af7b-46d9-96c0-713d2c553ce3",
   "metadata": {},
   "outputs": [],
   "source": [
    "# fct Call\n",
    "goose2011 <- make_zero_sale(goose2011, 2011)\n",
    "head(goose2011,2)    \n",
    "cat(\"\\n The NAs in goose2011 are: \", sum(is.na(goose2011)), \"\\n\\n\")"
   ]
  },
  {
   "cell_type": "code",
   "execution_count": null,
   "id": "94c49289-524b-47c9-b273-70f44e8b0131",
   "metadata": {},
   "outputs": [],
   "source": []
  },
  {
   "cell_type": "code",
   "execution_count": null,
   "id": "0d613144-dc35-4baa-b9d0-5573bfb12b0d",
   "metadata": {},
   "outputs": [],
   "source": [
    "histogram_plot(goose2011)\n"
   ]
  },
  {
   "cell_type": "markdown",
   "id": "8f9004e4-ab0d-4fc1-9c3d-b54083f4adec",
   "metadata": {},
   "source": [
    "# <font color = lime> NA's update: 32 NA gone from goose2011"
   ]
  },
  {
   "cell_type": "code",
   "execution_count": null,
   "id": "203367ae-b0f0-463d-96d7-86c99534724a",
   "metadata": {},
   "outputs": [],
   "source": []
  },
  {
   "cell_type": "code",
   "execution_count": null,
   "id": "09e75c73-0070-401e-816e-ac4ee05fc39d",
   "metadata": {},
   "outputs": [],
   "source": [
    "# fct call\n",
    "goose2012 <- annual_sunday_goose(kenya_sunday, 2012)   # create geese\n",
    "\n",
    "# fct call\n",
    "zero_spaces <- zero_space(goose2012)\n",
    "\n",
    "left_zero_space <- zero_spaces$Date[1]\n",
    "right_zero_space <- zero_spaces$Date[2]\n",
    "# fct call\n",
    "zero_zone2012 <- zero_space(goose2012)\n",
    "zero_zone2012\n",
    "\n",
    "# get the boundaries\n",
    "goose2012 %>% filter(date %in% zero_zone2012$Date[1:2])\n"
   ]
  },
  {
   "cell_type": "code",
   "execution_count": null,
   "id": "d8019689-e938-4449-bcbe-48f5d81ff21b",
   "metadata": {},
   "outputs": [],
   "source": []
  },
  {
   "cell_type": "code",
   "execution_count": null,
   "id": "a7ef4054-88f7-4fd3-9bea-c72dce77af43",
   "metadata": {},
   "outputs": [],
   "source": [
    "cat(\"\\n The NAs in goose2012 are: \", sum(is.na(goose2012)), \"\\n\\n\")"
   ]
  },
  {
   "cell_type": "code",
   "execution_count": null,
   "id": "0c1dad59-0272-4cfe-982b-18f14c8bb93b",
   "metadata": {},
   "outputs": [],
   "source": []
  },
  {
   "cell_type": "code",
   "execution_count": null,
   "id": "033dbb11-5ca2-43f8-8bb4-8095ec646a74",
   "metadata": {},
   "outputs": [],
   "source": [
    "# Get the indices from the start of the year until and including the left_date\n",
    "left_indices <- which(goose2012$date >= as.Date(\"2012-01-01\") & goose2012$date <= zero_zone2012$Date[1])\n",
    "# Get the indices from the right_date to the end of the year\n",
    "right_indices <- which(goose2012$date >= zero_zone2012$Date[2] & goose2012$date <= as.Date(\"2012-12-31\"))\n",
    "\n",
    "# Display the indices\n",
    "print(left_indices)\n",
    "print(right_indices)\n",
    "\n",
    "# Direct replacement: subset \n",
    "goose2012$num_sold[left_indices]  <- 5\n",
    "goose2012$num_sold[right_indices]  <- 5 \n",
    "\n",
    "cat(\"\\n The NAs in goose2012 are: \", sum(is.na(goose2012)), \"\\n\\n\")\n",
    "tail(goose2012, 2) "
   ]
  },
  {
   "cell_type": "code",
   "execution_count": null,
   "id": "057ff1a9-7bd7-415c-afd1-f07407d276c4",
   "metadata": {},
   "outputs": [],
   "source": []
  },
  {
   "cell_type": "code",
   "execution_count": null,
   "id": "d63158bc-2ed3-452b-b2dc-a26ccddc931a",
   "metadata": {},
   "outputs": [],
   "source": [
    "# fct Call\n",
    "goose2012 <- make_zero_sale(goose2012, 2012)\n",
    "head(goose2012,2)    \n",
    "cat(\"\\n The NAs in goose2012 are: \", sum(is.na(goose2012)), \"\\n\\n\")"
   ]
  },
  {
   "cell_type": "code",
   "execution_count": null,
   "id": "9baf52e1-f6ae-471c-8ca8-0d7dca815639",
   "metadata": {},
   "outputs": [],
   "source": [
    "histogram_plot(goose2012)\n"
   ]
  },
  {
   "cell_type": "markdown",
   "id": "06e6eb71-ac94-43d8-824a-ddf678b44609",
   "metadata": {},
   "source": [
    "# <font color = lime> NA's update: 14 NA gone from goose2012"
   ]
  },
  {
   "cell_type": "code",
   "execution_count": null,
   "id": "e352be02-a296-4183-a1e4-2258bbe0739b",
   "metadata": {},
   "outputs": [],
   "source": []
  },
  {
   "cell_type": "code",
   "execution_count": null,
   "id": "38149fa7-5841-4c20-9672-58f303c8051e",
   "metadata": {},
   "outputs": [],
   "source": [
    "# fct call\n",
    "goose2013 <- annual_sunday_goose(kenya_sunday, 2013)   # create geese\n",
    "cat(\"\\n The NAs in goose2012 are: \", sum(is.na(goose2013)), \"\\n\\n\")\n",
    "\n",
    "# fct call\n",
    "zero_spaces <- zero_space(goose2013)    # 137\n",
    "\n",
    "left_zero_space <- zero_spaces$Date[1]\n",
    "right_zero_space <- zero_spaces$Date[2]\n",
    "# fct call\n",
    "zero_zone2013 <- zero_space(goose2013)\n",
    "zero_zone2013\n",
    "\n",
    "# get the boundaries\n",
    "goose2013 %>% filter(date %in% zero_zone2013$Date[1:2])"
   ]
  },
  {
   "cell_type": "code",
   "execution_count": null,
   "id": "4711ed42-eb89-46cf-8870-1c0c22eb164c",
   "metadata": {},
   "outputs": [],
   "source": []
  },
  {
   "cell_type": "code",
   "execution_count": null,
   "id": "fd980251-6fbf-4aa7-8ce8-08fd16ded4c6",
   "metadata": {},
   "outputs": [],
   "source": [
    "cat(\"\\n The NAs in goose2012 are: \", sum(is.na(goose2013)), \"\\n\\n\")"
   ]
  },
  {
   "cell_type": "code",
   "execution_count": null,
   "id": "2d154acf-b2ed-4260-9723-106976ce61de",
   "metadata": {},
   "outputs": [],
   "source": []
  },
  {
   "cell_type": "code",
   "execution_count": null,
   "id": "8605cb73-cfcd-4bcc-a1bc-eac356c9a0cf",
   "metadata": {},
   "outputs": [],
   "source": [
    "# Get the indices from the start of the year until and including the left_date\n",
    "left_indices <- which(goose2013$date >= as.Date(\"2013-01-01\") & goose2013$date <= zero_zone2013$Date[1])\n",
    "# Get the indices from the right_date to the end of the year\n",
    "right_indices <- which(goose2013$date >= zero_zone2013$Date[2] & goose2013$date <= as.Date(\"2013-12-31\"))\n",
    "\n",
    "# Display the indices\n",
    "print(left_indices)\n",
    "print(right_indices)\n",
    "\n",
    "# Direct replacement: subset \n",
    "goose2013$num_sold[left_indices]  <- 5\n",
    "goose2013$num_sold[right_indices]  <- 5 \n",
    "\n",
    "cat(\"\\n The NAs in goose2013 are: \", sum(is.na(goose2013)), \"\\n\\n\")\n",
    "tail(goose2013, 2)"
   ]
  },
  {
   "cell_type": "code",
   "execution_count": null,
   "id": "7ef3e927-f508-4dc6-98c0-749cc2c20c00",
   "metadata": {},
   "outputs": [],
   "source": []
  },
  {
   "cell_type": "code",
   "execution_count": null,
   "id": "0c1b24f0-8081-403a-b2c6-632d0593804b",
   "metadata": {},
   "outputs": [],
   "source": [
    " # fct Call\n",
    "goose2013 <- make_zero_sale(goose2013, 2013)\n",
    "head(goose2013,2)    \n",
    "cat(\"\\n The NAs in goose2013 are: \", sum(is.na(goose2013)), \"\\n\\n\")"
   ]
  },
  {
   "cell_type": "code",
   "execution_count": null,
   "id": "1ce84bca-7459-49a9-8346-7b55fed1732d",
   "metadata": {},
   "outputs": [],
   "source": []
  },
  {
   "cell_type": "code",
   "execution_count": null,
   "id": "6b397dd3-fbbe-42e7-8706-3334f6f7c7d4",
   "metadata": {},
   "outputs": [],
   "source": [
    "histogram_plot(goose2013)"
   ]
  },
  {
   "cell_type": "markdown",
   "id": "7af02125-5d4d-4ad0-a9f2-c41c0374cb92",
   "metadata": {},
   "source": [
    "# <font color = lime> NA's update: 3 NA gone from goose2013"
   ]
  },
  {
   "cell_type": "code",
   "execution_count": null,
   "id": "37a88f98-df12-445c-9bcb-5899b03c63ce",
   "metadata": {},
   "outputs": [],
   "source": []
  },
  {
   "cell_type": "code",
   "execution_count": null,
   "id": "d20438d3-d319-4d73-ae52-92ab07d00f38",
   "metadata": {},
   "outputs": [],
   "source": [
    "stopper "
   ]
  },
  {
   "cell_type": "code",
   "execution_count": null,
   "id": "64a61571-9226-46a2-9a95-3ea76e8d9a94",
   "metadata": {},
   "outputs": [],
   "source": []
  },
  {
   "cell_type": "code",
   "execution_count": null,
   "id": "28888821-d8f4-4a74-9d5b-47e8fd4ebcf3",
   "metadata": {},
   "outputs": [],
   "source": [
    "annual_sunday_goose(\n",
    "g2010 <- goose2010$id\n",
    "length(g2010)\n",
    "g2010"
   ]
  },
  {
   "cell_type": "markdown",
   "id": "f48144b4-8ea0-44f9-bc98-6e62f3beb985",
   "metadata": {},
   "source": [
    "# <font color = lime> Escape to Surface ... kenya_df2 \n",
    "\n",
    "### Re: kenya_df2 is just a subset of tester\n",
    "\n",
    "#### Reduce the NA's in kenya_df2 by 89 NAs, Keep exploring kenya_df2 for patterns "
   ]
  },
  {
   "cell_type": "code",
   "execution_count": null,
   "id": "c3517c9d-0b6b-4291-998a-51839fba98ad",
   "metadata": {},
   "outputs": [],
   "source": [
    "sum(is.na(kenya_sunday))   # 89\n",
    "dim(kenya_sunday)      # kenya_df2 %>% filter(day_of_week == \"Sun\")  365 x 7\n",
    "dim(kenya_df2)           # 2557 x 6\n",
    "\n",
    "n <- nrow(training)      # 230130\n",
    "n\n",
    "\n",
    "kenya_na <- seq(from = 46, to = n, by = 90)  # sequencer\n",
    "length(kenya_na)                        # 2557\n",
    "head(kenya_na)     # sequencer   46 136 226 316 406 496  (by 90 rows)\n",
    "\n",
    "# subset tester w/ the kenya na vector\n",
    "kenya_2na <- seq(from = 51, to = 230129, by = 90)  #   seqencer\n",
    "length(kenya_2na)\n",
    "head(tester[kenya_2na[ ], ],3  )      # reveals output\n",
    "kenya_df2 <- tester[kenya_2na[ ], ]  # subset tester w/ Kenya sequencer\n",
    "cat(\"\\n The dim of kenya_df2 is: \", dim(kenya_df2), \" There is no kenya_df1\\n\\n\")\n",
    "\n",
    "sum(is.na(kenya_df2))   # / s/b 1358\n",
    "sum(is.na(tester))\n",
    "\n",
    "head(kenya_df2,2)"
   ]
  },
  {
   "cell_type": "code",
   "execution_count": null,
   "id": "51e269b0-eb4b-42a7-bf08-50ecf754b8de",
   "metadata": {},
   "outputs": [],
   "source": [
    "sum(is.na(tester))"
   ]
  },
  {
   "cell_type": "code",
   "execution_count": null,
   "id": "3f226998-e575-46a1-a80c-fc27def19b86",
   "metadata": {},
   "outputs": [],
   "source": [
    "sum(is.na(tester))"
   ]
  },
  {
   "cell_type": "code",
   "execution_count": null,
   "id": "65728154-ceb6-4567-aca5-b9547c5249ca",
   "metadata": {},
   "outputs": [],
   "source": []
  },
  {
   "cell_type": "markdown",
   "id": "900cd89e-a16a-4bae-92a6-525f0d45aa41",
   "metadata": {},
   "source": [
    "## <font color = lime> kenya_df2 <- Kenya_df2(dates), ALL years #195\n",
    "\n",
    "- Expand kenya_df2 to include new columns for Yr, Mon, Day"
   ]
  },
  {
   "cell_type": "code",
   "execution_count": null,
   "id": "bcdab422-a4ea-43f3-b88d-d75733d3c6e0",
   "metadata": {},
   "outputs": [],
   "source": [
    "# crude techniques to attempt filtering by months\n",
    "kenya_mo1 <- kenya_df2[0:31, ]\n",
    "# etc ...\n",
    "kenya_mo2 <- kenya_df2[32:59, ]\n",
    "\n",
    "head(kenya_mo2,2)"
   ]
  },
  {
   "cell_type": "code",
   "execution_count": null,
   "id": "5401502a-c1ca-4a27-8235-e2cbefc760c5",
   "metadata": {},
   "outputs": [],
   "source": []
  },
  {
   "cell_type": "code",
   "execution_count": null,
   "id": "2ede0403-a1de-4c09-a3aa-21daed809fad",
   "metadata": {},
   "outputs": [],
   "source": [
    "names(kenya_df2)"
   ]
  },
  {
   "cell_type": "code",
   "execution_count": null,
   "id": "08dbfb26-3887-449e-991d-1734c66b2909",
   "metadata": {},
   "outputs": [],
   "source": [
    "kenya_df2 <- kenya_df2 %>% mutate(Yr = year(date), Mon = month(date), Day = day(date) )"
   ]
  },
  {
   "cell_type": "code",
   "execution_count": null,
   "id": "b63f1c38-1007-4c05-a3ca-9c0be43fbd4a",
   "metadata": {},
   "outputs": [],
   "source": []
  },
  {
   "cell_type": "code",
   "execution_count": null,
   "id": "ce0bc5fb-6b4f-4307-8ca8-8787ff102c1f",
   "metadata": {},
   "outputs": [],
   "source": []
  },
  {
   "cell_type": "code",
   "execution_count": null,
   "id": "802f2a06-cf35-4c30-8dbe-98dce6706468",
   "metadata": {},
   "outputs": [],
   "source": []
  },
  {
   "cell_type": "code",
   "execution_count": null,
   "id": "2ad2dcc2-713d-4c32-8534-266fac124365",
   "metadata": {},
   "outputs": [],
   "source": [
    "# Extract the num_sold pattern\n",
    "pattern <- kenya_df2$num_sold\n",
    "\n",
    "# Identify gaps of NA\n",
    "na_gaps <- rle(is.na(pattern))$lengths\n",
    "\n",
    "# Extract the length of non-NA and NA segments\n",
    "na_intervals <- na_gaps[!is.na(rle(is.na(pattern))$values)]\n",
    "non_na_intervals <- na_gaps[is.na(rle(is.na(pattern))$values)]\n",
    "\n",
    "# Display the results\n",
    "list(non_na_intervals = non_na_intervals, na_intervals = na_intervals)"
   ]
  },
  {
   "cell_type": "code",
   "execution_count": null,
   "id": "e3772132-4d2e-4717-ac86-a41a2f674a9a",
   "metadata": {},
   "outputs": [],
   "source": []
  },
  {
   "cell_type": "code",
   "execution_count": null,
   "id": "965c8432-d402-4a6d-ba1f-2f06e246ecc4",
   "metadata": {},
   "outputs": [],
   "source": []
  },
  {
   "cell_type": "code",
   "execution_count": null,
   "id": "9f28d7c5-c703-4623-93d2-d04a3472bd0d",
   "metadata": {},
   "outputs": [],
   "source": [
    "stopper"
   ]
  },
  {
   "cell_type": "code",
   "execution_count": null,
   "id": "02cb09bd-918f-4df3-8bdf-0a14b0e5432d",
   "metadata": {},
   "outputs": [],
   "source": []
  },
  {
   "cell_type": "code",
   "execution_count": null,
   "id": "8d655f43-c7c3-4075-b9c5-d85204bb35c9",
   "metadata": {},
   "outputs": [],
   "source": []
  },
  {
   "cell_type": "code",
   "execution_count": null,
   "id": "ba7e6ca4-9c35-45b5-b35f-3a946cd8d6a1",
   "metadata": {},
   "outputs": [],
   "source": [
    "# Plot the NA counts using ggplot2\n",
    "ggplot(monthly_na_counts, aes(x = month, y = na_count)) +\n",
    "  geom_bar(stat = \"identity\", fill = \"coral\") +\n",
    "  labs(title = \"Number of NAs in num_sold Each Month\",\n",
    "       x = \"Month\",\n",
    "       y = \"Number of NAs\") +\n",
    "  theme_minimal()\n"
   ]
  },
  {
   "cell_type": "code",
   "execution_count": null,
   "id": "c095a056-6704-43ca-9b68-c5a8dd145d30",
   "metadata": {},
   "outputs": [],
   "source": []
  },
  {
   "cell_type": "code",
   "execution_count": null,
   "id": "67dd24ec-73f7-46be-8179-02b61aba67ac",
   "metadata": {},
   "outputs": [],
   "source": [
    "# Filter data for January\n",
    "january_data <- kenya_df2 %>%\n",
    "  filter(month(date) == 1)\n",
    "\n",
    "# Calculate the daily NA counts in num_sold\n",
    "daily_na_counts <- january_data %>%\n",
    "  group_by(date) %>%\n",
    "  summarise(na_count = sum(is.na(num_sold)))\n",
    "\n",
    "# Display the NA counts\n",
    "print(daily_na_counts)\n"
   ]
  },
  {
   "cell_type": "code",
   "execution_count": null,
   "id": "e443f14f-2ede-4b26-ac78-e6b4181d5c56",
   "metadata": {},
   "outputs": [],
   "source": []
  },
  {
   "cell_type": "code",
   "execution_count": null,
   "id": "a9e5af6f-20ca-49b7-838a-2fcd0dc21a16",
   "metadata": {},
   "outputs": [],
   "source": [
    "# Filter data for January of the first year\n",
    "january_first_year_data <- kenya_df2 %>%\n",
    "  filter(year(date) == min(year(date)) & month(date) == 1)\n",
    "\n",
    "# Calculate the daily NA counts in num_sold\n",
    "daily_na_counts_first_year <- january_first_year_data %>%\n",
    "  group_by(date) %>%\n",
    "  summarise(na_count = sum(is.na(num_sold)))\n",
    "\n",
    "# Display the NA counts\n",
    "print(daily_na_counts_first_year)\n"
   ]
  },
  {
   "cell_type": "code",
   "execution_count": null,
   "id": "429c8a04-8a2b-41d9-9f71-951b20086d84",
   "metadata": {},
   "outputs": [],
   "source": []
  },
  {
   "cell_type": "code",
   "execution_count": null,
   "id": "499951a5-1b0b-467f-b1b4-afc5a3e2a463",
   "metadata": {},
   "outputs": [],
   "source": [
    "# Filter data for January of the first year\n",
    "january_first_year_data <- kenya_df2 %>%\n",
    "  filter(year(date) == min(year(date)) & month(date) == 1)\n",
    "\n",
    "# Calculate the daily NA counts in num_sold\n",
    "daily_na_counts_first_year2 <- january_first_year_data %>%\n",
    "  group_by(date) %>%\n",
    "  summarise(na_count = sum(is.na(num_sold)))\n",
    "\n",
    "# Display the NA counts\n",
    "print(daily_na_counts_first_year2)\n"
   ]
  },
  {
   "cell_type": "code",
   "execution_count": null,
   "id": "339f8888-e0f3-433f-aa61-2e0819592041",
   "metadata": {},
   "outputs": [],
   "source": [
    "two_month_combined_df <- bind_rows(daily_na_counts_first_year, daily_na_counts_first_year2)\n",
    "two_month_combined_df"
   ]
  },
  {
   "cell_type": "code",
   "execution_count": null,
   "id": "a9b54cc0-b658-4382-acf7-e23e397bc000",
   "metadata": {},
   "outputs": [],
   "source": []
  },
  {
   "cell_type": "code",
   "execution_count": null,
   "id": "625f5900-9ed1-4e4d-8621-726db0fc555d",
   "metadata": {},
   "outputs": [],
   "source": []
  },
  {
   "cell_type": "code",
   "execution_count": null,
   "id": "f50ab73e-16da-42ad-b5c4-99e0ebb407d4",
   "metadata": {},
   "outputs": [],
   "source": [
    "# Filter data for the first year\n",
    "first_year_data <- kenya_df2 %>%\n",
    "  filter(year(date) == min(year(date)))\n",
    "\n",
    "# Calculate the number of NAs in `num_sold` for each quarter\n",
    "quarterly_na_counts <- first_year_data %>%\n",
    "  mutate(quarter = quarter(date, with_year = FALSE)) %>%\n",
    "  group_by(quarter) %>%\n",
    "  summarise(na_count = sum(is.na(num_sold)))\n",
    "\n",
    "# Display the NA counts\n",
    "print(quarterly_na_counts)\n"
   ]
  },
  {
   "cell_type": "code",
   "execution_count": null,
   "id": "1eceae7c-9771-4e4d-bd64-8181b8d1b0cc",
   "metadata": {},
   "outputs": [],
   "source": [
    "# Plot the quarterly NA counts using ggplot2\n",
    "ggplot(quarterly_na_counts, aes(x = as.factor(quarter), y = na_count)) +\n",
    "  geom_bar(stat = \"identity\", fill = \"mediumseagreen\") +\n",
    "  labs(title = \"Number of NAs in num_sold for Each Quarter of the First Year\",\n",
    "       x = \"Quarter\",\n",
    "       y = \"Number of NAs\") +\n",
    "  theme_minimal()\n"
   ]
  },
  {
   "cell_type": "code",
   "execution_count": null,
   "id": "755a1a85-d882-456b-94d3-18850ebf32f2",
   "metadata": {},
   "outputs": [],
   "source": []
  },
  {
   "cell_type": "code",
   "execution_count": null,
   "id": "d693f052-024d-4c61-842e-ed7d6cd73565",
   "metadata": {},
   "outputs": [],
   "source": [
    "# Apply rle() to the vector\n",
    "rle_result <- rle(filtered_data$num_sold)\n",
    "\n",
    "# Display the result\n",
    "str(rle_result)\n",
    "print(rle_result)"
   ]
  },
  {
   "cell_type": "code",
   "execution_count": null,
   "id": "06be55e3-9ccd-41c4-98c2-d43465268d73",
   "metadata": {},
   "outputs": [],
   "source": []
  },
  {
   "cell_type": "code",
   "execution_count": null,
   "id": "5aa41b77-aed1-4407-a326-bdc098c09e30",
   "metadata": {},
   "outputs": [],
   "source": [
    "library(dplyr)\n",
    "\n",
    "# Extract the num_sold pattern\n",
    "pattern <- kenya_df2$num_sold\n",
    "\n",
    "# Identify gaps of NA\n",
    "na_gaps <- rle(is.na(pattern))$lengths\n",
    "\n",
    "# Extract the length of non-NA and NA segments\n",
    "na_intervals <- na_gaps[!is.na(rle(is.na(pattern))$values)]\n",
    "non_na_intervals <- na_gaps[is.na(rle(is.na(pattern))$values)]\n",
    "\n",
    "# Display the results\n",
    "list(non_na_intervals = non_na_intervals, na_intervals = na_intervals)\n"
   ]
  },
  {
   "cell_type": "code",
   "execution_count": null,
   "id": "3f9cd17d-9810-4af8-ad77-043f98975f50",
   "metadata": {},
   "outputs": [],
   "source": [
    "na_gaps"
   ]
  },
  {
   "cell_type": "code",
   "execution_count": null,
   "id": "eea31b13-6d9e-4204-8ed2-795c042fd7ba",
   "metadata": {},
   "outputs": [],
   "source": [
    "na_intervals "
   ]
  },
  {
   "cell_type": "code",
   "execution_count": null,
   "id": "8067afcf-c728-4491-b399-47fe81f8da9d",
   "metadata": {},
   "outputs": [],
   "source": []
  },
  {
   "cell_type": "code",
   "execution_count": null,
   "id": "0d75c5d8-efde-45de-b8a1-d70ffb86634a",
   "metadata": {},
   "outputs": [],
   "source": []
  },
  {
   "cell_type": "code",
   "execution_count": null,
   "id": "dc6dc9b4-a30a-4340-9339-042fde37b6a6",
   "metadata": {},
   "outputs": [],
   "source": []
  },
  {
   "cell_type": "code",
   "execution_count": null,
   "id": "387cd029-22f0-48d6-8176-2dc977d18b9c",
   "metadata": {},
   "outputs": [],
   "source": [
    "#  More 90's ???\n",
    "difs <- dplyr::symdiff(kenya_mo1, kenya_mo2)\n",
    "dim(difs)\n",
    "difs"
   ]
  },
  {
   "cell_type": "code",
   "execution_count": null,
   "id": "fbf3a3d3-73d4-47e7-a56d-4d873fbea777",
   "metadata": {},
   "outputs": [],
   "source": [
    "kenya_mo1[1:5,]\n",
    "kenya_mo1[5, ]   # index number 5 in df\n",
    "kenya_mo1$date[5]"
   ]
  },
  {
   "cell_type": "code",
   "execution_count": null,
   "id": "53b27f37-717d-4793-961e-71899fd54928",
   "metadata": {},
   "outputs": [],
   "source": []
  },
  {
   "cell_type": "code",
   "execution_count": null,
   "id": "e867e543-6bdd-4bf9-b202-549054e17a91",
   "metadata": {},
   "outputs": [],
   "source": []
  },
  {
   "cell_type": "code",
   "execution_count": null,
   "id": "5323316c-99c9-4d28-a31d-ade5550d446c",
   "metadata": {},
   "outputs": [],
   "source": [
    "Stopper"
   ]
  },
  {
   "cell_type": "markdown",
   "id": "5b8f382d-f7eb-45ab-bc98-3d7324f00cc4",
   "metadata": {},
   "source": [
    "# <font color = lime> New Pattern:"
   ]
  },
  {
   "cell_type": "markdown",
   "id": "f4c5dffd-7516-4d04-9036-b27b3aef9c33",
   "metadata": {},
   "source": [
    "#### <font color = yellow> Intermit sales on Sundays in non-summer months of 5 that increase each year from 5 daily sales to 6-7"
   ]
  },
  {
   "cell_type": "code",
   "execution_count": null,
   "id": "875db6b2-2f76-4725-b5cc-a0e60660ac74",
   "metadata": {},
   "outputs": [],
   "source": [
    "# Explore w/ parameters daily / kenya / store / Holographic Google\n",
    "nonpop_product <- kenya_df2 %>%\n",
    "  filter(country == \"Kenya\" & product == \"Holographic Goose\" & is.na(num_sold) )"
   ]
  },
  {
   "cell_type": "code",
   "execution_count": null,
   "id": "dce7dfd5-3eae-487e-9f92-aece8a468c16",
   "metadata": {},
   "outputs": [],
   "source": [
    "#  The days of week w/ a sale (all 7 years)\n",
    "365*7 + 2\n",
    "#  1358  sum(is.na)\n",
    "dim(kenya_goose_na)\n",
    "sum(is.na(nonpop_product$num_sold))  # sum of na is 1358  & sum of !na is 1199\n",
    "1358+1199                             # sum matches 365 * 7 + 2 \n",
    "head(nonpop_product, 1)\n",
    "tail(nonpop_product,3)"
   ]
  },
  {
   "cell_type": "code",
   "execution_count": null,
   "id": "0f76871d-ef4e-4b73-b666-1b20723972af",
   "metadata": {},
   "outputs": [],
   "source": []
  },
  {
   "cell_type": "markdown",
   "id": "d8626040-c4e6-45a9-94b6-49870bf1b273",
   "metadata": {},
   "source": [
    "# <font color = lime> NA math ... updates\n",
    "\n",
    "- (tally_na) = 3557\n",
    "- less\n",
    "- (NA pattern : kenya / Stickers for Less / Goose) = 2557 || 1358\n",
    "- = 1000 unknown / unpatterned NA remaining  || 1299"
   ]
  },
  {
   "cell_type": "code",
   "execution_count": null,
   "id": "ab6fdba3-d094-4b0a-99b2-7a99e1da453d",
   "metadata": {},
   "outputs": [],
   "source": [
    "stopper"
   ]
  },
  {
   "cell_type": "code",
   "execution_count": null,
   "id": "4a516490-2908-4cc2-a155-e8f6577c6edf",
   "metadata": {},
   "outputs": [],
   "source": [
    "tally_na"
   ]
  },
  {
   "cell_type": "code",
   "execution_count": null,
   "id": "7643251e-ce1a-4795-af2b-fc0766ab0ba3",
   "metadata": {},
   "outputs": [],
   "source": []
  },
  {
   "cell_type": "code",
   "execution_count": null,
   "id": "cf2f54d9-1f02-4c9e-a658-6530566c3b7f",
   "metadata": {},
   "outputs": [],
   "source": [
    "stopper"
   ]
  },
  {
   "cell_type": "markdown",
   "id": "996908f0-a22b-4e49-a111-9b4533e33a4c",
   "metadata": {},
   "source": [
    " ## <font color = lime> Mean/Avg Sale / Sunday / Years || NA Replacement values or 0"
   ]
  },
  {
   "cell_type": "code",
   "execution_count": null,
   "id": "0ef96847-570e-4e34-a38d-d79aae01af99",
   "metadata": {},
   "outputs": [],
   "source": [
    "# filter by year and determine ave sales from those sunday sales each year\n",
    "sundays %>% group_by(year(date)) %>% summarize(Avg = mean(num_sold))"
   ]
  },
  {
   "cell_type": "code",
   "execution_count": null,
   "id": "4323f4b1-a479-4167-a705-efecaa1d2b77",
   "metadata": {},
   "outputs": [],
   "source": [
    "# Create a daily histogram for sales vs. no sales with adjusted heights\n",
    "ggplot(sunday_goose, aes(x = date, fill = sale_indicator, weight = modified_count)) +\n",
    "  geom_histogram(binwidth = 1, position = \"identity\", alpha = 0.7) +\n",
    "  labs(title = \"Daily Sales vs. No Sales Pattern\",\n",
    "       x = \"Date\",\n",
    "       y = \"Count\",\n",
    "       fill = \"Sale Indicator\") +\n",
    "  theme_minimal() +\n",
    "  scale_fill_manual(values = c(\"No Sale\" = \"red\", \"Sale\" = \"green\"))\n"
   ]
  },
  {
   "cell_type": "code",
   "execution_count": null,
   "id": "74076c6c-da00-4f2e-b563-8e9aee2e505d",
   "metadata": {},
   "outputs": [],
   "source": []
  },
  {
   "cell_type": "code",
   "execution_count": null,
   "id": "017f0fd5-dda5-4914-bd23-f697658143d7",
   "metadata": {},
   "outputs": [],
   "source": [
    "# filter by sundays\n",
    "dim(nonpop_product)\n",
    "365*7\n",
    "sundays <- nonpop_product %>% group_by(date) %>% filter(day_of_week == \"Sun\")  # all years\n",
    "dim(sundays)\n",
    "52*7\n",
    "\n",
    "head(sundays, 2)\n",
    "tail(sundays,2)\n",
    "\n",
    "\n",
    "# filter again by year\n",
    "sundays %>% filter(year(date) == 2010)    # Sundays sale in year\n",
    "sundays2010 <- sundays %>% filter(year(date) == 2010)    # Sundays sale in year\n"
   ]
  },
  {
   "cell_type": "code",
   "execution_count": null,
   "id": "ed1e611d-089f-4676-a173-fdda87fadfd0",
   "metadata": {},
   "outputs": [],
   "source": [
    "# Create the density plot\n",
    "data <- sundays2010\n",
    "ggplot(data, aes(x = date)) +\n",
    "  geom_density(fill = \"skyblue\", alpha = 0.5) +\n",
    "  labs(title = \"Density Plot of Values\",\n",
    "       x = \"Value\",\n",
    "       y = \"Density\") +\n",
    "  theme_minimal()"
   ]
  },
  {
   "cell_type": "code",
   "execution_count": null,
   "id": "1a449968-80fc-480d-99f8-b5da27dd3533",
   "metadata": {},
   "outputs": [],
   "source": [
    "sundays2010"
   ]
  },
  {
   "cell_type": "code",
   "execution_count": null,
   "id": "b03d7f94-5ec3-412e-bb2f-6d10b7bf412f",
   "metadata": {},
   "outputs": [],
   "source": []
  },
  {
   "cell_type": "code",
   "execution_count": null,
   "id": "24275f9b-f373-4e19-97d1-b2be898ad306",
   "metadata": {},
   "outputs": [],
   "source": [
    "# Create individual density plots with updated titles\n",
    "plot_sundays2010 <- ggplot(sundays2010, aes(x = date)) +\n",
    "  geom_density(fill = \"skyblue\", alpha = 0.5) +\n",
    "  labs(title = \"sundays2010\",\n",
    "       x = \"Date\",\n",
    "       y = \"Density\") +\n",
    "  theme_minimal()\n",
    "\n",
    "plot_sundays2011 <- ggplot(sundays2011, aes(x = date)) +\n",
    "  geom_density(fill = \"skyblue\", alpha = 0.5) +\n",
    "  labs(title = \"sundays2011\",\n",
    "       x = \"Date\",\n",
    "       y = \"Density\") +\n",
    "  theme_minimal()\n",
    "\n",
    "plot_sundays2012 <- ggplot(sundays2012, aes(x = date)) +\n",
    "  geom_density(fill = \"skyblue\", alpha = 0.5) +\n",
    "  labs(title = \"sundays2012\",\n",
    "       x = \"Date\",\n",
    "       y = \"Density\") +\n",
    "  theme_minimal()\n",
    "\n",
    "plot_sundays2013 <- ggplot(sundays2013, aes(x = date)) +\n",
    "  geom_density(fill = \"skyblue\", alpha = 0.5) +\n",
    "  labs(title = \"sundays2013\",\n",
    "       x = \"Date\",\n",
    "       y = \"Density\") +\n",
    "  theme_minimal()\n",
    "\n",
    "plot_sundays2014 <- ggplot(sundays2014, aes(x = date)) +\n",
    "  geom_density(fill = \"skyblue\", alpha = 0.5) +\n",
    "  labs(title = \"sundays2014\",\n",
    "       x = \"Date\",\n",
    "       y = \"Density\") +\n",
    "  theme_minimal()\n",
    "\n",
    "plot_sundays2015 <- ggplot(sundays2015, aes(x = date)) +\n",
    "  geom_density(fill = \"skyblue\", alpha = 0.5) +\n",
    "  labs(title = \"sundays2015\",\n",
    "       x = \"Date\",\n",
    "       y = \"Density\") +\n",
    "  theme_minimal()\n",
    "\n",
    "plot_sundays2016 <- ggplot(sundays2016, aes(x = date)) +\n",
    "  geom_density(fill = \"skyblue\", alpha = 0.5) +\n",
    "  labs(title = \"sundays2016\",\n",
    "       x = \"Date\",\n",
    "       y = \"Density\") +\n",
    "  theme_minimal()\n",
    "\n",
    "# Combine the plots into a grid with updated titles\n",
    "grid.arrange(plot_sundays2010, plot_sundays2011, plot_sundays2012,\n",
    "             plot_sundays2013, plot_sundays2014, plot_sundays2015,\n",
    "             plot_sundays2016, ncol = 3, nrow = 3)\n",
    "\n"
   ]
  },
  {
   "cell_type": "code",
   "execution_count": null,
   "id": "2e9f25ef-5f34-40b3-9e90-2cb8b325c7ec",
   "metadata": {},
   "outputs": [],
   "source": []
  },
  {
   "cell_type": "code",
   "execution_count": null,
   "id": "865f0b49-8b3e-4af1-8501-18f31d1715d8",
   "metadata": {},
   "outputs": [],
   "source": [
    "sundays2016"
   ]
  },
  {
   "cell_type": "code",
   "execution_count": null,
   "id": "9e2f62bb-2ca4-4253-a0d3-8682560a39a5",
   "metadata": {},
   "outputs": [],
   "source": []
  },
  {
   "cell_type": "code",
   "execution_count": null,
   "id": "11f95665-af90-4a40-816a-99e46dd83633",
   "metadata": {},
   "outputs": [],
   "source": [
    "stopper"
   ]
  },
  {
   "cell_type": "markdown",
   "id": "0f4c3bb8-a5ca-4d9f-8908-c4d6b8a57025",
   "metadata": {},
   "source": [
    "### <font color = yellow> The overal mean of num_sold will NOT work as a replacement\n",
    "\n",
    "##### But .... the mean of the sub-groups can be a meaningful replacement w/in the(se) sub-groups.\n",
    "\n",
    "##### 700 != 5"
   ]
  },
  {
   "cell_type": "code",
   "execution_count": null,
   "id": "a32d0d17-664f-4a98-8544-291639c584b9",
   "metadata": {},
   "outputs": [],
   "source": [
    "summary(training$num_sold)"
   ]
  },
  {
   "cell_type": "code",
   "execution_count": null,
   "id": "7267bb5d-35e2-4166-90fc-9239efb07cf4",
   "metadata": {},
   "outputs": [],
   "source": [
    "s <- sum(training$num_sold, na.rm = TRUE)\n",
    "s\n",
    "d <- sum(!is.na(training$num_sold))\n",
    "d\n",
    "s/d"
   ]
  },
  {
   "cell_type": "code",
   "execution_count": null,
   "id": "a0bd36f3-64b1-4128-9085-aa86b42e2fd4",
   "metadata": {},
   "outputs": [],
   "source": [
    "kenya_2na <- training[kenya_2na,]     \n",
    "dim(kenya_2na)\n",
    "\n",
    "sum(is.na(kenya_2na))\n",
    "# sum(kenya_2na, na.rm = TRUE)"
   ]
  },
  {
   "cell_type": "code",
   "execution_count": null,
   "id": "92b5f76d-53f4-4ebc-b38a-c1736823a552",
   "metadata": {},
   "outputs": [],
   "source": [
    "head(kenya_2na, 2)"
   ]
  },
  {
   "cell_type": "code",
   "execution_count": null,
   "id": "f9eba555-89af-4da6-b1f8-7c45a6b66fe0",
   "metadata": {},
   "outputs": [],
   "source": [
    "n <- sum(kenya_2na$num_sold, na.rm = TRUE)\n",
    "n\n",
    "d <- sum(!is.na(kenya_2na$num_sold))\n",
    "d\n",
    "m <- n / d\n",
    "m\n",
    "summary(kenya_2na$num_sold)   # agrees ,,, s/b an integer value, t/f round down to 5 or up to 6"
   ]
  },
  {
   "cell_type": "code",
   "execution_count": null,
   "id": "2ccb154e-176d-49ef-867f-63df02e7074e",
   "metadata": {},
   "outputs": [],
   "source": [
    "stopper"
   ]
  },
  {
   "cell_type": "code",
   "execution_count": null,
   "id": "fddcdb90-97c8-49a7-b20a-29481e36acf3",
   "metadata": {},
   "outputs": [],
   "source": [
    "# Subset the data using dplyr\n",
    "subset_data <- training %>%\n",
    "  filter(country == \"Kenya\" & product == \"Holographic Goose\" & is.na(num_sold) )\n",
    "\n",
    "dim(subset_data)\n",
    "# Display the subset\n",
    "head(subset_data)\n",
    "summary(subset_data$num_sold)   #  Need those zeros "
   ]
  },
  {
   "cell_type": "code",
   "execution_count": null,
   "id": "b5469fec-967f-4cf4-9f56-c275b128ce27",
   "metadata": {},
   "outputs": [],
   "source": []
  },
  {
   "cell_type": "code",
   "execution_count": null,
   "id": "04565812-8a7b-4adc-9a64-9a59aba499e3",
   "metadata": {},
   "outputs": [],
   "source": [
    "count = 0\n",
    "index_ct = 0\n",
    "# for(i in kenya_2na) {\n",
    "#     index <- kenya_2na[i]\n",
    "#         if(is.na(training$num_sold[index])) {\n",
    "#             count = count + 1\n",
    "#             print(training[i, ])\n",
    "#             index_ct <- index_ct + index_ct\n",
    "#             }\n",
    "#     }\n",
    "count"
   ]
  },
  {
   "cell_type": "code",
   "execution_count": null,
   "id": "158be39e-f37a-418d-9097-c9e9624fd963",
   "metadata": {},
   "outputs": [],
   "source": []
  },
  {
   "cell_type": "code",
   "execution_count": null,
   "id": "12c62a09-a551-4672-92d0-f13726b6aff0",
   "metadata": {},
   "outputs": [],
   "source": [
    "training[c(501,506),]"
   ]
  },
  {
   "cell_type": "code",
   "execution_count": null,
   "id": "1d415632-0fd2-438e-b224-752b08261d40",
   "metadata": {},
   "outputs": [],
   "source": []
  },
  {
   "cell_type": "markdown",
   "id": "94c28251-a698-4aa1-9e02-ac4d3eef807c",
   "metadata": {},
   "source": [
    "#### Seasonal Decomposition (for Time Series Data)"
   ]
  },
  {
   "cell_type": "code",
   "execution_count": null,
   "id": "8bcc590c-22cc-4bb6-a70a-36b12d0d5f59",
   "metadata": {},
   "outputs": [],
   "source": [
    "library(forecast)\n",
    "library(lubridate)\n",
    "# Assuming `training` has a time series column\n",
    "ts_data <- ts(training$variable, frequency = 12) # Monthly data\n",
    "decomposed <- decompose(ts_data)\n",
    "\n",
    "# Plot the decomposed components\n",
    "plot(decomposed)\n"
   ]
  },
  {
   "cell_type": "code",
   "execution_count": null,
   "id": "0eaddf40-d48a-46a5-84c7-ab1287bd0e5f",
   "metadata": {},
   "outputs": [],
   "source": []
  },
  {
   "cell_type": "code",
   "execution_count": null,
   "id": "ec9d6693-07f2-43c4-9695-0966275b2cd0",
   "metadata": {},
   "outputs": [],
   "source": []
  },
  {
   "cell_type": "code",
   "execution_count": null,
   "id": "377b8f2d-7a31-46cf-b977-7cda7dbca32e",
   "metadata": {},
   "outputs": [],
   "source": []
  },
  {
   "cell_type": "code",
   "execution_count": null,
   "id": "67ae7553-350c-4d9b-b9ab-f811520677fc",
   "metadata": {},
   "outputs": [],
   "source": []
  },
  {
   "cell_type": "code",
   "execution_count": null,
   "id": "09ed0de8-6c14-42fd-94db-1141d046cefc",
   "metadata": {},
   "outputs": [],
   "source": []
  },
  {
   "cell_type": "code",
   "execution_count": null,
   "id": "ea01f4e5-f498-4bd4-8a6c-6bf0f826a1a8",
   "metadata": {},
   "outputs": [],
   "source": [
    "training$country[training$country == \"Canada\"] <- 1\n"
   ]
  },
  {
   "cell_type": "code",
   "execution_count": null,
   "id": "71a64c02-f890-4e57-a0e6-4e496d33fe9e",
   "metadata": {},
   "outputs": [],
   "source": [
    "country = c(\"Canada\", \"Finland\", \"Italy\", \"Kenya\", \"Norway\", \"Singapore\")\n",
    ")\n",
    "chg_country <- function(df, country, num) { \n",
    "    df$country[df$country == country] <- num \n",
    "    return(df)\n",
    "    }\n",
    "\n",
    "\n",
    "\n",
    "training <- chg_country(training, country[1], 1)"
   ]
  },
  {
   "cell_type": "code",
   "execution_count": null,
   "id": "505d01a6-5d47-40f6-bc79-a03a88f6cb89",
   "metadata": {},
   "outputs": [],
   "source": [
    "product = c(\"Holographic Goose\", \"Kaggle\", \"Kaggle Tiers\", \"Kerneler\", \"Kerneler Dark Mode\")\n",
    "numbers <- 1:5\n",
    "\n",
    "chg_product <- function(df, product, num) { \n",
    "    df$product[df$product == product] <- num \n",
    "    return(df)\n",
    "    }\n",
    "\n",
    "# training <- chg_product(training, product[1], 1)\n",
    "\n",
    "# Apply the function to each product \n",
    "dim(training)\n",
    "for (i in seq_along(product)) { \n",
    "    training <- chg_product(training, product[i], numbers[i]) \n",
    "    }\n",
    "dim(training)"
   ]
  },
  {
   "cell_type": "code",
   "execution_count": null,
   "id": "3b5cdc85-e7f1-401a-8ee2-acf14ba570e5",
   "metadata": {},
   "outputs": [],
   "source": [
    "store = c(\"Discount Stickers\", \"Stickers for Less\", \"Premium Sticker Mart\")\n",
    "\n",
    "chg_store <- function(df, store, num) { \n",
    "    df$store[df$store == store] <- num \n",
    "    return(df)\n",
    "    }\n",
    "\n",
    "training <- chg_store(training, store[3], 3)"
   ]
  },
  {
   "cell_type": "code",
   "execution_count": null,
   "id": "67c7c7f6-20b3-47ef-b129-14f704c11545",
   "metadata": {},
   "outputs": [],
   "source": [
    "head(training, 12)"
   ]
  },
  {
   "cell_type": "code",
   "execution_count": null,
   "id": "b9e69380-c67d-437c-95a2-0c6e63ba15cb",
   "metadata": {},
   "outputs": [],
   "source": []
  },
  {
   "cell_type": "code",
   "execution_count": null,
   "id": "dfd29675-b750-4442-aab4-ec1ea1d28f69",
   "metadata": {},
   "outputs": [],
   "source": []
  },
  {
   "cell_type": "code",
   "execution_count": null,
   "id": "c178faba-9a25-4ce3-9d36-a0ebd2371113",
   "metadata": {},
   "outputs": [],
   "source": [
    "product = c(\"Holographic Goose\", \"Kaggle\", \"Kaggle Tiers\", \"Kerneler\", \"Kerneler Dark Mode\")"
   ]
  },
  {
   "cell_type": "code",
   "execution_count": null,
   "id": "49cd4c71-c703-4104-9029-5426b62252d0",
   "metadata": {},
   "outputs": [],
   "source": []
  },
  {
   "cell_type": "code",
   "execution_count": null,
   "id": "774b2a04-d5fe-456c-a632-e18036135697",
   "metadata": {},
   "outputs": [],
   "source": []
  },
  {
   "cell_type": "code",
   "execution_count": null,
   "id": "1fb29c77-4fa9-40fa-9590-3619d34586f3",
   "metadata": {},
   "outputs": [],
   "source": [
    "stopper"
   ]
  },
  {
   "cell_type": "code",
   "execution_count": null,
   "id": "9d55eafd-dcad-48cc-b576-6ef138fbcb91",
   "metadata": {},
   "outputs": [],
   "source": [
    "names(training)\n",
    "names(encoded_data)"
   ]
  },
  {
   "cell_type": "markdown",
   "id": "ae9edf20-4654-435d-88da-48da3f52c0c2",
   "metadata": {},
   "source": [
    "### <font color = yellow> Split the data"
   ]
  },
  {
   "cell_type": "code",
   "execution_count": null,
   "id": "132970c7-30ba-4ee6-ad3d-61de0e7f347c",
   "metadata": {},
   "outputs": [],
   "source": [
    "# Install and load the caret package if not already installed\n",
    "\n",
    "  library(caret)\n",
    "\n",
    "# Load the dplyr package\n",
    "library(dplyr)\n",
    "\n",
    "# Assuming you already have your encoded data, let's create a sample encoded data frame\n",
    "# Replace this with your actual encoded data\n",
    "# encoded_data <- tibble::tibble(\n",
    "#   Country_Canada = c(1, 1, 1, 1, 1, 1),\n",
    "#   Store_Discount_Stickers = c(1, 1, 1, 1, 1, 0),\n",
    "#   Store_Stickers_for_Less = c(0, 0, 0, 0, 0, 1),\n",
    "#   Product_Holographic_Goose = c(1, 0, 0, 0, 0, 1),\n",
    "#   Product_Kaggle = c(0, 1, 0, 0, 0, 0),\n",
    "#   Product_Kaggle_Tiers = c(0, 0, 1, 0, 0, 0),\n",
    "#   Product_Kerneler = c(0, 0, 0, 1, 0, 0),\n",
    "#   Product_Kerneler_Dark_Mode = c(0, 0, 0, 0, 1, 0),\n",
    "#   num_sold = c(752.5274, 973.0000, 906.0000, 423.0000, 491.0000, 300.0000),\n",
    "#   year = c(2010, 2010, 2010, 2010, 2010, 2010)\n",
    "# )\n",
    "\n",
    "# Split the data into training and testing sets\n",
    "set.seed(123)  # For reproducibility\n",
    "trainIndex <- createDataPartition(encoded_data$num_sold, p = .8, \n",
    "                                  list = FALSE, \n",
    "                                  times = 1)\n",
    "dataTrain <- encoded_data[trainIndex, ]\n",
    "dataTest <- encoded_data[-trainIndex, ]\n",
    "\n",
    "# View the resulting datasets\n",
    "dim(dataTrain)\n",
    "head(dataTrain)\n",
    "dim(dataTest)\n",
    "head(dataTest)\n"
   ]
  },
  {
   "cell_type": "code",
   "execution_count": null,
   "id": "b2c7206b-0c80-46d1-92d6-57a1c8af5158",
   "metadata": {},
   "outputs": [],
   "source": []
  },
  {
   "cell_type": "code",
   "execution_count": null,
   "id": "ae750190-e69b-470c-a3e6-6ffbc4e8b60b",
   "metadata": {},
   "outputs": [],
   "source": [
    "# get name of the predictor variables\n",
    "x <- c(names(dataTrain %>% select(-num_sold)))\n",
    "x\n",
    "# get namee of the response variable\n",
    "p <- ncol(dataTrain)  # get width of df\n",
    "r <- names(dataTrain) # get names of featurs from df\n",
    "y <- c(r[p-1])         # subset the p'th column from df\n",
    "y                    #  name of the last column from df\n"
   ]
  },
  {
   "cell_type": "markdown",
   "id": "8adfae76-0575-4344-870b-4440ee768285",
   "metadata": {},
   "source": [
    "# <font color = yellow> Training a Model"
   ]
  },
  {
   "cell_type": "code",
   "execution_count": null,
   "id": "b6e7c345-db33-41a7-bc56-251b8855b686",
   "metadata": {},
   "outputs": [],
   "source": [
    "library(h2o)\n",
    "h2o.init(nthreads = 6, max_mem_size = \"14G\")\n",
    "\n",
    "# Convert data frame to H2O frame\n",
    "training_h2o <- as.h2o(dataTrain)\n",
    "\n",
    "# get name of the predictor variables\n",
    "x <- c(names(dataTrain %>% select(-num_sold)))\n",
    "\n",
    "# get namee of the response variable\n",
    "p <- ncol(dataTrain)  # get width of df\n",
    "r <- names(dataTrain) # get names of featurs from df\n",
    "y <- c(r[p-1])         # subset the p'th column from df\n",
    "# y                    #  name of the last column from df\n",
    "\n",
    "\n",
    "# Run H2O AutoML\n",
    "aml <- h2o.automl( x = x, y = y, training_frame = training_h2o)\n",
    "\n",
    "# Print AutoML summary\n",
    "print(aml)\n"
   ]
  },
  {
   "cell_type": "code",
   "execution_count": null,
   "id": "bf9fa074-12c5-43a4-9ace-e44f9411537d",
   "metadata": {},
   "outputs": [],
   "source": []
  },
  {
   "cell_type": "code",
   "execution_count": null,
   "id": "09df558f-8f40-4e92-a202-10cd5e3b846d",
   "metadata": {},
   "outputs": [],
   "source": [
    "best_model <- aml@leader\n",
    "print(best_model)"
   ]
  },
  {
   "cell_type": "code",
   "execution_count": null,
   "id": "3203420a-2759-4505-bc53-d2bb00ed4ff0",
   "metadata": {},
   "outputs": [],
   "source": []
  },
  {
   "cell_type": "markdown",
   "id": "9c8550ee-2b59-4351-85d7-472697f9f03e",
   "metadata": {},
   "source": [
    "# <font color = lime> Save best_model to models folder "
   ]
  },
  {
   "cell_type": "code",
   "execution_count": null,
   "id": "c4c3fa3f-437b-4d3e-9a97-2452f8c8af26",
   "metadata": {},
   "outputs": [],
   "source": [
    "# Check if H2O is initialized\n",
    "# h2o.is_running()\n"
   ]
  },
  {
   "cell_type": "code",
   "execution_count": null,
   "id": "fb3cc4c9-11de-462b-8afb-acccd5b4dd7d",
   "metadata": {},
   "outputs": [],
   "source": [
    "# Get the best model from the AutoML object\n",
    "best_model <- h2o.get_best_model(aml)\n",
    "\n",
    "# Save the model to a file\n",
    "model_path <- h2o.save_model(best_model_r11, path = \"C:/all_kaggle/jan25/models\", force = TRUE)\n",
    "print(model_path)\n"
   ]
  },
  {
   "cell_type": "code",
   "execution_count": null,
   "id": "264a1db6-a662-41f2-9caf-5fdd061f5842",
   "metadata": {},
   "outputs": [],
   "source": []
  },
  {
   "cell_type": "code",
   "execution_count": null,
   "id": "6e13f0f7-704f-40a4-ab8a-414dca7e2a6e",
   "metadata": {},
   "outputs": [],
   "source": [
    "stopper"
   ]
  },
  {
   "cell_type": "code",
   "execution_count": null,
   "id": "e1bd52f2-4c71-4286-8c45-d7d72668fe46",
   "metadata": {},
   "outputs": [],
   "source": []
  },
  {
   "cell_type": "code",
   "execution_count": null,
   "id": "c0b721f3-3ba0-420b-81fe-9a9e7878bd68",
   "metadata": {},
   "outputs": [],
   "source": [
    "# Load the h2o package and initialize the H2O cluster if not already done\n",
    "\n",
    "# Define the path to the /models folder\n",
    "models_path <- \"C:/all_kaggle/jan25/models\"\n",
    "\n",
    "# Save the best model to the specified path with the designated name\n",
    "model_path <- h2o.saveModel(object = best_model, path = models_path, force = TRUE)\n",
    "\n",
    "# Rename the saved model file\n",
    "file.rename(from = model_path, to = file.path(models_path, \"kaggle_best_model1\"))\n",
    "\n",
    "# Confirmation message\n",
    "cat(\"The best model has been saved as kaggle_best_model1 in the /models folder.\")\n",
    "\n"
   ]
  },
  {
   "cell_type": "code",
   "execution_count": null,
   "id": "3d3d1cfc-a794-4cbc-93da-9a39dfc4afd9",
   "metadata": {},
   "outputs": [],
   "source": []
  },
  {
   "cell_type": "markdown",
   "id": "6c2579c5-f355-4093-9217-68abcef13a35",
   "metadata": {},
   "source": [
    "# <font color = lime> Evaluate the test dataset with the best_model"
   ]
  },
  {
   "cell_type": "code",
   "execution_count": null,
   "id": "a09fa5d0-f6f5-4265-9601-b69251723517",
   "metadata": {},
   "outputs": [],
   "source": []
  },
  {
   "cell_type": "markdown",
   "id": "abb0f1ec-e16d-419b-8b43-0996e4b6869b",
   "metadata": {},
   "source": [
    "## <font color = yellow> Get test dataset"
   ]
  },
  {
   "cell_type": "code",
   "execution_count": null,
   "id": "426bb319-5886-4f8d-ab5b-c2071582a651",
   "metadata": {},
   "outputs": [],
   "source": [
    "testing "
   ]
  },
  {
   "cell_type": "code",
   "execution_count": null,
   "id": "6cc57fec-6fd2-4f6a-b383-3d919e6c91a8",
   "metadata": {},
   "outputs": [],
   "source": []
  },
  {
   "cell_type": "code",
   "execution_count": null,
   "id": "4c9b6a97-7841-4895-83d0-e112d37883b0",
   "metadata": {},
   "outputs": [],
   "source": [
    "glimpse(testing)\n",
    "summary(testing)"
   ]
  },
  {
   "cell_type": "markdown",
   "id": "372c354d-0e28-47b3-aeed-3dd36c07dfa4",
   "metadata": {},
   "source": [
    "# <font color = yellow> Prepare Testing Dataset:\n",
    "\n",
    "### Convert all features to numeric data types"
   ]
  },
  {
   "cell_type": "code",
   "execution_count": null,
   "id": "b50cdb35-97e7-4c5f-9659-787be0ade286",
   "metadata": {},
   "outputs": [],
   "source": []
  },
  {
   "cell_type": "markdown",
   "id": "4d223428-d9bc-429b-9b3b-a1a82435b469",
   "metadata": {},
   "source": [
    "### <font color = yellow> Review for NAs  (if NA's exist)\n",
    "\n",
    "#### Likely no NA's since the NAs in the train dataset were only found in the response var (num_sold)"
   ]
  },
  {
   "cell_type": "code",
   "execution_count": null,
   "id": "2848ef8b-397b-41d2-a827-f471d9cc9aba",
   "metadata": {},
   "outputs": [],
   "source": []
  },
  {
   "cell_type": "code",
   "execution_count": null,
   "id": "54f1af44-59ff-4d34-909f-c79c0f132f8b",
   "metadata": {},
   "outputs": [],
   "source": [
    "sum(is.na(testing))"
   ]
  },
  {
   "cell_type": "code",
   "execution_count": null,
   "id": "51c00324-6201-438b-a126-591e910cd510",
   "metadata": {},
   "outputs": [],
   "source": [
    "head(testing,2)"
   ]
  },
  {
   "cell_type": "code",
   "execution_count": null,
   "id": "80285fb6-150a-4a58-bee0-1273908fb660",
   "metadata": {},
   "outputs": [],
   "source": []
  },
  {
   "cell_type": "code",
   "execution_count": null,
   "id": "1e03b5f3-0187-4bb9-97d0-78e5a68394c1",
   "metadata": {},
   "outputs": [],
   "source": [
    "str(predictions$predict)  # an instance of h2oFrame object  ... ugly "
   ]
  },
  {
   "cell_type": "markdown",
   "id": "ff992674-353e-4b8e-8cad-6b44e9d010b1",
   "metadata": {},
   "source": [
    "# <font color = lime> Data Ready: Fork in Road"
   ]
  },
  {
   "cell_type": "code",
   "execution_count": null,
   "id": "58289a56-6a16-44d6-88ab-958069951546",
   "metadata": {},
   "outputs": [],
   "source": []
  },
  {
   "cell_type": "code",
   "execution_count": null,
   "id": "81d3d550-a7bf-4389-811e-0c67c8029323",
   "metadata": {},
   "outputs": [],
   "source": []
  },
  {
   "cell_type": "code",
   "execution_count": null,
   "id": "982fa5cf-a675-4c56-a07b-fbf51c79ce87",
   "metadata": {},
   "outputs": [],
   "source": []
  },
  {
   "cell_type": "code",
   "execution_count": null,
   "id": "e4cde15b-10e0-433a-8be7-41cbcec5e8af",
   "metadata": {},
   "outputs": [],
   "source": []
  },
  {
   "cell_type": "code",
   "execution_count": null,
   "id": "d99b5894-bacf-4c59-a64b-0cf2473e2f09",
   "metadata": {},
   "outputs": [],
   "source": []
  },
  {
   "cell_type": "code",
   "execution_count": null,
   "id": "ab701e38-0cae-4640-877e-ed8f85d1c27e",
   "metadata": {},
   "outputs": [],
   "source": []
  },
  {
   "cell_type": "code",
   "execution_count": null,
   "id": "81864f48-9a25-46b9-877b-34ced6d4af4f",
   "metadata": {},
   "outputs": [],
   "source": []
  },
  {
   "cell_type": "code",
   "execution_count": null,
   "id": "635dd2f1-c0d2-490e-8b86-4c4a79996793",
   "metadata": {},
   "outputs": [],
   "source": []
  },
  {
   "cell_type": "markdown",
   "id": "f1739e03-19c8-42d6-a4b9-d762d68535dd",
   "metadata": {},
   "source": [
    "### <font color = yellow> "
   ]
  }
 ],
 "metadata": {
  "kernelspec": {
   "display_name": "R",
   "language": "R",
   "name": "ir"
  },
  "language_info": {
   "codemirror_mode": "r",
   "file_extension": ".r",
   "mimetype": "text/x-r-source",
   "name": "R",
   "pygments_lexer": "r",
   "version": "4.3.0"
  }
 },
 "nbformat": 4,
 "nbformat_minor": 5
}
