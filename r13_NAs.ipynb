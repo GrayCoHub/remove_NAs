{
 "cells": [
  {
   "cell_type": "markdown",
   "id": "6f67e7c1-df35-4b02-b486-553d2709f486",
   "metadata": {},
   "source": [
    "# <font color = yellow> Expanded Kenya: all dataset features"
   ]
  },
  {
   "cell_type": "code",
   "execution_count": 1,
   "id": "acf92a20-7e4f-433e-9292-d6b6ead753f9",
   "metadata": {},
   "outputs": [
    {
     "data": {
      "text/html": [
       "<table class=\"dataframe\">\n",
       "<caption>A matrix: 1 × 447 of type chr</caption>\n",
       "<thead>\n",
       "\t<tr><th scope=col>abind</th><th scope=col>archive</th><th scope=col>askpass</th><th scope=col>assertthat</th><th scope=col>automl</th><th scope=col>backports</th><th scope=col>base64enc</th><th scope=col>BBmisc</th><th scope=col>BH</th><th scope=col>bit</th><th scope=col>⋯</th><th scope=col>rpart</th><th scope=col>spatial</th><th scope=col>splines</th><th scope=col>stats</th><th scope=col>stats4</th><th scope=col>survival</th><th scope=col>tcltk</th><th scope=col>tools</th><th scope=col>translations</th><th scope=col>utils</th></tr>\n",
       "</thead>\n",
       "<tbody>\n",
       "\t<tr><td>abind</td><td>archive</td><td>askpass</td><td>assertthat</td><td>automl</td><td>backports</td><td>base64enc</td><td>BBmisc</td><td>BH</td><td>bit</td><td>⋯</td><td>rpart</td><td>spatial</td><td>splines</td><td>stats</td><td>stats4</td><td>survival</td><td>tcltk</td><td>tools</td><td>translations</td><td>utils</td></tr>\n",
       "</tbody>\n",
       "</table>\n"
      ],
      "text/latex": [
       "A matrix: 1 × 447 of type chr\n",
       "\\begin{tabular}{lllllllllllllllllllll}\n",
       " abind & archive & askpass & assertthat & automl & backports & base64enc & BBmisc & BH & bit & ⋯ & rpart & spatial & splines & stats & stats4 & survival & tcltk & tools & translations & utils\\\\\n",
       "\\hline\n",
       "\t abind & archive & askpass & assertthat & automl & backports & base64enc & BBmisc & BH & bit & ⋯ & rpart & spatial & splines & stats & stats4 & survival & tcltk & tools & translations & utils\\\\\n",
       "\\end{tabular}\n"
      ],
      "text/markdown": [
       "\n",
       "A matrix: 1 × 447 of type chr\n",
       "\n",
       "| abind | archive | askpass | assertthat | automl | backports | base64enc | BBmisc | BH | bit | ⋯ | rpart | spatial | splines | stats | stats4 | survival | tcltk | tools | translations | utils |\n",
       "|---|---|---|---|---|---|---|---|---|---|---|---|---|---|---|---|---|---|---|---|---|\n",
       "| abind | archive | askpass | assertthat | automl | backports | base64enc | BBmisc | BH | bit | ⋯ | rpart | spatial | splines | stats | stats4 | survival | tcltk | tools | translations | utils |\n",
       "\n"
      ],
      "text/plain": [
       "     abind archive askpass assertthat automl backports base64enc BBmisc BH bit\n",
       "[1,] abind archive askpass assertthat automl backports base64enc BBmisc BH bit\n",
       "     ⋯ rpart spatial splines stats stats4 survival tcltk tools translations\n",
       "[1,] ⋯ rpart spatial splines stats stats4 survival tcltk tools translations\n",
       "     utils\n",
       "[1,] utils"
      ]
     },
     "metadata": {},
     "output_type": "display_data"
    }
   ],
   "source": [
    "# List all installed R libraries\n",
    "installed_libraries <- installed.packages()\n",
    "\n",
    "# Print the names of the installed libraries\n",
    "t(installed_libraries[, \"Package\"])\n"
   ]
  },
  {
   "cell_type": "code",
   "execution_count": null,
   "id": "e8e2b7d9-ecd3-49ed-8c79-ffa8caedf53c",
   "metadata": {},
   "outputs": [],
   "source": []
  },
  {
   "cell_type": "code",
   "execution_count": 2,
   "id": "31b3ef54-f8e5-4d7b-8abf-cc51919ff072",
   "metadata": {},
   "outputs": [
    {
     "name": "stderr",
     "output_type": "stream",
     "text": [
      "Warning message:\n",
      "\"package 'readr' was built under R version 4.3.3\"\n",
      "Warning message:\n",
      "\"package 'dplyr' was built under R version 4.3.2\"\n",
      "\n",
      "Attaching package: 'dplyr'\n",
      "\n",
      "\n",
      "The following objects are masked from 'package:stats':\n",
      "\n",
      "    filter, lag\n",
      "\n",
      "\n",
      "The following objects are masked from 'package:base':\n",
      "\n",
      "    intersect, setdiff, setequal, union\n",
      "\n",
      "\n",
      "Warning message:\n",
      "\"package 'reticulate' was built under R version 4.3.3\"\n",
      "Warning message:\n",
      "\"package 'ggplot2' was built under R version 4.3.3\"\n",
      "\n",
      "Attaching package: 'gridExtra'\n",
      "\n",
      "\n",
      "The following object is masked from 'package:dplyr':\n",
      "\n",
      "    combine\n",
      "\n",
      "\n"
     ]
    }
   ],
   "source": [
    "# Load necessary libraries\n",
    "\n",
    "library(readr)\n",
    "library(dplyr)\n",
    "library(kaggler)\n",
    "library(reticulate)\n",
    "library(ggplot2)\n",
    "library(gridExtra)\n",
    "\n",
    "\n",
    "# library(rle)   # Run Length Encoding: base rle( ) fct\n",
    "\n",
    "options(scipen = 999)\n",
    "#     Load the datasets w/ powershell:\n",
    "\n",
    "#  kaggle competitions download -c playground-series-s5e1 -p 'C:/all_kaggle/jan25/dataset'\n",
    "# $basePath = \"C:\\all_kaggle\\jan25\\dataset\"\n",
    "# $zipFilePath = Join-Path $basePath \"playground-series-s5e1.zip\"\n",
    "# $trainFolderPath = Join-Path $basePath \"train\"\n",
    "# $testFolderPath = Join-Path $basePath \"test\"\n",
    "# $submissionFolderPath = Join-Path $basePath \"submission\"\n",
    "#     # Unzip the file\n",
    "# Expand-Archive -Path $zipFilePath -DestinationPath $basePath\n",
    "#     # Move the CSV files to their respective subfolders\n",
    "# Move-Item -Path (Join-Path $basePath \"train.csv\") -Destination $trainFolderPath\n",
    "# Move-Item -Path (Join-Path $basePath \"test.csv\") -Destination $testFolderPath\n"
   ]
  },
  {
   "cell_type": "markdown",
   "id": "87ca1c56-8919-4615-a4bd-5cf6f1eff7b4",
   "metadata": {},
   "source": [
    "### <font color = yellow> Get the kaggle, training dataset"
   ]
  },
  {
   "cell_type": "code",
   "execution_count": 3,
   "id": "f59466ae-c603-4b54-b322-14fe0e66d439",
   "metadata": {},
   "outputs": [
    {
     "name": "stderr",
     "output_type": "stream",
     "text": [
      "starting httpd help server ...\n",
      " done\n",
      "\n"
     ]
    }
   ],
   "source": [
    "vignette(\"dplyr\")\n",
    "vignette(\"dplyr\")"
   ]
  },
  {
   "cell_type": "code",
   "execution_count": 4,
   "id": "40042a30-c629-4f53-aec7-5499c19198ab",
   "metadata": {
    "scrolled": true
   },
   "outputs": [
    {
     "data": {
      "text/html": [
       "<style>\n",
       ".list-inline {list-style: none; margin:0; padding: 0}\n",
       ".list-inline>li {display: inline-block}\n",
       ".list-inline>li:not(:last-child)::after {content: \"\\00b7\"; padding: 0 .5ex}\n",
       "</style>\n",
       "<ol class=list-inline><li>230130</li><li>6</li></ol>\n"
      ],
      "text/latex": [
       "\\begin{enumerate*}\n",
       "\\item 230130\n",
       "\\item 6\n",
       "\\end{enumerate*}\n"
      ],
      "text/markdown": [
       "1. 230130\n",
       "2. 6\n",
       "\n",
       "\n"
      ],
      "text/plain": [
       "[1] 230130      6"
      ]
     },
     "metadata": {},
     "output_type": "display_data"
    },
    {
     "data": {
      "text/html": [
       "<table class=\"dataframe\">\n",
       "<caption>A tibble: 2 × 6</caption>\n",
       "<thead>\n",
       "\t<tr><th scope=col>id</th><th scope=col>date</th><th scope=col>country</th><th scope=col>store</th><th scope=col>product</th><th scope=col>num_sold</th></tr>\n",
       "\t<tr><th scope=col>&lt;dbl&gt;</th><th scope=col>&lt;date&gt;</th><th scope=col>&lt;chr&gt;</th><th scope=col>&lt;chr&gt;</th><th scope=col>&lt;chr&gt;</th><th scope=col>&lt;dbl&gt;</th></tr>\n",
       "</thead>\n",
       "<tbody>\n",
       "\t<tr><td>0</td><td>2010-01-01</td><td>Canada</td><td>Discount Stickers</td><td>Holographic Goose</td><td> NA</td></tr>\n",
       "\t<tr><td>1</td><td>2010-01-01</td><td>Canada</td><td>Discount Stickers</td><td>Kaggle           </td><td>973</td></tr>\n",
       "</tbody>\n",
       "</table>\n"
      ],
      "text/latex": [
       "A tibble: 2 × 6\n",
       "\\begin{tabular}{llllll}\n",
       " id & date & country & store & product & num\\_sold\\\\\n",
       " <dbl> & <date> & <chr> & <chr> & <chr> & <dbl>\\\\\n",
       "\\hline\n",
       "\t 0 & 2010-01-01 & Canada & Discount Stickers & Holographic Goose &  NA\\\\\n",
       "\t 1 & 2010-01-01 & Canada & Discount Stickers & Kaggle            & 973\\\\\n",
       "\\end{tabular}\n"
      ],
      "text/markdown": [
       "\n",
       "A tibble: 2 × 6\n",
       "\n",
       "| id &lt;dbl&gt; | date &lt;date&gt; | country &lt;chr&gt; | store &lt;chr&gt; | product &lt;chr&gt; | num_sold &lt;dbl&gt; |\n",
       "|---|---|---|---|---|---|\n",
       "| 0 | 2010-01-01 | Canada | Discount Stickers | Holographic Goose |  NA |\n",
       "| 1 | 2010-01-01 | Canada | Discount Stickers | Kaggle            | 973 |\n",
       "\n"
      ],
      "text/plain": [
       "  id date       country store             product           num_sold\n",
       "1 0  2010-01-01 Canada  Discount Stickers Holographic Goose  NA     \n",
       "2 1  2010-01-01 Canada  Discount Stickers Kaggle            973     "
      ]
     },
     "metadata": {},
     "output_type": "display_data"
    }
   ],
   "source": [
    "# Load the datasets with the correct path\n",
    "train <- read_csv('C:/all_kaggle/jan25/dataset/train/train.csv', show_col_types = FALSE)\n",
    "# test <- read_csv('C:/all_kaggle/jan25/dataset/test/test.csv', show_col_types = FALSE)\n",
    "dim(train)\n",
    "head(train,2)\n",
    "# dim(test)"
   ]
  },
  {
   "cell_type": "code",
   "execution_count": null,
   "id": "c4554e39-0531-481a-b23a-6056fa9a10ef",
   "metadata": {},
   "outputs": [],
   "source": []
  },
  {
   "cell_type": "markdown",
   "id": "ca61429e-90d0-430f-8c33-9a8024e5f98f",
   "metadata": {},
   "source": [
    "# <font color = lime> Functions Section:"
   ]
  },
  {
   "cell_type": "code",
   "execution_count": null,
   "id": "202e637f-46b0-414f-b2c0-3fd20826c329",
   "metadata": {},
   "outputs": [],
   "source": []
  },
  {
   "cell_type": "markdown",
   "id": "86ac2ed8-f3a7-4629-a398-b00407766535",
   "metadata": {},
   "source": [
    "### <font color = yellow> Fct: Preliminary dfs: year_2010, 2011, 2012, etc..."
   ]
  },
  {
   "cell_type": "code",
   "execution_count": 5,
   "id": "4d23b200-bf48-4027-9adc-1a40b460f966",
   "metadata": {},
   "outputs": [
    {
     "data": {
      "text/html": [
       "<style>\n",
       ".list-inline {list-style: none; margin:0; padding: 0}\n",
       ".list-inline>li {display: inline-block}\n",
       ".list-inline>li:not(:last-child)::after {content: \"\\00b7\"; padding: 0 .5ex}\n",
       "</style>\n",
       "<ol class=list-inline><li>230130</li><li>6</li></ol>\n"
      ],
      "text/latex": [
       "\\begin{enumerate*}\n",
       "\\item 230130\n",
       "\\item 6\n",
       "\\end{enumerate*}\n"
      ],
      "text/markdown": [
       "1. 230130\n",
       "2. 6\n",
       "\n",
       "\n"
      ],
      "text/plain": [
       "[1] 230130      6"
      ]
     },
     "metadata": {},
     "output_type": "display_data"
    },
    {
     "data": {
      "text/html": [
       "<style>\n",
       ".list-inline {list-style: none; margin:0; padding: 0}\n",
       ".list-inline>li {display: inline-block}\n",
       ".list-inline>li:not(:last-child)::after {content: \"\\00b7\"; padding: 0 .5ex}\n",
       "</style>\n",
       "<ol class=list-inline><li>230130</li><li>6</li></ol>\n"
      ],
      "text/latex": [
       "\\begin{enumerate*}\n",
       "\\item 230130\n",
       "\\item 6\n",
       "\\end{enumerate*}\n"
      ],
      "text/markdown": [
       "1. 230130\n",
       "2. 6\n",
       "\n",
       "\n"
      ],
      "text/plain": [
       "[1] 230130      6"
      ]
     },
     "metadata": {},
     "output_type": "display_data"
    }
   ],
   "source": [
    "# Filter the data for the specified year within the function\n",
    "get_filtered_year <- function(df, year) {\n",
    "  filtered_data <- df %>% filter(year == !!year)\n",
    "  return(filtered_data)\n",
    "}\n",
    "\n",
    "# Initialize the vector of years\n",
    "yr <- c(2010, 2011, 2012, 2013, 2014, 2015, 2016)\n",
    "\n",
    "# Loop through each year and create separate dataframes\n",
    "for (i in 1:length(yr)) {\n",
    "  filtered_data <- get_filtered_year(train, yr[i])\n",
    "  var_name <- paste0(\"year_\", yr[i])\n",
    "  assign(var_name, filtered_data)\n",
    "}\n",
    "\n",
    "# Display the content of the dynamically created dataframes\n",
    "dim(year_2010)\n",
    "dim(year_2011)\n"
   ]
  },
  {
   "cell_type": "code",
   "execution_count": null,
   "id": "31fca1d9-b015-4ba8-83b1-2f3918a00d1e",
   "metadata": {},
   "outputs": [],
   "source": []
  },
  {
   "cell_type": "code",
   "execution_count": null,
   "id": "7040ca43-0b64-4730-b3a0-f47b7dbdbc64",
   "metadata": {},
   "outputs": [],
   "source": []
  },
  {
   "cell_type": "markdown",
   "id": "f122229f-01db-4315-8154-af1f050493a8",
   "metadata": {},
   "source": [
    "### <font color = lime> Grouping / Plotting Monthly Sales:"
   ]
  },
  {
   "cell_type": "code",
   "execution_count": 6,
   "id": "c64c923a-57ef-43a4-8a0e-cc57cbd90aad",
   "metadata": {},
   "outputs": [],
   "source": [
    "# Assuming your dataframe is named year_2010\n",
    "# Group by month and calculate total sales for each month\n",
    "monthly_group_by <- function(df) {\n",
    "    \n",
    "    monthly_sales <- df %>%\n",
    "      group_by(mo) %>%\n",
    "      summarise(total_sales = sum(num_sold, na.rm = TRUE))\n",
    "    \n",
    "    # Display the prepared data\n",
    "    # print(monthly_sales)\n",
    "    return(monthly_sales)    \n",
    "}  "
   ]
  },
  {
   "cell_type": "code",
   "execution_count": 7,
   "id": "f6c90622-1d8e-404f-81e4-724526da3cee",
   "metadata": {},
   "outputs": [],
   "source": [
    "    # Create the histogram plot\n",
    "histogram_monthly_plot <- function(df) {\n",
    "\n",
    "    plot <- ggplot(monthly_sales, aes(x = mo, y = total_sales, fill = mo)) +\n",
    "      geom_bar(stat = \"identity\") +\n",
    "      labs(title = \"Total Sales by Month for the Year 2010\",\n",
    "           x = \"Month\",\n",
    "           y = \"Total Sales\") +\n",
    "      theme_minimal() +\n",
    "      scale_fill_brewer(palette = \"Paired\")\n",
    "\n",
    "    # Print the plot \n",
    "    print(plot)\n",
    "    }\n",
    "      "
   ]
  },
  {
   "cell_type": "code",
   "execution_count": null,
   "id": "1ece878f-8f02-40dc-8fc6-94b2b31f9c1b",
   "metadata": {},
   "outputs": [],
   "source": []
  },
  {
   "cell_type": "code",
   "execution_count": 8,
   "id": "6240f643-8441-4b8f-a44e-9cc26701d68e",
   "metadata": {},
   "outputs": [],
   "source": [
    "library(dplyr)\n",
    "\n",
    "country_sales_and_na_mo <- function(df, country_name) {\n",
    "    \n",
    "    # Filter the dataframe for the specified country and non-NA num_sold values\n",
    "    filtered_country_na <- df %>%\n",
    "      filter(country == !!country_name)\n",
    "    \n",
    "    # Display the filtered data (optional)\n",
    "    print(head(filtered_country_na, 1))\n",
    "    \n",
    "    # Summarize the count of NA values per month\n",
    "    count_na_per_month <- function(df) {\n",
    "      df %>%\n",
    "        group_by(mo) %>%\n",
    "        summarise(count_na = sum(is.na(num_sold)))\n",
    "    }\n",
    "    \n",
    "    # Apply the function to the entire dataframe to get NA counts\n",
    "    test_sum_na <- count_na_per_month(df)\n",
    "    \n",
    "    # Summarize total sales per month for the filtered country\n",
    "    total_sales_per_month <- function(df) {\n",
    "      df %>%\n",
    "        group_by(mo) %>%\n",
    "        summarise(total_sales = sum(num_sold, na.rm = TRUE))\n",
    "    }\n",
    "    \n",
    "    # Apply the function to the filtered data\n",
    "    test_mo_na <- total_sales_per_month(filtered_country_na)\n",
    "    \n",
    "    # Perform a full join to combine count of NAs and total sales per month\n",
    "    final_df <- full_join(test_sum_na, test_mo_na, by = \"mo\")\n",
    "    \n",
    "    # Return the final dataframe\n",
    "    return(final_df)\n",
    "}\n",
    "\n"
   ]
  },
  {
   "cell_type": "code",
   "execution_count": 9,
   "id": "09b291b1-f184-41de-901d-4ada70d2fb70",
   "metadata": {},
   "outputs": [],
   "source": [
    "# head(country_sales_and_na_mo(year_2010, \"Kenya\"), 2)"
   ]
  },
  {
   "cell_type": "code",
   "execution_count": 10,
   "id": "5b456ff2-c701-42fc-ae79-854dceca8f8d",
   "metadata": {},
   "outputs": [],
   "source": [
    "\n",
    "\n",
    "product_sales_and_na_mo <- function(df, product_name) {\n",
    "    \n",
    "    # Filter the dataframe for the specified product and non-NA num_sold values\n",
    "    filtered_product_na <- df %>%\n",
    "      filter(product == !!product_name & !is.na(num_sold))\n",
    "    \n",
    "    # Display the filtered data (optional)\n",
    "    print(head(filtered_product_na, 1))\n",
    "    \n",
    "    # Summarize the count of NA values per month\n",
    "    count_na_per_month <- function(df) {\n",
    "      df %>%\n",
    "        group_by(mo) %>%\n",
    "        summarise(count_na = sum(is.na(num_sold)))\n",
    "    }\n",
    "    \n",
    "    # Apply the function to the entire dataframe to get NA counts\n",
    "    test_sum_na <- count_na_per_month(df)\n",
    "    \n",
    "    # Summarize total sales per month for the filtered product\n",
    "    total_sales_per_month <- function(df) {\n",
    "      df %>%\n",
    "        group_by(mo) %>%\n",
    "        summarise(total_sales = sum(num_sold, na.rm = TRUE))\n",
    "    }\n",
    "    \n",
    "    # Apply the function to the filtered data  (GS: missed this part) \n",
    "    test_mo_na <- total_sales_per_month(filtered_product_na)\n",
    "    \n",
    "    # Perform a full join to combine count of NAs and total sales per month\n",
    "    final_df <- full_join(test_sum_na, test_mo_na, by = \"mo\")\n",
    "    \n",
    "    # Return the final dataframe\n",
    "    return(final_df)\n",
    "}"
   ]
  },
  {
   "cell_type": "code",
   "execution_count": 11,
   "id": "b29022ca-f25e-4f1f-bc03-5d301b4c5cb9",
   "metadata": {},
   "outputs": [],
   "source": [
    "# head(product_sales_and_na_mo(year_2010, \"Holographic Goose\"), 3)"
   ]
  },
  {
   "cell_type": "code",
   "execution_count": null,
   "id": "b9cd5b82-a3c2-4f08-b943-be2745d4a35a",
   "metadata": {},
   "outputs": [],
   "source": []
  },
  {
   "cell_type": "code",
   "execution_count": null,
   "id": "64c388e0-675a-421c-92ca-ced6541e18d5",
   "metadata": {},
   "outputs": [],
   "source": []
  },
  {
   "cell_type": "markdown",
   "id": "a24e1954-f045-4377-b2fc-36e1be8ed0ca",
   "metadata": {},
   "source": [
    "### <font color = lime> The Pattern:  Each Country(1:6) > Each store(1:3) > Each product (1:5) = 90 row cycles\n",
    "\n",
    "#### 1-1-5/ 1-1-5 / 1-1-5 (1 country/ each store / each product  { for each day => 90 rows }"
   ]
  },
  {
   "cell_type": "code",
   "execution_count": null,
   "id": "be688275-9121-4f16-96d3-399c61b26542",
   "metadata": {},
   "outputs": [],
   "source": []
  },
  {
   "cell_type": "markdown",
   "id": "153abb8e-a7c9-4a7e-83cc-04700482c970",
   "metadata": {},
   "source": [
    "### <font color = yellow> Cursory Evaluations for NAs - only found.: num_sold ... cat response feature"
   ]
  },
  {
   "cell_type": "code",
   "execution_count": 12,
   "id": "bf99346a-8312-4961-bed2-8c757fa82db1",
   "metadata": {},
   "outputs": [
    {
     "name": "stdout",
     "output_type": "stream",
     "text": [
      "Rows: 230,130\n",
      "Columns: 6\n",
      "$ id       \u001b[3m\u001b[90m<dbl>\u001b[39m\u001b[23m 0, 1, 2, 3, 4, 5, 6, 7, 8, 9, 10, 11, 12, 13, 14, 15, 16, 17,…\n",
      "$ date     \u001b[3m\u001b[90m<date>\u001b[39m\u001b[23m 2010-01-01, 2010-01-01, 2010-01-01, 2010-01-01, 2010-01-01, …\n",
      "$ country  \u001b[3m\u001b[90m<chr>\u001b[39m\u001b[23m \"Canada\", \"Canada\", \"Canada\", \"Canada\", \"Canada\", \"Canada\", \"…\n",
      "$ store    \u001b[3m\u001b[90m<chr>\u001b[39m\u001b[23m \"Discount Stickers\", \"Discount Stickers\", \"Discount Stickers\"…\n",
      "$ product  \u001b[3m\u001b[90m<chr>\u001b[39m\u001b[23m \"Holographic Goose\", \"Kaggle\", \"Kaggle Tiers\", \"Kerneler\", \"K…\n",
      "$ num_sold \u001b[3m\u001b[90m<dbl>\u001b[39m\u001b[23m \u001b[31mNA\u001b[39m, 973, 906, 423, 491, 300, 1837, 1659, 807, 940, 375, 2212,…\n"
     ]
    },
    {
     "data": {
      "text/plain": [
       "       id              date              country             store          \n",
       " Min.   :     0   Min.   :2010-01-01   Length:230130      Length:230130     \n",
       " 1st Qu.: 57532   1st Qu.:2011-10-02   Class :character   Class :character  \n",
       " Median :115065   Median :2013-07-02   Mode  :character   Mode  :character  \n",
       " Mean   :115065   Mean   :2013-07-02                                        \n",
       " 3rd Qu.:172597   3rd Qu.:2015-04-02                                        \n",
       " Max.   :230129   Max.   :2016-12-31                                        \n",
       "                                                                            \n",
       "   product             num_sold     \n",
       " Length:230130      Min.   :   5.0  \n",
       " Class :character   1st Qu.: 219.0  \n",
       " Mode  :character   Median : 605.0  \n",
       "                    Mean   : 752.5  \n",
       "                    3rd Qu.:1114.0  \n",
       "                    Max.   :5939.0  \n",
       "                    NA's   :8871    "
      ]
     },
     "metadata": {},
     "output_type": "display_data"
    }
   ],
   "source": [
    "glimpse(train)\n",
    "summary(train)"
   ]
  },
  {
   "cell_type": "markdown",
   "id": "7402a1c4-159b-4556-9a58-17ee41c4173e",
   "metadata": {},
   "source": [
    "### <font color = yellow> Expand the date to (year, month, day)"
   ]
  },
  {
   "cell_type": "code",
   "execution_count": 13,
   "id": "b47cbe35-2afc-4033-beb2-f9951a8a0331",
   "metadata": {},
   "outputs": [
    {
     "data": {
      "text/html": [
       "<table class=\"dataframe\">\n",
       "<caption>A tibble: 1 × 6</caption>\n",
       "<thead>\n",
       "\t<tr><th scope=col>id</th><th scope=col>date</th><th scope=col>country</th><th scope=col>store</th><th scope=col>product</th><th scope=col>num_sold</th></tr>\n",
       "\t<tr><th scope=col>&lt;dbl&gt;</th><th scope=col>&lt;date&gt;</th><th scope=col>&lt;chr&gt;</th><th scope=col>&lt;chr&gt;</th><th scope=col>&lt;chr&gt;</th><th scope=col>&lt;dbl&gt;</th></tr>\n",
       "</thead>\n",
       "<tbody>\n",
       "\t<tr><td>0</td><td>2010-01-01</td><td>Canada</td><td>Discount Stickers</td><td>Holographic Goose</td><td>NA</td></tr>\n",
       "</tbody>\n",
       "</table>\n"
      ],
      "text/latex": [
       "A tibble: 1 × 6\n",
       "\\begin{tabular}{llllll}\n",
       " id & date & country & store & product & num\\_sold\\\\\n",
       " <dbl> & <date> & <chr> & <chr> & <chr> & <dbl>\\\\\n",
       "\\hline\n",
       "\t 0 & 2010-01-01 & Canada & Discount Stickers & Holographic Goose & NA\\\\\n",
       "\\end{tabular}\n"
      ],
      "text/markdown": [
       "\n",
       "A tibble: 1 × 6\n",
       "\n",
       "| id &lt;dbl&gt; | date &lt;date&gt; | country &lt;chr&gt; | store &lt;chr&gt; | product &lt;chr&gt; | num_sold &lt;dbl&gt; |\n",
       "|---|---|---|---|---|---|\n",
       "| 0 | 2010-01-01 | Canada | Discount Stickers | Holographic Goose | NA |\n",
       "\n"
      ],
      "text/plain": [
       "  id date       country store             product           num_sold\n",
       "1 0  2010-01-01 Canada  Discount Stickers Holographic Goose NA      "
      ]
     },
     "metadata": {},
     "output_type": "display_data"
    }
   ],
   "source": [
    "head(train,1)"
   ]
  },
  {
   "cell_type": "code",
   "execution_count": 14,
   "id": "99b47e74-2c01-4281-95f3-6898d91d0ac9",
   "metadata": {},
   "outputs": [
    {
     "name": "stderr",
     "output_type": "stream",
     "text": [
      "Warning message:\n",
      "\"package 'lubridate' was built under R version 4.3.3\"\n",
      "\n",
      "Attaching package: 'lubridate'\n",
      "\n",
      "\n",
      "The following objects are masked from 'package:base':\n",
      "\n",
      "    date, intersect, setdiff, union\n",
      "\n",
      "\n"
     ]
    }
   ],
   "source": [
    "library(lubridate)\n",
    "# vignette(\"lubridate\")\n",
    "# vignette(\"lubridate\")"
   ]
  },
  {
   "cell_type": "markdown",
   "id": "9cf1bdbb-0788-496d-927d-5672021a54ae",
   "metadata": {},
   "source": [
    "## <font color = yellow> Add: year, mo, day, wkday variables"
   ]
  },
  {
   "cell_type": "code",
   "execution_count": 15,
   "id": "bc769de9-4188-40e8-8ec4-b03918dccde6",
   "metadata": {},
   "outputs": [
    {
     "data": {
      "text/html": [
       "<table class=\"dataframe\">\n",
       "<caption>A tibble: 2 × 10</caption>\n",
       "<thead>\n",
       "\t<tr><th scope=col>id</th><th scope=col>date</th><th scope=col>country</th><th scope=col>store</th><th scope=col>product</th><th scope=col>num_sold</th><th scope=col>year</th><th scope=col>mo</th><th scope=col>day</th><th scope=col>wkday</th></tr>\n",
       "\t<tr><th scope=col>&lt;dbl&gt;</th><th scope=col>&lt;date&gt;</th><th scope=col>&lt;chr&gt;</th><th scope=col>&lt;chr&gt;</th><th scope=col>&lt;chr&gt;</th><th scope=col>&lt;dbl&gt;</th><th scope=col>&lt;dbl&gt;</th><th scope=col>&lt;ord&gt;</th><th scope=col>&lt;int&gt;</th><th scope=col>&lt;ord&gt;</th></tr>\n",
       "</thead>\n",
       "<tbody>\n",
       "\t<tr><td>230128</td><td>2016-12-31</td><td>Singapore</td><td>Premium Sticker Mart</td><td>Kerneler          </td><td>1242</td><td>2016</td><td>Dec</td><td>31</td><td>Sat</td></tr>\n",
       "\t<tr><td>230129</td><td>2016-12-31</td><td>Singapore</td><td>Premium Sticker Mart</td><td>Kerneler Dark Mode</td><td>1622</td><td>2016</td><td>Dec</td><td>31</td><td>Sat</td></tr>\n",
       "</tbody>\n",
       "</table>\n"
      ],
      "text/latex": [
       "A tibble: 2 × 10\n",
       "\\begin{tabular}{llllllllll}\n",
       " id & date & country & store & product & num\\_sold & year & mo & day & wkday\\\\\n",
       " <dbl> & <date> & <chr> & <chr> & <chr> & <dbl> & <dbl> & <ord> & <int> & <ord>\\\\\n",
       "\\hline\n",
       "\t 230128 & 2016-12-31 & Singapore & Premium Sticker Mart & Kerneler           & 1242 & 2016 & Dec & 31 & Sat\\\\\n",
       "\t 230129 & 2016-12-31 & Singapore & Premium Sticker Mart & Kerneler Dark Mode & 1622 & 2016 & Dec & 31 & Sat\\\\\n",
       "\\end{tabular}\n"
      ],
      "text/markdown": [
       "\n",
       "A tibble: 2 × 10\n",
       "\n",
       "| id &lt;dbl&gt; | date &lt;date&gt; | country &lt;chr&gt; | store &lt;chr&gt; | product &lt;chr&gt; | num_sold &lt;dbl&gt; | year &lt;dbl&gt; | mo &lt;ord&gt; | day &lt;int&gt; | wkday &lt;ord&gt; |\n",
       "|---|---|---|---|---|---|---|---|---|---|\n",
       "| 230128 | 2016-12-31 | Singapore | Premium Sticker Mart | Kerneler           | 1242 | 2016 | Dec | 31 | Sat |\n",
       "| 230129 | 2016-12-31 | Singapore | Premium Sticker Mart | Kerneler Dark Mode | 1622 | 2016 | Dec | 31 | Sat |\n",
       "\n"
      ],
      "text/plain": [
       "  id     date       country   store                product            num_sold\n",
       "1 230128 2016-12-31 Singapore Premium Sticker Mart Kerneler           1242    \n",
       "2 230129 2016-12-31 Singapore Premium Sticker Mart Kerneler Dark Mode 1622    \n",
       "  year mo  day wkday\n",
       "1 2016 Dec 31  Sat  \n",
       "2 2016 Dec 31  Sat  "
      ]
     },
     "metadata": {},
     "output_type": "display_data"
    }
   ],
   "source": [
    "train <- train %>% mutate(year = year(date), mo = month(date , label = TRUE), day = day(date), wkday = wday(date, label = TRUE ) )\n",
    "tail(train, 2)"
   ]
  },
  {
   "cell_type": "code",
   "execution_count": null,
   "id": "533d0a45-8090-4976-b7b6-8f52ee4fff78",
   "metadata": {},
   "outputs": [],
   "source": []
  },
  {
   "cell_type": "markdown",
   "id": "c9945b85-585d-4808-b205-28d208b0d73a",
   "metadata": {},
   "source": [
    "# <font color = yellow> Create date arrays: Month / Year"
   ]
  },
  {
   "cell_type": "markdown",
   "id": "e8d3be0b-f7e1-45af-899b-6f616bb7a5eb",
   "metadata": {},
   "source": [
    "### <font color = yellow> month_list$mo "
   ]
  },
  {
   "cell_type": "code",
   "execution_count": 16,
   "id": "86ee67c8-0ae7-4a64-980e-84b220a293c4",
   "metadata": {},
   "outputs": [
    {
     "data": {
      "text/html": [
       "<table class=\"dataframe\">\n",
       "<caption>A tibble: 6 × 10</caption>\n",
       "<thead>\n",
       "\t<tr><th scope=col>id</th><th scope=col>date</th><th scope=col>country</th><th scope=col>store</th><th scope=col>product</th><th scope=col>num_sold</th><th scope=col>year</th><th scope=col>mo</th><th scope=col>day</th><th scope=col>wkday</th></tr>\n",
       "\t<tr><th scope=col>&lt;dbl&gt;</th><th scope=col>&lt;date&gt;</th><th scope=col>&lt;chr&gt;</th><th scope=col>&lt;chr&gt;</th><th scope=col>&lt;chr&gt;</th><th scope=col>&lt;dbl&gt;</th><th scope=col>&lt;dbl&gt;</th><th scope=col>&lt;ord&gt;</th><th scope=col>&lt;int&gt;</th><th scope=col>&lt;ord&gt;</th></tr>\n",
       "</thead>\n",
       "<tbody>\n",
       "\t<tr><td>2784</td><td>2010-01-31</td><td>Singapore</td><td>Stickers for Less   </td><td>Kerneler Dark Mode</td><td> 940</td><td>2010</td><td>Jan</td><td>31</td><td>Sun</td></tr>\n",
       "\t<tr><td>2785</td><td>2010-01-31</td><td>Singapore</td><td>Premium Sticker Mart</td><td>Holographic Goose </td><td> 305</td><td>2010</td><td>Jan</td><td>31</td><td>Sun</td></tr>\n",
       "\t<tr><td>2786</td><td>2010-01-31</td><td>Singapore</td><td>Premium Sticker Mart</td><td>Kaggle            </td><td>1700</td><td>2010</td><td>Jan</td><td>31</td><td>Sun</td></tr>\n",
       "\t<tr><td>2787</td><td>2010-01-31</td><td>Singapore</td><td>Premium Sticker Mart</td><td>Kaggle Tiers      </td><td>1537</td><td>2010</td><td>Jan</td><td>31</td><td>Sun</td></tr>\n",
       "\t<tr><td>2788</td><td>2010-01-31</td><td>Singapore</td><td>Premium Sticker Mart</td><td>Kerneler          </td><td> 741</td><td>2010</td><td>Jan</td><td>31</td><td>Sun</td></tr>\n",
       "\t<tr><td>2789</td><td>2010-01-31</td><td>Singapore</td><td>Premium Sticker Mart</td><td>Kerneler Dark Mode</td><td>1054</td><td>2010</td><td>Jan</td><td>31</td><td>Sun</td></tr>\n",
       "</tbody>\n",
       "</table>\n"
      ],
      "text/latex": [
       "A tibble: 6 × 10\n",
       "\\begin{tabular}{llllllllll}\n",
       " id & date & country & store & product & num\\_sold & year & mo & day & wkday\\\\\n",
       " <dbl> & <date> & <chr> & <chr> & <chr> & <dbl> & <dbl> & <ord> & <int> & <ord>\\\\\n",
       "\\hline\n",
       "\t 2784 & 2010-01-31 & Singapore & Stickers for Less    & Kerneler Dark Mode &  940 & 2010 & Jan & 31 & Sun\\\\\n",
       "\t 2785 & 2010-01-31 & Singapore & Premium Sticker Mart & Holographic Goose  &  305 & 2010 & Jan & 31 & Sun\\\\\n",
       "\t 2786 & 2010-01-31 & Singapore & Premium Sticker Mart & Kaggle             & 1700 & 2010 & Jan & 31 & Sun\\\\\n",
       "\t 2787 & 2010-01-31 & Singapore & Premium Sticker Mart & Kaggle Tiers       & 1537 & 2010 & Jan & 31 & Sun\\\\\n",
       "\t 2788 & 2010-01-31 & Singapore & Premium Sticker Mart & Kerneler           &  741 & 2010 & Jan & 31 & Sun\\\\\n",
       "\t 2789 & 2010-01-31 & Singapore & Premium Sticker Mart & Kerneler Dark Mode & 1054 & 2010 & Jan & 31 & Sun\\\\\n",
       "\\end{tabular}\n"
      ],
      "text/markdown": [
       "\n",
       "A tibble: 6 × 10\n",
       "\n",
       "| id &lt;dbl&gt; | date &lt;date&gt; | country &lt;chr&gt; | store &lt;chr&gt; | product &lt;chr&gt; | num_sold &lt;dbl&gt; | year &lt;dbl&gt; | mo &lt;ord&gt; | day &lt;int&gt; | wkday &lt;ord&gt; |\n",
       "|---|---|---|---|---|---|---|---|---|---|\n",
       "| 2784 | 2010-01-31 | Singapore | Stickers for Less    | Kerneler Dark Mode |  940 | 2010 | Jan | 31 | Sun |\n",
       "| 2785 | 2010-01-31 | Singapore | Premium Sticker Mart | Holographic Goose  |  305 | 2010 | Jan | 31 | Sun |\n",
       "| 2786 | 2010-01-31 | Singapore | Premium Sticker Mart | Kaggle             | 1700 | 2010 | Jan | 31 | Sun |\n",
       "| 2787 | 2010-01-31 | Singapore | Premium Sticker Mart | Kaggle Tiers       | 1537 | 2010 | Jan | 31 | Sun |\n",
       "| 2788 | 2010-01-31 | Singapore | Premium Sticker Mart | Kerneler           |  741 | 2010 | Jan | 31 | Sun |\n",
       "| 2789 | 2010-01-31 | Singapore | Premium Sticker Mart | Kerneler Dark Mode | 1054 | 2010 | Jan | 31 | Sun |\n",
       "\n"
      ],
      "text/plain": [
       "  id   date       country   store                product            num_sold\n",
       "1 2784 2010-01-31 Singapore Stickers for Less    Kerneler Dark Mode  940    \n",
       "2 2785 2010-01-31 Singapore Premium Sticker Mart Holographic Goose   305    \n",
       "3 2786 2010-01-31 Singapore Premium Sticker Mart Kaggle             1700    \n",
       "4 2787 2010-01-31 Singapore Premium Sticker Mart Kaggle Tiers       1537    \n",
       "5 2788 2010-01-31 Singapore Premium Sticker Mart Kerneler            741    \n",
       "6 2789 2010-01-31 Singapore Premium Sticker Mart Kerneler Dark Mode 1054    \n",
       "  year mo  day wkday\n",
       "1 2010 Jan 31  Sun  \n",
       "2 2010 Jan 31  Sun  \n",
       "3 2010 Jan 31  Sun  \n",
       "4 2010 Jan 31  Sun  \n",
       "5 2010 Jan 31  Sun  \n",
       "6 2010 Jan 31  Sun  "
      ]
     },
     "metadata": {},
     "output_type": "display_data"
    }
   ],
   "source": [
    "# Generate a sequence of 12 months from January to December\n",
    "months_array <- format(seq.Date(from = as.Date(\"2010-01-01\"), to = as.Date(\"2010-12-01\"), by = \"month\"), \"%b\")\n",
    "#print(months_array)\n",
    "\n",
    "# Generate an array to store the filtered data  (ALL Years)\n",
    "month_list <- list()\n",
    "\n",
    "# Loop through each month and filter the dataframe\n",
    "for (month in months_array) {\n",
    "  filtered_data <- train %>%\n",
    "    filter(month(date, label = TRUE) == month & year(date) == 2010)\n",
    "  month_list[[month]] <- filtered_data\n",
    "}\n",
    "\n",
    "tail(month_list$Jan)\n"
   ]
  },
  {
   "cell_type": "code",
   "execution_count": null,
   "id": "f8e16d4e-af95-4a1a-b89c-84fce016555e",
   "metadata": {},
   "outputs": [],
   "source": []
  },
  {
   "cell_type": "code",
   "execution_count": null,
   "id": "34dbcbbf-8c96-4e58-9433-a22bdf415935",
   "metadata": {},
   "outputs": [],
   "source": []
  },
  {
   "cell_type": "markdown",
   "id": "047ea810-7ba9-4229-849e-429980010a75",
   "metadata": {},
   "source": [
    "### <font color = yellow> filtered_year_20xx "
   ]
  },
  {
   "cell_type": "code",
   "execution_count": 17,
   "id": "90537568-24ac-45e8-842f-02227b81b227",
   "metadata": {
    "scrolled": true
   },
   "outputs": [
    {
     "name": "stdout",
     "output_type": "stream",
     "text": [
      "[1] 32850    10\n",
      "\u001b[90m# A tibble: 10 × 10\u001b[39m\n",
      "      id date       country   store     product num_sold  year mo      day wkday\n",
      "   \u001b[3m\u001b[90m<dbl>\u001b[39m\u001b[23m \u001b[3m\u001b[90m<date>\u001b[39m\u001b[23m     \u001b[3m\u001b[90m<chr>\u001b[39m\u001b[23m     \u001b[3m\u001b[90m<chr>\u001b[39m\u001b[23m     \u001b[3m\u001b[90m<chr>\u001b[39m\u001b[23m      \u001b[3m\u001b[90m<dbl>\u001b[39m\u001b[23m \u001b[3m\u001b[90m<dbl>\u001b[39m\u001b[23m \u001b[3m\u001b[90m<ord>\u001b[39m\u001b[23m \u001b[3m\u001b[90m<int>\u001b[39m\u001b[23m \u001b[3m\u001b[90m<ord>\u001b[39m\u001b[23m\n",
      "\u001b[90m 1\u001b[39m \u001b[4m6\u001b[24m\u001b[4m5\u001b[24m690 2011-12-31 Singapore Stickers… Hologr…      351  \u001b[4m2\u001b[24m011 Dec      31 Sat  \n",
      "\u001b[90m 2\u001b[39m \u001b[4m6\u001b[24m\u001b[4m5\u001b[24m691 2011-12-31 Singapore Stickers… Kaggle      \u001b[4m2\u001b[24m017  \u001b[4m2\u001b[24m011 Dec      31 Sat  \n",
      "\u001b[90m 3\u001b[39m \u001b[4m6\u001b[24m\u001b[4m5\u001b[24m692 2011-12-31 Singapore Stickers… Kaggle…     \u001b[4m1\u001b[24m870  \u001b[4m2\u001b[24m011 Dec      31 Sat  \n",
      "\u001b[90m 4\u001b[39m \u001b[4m6\u001b[24m\u001b[4m5\u001b[24m693 2011-12-31 Singapore Stickers… Kernel…      977  \u001b[4m2\u001b[24m011 Dec      31 Sat  \n",
      "\u001b[90m 5\u001b[39m \u001b[4m6\u001b[24m\u001b[4m5\u001b[24m694 2011-12-31 Singapore Stickers… Kernel…     \u001b[4m1\u001b[24m231  \u001b[4m2\u001b[24m011 Dec      31 Sat  \n",
      "\u001b[90m 6\u001b[39m \u001b[4m6\u001b[24m\u001b[4m5\u001b[24m695 2011-12-31 Singapore Premium … Hologr…      384  \u001b[4m2\u001b[24m011 Dec      31 Sat  \n",
      "\u001b[90m 7\u001b[39m \u001b[4m6\u001b[24m\u001b[4m5\u001b[24m696 2011-12-31 Singapore Premium … Kaggle      \u001b[4m2\u001b[24m668  \u001b[4m2\u001b[24m011 Dec      31 Sat  \n",
      "\u001b[90m 8\u001b[39m \u001b[4m6\u001b[24m\u001b[4m5\u001b[24m697 2011-12-31 Singapore Premium … Kaggle…     \u001b[4m2\u001b[24m520  \u001b[4m2\u001b[24m011 Dec      31 Sat  \n",
      "\u001b[90m 9\u001b[39m \u001b[4m6\u001b[24m\u001b[4m5\u001b[24m698 2011-12-31 Singapore Premium … Kernel…     \u001b[4m1\u001b[24m146  \u001b[4m2\u001b[24m011 Dec      31 Sat  \n",
      "\u001b[90m10\u001b[39m \u001b[4m6\u001b[24m\u001b[4m5\u001b[24m699 2011-12-31 Singapore Premium … Kernel…     \u001b[4m1\u001b[24m497  \u001b[4m2\u001b[24m011 Dec      31 Sat  \n",
      "[1] 32940    10\n",
      "\u001b[90m# A tibble: 10 × 10\u001b[39m\n",
      "      id date       country store       product num_sold  year mo      day wkday\n",
      "   \u001b[3m\u001b[90m<dbl>\u001b[39m\u001b[23m \u001b[3m\u001b[90m<date>\u001b[39m\u001b[23m     \u001b[3m\u001b[90m<chr>\u001b[39m\u001b[23m   \u001b[3m\u001b[90m<chr>\u001b[39m\u001b[23m       \u001b[3m\u001b[90m<chr>\u001b[39m\u001b[23m      \u001b[3m\u001b[90m<dbl>\u001b[39m\u001b[23m \u001b[3m\u001b[90m<dbl>\u001b[39m\u001b[23m \u001b[3m\u001b[90m<ord>\u001b[39m\u001b[23m \u001b[3m\u001b[90m<int>\u001b[39m\u001b[23m \u001b[3m\u001b[90m<ord>\u001b[39m\u001b[23m\n",
      "\u001b[90m 1\u001b[39m \u001b[4m6\u001b[24m\u001b[4m5\u001b[24m700 2012-01-01 Canada  Discount S… Hologr…       \u001b[31mNA\u001b[39m  \u001b[4m2\u001b[24m012 Jan       1 Sun  \n",
      "\u001b[90m 2\u001b[39m \u001b[4m6\u001b[24m\u001b[4m5\u001b[24m701 2012-01-01 Canada  Discount S… Kaggle      \u001b[4m1\u001b[24m142  \u001b[4m2\u001b[24m012 Jan       1 Sun  \n",
      "\u001b[90m 3\u001b[39m \u001b[4m6\u001b[24m\u001b[4m5\u001b[24m702 2012-01-01 Canada  Discount S… Kaggle…      983  \u001b[4m2\u001b[24m012 Jan       1 Sun  \n",
      "\u001b[90m 4\u001b[39m \u001b[4m6\u001b[24m\u001b[4m5\u001b[24m703 2012-01-01 Canada  Discount S… Kernel…      478  \u001b[4m2\u001b[24m012 Jan       1 Sun  \n",
      "\u001b[90m 5\u001b[39m \u001b[4m6\u001b[24m\u001b[4m5\u001b[24m704 2012-01-01 Canada  Discount S… Kernel…      576  \u001b[4m2\u001b[24m012 Jan       1 Sun  \n",
      "\u001b[90m 6\u001b[39m \u001b[4m6\u001b[24m\u001b[4m5\u001b[24m705 2012-01-01 Canada  Stickers f… Hologr…      349  \u001b[4m2\u001b[24m012 Jan       1 Sun  \n",
      "\u001b[90m 7\u001b[39m \u001b[4m6\u001b[24m\u001b[4m5\u001b[24m706 2012-01-01 Canada  Stickers f… Kaggle      \u001b[4m2\u001b[24m143  \u001b[4m2\u001b[24m012 Jan       1 Sun  \n",
      "\u001b[90m 8\u001b[39m \u001b[4m6\u001b[24m\u001b[4m5\u001b[24m707 2012-01-01 Canada  Stickers f… Kaggle…     \u001b[4m1\u001b[24m955  \u001b[4m2\u001b[24m012 Jan       1 Sun  \n",
      "\u001b[90m 9\u001b[39m \u001b[4m6\u001b[24m\u001b[4m5\u001b[24m708 2012-01-01 Canada  Stickers f… Kernel…      937  \u001b[4m2\u001b[24m012 Jan       1 Sun  \n",
      "\u001b[90m10\u001b[39m \u001b[4m6\u001b[24m\u001b[4m5\u001b[24m709 2012-01-01 Canada  Stickers f… Kernel…      978  \u001b[4m2\u001b[24m012 Jan       1 Sun  \n"
     ]
    }
   ],
   "source": [
    "# Create array w/range of years\n",
    "years_array <- seq(2010, 2016, by = 1)\n",
    "\n",
    "# Generate an array to store the filtered data\n",
    "year_list <- list()\n",
    "\n",
    "# Loop through each year and filter the dataframe\n",
    "for (year in years_array) {\n",
    "  filtered_data <- train %>%\n",
    "    filter(year == !!year)  # Use the correct variable inside the filter\n",
    "  year_list[[as.character(year)]] <- filtered_data\n",
    "}\n",
    "\n",
    "# Function to return filtered data for a specific year\n",
    "get_filtered_year <- function(year) {\n",
    "  year_list[[as.character(year)]]\n",
    "}\n",
    "\n",
    "# Example: Accessing the dataframe for the year 2011\n",
    "filtered_year_2011 <- get_filtered_year(2011)\n",
    "print(dim(filtered_year_2011))\n",
    "print(tail(filtered_year_2011, 10))\n",
    "\n",
    "# Example: Accessing the dataframe for the year 2012\n",
    "filtered_year_2012 <- get_filtered_year(2012)\n",
    "print(dim(filtered_year_2012))\n",
    "print(head(filtered_year_2012, 10))\n"
   ]
  },
  {
   "cell_type": "code",
   "execution_count": null,
   "id": "4632cc19-defa-40a6-9a43-d059a0d5b5bf",
   "metadata": {},
   "outputs": [],
   "source": []
  },
  {
   "cell_type": "code",
   "execution_count": null,
   "id": "48054b06-c622-49e8-b9a1-8d06ca1e19bd",
   "metadata": {},
   "outputs": [],
   "source": []
  },
  {
   "cell_type": "markdown",
   "id": "b6620b8a-01af-4476-b3ec-a406bf2ec64d",
   "metadata": {},
   "source": [
    "## <font color = yellow> Primary Cycle: 6 countries repeat in 90 row cycles"
   ]
  },
  {
   "cell_type": "code",
   "execution_count": 18,
   "id": "d7dcde20-a482-4554-8d91-3a9f98446e76",
   "metadata": {},
   "outputs": [
    {
     "data": {
      "text/html": [
       "<table class=\"dataframe\">\n",
       "<caption>A tibble: 2 × 10</caption>\n",
       "<thead>\n",
       "\t<tr><th scope=col>id</th><th scope=col>date</th><th scope=col>country</th><th scope=col>store</th><th scope=col>product</th><th scope=col>num_sold</th><th scope=col>year</th><th scope=col>mo</th><th scope=col>day</th><th scope=col>wkday</th></tr>\n",
       "\t<tr><th scope=col>&lt;dbl&gt;</th><th scope=col>&lt;date&gt;</th><th scope=col>&lt;chr&gt;</th><th scope=col>&lt;chr&gt;</th><th scope=col>&lt;chr&gt;</th><th scope=col>&lt;dbl&gt;</th><th scope=col>&lt;dbl&gt;</th><th scope=col>&lt;ord&gt;</th><th scope=col>&lt;int&gt;</th><th scope=col>&lt;ord&gt;</th></tr>\n",
       "</thead>\n",
       "<tbody>\n",
       "\t<tr><td>0</td><td>2010-01-01</td><td>Canada</td><td>Discount Stickers</td><td>Holographic Goose</td><td> NA</td><td>2010</td><td>Jan</td><td>1</td><td>Fri</td></tr>\n",
       "\t<tr><td>1</td><td>2010-01-01</td><td>Canada</td><td>Discount Stickers</td><td>Kaggle           </td><td>973</td><td>2010</td><td>Jan</td><td>1</td><td>Fri</td></tr>\n",
       "</tbody>\n",
       "</table>\n"
      ],
      "text/latex": [
       "A tibble: 2 × 10\n",
       "\\begin{tabular}{llllllllll}\n",
       " id & date & country & store & product & num\\_sold & year & mo & day & wkday\\\\\n",
       " <dbl> & <date> & <chr> & <chr> & <chr> & <dbl> & <dbl> & <ord> & <int> & <ord>\\\\\n",
       "\\hline\n",
       "\t 0 & 2010-01-01 & Canada & Discount Stickers & Holographic Goose &  NA & 2010 & Jan & 1 & Fri\\\\\n",
       "\t 1 & 2010-01-01 & Canada & Discount Stickers & Kaggle            & 973 & 2010 & Jan & 1 & Fri\\\\\n",
       "\\end{tabular}\n"
      ],
      "text/markdown": [
       "\n",
       "A tibble: 2 × 10\n",
       "\n",
       "| id &lt;dbl&gt; | date &lt;date&gt; | country &lt;chr&gt; | store &lt;chr&gt; | product &lt;chr&gt; | num_sold &lt;dbl&gt; | year &lt;dbl&gt; | mo &lt;ord&gt; | day &lt;int&gt; | wkday &lt;ord&gt; |\n",
       "|---|---|---|---|---|---|---|---|---|---|\n",
       "| 0 | 2010-01-01 | Canada | Discount Stickers | Holographic Goose |  NA | 2010 | Jan | 1 | Fri |\n",
       "| 1 | 2010-01-01 | Canada | Discount Stickers | Kaggle            | 973 | 2010 | Jan | 1 | Fri |\n",
       "\n"
      ],
      "text/plain": [
       "  id date       country store             product           num_sold year mo \n",
       "1 0  2010-01-01 Canada  Discount Stickers Holographic Goose  NA      2010 Jan\n",
       "2 1  2010-01-01 Canada  Discount Stickers Kaggle            973      2010 Jan\n",
       "  day wkday\n",
       "1 1   Fri  \n",
       "2 1   Fri  "
      ]
     },
     "metadata": {},
     "output_type": "display_data"
    },
    {
     "data": {
      "text/html": [
       "<table class=\"dataframe\">\n",
       "<caption>A tibble: 3 × 10</caption>\n",
       "<thead>\n",
       "\t<tr><th scope=col>id</th><th scope=col>date</th><th scope=col>country</th><th scope=col>store</th><th scope=col>product</th><th scope=col>num_sold</th><th scope=col>year</th><th scope=col>mo</th><th scope=col>day</th><th scope=col>wkday</th></tr>\n",
       "\t<tr><th scope=col>&lt;dbl&gt;</th><th scope=col>&lt;date&gt;</th><th scope=col>&lt;chr&gt;</th><th scope=col>&lt;chr&gt;</th><th scope=col>&lt;chr&gt;</th><th scope=col>&lt;dbl&gt;</th><th scope=col>&lt;dbl&gt;</th><th scope=col>&lt;ord&gt;</th><th scope=col>&lt;int&gt;</th><th scope=col>&lt;ord&gt;</th></tr>\n",
       "</thead>\n",
       "<tbody>\n",
       "\t<tr><td>89</td><td>2010-01-01</td><td>Singapore</td><td>Premium Sticker Mart</td><td>Kerneler Dark Mode</td><td>1255</td><td>2010</td><td>Jan</td><td>1</td><td>Fri</td></tr>\n",
       "\t<tr><td>90</td><td>2010-01-02</td><td>Canada   </td><td>Discount Stickers   </td><td>Holographic Goose </td><td>  NA</td><td>2010</td><td>Jan</td><td>2</td><td>Sat</td></tr>\n",
       "\t<tr><td>91</td><td>2010-01-02</td><td>Canada   </td><td>Discount Stickers   </td><td>Kaggle            </td><td> 881</td><td>2010</td><td>Jan</td><td>2</td><td>Sat</td></tr>\n",
       "</tbody>\n",
       "</table>\n"
      ],
      "text/latex": [
       "A tibble: 3 × 10\n",
       "\\begin{tabular}{llllllllll}\n",
       " id & date & country & store & product & num\\_sold & year & mo & day & wkday\\\\\n",
       " <dbl> & <date> & <chr> & <chr> & <chr> & <dbl> & <dbl> & <ord> & <int> & <ord>\\\\\n",
       "\\hline\n",
       "\t 89 & 2010-01-01 & Singapore & Premium Sticker Mart & Kerneler Dark Mode & 1255 & 2010 & Jan & 1 & Fri\\\\\n",
       "\t 90 & 2010-01-02 & Canada    & Discount Stickers    & Holographic Goose  &   NA & 2010 & Jan & 2 & Sat\\\\\n",
       "\t 91 & 2010-01-02 & Canada    & Discount Stickers    & Kaggle             &  881 & 2010 & Jan & 2 & Sat\\\\\n",
       "\\end{tabular}\n"
      ],
      "text/markdown": [
       "\n",
       "A tibble: 3 × 10\n",
       "\n",
       "| id &lt;dbl&gt; | date &lt;date&gt; | country &lt;chr&gt; | store &lt;chr&gt; | product &lt;chr&gt; | num_sold &lt;dbl&gt; | year &lt;dbl&gt; | mo &lt;ord&gt; | day &lt;int&gt; | wkday &lt;ord&gt; |\n",
       "|---|---|---|---|---|---|---|---|---|---|\n",
       "| 89 | 2010-01-01 | Singapore | Premium Sticker Mart | Kerneler Dark Mode | 1255 | 2010 | Jan | 1 | Fri |\n",
       "| 90 | 2010-01-02 | Canada    | Discount Stickers    | Holographic Goose  |   NA | 2010 | Jan | 2 | Sat |\n",
       "| 91 | 2010-01-02 | Canada    | Discount Stickers    | Kaggle             |  881 | 2010 | Jan | 2 | Sat |\n",
       "\n"
      ],
      "text/plain": [
       "  id date       country   store                product            num_sold year\n",
       "1 89 2010-01-01 Singapore Premium Sticker Mart Kerneler Dark Mode 1255     2010\n",
       "2 90 2010-01-02 Canada    Discount Stickers    Holographic Goose    NA     2010\n",
       "3 91 2010-01-02 Canada    Discount Stickers    Kaggle              881     2010\n",
       "  mo  day wkday\n",
       "1 Jan 1   Fri  \n",
       "2 Jan 2   Sat  \n",
       "3 Jan 2   Sat  "
      ]
     },
     "metadata": {},
     "output_type": "display_data"
    }
   ],
   "source": [
    "head(train[1:92,],2)\n",
    "tail(train[1:92, ], 3)  # beginning of repeated cycle on Jan 2"
   ]
  },
  {
   "cell_type": "markdown",
   "id": "069948ca-881e-4ec2-ae96-b39a16a1e1a1",
   "metadata": {},
   "source": [
    "### <font color = yellow> Create reference dfs:"
   ]
  },
  {
   "cell_type": "code",
   "execution_count": 19,
   "id": "cd411c75-a746-4b9d-80e9-58c05610b682",
   "metadata": {},
   "outputs": [],
   "source": [
    "# Create the key data frames\n",
    "country_df <- data.frame(\n",
    "  Num = 1:6,\n",
    "  Country = c(\"Canada\", \"Finland\", \"Italy\", \"Kenya\", \"Norway\", \"Singapore\")\n",
    ")\n",
    "\n",
    "product_df <- data.frame(\n",
    "  Num = 1:5,\n",
    "  Product = c(\"Holographic Goose\", \"Kaggle\", \"Kaggle Tiers\", \"Kerneler\", \"Kerneler Dark Mode\")\n",
    ")\n",
    "\n",
    "store_df <- data.frame(\n",
    "  Num = 1:3,\n",
    "  Store = c(\"Discount Stickers\", \"Stickers for Less\", \"Premium Sticker Mart\"),\n",
    "  kenya <- c(64, 46, 1358)   \n",
    ")\n"
   ]
  },
  {
   "cell_type": "code",
   "execution_count": 20,
   "id": "a749736f-82e5-4c82-bfb2-13fbb0f82c63",
   "metadata": {},
   "outputs": [
    {
     "data": {
      "text/html": [
       "<style>\n",
       ".list-inline {list-style: none; margin:0; padding: 0}\n",
       ".list-inline>li {display: inline-block}\n",
       ".list-inline>li:not(:last-child)::after {content: \"\\00b7\"; padding: 0 .5ex}\n",
       "</style>\n",
       "<ol class=list-inline><li>'id'</li><li>'date'</li><li>'country'</li><li>'store'</li><li>'product'</li><li>'num_sold'</li><li>'year'</li><li>'mo'</li><li>'day'</li><li>'wkday'</li></ol>\n"
      ],
      "text/latex": [
       "\\begin{enumerate*}\n",
       "\\item 'id'\n",
       "\\item 'date'\n",
       "\\item 'country'\n",
       "\\item 'store'\n",
       "\\item 'product'\n",
       "\\item 'num\\_sold'\n",
       "\\item 'year'\n",
       "\\item 'mo'\n",
       "\\item 'day'\n",
       "\\item 'wkday'\n",
       "\\end{enumerate*}\n"
      ],
      "text/markdown": [
       "1. 'id'\n",
       "2. 'date'\n",
       "3. 'country'\n",
       "4. 'store'\n",
       "5. 'product'\n",
       "6. 'num_sold'\n",
       "7. 'year'\n",
       "8. 'mo'\n",
       "9. 'day'\n",
       "10. 'wkday'\n",
       "\n",
       "\n"
      ],
      "text/plain": [
       " [1] \"id\"       \"date\"     \"country\"  \"store\"    \"product\"  \"num_sold\"\n",
       " [7] \"year\"     \"mo\"       \"day\"      \"wkday\"   "
      ]
     },
     "metadata": {},
     "output_type": "display_data"
    }
   ],
   "source": [
    "names(train)"
   ]
  },
  {
   "cell_type": "markdown",
   "id": "48c34c3e-57a5-4d08-b1f5-179df8cbe412",
   "metadata": {},
   "source": [
    "### <font color = lime> Pattern 1: Country(6) x Product(5) x Store(3) = 90 rows ( = 1 day)\n",
    "\n",
    "##### Pattern 1: Every 90 rows: Canada / Discount Stickers / Holographic Goose == NA"
   ]
  },
  {
   "cell_type": "code",
   "execution_count": 21,
   "id": "e396c298-79cc-47f1-bf7c-8eccb9fdbc12",
   "metadata": {},
   "outputs": [
    {
     "data": {
      "text/html": [
       "<table class=\"dataframe\">\n",
       "<caption>A tibble: 93 × 10</caption>\n",
       "<thead>\n",
       "\t<tr><th scope=col>id</th><th scope=col>date</th><th scope=col>country</th><th scope=col>store</th><th scope=col>product</th><th scope=col>num_sold</th><th scope=col>year</th><th scope=col>mo</th><th scope=col>day</th><th scope=col>wkday</th></tr>\n",
       "\t<tr><th scope=col>&lt;dbl&gt;</th><th scope=col>&lt;date&gt;</th><th scope=col>&lt;chr&gt;</th><th scope=col>&lt;chr&gt;</th><th scope=col>&lt;chr&gt;</th><th scope=col>&lt;dbl&gt;</th><th scope=col>&lt;dbl&gt;</th><th scope=col>&lt;ord&gt;</th><th scope=col>&lt;int&gt;</th><th scope=col>&lt;ord&gt;</th></tr>\n",
       "</thead>\n",
       "<tbody>\n",
       "\t<tr><td> 45</td><td>2010-01-01</td><td>Kenya</td><td>Discount Stickers   </td><td>Holographic Goose</td><td>NA</td><td>2010</td><td>Jan</td><td> 1</td><td>Fri</td></tr>\n",
       "\t<tr><td> 50</td><td>2010-01-01</td><td>Kenya</td><td>Stickers for Less   </td><td>Holographic Goose</td><td> 5</td><td>2010</td><td>Jan</td><td> 1</td><td>Fri</td></tr>\n",
       "\t<tr><td> 55</td><td>2010-01-01</td><td>Kenya</td><td>Premium Sticker Mart</td><td>Holographic Goose</td><td> 7</td><td>2010</td><td>Jan</td><td> 1</td><td>Fri</td></tr>\n",
       "\t<tr><td>135</td><td>2010-01-02</td><td>Kenya</td><td>Discount Stickers   </td><td>Holographic Goose</td><td>NA</td><td>2010</td><td>Jan</td><td> 2</td><td>Sat</td></tr>\n",
       "\t<tr><td>140</td><td>2010-01-02</td><td>Kenya</td><td>Stickers for Less   </td><td>Holographic Goose</td><td> 5</td><td>2010</td><td>Jan</td><td> 2</td><td>Sat</td></tr>\n",
       "\t<tr><td>145</td><td>2010-01-02</td><td>Kenya</td><td>Premium Sticker Mart</td><td>Holographic Goose</td><td> 6</td><td>2010</td><td>Jan</td><td> 2</td><td>Sat</td></tr>\n",
       "\t<tr><td>225</td><td>2010-01-03</td><td>Kenya</td><td>Discount Stickers   </td><td>Holographic Goose</td><td>NA</td><td>2010</td><td>Jan</td><td> 3</td><td>Sun</td></tr>\n",
       "\t<tr><td>230</td><td>2010-01-03</td><td>Kenya</td><td>Stickers for Less   </td><td>Holographic Goose</td><td> 5</td><td>2010</td><td>Jan</td><td> 3</td><td>Sun</td></tr>\n",
       "\t<tr><td>235</td><td>2010-01-03</td><td>Kenya</td><td>Premium Sticker Mart</td><td>Holographic Goose</td><td> 7</td><td>2010</td><td>Jan</td><td> 3</td><td>Sun</td></tr>\n",
       "\t<tr><td>315</td><td>2010-01-04</td><td>Kenya</td><td>Discount Stickers   </td><td>Holographic Goose</td><td>NA</td><td>2010</td><td>Jan</td><td> 4</td><td>Mon</td></tr>\n",
       "\t<tr><td>320</td><td>2010-01-04</td><td>Kenya</td><td>Stickers for Less   </td><td>Holographic Goose</td><td>NA</td><td>2010</td><td>Jan</td><td> 4</td><td>Mon</td></tr>\n",
       "\t<tr><td>325</td><td>2010-01-04</td><td>Kenya</td><td>Premium Sticker Mart</td><td>Holographic Goose</td><td> 5</td><td>2010</td><td>Jan</td><td> 4</td><td>Mon</td></tr>\n",
       "\t<tr><td>405</td><td>2010-01-05</td><td>Kenya</td><td>Discount Stickers   </td><td>Holographic Goose</td><td>NA</td><td>2010</td><td>Jan</td><td> 5</td><td>Tue</td></tr>\n",
       "\t<tr><td>410</td><td>2010-01-05</td><td>Kenya</td><td>Stickers for Less   </td><td>Holographic Goose</td><td>NA</td><td>2010</td><td>Jan</td><td> 5</td><td>Tue</td></tr>\n",
       "\t<tr><td>415</td><td>2010-01-05</td><td>Kenya</td><td>Premium Sticker Mart</td><td>Holographic Goose</td><td> 5</td><td>2010</td><td>Jan</td><td> 5</td><td>Tue</td></tr>\n",
       "\t<tr><td>495</td><td>2010-01-06</td><td>Kenya</td><td>Discount Stickers   </td><td>Holographic Goose</td><td>NA</td><td>2010</td><td>Jan</td><td> 6</td><td>Wed</td></tr>\n",
       "\t<tr><td>500</td><td>2010-01-06</td><td>Kenya</td><td>Stickers for Less   </td><td>Holographic Goose</td><td>NA</td><td>2010</td><td>Jan</td><td> 6</td><td>Wed</td></tr>\n",
       "\t<tr><td>505</td><td>2010-01-06</td><td>Kenya</td><td>Premium Sticker Mart</td><td>Holographic Goose</td><td>NA</td><td>2010</td><td>Jan</td><td> 6</td><td>Wed</td></tr>\n",
       "\t<tr><td>585</td><td>2010-01-07</td><td>Kenya</td><td>Discount Stickers   </td><td>Holographic Goose</td><td>NA</td><td>2010</td><td>Jan</td><td> 7</td><td>Thu</td></tr>\n",
       "\t<tr><td>590</td><td>2010-01-07</td><td>Kenya</td><td>Stickers for Less   </td><td>Holographic Goose</td><td>NA</td><td>2010</td><td>Jan</td><td> 7</td><td>Thu</td></tr>\n",
       "\t<tr><td>595</td><td>2010-01-07</td><td>Kenya</td><td>Premium Sticker Mart</td><td>Holographic Goose</td><td>NA</td><td>2010</td><td>Jan</td><td> 7</td><td>Thu</td></tr>\n",
       "\t<tr><td>675</td><td>2010-01-08</td><td>Kenya</td><td>Discount Stickers   </td><td>Holographic Goose</td><td>NA</td><td>2010</td><td>Jan</td><td> 8</td><td>Fri</td></tr>\n",
       "\t<tr><td>680</td><td>2010-01-08</td><td>Kenya</td><td>Stickers for Less   </td><td>Holographic Goose</td><td>NA</td><td>2010</td><td>Jan</td><td> 8</td><td>Fri</td></tr>\n",
       "\t<tr><td>685</td><td>2010-01-08</td><td>Kenya</td><td>Premium Sticker Mart</td><td>Holographic Goose</td><td> 5</td><td>2010</td><td>Jan</td><td> 8</td><td>Fri</td></tr>\n",
       "\t<tr><td>765</td><td>2010-01-09</td><td>Kenya</td><td>Discount Stickers   </td><td>Holographic Goose</td><td>NA</td><td>2010</td><td>Jan</td><td> 9</td><td>Sat</td></tr>\n",
       "\t<tr><td>770</td><td>2010-01-09</td><td>Kenya</td><td>Stickers for Less   </td><td>Holographic Goose</td><td>NA</td><td>2010</td><td>Jan</td><td> 9</td><td>Sat</td></tr>\n",
       "\t<tr><td>775</td><td>2010-01-09</td><td>Kenya</td><td>Premium Sticker Mart</td><td>Holographic Goose</td><td> 5</td><td>2010</td><td>Jan</td><td> 9</td><td>Sat</td></tr>\n",
       "\t<tr><td>855</td><td>2010-01-10</td><td>Kenya</td><td>Discount Stickers   </td><td>Holographic Goose</td><td>NA</td><td>2010</td><td>Jan</td><td>10</td><td>Sun</td></tr>\n",
       "\t<tr><td>860</td><td>2010-01-10</td><td>Kenya</td><td>Stickers for Less   </td><td>Holographic Goose</td><td> 5</td><td>2010</td><td>Jan</td><td>10</td><td>Sun</td></tr>\n",
       "\t<tr><td>865</td><td>2010-01-10</td><td>Kenya</td><td>Premium Sticker Mart</td><td>Holographic Goose</td><td> 5</td><td>2010</td><td>Jan</td><td>10</td><td>Sun</td></tr>\n",
       "\t<tr><td>⋮</td><td>⋮</td><td>⋮</td><td>⋮</td><td>⋮</td><td>⋮</td><td>⋮</td><td>⋮</td><td>⋮</td><td>⋮</td></tr>\n",
       "\t<tr><td>1935</td><td>2010-01-22</td><td>Kenya</td><td>Discount Stickers   </td><td>Holographic Goose</td><td>NA</td><td>2010</td><td>Jan</td><td>22</td><td>Fri</td></tr>\n",
       "\t<tr><td>1940</td><td>2010-01-22</td><td>Kenya</td><td>Stickers for Less   </td><td>Holographic Goose</td><td>NA</td><td>2010</td><td>Jan</td><td>22</td><td>Fri</td></tr>\n",
       "\t<tr><td>1945</td><td>2010-01-22</td><td>Kenya</td><td>Premium Sticker Mart</td><td>Holographic Goose</td><td>NA</td><td>2010</td><td>Jan</td><td>22</td><td>Fri</td></tr>\n",
       "\t<tr><td>2025</td><td>2010-01-23</td><td>Kenya</td><td>Discount Stickers   </td><td>Holographic Goose</td><td>NA</td><td>2010</td><td>Jan</td><td>23</td><td>Sat</td></tr>\n",
       "\t<tr><td>2030</td><td>2010-01-23</td><td>Kenya</td><td>Stickers for Less   </td><td>Holographic Goose</td><td>NA</td><td>2010</td><td>Jan</td><td>23</td><td>Sat</td></tr>\n",
       "\t<tr><td>2035</td><td>2010-01-23</td><td>Kenya</td><td>Premium Sticker Mart</td><td>Holographic Goose</td><td> 5</td><td>2010</td><td>Jan</td><td>23</td><td>Sat</td></tr>\n",
       "\t<tr><td>2115</td><td>2010-01-24</td><td>Kenya</td><td>Discount Stickers   </td><td>Holographic Goose</td><td>NA</td><td>2010</td><td>Jan</td><td>24</td><td>Sun</td></tr>\n",
       "\t<tr><td>2120</td><td>2010-01-24</td><td>Kenya</td><td>Stickers for Less   </td><td>Holographic Goose</td><td> 5</td><td>2010</td><td>Jan</td><td>24</td><td>Sun</td></tr>\n",
       "\t<tr><td>2125</td><td>2010-01-24</td><td>Kenya</td><td>Premium Sticker Mart</td><td>Holographic Goose</td><td> 5</td><td>2010</td><td>Jan</td><td>24</td><td>Sun</td></tr>\n",
       "\t<tr><td>2205</td><td>2010-01-25</td><td>Kenya</td><td>Discount Stickers   </td><td>Holographic Goose</td><td>NA</td><td>2010</td><td>Jan</td><td>25</td><td>Mon</td></tr>\n",
       "\t<tr><td>2210</td><td>2010-01-25</td><td>Kenya</td><td>Stickers for Less   </td><td>Holographic Goose</td><td>NA</td><td>2010</td><td>Jan</td><td>25</td><td>Mon</td></tr>\n",
       "\t<tr><td>2215</td><td>2010-01-25</td><td>Kenya</td><td>Premium Sticker Mart</td><td>Holographic Goose</td><td>NA</td><td>2010</td><td>Jan</td><td>25</td><td>Mon</td></tr>\n",
       "\t<tr><td>2295</td><td>2010-01-26</td><td>Kenya</td><td>Discount Stickers   </td><td>Holographic Goose</td><td>NA</td><td>2010</td><td>Jan</td><td>26</td><td>Tue</td></tr>\n",
       "\t<tr><td>2300</td><td>2010-01-26</td><td>Kenya</td><td>Stickers for Less   </td><td>Holographic Goose</td><td>NA</td><td>2010</td><td>Jan</td><td>26</td><td>Tue</td></tr>\n",
       "\t<tr><td>2305</td><td>2010-01-26</td><td>Kenya</td><td>Premium Sticker Mart</td><td>Holographic Goose</td><td>NA</td><td>2010</td><td>Jan</td><td>26</td><td>Tue</td></tr>\n",
       "\t<tr><td>2385</td><td>2010-01-27</td><td>Kenya</td><td>Discount Stickers   </td><td>Holographic Goose</td><td>NA</td><td>2010</td><td>Jan</td><td>27</td><td>Wed</td></tr>\n",
       "\t<tr><td>2390</td><td>2010-01-27</td><td>Kenya</td><td>Stickers for Less   </td><td>Holographic Goose</td><td>NA</td><td>2010</td><td>Jan</td><td>27</td><td>Wed</td></tr>\n",
       "\t<tr><td>2395</td><td>2010-01-27</td><td>Kenya</td><td>Premium Sticker Mart</td><td>Holographic Goose</td><td>NA</td><td>2010</td><td>Jan</td><td>27</td><td>Wed</td></tr>\n",
       "\t<tr><td>2475</td><td>2010-01-28</td><td>Kenya</td><td>Discount Stickers   </td><td>Holographic Goose</td><td>NA</td><td>2010</td><td>Jan</td><td>28</td><td>Thu</td></tr>\n",
       "\t<tr><td>2480</td><td>2010-01-28</td><td>Kenya</td><td>Stickers for Less   </td><td>Holographic Goose</td><td>NA</td><td>2010</td><td>Jan</td><td>28</td><td>Thu</td></tr>\n",
       "\t<tr><td>2485</td><td>2010-01-28</td><td>Kenya</td><td>Premium Sticker Mart</td><td>Holographic Goose</td><td>NA</td><td>2010</td><td>Jan</td><td>28</td><td>Thu</td></tr>\n",
       "\t<tr><td>2565</td><td>2010-01-29</td><td>Kenya</td><td>Discount Stickers   </td><td>Holographic Goose</td><td>NA</td><td>2010</td><td>Jan</td><td>29</td><td>Fri</td></tr>\n",
       "\t<tr><td>2570</td><td>2010-01-29</td><td>Kenya</td><td>Stickers for Less   </td><td>Holographic Goose</td><td>NA</td><td>2010</td><td>Jan</td><td>29</td><td>Fri</td></tr>\n",
       "\t<tr><td>2575</td><td>2010-01-29</td><td>Kenya</td><td>Premium Sticker Mart</td><td>Holographic Goose</td><td>NA</td><td>2010</td><td>Jan</td><td>29</td><td>Fri</td></tr>\n",
       "\t<tr><td>2655</td><td>2010-01-30</td><td>Kenya</td><td>Discount Stickers   </td><td>Holographic Goose</td><td>NA</td><td>2010</td><td>Jan</td><td>30</td><td>Sat</td></tr>\n",
       "\t<tr><td>2660</td><td>2010-01-30</td><td>Kenya</td><td>Stickers for Less   </td><td>Holographic Goose</td><td>NA</td><td>2010</td><td>Jan</td><td>30</td><td>Sat</td></tr>\n",
       "\t<tr><td>2665</td><td>2010-01-30</td><td>Kenya</td><td>Premium Sticker Mart</td><td>Holographic Goose</td><td> 5</td><td>2010</td><td>Jan</td><td>30</td><td>Sat</td></tr>\n",
       "\t<tr><td>2745</td><td>2010-01-31</td><td>Kenya</td><td>Discount Stickers   </td><td>Holographic Goose</td><td>NA</td><td>2010</td><td>Jan</td><td>31</td><td>Sun</td></tr>\n",
       "\t<tr><td>2750</td><td>2010-01-31</td><td>Kenya</td><td>Stickers for Less   </td><td>Holographic Goose</td><td>NA</td><td>2010</td><td>Jan</td><td>31</td><td>Sun</td></tr>\n",
       "\t<tr><td>2755</td><td>2010-01-31</td><td>Kenya</td><td>Premium Sticker Mart</td><td>Holographic Goose</td><td> 5</td><td>2010</td><td>Jan</td><td>31</td><td>Sun</td></tr>\n",
       "</tbody>\n",
       "</table>\n"
      ],
      "text/latex": [
       "A tibble: 93 × 10\n",
       "\\begin{tabular}{llllllllll}\n",
       " id & date & country & store & product & num\\_sold & year & mo & day & wkday\\\\\n",
       " <dbl> & <date> & <chr> & <chr> & <chr> & <dbl> & <dbl> & <ord> & <int> & <ord>\\\\\n",
       "\\hline\n",
       "\t  45 & 2010-01-01 & Kenya & Discount Stickers    & Holographic Goose & NA & 2010 & Jan &  1 & Fri\\\\\n",
       "\t  50 & 2010-01-01 & Kenya & Stickers for Less    & Holographic Goose &  5 & 2010 & Jan &  1 & Fri\\\\\n",
       "\t  55 & 2010-01-01 & Kenya & Premium Sticker Mart & Holographic Goose &  7 & 2010 & Jan &  1 & Fri\\\\\n",
       "\t 135 & 2010-01-02 & Kenya & Discount Stickers    & Holographic Goose & NA & 2010 & Jan &  2 & Sat\\\\\n",
       "\t 140 & 2010-01-02 & Kenya & Stickers for Less    & Holographic Goose &  5 & 2010 & Jan &  2 & Sat\\\\\n",
       "\t 145 & 2010-01-02 & Kenya & Premium Sticker Mart & Holographic Goose &  6 & 2010 & Jan &  2 & Sat\\\\\n",
       "\t 225 & 2010-01-03 & Kenya & Discount Stickers    & Holographic Goose & NA & 2010 & Jan &  3 & Sun\\\\\n",
       "\t 230 & 2010-01-03 & Kenya & Stickers for Less    & Holographic Goose &  5 & 2010 & Jan &  3 & Sun\\\\\n",
       "\t 235 & 2010-01-03 & Kenya & Premium Sticker Mart & Holographic Goose &  7 & 2010 & Jan &  3 & Sun\\\\\n",
       "\t 315 & 2010-01-04 & Kenya & Discount Stickers    & Holographic Goose & NA & 2010 & Jan &  4 & Mon\\\\\n",
       "\t 320 & 2010-01-04 & Kenya & Stickers for Less    & Holographic Goose & NA & 2010 & Jan &  4 & Mon\\\\\n",
       "\t 325 & 2010-01-04 & Kenya & Premium Sticker Mart & Holographic Goose &  5 & 2010 & Jan &  4 & Mon\\\\\n",
       "\t 405 & 2010-01-05 & Kenya & Discount Stickers    & Holographic Goose & NA & 2010 & Jan &  5 & Tue\\\\\n",
       "\t 410 & 2010-01-05 & Kenya & Stickers for Less    & Holographic Goose & NA & 2010 & Jan &  5 & Tue\\\\\n",
       "\t 415 & 2010-01-05 & Kenya & Premium Sticker Mart & Holographic Goose &  5 & 2010 & Jan &  5 & Tue\\\\\n",
       "\t 495 & 2010-01-06 & Kenya & Discount Stickers    & Holographic Goose & NA & 2010 & Jan &  6 & Wed\\\\\n",
       "\t 500 & 2010-01-06 & Kenya & Stickers for Less    & Holographic Goose & NA & 2010 & Jan &  6 & Wed\\\\\n",
       "\t 505 & 2010-01-06 & Kenya & Premium Sticker Mart & Holographic Goose & NA & 2010 & Jan &  6 & Wed\\\\\n",
       "\t 585 & 2010-01-07 & Kenya & Discount Stickers    & Holographic Goose & NA & 2010 & Jan &  7 & Thu\\\\\n",
       "\t 590 & 2010-01-07 & Kenya & Stickers for Less    & Holographic Goose & NA & 2010 & Jan &  7 & Thu\\\\\n",
       "\t 595 & 2010-01-07 & Kenya & Premium Sticker Mart & Holographic Goose & NA & 2010 & Jan &  7 & Thu\\\\\n",
       "\t 675 & 2010-01-08 & Kenya & Discount Stickers    & Holographic Goose & NA & 2010 & Jan &  8 & Fri\\\\\n",
       "\t 680 & 2010-01-08 & Kenya & Stickers for Less    & Holographic Goose & NA & 2010 & Jan &  8 & Fri\\\\\n",
       "\t 685 & 2010-01-08 & Kenya & Premium Sticker Mart & Holographic Goose &  5 & 2010 & Jan &  8 & Fri\\\\\n",
       "\t 765 & 2010-01-09 & Kenya & Discount Stickers    & Holographic Goose & NA & 2010 & Jan &  9 & Sat\\\\\n",
       "\t 770 & 2010-01-09 & Kenya & Stickers for Less    & Holographic Goose & NA & 2010 & Jan &  9 & Sat\\\\\n",
       "\t 775 & 2010-01-09 & Kenya & Premium Sticker Mart & Holographic Goose &  5 & 2010 & Jan &  9 & Sat\\\\\n",
       "\t 855 & 2010-01-10 & Kenya & Discount Stickers    & Holographic Goose & NA & 2010 & Jan & 10 & Sun\\\\\n",
       "\t 860 & 2010-01-10 & Kenya & Stickers for Less    & Holographic Goose &  5 & 2010 & Jan & 10 & Sun\\\\\n",
       "\t 865 & 2010-01-10 & Kenya & Premium Sticker Mart & Holographic Goose &  5 & 2010 & Jan & 10 & Sun\\\\\n",
       "\t ⋮ & ⋮ & ⋮ & ⋮ & ⋮ & ⋮ & ⋮ & ⋮ & ⋮ & ⋮\\\\\n",
       "\t 1935 & 2010-01-22 & Kenya & Discount Stickers    & Holographic Goose & NA & 2010 & Jan & 22 & Fri\\\\\n",
       "\t 1940 & 2010-01-22 & Kenya & Stickers for Less    & Holographic Goose & NA & 2010 & Jan & 22 & Fri\\\\\n",
       "\t 1945 & 2010-01-22 & Kenya & Premium Sticker Mart & Holographic Goose & NA & 2010 & Jan & 22 & Fri\\\\\n",
       "\t 2025 & 2010-01-23 & Kenya & Discount Stickers    & Holographic Goose & NA & 2010 & Jan & 23 & Sat\\\\\n",
       "\t 2030 & 2010-01-23 & Kenya & Stickers for Less    & Holographic Goose & NA & 2010 & Jan & 23 & Sat\\\\\n",
       "\t 2035 & 2010-01-23 & Kenya & Premium Sticker Mart & Holographic Goose &  5 & 2010 & Jan & 23 & Sat\\\\\n",
       "\t 2115 & 2010-01-24 & Kenya & Discount Stickers    & Holographic Goose & NA & 2010 & Jan & 24 & Sun\\\\\n",
       "\t 2120 & 2010-01-24 & Kenya & Stickers for Less    & Holographic Goose &  5 & 2010 & Jan & 24 & Sun\\\\\n",
       "\t 2125 & 2010-01-24 & Kenya & Premium Sticker Mart & Holographic Goose &  5 & 2010 & Jan & 24 & Sun\\\\\n",
       "\t 2205 & 2010-01-25 & Kenya & Discount Stickers    & Holographic Goose & NA & 2010 & Jan & 25 & Mon\\\\\n",
       "\t 2210 & 2010-01-25 & Kenya & Stickers for Less    & Holographic Goose & NA & 2010 & Jan & 25 & Mon\\\\\n",
       "\t 2215 & 2010-01-25 & Kenya & Premium Sticker Mart & Holographic Goose & NA & 2010 & Jan & 25 & Mon\\\\\n",
       "\t 2295 & 2010-01-26 & Kenya & Discount Stickers    & Holographic Goose & NA & 2010 & Jan & 26 & Tue\\\\\n",
       "\t 2300 & 2010-01-26 & Kenya & Stickers for Less    & Holographic Goose & NA & 2010 & Jan & 26 & Tue\\\\\n",
       "\t 2305 & 2010-01-26 & Kenya & Premium Sticker Mart & Holographic Goose & NA & 2010 & Jan & 26 & Tue\\\\\n",
       "\t 2385 & 2010-01-27 & Kenya & Discount Stickers    & Holographic Goose & NA & 2010 & Jan & 27 & Wed\\\\\n",
       "\t 2390 & 2010-01-27 & Kenya & Stickers for Less    & Holographic Goose & NA & 2010 & Jan & 27 & Wed\\\\\n",
       "\t 2395 & 2010-01-27 & Kenya & Premium Sticker Mart & Holographic Goose & NA & 2010 & Jan & 27 & Wed\\\\\n",
       "\t 2475 & 2010-01-28 & Kenya & Discount Stickers    & Holographic Goose & NA & 2010 & Jan & 28 & Thu\\\\\n",
       "\t 2480 & 2010-01-28 & Kenya & Stickers for Less    & Holographic Goose & NA & 2010 & Jan & 28 & Thu\\\\\n",
       "\t 2485 & 2010-01-28 & Kenya & Premium Sticker Mart & Holographic Goose & NA & 2010 & Jan & 28 & Thu\\\\\n",
       "\t 2565 & 2010-01-29 & Kenya & Discount Stickers    & Holographic Goose & NA & 2010 & Jan & 29 & Fri\\\\\n",
       "\t 2570 & 2010-01-29 & Kenya & Stickers for Less    & Holographic Goose & NA & 2010 & Jan & 29 & Fri\\\\\n",
       "\t 2575 & 2010-01-29 & Kenya & Premium Sticker Mart & Holographic Goose & NA & 2010 & Jan & 29 & Fri\\\\\n",
       "\t 2655 & 2010-01-30 & Kenya & Discount Stickers    & Holographic Goose & NA & 2010 & Jan & 30 & Sat\\\\\n",
       "\t 2660 & 2010-01-30 & Kenya & Stickers for Less    & Holographic Goose & NA & 2010 & Jan & 30 & Sat\\\\\n",
       "\t 2665 & 2010-01-30 & Kenya & Premium Sticker Mart & Holographic Goose &  5 & 2010 & Jan & 30 & Sat\\\\\n",
       "\t 2745 & 2010-01-31 & Kenya & Discount Stickers    & Holographic Goose & NA & 2010 & Jan & 31 & Sun\\\\\n",
       "\t 2750 & 2010-01-31 & Kenya & Stickers for Less    & Holographic Goose & NA & 2010 & Jan & 31 & Sun\\\\\n",
       "\t 2755 & 2010-01-31 & Kenya & Premium Sticker Mart & Holographic Goose &  5 & 2010 & Jan & 31 & Sun\\\\\n",
       "\\end{tabular}\n"
      ],
      "text/markdown": [
       "\n",
       "A tibble: 93 × 10\n",
       "\n",
       "| id &lt;dbl&gt; | date &lt;date&gt; | country &lt;chr&gt; | store &lt;chr&gt; | product &lt;chr&gt; | num_sold &lt;dbl&gt; | year &lt;dbl&gt; | mo &lt;ord&gt; | day &lt;int&gt; | wkday &lt;ord&gt; |\n",
       "|---|---|---|---|---|---|---|---|---|---|\n",
       "|  45 | 2010-01-01 | Kenya | Discount Stickers    | Holographic Goose | NA | 2010 | Jan |  1 | Fri |\n",
       "|  50 | 2010-01-01 | Kenya | Stickers for Less    | Holographic Goose |  5 | 2010 | Jan |  1 | Fri |\n",
       "|  55 | 2010-01-01 | Kenya | Premium Sticker Mart | Holographic Goose |  7 | 2010 | Jan |  1 | Fri |\n",
       "| 135 | 2010-01-02 | Kenya | Discount Stickers    | Holographic Goose | NA | 2010 | Jan |  2 | Sat |\n",
       "| 140 | 2010-01-02 | Kenya | Stickers for Less    | Holographic Goose |  5 | 2010 | Jan |  2 | Sat |\n",
       "| 145 | 2010-01-02 | Kenya | Premium Sticker Mart | Holographic Goose |  6 | 2010 | Jan |  2 | Sat |\n",
       "| 225 | 2010-01-03 | Kenya | Discount Stickers    | Holographic Goose | NA | 2010 | Jan |  3 | Sun |\n",
       "| 230 | 2010-01-03 | Kenya | Stickers for Less    | Holographic Goose |  5 | 2010 | Jan |  3 | Sun |\n",
       "| 235 | 2010-01-03 | Kenya | Premium Sticker Mart | Holographic Goose |  7 | 2010 | Jan |  3 | Sun |\n",
       "| 315 | 2010-01-04 | Kenya | Discount Stickers    | Holographic Goose | NA | 2010 | Jan |  4 | Mon |\n",
       "| 320 | 2010-01-04 | Kenya | Stickers for Less    | Holographic Goose | NA | 2010 | Jan |  4 | Mon |\n",
       "| 325 | 2010-01-04 | Kenya | Premium Sticker Mart | Holographic Goose |  5 | 2010 | Jan |  4 | Mon |\n",
       "| 405 | 2010-01-05 | Kenya | Discount Stickers    | Holographic Goose | NA | 2010 | Jan |  5 | Tue |\n",
       "| 410 | 2010-01-05 | Kenya | Stickers for Less    | Holographic Goose | NA | 2010 | Jan |  5 | Tue |\n",
       "| 415 | 2010-01-05 | Kenya | Premium Sticker Mart | Holographic Goose |  5 | 2010 | Jan |  5 | Tue |\n",
       "| 495 | 2010-01-06 | Kenya | Discount Stickers    | Holographic Goose | NA | 2010 | Jan |  6 | Wed |\n",
       "| 500 | 2010-01-06 | Kenya | Stickers for Less    | Holographic Goose | NA | 2010 | Jan |  6 | Wed |\n",
       "| 505 | 2010-01-06 | Kenya | Premium Sticker Mart | Holographic Goose | NA | 2010 | Jan |  6 | Wed |\n",
       "| 585 | 2010-01-07 | Kenya | Discount Stickers    | Holographic Goose | NA | 2010 | Jan |  7 | Thu |\n",
       "| 590 | 2010-01-07 | Kenya | Stickers for Less    | Holographic Goose | NA | 2010 | Jan |  7 | Thu |\n",
       "| 595 | 2010-01-07 | Kenya | Premium Sticker Mart | Holographic Goose | NA | 2010 | Jan |  7 | Thu |\n",
       "| 675 | 2010-01-08 | Kenya | Discount Stickers    | Holographic Goose | NA | 2010 | Jan |  8 | Fri |\n",
       "| 680 | 2010-01-08 | Kenya | Stickers for Less    | Holographic Goose | NA | 2010 | Jan |  8 | Fri |\n",
       "| 685 | 2010-01-08 | Kenya | Premium Sticker Mart | Holographic Goose |  5 | 2010 | Jan |  8 | Fri |\n",
       "| 765 | 2010-01-09 | Kenya | Discount Stickers    | Holographic Goose | NA | 2010 | Jan |  9 | Sat |\n",
       "| 770 | 2010-01-09 | Kenya | Stickers for Less    | Holographic Goose | NA | 2010 | Jan |  9 | Sat |\n",
       "| 775 | 2010-01-09 | Kenya | Premium Sticker Mart | Holographic Goose |  5 | 2010 | Jan |  9 | Sat |\n",
       "| 855 | 2010-01-10 | Kenya | Discount Stickers    | Holographic Goose | NA | 2010 | Jan | 10 | Sun |\n",
       "| 860 | 2010-01-10 | Kenya | Stickers for Less    | Holographic Goose |  5 | 2010 | Jan | 10 | Sun |\n",
       "| 865 | 2010-01-10 | Kenya | Premium Sticker Mart | Holographic Goose |  5 | 2010 | Jan | 10 | Sun |\n",
       "| ⋮ | ⋮ | ⋮ | ⋮ | ⋮ | ⋮ | ⋮ | ⋮ | ⋮ | ⋮ |\n",
       "| 1935 | 2010-01-22 | Kenya | Discount Stickers    | Holographic Goose | NA | 2010 | Jan | 22 | Fri |\n",
       "| 1940 | 2010-01-22 | Kenya | Stickers for Less    | Holographic Goose | NA | 2010 | Jan | 22 | Fri |\n",
       "| 1945 | 2010-01-22 | Kenya | Premium Sticker Mart | Holographic Goose | NA | 2010 | Jan | 22 | Fri |\n",
       "| 2025 | 2010-01-23 | Kenya | Discount Stickers    | Holographic Goose | NA | 2010 | Jan | 23 | Sat |\n",
       "| 2030 | 2010-01-23 | Kenya | Stickers for Less    | Holographic Goose | NA | 2010 | Jan | 23 | Sat |\n",
       "| 2035 | 2010-01-23 | Kenya | Premium Sticker Mart | Holographic Goose |  5 | 2010 | Jan | 23 | Sat |\n",
       "| 2115 | 2010-01-24 | Kenya | Discount Stickers    | Holographic Goose | NA | 2010 | Jan | 24 | Sun |\n",
       "| 2120 | 2010-01-24 | Kenya | Stickers for Less    | Holographic Goose |  5 | 2010 | Jan | 24 | Sun |\n",
       "| 2125 | 2010-01-24 | Kenya | Premium Sticker Mart | Holographic Goose |  5 | 2010 | Jan | 24 | Sun |\n",
       "| 2205 | 2010-01-25 | Kenya | Discount Stickers    | Holographic Goose | NA | 2010 | Jan | 25 | Mon |\n",
       "| 2210 | 2010-01-25 | Kenya | Stickers for Less    | Holographic Goose | NA | 2010 | Jan | 25 | Mon |\n",
       "| 2215 | 2010-01-25 | Kenya | Premium Sticker Mart | Holographic Goose | NA | 2010 | Jan | 25 | Mon |\n",
       "| 2295 | 2010-01-26 | Kenya | Discount Stickers    | Holographic Goose | NA | 2010 | Jan | 26 | Tue |\n",
       "| 2300 | 2010-01-26 | Kenya | Stickers for Less    | Holographic Goose | NA | 2010 | Jan | 26 | Tue |\n",
       "| 2305 | 2010-01-26 | Kenya | Premium Sticker Mart | Holographic Goose | NA | 2010 | Jan | 26 | Tue |\n",
       "| 2385 | 2010-01-27 | Kenya | Discount Stickers    | Holographic Goose | NA | 2010 | Jan | 27 | Wed |\n",
       "| 2390 | 2010-01-27 | Kenya | Stickers for Less    | Holographic Goose | NA | 2010 | Jan | 27 | Wed |\n",
       "| 2395 | 2010-01-27 | Kenya | Premium Sticker Mart | Holographic Goose | NA | 2010 | Jan | 27 | Wed |\n",
       "| 2475 | 2010-01-28 | Kenya | Discount Stickers    | Holographic Goose | NA | 2010 | Jan | 28 | Thu |\n",
       "| 2480 | 2010-01-28 | Kenya | Stickers for Less    | Holographic Goose | NA | 2010 | Jan | 28 | Thu |\n",
       "| 2485 | 2010-01-28 | Kenya | Premium Sticker Mart | Holographic Goose | NA | 2010 | Jan | 28 | Thu |\n",
       "| 2565 | 2010-01-29 | Kenya | Discount Stickers    | Holographic Goose | NA | 2010 | Jan | 29 | Fri |\n",
       "| 2570 | 2010-01-29 | Kenya | Stickers for Less    | Holographic Goose | NA | 2010 | Jan | 29 | Fri |\n",
       "| 2575 | 2010-01-29 | Kenya | Premium Sticker Mart | Holographic Goose | NA | 2010 | Jan | 29 | Fri |\n",
       "| 2655 | 2010-01-30 | Kenya | Discount Stickers    | Holographic Goose | NA | 2010 | Jan | 30 | Sat |\n",
       "| 2660 | 2010-01-30 | Kenya | Stickers for Less    | Holographic Goose | NA | 2010 | Jan | 30 | Sat |\n",
       "| 2665 | 2010-01-30 | Kenya | Premium Sticker Mart | Holographic Goose |  5 | 2010 | Jan | 30 | Sat |\n",
       "| 2745 | 2010-01-31 | Kenya | Discount Stickers    | Holographic Goose | NA | 2010 | Jan | 31 | Sun |\n",
       "| 2750 | 2010-01-31 | Kenya | Stickers for Less    | Holographic Goose | NA | 2010 | Jan | 31 | Sun |\n",
       "| 2755 | 2010-01-31 | Kenya | Premium Sticker Mart | Holographic Goose |  5 | 2010 | Jan | 31 | Sun |\n",
       "\n"
      ],
      "text/plain": [
       "   id   date       country store                product           num_sold year\n",
       "1   45  2010-01-01 Kenya   Discount Stickers    Holographic Goose NA       2010\n",
       "2   50  2010-01-01 Kenya   Stickers for Less    Holographic Goose  5       2010\n",
       "3   55  2010-01-01 Kenya   Premium Sticker Mart Holographic Goose  7       2010\n",
       "4  135  2010-01-02 Kenya   Discount Stickers    Holographic Goose NA       2010\n",
       "5  140  2010-01-02 Kenya   Stickers for Less    Holographic Goose  5       2010\n",
       "6  145  2010-01-02 Kenya   Premium Sticker Mart Holographic Goose  6       2010\n",
       "7  225  2010-01-03 Kenya   Discount Stickers    Holographic Goose NA       2010\n",
       "8  230  2010-01-03 Kenya   Stickers for Less    Holographic Goose  5       2010\n",
       "9  235  2010-01-03 Kenya   Premium Sticker Mart Holographic Goose  7       2010\n",
       "10 315  2010-01-04 Kenya   Discount Stickers    Holographic Goose NA       2010\n",
       "11 320  2010-01-04 Kenya   Stickers for Less    Holographic Goose NA       2010\n",
       "12 325  2010-01-04 Kenya   Premium Sticker Mart Holographic Goose  5       2010\n",
       "13 405  2010-01-05 Kenya   Discount Stickers    Holographic Goose NA       2010\n",
       "14 410  2010-01-05 Kenya   Stickers for Less    Holographic Goose NA       2010\n",
       "15 415  2010-01-05 Kenya   Premium Sticker Mart Holographic Goose  5       2010\n",
       "16 495  2010-01-06 Kenya   Discount Stickers    Holographic Goose NA       2010\n",
       "17 500  2010-01-06 Kenya   Stickers for Less    Holographic Goose NA       2010\n",
       "18 505  2010-01-06 Kenya   Premium Sticker Mart Holographic Goose NA       2010\n",
       "19 585  2010-01-07 Kenya   Discount Stickers    Holographic Goose NA       2010\n",
       "20 590  2010-01-07 Kenya   Stickers for Less    Holographic Goose NA       2010\n",
       "21 595  2010-01-07 Kenya   Premium Sticker Mart Holographic Goose NA       2010\n",
       "22 675  2010-01-08 Kenya   Discount Stickers    Holographic Goose NA       2010\n",
       "23 680  2010-01-08 Kenya   Stickers for Less    Holographic Goose NA       2010\n",
       "24 685  2010-01-08 Kenya   Premium Sticker Mart Holographic Goose  5       2010\n",
       "25 765  2010-01-09 Kenya   Discount Stickers    Holographic Goose NA       2010\n",
       "26 770  2010-01-09 Kenya   Stickers for Less    Holographic Goose NA       2010\n",
       "27 775  2010-01-09 Kenya   Premium Sticker Mart Holographic Goose  5       2010\n",
       "28 855  2010-01-10 Kenya   Discount Stickers    Holographic Goose NA       2010\n",
       "29 860  2010-01-10 Kenya   Stickers for Less    Holographic Goose  5       2010\n",
       "30 865  2010-01-10 Kenya   Premium Sticker Mart Holographic Goose  5       2010\n",
       "⋮  ⋮    ⋮          ⋮       ⋮                    ⋮                 ⋮        ⋮   \n",
       "64 1935 2010-01-22 Kenya   Discount Stickers    Holographic Goose NA       2010\n",
       "65 1940 2010-01-22 Kenya   Stickers for Less    Holographic Goose NA       2010\n",
       "66 1945 2010-01-22 Kenya   Premium Sticker Mart Holographic Goose NA       2010\n",
       "67 2025 2010-01-23 Kenya   Discount Stickers    Holographic Goose NA       2010\n",
       "68 2030 2010-01-23 Kenya   Stickers for Less    Holographic Goose NA       2010\n",
       "69 2035 2010-01-23 Kenya   Premium Sticker Mart Holographic Goose  5       2010\n",
       "70 2115 2010-01-24 Kenya   Discount Stickers    Holographic Goose NA       2010\n",
       "71 2120 2010-01-24 Kenya   Stickers for Less    Holographic Goose  5       2010\n",
       "72 2125 2010-01-24 Kenya   Premium Sticker Mart Holographic Goose  5       2010\n",
       "73 2205 2010-01-25 Kenya   Discount Stickers    Holographic Goose NA       2010\n",
       "74 2210 2010-01-25 Kenya   Stickers for Less    Holographic Goose NA       2010\n",
       "75 2215 2010-01-25 Kenya   Premium Sticker Mart Holographic Goose NA       2010\n",
       "76 2295 2010-01-26 Kenya   Discount Stickers    Holographic Goose NA       2010\n",
       "77 2300 2010-01-26 Kenya   Stickers for Less    Holographic Goose NA       2010\n",
       "78 2305 2010-01-26 Kenya   Premium Sticker Mart Holographic Goose NA       2010\n",
       "79 2385 2010-01-27 Kenya   Discount Stickers    Holographic Goose NA       2010\n",
       "80 2390 2010-01-27 Kenya   Stickers for Less    Holographic Goose NA       2010\n",
       "81 2395 2010-01-27 Kenya   Premium Sticker Mart Holographic Goose NA       2010\n",
       "82 2475 2010-01-28 Kenya   Discount Stickers    Holographic Goose NA       2010\n",
       "83 2480 2010-01-28 Kenya   Stickers for Less    Holographic Goose NA       2010\n",
       "84 2485 2010-01-28 Kenya   Premium Sticker Mart Holographic Goose NA       2010\n",
       "85 2565 2010-01-29 Kenya   Discount Stickers    Holographic Goose NA       2010\n",
       "86 2570 2010-01-29 Kenya   Stickers for Less    Holographic Goose NA       2010\n",
       "87 2575 2010-01-29 Kenya   Premium Sticker Mart Holographic Goose NA       2010\n",
       "88 2655 2010-01-30 Kenya   Discount Stickers    Holographic Goose NA       2010\n",
       "89 2660 2010-01-30 Kenya   Stickers for Less    Holographic Goose NA       2010\n",
       "90 2665 2010-01-30 Kenya   Premium Sticker Mart Holographic Goose  5       2010\n",
       "91 2745 2010-01-31 Kenya   Discount Stickers    Holographic Goose NA       2010\n",
       "92 2750 2010-01-31 Kenya   Stickers for Less    Holographic Goose NA       2010\n",
       "93 2755 2010-01-31 Kenya   Premium Sticker Mart Holographic Goose  5       2010\n",
       "   mo  day wkday\n",
       "1  Jan  1  Fri  \n",
       "2  Jan  1  Fri  \n",
       "3  Jan  1  Fri  \n",
       "4  Jan  2  Sat  \n",
       "5  Jan  2  Sat  \n",
       "6  Jan  2  Sat  \n",
       "7  Jan  3  Sun  \n",
       "8  Jan  3  Sun  \n",
       "9  Jan  3  Sun  \n",
       "10 Jan  4  Mon  \n",
       "11 Jan  4  Mon  \n",
       "12 Jan  4  Mon  \n",
       "13 Jan  5  Tue  \n",
       "14 Jan  5  Tue  \n",
       "15 Jan  5  Tue  \n",
       "16 Jan  6  Wed  \n",
       "17 Jan  6  Wed  \n",
       "18 Jan  6  Wed  \n",
       "19 Jan  7  Thu  \n",
       "20 Jan  7  Thu  \n",
       "21 Jan  7  Thu  \n",
       "22 Jan  8  Fri  \n",
       "23 Jan  8  Fri  \n",
       "24 Jan  8  Fri  \n",
       "25 Jan  9  Sat  \n",
       "26 Jan  9  Sat  \n",
       "27 Jan  9  Sat  \n",
       "28 Jan 10  Sun  \n",
       "29 Jan 10  Sun  \n",
       "30 Jan 10  Sun  \n",
       "⋮  ⋮   ⋮   ⋮    \n",
       "64 Jan 22  Fri  \n",
       "65 Jan 22  Fri  \n",
       "66 Jan 22  Fri  \n",
       "67 Jan 23  Sat  \n",
       "68 Jan 23  Sat  \n",
       "69 Jan 23  Sat  \n",
       "70 Jan 24  Sun  \n",
       "71 Jan 24  Sun  \n",
       "72 Jan 24  Sun  \n",
       "73 Jan 25  Mon  \n",
       "74 Jan 25  Mon  \n",
       "75 Jan 25  Mon  \n",
       "76 Jan 26  Tue  \n",
       "77 Jan 26  Tue  \n",
       "78 Jan 26  Tue  \n",
       "79 Jan 27  Wed  \n",
       "80 Jan 27  Wed  \n",
       "81 Jan 27  Wed  \n",
       "82 Jan 28  Thu  \n",
       "83 Jan 28  Thu  \n",
       "84 Jan 28  Thu  \n",
       "85 Jan 29  Fri  \n",
       "86 Jan 29  Fri  \n",
       "87 Jan 29  Fri  \n",
       "88 Jan 30  Sat  \n",
       "89 Jan 30  Sat  \n",
       "90 Jan 30  Sat  \n",
       "91 Jan 31  Sun  \n",
       "92 Jan 31  Sun  \n",
       "93 Jan 31  Sun  "
      ]
     },
     "metadata": {},
     "output_type": "display_data"
    }
   ],
   "source": [
    "kenya_Jan_Holograph <- head(month_list$Jan %>% filter(year == \"2010\" & country == \"Kenya\" & product == \"Holographic Goose\"), 100)  # & is.na(num_sold)  )\n",
    "kenya_Jan_Holograph"
   ]
  },
  {
   "cell_type": "code",
   "execution_count": null,
   "id": "3bcf6386-5551-46cc-a549-fab060fedf8f",
   "metadata": {},
   "outputs": [],
   "source": []
  },
  {
   "cell_type": "markdown",
   "id": "f9d730cf-28ef-4c17-bd26-da79d02f3080",
   "metadata": {},
   "source": [
    "## <font color = yellow> Total NAs: initial"
   ]
  },
  {
   "cell_type": "code",
   "execution_count": 22,
   "id": "220429a8-653b-4865-ab14-7e570c1ccbc7",
   "metadata": {},
   "outputs": [
    {
     "data": {
      "text/html": [
       "8871"
      ],
      "text/latex": [
       "8871"
      ],
      "text/markdown": [
       "8871"
      ],
      "text/plain": [
       "[1] 8871"
      ]
     },
     "metadata": {},
     "output_type": "display_data"
    }
   ],
   "source": [
    "# est initial na count\n",
    "tally_na <- sum(is.na(train))\n",
    "sum(is.na(train))"
   ]
  },
  {
   "cell_type": "markdown",
   "id": "8a0fc36f-43fd-4ed1-9b9f-f42c3f7a719f",
   "metadata": {},
   "source": [
    "# <font color = lime> Explore / Remove: NA pattern - no sales/all years"
   ]
  },
  {
   "cell_type": "markdown",
   "id": "6d54c767-5234-4c05-8483-014d0c64f42e",
   "metadata": {},
   "source": [
    "# <font color = lime> Kenya: 2557 NA (removed rows)\n",
    "\n",
    "##### ALL Kenya/ filter(country == \"Kenya\" & store == \"Discount Stickers\" & product == \"Holographic Goose\") \n",
    "\n",
    " - NO SALES: it would be more appropriate to remove the store/product combination."
   ]
  },
  {
   "cell_type": "code",
   "execution_count": 23,
   "id": "8664fa09-b847-4921-bce9-797545a9e3ad",
   "metadata": {},
   "outputs": [
    {
     "data": {
      "text/html": [
       "2557"
      ],
      "text/latex": [
       "2557"
      ],
      "text/markdown": [
       "2557"
      ],
      "text/plain": [
       "[1] 2557"
      ]
     },
     "metadata": {},
     "output_type": "display_data"
    },
    {
     "data": {
      "text/html": [
       "<style>\n",
       ".list-inline {list-style: none; margin:0; padding: 0}\n",
       ".list-inline>li {display: inline-block}\n",
       ".list-inline>li:not(:last-child)::after {content: \"\\00b7\"; padding: 0 .5ex}\n",
       "</style>\n",
       "<ol class=list-inline><li>230130</li><li>10</li></ol>\n"
      ],
      "text/latex": [
       "\\begin{enumerate*}\n",
       "\\item 230130\n",
       "\\item 10\n",
       "\\end{enumerate*}\n"
      ],
      "text/markdown": [
       "1. 230130\n",
       "2. 10\n",
       "\n",
       "\n"
      ],
      "text/plain": [
       "[1] 230130     10"
      ]
     },
     "metadata": {},
     "output_type": "display_data"
    },
    {
     "name": "stdout",
     "output_type": "stream",
     "text": [
      "\n",
      "\n",
      " The dim of train after filtering is:  227573 10 \n",
      "\n",
      "\n"
     ]
    },
    {
     "data": {
      "text/html": [
       "0"
      ],
      "text/latex": [
       "0"
      ],
      "text/markdown": [
       "0"
      ],
      "text/plain": [
       "[1] 0"
      ]
     },
     "metadata": {},
     "output_type": "display_data"
    }
   ],
   "source": [
    "# Review NA before / after \n",
    "sum(is.na(train %>% filter(country == \"Kenya\" & store == \"Discount Stickers\" & product == \"Holographic Goose\")))\n",
    "\n",
    "dim(train)\n",
    "train <- train %>% filter(!(country == \"Kenya\" & store == \"Discount Stickers\" & product == \"Holographic Goose\")) \n",
    "cat(\"\\n\\n The dim of train after filtering is: \", dim(train), \"\\n\\n\\n\")\n",
    "sum(is.na(train %>% filter(country == \"Kenya\" & store == \"Discount Stickers\" & product == \"Holographic Goose\")))"
   ]
  },
  {
   "cell_type": "markdown",
   "id": "efdc5298-3ada-4aa3-946f-7812f8feac3e",
   "metadata": {},
   "source": [
    "# <font color = yellow> Update total NAs: "
   ]
  },
  {
   "cell_type": "code",
   "execution_count": 24,
   "id": "7fc9ecb3-c2d9-4137-acb2-f5df9e1ac95b",
   "metadata": {},
   "outputs": [
    {
     "data": {
      "text/html": [
       "6314"
      ],
      "text/latex": [
       "6314"
      ],
      "text/markdown": [
       "6314"
      ],
      "text/plain": [
       "[1] 6314"
      ]
     },
     "metadata": {},
     "output_type": "display_data"
    },
    {
     "data": {
      "text/html": [
       "6314"
      ],
      "text/latex": [
       "6314"
      ],
      "text/markdown": [
       "6314"
      ],
      "text/plain": [
       "[1] 6314"
      ]
     },
     "metadata": {},
     "output_type": "display_data"
    }
   ],
   "source": [
    "sum(is.na(train))\n",
    "tally_na <- sum(is.na(train))\n",
    "tally_na"
   ]
  },
  {
   "cell_type": "code",
   "execution_count": null,
   "id": "81a124a3-fc94-478a-8368-8fe252857a54",
   "metadata": {},
   "outputs": [],
   "source": []
  },
  {
   "cell_type": "code",
   "execution_count": null,
   "id": "3996e165-b6d5-472c-ac17-b4422fca696b",
   "metadata": {},
   "outputs": [],
   "source": []
  },
  {
   "cell_type": "markdown",
   "id": "2394e597-e38f-42a6-b350-ac324b862221",
   "metadata": {},
   "source": [
    "## <font color = yellow> A Second Pattern: \n",
    "\n",
    "####  Canada / Discount Stickers /  Holographic Goose / All days / All years"
   ]
  },
  {
   "cell_type": "code",
   "execution_count": 25,
   "id": "5f67eb4e-b99e-4a1e-adc6-d01a4e6ab7a9",
   "metadata": {},
   "outputs": [
    {
     "data": {
      "text/html": [
       "<table class=\"dataframe\">\n",
       "<caption>A tibble: 12 × 10</caption>\n",
       "<thead>\n",
       "\t<tr><th scope=col>id</th><th scope=col>date</th><th scope=col>country</th><th scope=col>store</th><th scope=col>product</th><th scope=col>num_sold</th><th scope=col>year</th><th scope=col>mo</th><th scope=col>day</th><th scope=col>wkday</th></tr>\n",
       "\t<tr><th scope=col>&lt;dbl&gt;</th><th scope=col>&lt;date&gt;</th><th scope=col>&lt;chr&gt;</th><th scope=col>&lt;chr&gt;</th><th scope=col>&lt;chr&gt;</th><th scope=col>&lt;dbl&gt;</th><th scope=col>&lt;dbl&gt;</th><th scope=col>&lt;ord&gt;</th><th scope=col>&lt;int&gt;</th><th scope=col>&lt;ord&gt;</th></tr>\n",
       "</thead>\n",
       "<tbody>\n",
       "\t<tr><td>  0</td><td>2010-01-01</td><td>Canada</td><td>Discount Stickers   </td><td>Holographic Goose</td><td> NA</td><td>2010</td><td>Jan</td><td>1</td><td>Fri</td></tr>\n",
       "\t<tr><td>  5</td><td>2010-01-01</td><td>Canada</td><td>Stickers for Less   </td><td>Holographic Goose</td><td>300</td><td>2010</td><td>Jan</td><td>1</td><td>Fri</td></tr>\n",
       "\t<tr><td> 10</td><td>2010-01-01</td><td>Canada</td><td>Premium Sticker Mart</td><td>Holographic Goose</td><td>375</td><td>2010</td><td>Jan</td><td>1</td><td>Fri</td></tr>\n",
       "\t<tr><td> 90</td><td>2010-01-02</td><td>Canada</td><td>Discount Stickers   </td><td>Holographic Goose</td><td> NA</td><td>2010</td><td>Jan</td><td>2</td><td>Sat</td></tr>\n",
       "\t<tr><td> 95</td><td>2010-01-02</td><td>Canada</td><td>Stickers for Less   </td><td>Holographic Goose</td><td>281</td><td>2010</td><td>Jan</td><td>2</td><td>Sat</td></tr>\n",
       "\t<tr><td>100</td><td>2010-01-02</td><td>Canada</td><td>Premium Sticker Mart</td><td>Holographic Goose</td><td>336</td><td>2010</td><td>Jan</td><td>2</td><td>Sat</td></tr>\n",
       "\t<tr><td>180</td><td>2010-01-03</td><td>Canada</td><td>Discount Stickers   </td><td>Holographic Goose</td><td> NA</td><td>2010</td><td>Jan</td><td>3</td><td>Sun</td></tr>\n",
       "\t<tr><td>185</td><td>2010-01-03</td><td>Canada</td><td>Stickers for Less   </td><td>Holographic Goose</td><td>297</td><td>2010</td><td>Jan</td><td>3</td><td>Sun</td></tr>\n",
       "\t<tr><td>190</td><td>2010-01-03</td><td>Canada</td><td>Premium Sticker Mart</td><td>Holographic Goose</td><td>338</td><td>2010</td><td>Jan</td><td>3</td><td>Sun</td></tr>\n",
       "\t<tr><td>270</td><td>2010-01-04</td><td>Canada</td><td>Discount Stickers   </td><td>Holographic Goose</td><td> NA</td><td>2010</td><td>Jan</td><td>4</td><td>Mon</td></tr>\n",
       "\t<tr><td>275</td><td>2010-01-04</td><td>Canada</td><td>Stickers for Less   </td><td>Holographic Goose</td><td>235</td><td>2010</td><td>Jan</td><td>4</td><td>Mon</td></tr>\n",
       "\t<tr><td>280</td><td>2010-01-04</td><td>Canada</td><td>Premium Sticker Mart</td><td>Holographic Goose</td><td>277</td><td>2010</td><td>Jan</td><td>4</td><td>Mon</td></tr>\n",
       "</tbody>\n",
       "</table>\n"
      ],
      "text/latex": [
       "A tibble: 12 × 10\n",
       "\\begin{tabular}{llllllllll}\n",
       " id & date & country & store & product & num\\_sold & year & mo & day & wkday\\\\\n",
       " <dbl> & <date> & <chr> & <chr> & <chr> & <dbl> & <dbl> & <ord> & <int> & <ord>\\\\\n",
       "\\hline\n",
       "\t   0 & 2010-01-01 & Canada & Discount Stickers    & Holographic Goose &  NA & 2010 & Jan & 1 & Fri\\\\\n",
       "\t   5 & 2010-01-01 & Canada & Stickers for Less    & Holographic Goose & 300 & 2010 & Jan & 1 & Fri\\\\\n",
       "\t  10 & 2010-01-01 & Canada & Premium Sticker Mart & Holographic Goose & 375 & 2010 & Jan & 1 & Fri\\\\\n",
       "\t  90 & 2010-01-02 & Canada & Discount Stickers    & Holographic Goose &  NA & 2010 & Jan & 2 & Sat\\\\\n",
       "\t  95 & 2010-01-02 & Canada & Stickers for Less    & Holographic Goose & 281 & 2010 & Jan & 2 & Sat\\\\\n",
       "\t 100 & 2010-01-02 & Canada & Premium Sticker Mart & Holographic Goose & 336 & 2010 & Jan & 2 & Sat\\\\\n",
       "\t 180 & 2010-01-03 & Canada & Discount Stickers    & Holographic Goose &  NA & 2010 & Jan & 3 & Sun\\\\\n",
       "\t 185 & 2010-01-03 & Canada & Stickers for Less    & Holographic Goose & 297 & 2010 & Jan & 3 & Sun\\\\\n",
       "\t 190 & 2010-01-03 & Canada & Premium Sticker Mart & Holographic Goose & 338 & 2010 & Jan & 3 & Sun\\\\\n",
       "\t 270 & 2010-01-04 & Canada & Discount Stickers    & Holographic Goose &  NA & 2010 & Jan & 4 & Mon\\\\\n",
       "\t 275 & 2010-01-04 & Canada & Stickers for Less    & Holographic Goose & 235 & 2010 & Jan & 4 & Mon\\\\\n",
       "\t 280 & 2010-01-04 & Canada & Premium Sticker Mart & Holographic Goose & 277 & 2010 & Jan & 4 & Mon\\\\\n",
       "\\end{tabular}\n"
      ],
      "text/markdown": [
       "\n",
       "A tibble: 12 × 10\n",
       "\n",
       "| id &lt;dbl&gt; | date &lt;date&gt; | country &lt;chr&gt; | store &lt;chr&gt; | product &lt;chr&gt; | num_sold &lt;dbl&gt; | year &lt;dbl&gt; | mo &lt;ord&gt; | day &lt;int&gt; | wkday &lt;ord&gt; |\n",
       "|---|---|---|---|---|---|---|---|---|---|\n",
       "|   0 | 2010-01-01 | Canada | Discount Stickers    | Holographic Goose |  NA | 2010 | Jan | 1 | Fri |\n",
       "|   5 | 2010-01-01 | Canada | Stickers for Less    | Holographic Goose | 300 | 2010 | Jan | 1 | Fri |\n",
       "|  10 | 2010-01-01 | Canada | Premium Sticker Mart | Holographic Goose | 375 | 2010 | Jan | 1 | Fri |\n",
       "|  90 | 2010-01-02 | Canada | Discount Stickers    | Holographic Goose |  NA | 2010 | Jan | 2 | Sat |\n",
       "|  95 | 2010-01-02 | Canada | Stickers for Less    | Holographic Goose | 281 | 2010 | Jan | 2 | Sat |\n",
       "| 100 | 2010-01-02 | Canada | Premium Sticker Mart | Holographic Goose | 336 | 2010 | Jan | 2 | Sat |\n",
       "| 180 | 2010-01-03 | Canada | Discount Stickers    | Holographic Goose |  NA | 2010 | Jan | 3 | Sun |\n",
       "| 185 | 2010-01-03 | Canada | Stickers for Less    | Holographic Goose | 297 | 2010 | Jan | 3 | Sun |\n",
       "| 190 | 2010-01-03 | Canada | Premium Sticker Mart | Holographic Goose | 338 | 2010 | Jan | 3 | Sun |\n",
       "| 270 | 2010-01-04 | Canada | Discount Stickers    | Holographic Goose |  NA | 2010 | Jan | 4 | Mon |\n",
       "| 275 | 2010-01-04 | Canada | Stickers for Less    | Holographic Goose | 235 | 2010 | Jan | 4 | Mon |\n",
       "| 280 | 2010-01-04 | Canada | Premium Sticker Mart | Holographic Goose | 277 | 2010 | Jan | 4 | Mon |\n",
       "\n"
      ],
      "text/plain": [
       "   id  date       country store                product           num_sold year\n",
       "1    0 2010-01-01 Canada  Discount Stickers    Holographic Goose  NA      2010\n",
       "2    5 2010-01-01 Canada  Stickers for Less    Holographic Goose 300      2010\n",
       "3   10 2010-01-01 Canada  Premium Sticker Mart Holographic Goose 375      2010\n",
       "4   90 2010-01-02 Canada  Discount Stickers    Holographic Goose  NA      2010\n",
       "5   95 2010-01-02 Canada  Stickers for Less    Holographic Goose 281      2010\n",
       "6  100 2010-01-02 Canada  Premium Sticker Mart Holographic Goose 336      2010\n",
       "7  180 2010-01-03 Canada  Discount Stickers    Holographic Goose  NA      2010\n",
       "8  185 2010-01-03 Canada  Stickers for Less    Holographic Goose 297      2010\n",
       "9  190 2010-01-03 Canada  Premium Sticker Mart Holographic Goose 338      2010\n",
       "10 270 2010-01-04 Canada  Discount Stickers    Holographic Goose  NA      2010\n",
       "11 275 2010-01-04 Canada  Stickers for Less    Holographic Goose 235      2010\n",
       "12 280 2010-01-04 Canada  Premium Sticker Mart Holographic Goose 277      2010\n",
       "   mo  day wkday\n",
       "1  Jan 1   Fri  \n",
       "2  Jan 1   Fri  \n",
       "3  Jan 1   Fri  \n",
       "4  Jan 2   Sat  \n",
       "5  Jan 2   Sat  \n",
       "6  Jan 2   Sat  \n",
       "7  Jan 3   Sun  \n",
       "8  Jan 3   Sun  \n",
       "9  Jan 3   Sun  \n",
       "10 Jan 4   Mon  \n",
       "11 Jan 4   Mon  \n",
       "12 Jan 4   Mon  "
      ]
     },
     "metadata": {},
     "output_type": "display_data"
    },
    {
     "data": {
      "text/html": [
       "<table class=\"dataframe\">\n",
       "<caption>A tibble: 5 × 10</caption>\n",
       "<thead>\n",
       "\t<tr><th scope=col>id</th><th scope=col>date</th><th scope=col>country</th><th scope=col>store</th><th scope=col>product</th><th scope=col>num_sold</th><th scope=col>year</th><th scope=col>mo</th><th scope=col>day</th><th scope=col>wkday</th></tr>\n",
       "\t<tr><th scope=col>&lt;dbl&gt;</th><th scope=col>&lt;date&gt;</th><th scope=col>&lt;chr&gt;</th><th scope=col>&lt;chr&gt;</th><th scope=col>&lt;chr&gt;</th><th scope=col>&lt;dbl&gt;</th><th scope=col>&lt;dbl&gt;</th><th scope=col>&lt;ord&gt;</th><th scope=col>&lt;int&gt;</th><th scope=col>&lt;ord&gt;</th></tr>\n",
       "</thead>\n",
       "<tbody>\n",
       "\t<tr><td>229955</td><td>2016-12-30</td><td>Canada</td><td>Stickers for Less   </td><td>Holographic Goose</td><td>303</td><td>2016</td><td>Dec</td><td>30</td><td>Fri</td></tr>\n",
       "\t<tr><td>229960</td><td>2016-12-30</td><td>Canada</td><td>Premium Sticker Mart</td><td>Holographic Goose</td><td>302</td><td>2016</td><td>Dec</td><td>30</td><td>Fri</td></tr>\n",
       "\t<tr><td>230040</td><td>2016-12-31</td><td>Canada</td><td>Discount Stickers   </td><td>Holographic Goose</td><td> NA</td><td>2016</td><td>Dec</td><td>31</td><td>Sat</td></tr>\n",
       "\t<tr><td>230045</td><td>2016-12-31</td><td>Canada</td><td>Stickers for Less   </td><td>Holographic Goose</td><td>284</td><td>2016</td><td>Dec</td><td>31</td><td>Sat</td></tr>\n",
       "\t<tr><td>230050</td><td>2016-12-31</td><td>Canada</td><td>Premium Sticker Mart</td><td>Holographic Goose</td><td>309</td><td>2016</td><td>Dec</td><td>31</td><td>Sat</td></tr>\n",
       "</tbody>\n",
       "</table>\n"
      ],
      "text/latex": [
       "A tibble: 5 × 10\n",
       "\\begin{tabular}{llllllllll}\n",
       " id & date & country & store & product & num\\_sold & year & mo & day & wkday\\\\\n",
       " <dbl> & <date> & <chr> & <chr> & <chr> & <dbl> & <dbl> & <ord> & <int> & <ord>\\\\\n",
       "\\hline\n",
       "\t 229955 & 2016-12-30 & Canada & Stickers for Less    & Holographic Goose & 303 & 2016 & Dec & 30 & Fri\\\\\n",
       "\t 229960 & 2016-12-30 & Canada & Premium Sticker Mart & Holographic Goose & 302 & 2016 & Dec & 30 & Fri\\\\\n",
       "\t 230040 & 2016-12-31 & Canada & Discount Stickers    & Holographic Goose &  NA & 2016 & Dec & 31 & Sat\\\\\n",
       "\t 230045 & 2016-12-31 & Canada & Stickers for Less    & Holographic Goose & 284 & 2016 & Dec & 31 & Sat\\\\\n",
       "\t 230050 & 2016-12-31 & Canada & Premium Sticker Mart & Holographic Goose & 309 & 2016 & Dec & 31 & Sat\\\\\n",
       "\\end{tabular}\n"
      ],
      "text/markdown": [
       "\n",
       "A tibble: 5 × 10\n",
       "\n",
       "| id &lt;dbl&gt; | date &lt;date&gt; | country &lt;chr&gt; | store &lt;chr&gt; | product &lt;chr&gt; | num_sold &lt;dbl&gt; | year &lt;dbl&gt; | mo &lt;ord&gt; | day &lt;int&gt; | wkday &lt;ord&gt; |\n",
       "|---|---|---|---|---|---|---|---|---|---|\n",
       "| 229955 | 2016-12-30 | Canada | Stickers for Less    | Holographic Goose | 303 | 2016 | Dec | 30 | Fri |\n",
       "| 229960 | 2016-12-30 | Canada | Premium Sticker Mart | Holographic Goose | 302 | 2016 | Dec | 30 | Fri |\n",
       "| 230040 | 2016-12-31 | Canada | Discount Stickers    | Holographic Goose |  NA | 2016 | Dec | 31 | Sat |\n",
       "| 230045 | 2016-12-31 | Canada | Stickers for Less    | Holographic Goose | 284 | 2016 | Dec | 31 | Sat |\n",
       "| 230050 | 2016-12-31 | Canada | Premium Sticker Mart | Holographic Goose | 309 | 2016 | Dec | 31 | Sat |\n",
       "\n"
      ],
      "text/plain": [
       "  id     date       country store                product           num_sold\n",
       "1 229955 2016-12-30 Canada  Stickers for Less    Holographic Goose 303     \n",
       "2 229960 2016-12-30 Canada  Premium Sticker Mart Holographic Goose 302     \n",
       "3 230040 2016-12-31 Canada  Discount Stickers    Holographic Goose  NA     \n",
       "4 230045 2016-12-31 Canada  Stickers for Less    Holographic Goose 284     \n",
       "5 230050 2016-12-31 Canada  Premium Sticker Mart Holographic Goose 309     \n",
       "  year mo  day wkday\n",
       "1 2016 Dec 30  Fri  \n",
       "2 2016 Dec 30  Fri  \n",
       "3 2016 Dec 31  Sat  \n",
       "4 2016 Dec 31  Sat  \n",
       "5 2016 Dec 31  Sat  "
      ]
     },
     "metadata": {},
     "output_type": "display_data"
    }
   ],
   "source": [
    "head(train %>% filter(country == \"Canada\" &  product == \"Holographic Goose\" ), 12)\n",
    "tail(train %>% filter(country == \"Canada\" &  product == \"Holographic Goose\" ), 5)"
   ]
  },
  {
   "cell_type": "markdown",
   "id": "2a3cab27-8194-4612-832d-052dafc948fa",
   "metadata": {},
   "source": [
    "# <font color = yellow> Canada: 2557 NA (remove rows)\n",
    "\n",
    "- math: 1 country x 1 store x 365 days x 1 product x 7 years + 2 days = 2557"
   ]
  },
  {
   "cell_type": "code",
   "execution_count": 26,
   "id": "dd0f78d6-62ad-48bb-9df7-88cc868a4eda",
   "metadata": {},
   "outputs": [
    {
     "data": {
      "text/html": [
       "2557"
      ],
      "text/latex": [
       "2557"
      ],
      "text/markdown": [
       "2557"
      ],
      "text/plain": [
       "[1] 2557"
      ]
     },
     "metadata": {},
     "output_type": "display_data"
    }
   ],
   "source": [
    "CanMath <- (1 * 365 * 7) + 2\n",
    "CanMath"
   ]
  },
  {
   "cell_type": "code",
   "execution_count": 27,
   "id": "afa10b98-c7c6-464c-bc32-610d637e0e8d",
   "metadata": {},
   "outputs": [
    {
     "name": "stdout",
     "output_type": "stream",
     "text": [
      "\n",
      " The sum of NA in train before removing the Canada non-sales is:  6314 \n",
      "\n"
     ]
    },
    {
     "data": {
      "text/html": [
       "2557"
      ],
      "text/latex": [
       "2557"
      ],
      "text/markdown": [
       "2557"
      ],
      "text/plain": [
       "[1] 2557"
      ]
     },
     "metadata": {},
     "output_type": "display_data"
    },
    {
     "name": "stdout",
     "output_type": "stream",
     "text": [
      "\n",
      " The sum of NA in train after removing the Canada non-sales is:  3757 \n",
      "\n"
     ]
    }
   ],
   "source": [
    "cat(\"\\n The sum of NA in train before removing the Canada non-sales is: \", sum(is.na(train)), \"\\n\\n\")\n",
    "# The targeted number of non-sale rows to be deleted \n",
    "sum(is.na(train %>% filter(country == \"Canada\" & store == \"Discount Stickers\" & product == \"Holographic Goose\" )))\n",
    "# remove rows from train\n",
    "train <- train %>% filter(!(country == \"Canada\" & store == \"Discount Stickers\" & product == \"Holographic Goose\" ))\n",
    "\n",
    "# proof \n",
    "cat(\"\\n The sum of NA in train after removing the Canada non-sales is: \", sum(is.na(train)), \"\\n\\n\")\n",
    "\n"
   ]
  },
  {
   "cell_type": "markdown",
   "id": "2cc13c4b-c52c-4715-bd89-45f19d854795",
   "metadata": {},
   "source": [
    "# <font color = lime> Update NAs\n"
   ]
  },
  {
   "cell_type": "code",
   "execution_count": 28,
   "id": "162a6d18-2477-4fa1-8c65-57557b73d1b2",
   "metadata": {},
   "outputs": [
    {
     "data": {
      "text/html": [
       "3757"
      ],
      "text/latex": [
       "3757"
      ],
      "text/markdown": [
       "3757"
      ],
      "text/plain": [
       "[1] 3757"
      ]
     },
     "metadata": {},
     "output_type": "display_data"
    },
    {
     "data": {
      "text/html": [
       "3757"
      ],
      "text/latex": [
       "3757"
      ],
      "text/markdown": [
       "3757"
      ],
      "text/plain": [
       "[1] 3757"
      ]
     },
     "metadata": {},
     "output_type": "display_data"
    }
   ],
   "source": [
    "sum(is.na(train))\n",
    "tally_na <- sum(is.na(train))\n",
    "tally_na"
   ]
  },
  {
   "cell_type": "code",
   "execution_count": null,
   "id": "1dce0068-102b-4061-806f-264ada6f7c5a",
   "metadata": {},
   "outputs": [],
   "source": []
  },
  {
   "cell_type": "markdown",
   "id": "990fa4fd-48df-454a-8702-88db33ae5d5e",
   "metadata": {},
   "source": [
    "### <font color = yellow> Seq( ) fct"
   ]
  },
  {
   "cell_type": "markdown",
   "id": "55b4b5e6-a562-412b-9178-4397ce4d28e0",
   "metadata": {
    "scrolled": true
   },
   "source": [
    "#### seq( )\n",
    "\n",
    "    seq(from = , to = , by = )"
   ]
  },
  {
   "cell_type": "code",
   "execution_count": null,
   "id": "c936d6a7-e12b-479f-9c5a-c0d5ad828758",
   "metadata": {},
   "outputs": [],
   "source": []
  },
  {
   "cell_type": "markdown",
   "id": "38cda06e-64fa-4dd0-a298-dd2837f1bb1c",
   "metadata": {},
   "source": [
    "# <font color = lime> Create: Kenya & Canada\n",
    "\n",
    "### (all remaining NA accounted for)\n",
    "\n"
   ]
  },
  {
   "cell_type": "code",
   "execution_count": 29,
   "id": "7c5df15f-a71a-4e68-ab4f-f1360c85fb28",
   "metadata": {},
   "outputs": [
    {
     "name": "stdout",
     "output_type": "stream",
     "text": [
      "\n",
      " The current sum of NA in train is:  3757 \n",
      "\n",
      "\n",
      " The current sum of NA in Kenya is:  2068 \n",
      "\n",
      "\n",
      " The current sum of NA in Canada is:  1689 \n",
      "\n"
     ]
    },
    {
     "data": {
      "text/html": [
       "3757"
      ],
      "text/latex": [
       "3757"
      ],
      "text/markdown": [
       "3757"
      ],
      "text/plain": [
       "[1] 3757"
      ]
     },
     "metadata": {},
     "output_type": "display_data"
    },
    {
     "data": {
      "text/html": [
       "2068"
      ],
      "text/latex": [
       "2068"
      ],
      "text/markdown": [
       "2068"
      ],
      "text/plain": [
       "[1] 2068"
      ]
     },
     "metadata": {},
     "output_type": "display_data"
    },
    {
     "data": {
      "text/html": [
       "1689"
      ],
      "text/latex": [
       "1689"
      ],
      "text/markdown": [
       "1689"
      ],
      "text/plain": [
       "[1] 1689"
      ]
     },
     "metadata": {},
     "output_type": "display_data"
    },
    {
     "data": {
      "text/html": [
       "3757"
      ],
      "text/latex": [
       "3757"
      ],
      "text/markdown": [
       "3757"
      ],
      "text/plain": [
       "[1] 3757"
      ]
     },
     "metadata": {},
     "output_type": "display_data"
    }
   ],
   "source": [
    "cat(\"\\n The current sum of NA in train is: \", sum(is.na(train)), \"\\n\\n\")\n",
    "\n",
    "kenya <- train %>% filter(country == \"Kenya\") \n",
    "canada <- train %>% filter(country == \"Canada\")\n",
    "\n",
    "cat(\"\\n The current sum of NA in Kenya is: \", sum(is.na(kenya)), \"\\n\\n\")\n",
    "cat(\"\\n The current sum of NA in Canada is: \", sum(is.na(canada)), \"\\n\\n\")\n",
    "\n",
    "sum(is.na(train))\n",
    "sum(is.na(kenya))\n",
    "sum(is.na(canada))\n",
    "2068+1689      # all NA accounted for in Canada / Kenya"
   ]
  },
  {
   "cell_type": "markdown",
   "id": "846a0200-b9f3-4c11-afc3-2cfc5c3ab27b",
   "metadata": {},
   "source": [
    "# <font color = lime>Kenya: sum(is.na(kenya))"
   ]
  },
  {
   "cell_type": "code",
   "execution_count": 30,
   "id": "82a34539-5ae3-41bf-848d-fae4f1919448",
   "metadata": {},
   "outputs": [
    {
     "data": {
      "text/html": [
       "2068"
      ],
      "text/latex": [
       "2068"
      ],
      "text/markdown": [
       "2068"
      ],
      "text/plain": [
       "[1] 2068"
      ]
     },
     "metadata": {},
     "output_type": "display_data"
    },
    {
     "data": {
      "text/html": [
       "<table class=\"dataframe\">\n",
       "<caption>A tibble: 8 × 10</caption>\n",
       "<thead>\n",
       "\t<tr><th scope=col>id</th><th scope=col>date</th><th scope=col>country</th><th scope=col>store</th><th scope=col>product</th><th scope=col>num_sold</th><th scope=col>year</th><th scope=col>mo</th><th scope=col>day</th><th scope=col>wkday</th></tr>\n",
       "\t<tr><th scope=col>&lt;dbl&gt;</th><th scope=col>&lt;date&gt;</th><th scope=col>&lt;chr&gt;</th><th scope=col>&lt;chr&gt;</th><th scope=col>&lt;chr&gt;</th><th scope=col>&lt;dbl&gt;</th><th scope=col>&lt;dbl&gt;</th><th scope=col>&lt;ord&gt;</th><th scope=col>&lt;int&gt;</th><th scope=col>&lt;ord&gt;</th></tr>\n",
       "</thead>\n",
       "<tbody>\n",
       "\t<tr><td>46</td><td>2010-01-01</td><td>Kenya</td><td>Discount Stickers</td><td>Kaggle            </td><td>20</td><td>2010</td><td>Jan</td><td>1</td><td>Fri</td></tr>\n",
       "\t<tr><td>47</td><td>2010-01-01</td><td>Kenya</td><td>Discount Stickers</td><td>Kaggle Tiers      </td><td>16</td><td>2010</td><td>Jan</td><td>1</td><td>Fri</td></tr>\n",
       "\t<tr><td>48</td><td>2010-01-01</td><td>Kenya</td><td>Discount Stickers</td><td>Kerneler          </td><td> 8</td><td>2010</td><td>Jan</td><td>1</td><td>Fri</td></tr>\n",
       "\t<tr><td>49</td><td>2010-01-01</td><td>Kenya</td><td>Discount Stickers</td><td>Kerneler Dark Mode</td><td> 9</td><td>2010</td><td>Jan</td><td>1</td><td>Fri</td></tr>\n",
       "\t<tr><td>50</td><td>2010-01-01</td><td>Kenya</td><td>Stickers for Less</td><td>Holographic Goose </td><td> 5</td><td>2010</td><td>Jan</td><td>1</td><td>Fri</td></tr>\n",
       "\t<tr><td>51</td><td>2010-01-01</td><td>Kenya</td><td>Stickers for Less</td><td>Kaggle            </td><td>40</td><td>2010</td><td>Jan</td><td>1</td><td>Fri</td></tr>\n",
       "\t<tr><td>52</td><td>2010-01-01</td><td>Kenya</td><td>Stickers for Less</td><td>Kaggle Tiers      </td><td>32</td><td>2010</td><td>Jan</td><td>1</td><td>Fri</td></tr>\n",
       "\t<tr><td>53</td><td>2010-01-01</td><td>Kenya</td><td>Stickers for Less</td><td>Kerneler          </td><td>17</td><td>2010</td><td>Jan</td><td>1</td><td>Fri</td></tr>\n",
       "</tbody>\n",
       "</table>\n"
      ],
      "text/latex": [
       "A tibble: 8 × 10\n",
       "\\begin{tabular}{llllllllll}\n",
       " id & date & country & store & product & num\\_sold & year & mo & day & wkday\\\\\n",
       " <dbl> & <date> & <chr> & <chr> & <chr> & <dbl> & <dbl> & <ord> & <int> & <ord>\\\\\n",
       "\\hline\n",
       "\t 46 & 2010-01-01 & Kenya & Discount Stickers & Kaggle             & 20 & 2010 & Jan & 1 & Fri\\\\\n",
       "\t 47 & 2010-01-01 & Kenya & Discount Stickers & Kaggle Tiers       & 16 & 2010 & Jan & 1 & Fri\\\\\n",
       "\t 48 & 2010-01-01 & Kenya & Discount Stickers & Kerneler           &  8 & 2010 & Jan & 1 & Fri\\\\\n",
       "\t 49 & 2010-01-01 & Kenya & Discount Stickers & Kerneler Dark Mode &  9 & 2010 & Jan & 1 & Fri\\\\\n",
       "\t 50 & 2010-01-01 & Kenya & Stickers for Less & Holographic Goose  &  5 & 2010 & Jan & 1 & Fri\\\\\n",
       "\t 51 & 2010-01-01 & Kenya & Stickers for Less & Kaggle             & 40 & 2010 & Jan & 1 & Fri\\\\\n",
       "\t 52 & 2010-01-01 & Kenya & Stickers for Less & Kaggle Tiers       & 32 & 2010 & Jan & 1 & Fri\\\\\n",
       "\t 53 & 2010-01-01 & Kenya & Stickers for Less & Kerneler           & 17 & 2010 & Jan & 1 & Fri\\\\\n",
       "\\end{tabular}\n"
      ],
      "text/markdown": [
       "\n",
       "A tibble: 8 × 10\n",
       "\n",
       "| id &lt;dbl&gt; | date &lt;date&gt; | country &lt;chr&gt; | store &lt;chr&gt; | product &lt;chr&gt; | num_sold &lt;dbl&gt; | year &lt;dbl&gt; | mo &lt;ord&gt; | day &lt;int&gt; | wkday &lt;ord&gt; |\n",
       "|---|---|---|---|---|---|---|---|---|---|\n",
       "| 46 | 2010-01-01 | Kenya | Discount Stickers | Kaggle             | 20 | 2010 | Jan | 1 | Fri |\n",
       "| 47 | 2010-01-01 | Kenya | Discount Stickers | Kaggle Tiers       | 16 | 2010 | Jan | 1 | Fri |\n",
       "| 48 | 2010-01-01 | Kenya | Discount Stickers | Kerneler           |  8 | 2010 | Jan | 1 | Fri |\n",
       "| 49 | 2010-01-01 | Kenya | Discount Stickers | Kerneler Dark Mode |  9 | 2010 | Jan | 1 | Fri |\n",
       "| 50 | 2010-01-01 | Kenya | Stickers for Less | Holographic Goose  |  5 | 2010 | Jan | 1 | Fri |\n",
       "| 51 | 2010-01-01 | Kenya | Stickers for Less | Kaggle             | 40 | 2010 | Jan | 1 | Fri |\n",
       "| 52 | 2010-01-01 | Kenya | Stickers for Less | Kaggle Tiers       | 32 | 2010 | Jan | 1 | Fri |\n",
       "| 53 | 2010-01-01 | Kenya | Stickers for Less | Kerneler           | 17 | 2010 | Jan | 1 | Fri |\n",
       "\n"
      ],
      "text/plain": [
       "  id date       country store             product            num_sold year mo \n",
       "1 46 2010-01-01 Kenya   Discount Stickers Kaggle             20       2010 Jan\n",
       "2 47 2010-01-01 Kenya   Discount Stickers Kaggle Tiers       16       2010 Jan\n",
       "3 48 2010-01-01 Kenya   Discount Stickers Kerneler            8       2010 Jan\n",
       "4 49 2010-01-01 Kenya   Discount Stickers Kerneler Dark Mode  9       2010 Jan\n",
       "5 50 2010-01-01 Kenya   Stickers for Less Holographic Goose   5       2010 Jan\n",
       "6 51 2010-01-01 Kenya   Stickers for Less Kaggle             40       2010 Jan\n",
       "7 52 2010-01-01 Kenya   Stickers for Less Kaggle Tiers       32       2010 Jan\n",
       "8 53 2010-01-01 Kenya   Stickers for Less Kerneler           17       2010 Jan\n",
       "  day wkday\n",
       "1 1   Fri  \n",
       "2 1   Fri  \n",
       "3 1   Fri  \n",
       "4 1   Fri  \n",
       "5 1   Fri  \n",
       "6 1   Fri  \n",
       "7 1   Fri  \n",
       "8 1   Fri  "
      ]
     },
     "metadata": {},
     "output_type": "display_data"
    }
   ],
   "source": [
    "sum(is.na(kenya))\n",
    "head(kenya, 8)"
   ]
  },
  {
   "cell_type": "markdown",
   "id": "96bb38ea-f9d3-4398-98af-128b19f8315c",
   "metadata": {},
   "source": [
    "# <font color = yellow> Kenya: NA breakout by stores"
   ]
  },
  {
   "cell_type": "code",
   "execution_count": 31,
   "id": "6f81bd00-f12b-4400-b332-c764e6520960",
   "metadata": {},
   "outputs": [
    {
     "data": {
      "text/html": [
       "<style>\n",
       ".list-inline {list-style: none; margin:0; padding: 0}\n",
       ".list-inline>li {display: inline-block}\n",
       ".list-inline>li:not(:last-child)::after {content: \"\\00b7\"; padding: 0 .5ex}\n",
       "</style>\n",
       "<ol class=list-inline><li>1358</li><li>10</li></ol>\n"
      ],
      "text/latex": [
       "\\begin{enumerate*}\n",
       "\\item 1358\n",
       "\\item 10\n",
       "\\end{enumerate*}\n"
      ],
      "text/markdown": [
       "1. 1358\n",
       "2. 10\n",
       "\n",
       "\n"
      ],
      "text/plain": [
       "[1] 1358   10"
      ]
     },
     "metadata": {},
     "output_type": "display_data"
    },
    {
     "data": {
      "text/html": [
       "<style>\n",
       ".list-inline {list-style: none; margin:0; padding: 0}\n",
       ".list-inline>li {display: inline-block}\n",
       ".list-inline>li:not(:last-child)::after {content: \"\\00b7\"; padding: 0 .5ex}\n",
       "</style>\n",
       "<ol class=list-inline><li>646</li><li>10</li></ol>\n"
      ],
      "text/latex": [
       "\\begin{enumerate*}\n",
       "\\item 646\n",
       "\\item 10\n",
       "\\end{enumerate*}\n"
      ],
      "text/markdown": [
       "1. 646\n",
       "2. 10\n",
       "\n",
       "\n"
      ],
      "text/plain": [
       "[1] 646  10"
      ]
     },
     "metadata": {},
     "output_type": "display_data"
    },
    {
     "data": {
      "text/html": [
       "<style>\n",
       ".list-inline {list-style: none; margin:0; padding: 0}\n",
       ".list-inline>li {display: inline-block}\n",
       ".list-inline>li:not(:last-child)::after {content: \"\\00b7\"; padding: 0 .5ex}\n",
       "</style>\n",
       "<ol class=list-inline><li>64</li><li>10</li></ol>\n"
      ],
      "text/latex": [
       "\\begin{enumerate*}\n",
       "\\item 64\n",
       "\\item 10\n",
       "\\end{enumerate*}\n"
      ],
      "text/markdown": [
       "1. 64\n",
       "2. 10\n",
       "\n",
       "\n"
      ],
      "text/plain": [
       "[1] 64 10"
      ]
     },
     "metadata": {},
     "output_type": "display_data"
    },
    {
     "name": "stdout",
     "output_type": "stream",
     "text": [
      "\n",
      " Kenya: total NA in (3) stores are:  2068  across 7 years \n",
      "\n"
     ]
    },
    {
     "data": {
      "text/html": [
       "2068"
      ],
      "text/latex": [
       "2068"
      ],
      "text/markdown": [
       "2068"
      ],
      "text/plain": [
       "[1] 2068"
      ]
     },
     "metadata": {},
     "output_type": "display_data"
    },
    {
     "data": {
      "text/html": [
       "<table class=\"dataframe\">\n",
       "<caption>A tibble: 5 × 10</caption>\n",
       "<thead>\n",
       "\t<tr><th scope=col>id</th><th scope=col>date</th><th scope=col>country</th><th scope=col>store</th><th scope=col>product</th><th scope=col>num_sold</th><th scope=col>year</th><th scope=col>mo</th><th scope=col>day</th><th scope=col>wkday</th></tr>\n",
       "\t<tr><th scope=col>&lt;dbl&gt;</th><th scope=col>&lt;date&gt;</th><th scope=col>&lt;chr&gt;</th><th scope=col>&lt;chr&gt;</th><th scope=col>&lt;chr&gt;</th><th scope=col>&lt;dbl&gt;</th><th scope=col>&lt;dbl&gt;</th><th scope=col>&lt;ord&gt;</th><th scope=col>&lt;int&gt;</th><th scope=col>&lt;ord&gt;</th></tr>\n",
       "</thead>\n",
       "<tbody>\n",
       "\t<tr><td>46</td><td>2010-01-01</td><td>Kenya</td><td>Discount Stickers</td><td>Kaggle            </td><td>20</td><td>2010</td><td>Jan</td><td>1</td><td>Fri</td></tr>\n",
       "\t<tr><td>47</td><td>2010-01-01</td><td>Kenya</td><td>Discount Stickers</td><td>Kaggle Tiers      </td><td>16</td><td>2010</td><td>Jan</td><td>1</td><td>Fri</td></tr>\n",
       "\t<tr><td>48</td><td>2010-01-01</td><td>Kenya</td><td>Discount Stickers</td><td>Kerneler          </td><td> 8</td><td>2010</td><td>Jan</td><td>1</td><td>Fri</td></tr>\n",
       "\t<tr><td>49</td><td>2010-01-01</td><td>Kenya</td><td>Discount Stickers</td><td>Kerneler Dark Mode</td><td> 9</td><td>2010</td><td>Jan</td><td>1</td><td>Fri</td></tr>\n",
       "\t<tr><td>50</td><td>2010-01-01</td><td>Kenya</td><td>Stickers for Less</td><td>Holographic Goose </td><td> 5</td><td>2010</td><td>Jan</td><td>1</td><td>Fri</td></tr>\n",
       "</tbody>\n",
       "</table>\n"
      ],
      "text/latex": [
       "A tibble: 5 × 10\n",
       "\\begin{tabular}{llllllllll}\n",
       " id & date & country & store & product & num\\_sold & year & mo & day & wkday\\\\\n",
       " <dbl> & <date> & <chr> & <chr> & <chr> & <dbl> & <dbl> & <ord> & <int> & <ord>\\\\\n",
       "\\hline\n",
       "\t 46 & 2010-01-01 & Kenya & Discount Stickers & Kaggle             & 20 & 2010 & Jan & 1 & Fri\\\\\n",
       "\t 47 & 2010-01-01 & Kenya & Discount Stickers & Kaggle Tiers       & 16 & 2010 & Jan & 1 & Fri\\\\\n",
       "\t 48 & 2010-01-01 & Kenya & Discount Stickers & Kerneler           &  8 & 2010 & Jan & 1 & Fri\\\\\n",
       "\t 49 & 2010-01-01 & Kenya & Discount Stickers & Kerneler Dark Mode &  9 & 2010 & Jan & 1 & Fri\\\\\n",
       "\t 50 & 2010-01-01 & Kenya & Stickers for Less & Holographic Goose  &  5 & 2010 & Jan & 1 & Fri\\\\\n",
       "\\end{tabular}\n"
      ],
      "text/markdown": [
       "\n",
       "A tibble: 5 × 10\n",
       "\n",
       "| id &lt;dbl&gt; | date &lt;date&gt; | country &lt;chr&gt; | store &lt;chr&gt; | product &lt;chr&gt; | num_sold &lt;dbl&gt; | year &lt;dbl&gt; | mo &lt;ord&gt; | day &lt;int&gt; | wkday &lt;ord&gt; |\n",
       "|---|---|---|---|---|---|---|---|---|---|\n",
       "| 46 | 2010-01-01 | Kenya | Discount Stickers | Kaggle             | 20 | 2010 | Jan | 1 | Fri |\n",
       "| 47 | 2010-01-01 | Kenya | Discount Stickers | Kaggle Tiers       | 16 | 2010 | Jan | 1 | Fri |\n",
       "| 48 | 2010-01-01 | Kenya | Discount Stickers | Kerneler           |  8 | 2010 | Jan | 1 | Fri |\n",
       "| 49 | 2010-01-01 | Kenya | Discount Stickers | Kerneler Dark Mode |  9 | 2010 | Jan | 1 | Fri |\n",
       "| 50 | 2010-01-01 | Kenya | Stickers for Less | Holographic Goose  |  5 | 2010 | Jan | 1 | Fri |\n",
       "\n"
      ],
      "text/plain": [
       "  id date       country store             product            num_sold year mo \n",
       "1 46 2010-01-01 Kenya   Discount Stickers Kaggle             20       2010 Jan\n",
       "2 47 2010-01-01 Kenya   Discount Stickers Kaggle Tiers       16       2010 Jan\n",
       "3 48 2010-01-01 Kenya   Discount Stickers Kerneler            8       2010 Jan\n",
       "4 49 2010-01-01 Kenya   Discount Stickers Kerneler Dark Mode  9       2010 Jan\n",
       "5 50 2010-01-01 Kenya   Stickers for Less Holographic Goose   5       2010 Jan\n",
       "  day wkday\n",
       "1 1   Fri  \n",
       "2 1   Fri  \n",
       "3 1   Fri  \n",
       "4 1   Fri  \n",
       "5 1   Fri  "
      ]
     },
     "metadata": {},
     "output_type": "display_data"
    }
   ],
   "source": [
    "dim(kenya %>% filter(store == \"Stickers for Less\" & is.na(num_sold)))\n",
    "dim(kenya %>% filter(store == \"Premium Sticker Mart\" & is.na(num_sold)))\n",
    "dim(kenya %>% filter(store == \"Discount Stickers\" & is.na(num_sold)))    # Rather insignificant sales\n",
    "cat(\"\\n Kenya: total NA in (3) stores are: \", 1358+646+64, \" across 7 years \\n\\n\")   # kenya NAs\n",
    "1358+646+64\n",
    "kenya[1:5, ]"
   ]
  },
  {
   "cell_type": "code",
   "execution_count": 32,
   "id": "31d693e1-3868-4ed2-a725-206d2116d711",
   "metadata": {},
   "outputs": [],
   "source": [
    " #  Pay close attn:  It appears the 1358 ??? Impute w/what values ???"
   ]
  },
  {
   "cell_type": "markdown",
   "id": "38e31ce0-a660-4cc9-97d7-26a7778f5703",
   "metadata": {},
   "source": [
    "### <font color = lime> 1358 NA:: ...Stickers for Less"
   ]
  },
  {
   "cell_type": "code",
   "execution_count": 33,
   "id": "de0ffb12-264b-44a7-b904-e5536a52708a",
   "metadata": {},
   "outputs": [
    {
     "data": {
      "text/html": [
       "<style>\n",
       ".list-inline {list-style: none; margin:0; padding: 0}\n",
       ".list-inline>li {display: inline-block}\n",
       ".list-inline>li:not(:last-child)::after {content: \"\\00b7\"; padding: 0 .5ex}\n",
       "</style>\n",
       "<ol class=list-inline><li>1358</li><li>10</li></ol>\n"
      ],
      "text/latex": [
       "\\begin{enumerate*}\n",
       "\\item 1358\n",
       "\\item 10\n",
       "\\end{enumerate*}\n"
      ],
      "text/markdown": [
       "1. 1358\n",
       "2. 10\n",
       "\n",
       "\n"
      ],
      "text/plain": [
       "[1] 1358   10"
      ]
     },
     "metadata": {},
     "output_type": "display_data"
    },
    {
     "data": {
      "text/html": [
       "<style>\n",
       ".list-inline {list-style: none; margin:0; padding: 0}\n",
       ".list-inline>li {display: inline-block}\n",
       ".list-inline>li:not(:last-child)::after {content: \"\\00b7\"; padding: 0 .5ex}\n",
       "</style>\n",
       "<ol class=list-inline><li>343</li><li>10</li></ol>\n"
      ],
      "text/latex": [
       "\\begin{enumerate*}\n",
       "\\item 343\n",
       "\\item 10\n",
       "\\end{enumerate*}\n"
      ],
      "text/markdown": [
       "1. 343\n",
       "2. 10\n",
       "\n",
       "\n"
      ],
      "text/plain": [
       "[1] 343  10"
      ]
     },
     "metadata": {},
     "output_type": "display_data"
    },
    {
     "data": {
      "text/html": [
       "<style>\n",
       ".list-inline {list-style: none; margin:0; padding: 0}\n",
       ".list-inline>li {display: inline-block}\n",
       ".list-inline>li:not(:last-child)::after {content: \"\\00b7\"; padding: 0 .5ex}\n",
       "</style>\n",
       "<ol class=list-inline><li>331</li><li>10</li></ol>\n"
      ],
      "text/latex": [
       "\\begin{enumerate*}\n",
       "\\item 331\n",
       "\\item 10\n",
       "\\end{enumerate*}\n"
      ],
      "text/markdown": [
       "1. 331\n",
       "2. 10\n",
       "\n",
       "\n"
      ],
      "text/plain": [
       "[1] 331  10"
      ]
     },
     "metadata": {},
     "output_type": "display_data"
    },
    {
     "data": {
      "text/html": [
       "<style>\n",
       ".list-inline {list-style: none; margin:0; padding: 0}\n",
       ".list-inline>li {display: inline-block}\n",
       ".list-inline>li:not(:last-child)::after {content: \"\\00b7\"; padding: 0 .5ex}\n",
       "</style>\n",
       "<ol class=list-inline><li>265</li><li>10</li></ol>\n"
      ],
      "text/latex": [
       "\\begin{enumerate*}\n",
       "\\item 265\n",
       "\\item 10\n",
       "\\end{enumerate*}\n"
      ],
      "text/markdown": [
       "1. 265\n",
       "2. 10\n",
       "\n",
       "\n"
      ],
      "text/plain": [
       "[1] 265  10"
      ]
     },
     "metadata": {},
     "output_type": "display_data"
    },
    {
     "data": {
      "text/html": [
       "<style>\n",
       ".list-inline {list-style: none; margin:0; padding: 0}\n",
       ".list-inline>li {display: inline-block}\n",
       ".list-inline>li:not(:last-child)::after {content: \"\\00b7\"; padding: 0 .5ex}\n",
       "</style>\n",
       "<ol class=list-inline><li>200</li><li>10</li></ol>\n"
      ],
      "text/latex": [
       "\\begin{enumerate*}\n",
       "\\item 200\n",
       "\\item 10\n",
       "\\end{enumerate*}\n"
      ],
      "text/markdown": [
       "1. 200\n",
       "2. 10\n",
       "\n",
       "\n"
      ],
      "text/plain": [
       "[1] 200  10"
      ]
     },
     "metadata": {},
     "output_type": "display_data"
    },
    {
     "data": {
      "text/html": [
       "<style>\n",
       ".list-inline {list-style: none; margin:0; padding: 0}\n",
       ".list-inline>li {display: inline-block}\n",
       ".list-inline>li:not(:last-child)::after {content: \"\\00b7\"; padding: 0 .5ex}\n",
       "</style>\n",
       "<ol class=list-inline><li>113</li><li>10</li></ol>\n"
      ],
      "text/latex": [
       "\\begin{enumerate*}\n",
       "\\item 113\n",
       "\\item 10\n",
       "\\end{enumerate*}\n"
      ],
      "text/markdown": [
       "1. 113\n",
       "2. 10\n",
       "\n",
       "\n"
      ],
      "text/plain": [
       "[1] 113  10"
      ]
     },
     "metadata": {},
     "output_type": "display_data"
    },
    {
     "data": {
      "text/html": [
       "<style>\n",
       ".list-inline {list-style: none; margin:0; padding: 0}\n",
       ".list-inline>li {display: inline-block}\n",
       ".list-inline>li:not(:last-child)::after {content: \"\\00b7\"; padding: 0 .5ex}\n",
       "</style>\n",
       "<ol class=list-inline><li>78</li><li>10</li></ol>\n"
      ],
      "text/latex": [
       "\\begin{enumerate*}\n",
       "\\item 78\n",
       "\\item 10\n",
       "\\end{enumerate*}\n"
      ],
      "text/markdown": [
       "1. 78\n",
       "2. 10\n",
       "\n",
       "\n"
      ],
      "text/plain": [
       "[1] 78 10"
      ]
     },
     "metadata": {},
     "output_type": "display_data"
    },
    {
     "data": {
      "text/html": [
       "<style>\n",
       ".list-inline {list-style: none; margin:0; padding: 0}\n",
       ".list-inline>li {display: inline-block}\n",
       ".list-inline>li:not(:last-child)::after {content: \"\\00b7\"; padding: 0 .5ex}\n",
       "</style>\n",
       "<ol class=list-inline><li>28</li><li>10</li></ol>\n"
      ],
      "text/latex": [
       "\\begin{enumerate*}\n",
       "\\item 28\n",
       "\\item 10\n",
       "\\end{enumerate*}\n"
      ],
      "text/markdown": [
       "1. 28\n",
       "2. 10\n",
       "\n",
       "\n"
      ],
      "text/plain": [
       "[1] 28 10"
      ]
     },
     "metadata": {},
     "output_type": "display_data"
    },
    {
     "data": {
      "text/html": [
       "1358"
      ],
      "text/latex": [
       "1358"
      ],
      "text/markdown": [
       "1358"
      ],
      "text/plain": [
       "[1] 1358"
      ]
     },
     "metadata": {},
     "output_type": "display_data"
    }
   ],
   "source": [
    "# Deep dive moving up from block below \n",
    "dim(kenya %>% filter( is.na(num_sold) & product == \"Holographic Goose\" & store == \"Stickers for Less\"))   # 1358 NA All yr /  1099 sold All yrs\n",
    "dim(kenya %>% filter( is.na(num_sold) & product == \"Holographic Goose\" & store == \"Stickers for Less\" & year == \"2010\"))   #  343 NA / only 22 sold\n",
    "dim(kenya %>% filter( is.na(num_sold) & product == \"Holographic Goose\" & store == \"Stickers for Less\" & year == \"2011\"))    # 331 NA / 34 sold\n",
    "dim(kenya %>% filter( is.na(num_sold) & product == \"Holographic Goose\" & store == \"Stickers for Less\" & year == \"2012\"))    # 265 NA w/ 101 sold\n",
    "dim(kenya %>% filter( is.na(num_sold) & product == \"Holographic Goose\" & store == \"Stickers for Less\" & year == \"2013\"))    # 200 NA w/ 165 sold\n",
    "dim(kenya %>% filter( is.na(num_sold) & product == \"Holographic Goose\" & store == \"Stickers for Less\" & year == \"2014\"))    # 113 NA w/ 252 sold\n",
    "dim(kenya %>% filter( is.na(num_sold) & product == \"Holographic Goose\" & store == \"Stickers for Less\" & year == \"2015\"))    # 78 NA w/ 287 sold\n",
    "dim(kenya %>% filter( is.na(num_sold) & product == \"Holographic Goose\" & store == \"Stickers for Less\" & year == \"2016\"))     # 28 NA w/ 338 sold\n",
    "\n",
    "Sticker_for_Less_NA <- c(343+331+265+200+113+78+28)\n",
    "Sticker_for_Less_NA\n",
    "\n",
    "kenya_StickerforLess <- data.frame(NAs = c(343,331,265,200,113,78,28), Sales = c(22,34,101,165,525,287,338), Yrs = c(2010,2011,2012,2013,2014,2015,2016) )"
   ]
  },
  {
   "cell_type": "code",
   "execution_count": 34,
   "id": "30529d50-743d-48fb-8237-491c4079ff1c",
   "metadata": {},
   "outputs": [
    {
     "data": {
      "text/html": [
       "<table class=\"dataframe\">\n",
       "<caption>A data.frame: 7 × 3</caption>\n",
       "<thead>\n",
       "\t<tr><th scope=col>NAs</th><th scope=col>Sales</th><th scope=col>Yrs</th></tr>\n",
       "\t<tr><th scope=col>&lt;dbl&gt;</th><th scope=col>&lt;dbl&gt;</th><th scope=col>&lt;dbl&gt;</th></tr>\n",
       "</thead>\n",
       "<tbody>\n",
       "\t<tr><td>343</td><td> 22</td><td>2010</td></tr>\n",
       "\t<tr><td>331</td><td> 34</td><td>2011</td></tr>\n",
       "\t<tr><td>265</td><td>101</td><td>2012</td></tr>\n",
       "\t<tr><td>200</td><td>165</td><td>2013</td></tr>\n",
       "\t<tr><td>113</td><td>525</td><td>2014</td></tr>\n",
       "\t<tr><td> 78</td><td>287</td><td>2015</td></tr>\n",
       "\t<tr><td> 28</td><td>338</td><td>2016</td></tr>\n",
       "</tbody>\n",
       "</table>\n"
      ],
      "text/latex": [
       "A data.frame: 7 × 3\n",
       "\\begin{tabular}{lll}\n",
       " NAs & Sales & Yrs\\\\\n",
       " <dbl> & <dbl> & <dbl>\\\\\n",
       "\\hline\n",
       "\t 343 &  22 & 2010\\\\\n",
       "\t 331 &  34 & 2011\\\\\n",
       "\t 265 & 101 & 2012\\\\\n",
       "\t 200 & 165 & 2013\\\\\n",
       "\t 113 & 525 & 2014\\\\\n",
       "\t  78 & 287 & 2015\\\\\n",
       "\t  28 & 338 & 2016\\\\\n",
       "\\end{tabular}\n"
      ],
      "text/markdown": [
       "\n",
       "A data.frame: 7 × 3\n",
       "\n",
       "| NAs &lt;dbl&gt; | Sales &lt;dbl&gt; | Yrs &lt;dbl&gt; |\n",
       "|---|---|---|\n",
       "| 343 |  22 | 2010 |\n",
       "| 331 |  34 | 2011 |\n",
       "| 265 | 101 | 2012 |\n",
       "| 200 | 165 | 2013 |\n",
       "| 113 | 525 | 2014 |\n",
       "|  78 | 287 | 2015 |\n",
       "|  28 | 338 | 2016 |\n",
       "\n"
      ],
      "text/plain": [
       "  NAs Sales Yrs \n",
       "1 343  22   2010\n",
       "2 331  34   2011\n",
       "3 265 101   2012\n",
       "4 200 165   2013\n",
       "5 113 525   2014\n",
       "6  78 287   2015\n",
       "7  28 338   2016"
      ]
     },
     "metadata": {},
     "output_type": "display_data"
    },
    {
     "name": "stderr",
     "output_type": "stream",
     "text": [
      "Warning message:\n",
      "\"package 'tidyr' was built under R version 4.3.3\"\n"
     ]
    },
    {
     "name": "stdout",
     "output_type": "stream",
     "text": [
      "\u001b[90m# A tibble: 14 × 3\u001b[39m\n",
      "     Yrs Type  Count\n",
      "   \u001b[3m\u001b[90m<dbl>\u001b[39m\u001b[23m \u001b[3m\u001b[90m<chr>\u001b[39m\u001b[23m \u001b[3m\u001b[90m<dbl>\u001b[39m\u001b[23m\n",
      "\u001b[90m 1\u001b[39m  \u001b[4m2\u001b[24m010 NAs     343\n",
      "\u001b[90m 2\u001b[39m  \u001b[4m2\u001b[24m010 Sales    22\n",
      "\u001b[90m 3\u001b[39m  \u001b[4m2\u001b[24m011 NAs     331\n",
      "\u001b[90m 4\u001b[39m  \u001b[4m2\u001b[24m011 Sales    34\n",
      "\u001b[90m 5\u001b[39m  \u001b[4m2\u001b[24m012 NAs     265\n",
      "\u001b[90m 6\u001b[39m  \u001b[4m2\u001b[24m012 Sales   101\n",
      "\u001b[90m 7\u001b[39m  \u001b[4m2\u001b[24m013 NAs     200\n",
      "\u001b[90m 8\u001b[39m  \u001b[4m2\u001b[24m013 Sales   165\n",
      "\u001b[90m 9\u001b[39m  \u001b[4m2\u001b[24m014 NAs     113\n",
      "\u001b[90m10\u001b[39m  \u001b[4m2\u001b[24m014 Sales   525\n",
      "\u001b[90m11\u001b[39m  \u001b[4m2\u001b[24m015 NAs      78\n",
      "\u001b[90m12\u001b[39m  \u001b[4m2\u001b[24m015 Sales   287\n",
      "\u001b[90m13\u001b[39m  \u001b[4m2\u001b[24m016 NAs      28\n",
      "\u001b[90m14\u001b[39m  \u001b[4m2\u001b[24m016 Sales   338\n"
     ]
    },
    {
     "name": "stderr",
     "output_type": "stream",
     "text": [
      "Warning message:\n",
      "\"\u001b[1m\u001b[22mUsing `size` aesthetic for lines was deprecated in\n",
      "ggplot2 3.4.0.\n",
      "\u001b[36mℹ\u001b[39m Please use `linewidth` instead.\"\n"
     ]
    },
    {
     "data": {
      "image/png": "[encoded data removed]",
      "text/plain": [
       "plot without title"
      ]
     },
     "metadata": {
      "image/png": {
       "height": 420,
       "width": 420
      }
     },
     "output_type": "display_data"
    }
   ],
   "source": [
    "kenya_StickerforLess \n",
    "\n",
    "library(tidyr)\n",
    "\n",
    "# Reshape data to long format\n",
    "data_long <- kenya_StickerforLess  %>%\n",
    "  pivot_longer(cols = c(NAs, Sales), names_to = \"Type\", values_to = \"Count\")\n",
    "\n",
    "# Display the reshaped data (optional)\n",
    "print(data_long)\n",
    "\n",
    "# Create the plot\n",
    "ggplot(data_long, aes(x = Yrs, y = Count, color = Type, group = Type)) +\n",
    "  geom_line(size = 1) +\n",
    "  geom_point(size = 2) +\n",
    "  labs(title = \"NA Counts and Sales Over Years\",\n",
    "       subtitle = \"Keny: Stickers for Less/Holographic Goose\",\n",
    "       x = \"Year\",\n",
    "       y = \"Count\",\n",
    "       color = \"Legend\") +\n",
    "  theme_minimal()\n"
   ]
  },
  {
   "cell_type": "markdown",
   "id": "12f6c5cb-ae75-4e7b-90ed-9338657ab4b1",
   "metadata": {},
   "source": [
    "### <font color = lime> group-by / date example:"
   ]
  },
  {
   "cell_type": "code",
   "execution_count": 35,
   "id": "bc304bf9-983c-4d5b-a23d-cc78a787d77e",
   "metadata": {},
   "outputs": [
    {
     "data": {
      "text/html": [
       "<table class=\"dataframe\">\n",
       "<caption>A tibble: 1 × 1</caption>\n",
       "<thead>\n",
       "\t<tr><th scope=col>sales</th></tr>\n",
       "\t<tr><th scope=col>&lt;dbl&gt;</th></tr>\n",
       "</thead>\n",
       "<tbody>\n",
       "\t<tr><td>30</td></tr>\n",
       "</tbody>\n",
       "</table>\n"
      ],
      "text/latex": [
       "A tibble: 1 × 1\n",
       "\\begin{tabular}{l}\n",
       " sales\\\\\n",
       " <dbl>\\\\\n",
       "\\hline\n",
       "\t 30\\\\\n",
       "\\end{tabular}\n"
      ],
      "text/markdown": [
       "\n",
       "A tibble: 1 × 1\n",
       "\n",
       "| sales &lt;dbl&gt; |\n",
       "|---|\n",
       "| 30 |\n",
       "\n"
      ],
      "text/plain": [
       "  sales\n",
       "1 30   "
      ]
     },
     "metadata": {},
     "output_type": "display_data"
    },
    {
     "data": {
      "text/html": [
       "<table class=\"dataframe\">\n",
       "<caption>A tibble: 3 × 10</caption>\n",
       "<thead>\n",
       "\t<tr><th scope=col>id</th><th scope=col>date</th><th scope=col>country</th><th scope=col>store</th><th scope=col>product</th><th scope=col>num_sold</th><th scope=col>year</th><th scope=col>mo</th><th scope=col>day</th><th scope=col>wkday</th></tr>\n",
       "\t<tr><th scope=col>&lt;dbl&gt;</th><th scope=col>&lt;date&gt;</th><th scope=col>&lt;chr&gt;</th><th scope=col>&lt;chr&gt;</th><th scope=col>&lt;chr&gt;</th><th scope=col>&lt;dbl&gt;</th><th scope=col>&lt;dbl&gt;</th><th scope=col>&lt;ord&gt;</th><th scope=col>&lt;int&gt;</th><th scope=col>&lt;ord&gt;</th></tr>\n",
       "</thead>\n",
       "<tbody>\n",
       "\t<tr><td> 50</td><td>2010-01-01</td><td>Kenya</td><td>Stickers for Less</td><td>Holographic Goose</td><td>5</td><td>2010</td><td>Jan</td><td>1</td><td>Fri</td></tr>\n",
       "\t<tr><td>140</td><td>2010-01-02</td><td>Kenya</td><td>Stickers for Less</td><td>Holographic Goose</td><td>5</td><td>2010</td><td>Jan</td><td>2</td><td>Sat</td></tr>\n",
       "\t<tr><td>230</td><td>2010-01-03</td><td>Kenya</td><td>Stickers for Less</td><td>Holographic Goose</td><td>5</td><td>2010</td><td>Jan</td><td>3</td><td>Sun</td></tr>\n",
       "</tbody>\n",
       "</table>\n"
      ],
      "text/latex": [
       "A tibble: 3 × 10\n",
       "\\begin{tabular}{llllllllll}\n",
       " id & date & country & store & product & num\\_sold & year & mo & day & wkday\\\\\n",
       " <dbl> & <date> & <chr> & <chr> & <chr> & <dbl> & <dbl> & <ord> & <int> & <ord>\\\\\n",
       "\\hline\n",
       "\t  50 & 2010-01-01 & Kenya & Stickers for Less & Holographic Goose & 5 & 2010 & Jan & 1 & Fri\\\\\n",
       "\t 140 & 2010-01-02 & Kenya & Stickers for Less & Holographic Goose & 5 & 2010 & Jan & 2 & Sat\\\\\n",
       "\t 230 & 2010-01-03 & Kenya & Stickers for Less & Holographic Goose & 5 & 2010 & Jan & 3 & Sun\\\\\n",
       "\\end{tabular}\n"
      ],
      "text/markdown": [
       "\n",
       "A tibble: 3 × 10\n",
       "\n",
       "| id &lt;dbl&gt; | date &lt;date&gt; | country &lt;chr&gt; | store &lt;chr&gt; | product &lt;chr&gt; | num_sold &lt;dbl&gt; | year &lt;dbl&gt; | mo &lt;ord&gt; | day &lt;int&gt; | wkday &lt;ord&gt; |\n",
       "|---|---|---|---|---|---|---|---|---|---|\n",
       "|  50 | 2010-01-01 | Kenya | Stickers for Less | Holographic Goose | 5 | 2010 | Jan | 1 | Fri |\n",
       "| 140 | 2010-01-02 | Kenya | Stickers for Less | Holographic Goose | 5 | 2010 | Jan | 2 | Sat |\n",
       "| 230 | 2010-01-03 | Kenya | Stickers for Less | Holographic Goose | 5 | 2010 | Jan | 3 | Sun |\n",
       "\n"
      ],
      "text/plain": [
       "  id  date       country store             product           num_sold year mo \n",
       "1  50 2010-01-01 Kenya   Stickers for Less Holographic Goose 5        2010 Jan\n",
       "2 140 2010-01-02 Kenya   Stickers for Less Holographic Goose 5        2010 Jan\n",
       "3 230 2010-01-03 Kenya   Stickers for Less Holographic Goose 5        2010 Jan\n",
       "  day wkday\n",
       "1 1   Fri  \n",
       "2 2   Sat  \n",
       "3 3   Sun  "
      ]
     },
     "metadata": {},
     "output_type": "display_data"
    }
   ],
   "source": [
    "test_sales <- kenya %>% filter( !is.na(num_sold) & product == \"Holographic Goose\" & store == \"Stickers for Less\" & year == \"2010\")\n",
    "test_sales %>% filter(mo == \"Jan\") %>% summarize(sales = sum(num_sold))\n",
    "head(test_sales,3)"
   ]
  },
  {
   "cell_type": "code",
   "execution_count": 36,
   "id": "09104f14-1f1c-42f1-84c1-5d47aadc1b81",
   "metadata": {},
   "outputs": [
    {
     "name": "stdout",
     "output_type": "stream",
     "text": [
      "\u001b[90m# A tibble: 5 × 2\u001b[39m\n",
      "  month      total_sales\n",
      "  \u001b[3m\u001b[90m<date>\u001b[39m\u001b[23m           \u001b[3m\u001b[90m<dbl>\u001b[39m\u001b[23m\n",
      "\u001b[90m1\u001b[39m 2010-01-01          30\n",
      "\u001b[90m2\u001b[39m 2010-02-01           5\n",
      "\u001b[90m3\u001b[39m 2010-10-01           5\n",
      "\u001b[90m4\u001b[39m 2010-11-01          20\n",
      "\u001b[90m5\u001b[39m 2010-12-01          51\n"
     ]
    },
    {
     "data": {
      "text/html": [
       "111"
      ],
      "text/latex": [
       "111"
      ],
      "text/markdown": [
       "111"
      ],
      "text/plain": [
       "[1] 111"
      ]
     },
     "metadata": {},
     "output_type": "display_data"
    }
   ],
   "source": [
    "# Assuming your dataframe is named 'df'\n",
    "# Group by month and summarize total sales for each month\n",
    "monthly_data <- test_sales %>%\n",
    "  mutate(month = floor_date(date, \"month\")) %>%\n",
    "  group_by(month) %>%\n",
    "  summarise(total_sales = sum(num_sold, na.rm = TRUE)) \n",
    "\n",
    "# Display the monthly data\n",
    "print(monthly_data)\n",
    "sum(monthly_data$total_sales)"
   ]
  },
  {
   "cell_type": "code",
   "execution_count": 37,
   "id": "d892223b-795f-4ee7-9961-02252289be39",
   "metadata": {},
   "outputs": [
    {
     "data": {
      "text/html": [
       "<table class=\"dataframe\">\n",
       "<caption>A data.frame: 7 × 3</caption>\n",
       "<thead>\n",
       "\t<tr><th scope=col>NAs</th><th scope=col>Sales</th><th scope=col>Yrs</th></tr>\n",
       "\t<tr><th scope=col>&lt;dbl&gt;</th><th scope=col>&lt;dbl&gt;</th><th scope=col>&lt;dbl&gt;</th></tr>\n",
       "</thead>\n",
       "<tbody>\n",
       "\t<tr><td>343</td><td> 22</td><td>2010</td></tr>\n",
       "\t<tr><td>331</td><td> 34</td><td>2011</td></tr>\n",
       "\t<tr><td>265</td><td>101</td><td>2012</td></tr>\n",
       "\t<tr><td>200</td><td>165</td><td>2013</td></tr>\n",
       "\t<tr><td>113</td><td>525</td><td>2014</td></tr>\n",
       "\t<tr><td> 78</td><td>287</td><td>2015</td></tr>\n",
       "\t<tr><td> 28</td><td>338</td><td>2016</td></tr>\n",
       "</tbody>\n",
       "</table>\n"
      ],
      "text/latex": [
       "A data.frame: 7 × 3\n",
       "\\begin{tabular}{lll}\n",
       " NAs & Sales & Yrs\\\\\n",
       " <dbl> & <dbl> & <dbl>\\\\\n",
       "\\hline\n",
       "\t 343 &  22 & 2010\\\\\n",
       "\t 331 &  34 & 2011\\\\\n",
       "\t 265 & 101 & 2012\\\\\n",
       "\t 200 & 165 & 2013\\\\\n",
       "\t 113 & 525 & 2014\\\\\n",
       "\t  78 & 287 & 2015\\\\\n",
       "\t  28 & 338 & 2016\\\\\n",
       "\\end{tabular}\n"
      ],
      "text/markdown": [
       "\n",
       "A data.frame: 7 × 3\n",
       "\n",
       "| NAs &lt;dbl&gt; | Sales &lt;dbl&gt; | Yrs &lt;dbl&gt; |\n",
       "|---|---|---|\n",
       "| 343 |  22 | 2010 |\n",
       "| 331 |  34 | 2011 |\n",
       "| 265 | 101 | 2012 |\n",
       "| 200 | 165 | 2013 |\n",
       "| 113 | 525 | 2014 |\n",
       "|  78 | 287 | 2015 |\n",
       "|  28 | 338 | 2016 |\n",
       "\n"
      ],
      "text/plain": [
       "  NAs Sales Yrs \n",
       "1 343  22   2010\n",
       "2 331  34   2011\n",
       "3 265 101   2012\n",
       "4 200 165   2013\n",
       "5 113 525   2014\n",
       "6  78 287   2015\n",
       "7  28 338   2016"
      ]
     },
     "metadata": {},
     "output_type": "display_data"
    }
   ],
   "source": [
    "# Holographic Goose at the Stickers for Less stores\n",
    "kenya_StickerforLess "
   ]
  },
  {
   "cell_type": "markdown",
   "id": "0a416231-f691-462d-9946-1367a33b7074",
   "metadata": {},
   "source": [
    "# <font color = lime> Kenya...||... (3) stores... || ... Holographic Goose (1) product\n",
    "\n",
    "## <font color = lime> Sticker for Less: 1358 NA  ( ????????\n",
    "## <font color = lime> Premium Sticker Mart: 646 NA (remove 290 / replace 356 )\n",
    "## <font color = lime> Discount Stickers: 64 NA   ( Remove 1 / replace 63 )"
   ]
  },
  {
   "cell_type": "code",
   "execution_count": 38,
   "id": "62068efb-0b08-4986-966a-f81923ea31c6",
   "metadata": {},
   "outputs": [
    {
     "name": "stdout",
     "output_type": "stream",
     "text": [
      "\n",
      " Sum of Kenya, all NA, current tally is :  2068 \n",
      "\n"
     ]
    },
    {
     "data": {
      "text/html": [
       "<style>\n",
       ".list-inline {list-style: none; margin:0; padding: 0}\n",
       ".list-inline>li {display: inline-block}\n",
       ".list-inline>li:not(:last-child)::after {content: \"\\00b7\"; padding: 0 .5ex}\n",
       "</style>\n",
       "<ol class=list-inline><li>1358</li><li>10</li></ol>\n"
      ],
      "text/latex": [
       "\\begin{enumerate*}\n",
       "\\item 1358\n",
       "\\item 10\n",
       "\\end{enumerate*}\n"
      ],
      "text/markdown": [
       "1. 1358\n",
       "2. 10\n",
       "\n",
       "\n"
      ],
      "text/plain": [
       "[1] 1358   10"
      ]
     },
     "metadata": {},
     "output_type": "display_data"
    },
    {
     "data": {
      "text/html": [
       "<style>\n",
       ".list-inline {list-style: none; margin:0; padding: 0}\n",
       ".list-inline>li {display: inline-block}\n",
       ".list-inline>li:not(:last-child)::after {content: \"\\00b7\"; padding: 0 .5ex}\n",
       "</style>\n",
       "<ol class=list-inline><li>0</li><li>10</li></ol>\n"
      ],
      "text/latex": [
       "\\begin{enumerate*}\n",
       "\\item 0\n",
       "\\item 10\n",
       "\\end{enumerate*}\n"
      ],
      "text/markdown": [
       "1. 0\n",
       "2. 10\n",
       "\n",
       "\n"
      ],
      "text/plain": [
       "[1]  0 10"
      ]
     },
     "metadata": {},
     "output_type": "display_data"
    },
    {
     "data": {
      "text/html": [
       "<style>\n",
       ".list-inline {list-style: none; margin:0; padding: 0}\n",
       ".list-inline>li {display: inline-block}\n",
       ".list-inline>li:not(:last-child)::after {content: \"\\00b7\"; padding: 0 .5ex}\n",
       "</style>\n",
       "<ol class=list-inline><li>646</li><li>10</li></ol>\n"
      ],
      "text/latex": [
       "\\begin{enumerate*}\n",
       "\\item 646\n",
       "\\item 10\n",
       "\\end{enumerate*}\n"
      ],
      "text/markdown": [
       "1. 646\n",
       "2. 10\n",
       "\n",
       "\n"
      ],
      "text/plain": [
       "[1] 646  10"
      ]
     },
     "metadata": {},
     "output_type": "display_data"
    },
    {
     "data": {
      "text/html": [
       "<style>\n",
       ".list-inline {list-style: none; margin:0; padding: 0}\n",
       ".list-inline>li {display: inline-block}\n",
       ".list-inline>li:not(:last-child)::after {content: \"\\00b7\"; padding: 0 .5ex}\n",
       "</style>\n",
       "<ol class=list-inline><li>64</li><li>10</li></ol>\n"
      ],
      "text/latex": [
       "\\begin{enumerate*}\n",
       "\\item 64\n",
       "\\item 10\n",
       "\\end{enumerate*}\n"
      ],
      "text/markdown": [
       "1. 64\n",
       "2. 10\n",
       "\n",
       "\n"
      ],
      "text/plain": [
       "[1] 64 10"
      ]
     },
     "metadata": {},
     "output_type": "display_data"
    },
    {
     "data": {
      "text/html": [
       "'xxxxxxxxxxxxxxxxxxxxxxxxxxxxxxxxxxxxxxxxxxxxxxxxxxxxxxxxxxxxxxxxxxxxxxxx'"
      ],
      "text/latex": [
       "'xxxxxxxxxxxxxxxxxxxxxxxxxxxxxxxxxxxxxxxxxxxxxxxxxxxxxxxxxxxxxxxxxxxxxxxx'"
      ],
      "text/markdown": [
       "'xxxxxxxxxxxxxxxxxxxxxxxxxxxxxxxxxxxxxxxxxxxxxxxxxxxxxxxxxxxxxxxxxxxxxxxx'"
      ],
      "text/plain": [
       "[1] \"xxxxxxxxxxxxxxxxxxxxxxxxxxxxxxxxxxxxxxxxxxxxxxxxxxxxxxxxxxxxxxxxxxxxxxxx\""
      ]
     },
     "metadata": {},
     "output_type": "display_data"
    },
    {
     "data": {
      "text/html": [
       "<style>\n",
       ".list-inline {list-style: none; margin:0; padding: 0}\n",
       ".list-inline>li {display: inline-block}\n",
       ".list-inline>li:not(:last-child)::after {content: \"\\00b7\"; padding: 0 .5ex}\n",
       "</style>\n",
       "<ol class=list-inline><li>63</li><li>10</li></ol>\n"
      ],
      "text/latex": [
       "\\begin{enumerate*}\n",
       "\\item 63\n",
       "\\item 10\n",
       "\\end{enumerate*}\n"
      ],
      "text/markdown": [
       "1. 63\n",
       "2. 10\n",
       "\n",
       "\n"
      ],
      "text/plain": [
       "[1] 63 10"
      ]
     },
     "metadata": {},
     "output_type": "display_data"
    },
    {
     "data": {
      "text/html": [
       "'xxxxxxxxxxxxxxxxxxxxxxxxxxxxxxxxxxxxxxxxxxxxxxxxxxxxxxxxxxxxxxxxxxxxxxxx'"
      ],
      "text/latex": [
       "'xxxxxxxxxxxxxxxxxxxxxxxxxxxxxxxxxxxxxxxxxxxxxxxxxxxxxxxxxxxxxxxxxxxxxxxx'"
      ],
      "text/markdown": [
       "'xxxxxxxxxxxxxxxxxxxxxxxxxxxxxxxxxxxxxxxxxxxxxxxxxxxxxxxxxxxxxxxxxxxxxxxx'"
      ],
      "text/plain": [
       "[1] \"xxxxxxxxxxxxxxxxxxxxxxxxxxxxxxxxxxxxxxxxxxxxxxxxxxxxxxxxxxxxxxxxxxxxxxxx\""
      ]
     },
     "metadata": {},
     "output_type": "display_data"
    },
    {
     "name": "stdout",
     "output_type": "stream",
     "text": [
      "\n",
      " Sum of Kenya, all stores, all years NA are reconcilled, 1358+646+64 =   2068 \n",
      "\n"
     ]
    },
    {
     "data": {
      "text/html": [
       "2068"
      ],
      "text/latex": [
       "2068"
      ],
      "text/markdown": [
       "2068"
      ],
      "text/plain": [
       "[1] 2068"
      ]
     },
     "metadata": {},
     "output_type": "display_data"
    }
   ],
   "source": [
    "# sum(is.na(kenya))\n",
    "cat(\"\\n Sum of Kenya, all NA, current tally is : \", sum(is.na(kenya)), \"\\n\\n\")\n",
    "\n",
    "dim(kenya %>% filter( is.na(num_sold) & product == \"Holographic Goose\" & store == \"Stickers for Less\"))   # 1358 x 10\n",
    "dim(kenya %>% filter(!is.na(num_sold) & product == \"Holographic Goose\" & store == \"Discount Stickers\"))       # 0 x 10\n",
    "dim(kenya %>% filter(is.na(num_sold) & product == \"Holographic Goose\" & store == \"Premium Sticker Mart\"))      # 646 x 10\n",
    "\n",
    "# That elusive 64 is: \n",
    "dim(kenya %>% filter(store == \"Discount Stickers\" & is.na(num_sold)))    # Rather insignificant NA sales / tf full sales , T/F impute\n",
    "target_ken_discount_stickers_kerneler <- kenya %>% filter(store == \"Discount Stickers\" & is.na(num_sold) & product ==\"Kerneler\")    # \n",
    "(\"xxxxxxxxxxxxxxxxxxxxxxxxxxxxxxxxxxxxxxxxxxxxxxxxxxxxxxxxxxxxxxxxxxxxxxxx\")\n",
    "dim(target_ken_discount_stickers_kerneler)\n",
    "(\"xxxxxxxxxxxxxxxxxxxxxxxxxxxxxxxxxxxxxxxxxxxxxxxxxxxxxxxxxxxxxxxxxxxxxxxx\")\n",
    "# 1358+646+64\n",
    "cat(\"\\n Sum of Kenya, all stores, all years NA are reconcilled, 1358+646+64 =  \", 1358+646+64, \"\\n\\n\")\n",
    "sum(is.na(kenya))"
   ]
  },
  {
   "cell_type": "markdown",
   "id": "a0308e65-c021-438c-bdfe-0ef55d074f1d",
   "metadata": {},
   "source": [
    "### <font color = lime> Kenya: Premium Sticker Mart: NA = 646 "
   ]
  },
  {
   "cell_type": "code",
   "execution_count": 39,
   "id": "83edd73a-6a60-4e53-8060-23a283c307be",
   "metadata": {},
   "outputs": [
    {
     "data": {
      "text/html": [
       "<style>\n",
       ".list-inline {list-style: none; margin:0; padding: 0}\n",
       ".list-inline>li {display: inline-block}\n",
       ".list-inline>li:not(:last-child)::after {content: \"\\00b7\"; padding: 0 .5ex}\n",
       "</style>\n",
       "<ol class=list-inline><li>646</li><li>10</li></ol>\n"
      ],
      "text/latex": [
       "\\begin{enumerate*}\n",
       "\\item 646\n",
       "\\item 10\n",
       "\\end{enumerate*}\n"
      ],
      "text/markdown": [
       "1. 646\n",
       "2. 10\n",
       "\n",
       "\n"
      ],
      "text/plain": [
       "[1] 646  10"
      ]
     },
     "metadata": {},
     "output_type": "display_data"
    },
    {
     "data": {
      "text/html": [
       "<style>\n",
       ".list-inline {list-style: none; margin:0; padding: 0}\n",
       ".list-inline>li {display: inline-block}\n",
       ".list-inline>li:not(:last-child)::after {content: \"\\00b7\"; padding: 0 .5ex}\n",
       "</style>\n",
       "<ol class=list-inline><li>88</li><li>10</li></ol>\n"
      ],
      "text/latex": [
       "\\begin{enumerate*}\n",
       "\\item 88\n",
       "\\item 10\n",
       "\\end{enumerate*}\n"
      ],
      "text/markdown": [
       "1. 88\n",
       "2. 10\n",
       "\n",
       "\n"
      ],
      "text/plain": [
       "[1] 88 10"
      ]
     },
     "metadata": {},
     "output_type": "display_data"
    },
    {
     "data": {
      "text/html": [
       "<style>\n",
       ".list-inline {list-style: none; margin:0; padding: 0}\n",
       ".list-inline>li {display: inline-block}\n",
       ".list-inline>li:not(:last-child)::after {content: \"\\00b7\"; padding: 0 .5ex}\n",
       "</style>\n",
       "<ol class=list-inline><li>148</li><li>10</li></ol>\n"
      ],
      "text/latex": [
       "\\begin{enumerate*}\n",
       "\\item 148\n",
       "\\item 10\n",
       "\\end{enumerate*}\n"
      ],
      "text/markdown": [
       "1. 148\n",
       "2. 10\n",
       "\n",
       "\n"
      ],
      "text/plain": [
       "[1] 148  10"
      ]
     },
     "metadata": {},
     "output_type": "display_data"
    },
    {
     "data": {
      "text/html": [
       "<style>\n",
       ".list-inline {list-style: none; margin:0; padding: 0}\n",
       ".list-inline>li {display: inline-block}\n",
       ".list-inline>li:not(:last-child)::after {content: \"\\00b7\"; padding: 0 .5ex}\n",
       "</style>\n",
       "<ol class=list-inline><li>274</li><li>10</li></ol>\n"
      ],
      "text/latex": [
       "\\begin{enumerate*}\n",
       "\\item 274\n",
       "\\item 10\n",
       "\\end{enumerate*}\n"
      ],
      "text/markdown": [
       "1. 274\n",
       "2. 10\n",
       "\n",
       "\n"
      ],
      "text/plain": [
       "[1] 274  10"
      ]
     },
     "metadata": {},
     "output_type": "display_data"
    },
    {
     "data": {
      "text/html": [
       "<style>\n",
       ".list-inline {list-style: none; margin:0; padding: 0}\n",
       ".list-inline>li {display: inline-block}\n",
       ".list-inline>li:not(:last-child)::after {content: \"\\00b7\"; padding: 0 .5ex}\n",
       "</style>\n",
       "<ol class=list-inline><li>317</li><li>10</li></ol>\n"
      ],
      "text/latex": [
       "\\begin{enumerate*}\n",
       "\\item 317\n",
       "\\item 10\n",
       "\\end{enumerate*}\n"
      ],
      "text/markdown": [
       "1. 317\n",
       "2. 10\n",
       "\n",
       "\n"
      ],
      "text/plain": [
       "[1] 317  10"
      ]
     },
     "metadata": {},
     "output_type": "display_data"
    },
    {
     "data": {
      "text/html": [
       "<style>\n",
       ".list-inline {list-style: none; margin:0; padding: 0}\n",
       ".list-inline>li {display: inline-block}\n",
       ".list-inline>li:not(:last-child)::after {content: \"\\00b7\"; padding: 0 .5ex}\n",
       "</style>\n",
       "<ol class=list-inline><li>355</li><li>10</li></ol>\n"
      ],
      "text/latex": [
       "\\begin{enumerate*}\n",
       "\\item 355\n",
       "\\item 10\n",
       "\\end{enumerate*}\n"
      ],
      "text/markdown": [
       "1. 355\n",
       "2. 10\n",
       "\n",
       "\n"
      ],
      "text/plain": [
       "[1] 355  10"
      ]
     },
     "metadata": {},
     "output_type": "display_data"
    },
    {
     "data": {
      "text/html": [
       "<style>\n",
       ".list-inline {list-style: none; margin:0; padding: 0}\n",
       ".list-inline>li {display: inline-block}\n",
       ".list-inline>li:not(:last-child)::after {content: \"\\00b7\"; padding: 0 .5ex}\n",
       "</style>\n",
       "<ol class=list-inline><li>363</li><li>10</li></ol>\n"
      ],
      "text/latex": [
       "\\begin{enumerate*}\n",
       "\\item 363\n",
       "\\item 10\n",
       "\\end{enumerate*}\n"
      ],
      "text/markdown": [
       "1. 363\n",
       "2. 10\n",
       "\n",
       "\n"
      ],
      "text/plain": [
       "[1] 363  10"
      ]
     },
     "metadata": {},
     "output_type": "display_data"
    },
    {
     "data": {
      "text/html": [
       "<style>\n",
       ".list-inline {list-style: none; margin:0; padding: 0}\n",
       ".list-inline>li {display: inline-block}\n",
       ".list-inline>li:not(:last-child)::after {content: \"\\00b7\"; padding: 0 .5ex}\n",
       "</style>\n",
       "<ol class=list-inline><li>366</li><li>10</li></ol>\n"
      ],
      "text/latex": [
       "\\begin{enumerate*}\n",
       "\\item 366\n",
       "\\item 10\n",
       "\\end{enumerate*}\n"
      ],
      "text/markdown": [
       "1. 366\n",
       "2. 10\n",
       "\n",
       "\n"
      ],
      "text/plain": [
       "[1] 366  10"
      ]
     },
     "metadata": {},
     "output_type": "display_data"
    },
    {
     "data": {
      "text/html": [
       "646"
      ],
      "text/latex": [
       "646"
      ],
      "text/markdown": [
       "646"
      ],
      "text/plain": [
       "[1] 646"
      ]
     },
     "metadata": {},
     "output_type": "display_data"
    },
    {
     "data": {
      "text/html": [
       "2191"
      ],
      "text/latex": [
       "2191"
      ],
      "text/markdown": [
       "2191"
      ],
      "text/plain": [
       "[1] 2191"
      ]
     },
     "metadata": {},
     "output_type": "display_data"
    }
   ],
   "source": [
    "dim(kenya %>% filter( is.na(num_sold) & product == \"Holographic Goose\" & store == \"Premium Sticker Mart\"))        # 646 NA / 1911 sold\n",
    "dim(kenya %>% filter( !is.na(num_sold) & product == \"Holographic Goose\" & store == \"Premium Sticker Mart\" & year == \"2010\"))   # 277 NA / 88\n",
    "dim(kenya %>% filter( !is.na(num_sold) & product == \"Holographic Goose\" & store == \"Premium Sticker Mart\" & year == \"2011\"))   # 217  NA / 148\n",
    "dim(kenya %>% filter( !is.na(num_sold) & product == \"Holographic Goose\" & store == \"Premium Sticker Mart\" & year == \"2012\"))   #  92 NA / 274 \n",
    "dim(kenya %>% filter( !is.na(num_sold) & product == \"Holographic Goose\" & store == \"Premium Sticker Mart\" & year == \"2013\"))   #  48 NA / 317\n",
    "dim(kenya %>% filter( !is.na(num_sold) & product == \"Holographic Goose\" & store == \"Premium Sticker Mart\" & year == \"2014\"))   #  10 NA/ 355\n",
    "dim(kenya %>% filter( !is.na(num_sold) & product == \"Holographic Goose\" & store == \"Premium Sticker Mart\" & year == \"2015\"))   #  2  NA/ 363\n",
    "dim(kenya %>% filter( !is.na(num_sold) & product == \"Holographic Goose\" & store == \"Premium Sticker Mart\" & year == \"2016\"))   #  0  NA/ 646  ???\n",
    "277+217+92+48+10+2\n",
    "88+148+274+317+355+363+646\n"
   ]
  },
  {
   "cell_type": "code",
   "execution_count": 40,
   "id": "bfe18150-eaf7-4b34-8cfc-8bbe3504a8af",
   "metadata": {},
   "outputs": [
    {
     "data": {
      "text/html": [
       "646"
      ],
      "text/latex": [
       "646"
      ],
      "text/markdown": [
       "646"
      ],
      "text/plain": [
       "[1] 646"
      ]
     },
     "metadata": {},
     "output_type": "display_data"
    },
    {
     "data": {
      "text/html": [
       "<table class=\"dataframe\">\n",
       "<caption>A data.frame: 7 × 3</caption>\n",
       "<thead>\n",
       "\t<tr><th scope=col>NAs</th><th scope=col>Sales</th><th scope=col>Yrs</th></tr>\n",
       "\t<tr><th scope=col>&lt;dbl&gt;</th><th scope=col>&lt;dbl&gt;</th><th scope=col>&lt;dbl&gt;</th></tr>\n",
       "</thead>\n",
       "<tbody>\n",
       "\t<tr><td>277</td><td>  88</td><td>2010</td></tr>\n",
       "\t<tr><td>217</td><td> 148</td><td>2011</td></tr>\n",
       "\t<tr><td> 92</td><td> 274</td><td>2012</td></tr>\n",
       "\t<tr><td> 48</td><td> 317</td><td>2013</td></tr>\n",
       "\t<tr><td> 10</td><td> 355</td><td>2014</td></tr>\n",
       "\t<tr><td>  2</td><td> 363</td><td>2015</td></tr>\n",
       "\t<tr><td>  0</td><td>1012</td><td>2016</td></tr>\n",
       "</tbody>\n",
       "</table>\n"
      ],
      "text/latex": [
       "A data.frame: 7 × 3\n",
       "\\begin{tabular}{lll}\n",
       " NAs & Sales & Yrs\\\\\n",
       " <dbl> & <dbl> & <dbl>\\\\\n",
       "\\hline\n",
       "\t 277 &   88 & 2010\\\\\n",
       "\t 217 &  148 & 2011\\\\\n",
       "\t  92 &  274 & 2012\\\\\n",
       "\t  48 &  317 & 2013\\\\\n",
       "\t  10 &  355 & 2014\\\\\n",
       "\t   2 &  363 & 2015\\\\\n",
       "\t   0 & 1012 & 2016\\\\\n",
       "\\end{tabular}\n"
      ],
      "text/markdown": [
       "\n",
       "A data.frame: 7 × 3\n",
       "\n",
       "| NAs &lt;dbl&gt; | Sales &lt;dbl&gt; | Yrs &lt;dbl&gt; |\n",
       "|---|---|---|\n",
       "| 277 |   88 | 2010 |\n",
       "| 217 |  148 | 2011 |\n",
       "|  92 |  274 | 2012 |\n",
       "|  48 |  317 | 2013 |\n",
       "|  10 |  355 | 2014 |\n",
       "|   2 |  363 | 2015 |\n",
       "|   0 | 1012 | 2016 |\n",
       "\n"
      ],
      "text/plain": [
       "  NAs Sales Yrs \n",
       "1 277   88  2010\n",
       "2 217  148  2011\n",
       "3  92  274  2012\n",
       "4  48  317  2013\n",
       "5  10  355  2014\n",
       "6   2  363  2015\n",
       "7   0 1012  2016"
      ]
     },
     "metadata": {},
     "output_type": "display_data"
    },
    {
     "name": "stdout",
     "output_type": "stream",
     "text": [
      "\u001b[90m# A tibble: 14 × 3\u001b[39m\n",
      "     Yrs Type  Count\n",
      "   \u001b[3m\u001b[90m<dbl>\u001b[39m\u001b[23m \u001b[3m\u001b[90m<chr>\u001b[39m\u001b[23m \u001b[3m\u001b[90m<dbl>\u001b[39m\u001b[23m\n",
      "\u001b[90m 1\u001b[39m  \u001b[4m2\u001b[24m010 NAs     277\n",
      "\u001b[90m 2\u001b[39m  \u001b[4m2\u001b[24m010 Sales    88\n",
      "\u001b[90m 3\u001b[39m  \u001b[4m2\u001b[24m011 NAs     217\n",
      "\u001b[90m 4\u001b[39m  \u001b[4m2\u001b[24m011 Sales   148\n",
      "\u001b[90m 5\u001b[39m  \u001b[4m2\u001b[24m012 NAs      92\n",
      "\u001b[90m 6\u001b[39m  \u001b[4m2\u001b[24m012 Sales   274\n",
      "\u001b[90m 7\u001b[39m  \u001b[4m2\u001b[24m013 NAs      48\n",
      "\u001b[90m 8\u001b[39m  \u001b[4m2\u001b[24m013 Sales   317\n",
      "\u001b[90m 9\u001b[39m  \u001b[4m2\u001b[24m014 NAs      10\n",
      "\u001b[90m10\u001b[39m  \u001b[4m2\u001b[24m014 Sales   355\n",
      "\u001b[90m11\u001b[39m  \u001b[4m2\u001b[24m015 NAs       2\n",
      "\u001b[90m12\u001b[39m  \u001b[4m2\u001b[24m015 Sales   363\n",
      "\u001b[90m13\u001b[39m  \u001b[4m2\u001b[24m016 NAs       0\n",
      "\u001b[90m14\u001b[39m  \u001b[4m2\u001b[24m016 Sales  \u001b[4m1\u001b[24m012\n"
     ]
    },
    {
     "data": {
      "image/png": "[encoded data removed]",
      "text/plain": [
       "plot without title"
      ]
     },
     "metadata": {
      "image/png": {
       "height": 420,
       "width": 420
      }
     },
     "output_type": "display_data"
    }
   ],
   "source": [
    "premium_sticker_mart <- data.frame(NAs = c(277,217,92,48,10,2,0), Sales = c(88,148,274,317,355,363,366+646), Yrs = c(2010,2011,2012,2013,2014,2015,2016) )\n",
    "sum(premium_sticker_mart$NAs)\n",
    "premium_sticker_mart\n",
    "\n",
    "# Reshape data to long format\n",
    "data_long <- premium_sticker_mart %>%\n",
    "  pivot_longer(cols = c(NAs, Sales), names_to = \"Type\", values_to = \"Count\")\n",
    "\n",
    "# Display the reshaped data (optional)\n",
    "print(data_long)\n",
    "\n",
    "# Create the plot\n",
    "psm <- ggplot(data_long, \n",
    "              aes(x = Yrs, y = Count, color = Type, group = Type)) +\n",
    "  geom_line(size = 1) +\n",
    "  geom_point(size = 2) +\n",
    "  labs(title = \"NA Counts and Sales Over Years\",\n",
    "       subtitle = \"Kenya: Premium Sticker Mart. Holographic Goose\",\n",
    "       x = \"Year\",\n",
    "       y = \"Count\",\n",
    "       color = \"Legend\") +\n",
    "  theme_minimal()\n",
    "psm"
   ]
  },
  {
   "cell_type": "markdown",
   "id": "0af0b5b0-5146-498e-be51-bfb1f0338206",
   "metadata": {},
   "source": [
    "## <font color = lime> Kenya: Discount Stickers: 63 NA (two) years"
   ]
  },
  {
   "cell_type": "code",
   "execution_count": 41,
   "id": "5a6d35b5-c3f9-49c9-9d3e-7f29b78b08ba",
   "metadata": {},
   "outputs": [
    {
     "data": {
      "text/html": [
       "<style>\n",
       ".list-inline {list-style: none; margin:0; padding: 0}\n",
       ".list-inline>li {display: inline-block}\n",
       ".list-inline>li:not(:last-child)::after {content: \"\\00b7\"; padding: 0 .5ex}\n",
       "</style>\n",
       "<ol class=list-inline><li>348</li><li>10</li></ol>\n"
      ],
      "text/latex": [
       "\\begin{enumerate*}\n",
       "\\item 348\n",
       "\\item 10\n",
       "\\end{enumerate*}\n"
      ],
      "text/markdown": [
       "1. 348\n",
       "2. 10\n",
       "\n",
       "\n"
      ],
      "text/plain": [
       "[1] 348  10"
      ]
     },
     "metadata": {},
     "output_type": "display_data"
    },
    {
     "data": {
      "text/html": [
       "<table class=\"dataframe\">\n",
       "<caption>A data.frame: 2 × 4</caption>\n",
       "<thead>\n",
       "\t<tr><th scope=col>NAs</th><th scope=col>Sold</th><th scope=col>Mean</th><th scope=col>Yr</th></tr>\n",
       "\t<tr><th scope=col>&lt;dbl&gt;</th><th scope=col>&lt;dbl&gt;</th><th scope=col>&lt;dbl&gt;</th><th scope=col>&lt;dbl&gt;</th></tr>\n",
       "</thead>\n",
       "<tbody>\n",
       "\t<tr><td>46</td><td>319</td><td>6.063</td><td>2010</td></tr>\n",
       "\t<tr><td>17</td><td>348</td><td>6.152</td><td>2011</td></tr>\n",
       "</tbody>\n",
       "</table>\n"
      ],
      "text/latex": [
       "A data.frame: 2 × 4\n",
       "\\begin{tabular}{llll}\n",
       " NAs & Sold & Mean & Yr\\\\\n",
       " <dbl> & <dbl> & <dbl> & <dbl>\\\\\n",
       "\\hline\n",
       "\t 46 & 319 & 6.063 & 2010\\\\\n",
       "\t 17 & 348 & 6.152 & 2011\\\\\n",
       "\\end{tabular}\n"
      ],
      "text/markdown": [
       "\n",
       "A data.frame: 2 × 4\n",
       "\n",
       "| NAs &lt;dbl&gt; | Sold &lt;dbl&gt; | Mean &lt;dbl&gt; | Yr &lt;dbl&gt; |\n",
       "|---|---|---|---|\n",
       "| 46 | 319 | 6.063 | 2010 |\n",
       "| 17 | 348 | 6.152 | 2011 |\n",
       "\n"
      ],
      "text/plain": [
       "  NAs Sold Mean  Yr  \n",
       "1 46  319  6.063 2010\n",
       "2 17  348  6.152 2011"
      ]
     },
     "metadata": {},
     "output_type": "display_data"
    },
    {
     "data": {
      "text/html": [
       "63"
      ],
      "text/latex": [
       "63"
      ],
      "text/markdown": [
       "63"
      ],
      "text/plain": [
       "[1] 63"
      ]
     },
     "metadata": {},
     "output_type": "display_data"
    }
   ],
   "source": [
    "# cycle through the filtered kenya with years to find the year w/ NA\n",
    "dim(kenya %>% filter(store == \"Discount Stickers\" & !is.na(num_sold) & product ==\"Kerneler\" & year == 2011))\n",
    "# dim(kenya %>% filter(store == \"Discount Stickers\" & !is.na(num_sold) & product ==\"Kerneler\" & year == 2011) )\n",
    "discount_stickers <- data.frame(NAs = c(46,17), Sold = c(319,348) , Mean = c(6.063, 6.152), Yr = c(2010,2011) )\n",
    "discount_stickers\n",
    "sum(discount_stickers$NAs)"
   ]
  },
  {
   "cell_type": "code",
   "execution_count": 42,
   "id": "dd86dc78-7fda-4e22-a180-9f77fb69ed15",
   "metadata": {},
   "outputs": [
    {
     "data": {
      "text/html": [
       "<table class=\"dataframe\">\n",
       "<caption>A tibble: 4 × 4</caption>\n",
       "<thead>\n",
       "\t<tr><th scope=col>Mean</th><th scope=col>Yr</th><th scope=col>Type</th><th scope=col>Count</th></tr>\n",
       "\t<tr><th scope=col>&lt;dbl&gt;</th><th scope=col>&lt;dbl&gt;</th><th scope=col>&lt;chr&gt;</th><th scope=col>&lt;dbl&gt;</th></tr>\n",
       "</thead>\n",
       "<tbody>\n",
       "\t<tr><td>6.063</td><td>2010</td><td>NAs </td><td> 46</td></tr>\n",
       "\t<tr><td>6.063</td><td>2010</td><td>Sold</td><td>319</td></tr>\n",
       "\t<tr><td>6.152</td><td>2011</td><td>NAs </td><td> 17</td></tr>\n",
       "\t<tr><td>6.152</td><td>2011</td><td>Sold</td><td>348</td></tr>\n",
       "</tbody>\n",
       "</table>\n"
      ],
      "text/latex": [
       "A tibble: 4 × 4\n",
       "\\begin{tabular}{llll}\n",
       " Mean & Yr & Type & Count\\\\\n",
       " <dbl> & <dbl> & <chr> & <dbl>\\\\\n",
       "\\hline\n",
       "\t 6.063 & 2010 & NAs  &  46\\\\\n",
       "\t 6.063 & 2010 & Sold & 319\\\\\n",
       "\t 6.152 & 2011 & NAs  &  17\\\\\n",
       "\t 6.152 & 2011 & Sold & 348\\\\\n",
       "\\end{tabular}\n"
      ],
      "text/markdown": [
       "\n",
       "A tibble: 4 × 4\n",
       "\n",
       "| Mean &lt;dbl&gt; | Yr &lt;dbl&gt; | Type &lt;chr&gt; | Count &lt;dbl&gt; |\n",
       "|---|---|---|---|\n",
       "| 6.063 | 2010 | NAs  |  46 |\n",
       "| 6.063 | 2010 | Sold | 319 |\n",
       "| 6.152 | 2011 | NAs  |  17 |\n",
       "| 6.152 | 2011 | Sold | 348 |\n",
       "\n"
      ],
      "text/plain": [
       "  Mean  Yr   Type Count\n",
       "1 6.063 2010 NAs   46  \n",
       "2 6.063 2010 Sold 319  \n",
       "3 6.152 2011 NAs   17  \n",
       "4 6.152 2011 Sold 348  "
      ]
     },
     "metadata": {},
     "output_type": "display_data"
    },
    {
     "data": {
      "image/png": "[encoded data removed]",
      "text/plain": [
       "plot without title"
      ]
     },
     "metadata": {
      "image/png": {
       "height": 420,
       "width": 420
      }
     },
     "output_type": "display_data"
    }
   ],
   "source": [
    "data_long <- discount_stickers %>%\n",
    "  pivot_longer(cols = c(NAs, Sold), names_to = \"Type\", values_to = \"Count\")\n",
    "data_long\n",
    "\n",
    "# Create the plot\n",
    "ggplot(data_long, \n",
    "              aes(x = Yr, y = Count, color = Type, group = Type)) +\n",
    "  geom_line(size = 1) +\n",
    "  geom_point(size = 2) +\n",
    "  labs(title = \"NA Counts and Sales Over Years\",\n",
    "       subtitle = \"Kenya: Premium Sticker Mart. Holographic Goose\",\n",
    "       x = \"Year\",\n",
    "       y = \"Count\",\n",
    "       color = \"Legend\") +\n",
    "  theme_minimal()\n"
   ]
  },
  {
   "cell_type": "code",
   "execution_count": null,
   "id": "e6b8fbc4-fe52-445d-bcd6-ade956bd4bb9",
   "metadata": {},
   "outputs": [],
   "source": []
  },
  {
   "cell_type": "code",
   "execution_count": null,
   "id": "8f7dc193-da37-455e-97af-4f27a470fcb7",
   "metadata": {},
   "outputs": [],
   "source": []
  },
  {
   "cell_type": "code",
   "execution_count": 43,
   "id": "7c9a0bc9-7d16-40f1-b777-093fe4c0c761",
   "metadata": {},
   "outputs": [
    {
     "data": {
      "text/html": [
       "<style>\n",
       ".list-inline {list-style: none; margin:0; padding: 0}\n",
       ".list-inline>li {display: inline-block}\n",
       ".list-inline>li:not(:last-child)::after {content: \"\\00b7\"; padding: 0 .5ex}\n",
       "</style>\n",
       "<ol class=list-inline><li>1</li><li>10</li></ol>\n"
      ],
      "text/latex": [
       "\\begin{enumerate*}\n",
       "\\item 1\n",
       "\\item 10\n",
       "\\end{enumerate*}\n"
      ],
      "text/markdown": [
       "1. 1\n",
       "2. 10\n",
       "\n",
       "\n"
      ],
      "text/plain": [
       "[1]  1 10"
      ]
     },
     "metadata": {},
     "output_type": "display_data"
    },
    {
     "data": {
      "text/html": [
       "<table class=\"dataframe\">\n",
       "<caption>A tibble: 1 × 10</caption>\n",
       "<thead>\n",
       "\t<tr><th scope=col>id</th><th scope=col>date</th><th scope=col>country</th><th scope=col>store</th><th scope=col>product</th><th scope=col>num_sold</th><th scope=col>year</th><th scope=col>mo</th><th scope=col>day</th><th scope=col>wkday</th></tr>\n",
       "\t<tr><th scope=col>&lt;dbl&gt;</th><th scope=col>&lt;date&gt;</th><th scope=col>&lt;chr&gt;</th><th scope=col>&lt;chr&gt;</th><th scope=col>&lt;chr&gt;</th><th scope=col>&lt;dbl&gt;</th><th scope=col>&lt;dbl&gt;</th><th scope=col>&lt;ord&gt;</th><th scope=col>&lt;int&gt;</th><th scope=col>&lt;ord&gt;</th></tr>\n",
       "</thead>\n",
       "<tbody>\n",
       "\t<tr><td>23719</td><td>2010-09-21</td><td>Kenya</td><td>Discount Stickers</td><td>Kerneler Dark Mode</td><td>NA</td><td>2010</td><td>Sep</td><td>21</td><td>Tue</td></tr>\n",
       "</tbody>\n",
       "</table>\n"
      ],
      "text/latex": [
       "A tibble: 1 × 10\n",
       "\\begin{tabular}{llllllllll}\n",
       " id & date & country & store & product & num\\_sold & year & mo & day & wkday\\\\\n",
       " <dbl> & <date> & <chr> & <chr> & <chr> & <dbl> & <dbl> & <ord> & <int> & <ord>\\\\\n",
       "\\hline\n",
       "\t 23719 & 2010-09-21 & Kenya & Discount Stickers & Kerneler Dark Mode & NA & 2010 & Sep & 21 & Tue\\\\\n",
       "\\end{tabular}\n"
      ],
      "text/markdown": [
       "\n",
       "A tibble: 1 × 10\n",
       "\n",
       "| id &lt;dbl&gt; | date &lt;date&gt; | country &lt;chr&gt; | store &lt;chr&gt; | product &lt;chr&gt; | num_sold &lt;dbl&gt; | year &lt;dbl&gt; | mo &lt;ord&gt; | day &lt;int&gt; | wkday &lt;ord&gt; |\n",
       "|---|---|---|---|---|---|---|---|---|---|\n",
       "| 23719 | 2010-09-21 | Kenya | Discount Stickers | Kerneler Dark Mode | NA | 2010 | Sep | 21 | Tue |\n",
       "\n"
      ],
      "text/plain": [
       "  id    date       country store             product            num_sold year\n",
       "1 23719 2010-09-21 Kenya   Discount Stickers Kerneler Dark Mode NA       2010\n",
       "  mo  day wkday\n",
       "1 Sep 21  Tue  "
      ]
     },
     "metadata": {},
     "output_type": "display_data"
    }
   ],
   "source": [
    "dim(kenya %>% filter(store == \"Discount Stickers\" & is.na(num_sold) & product !=\"Kerneler\")) # the odd ball is found\n",
    "found <- kenya %>% filter(store == \"Discount Stickers\" & is.na(num_sold) & product !=\"Kerneler\") # the odd ball is found\n",
    "found\n",
    "# id that odd ball\n",
    "# id that odd ball"
   ]
  },
  {
   "cell_type": "code",
   "execution_count": null,
   "id": "0feb9f71-9df7-4862-8265-0db83e68d50f",
   "metadata": {},
   "outputs": [],
   "source": []
  },
  {
   "cell_type": "code",
   "execution_count": 44,
   "id": "2f968096-9630-4b79-aaae-8049310b8a81",
   "metadata": {},
   "outputs": [
    {
     "data": {
      "text/html": [
       "<style>\n",
       ".list-inline {list-style: none; margin:0; padding: 0}\n",
       ".list-inline>li {display: inline-block}\n",
       ".list-inline>li:not(:last-child)::after {content: \"\\00b7\"; padding: 0 .5ex}\n",
       "</style>\n",
       "<ol class=list-inline><li>365</li><li>10</li></ol>\n"
      ],
      "text/latex": [
       "\\begin{enumerate*}\n",
       "\\item 365\n",
       "\\item 10\n",
       "\\end{enumerate*}\n"
      ],
      "text/markdown": [
       "1. 365\n",
       "2. 10\n",
       "\n",
       "\n"
      ],
      "text/plain": [
       "[1] 365  10"
      ]
     },
     "metadata": {},
     "output_type": "display_data"
    },
    {
     "data": {
      "text/html": [
       "&lt;NA&gt;"
      ],
      "text/latex": [
       "<NA>"
      ],
      "text/markdown": [
       "&lt;NA&gt;"
      ],
      "text/plain": [
       "[1] NA"
      ]
     },
     "metadata": {},
     "output_type": "display_data"
    },
    {
     "data": {
      "text/html": [
       "<table class=\"dataframe\">\n",
       "<caption>A tibble: 1 × 1</caption>\n",
       "<thead>\n",
       "\t<tr><th scope=col>mean_sold</th></tr>\n",
       "\t<tr><th scope=col>&lt;dbl&gt;</th></tr>\n",
       "</thead>\n",
       "<tbody>\n",
       "\t<tr><td>5.344828</td></tr>\n",
       "</tbody>\n",
       "</table>\n"
      ],
      "text/latex": [
       "A tibble: 1 × 1\n",
       "\\begin{tabular}{l}\n",
       " mean\\_sold\\\\\n",
       " <dbl>\\\\\n",
       "\\hline\n",
       "\t 5.344828\\\\\n",
       "\\end{tabular}\n"
      ],
      "text/markdown": [
       "\n",
       "A tibble: 1 × 1\n",
       "\n",
       "| mean_sold &lt;dbl&gt; |\n",
       "|---|\n",
       "| 5.344828 |\n",
       "\n"
      ],
      "text/plain": [
       "  mean_sold\n",
       "1 5.344828 "
      ]
     },
     "metadata": {},
     "output_type": "display_data"
    }
   ],
   "source": [
    "# Find replacement value: use the mean for the 1 NA replacment \n",
    "\n",
    "dim(kenya %>% filter(store == \"Discount Stickers\" & year == \"2010\" & product == \"Kerneler Dark Mode\" )) #  days 365 / num_sold 2475 / mean 6.782\n",
    "temp <- kenya %>% filter(store == \"Discount Stickers\" & year == \"2010\" & product == \"Kerneler Dark Mode\" ) \n",
    "sum(temp$num_sold)\n",
    "\n",
    "temp1 <- temp %>% \n",
    "  filter(mo == \"Sep\") %>% \n",
    "  summarize(mean_sold = mean(num_sold, na.rm = TRUE))\n",
    "\n",
    " # summary(temp %>% filter(mo == \"Sep\") )   # confirms\n",
    "\n",
    "# The replacement value for the single NA at Discount Stickers, Kerneler Dark Mode\n",
    "temp1\n"
   ]
  },
  {
   "cell_type": "code",
   "execution_count": null,
   "id": "68c16491-9914-487a-8313-aeb1dd007557",
   "metadata": {},
   "outputs": [],
   "source": []
  },
  {
   "cell_type": "markdown",
   "id": "51c7db48-7f27-4977-98da-58f34c0c4229",
   "metadata": {},
   "source": [
    "# <font color = lime>Discount Stickers: Replace (1) / Replace (63) \n",
    "\n",
    "### <font color = yellow> Remove NA when NA > Sales, Replace NA w/ 0 when Sales > NA\n"
   ]
  },
  {
   "cell_type": "code",
   "execution_count": 45,
   "id": "49bc7e91-64fd-412a-866d-fc70890755d3",
   "metadata": {},
   "outputs": [
    {
     "data": {
      "text/html": [
       "3757"
      ],
      "text/latex": [
       "3757"
      ],
      "text/markdown": [
       "3757"
      ],
      "text/plain": [
       "[1] 3757"
      ]
     },
     "metadata": {},
     "output_type": "display_data"
    },
    {
     "data": {
      "text/html": [
       "2068"
      ],
      "text/latex": [
       "2068"
      ],
      "text/markdown": [
       "2068"
      ],
      "text/plain": [
       "[1] 2068"
      ]
     },
     "metadata": {},
     "output_type": "display_data"
    },
    {
     "data": {
      "text/html": [
       "1689"
      ],
      "text/latex": [
       "1689"
      ],
      "text/markdown": [
       "1689"
      ],
      "text/plain": [
       "[1] 1689"
      ]
     },
     "metadata": {},
     "output_type": "display_data"
    },
    {
     "data": {
      "text/html": [
       "3757"
      ],
      "text/latex": [
       "3757"
      ],
      "text/markdown": [
       "3757"
      ],
      "text/plain": [
       "[1] 3757"
      ]
     },
     "metadata": {},
     "output_type": "display_data"
    }
   ],
   "source": [
    "sum(is.na(train))\n",
    "sum(is.na(kenya))\n",
    "sum(is.na(canada))\n",
    "2068+1689"
   ]
  },
  {
   "cell_type": "markdown",
   "id": "2b46e952-31fa-4921-a637-f043eba4c0dc",
   "metadata": {},
   "source": [
    "## <font color = lime> Kenya | train || ...Replace the (1) NA Kerneler w/ imputed mean"
   ]
  },
  {
   "cell_type": "code",
   "execution_count": 46,
   "id": "5747abc5-a4be-4296-a16f-6fdfb6314786",
   "metadata": {},
   "outputs": [
    {
     "data": {
      "text/html": [
       "<table class=\"dataframe\">\n",
       "<caption>A tibble: 1 × 1</caption>\n",
       "<thead>\n",
       "\t<tr><th scope=col>mean_sold</th></tr>\n",
       "\t<tr><th scope=col>&lt;dbl&gt;</th></tr>\n",
       "</thead>\n",
       "<tbody>\n",
       "\t<tr><td>5.344828</td></tr>\n",
       "</tbody>\n",
       "</table>\n"
      ],
      "text/latex": [
       "A tibble: 1 × 1\n",
       "\\begin{tabular}{l}\n",
       " mean\\_sold\\\\\n",
       " <dbl>\\\\\n",
       "\\hline\n",
       "\t 5.344828\\\\\n",
       "\\end{tabular}\n"
      ],
      "text/markdown": [
       "\n",
       "A tibble: 1 × 1\n",
       "\n",
       "| mean_sold &lt;dbl&gt; |\n",
       "|---|\n",
       "| 5.344828 |\n",
       "\n"
      ],
      "text/plain": [
       "  mean_sold\n",
       "1 5.344828 "
      ]
     },
     "metadata": {},
     "output_type": "display_data"
    },
    {
     "data": {
      "text/html": [
       "<table class=\"dataframe\">\n",
       "<caption>A tibble: 1 × 10</caption>\n",
       "<thead>\n",
       "\t<tr><th scope=col>id</th><th scope=col>date</th><th scope=col>country</th><th scope=col>store</th><th scope=col>product</th><th scope=col>num_sold</th><th scope=col>year</th><th scope=col>mo</th><th scope=col>day</th><th scope=col>wkday</th></tr>\n",
       "\t<tr><th scope=col>&lt;dbl&gt;</th><th scope=col>&lt;date&gt;</th><th scope=col>&lt;chr&gt;</th><th scope=col>&lt;chr&gt;</th><th scope=col>&lt;chr&gt;</th><th scope=col>&lt;dbl&gt;</th><th scope=col>&lt;dbl&gt;</th><th scope=col>&lt;ord&gt;</th><th scope=col>&lt;int&gt;</th><th scope=col>&lt;ord&gt;</th></tr>\n",
       "</thead>\n",
       "<tbody>\n",
       "\t<tr><td>23719</td><td>2010-09-21</td><td>Kenya</td><td>Discount Stickers</td><td>Kerneler Dark Mode</td><td>NA</td><td>2010</td><td>Sep</td><td>21</td><td>Tue</td></tr>\n",
       "</tbody>\n",
       "</table>\n"
      ],
      "text/latex": [
       "A tibble: 1 × 10\n",
       "\\begin{tabular}{llllllllll}\n",
       " id & date & country & store & product & num\\_sold & year & mo & day & wkday\\\\\n",
       " <dbl> & <date> & <chr> & <chr> & <chr> & <dbl> & <dbl> & <ord> & <int> & <ord>\\\\\n",
       "\\hline\n",
       "\t 23719 & 2010-09-21 & Kenya & Discount Stickers & Kerneler Dark Mode & NA & 2010 & Sep & 21 & Tue\\\\\n",
       "\\end{tabular}\n"
      ],
      "text/markdown": [
       "\n",
       "A tibble: 1 × 10\n",
       "\n",
       "| id &lt;dbl&gt; | date &lt;date&gt; | country &lt;chr&gt; | store &lt;chr&gt; | product &lt;chr&gt; | num_sold &lt;dbl&gt; | year &lt;dbl&gt; | mo &lt;ord&gt; | day &lt;int&gt; | wkday &lt;ord&gt; |\n",
       "|---|---|---|---|---|---|---|---|---|---|\n",
       "| 23719 | 2010-09-21 | Kenya | Discount Stickers | Kerneler Dark Mode | NA | 2010 | Sep | 21 | Tue |\n",
       "\n"
      ],
      "text/plain": [
       "  id    date       country store             product            num_sold year\n",
       "1 23719 2010-09-21 Kenya   Discount Stickers Kerneler Dark Mode NA       2010\n",
       "  mo  day wkday\n",
       "1 Sep 21  Tue  "
      ]
     },
     "metadata": {},
     "output_type": "display_data"
    },
    {
     "data": {
      "text/html": [
       "<table class=\"dataframe\">\n",
       "<caption>A tibble: 1 × 10</caption>\n",
       "<thead>\n",
       "\t<tr><th scope=col>id</th><th scope=col>date</th><th scope=col>country</th><th scope=col>store</th><th scope=col>product</th><th scope=col>num_sold</th><th scope=col>year</th><th scope=col>mo</th><th scope=col>day</th><th scope=col>wkday</th></tr>\n",
       "\t<tr><th scope=col>&lt;dbl&gt;</th><th scope=col>&lt;date&gt;</th><th scope=col>&lt;chr&gt;</th><th scope=col>&lt;chr&gt;</th><th scope=col>&lt;chr&gt;</th><th scope=col>&lt;dbl&gt;</th><th scope=col>&lt;dbl&gt;</th><th scope=col>&lt;ord&gt;</th><th scope=col>&lt;int&gt;</th><th scope=col>&lt;ord&gt;</th></tr>\n",
       "</thead>\n",
       "<tbody>\n",
       "\t<tr><td>23719</td><td>2010-09-21</td><td>Kenya</td><td>Discount Stickers</td><td>Kerneler Dark Mode</td><td>NA</td><td>2010</td><td>Sep</td><td>21</td><td>Tue</td></tr>\n",
       "</tbody>\n",
       "</table>\n"
      ],
      "text/latex": [
       "A tibble: 1 × 10\n",
       "\\begin{tabular}{llllllllll}\n",
       " id & date & country & store & product & num\\_sold & year & mo & day & wkday\\\\\n",
       " <dbl> & <date> & <chr> & <chr> & <chr> & <dbl> & <dbl> & <ord> & <int> & <ord>\\\\\n",
       "\\hline\n",
       "\t 23719 & 2010-09-21 & Kenya & Discount Stickers & Kerneler Dark Mode & NA & 2010 & Sep & 21 & Tue\\\\\n",
       "\\end{tabular}\n"
      ],
      "text/markdown": [
       "\n",
       "A tibble: 1 × 10\n",
       "\n",
       "| id &lt;dbl&gt; | date &lt;date&gt; | country &lt;chr&gt; | store &lt;chr&gt; | product &lt;chr&gt; | num_sold &lt;dbl&gt; | year &lt;dbl&gt; | mo &lt;ord&gt; | day &lt;int&gt; | wkday &lt;ord&gt; |\n",
       "|---|---|---|---|---|---|---|---|---|---|\n",
       "| 23719 | 2010-09-21 | Kenya | Discount Stickers | Kerneler Dark Mode | NA | 2010 | Sep | 21 | Tue |\n",
       "\n"
      ],
      "text/plain": [
       "  id    date       country store             product            num_sold year\n",
       "1 23719 2010-09-21 Kenya   Discount Stickers Kerneler Dark Mode NA       2010\n",
       "  mo  day wkday\n",
       "1 Sep 21  Tue  "
      ]
     },
     "metadata": {},
     "output_type": "display_data"
    }
   ],
   "source": [
    "temp1\n",
    "kenya %>% filter(store == \"Discount Stickers\" & is.na(num_sold) & product !=\"Kerneler\")\n",
    "train %>% filter( country == \"Kenya\", store == \"Discount Stickers\" & is.na(num_sold) & product !=\"Kerneler\")"
   ]
  },
  {
   "cell_type": "code",
   "execution_count": 47,
   "id": "80af63aa-d540-4265-a03a-9fec195ce5a6",
   "metadata": {},
   "outputs": [
    {
     "data": {
      "text/html": [
       "<table class=\"dataframe\">\n",
       "<caption>A tibble: 1 × 10</caption>\n",
       "<thead>\n",
       "\t<tr><th scope=col>id</th><th scope=col>date</th><th scope=col>country</th><th scope=col>store</th><th scope=col>product</th><th scope=col>num_sold</th><th scope=col>year</th><th scope=col>mo</th><th scope=col>day</th><th scope=col>wkday</th></tr>\n",
       "\t<tr><th scope=col>&lt;dbl&gt;</th><th scope=col>&lt;date&gt;</th><th scope=col>&lt;chr&gt;</th><th scope=col>&lt;chr&gt;</th><th scope=col>&lt;chr&gt;</th><th scope=col>&lt;dbl&gt;</th><th scope=col>&lt;dbl&gt;</th><th scope=col>&lt;ord&gt;</th><th scope=col>&lt;int&gt;</th><th scope=col>&lt;ord&gt;</th></tr>\n",
       "</thead>\n",
       "<tbody>\n",
       "\t<tr><td>23719</td><td>2010-09-21</td><td>Kenya</td><td>Discount Stickers</td><td>Kerneler Dark Mode</td><td>5.345</td><td>2010</td><td>Sep</td><td>21</td><td>Tue</td></tr>\n",
       "</tbody>\n",
       "</table>\n"
      ],
      "text/latex": [
       "A tibble: 1 × 10\n",
       "\\begin{tabular}{llllllllll}\n",
       " id & date & country & store & product & num\\_sold & year & mo & day & wkday\\\\\n",
       " <dbl> & <date> & <chr> & <chr> & <chr> & <dbl> & <dbl> & <ord> & <int> & <ord>\\\\\n",
       "\\hline\n",
       "\t 23719 & 2010-09-21 & Kenya & Discount Stickers & Kerneler Dark Mode & 5.345 & 2010 & Sep & 21 & Tue\\\\\n",
       "\\end{tabular}\n"
      ],
      "text/markdown": [
       "\n",
       "A tibble: 1 × 10\n",
       "\n",
       "| id &lt;dbl&gt; | date &lt;date&gt; | country &lt;chr&gt; | store &lt;chr&gt; | product &lt;chr&gt; | num_sold &lt;dbl&gt; | year &lt;dbl&gt; | mo &lt;ord&gt; | day &lt;int&gt; | wkday &lt;ord&gt; |\n",
       "|---|---|---|---|---|---|---|---|---|---|\n",
       "| 23719 | 2010-09-21 | Kenya | Discount Stickers | Kerneler Dark Mode | 5.345 | 2010 | Sep | 21 | Tue |\n",
       "\n"
      ],
      "text/plain": [
       "  id    date       country store             product            num_sold year\n",
       "1 23719 2010-09-21 Kenya   Discount Stickers Kerneler Dark Mode 5.345    2010\n",
       "  mo  day wkday\n",
       "1 Sep 21  Tue  "
      ]
     },
     "metadata": {},
     "output_type": "display_data"
    },
    {
     "data": {
      "text/html": [
       "<table class=\"dataframe\">\n",
       "<caption>A tibble: 1 × 10</caption>\n",
       "<thead>\n",
       "\t<tr><th scope=col>id</th><th scope=col>date</th><th scope=col>country</th><th scope=col>store</th><th scope=col>product</th><th scope=col>num_sold</th><th scope=col>year</th><th scope=col>mo</th><th scope=col>day</th><th scope=col>wkday</th></tr>\n",
       "\t<tr><th scope=col>&lt;dbl&gt;</th><th scope=col>&lt;date&gt;</th><th scope=col>&lt;chr&gt;</th><th scope=col>&lt;chr&gt;</th><th scope=col>&lt;chr&gt;</th><th scope=col>&lt;dbl&gt;</th><th scope=col>&lt;dbl&gt;</th><th scope=col>&lt;ord&gt;</th><th scope=col>&lt;int&gt;</th><th scope=col>&lt;ord&gt;</th></tr>\n",
       "</thead>\n",
       "<tbody>\n",
       "\t<tr><td>23719</td><td>2010-09-21</td><td>Kenya</td><td>Discount Stickers</td><td>Kerneler Dark Mode</td><td>5.345</td><td>2010</td><td>Sep</td><td>21</td><td>Tue</td></tr>\n",
       "</tbody>\n",
       "</table>\n"
      ],
      "text/latex": [
       "A tibble: 1 × 10\n",
       "\\begin{tabular}{llllllllll}\n",
       " id & date & country & store & product & num\\_sold & year & mo & day & wkday\\\\\n",
       " <dbl> & <date> & <chr> & <chr> & <chr> & <dbl> & <dbl> & <ord> & <int> & <ord>\\\\\n",
       "\\hline\n",
       "\t 23719 & 2010-09-21 & Kenya & Discount Stickers & Kerneler Dark Mode & 5.345 & 2010 & Sep & 21 & Tue\\\\\n",
       "\\end{tabular}\n"
      ],
      "text/markdown": [
       "\n",
       "A tibble: 1 × 10\n",
       "\n",
       "| id &lt;dbl&gt; | date &lt;date&gt; | country &lt;chr&gt; | store &lt;chr&gt; | product &lt;chr&gt; | num_sold &lt;dbl&gt; | year &lt;dbl&gt; | mo &lt;ord&gt; | day &lt;int&gt; | wkday &lt;ord&gt; |\n",
       "|---|---|---|---|---|---|---|---|---|---|\n",
       "| 23719 | 2010-09-21 | Kenya | Discount Stickers | Kerneler Dark Mode | 5.345 | 2010 | Sep | 21 | Tue |\n",
       "\n"
      ],
      "text/plain": [
       "  id    date       country store             product            num_sold year\n",
       "1 23719 2010-09-21 Kenya   Discount Stickers Kerneler Dark Mode 5.345    2010\n",
       "  mo  day wkday\n",
       "1 Sep 21  Tue  "
      ]
     },
     "metadata": {},
     "output_type": "display_data"
    },
    {
     "data": {
      "text/html": [
       "3756"
      ],
      "text/latex": [
       "3756"
      ],
      "text/markdown": [
       "3756"
      ],
      "text/plain": [
       "[1] 3756"
      ]
     },
     "metadata": {},
     "output_type": "display_data"
    },
    {
     "data": {
      "text/html": [
       "2067"
      ],
      "text/latex": [
       "2067"
      ],
      "text/markdown": [
       "2067"
      ],
      "text/plain": [
       "[1] 2067"
      ]
     },
     "metadata": {},
     "output_type": "display_data"
    },
    {
     "data": {
      "text/html": [
       "1689"
      ],
      "text/latex": [
       "1689"
      ],
      "text/markdown": [
       "1689"
      ],
      "text/plain": [
       "[1] 1689"
      ]
     },
     "metadata": {},
     "output_type": "display_data"
    },
    {
     "data": {
      "text/html": [
       "3756"
      ],
      "text/latex": [
       "3756"
      ],
      "text/markdown": [
       "3756"
      ],
      "text/plain": [
       "[1] 3756"
      ]
     },
     "metadata": {},
     "output_type": "display_data"
    }
   ],
   "source": [
    "# Replace the single NA with imputed mean value (both kenya and train )\n",
    "train <- train %>%\n",
    "  mutate(num_sold = ifelse(id == 23719 & is.na(num_sold), 5.345, num_sold))\n",
    "\n",
    "kenya <- kenya %>%\n",
    "  mutate(num_sold = ifelse(id == 23719 & is.na(num_sold), 5.345, num_sold))\n",
    "\n",
    "# Display the updated dataframe\n",
    "train %>% filter(id == \"23719\")\n",
    "kenya %>% filter(id == \"23719\")\n",
    "\n",
    "sum(is.na(train))     # perfect\n",
    "sum(is.na(kenya))    #  Right ... reduced by 1\n",
    "sum(is.na(canada))\n",
    "2067+1689"
   ]
  },
  {
   "cell_type": "code",
   "execution_count": null,
   "id": "37d22903-23da-4d29-9d9b-b95d4ffdf8db",
   "metadata": {},
   "outputs": [],
   "source": []
  },
  {
   "cell_type": "markdown",
   "id": "0ad9c2e0-3331-4395-a673-83545fe390ef",
   "metadata": {},
   "source": [
    "## <font color = lime> Replace the (63) NA Kerneler w/ imputed mean"
   ]
  },
  {
   "cell_type": "code",
   "execution_count": 48,
   "id": "ad61f7b4-83ca-4675-8e4d-225caf011d26",
   "metadata": {},
   "outputs": [
    {
     "data": {
      "text/html": [
       "<table class=\"dataframe\">\n",
       "<caption>A data.frame: 2 × 4</caption>\n",
       "<thead>\n",
       "\t<tr><th scope=col>NAs</th><th scope=col>Sold</th><th scope=col>Mean</th><th scope=col>Yr</th></tr>\n",
       "\t<tr><th scope=col>&lt;dbl&gt;</th><th scope=col>&lt;dbl&gt;</th><th scope=col>&lt;dbl&gt;</th><th scope=col>&lt;dbl&gt;</th></tr>\n",
       "</thead>\n",
       "<tbody>\n",
       "\t<tr><td>46</td><td>319</td><td>6.063</td><td>2010</td></tr>\n",
       "\t<tr><td>17</td><td>348</td><td>6.152</td><td>2011</td></tr>\n",
       "</tbody>\n",
       "</table>\n"
      ],
      "text/latex": [
       "A data.frame: 2 × 4\n",
       "\\begin{tabular}{llll}\n",
       " NAs & Sold & Mean & Yr\\\\\n",
       " <dbl> & <dbl> & <dbl> & <dbl>\\\\\n",
       "\\hline\n",
       "\t 46 & 319 & 6.063 & 2010\\\\\n",
       "\t 17 & 348 & 6.152 & 2011\\\\\n",
       "\\end{tabular}\n"
      ],
      "text/markdown": [
       "\n",
       "A data.frame: 2 × 4\n",
       "\n",
       "| NAs &lt;dbl&gt; | Sold &lt;dbl&gt; | Mean &lt;dbl&gt; | Yr &lt;dbl&gt; |\n",
       "|---|---|---|---|\n",
       "| 46 | 319 | 6.063 | 2010 |\n",
       "| 17 | 348 | 6.152 | 2011 |\n",
       "\n"
      ],
      "text/plain": [
       "  NAs Sold Mean  Yr  \n",
       "1 46  319  6.063 2010\n",
       "2 17  348  6.152 2011"
      ]
     },
     "metadata": {},
     "output_type": "display_data"
    }
   ],
   "source": [
    "discount_stickers"
   ]
  },
  {
   "cell_type": "code",
   "execution_count": 49,
   "id": "5061d987-7dcb-4610-9a7c-4d64a23b8baf",
   "metadata": {},
   "outputs": [
    {
     "data": {
      "text/html": [
       "<style>\n",
       ".list-inline {list-style: none; margin:0; padding: 0}\n",
       ".list-inline>li {display: inline-block}\n",
       ".list-inline>li:not(:last-child)::after {content: \"\\00b7\"; padding: 0 .5ex}\n",
       "</style>\n",
       "<ol class=list-inline><li>46</li><li>10</li></ol>\n"
      ],
      "text/latex": [
       "\\begin{enumerate*}\n",
       "\\item 46\n",
       "\\item 10\n",
       "\\end{enumerate*}\n"
      ],
      "text/markdown": [
       "1. 46\n",
       "2. 10\n",
       "\n",
       "\n"
      ],
      "text/plain": [
       "[1] 46 10"
      ]
     },
     "metadata": {},
     "output_type": "display_data"
    }
   ],
   "source": [
    "dim(kenya %>% filter(store == \"Discount Stickers\" & is.na(num_sold) & product ==\"Kerneler\" & year == 2010))\n",
    "\n"
   ]
  },
  {
   "cell_type": "code",
   "execution_count": null,
   "id": "c2bb6900-8587-4379-9133-a1972df78039",
   "metadata": {},
   "outputs": [],
   "source": []
  },
  {
   "cell_type": "markdown",
   "id": "b956b777-fc87-4d7e-b625-607019b76f39",
   "metadata": {},
   "source": [
    "# <font color = lime> Premium Sticker Mart : .. 646 NAs\n",
    "\n",
    "#### The Question:  Where do the lines cross in 2011 ? "
   ]
  },
  {
   "cell_type": "code",
   "execution_count": 50,
   "id": "ff999d43-8a5d-4cbe-8270-514aac16ba19",
   "metadata": {},
   "outputs": [
    {
     "data": {
      "text/html": [
       "646"
      ],
      "text/latex": [
       "646"
      ],
      "text/markdown": [
       "646"
      ],
      "text/plain": [
       "[1] 646"
      ]
     },
     "metadata": {},
     "output_type": "display_data"
    },
    {
     "data": {
      "text/html": [
       "<style>\n",
       ".list-inline {list-style: none; margin:0; padding: 0}\n",
       ".list-inline>li {display: inline-block}\n",
       ".list-inline>li:not(:last-child)::after {content: \"\\00b7\"; padding: 0 .5ex}\n",
       "</style>\n",
       "<ol class=list-inline><li>646</li><li>10</li></ol>\n"
      ],
      "text/latex": [
       "\\begin{enumerate*}\n",
       "\\item 646\n",
       "\\item 10\n",
       "\\end{enumerate*}\n"
      ],
      "text/markdown": [
       "1. 646\n",
       "2. 10\n",
       "\n",
       "\n"
      ],
      "text/plain": [
       "[1] 646  10"
      ]
     },
     "metadata": {},
     "output_type": "display_data"
    },
    {
     "data": {
      "text/html": [
       "<table class=\"dataframe\">\n",
       "<caption>A tibble: 2 × 10</caption>\n",
       "<thead>\n",
       "\t<tr><th scope=col>id</th><th scope=col>date</th><th scope=col>country</th><th scope=col>store</th><th scope=col>product</th><th scope=col>num_sold</th><th scope=col>year</th><th scope=col>mo</th><th scope=col>day</th><th scope=col>wkday</th></tr>\n",
       "\t<tr><th scope=col>&lt;dbl&gt;</th><th scope=col>&lt;date&gt;</th><th scope=col>&lt;chr&gt;</th><th scope=col>&lt;chr&gt;</th><th scope=col>&lt;chr&gt;</th><th scope=col>&lt;dbl&gt;</th><th scope=col>&lt;dbl&gt;</th><th scope=col>&lt;ord&gt;</th><th scope=col>&lt;int&gt;</th><th scope=col>&lt;ord&gt;</th></tr>\n",
       "</thead>\n",
       "<tbody>\n",
       "\t<tr><td>505</td><td>2010-01-06</td><td>Kenya</td><td>Premium Sticker Mart</td><td>Holographic Goose</td><td>NA</td><td>2010</td><td>Jan</td><td>6</td><td>Wed</td></tr>\n",
       "\t<tr><td>595</td><td>2010-01-07</td><td>Kenya</td><td>Premium Sticker Mart</td><td>Holographic Goose</td><td>NA</td><td>2010</td><td>Jan</td><td>7</td><td>Thu</td></tr>\n",
       "</tbody>\n",
       "</table>\n"
      ],
      "text/latex": [
       "A tibble: 2 × 10\n",
       "\\begin{tabular}{llllllllll}\n",
       " id & date & country & store & product & num\\_sold & year & mo & day & wkday\\\\\n",
       " <dbl> & <date> & <chr> & <chr> & <chr> & <dbl> & <dbl> & <ord> & <int> & <ord>\\\\\n",
       "\\hline\n",
       "\t 505 & 2010-01-06 & Kenya & Premium Sticker Mart & Holographic Goose & NA & 2010 & Jan & 6 & Wed\\\\\n",
       "\t 595 & 2010-01-07 & Kenya & Premium Sticker Mart & Holographic Goose & NA & 2010 & Jan & 7 & Thu\\\\\n",
       "\\end{tabular}\n"
      ],
      "text/markdown": [
       "\n",
       "A tibble: 2 × 10\n",
       "\n",
       "| id &lt;dbl&gt; | date &lt;date&gt; | country &lt;chr&gt; | store &lt;chr&gt; | product &lt;chr&gt; | num_sold &lt;dbl&gt; | year &lt;dbl&gt; | mo &lt;ord&gt; | day &lt;int&gt; | wkday &lt;ord&gt; |\n",
       "|---|---|---|---|---|---|---|---|---|---|\n",
       "| 505 | 2010-01-06 | Kenya | Premium Sticker Mart | Holographic Goose | NA | 2010 | Jan | 6 | Wed |\n",
       "| 595 | 2010-01-07 | Kenya | Premium Sticker Mart | Holographic Goose | NA | 2010 | Jan | 7 | Thu |\n",
       "\n"
      ],
      "text/plain": [
       "  id  date       country store                product           num_sold year\n",
       "1 505 2010-01-06 Kenya   Premium Sticker Mart Holographic Goose NA       2010\n",
       "2 595 2010-01-07 Kenya   Premium Sticker Mart Holographic Goose NA       2010\n",
       "  mo  day wkday\n",
       "1 Jan 6   Wed  \n",
       "2 Jan 7   Thu  "
      ]
     },
     "metadata": {},
     "output_type": "display_data"
    },
    {
     "data": {
      "text/html": [
       "<table class=\"dataframe\">\n",
       "<caption>A data.frame: 7 × 3</caption>\n",
       "<thead>\n",
       "\t<tr><th scope=col>NAs</th><th scope=col>Sales</th><th scope=col>Yrs</th></tr>\n",
       "\t<tr><th scope=col>&lt;dbl&gt;</th><th scope=col>&lt;dbl&gt;</th><th scope=col>&lt;dbl&gt;</th></tr>\n",
       "</thead>\n",
       "<tbody>\n",
       "\t<tr><td>277</td><td>  88</td><td>2010</td></tr>\n",
       "\t<tr><td>217</td><td> 148</td><td>2011</td></tr>\n",
       "\t<tr><td> 92</td><td> 274</td><td>2012</td></tr>\n",
       "\t<tr><td> 48</td><td> 317</td><td>2013</td></tr>\n",
       "\t<tr><td> 10</td><td> 355</td><td>2014</td></tr>\n",
       "\t<tr><td>  2</td><td> 363</td><td>2015</td></tr>\n",
       "\t<tr><td>  0</td><td>1012</td><td>2016</td></tr>\n",
       "</tbody>\n",
       "</table>\n"
      ],
      "text/latex": [
       "A data.frame: 7 × 3\n",
       "\\begin{tabular}{lll}\n",
       " NAs & Sales & Yrs\\\\\n",
       " <dbl> & <dbl> & <dbl>\\\\\n",
       "\\hline\n",
       "\t 277 &   88 & 2010\\\\\n",
       "\t 217 &  148 & 2011\\\\\n",
       "\t  92 &  274 & 2012\\\\\n",
       "\t  48 &  317 & 2013\\\\\n",
       "\t  10 &  355 & 2014\\\\\n",
       "\t   2 &  363 & 2015\\\\\n",
       "\t   0 & 1012 & 2016\\\\\n",
       "\\end{tabular}\n"
      ],
      "text/markdown": [
       "\n",
       "A data.frame: 7 × 3\n",
       "\n",
       "| NAs &lt;dbl&gt; | Sales &lt;dbl&gt; | Yrs &lt;dbl&gt; |\n",
       "|---|---|---|\n",
       "| 277 |   88 | 2010 |\n",
       "| 217 |  148 | 2011 |\n",
       "|  92 |  274 | 2012 |\n",
       "|  48 |  317 | 2013 |\n",
       "|  10 |  355 | 2014 |\n",
       "|   2 |  363 | 2015 |\n",
       "|   0 | 1012 | 2016 |\n",
       "\n"
      ],
      "text/plain": [
       "  NAs Sales Yrs \n",
       "1 277   88  2010\n",
       "2 217  148  2011\n",
       "3  92  274  2012\n",
       "4  48  317  2013\n",
       "5  10  355  2014\n",
       "6   2  363  2015\n",
       "7   0 1012  2016"
      ]
     },
     "metadata": {},
     "output_type": "display_data"
    },
    {
     "data": {
      "image/png": "[encoded data removed]",
      "text/plain": [
       "plot without title"
      ]
     },
     "metadata": {
      "image/png": {
       "height": 420,
       "width": 420
      }
     },
     "output_type": "display_data"
    }
   ],
   "source": [
    "sum(premium_sticker_mart$NAs)\n",
    "dim(kenya %>% filter( is.na(num_sold) & product == \"Holographic Goose\" & store == \"Premium Sticker Mart\"))        # 646 NA / 1911 sold\n",
    "head(kenya %>% filter( is.na(num_sold) & product == \"Holographic Goose\" & store == \"Premium Sticker Mart\"),2)        # 646 NA / 1911 sold\n",
    "premium_sticker_mart\n",
    "psm # plot"
   ]
  },
  {
   "cell_type": "markdown",
   "id": "191747b8-711c-49e9-bc4e-2aca1cf38347",
   "metadata": {},
   "source": [
    "### <font color = lime> dplyr: return() fct"
   ]
  },
  {
   "cell_type": "code",
   "execution_count": 51,
   "id": "b805a17a-3c65-48b0-a96a-2209abc77b88",
   "metadata": {},
   "outputs": [
    {
     "data": {
      "text/html": [
       "'xxxxxxxxxxxxxxxxxxxxxxxxxxxxxxxxxxxxxxxxxxxxxxxxxxxxxxxxxxxxxxxxxxx'"
      ],
      "text/latex": [
       "'xxxxxxxxxxxxxxxxxxxxxxxxxxxxxxxxxxxxxxxxxxxxxxxxxxxxxxxxxxxxxxxxxxx'"
      ],
      "text/markdown": [
       "'xxxxxxxxxxxxxxxxxxxxxxxxxxxxxxxxxxxxxxxxxxxxxxxxxxxxxxxxxxxxxxxxxxx'"
      ],
      "text/plain": [
       "[1] \"xxxxxxxxxxxxxxxxxxxxxxxxxxxxxxxxxxxxxxxxxxxxxxxxxxxxxxxxxxxxxxxxxxx\""
      ]
     },
     "metadata": {},
     "output_type": "display_data"
    },
    {
     "data": {
      "text/html": [
       "<style>\n",
       ".list-inline {list-style: none; margin:0; padding: 0}\n",
       ".list-inline>li {display: inline-block}\n",
       ".list-inline>li:not(:last-child)::after {content: \"\\00b7\"; padding: 0 .5ex}\n",
       "</style>\n",
       "<ol class=list-inline><li>430</li><li>10</li></ol>\n"
      ],
      "text/latex": [
       "\\begin{enumerate*}\n",
       "\\item 430\n",
       "\\item 10\n",
       "\\end{enumerate*}\n"
      ],
      "text/markdown": [
       "1. 430\n",
       "2. 10\n",
       "\n",
       "\n"
      ],
      "text/plain": [
       "[1] 430  10"
      ]
     },
     "metadata": {},
     "output_type": "display_data"
    },
    {
     "data": {
      "text/html": [
       "290"
      ],
      "text/latex": [
       "290"
      ],
      "text/markdown": [
       "290"
      ],
      "text/plain": [
       "[1] 290"
      ]
     },
     "metadata": {},
     "output_type": "display_data"
    },
    {
     "data": {
      "text/html": [
       "'xxxxxxxxxxxxxxxxxxxxxxxxxxxxxxxxxxxxxxxxxxxxxxxxxxxxxxxxxxxxxxxxxxx'"
      ],
      "text/latex": [
       "'xxxxxxxxxxxxxxxxxxxxxxxxxxxxxxxxxxxxxxxxxxxxxxxxxxxxxxxxxxxxxxxxxxx'"
      ],
      "text/markdown": [
       "'xxxxxxxxxxxxxxxxxxxxxxxxxxxxxxxxxxxxxxxxxxxxxxxxxxxxxxxxxxxxxxxxxxx'"
      ],
      "text/plain": [
       "[1] \"xxxxxxxxxxxxxxxxxxxxxxxxxxxxxxxxxxxxxxxxxxxxxxxxxxxxxxxxxxxxxxxxxxx\""
      ]
     },
     "metadata": {},
     "output_type": "display_data"
    },
    {
     "data": {
      "text/html": [
       "<style>\n",
       ".list-inline {list-style: none; margin:0; padding: 0}\n",
       ".list-inline>li {display: inline-block}\n",
       ".list-inline>li:not(:last-child)::after {content: \"\\00b7\"; padding: 0 .5ex}\n",
       "</style>\n",
       "<ol class=list-inline><li>290</li><li>10</li></ol>\n"
      ],
      "text/latex": [
       "\\begin{enumerate*}\n",
       "\\item 290\n",
       "\\item 10\n",
       "\\end{enumerate*}\n"
      ],
      "text/markdown": [
       "1. 290\n",
       "2. 10\n",
       "\n",
       "\n"
      ],
      "text/plain": [
       "[1] 290  10"
      ]
     },
     "metadata": {},
     "output_type": "display_data"
    },
    {
     "data": {
      "text/html": [
       "<table class=\"dataframe\">\n",
       "<caption>A tibble: 3 × 10</caption>\n",
       "<thead>\n",
       "\t<tr><th scope=col>id</th><th scope=col>date</th><th scope=col>country</th><th scope=col>store</th><th scope=col>product</th><th scope=col>num_sold</th><th scope=col>year</th><th scope=col>mo</th><th scope=col>day</th><th scope=col>wkday</th></tr>\n",
       "\t<tr><th scope=col>&lt;dbl&gt;</th><th scope=col>&lt;date&gt;</th><th scope=col>&lt;chr&gt;</th><th scope=col>&lt;chr&gt;</th><th scope=col>&lt;chr&gt;</th><th scope=col>&lt;dbl&gt;</th><th scope=col>&lt;dbl&gt;</th><th scope=col>&lt;ord&gt;</th><th scope=col>&lt;int&gt;</th><th scope=col>&lt;ord&gt;</th></tr>\n",
       "</thead>\n",
       "<tbody>\n",
       "\t<tr><td>505</td><td>2010-01-06</td><td>Kenya</td><td>Premium Sticker Mart</td><td>Holographic Goose</td><td>NA</td><td>2010</td><td>Jan</td><td> 6</td><td>Wed</td></tr>\n",
       "\t<tr><td>595</td><td>2010-01-07</td><td>Kenya</td><td>Premium Sticker Mart</td><td>Holographic Goose</td><td>NA</td><td>2010</td><td>Jan</td><td> 7</td><td>Thu</td></tr>\n",
       "\t<tr><td>955</td><td>2010-01-11</td><td>Kenya</td><td>Premium Sticker Mart</td><td>Holographic Goose</td><td>NA</td><td>2010</td><td>Jan</td><td>11</td><td>Mon</td></tr>\n",
       "</tbody>\n",
       "</table>\n"
      ],
      "text/latex": [
       "A tibble: 3 × 10\n",
       "\\begin{tabular}{llllllllll}\n",
       " id & date & country & store & product & num\\_sold & year & mo & day & wkday\\\\\n",
       " <dbl> & <date> & <chr> & <chr> & <chr> & <dbl> & <dbl> & <ord> & <int> & <ord>\\\\\n",
       "\\hline\n",
       "\t 505 & 2010-01-06 & Kenya & Premium Sticker Mart & Holographic Goose & NA & 2010 & Jan &  6 & Wed\\\\\n",
       "\t 595 & 2010-01-07 & Kenya & Premium Sticker Mart & Holographic Goose & NA & 2010 & Jan &  7 & Thu\\\\\n",
       "\t 955 & 2010-01-11 & Kenya & Premium Sticker Mart & Holographic Goose & NA & 2010 & Jan & 11 & Mon\\\\\n",
       "\\end{tabular}\n"
      ],
      "text/markdown": [
       "\n",
       "A tibble: 3 × 10\n",
       "\n",
       "| id &lt;dbl&gt; | date &lt;date&gt; | country &lt;chr&gt; | store &lt;chr&gt; | product &lt;chr&gt; | num_sold &lt;dbl&gt; | year &lt;dbl&gt; | mo &lt;ord&gt; | day &lt;int&gt; | wkday &lt;ord&gt; |\n",
       "|---|---|---|---|---|---|---|---|---|---|\n",
       "| 505 | 2010-01-06 | Kenya | Premium Sticker Mart | Holographic Goose | NA | 2010 | Jan |  6 | Wed |\n",
       "| 595 | 2010-01-07 | Kenya | Premium Sticker Mart | Holographic Goose | NA | 2010 | Jan |  7 | Thu |\n",
       "| 955 | 2010-01-11 | Kenya | Premium Sticker Mart | Holographic Goose | NA | 2010 | Jan | 11 | Mon |\n",
       "\n"
      ],
      "text/plain": [
       "  id  date       country store                product           num_sold year\n",
       "1 505 2010-01-06 Kenya   Premium Sticker Mart Holographic Goose NA       2010\n",
       "2 595 2010-01-07 Kenya   Premium Sticker Mart Holographic Goose NA       2010\n",
       "3 955 2010-01-11 Kenya   Premium Sticker Mart Holographic Goose NA       2010\n",
       "  mo  day wkday\n",
       "1 Jan  6  Wed  \n",
       "2 Jan  7  Thu  \n",
       "3 Jan 11  Mon  "
      ]
     },
     "metadata": {},
     "output_type": "display_data"
    },
    {
     "data": {
      "text/html": [
       "'xxxxxxxxxxxxxxxxxxxxxxxxxxxxxxxxxxxxxxxxxxxxxxxxxxxxxxxxxxxxxxxxxxx'"
      ],
      "text/latex": [
       "'xxxxxxxxxxxxxxxxxxxxxxxxxxxxxxxxxxxxxxxxxxxxxxxxxxxxxxxxxxxxxxxxxxx'"
      ],
      "text/markdown": [
       "'xxxxxxxxxxxxxxxxxxxxxxxxxxxxxxxxxxxxxxxxxxxxxxxxxxxxxxxxxxxxxxxxxxx'"
      ],
      "text/plain": [
       "[1] \"xxxxxxxxxxxxxxxxxxxxxxxxxxxxxxxxxxxxxxxxxxxxxxxxxxxxxxxxxxxxxxxxxxx\""
      ]
     },
     "metadata": {},
     "output_type": "display_data"
    },
    {
     "data": {
      "text/html": [
       "290"
      ],
      "text/latex": [
       "290"
      ],
      "text/markdown": [
       "290"
      ],
      "text/plain": [
       "[1] 290"
      ]
     },
     "metadata": {},
     "output_type": "display_data"
    },
    {
     "data": {
      "text/html": [
       "<style>\n",
       ".list-inline {list-style: none; margin:0; padding: 0}\n",
       ".list-inline>li {display: inline-block}\n",
       ".list-inline>li:not(:last-child)::after {content: \"\\00b7\"; padding: 0 .5ex}\n",
       "</style>\n",
       "<ol class=list-inline><li>505</li><li>595</li><li>955</li><li>1045</li></ol>\n"
      ],
      "text/latex": [
       "\\begin{enumerate*}\n",
       "\\item 505\n",
       "\\item 595\n",
       "\\item 955\n",
       "\\item 1045\n",
       "\\end{enumerate*}\n"
      ],
      "text/markdown": [
       "1. 505\n",
       "2. 595\n",
       "3. 955\n",
       "4. 1045\n",
       "\n",
       "\n"
      ],
      "text/plain": [
       "[1]  505  595  955 1045"
      ]
     },
     "metadata": {},
     "output_type": "display_data"
    },
    {
     "data": {
      "text/html": [
       "'xxxxxxxxxxxxxxxxxxxxxxxxxxxxxxxxxxxxxxxxxxxxxxxxxxxxxxxxxxxxxxxxxxx'"
      ],
      "text/latex": [
       "'xxxxxxxxxxxxxxxxxxxxxxxxxxxxxxxxxxxxxxxxxxxxxxxxxxxxxxxxxxxxxxxxxxx'"
      ],
      "text/markdown": [
       "'xxxxxxxxxxxxxxxxxxxxxxxxxxxxxxxxxxxxxxxxxxxxxxxxxxxxxxxxxxxxxxxxxxx'"
      ],
      "text/plain": [
       "[1] \"xxxxxxxxxxxxxxxxxxxxxxxxxxxxxxxxxxxxxxxxxxxxxxxxxxxxxxxxxxxxxxxxxxx\""
      ]
     },
     "metadata": {},
     "output_type": "display_data"
    },
    {
     "data": {
      "text/html": [
       "<table class=\"dataframe\">\n",
       "<caption>A tibble: 1 × 10</caption>\n",
       "<thead>\n",
       "\t<tr><th scope=col>id</th><th scope=col>date</th><th scope=col>country</th><th scope=col>store</th><th scope=col>product</th><th scope=col>num_sold</th><th scope=col>year</th><th scope=col>mo</th><th scope=col>day</th><th scope=col>wkday</th></tr>\n",
       "\t<tr><th scope=col>&lt;dbl&gt;</th><th scope=col>&lt;date&gt;</th><th scope=col>&lt;chr&gt;</th><th scope=col>&lt;chr&gt;</th><th scope=col>&lt;chr&gt;</th><th scope=col>&lt;dbl&gt;</th><th scope=col>&lt;dbl&gt;</th><th scope=col>&lt;ord&gt;</th><th scope=col>&lt;int&gt;</th><th scope=col>&lt;ord&gt;</th></tr>\n",
       "</thead>\n",
       "<tbody>\n",
       "\t<tr><td>505</td><td>2010-01-06</td><td>Kenya</td><td>Premium Sticker Mart</td><td>Holographic Goose</td><td>NA</td><td>2010</td><td>Jan</td><td>6</td><td>Wed</td></tr>\n",
       "</tbody>\n",
       "</table>\n"
      ],
      "text/latex": [
       "A tibble: 1 × 10\n",
       "\\begin{tabular}{llllllllll}\n",
       " id & date & country & store & product & num\\_sold & year & mo & day & wkday\\\\\n",
       " <dbl> & <date> & <chr> & <chr> & <chr> & <dbl> & <dbl> & <ord> & <int> & <ord>\\\\\n",
       "\\hline\n",
       "\t 505 & 2010-01-06 & Kenya & Premium Sticker Mart & Holographic Goose & NA & 2010 & Jan & 6 & Wed\\\\\n",
       "\\end{tabular}\n"
      ],
      "text/markdown": [
       "\n",
       "A tibble: 1 × 10\n",
       "\n",
       "| id &lt;dbl&gt; | date &lt;date&gt; | country &lt;chr&gt; | store &lt;chr&gt; | product &lt;chr&gt; | num_sold &lt;dbl&gt; | year &lt;dbl&gt; | mo &lt;ord&gt; | day &lt;int&gt; | wkday &lt;ord&gt; |\n",
       "|---|---|---|---|---|---|---|---|---|---|\n",
       "| 505 | 2010-01-06 | Kenya | Premium Sticker Mart | Holographic Goose | NA | 2010 | Jan | 6 | Wed |\n",
       "\n"
      ],
      "text/plain": [
       "  id  date       country store                product           num_sold year\n",
       "1 505 2010-01-06 Kenya   Premium Sticker Mart Holographic Goose NA       2010\n",
       "  mo  day wkday\n",
       "1 Jan 6   Wed  "
      ]
     },
     "metadata": {},
     "output_type": "display_data"
    },
    {
     "data": {
      "text/html": [
       "<table class=\"dataframe\">\n",
       "<caption>A tibble: 1 × 10</caption>\n",
       "<thead>\n",
       "\t<tr><th scope=col>id</th><th scope=col>date</th><th scope=col>country</th><th scope=col>store</th><th scope=col>product</th><th scope=col>num_sold</th><th scope=col>year</th><th scope=col>mo</th><th scope=col>day</th><th scope=col>wkday</th></tr>\n",
       "\t<tr><th scope=col>&lt;dbl&gt;</th><th scope=col>&lt;date&gt;</th><th scope=col>&lt;chr&gt;</th><th scope=col>&lt;chr&gt;</th><th scope=col>&lt;chr&gt;</th><th scope=col>&lt;dbl&gt;</th><th scope=col>&lt;dbl&gt;</th><th scope=col>&lt;ord&gt;</th><th scope=col>&lt;int&gt;</th><th scope=col>&lt;ord&gt;</th></tr>\n",
       "</thead>\n",
       "<tbody>\n",
       "\t<tr><td>505</td><td>2010-01-06</td><td>Kenya</td><td>Premium Sticker Mart</td><td>Holographic Goose</td><td>NA</td><td>2010</td><td>Jan</td><td>6</td><td>Wed</td></tr>\n",
       "</tbody>\n",
       "</table>\n"
      ],
      "text/latex": [
       "A tibble: 1 × 10\n",
       "\\begin{tabular}{llllllllll}\n",
       " id & date & country & store & product & num\\_sold & year & mo & day & wkday\\\\\n",
       " <dbl> & <date> & <chr> & <chr> & <chr> & <dbl> & <dbl> & <ord> & <int> & <ord>\\\\\n",
       "\\hline\n",
       "\t 505 & 2010-01-06 & Kenya & Premium Sticker Mart & Holographic Goose & NA & 2010 & Jan & 6 & Wed\\\\\n",
       "\\end{tabular}\n"
      ],
      "text/markdown": [
       "\n",
       "A tibble: 1 × 10\n",
       "\n",
       "| id &lt;dbl&gt; | date &lt;date&gt; | country &lt;chr&gt; | store &lt;chr&gt; | product &lt;chr&gt; | num_sold &lt;dbl&gt; | year &lt;dbl&gt; | mo &lt;ord&gt; | day &lt;int&gt; | wkday &lt;ord&gt; |\n",
       "|---|---|---|---|---|---|---|---|---|---|\n",
       "| 505 | 2010-01-06 | Kenya | Premium Sticker Mart | Holographic Goose | NA | 2010 | Jan | 6 | Wed |\n",
       "\n"
      ],
      "text/plain": [
       "  id  date       country store                product           num_sold year\n",
       "1 505 2010-01-06 Kenya   Premium Sticker Mart Holographic Goose NA       2010\n",
       "  mo  day wkday\n",
       "1 Jan 6   Wed  "
      ]
     },
     "metadata": {},
     "output_type": "display_data"
    }
   ],
   "source": [
    "# Use dplyr's beween fct() \n",
    "\n",
    "# Define start and end dates \n",
    "start_date <- as.Date(\"2010-01-01\") \n",
    "end_date <- as.Date(\"2011-03-06\") \n",
    "\n",
    "# Filter data for the product \"Holographic Goose\", store \"Premium Sticker Mart\", and date range from Jan 1 to Mar 6 \n",
    "going_goners <- kenya %>% filter( product == \"Holographic Goose\" & \n",
    "                    store == \"Premium Sticker Mart\" & \n",
    "                    between(date, start_date, end_date) )\n",
    "\n",
    "(\"xxxxxxxxxxxxxxxxxxxxxxxxxxxxxxxxxxxxxxxxxxxxxxxxxxxxxxxxxxxxxxxxxxx\")\n",
    "dim(going_goners)  # all rows\n",
    "sum(is.na(going_goners))  # only NA rows\n",
    "(\"xxxxxxxxxxxxxxxxxxxxxxxxxxxxxxxxxxxxxxxxxxxxxxxxxxxxxxxxxxxxxxxxxxx\")\n",
    "\n",
    "going_goner_nas <- going_goners %>% filter(is.na(num_sold) )\n",
    "dim(going_goner_nas)\n",
    "\n",
    "head(going_goner_nas,3)\n",
    "\n",
    "(\"xxxxxxxxxxxxxxxxxxxxxxxxxxxxxxxxxxxxxxxxxxxxxxxxxxxxxxxxxxxxxxxxxxx\")\n",
    "going_goner_indices <- going_goner_nas$id\n",
    "length(going_goner_indices)\n",
    "head(going_goner_indices, 4)\n",
    "(\"xxxxxxxxxxxxxxxxxxxxxxxxxxxxxxxxxxxxxxxxxxxxxxxxxxxxxxxxxxxxxxxxxxx\")\n",
    " \n",
    "kenya %>% filter(id == 505) \n",
    "train %>% filter(id == 505)"
   ]
  },
  {
   "cell_type": "code",
   "execution_count": 52,
   "id": "fb7e55f0-04c5-4cce-9c94-8714cf5fbd57",
   "metadata": {},
   "outputs": [
    {
     "data": {
      "text/html": [
       "<table class=\"dataframe\">\n",
       "<caption>A data.frame: 7 × 2</caption>\n",
       "<thead>\n",
       "\t<tr><th scope=col>year</th><th scope=col>means</th></tr>\n",
       "\t<tr><th scope=col>&lt;dbl&gt;</th><th scope=col>&lt;dbl&gt;</th></tr>\n",
       "</thead>\n",
       "<tbody>\n",
       "\t<tr><td>2010</td><td>0.000</td></tr>\n",
       "\t<tr><td>2011</td><td>5.216</td></tr>\n",
       "\t<tr><td>2012</td><td>5.420</td></tr>\n",
       "\t<tr><td>2013</td><td>5.587</td></tr>\n",
       "\t<tr><td>2014</td><td>6.028</td></tr>\n",
       "\t<tr><td>2015</td><td>6.229</td></tr>\n",
       "\t<tr><td>2016</td><td>6.730</td></tr>\n",
       "</tbody>\n",
       "</table>\n"
      ],
      "text/latex": [
       "A data.frame: 7 × 2\n",
       "\\begin{tabular}{ll}\n",
       " year & means\\\\\n",
       " <dbl> & <dbl>\\\\\n",
       "\\hline\n",
       "\t 2010 & 0.000\\\\\n",
       "\t 2011 & 5.216\\\\\n",
       "\t 2012 & 5.420\\\\\n",
       "\t 2013 & 5.587\\\\\n",
       "\t 2014 & 6.028\\\\\n",
       "\t 2015 & 6.229\\\\\n",
       "\t 2016 & 6.730\\\\\n",
       "\\end{tabular}\n"
      ],
      "text/markdown": [
       "\n",
       "A data.frame: 7 × 2\n",
       "\n",
       "| year &lt;dbl&gt; | means &lt;dbl&gt; |\n",
       "|---|---|\n",
       "| 2010 | 0.000 |\n",
       "| 2011 | 5.216 |\n",
       "| 2012 | 5.420 |\n",
       "| 2013 | 5.587 |\n",
       "| 2014 | 6.028 |\n",
       "| 2015 | 6.229 |\n",
       "| 2016 | 6.730 |\n",
       "\n"
      ],
      "text/plain": [
       "  year means\n",
       "1 2010 0.000\n",
       "2 2011 5.216\n",
       "3 2012 5.420\n",
       "4 2013 5.587\n",
       "5 2014 6.028\n",
       "6 2015 6.229\n",
       "7 2016 6.730"
      ]
     },
     "metadata": {},
     "output_type": "display_data"
    }
   ],
   "source": [
    "psm_mean_yr <- data.frame(year = c(2010,2011,2012,2013,2014,2015,2016), means = c(0, 5.216, 5.42, 5.587, 6.028, 6.229, 6.73) )\n",
    "psm_mean_yr"
   ]
  },
  {
   "cell_type": "markdown",
   "id": "807c98f0-e3ec-4661-9b1f-2c1f5c920b5f",
   "metadata": {},
   "source": [
    "# <font color = lime> Premium Sticker Mart < 03/06/2012\n",
    "\n",
    "#### Remove the rows (290)  & Replace 356 NA w/ means? "
   ]
  },
  {
   "cell_type": "code",
   "execution_count": 53,
   "id": "56e19ca1-4e68-489a-bca5-554d484da5f6",
   "metadata": {},
   "outputs": [
    {
     "data": {
      "text/html": [
       "3756"
      ],
      "text/latex": [
       "3756"
      ],
      "text/markdown": [
       "3756"
      ],
      "text/plain": [
       "[1] 3756"
      ]
     },
     "metadata": {},
     "output_type": "display_data"
    },
    {
     "data": {
      "text/html": [
       "2067"
      ],
      "text/latex": [
       "2067"
      ],
      "text/markdown": [
       "2067"
      ],
      "text/plain": [
       "[1] 2067"
      ]
     },
     "metadata": {},
     "output_type": "display_data"
    },
    {
     "data": {
      "text/html": [
       "1689"
      ],
      "text/latex": [
       "1689"
      ],
      "text/markdown": [
       "1689"
      ],
      "text/plain": [
       "[1] 1689"
      ]
     },
     "metadata": {},
     "output_type": "display_data"
    }
   ],
   "source": [
    "sum(is.na(train)) # one NA replaced earlier \n",
    "sum(is.na(kenya))\n",
    "3756-2067"
   ]
  },
  {
   "cell_type": "code",
   "execution_count": null,
   "id": "e26f81d5-c606-4bb4-a55f-5b7d75e68727",
   "metadata": {},
   "outputs": [],
   "source": []
  },
  {
   "cell_type": "code",
   "execution_count": 54,
   "id": "647878a3-3329-4174-b8db-fdd2ec869b6c",
   "metadata": {
    "scrolled": true
   },
   "outputs": [
    {
     "data": {
      "text/html": [
       "<style>\n",
       ".list-inline {list-style: none; margin:0; padding: 0}\n",
       ".list-inline>li {display: inline-block}\n",
       ".list-inline>li:not(:last-child)::after {content: \"\\00b7\"; padding: 0 .5ex}\n",
       "</style>\n",
       "<ol class=list-inline><li>505</li><li>595</li><li>955</li><li>1045</li></ol>\n"
      ],
      "text/latex": [
       "\\begin{enumerate*}\n",
       "\\item 505\n",
       "\\item 595\n",
       "\\item 955\n",
       "\\item 1045\n",
       "\\end{enumerate*}\n"
      ],
      "text/markdown": [
       "1. 505\n",
       "2. 595\n",
       "3. 955\n",
       "4. 1045\n",
       "\n",
       "\n"
      ],
      "text/plain": [
       "[1]  505  595  955 1045"
      ]
     },
     "metadata": {},
     "output_type": "display_data"
    },
    {
     "data": {
      "text/html": [
       "<style>\n",
       ".list-inline {list-style: none; margin:0; padding: 0}\n",
       ".list-inline>li {display: inline-block}\n",
       ".list-inline>li:not(:last-child)::after {content: \"\\00b7\"; padding: 0 .5ex}\n",
       "</style>\n",
       "<ol class=list-inline><li>38215</li><li>38395</li></ol>\n"
      ],
      "text/latex": [
       "\\begin{enumerate*}\n",
       "\\item 38215\n",
       "\\item 38395\n",
       "\\end{enumerate*}\n"
      ],
      "text/markdown": [
       "1. 38215\n",
       "2. 38395\n",
       "\n",
       "\n"
      ],
      "text/plain": [
       "[1] 38215 38395"
      ]
     },
     "metadata": {},
     "output_type": "display_data"
    },
    {
     "data": {
      "text/html": [
       "<table class=\"dataframe\">\n",
       "<caption>A tibble: 1 × 10</caption>\n",
       "<thead>\n",
       "\t<tr><th scope=col>id</th><th scope=col>date</th><th scope=col>country</th><th scope=col>store</th><th scope=col>product</th><th scope=col>num_sold</th><th scope=col>year</th><th scope=col>mo</th><th scope=col>day</th><th scope=col>wkday</th></tr>\n",
       "\t<tr><th scope=col>&lt;dbl&gt;</th><th scope=col>&lt;date&gt;</th><th scope=col>&lt;chr&gt;</th><th scope=col>&lt;chr&gt;</th><th scope=col>&lt;chr&gt;</th><th scope=col>&lt;dbl&gt;</th><th scope=col>&lt;dbl&gt;</th><th scope=col>&lt;ord&gt;</th><th scope=col>&lt;int&gt;</th><th scope=col>&lt;ord&gt;</th></tr>\n",
       "</thead>\n",
       "<tbody>\n",
       "\t<tr><td>505</td><td>2010-01-06</td><td>Kenya</td><td>Premium Sticker Mart</td><td>Holographic Goose</td><td>NA</td><td>2010</td><td>Jan</td><td>6</td><td>Wed</td></tr>\n",
       "</tbody>\n",
       "</table>\n"
      ],
      "text/latex": [
       "A tibble: 1 × 10\n",
       "\\begin{tabular}{llllllllll}\n",
       " id & date & country & store & product & num\\_sold & year & mo & day & wkday\\\\\n",
       " <dbl> & <date> & <chr> & <chr> & <chr> & <dbl> & <dbl> & <ord> & <int> & <ord>\\\\\n",
       "\\hline\n",
       "\t 505 & 2010-01-06 & Kenya & Premium Sticker Mart & Holographic Goose & NA & 2010 & Jan & 6 & Wed\\\\\n",
       "\\end{tabular}\n"
      ],
      "text/markdown": [
       "\n",
       "A tibble: 1 × 10\n",
       "\n",
       "| id &lt;dbl&gt; | date &lt;date&gt; | country &lt;chr&gt; | store &lt;chr&gt; | product &lt;chr&gt; | num_sold &lt;dbl&gt; | year &lt;dbl&gt; | mo &lt;ord&gt; | day &lt;int&gt; | wkday &lt;ord&gt; |\n",
       "|---|---|---|---|---|---|---|---|---|---|\n",
       "| 505 | 2010-01-06 | Kenya | Premium Sticker Mart | Holographic Goose | NA | 2010 | Jan | 6 | Wed |\n",
       "\n"
      ],
      "text/plain": [
       "  id  date       country store                product           num_sold year\n",
       "1 505 2010-01-06 Kenya   Premium Sticker Mart Holographic Goose NA       2010\n",
       "  mo  day wkday\n",
       "1 Jan 6   Wed  "
      ]
     },
     "metadata": {},
     "output_type": "display_data"
    },
    {
     "data": {
      "text/html": [
       "<table class=\"dataframe\">\n",
       "<caption>A tibble: 1 × 10</caption>\n",
       "<thead>\n",
       "\t<tr><th scope=col>id</th><th scope=col>date</th><th scope=col>country</th><th scope=col>store</th><th scope=col>product</th><th scope=col>num_sold</th><th scope=col>year</th><th scope=col>mo</th><th scope=col>day</th><th scope=col>wkday</th></tr>\n",
       "\t<tr><th scope=col>&lt;dbl&gt;</th><th scope=col>&lt;date&gt;</th><th scope=col>&lt;chr&gt;</th><th scope=col>&lt;chr&gt;</th><th scope=col>&lt;chr&gt;</th><th scope=col>&lt;dbl&gt;</th><th scope=col>&lt;dbl&gt;</th><th scope=col>&lt;ord&gt;</th><th scope=col>&lt;int&gt;</th><th scope=col>&lt;ord&gt;</th></tr>\n",
       "</thead>\n",
       "<tbody>\n",
       "\t<tr><td>38395</td><td>2011-03-03</td><td>Kenya</td><td>Premium Sticker Mart</td><td>Holographic Goose</td><td>NA</td><td>2011</td><td>Mar</td><td>3</td><td>Thu</td></tr>\n",
       "</tbody>\n",
       "</table>\n"
      ],
      "text/latex": [
       "A tibble: 1 × 10\n",
       "\\begin{tabular}{llllllllll}\n",
       " id & date & country & store & product & num\\_sold & year & mo & day & wkday\\\\\n",
       " <dbl> & <date> & <chr> & <chr> & <chr> & <dbl> & <dbl> & <ord> & <int> & <ord>\\\\\n",
       "\\hline\n",
       "\t 38395 & 2011-03-03 & Kenya & Premium Sticker Mart & Holographic Goose & NA & 2011 & Mar & 3 & Thu\\\\\n",
       "\\end{tabular}\n"
      ],
      "text/markdown": [
       "\n",
       "A tibble: 1 × 10\n",
       "\n",
       "| id &lt;dbl&gt; | date &lt;date&gt; | country &lt;chr&gt; | store &lt;chr&gt; | product &lt;chr&gt; | num_sold &lt;dbl&gt; | year &lt;dbl&gt; | mo &lt;ord&gt; | day &lt;int&gt; | wkday &lt;ord&gt; |\n",
       "|---|---|---|---|---|---|---|---|---|---|\n",
       "| 38395 | 2011-03-03 | Kenya | Premium Sticker Mart | Holographic Goose | NA | 2011 | Mar | 3 | Thu |\n",
       "\n"
      ],
      "text/plain": [
       "  id    date       country store                product           num_sold year\n",
       "1 38395 2011-03-03 Kenya   Premium Sticker Mart Holographic Goose NA       2011\n",
       "  mo  day wkday\n",
       "1 Mar 3   Thu  "
      ]
     },
     "metadata": {},
     "output_type": "display_data"
    },
    {
     "data": {
      "text/html": [
       "290"
      ],
      "text/latex": [
       "290"
      ],
      "text/markdown": [
       "290"
      ],
      "text/plain": [
       "[1] 290"
      ]
     },
     "metadata": {},
     "output_type": "display_data"
    },
    {
     "data": {
      "text/html": [
       "35798"
      ],
      "text/latex": [
       "35798"
      ],
      "text/markdown": [
       "35798"
      ],
      "text/plain": [
       "[1] 35798"
      ]
     },
     "metadata": {},
     "output_type": "display_data"
    },
    {
     "data": {
      "text/html": [
       "225016"
      ],
      "text/latex": [
       "225016"
      ],
      "text/markdown": [
       "225016"
      ],
      "text/plain": [
       "[1] 225016"
      ]
     },
     "metadata": {},
     "output_type": "display_data"
    }
   ],
   "source": [
    "head(going_goner_indices, 4)\n",
    "tail(going_goner_indices, 2)\n",
    "\n",
    "kenya %>% filter(id == 505)\n",
    "# train %>% filter(id == 1855)\n",
    "train %>% filter(id == 38395)   # last day in range before 3/06/2012\n",
    "length(going_goner_indices)\n",
    "\n",
    "nrow(kenya)\n",
    "nrow(train)"
   ]
  },
  {
   "cell_type": "markdown",
   "id": "f4912c70-91fc-448a-a935-5861967570d7",
   "metadata": {},
   "source": [
    "# <font color = lime> Remove range:"
   ]
  },
  {
   "cell_type": "code",
   "execution_count": 55,
   "id": "424cd590-0e16-47a2-a8ad-c0b9e33610fb",
   "metadata": {
    "scrolled": true
   },
   "outputs": [
    {
     "data": {
      "text/html": [
       "35508"
      ],
      "text/latex": [
       "35508"
      ],
      "text/markdown": [
       "35508"
      ],
      "text/plain": [
       "[1] 35508"
      ]
     },
     "metadata": {},
     "output_type": "display_data"
    },
    {
     "data": {
      "text/html": [
       "224726"
      ],
      "text/latex": [
       "224726"
      ],
      "text/markdown": [
       "224726"
      ],
      "text/plain": [
       "[1] 224726"
      ]
     },
     "metadata": {},
     "output_type": "display_data"
    },
    {
     "name": "stdout",
     "output_type": "stream",
     "text": [
      "\n",
      " The nrow of kenya after removal of rows: 35798-290 = 35508.  35508 \n",
      "\n"
     ]
    },
    {
     "data": {
      "text/html": [
       "<table class=\"dataframe\">\n",
       "<caption>A tibble: 0 × 10</caption>\n",
       "<thead>\n",
       "\t<tr><th scope=col>id</th><th scope=col>date</th><th scope=col>country</th><th scope=col>store</th><th scope=col>product</th><th scope=col>num_sold</th><th scope=col>year</th><th scope=col>mo</th><th scope=col>day</th><th scope=col>wkday</th></tr>\n",
       "\t<tr><th scope=col>&lt;dbl&gt;</th><th scope=col>&lt;date&gt;</th><th scope=col>&lt;chr&gt;</th><th scope=col>&lt;chr&gt;</th><th scope=col>&lt;chr&gt;</th><th scope=col>&lt;dbl&gt;</th><th scope=col>&lt;dbl&gt;</th><th scope=col>&lt;ord&gt;</th><th scope=col>&lt;int&gt;</th><th scope=col>&lt;ord&gt;</th></tr>\n",
       "</thead>\n",
       "<tbody>\n",
       "</tbody>\n",
       "</table>\n"
      ],
      "text/latex": [
       "A tibble: 0 × 10\n",
       "\\begin{tabular}{llllllllll}\n",
       " id & date & country & store & product & num\\_sold & year & mo & day & wkday\\\\\n",
       " <dbl> & <date> & <chr> & <chr> & <chr> & <dbl> & <dbl> & <ord> & <int> & <ord>\\\\\n",
       "\\hline\n",
       "\\end{tabular}\n"
      ],
      "text/markdown": [
       "\n",
       "A tibble: 0 × 10\n",
       "\n",
       "| id &lt;dbl&gt; | date &lt;date&gt; | country &lt;chr&gt; | store &lt;chr&gt; | product &lt;chr&gt; | num_sold &lt;dbl&gt; | year &lt;dbl&gt; | mo &lt;ord&gt; | day &lt;int&gt; | wkday &lt;ord&gt; |\n",
       "|---|---|---|---|---|---|---|---|---|---|\n",
       "\n"
      ],
      "text/plain": [
       "     id date country store product num_sold year mo day wkday"
      ]
     },
     "metadata": {},
     "output_type": "display_data"
    }
   ],
   "source": [
    "# Remove rows from kenya and train using the vector of row ids \n",
    "kenya <- kenya %>% filter(!(id %in% going_goner_indices))\n",
    "train <- train %>% filter(!(id %in% going_goner_indices))\n",
    "nrow(kenya)\n",
    "nrow(train)\n",
    "\n",
    "cat(\"\\n The nrow of kenya after removal of rows: 35798-290 = 35508. \", nrow(kenya), \"\\n\\n\")\n",
    "train %>% filter(id == 38395)   # indices have been removed"
   ]
  },
  {
   "cell_type": "code",
   "execution_count": 56,
   "id": "2cc9125d-3fd2-49a5-ae98-e1e2779caf10",
   "metadata": {},
   "outputs": [
    {
     "data": {
      "text/html": [
       "3466"
      ],
      "text/latex": [
       "3466"
      ],
      "text/markdown": [
       "3466"
      ],
      "text/plain": [
       "[1] 3466"
      ]
     },
     "metadata": {},
     "output_type": "display_data"
    },
    {
     "data": {
      "text/html": [
       "1777"
      ],
      "text/latex": [
       "1777"
      ],
      "text/markdown": [
       "1777"
      ],
      "text/plain": [
       "[1] 1777"
      ]
     },
     "metadata": {},
     "output_type": "display_data"
    }
   ],
   "source": [
    "sum(is.na(train))   # 3757 - 1 - 290 = 3466.  Agrees / Reconciles\n",
    "sum(is.na(kenya))"
   ]
  },
  {
   "cell_type": "code",
   "execution_count": 57,
   "id": "99f52183-d76f-4240-a6c8-e0187f2c82a2",
   "metadata": {},
   "outputs": [
    {
     "data": {
      "text/html": [
       "<style>\n",
       ".list-inline {list-style: none; margin:0; padding: 0}\n",
       ".list-inline>li {display: inline-block}\n",
       ".list-inline>li:not(:last-child)::after {content: \"\\00b7\"; padding: 0 .5ex}\n",
       "</style>\n",
       "<ol class=list-inline><li>356</li><li>10</li></ol>\n"
      ],
      "text/latex": [
       "\\begin{enumerate*}\n",
       "\\item 356\n",
       "\\item 10\n",
       "\\end{enumerate*}\n"
      ],
      "text/markdown": [
       "1. 356\n",
       "2. 10\n",
       "\n",
       "\n"
      ],
      "text/plain": [
       "[1] 356  10"
      ]
     },
     "metadata": {},
     "output_type": "display_data"
    },
    {
     "data": {
      "text/html": [
       "356"
      ],
      "text/latex": [
       "356"
      ],
      "text/markdown": [
       "356"
      ],
      "text/plain": [
       "[1] 356"
      ]
     },
     "metadata": {},
     "output_type": "display_data"
    },
    {
     "data": {
      "text/html": [
       "<table class=\"dataframe\">\n",
       "<caption>A tibble: 2 × 10</caption>\n",
       "<thead>\n",
       "\t<tr><th scope=col>id</th><th scope=col>date</th><th scope=col>country</th><th scope=col>store</th><th scope=col>product</th><th scope=col>num_sold</th><th scope=col>year</th><th scope=col>mo</th><th scope=col>day</th><th scope=col>wkday</th></tr>\n",
       "\t<tr><th scope=col>&lt;dbl&gt;</th><th scope=col>&lt;date&gt;</th><th scope=col>&lt;chr&gt;</th><th scope=col>&lt;chr&gt;</th><th scope=col>&lt;chr&gt;</th><th scope=col>&lt;dbl&gt;</th><th scope=col>&lt;dbl&gt;</th><th scope=col>&lt;ord&gt;</th><th scope=col>&lt;int&gt;</th><th scope=col>&lt;ord&gt;</th></tr>\n",
       "</thead>\n",
       "<tbody>\n",
       "\t<tr><td>38755</td><td>2011-03-07</td><td>Kenya</td><td>Premium Sticker Mart</td><td>Holographic Goose</td><td>NA</td><td>2011</td><td>Mar</td><td>7</td><td>Mon</td></tr>\n",
       "\t<tr><td>38845</td><td>2011-03-08</td><td>Kenya</td><td>Premium Sticker Mart</td><td>Holographic Goose</td><td>NA</td><td>2011</td><td>Mar</td><td>8</td><td>Tue</td></tr>\n",
       "</tbody>\n",
       "</table>\n"
      ],
      "text/latex": [
       "A tibble: 2 × 10\n",
       "\\begin{tabular}{llllllllll}\n",
       " id & date & country & store & product & num\\_sold & year & mo & day & wkday\\\\\n",
       " <dbl> & <date> & <chr> & <chr> & <chr> & <dbl> & <dbl> & <ord> & <int> & <ord>\\\\\n",
       "\\hline\n",
       "\t 38755 & 2011-03-07 & Kenya & Premium Sticker Mart & Holographic Goose & NA & 2011 & Mar & 7 & Mon\\\\\n",
       "\t 38845 & 2011-03-08 & Kenya & Premium Sticker Mart & Holographic Goose & NA & 2011 & Mar & 8 & Tue\\\\\n",
       "\\end{tabular}\n"
      ],
      "text/markdown": [
       "\n",
       "A tibble: 2 × 10\n",
       "\n",
       "| id &lt;dbl&gt; | date &lt;date&gt; | country &lt;chr&gt; | store &lt;chr&gt; | product &lt;chr&gt; | num_sold &lt;dbl&gt; | year &lt;dbl&gt; | mo &lt;ord&gt; | day &lt;int&gt; | wkday &lt;ord&gt; |\n",
       "|---|---|---|---|---|---|---|---|---|---|\n",
       "| 38755 | 2011-03-07 | Kenya | Premium Sticker Mart | Holographic Goose | NA | 2011 | Mar | 7 | Mon |\n",
       "| 38845 | 2011-03-08 | Kenya | Premium Sticker Mart | Holographic Goose | NA | 2011 | Mar | 8 | Tue |\n",
       "\n"
      ],
      "text/plain": [
       "  id    date       country store                product           num_sold year\n",
       "1 38755 2011-03-07 Kenya   Premium Sticker Mart Holographic Goose NA       2011\n",
       "2 38845 2011-03-08 Kenya   Premium Sticker Mart Holographic Goose NA       2011\n",
       "  mo  day wkday\n",
       "1 Mar 7   Mon  \n",
       "2 Mar 8   Tue  "
      ]
     },
     "metadata": {},
     "output_type": "display_data"
    }
   ],
   "source": [
    "dim(kenya %>% filter( is.na(num_sold) & product == \"Holographic Goose\" & store == \"Premium Sticker Mart\"))\n",
    "646 -290  # proofs\n",
    "head(kenya %>% filter( is.na(num_sold) & product == \"Holographic Goose\" & store == \"Premium Sticker Mart\"),2)"
   ]
  },
  {
   "cell_type": "markdown",
   "id": "959925bb-820b-4d1f-bad7-8532c7bbadff",
   "metadata": {},
   "source": [
    "# <font color = lime> Remove range: again ?"
   ]
  },
  {
   "cell_type": "code",
   "execution_count": 58,
   "id": "6e7ce94d-2649-405d-acdd-5943ef6dbbd2",
   "metadata": {},
   "outputs": [],
   "source": [
    "# nrow(train)\n",
    "# # Remove rows from kenya and train using the vector of row ids \n",
    "# train <- train %>% filter(!(id %in% going_goner_indices))\n",
    "# nrow(train)\n",
    "# 225016 -290 # proofs"
   ]
  },
  {
   "cell_type": "code",
   "execution_count": 59,
   "id": "bc7ab34f-50cb-4114-832a-73ced0094fce",
   "metadata": {},
   "outputs": [
    {
     "data": {
      "text/html": [
       "3466"
      ],
      "text/latex": [
       "3466"
      ],
      "text/markdown": [
       "3466"
      ],
      "text/plain": [
       "[1] 3466"
      ]
     },
     "metadata": {},
     "output_type": "display_data"
    },
    {
     "data": {
      "text/html": [
       "1777"
      ],
      "text/latex": [
       "1777"
      ],
      "text/markdown": [
       "1777"
      ],
      "text/plain": [
       "[1] 1777"
      ]
     },
     "metadata": {},
     "output_type": "display_data"
    }
   ],
   "source": [
    "sum(is.na(train))\n",
    "sum(is.na(kenya))"
   ]
  },
  {
   "cell_type": "code",
   "execution_count": null,
   "id": "f207fddc-8d4c-4e1f-a4bb-0d84221c7efb",
   "metadata": {},
   "outputs": [],
   "source": []
  },
  {
   "cell_type": "markdown",
   "id": "de3f1869-836f-41cf-be18-9e913da19bbf",
   "metadata": {},
   "source": [
    "## <font color = yellow> train / kenya: all NA rows < 03/06/2012 are gone. \n",
    "\n",
    "#### <font color = lime> Next ... Replace remaining (356) NA w/ ? || Kenya || Premium Sticker Mart || Holographic Goose || > 03/06/12"
   ]
  },
  {
   "cell_type": "code",
   "execution_count": null,
   "id": "6c54c5e6-7f17-4546-af89-94ef8d77c2bb",
   "metadata": {},
   "outputs": [],
   "source": []
  },
  {
   "cell_type": "code",
   "execution_count": 60,
   "id": "96d0da42-04f4-409d-b740-e2ed38db6168",
   "metadata": {},
   "outputs": [
    {
     "data": {
      "text/html": [
       "356"
      ],
      "text/latex": [
       "356"
      ],
      "text/markdown": [
       "356"
      ],
      "text/plain": [
       "[1] 356"
      ]
     },
     "metadata": {},
     "output_type": "display_data"
    },
    {
     "data": {
      "text/html": [
       "<style>\n",
       ".list-inline {list-style: none; margin:0; padding: 0}\n",
       ".list-inline>li {display: inline-block}\n",
       ".list-inline>li:not(:last-child)::after {content: \"\\00b7\"; padding: 0 .5ex}\n",
       "</style>\n",
       "<ol class=list-inline><li>38755</li><li>38845</li><li>38935</li><li>39025</li><li>39115</li><li>39385</li></ol>\n"
      ],
      "text/latex": [
       "\\begin{enumerate*}\n",
       "\\item 38755\n",
       "\\item 38845\n",
       "\\item 38935\n",
       "\\item 39025\n",
       "\\item 39115\n",
       "\\item 39385\n",
       "\\end{enumerate*}\n"
      ],
      "text/markdown": [
       "1. 38755\n",
       "2. 38845\n",
       "3. 38935\n",
       "4. 39025\n",
       "5. 39115\n",
       "6. 39385\n",
       "\n",
       "\n"
      ],
      "text/plain": [
       "[1] 38755 38845 38935 39025 39115 39385"
      ]
     },
     "metadata": {},
     "output_type": "display_data"
    },
    {
     "data": {
      "text/html": [
       "<table class=\"dataframe\">\n",
       "<caption>A tibble: 1 × 10</caption>\n",
       "<thead>\n",
       "\t<tr><th scope=col>id</th><th scope=col>date</th><th scope=col>country</th><th scope=col>store</th><th scope=col>product</th><th scope=col>num_sold</th><th scope=col>year</th><th scope=col>mo</th><th scope=col>day</th><th scope=col>wkday</th></tr>\n",
       "\t<tr><th scope=col>&lt;dbl&gt;</th><th scope=col>&lt;date&gt;</th><th scope=col>&lt;chr&gt;</th><th scope=col>&lt;chr&gt;</th><th scope=col>&lt;chr&gt;</th><th scope=col>&lt;dbl&gt;</th><th scope=col>&lt;dbl&gt;</th><th scope=col>&lt;ord&gt;</th><th scope=col>&lt;int&gt;</th><th scope=col>&lt;ord&gt;</th></tr>\n",
       "</thead>\n",
       "<tbody>\n",
       "\t<tr><td>38755</td><td>2011-03-07</td><td>Kenya</td><td>Premium Sticker Mart</td><td>Holographic Goose</td><td>NA</td><td>2011</td><td>Mar</td><td>7</td><td>Mon</td></tr>\n",
       "</tbody>\n",
       "</table>\n"
      ],
      "text/latex": [
       "A tibble: 1 × 10\n",
       "\\begin{tabular}{llllllllll}\n",
       " id & date & country & store & product & num\\_sold & year & mo & day & wkday\\\\\n",
       " <dbl> & <date> & <chr> & <chr> & <chr> & <dbl> & <dbl> & <ord> & <int> & <ord>\\\\\n",
       "\\hline\n",
       "\t 38755 & 2011-03-07 & Kenya & Premium Sticker Mart & Holographic Goose & NA & 2011 & Mar & 7 & Mon\\\\\n",
       "\\end{tabular}\n"
      ],
      "text/markdown": [
       "\n",
       "A tibble: 1 × 10\n",
       "\n",
       "| id &lt;dbl&gt; | date &lt;date&gt; | country &lt;chr&gt; | store &lt;chr&gt; | product &lt;chr&gt; | num_sold &lt;dbl&gt; | year &lt;dbl&gt; | mo &lt;ord&gt; | day &lt;int&gt; | wkday &lt;ord&gt; |\n",
       "|---|---|---|---|---|---|---|---|---|---|\n",
       "| 38755 | 2011-03-07 | Kenya | Premium Sticker Mart | Holographic Goose | NA | 2011 | Mar | 7 | Mon |\n",
       "\n"
      ],
      "text/plain": [
       "  id    date       country store                product           num_sold year\n",
       "1 38755 2011-03-07 Kenya   Premium Sticker Mart Holographic Goose NA       2011\n",
       "  mo  day wkday\n",
       "1 Mar 7   Mon  "
      ]
     },
     "metadata": {},
     "output_type": "display_data"
    }
   ],
   "source": [
    "temp <- kenya %>% filter(store == \"Premium Sticker Mart\" & product == \"Holographic Goose\" & is.na(num_sold) )\n",
    "psm_indices <- temp$id\n",
    "length(psm_indices)\n",
    "head(psm_indices)\n",
    "kenya %>% filter(id == 38755)"
   ]
  },
  {
   "cell_type": "markdown",
   "id": "961a4644-a65c-4c29-a931-e13716daeaf7",
   "metadata": {},
   "source": [
    "### <font color = lime> Group_by years and find the mean values"
   ]
  },
  {
   "cell_type": "code",
   "execution_count": 61,
   "id": "54af9043-4319-404d-93ee-d71e5d03e263",
   "metadata": {},
   "outputs": [
    {
     "data": {
      "text/html": [
       "<style>\n",
       ".list-inline {list-style: none; margin:0; padding: 0}\n",
       ".list-inline>li {display: inline-block}\n",
       ".list-inline>li:not(:last-child)::after {content: \"\\00b7\"; padding: 0 .5ex}\n",
       "</style>\n",
       "<ol class=list-inline><li>1911</li><li>10</li></ol>\n"
      ],
      "text/latex": [
       "\\begin{enumerate*}\n",
       "\\item 1911\n",
       "\\item 10\n",
       "\\end{enumerate*}\n"
      ],
      "text/markdown": [
       "1. 1911\n",
       "2. 10\n",
       "\n",
       "\n"
      ],
      "text/plain": [
       "[1] 1911   10"
      ]
     },
     "metadata": {},
     "output_type": "display_data"
    },
    {
     "data": {
      "text/html": [
       "<table class=\"dataframe\">\n",
       "<caption>A data.frame: 7 × 4</caption>\n",
       "<thead>\n",
       "\t<tr><th scope=col>NAs</th><th scope=col>Sold</th><th scope=col>Mean</th><th scope=col>Yrs</th></tr>\n",
       "\t<tr><th scope=col>&lt;dbl&gt;</th><th scope=col>&lt;dbl&gt;</th><th scope=col>&lt;dbl&gt;</th><th scope=col>&lt;dbl&gt;</th></tr>\n",
       "</thead>\n",
       "<tbody>\n",
       "\t<tr><td> NA</td><td> 88</td><td>0.000</td><td>2010</td></tr>\n",
       "\t<tr><td>204</td><td>148</td><td>5.216</td><td>2011</td></tr>\n",
       "\t<tr><td> 92</td><td>274</td><td>5.420</td><td>2012</td></tr>\n",
       "\t<tr><td> 48</td><td>317</td><td>5.587</td><td>2013</td></tr>\n",
       "\t<tr><td> 10</td><td>355</td><td>6.028</td><td>2014</td></tr>\n",
       "\t<tr><td>  2</td><td>363</td><td>6.229</td><td>2015</td></tr>\n",
       "\t<tr><td>  0</td><td>366</td><td>6.730</td><td>2016</td></tr>\n",
       "</tbody>\n",
       "</table>\n"
      ],
      "text/latex": [
       "A data.frame: 7 × 4\n",
       "\\begin{tabular}{llll}\n",
       " NAs & Sold & Mean & Yrs\\\\\n",
       " <dbl> & <dbl> & <dbl> & <dbl>\\\\\n",
       "\\hline\n",
       "\t  NA &  88 & 0.000 & 2010\\\\\n",
       "\t 204 & 148 & 5.216 & 2011\\\\\n",
       "\t  92 & 274 & 5.420 & 2012\\\\\n",
       "\t  48 & 317 & 5.587 & 2013\\\\\n",
       "\t  10 & 355 & 6.028 & 2014\\\\\n",
       "\t   2 & 363 & 6.229 & 2015\\\\\n",
       "\t   0 & 366 & 6.730 & 2016\\\\\n",
       "\\end{tabular}\n"
      ],
      "text/markdown": [
       "\n",
       "A data.frame: 7 × 4\n",
       "\n",
       "| NAs &lt;dbl&gt; | Sold &lt;dbl&gt; | Mean &lt;dbl&gt; | Yrs &lt;dbl&gt; |\n",
       "|---|---|---|---|\n",
       "|  NA |  88 | 0.000 | 2010 |\n",
       "| 204 | 148 | 5.216 | 2011 |\n",
       "|  92 | 274 | 5.420 | 2012 |\n",
       "|  48 | 317 | 5.587 | 2013 |\n",
       "|  10 | 355 | 6.028 | 2014 |\n",
       "|   2 | 363 | 6.229 | 2015 |\n",
       "|   0 | 366 | 6.730 | 2016 |\n",
       "\n"
      ],
      "text/plain": [
       "  NAs Sold Mean  Yrs \n",
       "1  NA  88  0.000 2010\n",
       "2 204 148  5.216 2011\n",
       "3  92 274  5.420 2012\n",
       "4  48 317  5.587 2013\n",
       "5  10 355  6.028 2014\n",
       "6   2 363  6.229 2015\n",
       "7   0 366  6.730 2016"
      ]
     },
     "metadata": {},
     "output_type": "display_data"
    },
    {
     "data": {
      "text/html": [
       "1911"
      ],
      "text/latex": [
       "1911"
      ],
      "text/markdown": [
       "1911"
      ],
      "text/plain": [
       "[1] 1911"
      ]
     },
     "metadata": {},
     "output_type": "display_data"
    },
    {
     "data": {
      "text/html": [
       "356"
      ],
      "text/latex": [
       "356"
      ],
      "text/markdown": [
       "356"
      ],
      "text/plain": [
       "[1] 356"
      ]
     },
     "metadata": {},
     "output_type": "display_data"
    }
   ],
   "source": [
    "dim(kenya %>% filter(store == \"Premium Sticker Mart\" & product == \"Holographic Goose\" & !is.na(num_sold) ))\n",
    "premium_sticker_mart_yr_nas <- data.frame(NAs = c(NA,204 ,92,48,10,2,0 ),   # zero replaced with NA to remove first segment in plot\n",
    "                         Sold = c(88,148,274,317,355,363,366),\n",
    "                        Mean = c(0, 5.216, 5.42, 5.587,6.028, 6.229, 6.73),  \n",
    "                        Yrs = c(2010, 2011,2012,2013,2014,2015, 2016)  )\n",
    "premium_sticker_mart_yr_nas\n",
    "sum(premium_sticker_mart_yr_nas$Sold)\n",
    "204+92+48+10+2   # sum of NAs"
   ]
  },
  {
   "cell_type": "code",
   "execution_count": 62,
   "id": "1f007148-4b91-4999-b405-f25b4587a457",
   "metadata": {},
   "outputs": [
    {
     "name": "stderr",
     "output_type": "stream",
     "text": [
      "Warning message:\n",
      "\"\u001b[1m\u001b[22mRemoved 1 row containing missing values or values\n",
      "outside the scale range (`geom_line()`).\"\n",
      "Warning message:\n",
      "\"\u001b[1m\u001b[22mRemoved 1 row containing missing values or values\n",
      "outside the scale range (`geom_point()`).\"\n"
     ]
    },
    {
     "data": {
      "image/png": "[encoded data removed]",
      "text/plain": [
       "plot without title"
      ]
     },
     "metadata": {
      "image/png": {
       "height": 420,
       "width": 420
      }
     },
     "output_type": "display_data"
    }
   ],
   "source": [
    "# Reshape data to long format\n",
    "data_long <- premium_sticker_mart_yr_nas %>%\n",
    "  pivot_longer(cols = c(NAs, Sold, Mean), names_to = \"Type\", values_to = \"Value\")\n",
    "\n",
    "# Display the reshaped data (optional)\n",
    "# print(data_long)\n",
    "\n",
    "# Create the plot\n",
    "ggplot(data_long, aes(x = Yrs, y = Value, color = Type, group = Type)) +\n",
    "  geom_line(size = 1) +\n",
    "  geom_point(size = 2) +\n",
    "  labs(\n",
    "    title = \"NAs, Sold, and Mean Values Over Years\",\n",
    "    x = \"Year\",\n",
    "    y = \"Value\",\n",
    "    color = \"Legend\"\n",
    "  ) +\n",
    "  theme_minimal()\n",
    "\n"
   ]
  },
  {
   "cell_type": "code",
   "execution_count": 63,
   "id": "72871e14-b3ef-4f4c-9f76-eb48f2e974d3",
   "metadata": {},
   "outputs": [
    {
     "data": {
      "text/html": [
       "204"
      ],
      "text/latex": [
       "204"
      ],
      "text/markdown": [
       "204"
      ],
      "text/plain": [
       "[1] 204"
      ]
     },
     "metadata": {},
     "output_type": "display_data"
    },
    {
     "data": {
      "text/html": [
       "92"
      ],
      "text/latex": [
       "92"
      ],
      "text/markdown": [
       "92"
      ],
      "text/plain": [
       "[1] 92"
      ]
     },
     "metadata": {},
     "output_type": "display_data"
    },
    {
     "data": {
      "text/html": [
       "48"
      ],
      "text/latex": [
       "48"
      ],
      "text/markdown": [
       "48"
      ],
      "text/plain": [
       "[1] 48"
      ]
     },
     "metadata": {},
     "output_type": "display_data"
    },
    {
     "data": {
      "text/html": [
       "10"
      ],
      "text/latex": [
       "10"
      ],
      "text/markdown": [
       "10"
      ],
      "text/plain": [
       "[1] 10"
      ]
     },
     "metadata": {},
     "output_type": "display_data"
    },
    {
     "data": {
      "text/html": [
       "2"
      ],
      "text/latex": [
       "2"
      ],
      "text/markdown": [
       "2"
      ],
      "text/plain": [
       "[1] 2"
      ]
     },
     "metadata": {},
     "output_type": "display_data"
    },
    {
     "data": {
      "text/html": [
       "0"
      ],
      "text/latex": [
       "0"
      ],
      "text/markdown": [
       "0"
      ],
      "text/plain": [
       "[1] 0"
      ]
     },
     "metadata": {},
     "output_type": "display_data"
    },
    {
     "data": {
      "text/html": [
       "<table class=\"dataframe\">\n",
       "<caption>A data.frame: 7 × 4</caption>\n",
       "<thead>\n",
       "\t<tr><th scope=col>NAs</th><th scope=col>Sold</th><th scope=col>Mean</th><th scope=col>Yrs</th></tr>\n",
       "\t<tr><th scope=col>&lt;dbl&gt;</th><th scope=col>&lt;dbl&gt;</th><th scope=col>&lt;dbl&gt;</th><th scope=col>&lt;dbl&gt;</th></tr>\n",
       "</thead>\n",
       "<tbody>\n",
       "\t<tr><td> NA</td><td> 88</td><td>0.000</td><td>2010</td></tr>\n",
       "\t<tr><td>204</td><td>148</td><td>5.216</td><td>2011</td></tr>\n",
       "\t<tr><td> 92</td><td>274</td><td>5.420</td><td>2012</td></tr>\n",
       "\t<tr><td> 48</td><td>317</td><td>5.587</td><td>2013</td></tr>\n",
       "\t<tr><td> 10</td><td>355</td><td>6.028</td><td>2014</td></tr>\n",
       "\t<tr><td>  2</td><td>363</td><td>6.229</td><td>2015</td></tr>\n",
       "\t<tr><td>  0</td><td>366</td><td>6.730</td><td>2016</td></tr>\n",
       "</tbody>\n",
       "</table>\n"
      ],
      "text/latex": [
       "A data.frame: 7 × 4\n",
       "\\begin{tabular}{llll}\n",
       " NAs & Sold & Mean & Yrs\\\\\n",
       " <dbl> & <dbl> & <dbl> & <dbl>\\\\\n",
       "\\hline\n",
       "\t  NA &  88 & 0.000 & 2010\\\\\n",
       "\t 204 & 148 & 5.216 & 2011\\\\\n",
       "\t  92 & 274 & 5.420 & 2012\\\\\n",
       "\t  48 & 317 & 5.587 & 2013\\\\\n",
       "\t  10 & 355 & 6.028 & 2014\\\\\n",
       "\t   2 & 363 & 6.229 & 2015\\\\\n",
       "\t   0 & 366 & 6.730 & 2016\\\\\n",
       "\\end{tabular}\n"
      ],
      "text/markdown": [
       "\n",
       "A data.frame: 7 × 4\n",
       "\n",
       "| NAs &lt;dbl&gt; | Sold &lt;dbl&gt; | Mean &lt;dbl&gt; | Yrs &lt;dbl&gt; |\n",
       "|---|---|---|---|\n",
       "|  NA |  88 | 0.000 | 2010 |\n",
       "| 204 | 148 | 5.216 | 2011 |\n",
       "|  92 | 274 | 5.420 | 2012 |\n",
       "|  48 | 317 | 5.587 | 2013 |\n",
       "|  10 | 355 | 6.028 | 2014 |\n",
       "|   2 | 363 | 6.229 | 2015 |\n",
       "|   0 | 366 | 6.730 | 2016 |\n",
       "\n"
      ],
      "text/plain": [
       "  NAs Sold Mean  Yrs \n",
       "1  NA  88  0.000 2010\n",
       "2 204 148  5.216 2011\n",
       "3  92 274  5.420 2012\n",
       "4  48 317  5.587 2013\n",
       "5  10 355  6.028 2014\n",
       "6   2 363  6.229 2015\n",
       "7   0 366  6.730 2016"
      ]
     },
     "metadata": {},
     "output_type": "display_data"
    },
    {
     "data": {
      "text/html": [
       "356"
      ],
      "text/latex": [
       "356"
      ],
      "text/markdown": [
       "356"
      ],
      "text/plain": [
       "[1] 356"
      ]
     },
     "metadata": {},
     "output_type": "display_data"
    },
    {
     "data": {
      "text/html": [
       "1911"
      ],
      "text/latex": [
       "1911"
      ],
      "text/markdown": [
       "1911"
      ],
      "text/plain": [
       "[1] 1911"
      ]
     },
     "metadata": {},
     "output_type": "display_data"
    }
   ],
   "source": [
    "temp <- kenya %>% filter(store == \"Premium Sticker Mart\" & product == \"Holographic Goose\" & is.na(num_sold) & year == 2011)\n",
    "indice2011 <- temp$id \n",
    "length(indice2011)\n",
    "temp <- kenya %>% filter(store == \"Premium Sticker Mart\" & product == \"Holographic Goose\" & is.na(num_sold) & year == 2012)\n",
    "indice2012 <- temp$id\n",
    "length(indice2012)\n",
    "temp <- kenya %>% filter(store == \"Premium Sticker Mart\" & product == \"Holographic Goose\" & is.na(num_sold) & year == 2013)\n",
    "indice2013 <- temp$id\n",
    "length(indice2013)\n",
    "temp <- kenya %>% filter(store == \"Premium Sticker Mart\" & product == \"Holographic Goose\" & is.na(num_sold) & year == 2014)\n",
    "indice2014 <- temp$id \n",
    "length(indice2014)\n",
    "temp <- kenya %>% filter(store == \"Premium Sticker Mart\" & product == \"Holographic Goose\" & is.na(num_sold) & year == 2015)\n",
    "indice2015 <- temp$id \n",
    "length(indice2015)\n",
    "temp <- kenya %>% filter(store == \"Premium Sticker Mart\" & product == \"Holographic Goose\" & is.na(num_sold) & year == 2016)\n",
    "indice2016 <- temp$id \n",
    "length(indice2016)\n",
    "\n",
    "premium_sticker_mart_yr_nas       \n",
    "204+92+48+10+2\n",
    "88+148+274+317+355+363+366"
   ]
  },
  {
   "cell_type": "code",
   "execution_count": 64,
   "id": "ff982eb8-365f-4224-98e3-0f660ad50158",
   "metadata": {},
   "outputs": [
    {
     "data": {
      "text/html": [
       "3466"
      ],
      "text/latex": [
       "3466"
      ],
      "text/markdown": [
       "3466"
      ],
      "text/plain": [
       "[1] 3466"
      ]
     },
     "metadata": {},
     "output_type": "display_data"
    },
    {
     "data": {
      "text/html": [
       "1777"
      ],
      "text/latex": [
       "1777"
      ],
      "text/markdown": [
       "1777"
      ],
      "text/plain": [
       "[1] 1777"
      ]
     },
     "metadata": {},
     "output_type": "display_data"
    }
   ],
   "source": [
    "sum(is.na(train))\n",
    "sum(is.na(kenya))"
   ]
  },
  {
   "cell_type": "code",
   "execution_count": 65,
   "id": "f7169068-ebaf-4cf1-a2a4-68cbabf74a35",
   "metadata": {},
   "outputs": [
    {
     "data": {
      "text/html": [
       "<style>\n",
       ".list-inline {list-style: none; margin:0; padding: 0}\n",
       ".list-inline>li {display: inline-block}\n",
       ".list-inline>li:not(:last-child)::after {content: \"\\00b7\"; padding: 0 .5ex}\n",
       "</style>\n",
       "<ol class=list-inline><li>38755</li><li>38845</li><li>38935</li><li>39025</li><li>39115</li><li>39385</li></ol>\n"
      ],
      "text/latex": [
       "\\begin{enumerate*}\n",
       "\\item 38755\n",
       "\\item 38845\n",
       "\\item 38935\n",
       "\\item 39025\n",
       "\\item 39115\n",
       "\\item 39385\n",
       "\\end{enumerate*}\n"
      ],
      "text/markdown": [
       "1. 38755\n",
       "2. 38845\n",
       "3. 38935\n",
       "4. 39025\n",
       "5. 39115\n",
       "6. 39385\n",
       "\n",
       "\n"
      ],
      "text/plain": [
       "[1] 38755 38845 38935 39025 39115 39385"
      ]
     },
     "metadata": {},
     "output_type": "display_data"
    },
    {
     "data": {
      "text/html": [
       "<style>\n",
       ".list-inline {list-style: none; margin:0; padding: 0}\n",
       ".list-inline>li {display: inline-block}\n",
       ".list-inline>li:not(:last-child)::after {content: \"\\00b7\"; padding: 0 .5ex}\n",
       "</style>\n",
       "<ol class=list-inline><li>62785</li><li>63415</li><li>63955</li><li>64585</li><li>64675</li><li>64855</li></ol>\n"
      ],
      "text/latex": [
       "\\begin{enumerate*}\n",
       "\\item 62785\n",
       "\\item 63415\n",
       "\\item 63955\n",
       "\\item 64585\n",
       "\\item 64675\n",
       "\\item 64855\n",
       "\\end{enumerate*}\n"
      ],
      "text/markdown": [
       "1. 62785\n",
       "2. 63415\n",
       "3. 63955\n",
       "4. 64585\n",
       "5. 64675\n",
       "6. 64855\n",
       "\n",
       "\n"
      ],
      "text/plain": [
       "[1] 62785 63415 63955 64585 64675 64855"
      ]
     },
     "metadata": {},
     "output_type": "display_data"
    },
    {
     "data": {
      "text/html": [
       "<table class=\"dataframe\">\n",
       "<caption>A tibble: 1 × 10</caption>\n",
       "<thead>\n",
       "\t<tr><th scope=col>id</th><th scope=col>date</th><th scope=col>country</th><th scope=col>store</th><th scope=col>product</th><th scope=col>num_sold</th><th scope=col>year</th><th scope=col>mo</th><th scope=col>day</th><th scope=col>wkday</th></tr>\n",
       "\t<tr><th scope=col>&lt;dbl&gt;</th><th scope=col>&lt;date&gt;</th><th scope=col>&lt;chr&gt;</th><th scope=col>&lt;chr&gt;</th><th scope=col>&lt;chr&gt;</th><th scope=col>&lt;dbl&gt;</th><th scope=col>&lt;dbl&gt;</th><th scope=col>&lt;ord&gt;</th><th scope=col>&lt;int&gt;</th><th scope=col>&lt;ord&gt;</th></tr>\n",
       "</thead>\n",
       "<tbody>\n",
       "\t<tr><td>38755</td><td>2011-03-07</td><td>Kenya</td><td>Premium Sticker Mart</td><td>Holographic Goose</td><td>NA</td><td>2011</td><td>Mar</td><td>7</td><td>Mon</td></tr>\n",
       "</tbody>\n",
       "</table>\n"
      ],
      "text/latex": [
       "A tibble: 1 × 10\n",
       "\\begin{tabular}{llllllllll}\n",
       " id & date & country & store & product & num\\_sold & year & mo & day & wkday\\\\\n",
       " <dbl> & <date> & <chr> & <chr> & <chr> & <dbl> & <dbl> & <ord> & <int> & <ord>\\\\\n",
       "\\hline\n",
       "\t 38755 & 2011-03-07 & Kenya & Premium Sticker Mart & Holographic Goose & NA & 2011 & Mar & 7 & Mon\\\\\n",
       "\\end{tabular}\n"
      ],
      "text/markdown": [
       "\n",
       "A tibble: 1 × 10\n",
       "\n",
       "| id &lt;dbl&gt; | date &lt;date&gt; | country &lt;chr&gt; | store &lt;chr&gt; | product &lt;chr&gt; | num_sold &lt;dbl&gt; | year &lt;dbl&gt; | mo &lt;ord&gt; | day &lt;int&gt; | wkday &lt;ord&gt; |\n",
       "|---|---|---|---|---|---|---|---|---|---|\n",
       "| 38755 | 2011-03-07 | Kenya | Premium Sticker Mart | Holographic Goose | NA | 2011 | Mar | 7 | Mon |\n",
       "\n"
      ],
      "text/plain": [
       "  id    date       country store                product           num_sold year\n",
       "1 38755 2011-03-07 Kenya   Premium Sticker Mart Holographic Goose NA       2011\n",
       "  mo  day wkday\n",
       "1 Mar 7   Mon  "
      ]
     },
     "metadata": {},
     "output_type": "display_data"
    },
    {
     "data": {
      "text/html": [
       "<table class=\"dataframe\">\n",
       "<caption>A tibble: 3 × 10</caption>\n",
       "<thead>\n",
       "\t<tr><th scope=col>id</th><th scope=col>date</th><th scope=col>country</th><th scope=col>store</th><th scope=col>product</th><th scope=col>num_sold</th><th scope=col>year</th><th scope=col>mo</th><th scope=col>day</th><th scope=col>wkday</th></tr>\n",
       "\t<tr><th scope=col>&lt;dbl&gt;</th><th scope=col>&lt;date&gt;</th><th scope=col>&lt;chr&gt;</th><th scope=col>&lt;chr&gt;</th><th scope=col>&lt;chr&gt;</th><th scope=col>&lt;dbl&gt;</th><th scope=col>&lt;dbl&gt;</th><th scope=col>&lt;ord&gt;</th><th scope=col>&lt;int&gt;</th><th scope=col>&lt;ord&gt;</th></tr>\n",
       "</thead>\n",
       "<tbody>\n",
       "\t<tr><td>38755</td><td>2011-03-07</td><td>Kenya</td><td>Premium Sticker Mart</td><td>Holographic Goose</td><td>NA</td><td>2011</td><td>Mar</td><td>7</td><td>Mon</td></tr>\n",
       "\t<tr><td>38845</td><td>2011-03-08</td><td>Kenya</td><td>Premium Sticker Mart</td><td>Holographic Goose</td><td>NA</td><td>2011</td><td>Mar</td><td>8</td><td>Tue</td></tr>\n",
       "\t<tr><td>38935</td><td>2011-03-09</td><td>Kenya</td><td>Premium Sticker Mart</td><td>Holographic Goose</td><td>NA</td><td>2011</td><td>Mar</td><td>9</td><td>Wed</td></tr>\n",
       "</tbody>\n",
       "</table>\n"
      ],
      "text/latex": [
       "A tibble: 3 × 10\n",
       "\\begin{tabular}{llllllllll}\n",
       " id & date & country & store & product & num\\_sold & year & mo & day & wkday\\\\\n",
       " <dbl> & <date> & <chr> & <chr> & <chr> & <dbl> & <dbl> & <ord> & <int> & <ord>\\\\\n",
       "\\hline\n",
       "\t 38755 & 2011-03-07 & Kenya & Premium Sticker Mart & Holographic Goose & NA & 2011 & Mar & 7 & Mon\\\\\n",
       "\t 38845 & 2011-03-08 & Kenya & Premium Sticker Mart & Holographic Goose & NA & 2011 & Mar & 8 & Tue\\\\\n",
       "\t 38935 & 2011-03-09 & Kenya & Premium Sticker Mart & Holographic Goose & NA & 2011 & Mar & 9 & Wed\\\\\n",
       "\\end{tabular}\n"
      ],
      "text/markdown": [
       "\n",
       "A tibble: 3 × 10\n",
       "\n",
       "| id &lt;dbl&gt; | date &lt;date&gt; | country &lt;chr&gt; | store &lt;chr&gt; | product &lt;chr&gt; | num_sold &lt;dbl&gt; | year &lt;dbl&gt; | mo &lt;ord&gt; | day &lt;int&gt; | wkday &lt;ord&gt; |\n",
       "|---|---|---|---|---|---|---|---|---|---|\n",
       "| 38755 | 2011-03-07 | Kenya | Premium Sticker Mart | Holographic Goose | NA | 2011 | Mar | 7 | Mon |\n",
       "| 38845 | 2011-03-08 | Kenya | Premium Sticker Mart | Holographic Goose | NA | 2011 | Mar | 8 | Tue |\n",
       "| 38935 | 2011-03-09 | Kenya | Premium Sticker Mart | Holographic Goose | NA | 2011 | Mar | 9 | Wed |\n",
       "\n"
      ],
      "text/plain": [
       "  id    date       country store                product           num_sold year\n",
       "1 38755 2011-03-07 Kenya   Premium Sticker Mart Holographic Goose NA       2011\n",
       "2 38845 2011-03-08 Kenya   Premium Sticker Mart Holographic Goose NA       2011\n",
       "3 38935 2011-03-09 Kenya   Premium Sticker Mart Holographic Goose NA       2011\n",
       "  mo  day wkday\n",
       "1 Mar 7   Mon  \n",
       "2 Mar 8   Tue  \n",
       "3 Mar 9   Wed  "
      ]
     },
     "metadata": {},
     "output_type": "display_data"
    }
   ],
   "source": [
    "head(indice2011)\n",
    "tail(indice2011)\n",
    "kenya %>% filter(id == 38755)\n",
    "\n",
    "head(kenya %>% filter(store == \"Premium Sticker Mart\" & product == \"Holographic Goose\" & is.na(num_sold) & year == 2011),3)"
   ]
  },
  {
   "cell_type": "markdown",
   "id": "7dbd1f37-12f4-437b-bf70-2ee234cab830",
   "metadata": {},
   "source": [
    "# <font color = lime> Replace test"
   ]
  },
  {
   "cell_type": "code",
   "execution_count": 66,
   "id": "c655951d-6297-4b61-8bd6-50e027582b5f",
   "metadata": {},
   "outputs": [
    {
     "data": {
      "text/html": [
       "<table class=\"dataframe\">\n",
       "<caption>A tibble: 1 × 10</caption>\n",
       "<thead>\n",
       "\t<tr><th scope=col>id</th><th scope=col>date</th><th scope=col>country</th><th scope=col>store</th><th scope=col>product</th><th scope=col>num_sold</th><th scope=col>year</th><th scope=col>mo</th><th scope=col>day</th><th scope=col>wkday</th></tr>\n",
       "\t<tr><th scope=col>&lt;dbl&gt;</th><th scope=col>&lt;date&gt;</th><th scope=col>&lt;chr&gt;</th><th scope=col>&lt;chr&gt;</th><th scope=col>&lt;chr&gt;</th><th scope=col>&lt;dbl&gt;</th><th scope=col>&lt;dbl&gt;</th><th scope=col>&lt;ord&gt;</th><th scope=col>&lt;int&gt;</th><th scope=col>&lt;ord&gt;</th></tr>\n",
       "</thead>\n",
       "<tbody>\n",
       "\t<tr><td>38755</td><td>2011-03-07</td><td>Kenya</td><td>Premium Sticker Mart</td><td>Holographic Goose</td><td>5.216</td><td>2011</td><td>Mar</td><td>7</td><td>Mon</td></tr>\n",
       "</tbody>\n",
       "</table>\n"
      ],
      "text/latex": [
       "A tibble: 1 × 10\n",
       "\\begin{tabular}{llllllllll}\n",
       " id & date & country & store & product & num\\_sold & year & mo & day & wkday\\\\\n",
       " <dbl> & <date> & <chr> & <chr> & <chr> & <dbl> & <dbl> & <ord> & <int> & <ord>\\\\\n",
       "\\hline\n",
       "\t 38755 & 2011-03-07 & Kenya & Premium Sticker Mart & Holographic Goose & 5.216 & 2011 & Mar & 7 & Mon\\\\\n",
       "\\end{tabular}\n"
      ],
      "text/markdown": [
       "\n",
       "A tibble: 1 × 10\n",
       "\n",
       "| id &lt;dbl&gt; | date &lt;date&gt; | country &lt;chr&gt; | store &lt;chr&gt; | product &lt;chr&gt; | num_sold &lt;dbl&gt; | year &lt;dbl&gt; | mo &lt;ord&gt; | day &lt;int&gt; | wkday &lt;ord&gt; |\n",
       "|---|---|---|---|---|---|---|---|---|---|\n",
       "| 38755 | 2011-03-07 | Kenya | Premium Sticker Mart | Holographic Goose | 5.216 | 2011 | Mar | 7 | Mon |\n",
       "\n"
      ],
      "text/plain": [
       "  id    date       country store                product           num_sold year\n",
       "1 38755 2011-03-07 Kenya   Premium Sticker Mart Holographic Goose 5.216    2011\n",
       "  mo  day wkday\n",
       "1 Mar 7   Mon  "
      ]
     },
     "metadata": {},
     "output_type": "display_data"
    },
    {
     "data": {
      "text/html": [
       "<table class=\"dataframe\">\n",
       "<caption>A tibble: 1 × 10</caption>\n",
       "<thead>\n",
       "\t<tr><th scope=col>id</th><th scope=col>date</th><th scope=col>country</th><th scope=col>store</th><th scope=col>product</th><th scope=col>num_sold</th><th scope=col>year</th><th scope=col>mo</th><th scope=col>day</th><th scope=col>wkday</th></tr>\n",
       "\t<tr><th scope=col>&lt;dbl&gt;</th><th scope=col>&lt;date&gt;</th><th scope=col>&lt;chr&gt;</th><th scope=col>&lt;chr&gt;</th><th scope=col>&lt;chr&gt;</th><th scope=col>&lt;dbl&gt;</th><th scope=col>&lt;dbl&gt;</th><th scope=col>&lt;ord&gt;</th><th scope=col>&lt;int&gt;</th><th scope=col>&lt;ord&gt;</th></tr>\n",
       "</thead>\n",
       "<tbody>\n",
       "\t<tr><td>64855</td><td>2011-12-22</td><td>Kenya</td><td>Premium Sticker Mart</td><td>Holographic Goose</td><td>5.216</td><td>2011</td><td>Dec</td><td>22</td><td>Thu</td></tr>\n",
       "</tbody>\n",
       "</table>\n"
      ],
      "text/latex": [
       "A tibble: 1 × 10\n",
       "\\begin{tabular}{llllllllll}\n",
       " id & date & country & store & product & num\\_sold & year & mo & day & wkday\\\\\n",
       " <dbl> & <date> & <chr> & <chr> & <chr> & <dbl> & <dbl> & <ord> & <int> & <ord>\\\\\n",
       "\\hline\n",
       "\t 64855 & 2011-12-22 & Kenya & Premium Sticker Mart & Holographic Goose & 5.216 & 2011 & Dec & 22 & Thu\\\\\n",
       "\\end{tabular}\n"
      ],
      "text/markdown": [
       "\n",
       "A tibble: 1 × 10\n",
       "\n",
       "| id &lt;dbl&gt; | date &lt;date&gt; | country &lt;chr&gt; | store &lt;chr&gt; | product &lt;chr&gt; | num_sold &lt;dbl&gt; | year &lt;dbl&gt; | mo &lt;ord&gt; | day &lt;int&gt; | wkday &lt;ord&gt; |\n",
       "|---|---|---|---|---|---|---|---|---|---|\n",
       "| 64855 | 2011-12-22 | Kenya | Premium Sticker Mart | Holographic Goose | 5.216 | 2011 | Dec | 22 | Thu |\n",
       "\n"
      ],
      "text/plain": [
       "  id    date       country store                product           num_sold year\n",
       "1 64855 2011-12-22 Kenya   Premium Sticker Mart Holographic Goose 5.216    2011\n",
       "  mo  day wkday\n",
       "1 Dec 22  Thu  "
      ]
     },
     "metadata": {},
     "output_type": "display_data"
    }
   ],
   "source": [
    "# Replace NAs with 5 based on id values\n",
    "test <- kenya %>% filter(year == 2011) %>%\n",
    "          mutate(num_sold = ifelse(id %in% indice2011 & is.na(num_sold), 5.216, num_sold))\n",
    "\n",
    "test %>% filter(id == 38755)  # first indice 2011\n",
    "test %>% filter(id == 64855)  # last indice 2011"
   ]
  },
  {
   "cell_type": "code",
   "execution_count": 67,
   "id": "319d30b2-6168-476b-bc66-df3701385133",
   "metadata": {},
   "outputs": [
    {
     "data": {
      "text/html": [
       "3466"
      ],
      "text/latex": [
       "3466"
      ],
      "text/markdown": [
       "3466"
      ],
      "text/plain": [
       "[1] 3466"
      ]
     },
     "metadata": {},
     "output_type": "display_data"
    },
    {
     "data": {
      "text/html": [
       "1777"
      ],
      "text/latex": [
       "1777"
      ],
      "text/markdown": [
       "1777"
      ],
      "text/plain": [
       "[1] 1777"
      ]
     },
     "metadata": {},
     "output_type": "display_data"
    },
    {
     "data": {
      "text/html": [
       "1689"
      ],
      "text/latex": [
       "1689"
      ],
      "text/markdown": [
       "1689"
      ],
      "text/plain": [
       "[1] 1689"
      ]
     },
     "metadata": {},
     "output_type": "display_data"
    }
   ],
   "source": [
    "sum(is.na(train))  # Agrees\n",
    "sum(is.na(kenya))\n",
    "sum(is.na(canada))"
   ]
  },
  {
   "cell_type": "code",
   "execution_count": 68,
   "id": "ab205414-74a9-4977-960f-fb215c8570e7",
   "metadata": {},
   "outputs": [
    {
     "name": "stdout",
     "output_type": "stream",
     "text": [
      "\n",
      " Updated Kenya NAs, 2011 NA = 204, prior sum(is.na(kenya)) = 1911. T/F: 1911-204 = 1707 \n",
      "\n"
     ]
    }
   ],
   "source": [
    "cat(\"\\n Updated Kenya NAs, 2011 NA = 204, prior sum(is.na(kenya)) = 1911. T/F: 1911-204 = 1707 \\n\\n\")\n",
    "\n",
    "# sum(is.na(kenya))\n",
    "# sum(is.na(train))"
   ]
  },
  {
   "cell_type": "markdown",
   "id": "839bf916-307e-431f-b1ea-533a1e3f4af2",
   "metadata": {},
   "source": [
    "## <font color = yellow> Create indices for each year (for replacements)"
   ]
  },
  {
   "cell_type": "code",
   "execution_count": 69,
   "id": "c88b56c7-4cf7-49ab-abe8-fbc3ed6c3d46",
   "metadata": {},
   "outputs": [
    {
     "data": {
      "text/html": [
       "204"
      ],
      "text/latex": [
       "204"
      ],
      "text/markdown": [
       "204"
      ],
      "text/plain": [
       "[1] 204"
      ]
     },
     "metadata": {},
     "output_type": "display_data"
    },
    {
     "data": {
      "text/html": [
       "92"
      ],
      "text/latex": [
       "92"
      ],
      "text/markdown": [
       "92"
      ],
      "text/plain": [
       "[1] 92"
      ]
     },
     "metadata": {},
     "output_type": "display_data"
    },
    {
     "data": {
      "text/html": [
       "48"
      ],
      "text/latex": [
       "48"
      ],
      "text/markdown": [
       "48"
      ],
      "text/plain": [
       "[1] 48"
      ]
     },
     "metadata": {},
     "output_type": "display_data"
    },
    {
     "data": {
      "text/html": [
       "10"
      ],
      "text/latex": [
       "10"
      ],
      "text/markdown": [
       "10"
      ],
      "text/plain": [
       "[1] 10"
      ]
     },
     "metadata": {},
     "output_type": "display_data"
    },
    {
     "data": {
      "text/html": [
       "2"
      ],
      "text/latex": [
       "2"
      ],
      "text/markdown": [
       "2"
      ],
      "text/plain": [
       "[1] 2"
      ]
     },
     "metadata": {},
     "output_type": "display_data"
    },
    {
     "data": {
      "text/html": [
       "0"
      ],
      "text/latex": [
       "0"
      ],
      "text/markdown": [
       "0"
      ],
      "text/plain": [
       "[1] 0"
      ]
     },
     "metadata": {},
     "output_type": "display_data"
    },
    {
     "data": {
      "text/html": [
       "356"
      ],
      "text/latex": [
       "356"
      ],
      "text/markdown": [
       "356"
      ],
      "text/plain": [
       "[1] 356"
      ]
     },
     "metadata": {},
     "output_type": "display_data"
    },
    {
     "data": {
      "text/html": [
       "<style>\n",
       ".list-inline {list-style: none; margin:0; padding: 0}\n",
       ".list-inline>li {display: inline-block}\n",
       ".list-inline>li:not(:last-child)::after {content: \"\\00b7\"; padding: 0 .5ex}\n",
       "</style>\n",
       "<ol class=list-inline><li>38755</li><li>38845</li><li>38935</li></ol>\n"
      ],
      "text/latex": [
       "\\begin{enumerate*}\n",
       "\\item 38755\n",
       "\\item 38845\n",
       "\\item 38935\n",
       "\\end{enumerate*}\n"
      ],
      "text/markdown": [
       "1. 38755\n",
       "2. 38845\n",
       "3. 38935\n",
       "\n",
       "\n"
      ],
      "text/plain": [
       "[1] 38755 38845 38935"
      ]
     },
     "metadata": {},
     "output_type": "display_data"
    },
    {
     "data": {
      "text/html": [
       "<table class=\"dataframe\">\n",
       "<caption>A tibble: 1 × 10</caption>\n",
       "<thead>\n",
       "\t<tr><th scope=col>id</th><th scope=col>date</th><th scope=col>country</th><th scope=col>store</th><th scope=col>product</th><th scope=col>num_sold</th><th scope=col>year</th><th scope=col>mo</th><th scope=col>day</th><th scope=col>wkday</th></tr>\n",
       "\t<tr><th scope=col>&lt;dbl&gt;</th><th scope=col>&lt;date&gt;</th><th scope=col>&lt;chr&gt;</th><th scope=col>&lt;chr&gt;</th><th scope=col>&lt;chr&gt;</th><th scope=col>&lt;dbl&gt;</th><th scope=col>&lt;dbl&gt;</th><th scope=col>&lt;ord&gt;</th><th scope=col>&lt;int&gt;</th><th scope=col>&lt;ord&gt;</th></tr>\n",
       "</thead>\n",
       "<tbody>\n",
       "\t<tr><td>38755</td><td>2011-03-07</td><td>Kenya</td><td>Premium Sticker Mart</td><td>Holographic Goose</td><td>NA</td><td>2011</td><td>Mar</td><td>7</td><td>Mon</td></tr>\n",
       "</tbody>\n",
       "</table>\n"
      ],
      "text/latex": [
       "A tibble: 1 × 10\n",
       "\\begin{tabular}{llllllllll}\n",
       " id & date & country & store & product & num\\_sold & year & mo & day & wkday\\\\\n",
       " <dbl> & <date> & <chr> & <chr> & <chr> & <dbl> & <dbl> & <ord> & <int> & <ord>\\\\\n",
       "\\hline\n",
       "\t 38755 & 2011-03-07 & Kenya & Premium Sticker Mart & Holographic Goose & NA & 2011 & Mar & 7 & Mon\\\\\n",
       "\\end{tabular}\n"
      ],
      "text/markdown": [
       "\n",
       "A tibble: 1 × 10\n",
       "\n",
       "| id &lt;dbl&gt; | date &lt;date&gt; | country &lt;chr&gt; | store &lt;chr&gt; | product &lt;chr&gt; | num_sold &lt;dbl&gt; | year &lt;dbl&gt; | mo &lt;ord&gt; | day &lt;int&gt; | wkday &lt;ord&gt; |\n",
       "|---|---|---|---|---|---|---|---|---|---|\n",
       "| 38755 | 2011-03-07 | Kenya | Premium Sticker Mart | Holographic Goose | NA | 2011 | Mar | 7 | Mon |\n",
       "\n"
      ],
      "text/plain": [
       "  id    date       country store                product           num_sold year\n",
       "1 38755 2011-03-07 Kenya   Premium Sticker Mart Holographic Goose NA       2011\n",
       "  mo  day wkday\n",
       "1 Mar 7   Mon  "
      ]
     },
     "metadata": {},
     "output_type": "display_data"
    }
   ],
   "source": [
    "# length(indice2010)\n",
    "length(indice2011)\n",
    "length(indice2012)\n",
    "length(indice2013)\n",
    "length(indice2014)\n",
    "length(indice2015)\n",
    "length(indice2016)\n",
    "204+92+48+10+2\n",
    "head(indice2011,3 )\n",
    "kenya %>% filter(id==38755)"
   ]
  },
  {
   "cell_type": "markdown",
   "id": "cf634a1c-3cee-4388-a6b7-cf8af186430d",
   "metadata": {},
   "source": [
    "## <font color = lime> Kenya: replace (356) NAs w/ imputed mean values (5) Yrs"
   ]
  },
  {
   "cell_type": "code",
   "execution_count": 70,
   "id": "878c3ac3-d778-41b4-b58f-6c7e018b60d7",
   "metadata": {},
   "outputs": [
    {
     "data": {
      "text/html": [
       "1777"
      ],
      "text/latex": [
       "1777"
      ],
      "text/markdown": [
       "1777"
      ],
      "text/plain": [
       "[1] 1777"
      ]
     },
     "metadata": {},
     "output_type": "display_data"
    },
    {
     "data": {
      "text/html": [
       "<style>\n",
       ".list-inline {list-style: none; margin:0; padding: 0}\n",
       ".list-inline>li {display: inline-block}\n",
       ".list-inline>li:not(:last-child)::after {content: \"\\00b7\"; padding: 0 .5ex}\n",
       "</style>\n",
       "<ol class=list-inline><li>35508</li><li>10</li></ol>\n"
      ],
      "text/latex": [
       "\\begin{enumerate*}\n",
       "\\item 35508\n",
       "\\item 10\n",
       "\\end{enumerate*}\n"
      ],
      "text/markdown": [
       "1. 35508\n",
       "2. 10\n",
       "\n",
       "\n"
      ],
      "text/plain": [
       "[1] 35508    10"
      ]
     },
     "metadata": {},
     "output_type": "display_data"
    },
    {
     "data": {
      "text/html": [
       "<table class=\"dataframe\">\n",
       "<caption>A tibble: 1 × 10</caption>\n",
       "<thead>\n",
       "\t<tr><th scope=col>id</th><th scope=col>date</th><th scope=col>country</th><th scope=col>store</th><th scope=col>product</th><th scope=col>num_sold</th><th scope=col>year</th><th scope=col>mo</th><th scope=col>day</th><th scope=col>wkday</th></tr>\n",
       "\t<tr><th scope=col>&lt;dbl&gt;</th><th scope=col>&lt;date&gt;</th><th scope=col>&lt;chr&gt;</th><th scope=col>&lt;chr&gt;</th><th scope=col>&lt;chr&gt;</th><th scope=col>&lt;dbl&gt;</th><th scope=col>&lt;dbl&gt;</th><th scope=col>&lt;ord&gt;</th><th scope=col>&lt;int&gt;</th><th scope=col>&lt;ord&gt;</th></tr>\n",
       "</thead>\n",
       "<tbody>\n",
       "\t<tr><td>38755</td><td>2011-03-07</td><td>Kenya</td><td>Premium Sticker Mart</td><td>Holographic Goose</td><td>NA</td><td>2011</td><td>Mar</td><td>7</td><td>Mon</td></tr>\n",
       "</tbody>\n",
       "</table>\n"
      ],
      "text/latex": [
       "A tibble: 1 × 10\n",
       "\\begin{tabular}{llllllllll}\n",
       " id & date & country & store & product & num\\_sold & year & mo & day & wkday\\\\\n",
       " <dbl> & <date> & <chr> & <chr> & <chr> & <dbl> & <dbl> & <ord> & <int> & <ord>\\\\\n",
       "\\hline\n",
       "\t 38755 & 2011-03-07 & Kenya & Premium Sticker Mart & Holographic Goose & NA & 2011 & Mar & 7 & Mon\\\\\n",
       "\\end{tabular}\n"
      ],
      "text/markdown": [
       "\n",
       "A tibble: 1 × 10\n",
       "\n",
       "| id &lt;dbl&gt; | date &lt;date&gt; | country &lt;chr&gt; | store &lt;chr&gt; | product &lt;chr&gt; | num_sold &lt;dbl&gt; | year &lt;dbl&gt; | mo &lt;ord&gt; | day &lt;int&gt; | wkday &lt;ord&gt; |\n",
       "|---|---|---|---|---|---|---|---|---|---|\n",
       "| 38755 | 2011-03-07 | Kenya | Premium Sticker Mart | Holographic Goose | NA | 2011 | Mar | 7 | Mon |\n",
       "\n"
      ],
      "text/plain": [
       "  id    date       country store                product           num_sold year\n",
       "1 38755 2011-03-07 Kenya   Premium Sticker Mart Holographic Goose NA       2011\n",
       "  mo  day wkday\n",
       "1 Mar 7   Mon  "
      ]
     },
     "metadata": {},
     "output_type": "display_data"
    },
    {
     "data": {
      "text/html": [
       "<table class=\"dataframe\">\n",
       "<caption>A tibble: 1 × 10</caption>\n",
       "<thead>\n",
       "\t<tr><th scope=col>id</th><th scope=col>date</th><th scope=col>country</th><th scope=col>store</th><th scope=col>product</th><th scope=col>num_sold</th><th scope=col>year</th><th scope=col>mo</th><th scope=col>day</th><th scope=col>wkday</th></tr>\n",
       "\t<tr><th scope=col>&lt;dbl&gt;</th><th scope=col>&lt;date&gt;</th><th scope=col>&lt;chr&gt;</th><th scope=col>&lt;chr&gt;</th><th scope=col>&lt;chr&gt;</th><th scope=col>&lt;dbl&gt;</th><th scope=col>&lt;dbl&gt;</th><th scope=col>&lt;ord&gt;</th><th scope=col>&lt;int&gt;</th><th scope=col>&lt;ord&gt;</th></tr>\n",
       "</thead>\n",
       "<tbody>\n",
       "\t<tr><td>38755</td><td>2011-03-07</td><td>Kenya</td><td>Premium Sticker Mart</td><td>Holographic Goose</td><td>5.216</td><td>2011</td><td>Mar</td><td>7</td><td>Mon</td></tr>\n",
       "</tbody>\n",
       "</table>\n"
      ],
      "text/latex": [
       "A tibble: 1 × 10\n",
       "\\begin{tabular}{llllllllll}\n",
       " id & date & country & store & product & num\\_sold & year & mo & day & wkday\\\\\n",
       " <dbl> & <date> & <chr> & <chr> & <chr> & <dbl> & <dbl> & <ord> & <int> & <ord>\\\\\n",
       "\\hline\n",
       "\t 38755 & 2011-03-07 & Kenya & Premium Sticker Mart & Holographic Goose & 5.216 & 2011 & Mar & 7 & Mon\\\\\n",
       "\\end{tabular}\n"
      ],
      "text/markdown": [
       "\n",
       "A tibble: 1 × 10\n",
       "\n",
       "| id &lt;dbl&gt; | date &lt;date&gt; | country &lt;chr&gt; | store &lt;chr&gt; | product &lt;chr&gt; | num_sold &lt;dbl&gt; | year &lt;dbl&gt; | mo &lt;ord&gt; | day &lt;int&gt; | wkday &lt;ord&gt; |\n",
       "|---|---|---|---|---|---|---|---|---|---|\n",
       "| 38755 | 2011-03-07 | Kenya | Premium Sticker Mart | Holographic Goose | 5.216 | 2011 | Mar | 7 | Mon |\n",
       "\n"
      ],
      "text/plain": [
       "  id    date       country store                product           num_sold year\n",
       "1 38755 2011-03-07 Kenya   Premium Sticker Mart Holographic Goose 5.216    2011\n",
       "  mo  day wkday\n",
       "1 Mar 7   Mon  "
      ]
     },
     "metadata": {},
     "output_type": "display_data"
    },
    {
     "data": {
      "text/html": [
       "1421"
      ],
      "text/latex": [
       "1421"
      ],
      "text/markdown": [
       "1421"
      ],
      "text/plain": [
       "[1] 1421"
      ]
     },
     "metadata": {},
     "output_type": "display_data"
    }
   ],
   "source": [
    "sum(is.na(kenya))\n",
    "dim(kenya)\n",
    "kenya %>% filter(id==38755)\n",
    "# Update the dataframe in one step\n",
    "kenya <- kenya %>%\n",
    "  mutate(\n",
    "    num_sold = case_when(\n",
    "      year == 2011 & id %in% indice2011 & is.na(num_sold) ~ 5.216,\n",
    "      year == 2012 & id %in% indice2012 & is.na(num_sold) ~ 5.42,\n",
    "      year == 2013 & id %in% indice2013 & is.na(num_sold) ~ 5.587,\n",
    "      year == 2014 & id %in% indice2014 & is.na(num_sold) ~ 6.028,\n",
    "      year == 2015 & id %in% indice2015 & is.na(num_sold) ~ 6.229,\n",
    "      year == 2016 & id %in% indice2016 & is.na(num_sold) ~ 6.73,       \n",
    "      TRUE ~ num_sold\n",
    "    )\n",
    "  )\n",
    "\n",
    "# Display the updated dataframe\n",
    "\n",
    "kenya %>% filter(id==38755)\n",
    "1777- 356"
   ]
  },
  {
   "cell_type": "code",
   "execution_count": 71,
   "id": "1f85142a-760e-4ffe-90b5-7155c6cab0ba",
   "metadata": {},
   "outputs": [
    {
     "data": {
      "text/html": [
       "3466"
      ],
      "text/latex": [
       "3466"
      ],
      "text/markdown": [
       "3466"
      ],
      "text/plain": [
       "[1] 3466"
      ]
     },
     "metadata": {},
     "output_type": "display_data"
    },
    {
     "data": {
      "text/html": [
       "1421"
      ],
      "text/latex": [
       "1421"
      ],
      "text/markdown": [
       "1421"
      ],
      "text/plain": [
       "[1] 1421"
      ]
     },
     "metadata": {},
     "output_type": "display_data"
    },
    {
     "data": {
      "text/html": [
       "1689"
      ],
      "text/latex": [
       "1689"
      ],
      "text/markdown": [
       "1689"
      ],
      "text/plain": [
       "[1] 1689"
      ]
     },
     "metadata": {},
     "output_type": "display_data"
    },
    {
     "data": {
      "text/html": [
       "3110"
      ],
      "text/latex": [
       "3110"
      ],
      "text/markdown": [
       "3110"
      ],
      "text/plain": [
       "[1] 3110"
      ]
     },
     "metadata": {},
     "output_type": "display_data"
    }
   ],
   "source": [
    "sum(is.na(train))\n",
    "sum(is.na(kenya))\n",
    "sum(is.na(canada))\n",
    "1421+1689"
   ]
  },
  {
   "cell_type": "code",
   "execution_count": null,
   "id": "01b35abf-5395-4ad1-940f-75ac0fa89fe8",
   "metadata": {},
   "outputs": [],
   "source": []
  },
  {
   "cell_type": "code",
   "execution_count": 72,
   "id": "39913380-07c3-4c87-9716-fcd85efbaebc",
   "metadata": {},
   "outputs": [
    {
     "data": {
      "text/html": [
       "<table class=\"dataframe\">\n",
       "<caption>A data.frame: 7 × 4</caption>\n",
       "<thead>\n",
       "\t<tr><th scope=col>NAs</th><th scope=col>Sold</th><th scope=col>Mean</th><th scope=col>Yrs</th></tr>\n",
       "\t<tr><th scope=col>&lt;dbl&gt;</th><th scope=col>&lt;dbl&gt;</th><th scope=col>&lt;dbl&gt;</th><th scope=col>&lt;dbl&gt;</th></tr>\n",
       "</thead>\n",
       "<tbody>\n",
       "\t<tr><td> NA</td><td> 88</td><td>0.000</td><td>2010</td></tr>\n",
       "\t<tr><td>204</td><td>148</td><td>5.216</td><td>2011</td></tr>\n",
       "\t<tr><td> 92</td><td>274</td><td>5.420</td><td>2012</td></tr>\n",
       "\t<tr><td> 48</td><td>317</td><td>5.587</td><td>2013</td></tr>\n",
       "\t<tr><td> 10</td><td>355</td><td>6.028</td><td>2014</td></tr>\n",
       "\t<tr><td>  2</td><td>363</td><td>6.229</td><td>2015</td></tr>\n",
       "\t<tr><td>  0</td><td>366</td><td>6.730</td><td>2016</td></tr>\n",
       "</tbody>\n",
       "</table>\n"
      ],
      "text/latex": [
       "A data.frame: 7 × 4\n",
       "\\begin{tabular}{llll}\n",
       " NAs & Sold & Mean & Yrs\\\\\n",
       " <dbl> & <dbl> & <dbl> & <dbl>\\\\\n",
       "\\hline\n",
       "\t  NA &  88 & 0.000 & 2010\\\\\n",
       "\t 204 & 148 & 5.216 & 2011\\\\\n",
       "\t  92 & 274 & 5.420 & 2012\\\\\n",
       "\t  48 & 317 & 5.587 & 2013\\\\\n",
       "\t  10 & 355 & 6.028 & 2014\\\\\n",
       "\t   2 & 363 & 6.229 & 2015\\\\\n",
       "\t   0 & 366 & 6.730 & 2016\\\\\n",
       "\\end{tabular}\n"
      ],
      "text/markdown": [
       "\n",
       "A data.frame: 7 × 4\n",
       "\n",
       "| NAs &lt;dbl&gt; | Sold &lt;dbl&gt; | Mean &lt;dbl&gt; | Yrs &lt;dbl&gt; |\n",
       "|---|---|---|---|\n",
       "|  NA |  88 | 0.000 | 2010 |\n",
       "| 204 | 148 | 5.216 | 2011 |\n",
       "|  92 | 274 | 5.420 | 2012 |\n",
       "|  48 | 317 | 5.587 | 2013 |\n",
       "|  10 | 355 | 6.028 | 2014 |\n",
       "|   2 | 363 | 6.229 | 2015 |\n",
       "|   0 | 366 | 6.730 | 2016 |\n",
       "\n"
      ],
      "text/plain": [
       "  NAs Sold Mean  Yrs \n",
       "1  NA  88  0.000 2010\n",
       "2 204 148  5.216 2011\n",
       "3  92 274  5.420 2012\n",
       "4  48 317  5.587 2013\n",
       "5  10 355  6.028 2014\n",
       "6   2 363  6.229 2015\n",
       "7   0 366  6.730 2016"
      ]
     },
     "metadata": {},
     "output_type": "display_data"
    },
    {
     "data": {
      "text/html": [
       "356"
      ],
      "text/latex": [
       "356"
      ],
      "text/markdown": [
       "356"
      ],
      "text/plain": [
       "[1] 356"
      ]
     },
     "metadata": {},
     "output_type": "display_data"
    },
    {
     "data": {
      "text/html": [
       "1911"
      ],
      "text/latex": [
       "1911"
      ],
      "text/markdown": [
       "1911"
      ],
      "text/plain": [
       "[1] 1911"
      ]
     },
     "metadata": {},
     "output_type": "display_data"
    }
   ],
   "source": [
    "premium_sticker_mart_yr_nas\n",
    "204+92+48+10+2\n",
    "sum(premium_sticker_mart_yr_nas$Sold)"
   ]
  },
  {
   "cell_type": "markdown",
   "id": "c560f93b-81b8-417e-8cc9-b316280efa7f",
   "metadata": {},
   "source": [
    "# <font color = lime> train: replace (356) NAs"
   ]
  },
  {
   "cell_type": "code",
   "execution_count": 73,
   "id": "81f37137-f371-4166-9a7f-d51fe3cc3fa3",
   "metadata": {},
   "outputs": [
    {
     "data": {
      "text/html": [
       "3466"
      ],
      "text/latex": [
       "3466"
      ],
      "text/markdown": [
       "3466"
      ],
      "text/plain": [
       "[1] 3466"
      ]
     },
     "metadata": {},
     "output_type": "display_data"
    }
   ],
   "source": [
    "sum(is.na(train))"
   ]
  },
  {
   "cell_type": "code",
   "execution_count": 74,
   "id": "293644cb-df8c-4a89-a0cd-3e756f127f6b",
   "metadata": {},
   "outputs": [
    {
     "data": {
      "text/html": [
       "<table class=\"dataframe\">\n",
       "<caption>A tibble: 1 × 10</caption>\n",
       "<thead>\n",
       "\t<tr><th scope=col>id</th><th scope=col>date</th><th scope=col>country</th><th scope=col>store</th><th scope=col>product</th><th scope=col>num_sold</th><th scope=col>year</th><th scope=col>mo</th><th scope=col>day</th><th scope=col>wkday</th></tr>\n",
       "\t<tr><th scope=col>&lt;dbl&gt;</th><th scope=col>&lt;date&gt;</th><th scope=col>&lt;chr&gt;</th><th scope=col>&lt;chr&gt;</th><th scope=col>&lt;chr&gt;</th><th scope=col>&lt;dbl&gt;</th><th scope=col>&lt;dbl&gt;</th><th scope=col>&lt;ord&gt;</th><th scope=col>&lt;int&gt;</th><th scope=col>&lt;ord&gt;</th></tr>\n",
       "</thead>\n",
       "<tbody>\n",
       "\t<tr><td>38755</td><td>2011-03-07</td><td>Kenya</td><td>Premium Sticker Mart</td><td>Holographic Goose</td><td>NA</td><td>2011</td><td>Mar</td><td>7</td><td>Mon</td></tr>\n",
       "</tbody>\n",
       "</table>\n"
      ],
      "text/latex": [
       "A tibble: 1 × 10\n",
       "\\begin{tabular}{llllllllll}\n",
       " id & date & country & store & product & num\\_sold & year & mo & day & wkday\\\\\n",
       " <dbl> & <date> & <chr> & <chr> & <chr> & <dbl> & <dbl> & <ord> & <int> & <ord>\\\\\n",
       "\\hline\n",
       "\t 38755 & 2011-03-07 & Kenya & Premium Sticker Mart & Holographic Goose & NA & 2011 & Mar & 7 & Mon\\\\\n",
       "\\end{tabular}\n"
      ],
      "text/markdown": [
       "\n",
       "A tibble: 1 × 10\n",
       "\n",
       "| id &lt;dbl&gt; | date &lt;date&gt; | country &lt;chr&gt; | store &lt;chr&gt; | product &lt;chr&gt; | num_sold &lt;dbl&gt; | year &lt;dbl&gt; | mo &lt;ord&gt; | day &lt;int&gt; | wkday &lt;ord&gt; |\n",
       "|---|---|---|---|---|---|---|---|---|---|\n",
       "| 38755 | 2011-03-07 | Kenya | Premium Sticker Mart | Holographic Goose | NA | 2011 | Mar | 7 | Mon |\n",
       "\n"
      ],
      "text/plain": [
       "  id    date       country store                product           num_sold year\n",
       "1 38755 2011-03-07 Kenya   Premium Sticker Mart Holographic Goose NA       2011\n",
       "  mo  day wkday\n",
       "1 Mar 7   Mon  "
      ]
     },
     "metadata": {},
     "output_type": "display_data"
    },
    {
     "data": {
      "text/html": [
       "<table class=\"dataframe\">\n",
       "<caption>A tibble: 1 × 10</caption>\n",
       "<thead>\n",
       "\t<tr><th scope=col>id</th><th scope=col>date</th><th scope=col>country</th><th scope=col>store</th><th scope=col>product</th><th scope=col>num_sold</th><th scope=col>year</th><th scope=col>mo</th><th scope=col>day</th><th scope=col>wkday</th></tr>\n",
       "\t<tr><th scope=col>&lt;dbl&gt;</th><th scope=col>&lt;date&gt;</th><th scope=col>&lt;chr&gt;</th><th scope=col>&lt;chr&gt;</th><th scope=col>&lt;chr&gt;</th><th scope=col>&lt;dbl&gt;</th><th scope=col>&lt;dbl&gt;</th><th scope=col>&lt;ord&gt;</th><th scope=col>&lt;int&gt;</th><th scope=col>&lt;ord&gt;</th></tr>\n",
       "</thead>\n",
       "<tbody>\n",
       "\t<tr><td>38755</td><td>2011-03-07</td><td>Kenya</td><td>Premium Sticker Mart</td><td>Holographic Goose</td><td>5.216</td><td>2011</td><td>Mar</td><td>7</td><td>Mon</td></tr>\n",
       "</tbody>\n",
       "</table>\n"
      ],
      "text/latex": [
       "A tibble: 1 × 10\n",
       "\\begin{tabular}{llllllllll}\n",
       " id & date & country & store & product & num\\_sold & year & mo & day & wkday\\\\\n",
       " <dbl> & <date> & <chr> & <chr> & <chr> & <dbl> & <dbl> & <ord> & <int> & <ord>\\\\\n",
       "\\hline\n",
       "\t 38755 & 2011-03-07 & Kenya & Premium Sticker Mart & Holographic Goose & 5.216 & 2011 & Mar & 7 & Mon\\\\\n",
       "\\end{tabular}\n"
      ],
      "text/markdown": [
       "\n",
       "A tibble: 1 × 10\n",
       "\n",
       "| id &lt;dbl&gt; | date &lt;date&gt; | country &lt;chr&gt; | store &lt;chr&gt; | product &lt;chr&gt; | num_sold &lt;dbl&gt; | year &lt;dbl&gt; | mo &lt;ord&gt; | day &lt;int&gt; | wkday &lt;ord&gt; |\n",
       "|---|---|---|---|---|---|---|---|---|---|\n",
       "| 38755 | 2011-03-07 | Kenya | Premium Sticker Mart | Holographic Goose | 5.216 | 2011 | Mar | 7 | Mon |\n",
       "\n"
      ],
      "text/plain": [
       "  id    date       country store                product           num_sold year\n",
       "1 38755 2011-03-07 Kenya   Premium Sticker Mart Holographic Goose 5.216    2011\n",
       "  mo  day wkday\n",
       "1 Mar 7   Mon  "
      ]
     },
     "metadata": {},
     "output_type": "display_data"
    },
    {
     "data": {
      "text/html": [
       "1421"
      ],
      "text/latex": [
       "1421"
      ],
      "text/markdown": [
       "1421"
      ],
      "text/plain": [
       "[1] 1421"
      ]
     },
     "metadata": {},
     "output_type": "display_data"
    }
   ],
   "source": [
    "# replace the NAs with the indices of the store / each year\n",
    "train %>% filter(id==38755)\n",
    "# Update the dataframe in one step\n",
    "train <- train %>%\n",
    "  mutate(\n",
    "    num_sold = case_when(\n",
    "      year == 2011 & id %in% indice2011 & is.na(num_sold) ~ 5.216,\n",
    "      year == 2012 & id %in% indice2012 & is.na(num_sold) ~ 5.42,\n",
    "      year == 2013 & id %in% indice2013 & is.na(num_sold) ~ 5.587,\n",
    "      year == 2014 & id %in% indice2014 & is.na(num_sold) ~ 6.028,\n",
    "      year == 2015 & id %in% indice2015 & is.na(num_sold) ~ 6.229,\n",
    "      year == 2016 & id %in% indice2016 & is.na(num_sold) ~ 6.73,       \n",
    "      TRUE ~ num_sold\n",
    "    )\n",
    "  )\n",
    "\n",
    "# Display the updated dataframe\n",
    "\n",
    "train %>% filter(id==38755)\n",
    "1777- 356"
   ]
  },
  {
   "cell_type": "code",
   "execution_count": 75,
   "id": "1a957c8c-d19d-419d-b907-9bf0c5149718",
   "metadata": {},
   "outputs": [
    {
     "data": {
      "text/html": [
       "3110"
      ],
      "text/latex": [
       "3110"
      ],
      "text/markdown": [
       "3110"
      ],
      "text/plain": [
       "[1] 3110"
      ]
     },
     "metadata": {},
     "output_type": "display_data"
    },
    {
     "data": {
      "text/html": [
       "1421"
      ],
      "text/latex": [
       "1421"
      ],
      "text/markdown": [
       "1421"
      ],
      "text/plain": [
       "[1] 1421"
      ]
     },
     "metadata": {},
     "output_type": "display_data"
    },
    {
     "data": {
      "text/html": [
       "1689"
      ],
      "text/latex": [
       "1689"
      ],
      "text/markdown": [
       "1689"
      ],
      "text/plain": [
       "[1] 1689"
      ]
     },
     "metadata": {},
     "output_type": "display_data"
    },
    {
     "data": {
      "text/html": [
       "3110"
      ],
      "text/latex": [
       "3110"
      ],
      "text/markdown": [
       "3110"
      ],
      "text/plain": [
       "[1] 3110"
      ]
     },
     "metadata": {},
     "output_type": "display_data"
    }
   ],
   "source": [
    "sum(is.na(train))\n",
    "sum(is.na(kenya))\n",
    "sum(is.na(canada))\n",
    "1421+1689           # agrees"
   ]
  },
  {
   "cell_type": "code",
   "execution_count": 76,
   "id": "beca6daa-ebad-4533-809d-c97f6463e819",
   "metadata": {},
   "outputs": [
    {
     "data": {
      "text/html": [
       "63"
      ],
      "text/latex": [
       "63"
      ],
      "text/markdown": [
       "63"
      ],
      "text/plain": [
       "[1] 63"
      ]
     },
     "metadata": {},
     "output_type": "display_data"
    }
   ],
   "source": [
    "1421-1358\n"
   ]
  },
  {
   "cell_type": "code",
   "execution_count": null,
   "id": "deb61aca-f830-4885-a764-1a0a648ede71",
   "metadata": {},
   "outputs": [],
   "source": []
  },
  {
   "cell_type": "markdown",
   "id": "753384a5-ae1c-4baf-98d5-5e13cd33e22f",
   "metadata": {},
   "source": [
    "# <font color = lime> Stickers for Less: 1358 NAs"
   ]
  },
  {
   "cell_type": "code",
   "execution_count": 77,
   "id": "6f197d0a-6847-4980-b434-7a047755287b",
   "metadata": {},
   "outputs": [
    {
     "data": {
      "text/html": [
       "<style>\n",
       ".list-inline {list-style: none; margin:0; padding: 0}\n",
       ".list-inline>li {display: inline-block}\n",
       ".list-inline>li:not(:last-child)::after {content: \"\\00b7\"; padding: 0 .5ex}\n",
       "</style>\n",
       "<ol class=list-inline><li>1358</li><li>10</li></ol>\n"
      ],
      "text/latex": [
       "\\begin{enumerate*}\n",
       "\\item 1358\n",
       "\\item 10\n",
       "\\end{enumerate*}\n"
      ],
      "text/markdown": [
       "1. 1358\n",
       "2. 10\n",
       "\n",
       "\n"
      ],
      "text/plain": [
       "[1] 1358   10"
      ]
     },
     "metadata": {},
     "output_type": "display_data"
    },
    {
     "data": {
      "text/html": [
       "<table class=\"dataframe\">\n",
       "<caption>A tibble: 3 × 10</caption>\n",
       "<thead>\n",
       "\t<tr><th scope=col>id</th><th scope=col>date</th><th scope=col>country</th><th scope=col>store</th><th scope=col>product</th><th scope=col>num_sold</th><th scope=col>year</th><th scope=col>mo</th><th scope=col>day</th><th scope=col>wkday</th></tr>\n",
       "\t<tr><th scope=col>&lt;dbl&gt;</th><th scope=col>&lt;date&gt;</th><th scope=col>&lt;chr&gt;</th><th scope=col>&lt;chr&gt;</th><th scope=col>&lt;chr&gt;</th><th scope=col>&lt;dbl&gt;</th><th scope=col>&lt;dbl&gt;</th><th scope=col>&lt;ord&gt;</th><th scope=col>&lt;int&gt;</th><th scope=col>&lt;ord&gt;</th></tr>\n",
       "</thead>\n",
       "<tbody>\n",
       "\t<tr><td>320</td><td>2010-01-04</td><td>Kenya</td><td>Stickers for Less</td><td>Holographic Goose</td><td>NA</td><td>2010</td><td>Jan</td><td>4</td><td>Mon</td></tr>\n",
       "\t<tr><td>410</td><td>2010-01-05</td><td>Kenya</td><td>Stickers for Less</td><td>Holographic Goose</td><td>NA</td><td>2010</td><td>Jan</td><td>5</td><td>Tue</td></tr>\n",
       "\t<tr><td>500</td><td>2010-01-06</td><td>Kenya</td><td>Stickers for Less</td><td>Holographic Goose</td><td>NA</td><td>2010</td><td>Jan</td><td>6</td><td>Wed</td></tr>\n",
       "</tbody>\n",
       "</table>\n"
      ],
      "text/latex": [
       "A tibble: 3 × 10\n",
       "\\begin{tabular}{llllllllll}\n",
       " id & date & country & store & product & num\\_sold & year & mo & day & wkday\\\\\n",
       " <dbl> & <date> & <chr> & <chr> & <chr> & <dbl> & <dbl> & <ord> & <int> & <ord>\\\\\n",
       "\\hline\n",
       "\t 320 & 2010-01-04 & Kenya & Stickers for Less & Holographic Goose & NA & 2010 & Jan & 4 & Mon\\\\\n",
       "\t 410 & 2010-01-05 & Kenya & Stickers for Less & Holographic Goose & NA & 2010 & Jan & 5 & Tue\\\\\n",
       "\t 500 & 2010-01-06 & Kenya & Stickers for Less & Holographic Goose & NA & 2010 & Jan & 6 & Wed\\\\\n",
       "\\end{tabular}\n"
      ],
      "text/markdown": [
       "\n",
       "A tibble: 3 × 10\n",
       "\n",
       "| id &lt;dbl&gt; | date &lt;date&gt; | country &lt;chr&gt; | store &lt;chr&gt; | product &lt;chr&gt; | num_sold &lt;dbl&gt; | year &lt;dbl&gt; | mo &lt;ord&gt; | day &lt;int&gt; | wkday &lt;ord&gt; |\n",
       "|---|---|---|---|---|---|---|---|---|---|\n",
       "| 320 | 2010-01-04 | Kenya | Stickers for Less | Holographic Goose | NA | 2010 | Jan | 4 | Mon |\n",
       "| 410 | 2010-01-05 | Kenya | Stickers for Less | Holographic Goose | NA | 2010 | Jan | 5 | Tue |\n",
       "| 500 | 2010-01-06 | Kenya | Stickers for Less | Holographic Goose | NA | 2010 | Jan | 6 | Wed |\n",
       "\n"
      ],
      "text/plain": [
       "  id  date       country store             product           num_sold year mo \n",
       "1 320 2010-01-04 Kenya   Stickers for Less Holographic Goose NA       2010 Jan\n",
       "2 410 2010-01-05 Kenya   Stickers for Less Holographic Goose NA       2010 Jan\n",
       "3 500 2010-01-06 Kenya   Stickers for Less Holographic Goose NA       2010 Jan\n",
       "  day wkday\n",
       "1 4   Mon  \n",
       "2 5   Tue  \n",
       "3 6   Wed  "
      ]
     },
     "metadata": {},
     "output_type": "display_data"
    },
    {
     "data": {
      "text/html": [
       "<table class=\"dataframe\">\n",
       "<caption>A tibble: 3 × 10</caption>\n",
       "<thead>\n",
       "\t<tr><th scope=col>id</th><th scope=col>date</th><th scope=col>country</th><th scope=col>store</th><th scope=col>product</th><th scope=col>num_sold</th><th scope=col>year</th><th scope=col>mo</th><th scope=col>day</th><th scope=col>wkday</th></tr>\n",
       "\t<tr><th scope=col>&lt;dbl&gt;</th><th scope=col>&lt;date&gt;</th><th scope=col>&lt;chr&gt;</th><th scope=col>&lt;chr&gt;</th><th scope=col>&lt;chr&gt;</th><th scope=col>&lt;dbl&gt;</th><th scope=col>&lt;dbl&gt;</th><th scope=col>&lt;ord&gt;</th><th scope=col>&lt;int&gt;</th><th scope=col>&lt;ord&gt;</th></tr>\n",
       "</thead>\n",
       "<tbody>\n",
       "\t<tr><td>217670</td><td>2016-08-15</td><td>Kenya</td><td>Stickers for Less</td><td>Holographic Goose</td><td>NA</td><td>2016</td><td>Aug</td><td>15</td><td>Mon</td></tr>\n",
       "\t<tr><td>219110</td><td>2016-08-31</td><td>Kenya</td><td>Stickers for Less</td><td>Holographic Goose</td><td>NA</td><td>2016</td><td>Aug</td><td>31</td><td>Wed</td></tr>\n",
       "\t<tr><td>220280</td><td>2016-09-13</td><td>Kenya</td><td>Stickers for Less</td><td>Holographic Goose</td><td>NA</td><td>2016</td><td>Sep</td><td>13</td><td>Tue</td></tr>\n",
       "</tbody>\n",
       "</table>\n"
      ],
      "text/latex": [
       "A tibble: 3 × 10\n",
       "\\begin{tabular}{llllllllll}\n",
       " id & date & country & store & product & num\\_sold & year & mo & day & wkday\\\\\n",
       " <dbl> & <date> & <chr> & <chr> & <chr> & <dbl> & <dbl> & <ord> & <int> & <ord>\\\\\n",
       "\\hline\n",
       "\t 217670 & 2016-08-15 & Kenya & Stickers for Less & Holographic Goose & NA & 2016 & Aug & 15 & Mon\\\\\n",
       "\t 219110 & 2016-08-31 & Kenya & Stickers for Less & Holographic Goose & NA & 2016 & Aug & 31 & Wed\\\\\n",
       "\t 220280 & 2016-09-13 & Kenya & Stickers for Less & Holographic Goose & NA & 2016 & Sep & 13 & Tue\\\\\n",
       "\\end{tabular}\n"
      ],
      "text/markdown": [
       "\n",
       "A tibble: 3 × 10\n",
       "\n",
       "| id &lt;dbl&gt; | date &lt;date&gt; | country &lt;chr&gt; | store &lt;chr&gt; | product &lt;chr&gt; | num_sold &lt;dbl&gt; | year &lt;dbl&gt; | mo &lt;ord&gt; | day &lt;int&gt; | wkday &lt;ord&gt; |\n",
       "|---|---|---|---|---|---|---|---|---|---|\n",
       "| 217670 | 2016-08-15 | Kenya | Stickers for Less | Holographic Goose | NA | 2016 | Aug | 15 | Mon |\n",
       "| 219110 | 2016-08-31 | Kenya | Stickers for Less | Holographic Goose | NA | 2016 | Aug | 31 | Wed |\n",
       "| 220280 | 2016-09-13 | Kenya | Stickers for Less | Holographic Goose | NA | 2016 | Sep | 13 | Tue |\n",
       "\n"
      ],
      "text/plain": [
       "  id     date       country store             product           num_sold year\n",
       "1 217670 2016-08-15 Kenya   Stickers for Less Holographic Goose NA       2016\n",
       "2 219110 2016-08-31 Kenya   Stickers for Less Holographic Goose NA       2016\n",
       "3 220280 2016-09-13 Kenya   Stickers for Less Holographic Goose NA       2016\n",
       "  mo  day wkday\n",
       "1 Aug 15  Mon  \n",
       "2 Aug 31  Wed  \n",
       "3 Sep 13  Tue  "
      ]
     },
     "metadata": {},
     "output_type": "display_data"
    },
    {
     "data": {
      "text/html": [
       "<table class=\"dataframe\">\n",
       "<caption>A data.frame: 7 × 4</caption>\n",
       "<thead>\n",
       "\t<tr><th scope=col>NAs</th><th scope=col>Sold</th><th scope=col>Mean</th><th scope=col>Yr</th></tr>\n",
       "\t<tr><th scope=col>&lt;dbl&gt;</th><th scope=col>&lt;dbl&gt;</th><th scope=col>&lt;dbl&gt;</th><th scope=col>&lt;dbl&gt;</th></tr>\n",
       "</thead>\n",
       "<tbody>\n",
       "\t<tr><td>343</td><td> 22</td><td>5.045</td><td>2010</td></tr>\n",
       "\t<tr><td>331</td><td> 34</td><td>5.088</td><td>2011</td></tr>\n",
       "\t<tr><td>265</td><td>101</td><td>5.257</td><td>2012</td></tr>\n",
       "\t<tr><td>200</td><td>165</td><td>5.261</td><td>2013</td></tr>\n",
       "\t<tr><td>113</td><td>252</td><td>5.365</td><td>2014</td></tr>\n",
       "\t<tr><td> 78</td><td>287</td><td>5.488</td><td>2015</td></tr>\n",
       "\t<tr><td> 28</td><td>338</td><td>5.766</td><td>2016</td></tr>\n",
       "</tbody>\n",
       "</table>\n"
      ],
      "text/latex": [
       "A data.frame: 7 × 4\n",
       "\\begin{tabular}{llll}\n",
       " NAs & Sold & Mean & Yr\\\\\n",
       " <dbl> & <dbl> & <dbl> & <dbl>\\\\\n",
       "\\hline\n",
       "\t 343 &  22 & 5.045 & 2010\\\\\n",
       "\t 331 &  34 & 5.088 & 2011\\\\\n",
       "\t 265 & 101 & 5.257 & 2012\\\\\n",
       "\t 200 & 165 & 5.261 & 2013\\\\\n",
       "\t 113 & 252 & 5.365 & 2014\\\\\n",
       "\t  78 & 287 & 5.488 & 2015\\\\\n",
       "\t  28 & 338 & 5.766 & 2016\\\\\n",
       "\\end{tabular}\n"
      ],
      "text/markdown": [
       "\n",
       "A data.frame: 7 × 4\n",
       "\n",
       "| NAs &lt;dbl&gt; | Sold &lt;dbl&gt; | Mean &lt;dbl&gt; | Yr &lt;dbl&gt; |\n",
       "|---|---|---|---|\n",
       "| 343 |  22 | 5.045 | 2010 |\n",
       "| 331 |  34 | 5.088 | 2011 |\n",
       "| 265 | 101 | 5.257 | 2012 |\n",
       "| 200 | 165 | 5.261 | 2013 |\n",
       "| 113 | 252 | 5.365 | 2014 |\n",
       "|  78 | 287 | 5.488 | 2015 |\n",
       "|  28 | 338 | 5.766 | 2016 |\n",
       "\n"
      ],
      "text/plain": [
       "  NAs Sold Mean  Yr  \n",
       "1 343  22  5.045 2010\n",
       "2 331  34  5.088 2011\n",
       "3 265 101  5.257 2012\n",
       "4 200 165  5.261 2013\n",
       "5 113 252  5.365 2014\n",
       "6  78 287  5.488 2015\n",
       "7  28 338  5.766 2016"
      ]
     },
     "metadata": {},
     "output_type": "display_data"
    },
    {
     "data": {
      "text/html": [
       "1358"
      ],
      "text/latex": [
       "1358"
      ],
      "text/markdown": [
       "1358"
      ],
      "text/plain": [
       "[1] 1358"
      ]
     },
     "metadata": {},
     "output_type": "display_data"
    }
   ],
   "source": [
    "dim(kenya %>% filter(is.na(num_sold) & store == \"Stickers for Less\" & product == \"Holographic Goose\"))\n",
    "head(kenya %>% filter(is.na(num_sold) & store == \"Stickers for Less\" & product == \"Holographic Goose\"), 3)\n",
    "tail(kenya %>% filter(is.na(num_sold) & store == \"Stickers for Less\" & product == \"Holographic Goose\"), 3)\n",
    "\n",
    "# summary(kenya %>% filter(!is.na(num_sold) & store == \"Stickers for Less\" & product == \"Holographic Goose\" & year == 2016))\n",
    "sticker_for_less <- data.frame(NAs = c(343,331,265,200,113,78,28), \n",
    "                               Sold = c(22,34,101,165,252,287,338), \n",
    "                               Mean = c(5.045,5.088,5.257,5.261,5.365,5.488,5.766), \n",
    "                               Yr = c(2010, 2011,2012,2013,2014,2015,2016)\n",
    "                              )\n",
    "\n",
    "sticker_for_less\n",
    "sum(sticker_for_less$NAs)\n"
   ]
  },
  {
   "cell_type": "code",
   "execution_count": null,
   "id": "06925c94-c592-4397-8487-3cda8ad92fad",
   "metadata": {},
   "outputs": [],
   "source": []
  },
  {
   "cell_type": "code",
   "execution_count": 78,
   "id": "080f126a-d8c0-4c1a-9ae6-c5be6c30a14a",
   "metadata": {},
   "outputs": [
    {
     "data": {
      "image/png": "[encoded data removed]",
      "text/plain": [
       "plot without title"
      ]
     },
     "metadata": {
      "image/png": {
       "height": 420,
       "width": 420
      }
     },
     "output_type": "display_data"
    }
   ],
   "source": [
    "# Reshape data to long format\n",
    "data_long <- sticker_for_less %>%\n",
    "  pivot_longer(cols = c(NAs, Sold, Mean), names_to = \"Type\", values_to = \"Value\")\n",
    "\n",
    "# Display the reshaped data (optional)\n",
    "# print(data_long)\n",
    "\n",
    "# Create the plot\n",
    "ggplot(data_long, aes(x = Yr, y = Value, color = Type, group = Type)) +\n",
    "  geom_line(size = 1) +\n",
    "  geom_point(size = 2) +\n",
    "  labs(\n",
    "    title = \"NAs, Sold, and Mean Values Over Years\",\n",
    "    x = \"Year\",\n",
    "    y = \"Value\",\n",
    "    color = \"Legend\"\n",
    "  ) +\n",
    "  theme_minimal()\n"
   ]
  },
  {
   "cell_type": "code",
   "execution_count": null,
   "id": "6adc9561-8e6e-4615-92dc-9e976c822bc9",
   "metadata": {},
   "outputs": [],
   "source": []
  },
  {
   "cell_type": "code",
   "execution_count": 79,
   "id": "4b646af0-a404-4d62-98f2-2525cc4971bf",
   "metadata": {},
   "outputs": [
    {
     "ename": "ERROR",
     "evalue": "Error: object 'stopper' not found\n",
     "output_type": "error",
     "traceback": [
      "Error: object 'stopper' not found\nTraceback:\n"
     ]
    }
   ],
   "source": []
  },
  {
   "cell_type": "markdown",
   "id": "ae2dcdf2-ce0b-4a64-84a3-a2d1e1a5a2bb",
   "metadata": {},
   "source": [
    "### <font color = lime> Reconcile NAs "
   ]
  },
  {
   "cell_type": "code",
   "execution_count": null,
   "id": "b18d7760-2c18-4031-ad53-0abda25e9507",
   "metadata": {},
   "outputs": [],
   "source": []
  },
  {
   "cell_type": "code",
   "execution_count": 80,
   "id": "843e52f3-72a9-4e85-a27e-4f0a068f5920",
   "metadata": {},
   "outputs": [
    {
     "data": {
      "text/html": [
       "1421"
      ],
      "text/latex": [
       "1421"
      ],
      "text/markdown": [
       "1421"
      ],
      "text/plain": [
       "[1] 1421"
      ]
     },
     "metadata": {},
     "output_type": "display_data"
    },
    {
     "data": {
      "text/html": [
       "1689"
      ],
      "text/latex": [
       "1689"
      ],
      "text/markdown": [
       "1689"
      ],
      "text/plain": [
       "[1] 1689"
      ]
     },
     "metadata": {},
     "output_type": "display_data"
    },
    {
     "data": {
      "text/html": [
       "3110"
      ],
      "text/latex": [
       "3110"
      ],
      "text/markdown": [
       "3110"
      ],
      "text/plain": [
       "[1] 3110"
      ]
     },
     "metadata": {},
     "output_type": "display_data"
    },
    {
     "data": {
      "text/html": [
       "3110"
      ],
      "text/latex": [
       "3110"
      ],
      "text/markdown": [
       "3110"
      ],
      "text/plain": [
       "[1] 3110"
      ]
     },
     "metadata": {},
     "output_type": "display_data"
    },
    {
     "name": "stdout",
     "output_type": "stream",
     "text": [
      "\n",
      " Check: total NA Canada are:  1689 \n",
      "\n",
      " Sum of kenya and Canada NA agree w/ train:  3110 \n",
      "\n"
     ]
    }
   ],
   "source": [
    "sum(is.na(kenya))\n",
    "sum(is.na(canada))\n",
    "\n",
    "sum(is.na(train))\n",
    "1421+1689\n",
    "\n",
    "cat(\"\\n Check: total NA Canada are: \", (1308+380+1), \"\\n\")\n",
    "cat(\"\\n Sum of kenya and Canada NA agree w/ train: \",  (1358+63) + 1689, \"\\n\\n\")"
   ]
  },
  {
   "cell_type": "code",
   "execution_count": null,
   "id": "824aeb6e-98c0-490c-bca8-2f6c576a1020",
   "metadata": {},
   "outputs": [],
   "source": []
  },
  {
   "cell_type": "code",
   "execution_count": null,
   "id": "0b1dfd4a-dadb-4a4d-be56-16610723fad3",
   "metadata": {},
   "outputs": [],
   "source": []
  },
  {
   "cell_type": "code",
   "execution_count": 81,
   "id": "f0f8759a-06e8-4adc-8325-01cfee0344a1",
   "metadata": {},
   "outputs": [
    {
     "data": {
      "text/html": [
       "1358"
      ],
      "text/latex": [
       "1358"
      ],
      "text/markdown": [
       "1358"
      ],
      "text/plain": [
       "[1] 1358"
      ]
     },
     "metadata": {},
     "output_type": "display_data"
    },
    {
     "data": {
      "text/html": [
       "0"
      ],
      "text/latex": [
       "0"
      ],
      "text/markdown": [
       "0"
      ],
      "text/plain": [
       "[1] 0"
      ]
     },
     "metadata": {},
     "output_type": "display_data"
    },
    {
     "data": {
      "text/html": [
       "63"
      ],
      "text/latex": [
       "63"
      ],
      "text/markdown": [
       "63"
      ],
      "text/plain": [
       "[1] 63"
      ]
     },
     "metadata": {},
     "output_type": "display_data"
    },
    {
     "name": "stdout",
     "output_type": "stream",
     "text": [
      "\n",
      " The total remaining NAs from the 3 store types in Kenya are:  1421 \n",
      "\n"
     ]
    }
   ],
   "source": [
    "store1 <- kenya %>% filter(store == \"Stickers for Less\")\n",
    "sum(is.na(store1))\n",
    "store1_indices <- store1$id\n",
    "store2 <- kenya %>% filter(store == \"Premium Sticker Mart\")\n",
    "sum(is.na(store2))\n",
    "store2_indices <- store2$id\n",
    "store3 <- kenya %>% filter(store == \"Discount Stickers\" ) \n",
    "sum(is.na(store3))\n",
    "store3_indices <- store3$id\n",
    "ken <- 1358+63\n",
    "cat(\"\\n The total remaining NAs from the 3 store types in Kenya are: \", ken ,\"\\n\\n\")"
   ]
  },
  {
   "cell_type": "code",
   "execution_count": null,
   "id": "5398a75d-44d5-4bab-8cec-a48c13c89060",
   "metadata": {},
   "outputs": [],
   "source": []
  },
  {
   "cell_type": "markdown",
   "id": "ed18bf0a-dda6-48fe-bb6e-7f4f63ade3ce",
   "metadata": {},
   "source": [
    "## <font color = lime> Drill Down Canada NA:"
   ]
  },
  {
   "cell_type": "code",
   "execution_count": 82,
   "id": "422f44e2-9ebf-4b76-afe2-42eb0ac040ea",
   "metadata": {},
   "outputs": [
    {
     "data": {
      "text/html": [
       "1689"
      ],
      "text/latex": [
       "1689"
      ],
      "text/markdown": [
       "1689"
      ],
      "text/plain": [
       "[1] 1689"
      ]
     },
     "metadata": {},
     "output_type": "display_data"
    },
    {
     "data": {
      "text/html": [
       "<table class=\"dataframe\">\n",
       "<caption>A tibble: 6 × 10</caption>\n",
       "<thead>\n",
       "\t<tr><th scope=col>id</th><th scope=col>date</th><th scope=col>country</th><th scope=col>store</th><th scope=col>product</th><th scope=col>num_sold</th><th scope=col>year</th><th scope=col>mo</th><th scope=col>day</th><th scope=col>wkday</th></tr>\n",
       "\t<tr><th scope=col>&lt;dbl&gt;</th><th scope=col>&lt;date&gt;</th><th scope=col>&lt;chr&gt;</th><th scope=col>&lt;chr&gt;</th><th scope=col>&lt;chr&gt;</th><th scope=col>&lt;dbl&gt;</th><th scope=col>&lt;dbl&gt;</th><th scope=col>&lt;ord&gt;</th><th scope=col>&lt;int&gt;</th><th scope=col>&lt;ord&gt;</th></tr>\n",
       "</thead>\n",
       "<tbody>\n",
       "\t<tr><td>1</td><td>2010-01-01</td><td>Canada</td><td>Discount Stickers</td><td>Kaggle            </td><td> 973</td><td>2010</td><td>Jan</td><td>1</td><td>Fri</td></tr>\n",
       "\t<tr><td>2</td><td>2010-01-01</td><td>Canada</td><td>Discount Stickers</td><td>Kaggle Tiers      </td><td> 906</td><td>2010</td><td>Jan</td><td>1</td><td>Fri</td></tr>\n",
       "\t<tr><td>3</td><td>2010-01-01</td><td>Canada</td><td>Discount Stickers</td><td>Kerneler          </td><td> 423</td><td>2010</td><td>Jan</td><td>1</td><td>Fri</td></tr>\n",
       "\t<tr><td>4</td><td>2010-01-01</td><td>Canada</td><td>Discount Stickers</td><td>Kerneler Dark Mode</td><td> 491</td><td>2010</td><td>Jan</td><td>1</td><td>Fri</td></tr>\n",
       "\t<tr><td>5</td><td>2010-01-01</td><td>Canada</td><td>Stickers for Less</td><td>Holographic Goose </td><td> 300</td><td>2010</td><td>Jan</td><td>1</td><td>Fri</td></tr>\n",
       "\t<tr><td>6</td><td>2010-01-01</td><td>Canada</td><td>Stickers for Less</td><td>Kaggle            </td><td>1837</td><td>2010</td><td>Jan</td><td>1</td><td>Fri</td></tr>\n",
       "</tbody>\n",
       "</table>\n"
      ],
      "text/latex": [
       "A tibble: 6 × 10\n",
       "\\begin{tabular}{llllllllll}\n",
       " id & date & country & store & product & num\\_sold & year & mo & day & wkday\\\\\n",
       " <dbl> & <date> & <chr> & <chr> & <chr> & <dbl> & <dbl> & <ord> & <int> & <ord>\\\\\n",
       "\\hline\n",
       "\t 1 & 2010-01-01 & Canada & Discount Stickers & Kaggle             &  973 & 2010 & Jan & 1 & Fri\\\\\n",
       "\t 2 & 2010-01-01 & Canada & Discount Stickers & Kaggle Tiers       &  906 & 2010 & Jan & 1 & Fri\\\\\n",
       "\t 3 & 2010-01-01 & Canada & Discount Stickers & Kerneler           &  423 & 2010 & Jan & 1 & Fri\\\\\n",
       "\t 4 & 2010-01-01 & Canada & Discount Stickers & Kerneler Dark Mode &  491 & 2010 & Jan & 1 & Fri\\\\\n",
       "\t 5 & 2010-01-01 & Canada & Stickers for Less & Holographic Goose  &  300 & 2010 & Jan & 1 & Fri\\\\\n",
       "\t 6 & 2010-01-01 & Canada & Stickers for Less & Kaggle             & 1837 & 2010 & Jan & 1 & Fri\\\\\n",
       "\\end{tabular}\n"
      ],
      "text/markdown": [
       "\n",
       "A tibble: 6 × 10\n",
       "\n",
       "| id &lt;dbl&gt; | date &lt;date&gt; | country &lt;chr&gt; | store &lt;chr&gt; | product &lt;chr&gt; | num_sold &lt;dbl&gt; | year &lt;dbl&gt; | mo &lt;ord&gt; | day &lt;int&gt; | wkday &lt;ord&gt; |\n",
       "|---|---|---|---|---|---|---|---|---|---|\n",
       "| 1 | 2010-01-01 | Canada | Discount Stickers | Kaggle             |  973 | 2010 | Jan | 1 | Fri |\n",
       "| 2 | 2010-01-01 | Canada | Discount Stickers | Kaggle Tiers       |  906 | 2010 | Jan | 1 | Fri |\n",
       "| 3 | 2010-01-01 | Canada | Discount Stickers | Kerneler           |  423 | 2010 | Jan | 1 | Fri |\n",
       "| 4 | 2010-01-01 | Canada | Discount Stickers | Kerneler Dark Mode |  491 | 2010 | Jan | 1 | Fri |\n",
       "| 5 | 2010-01-01 | Canada | Stickers for Less | Holographic Goose  |  300 | 2010 | Jan | 1 | Fri |\n",
       "| 6 | 2010-01-01 | Canada | Stickers for Less | Kaggle             | 1837 | 2010 | Jan | 1 | Fri |\n",
       "\n"
      ],
      "text/plain": [
       "  id date       country store             product            num_sold year mo \n",
       "1 1  2010-01-01 Canada  Discount Stickers Kaggle              973     2010 Jan\n",
       "2 2  2010-01-01 Canada  Discount Stickers Kaggle Tiers        906     2010 Jan\n",
       "3 3  2010-01-01 Canada  Discount Stickers Kerneler            423     2010 Jan\n",
       "4 4  2010-01-01 Canada  Discount Stickers Kerneler Dark Mode  491     2010 Jan\n",
       "5 5  2010-01-01 Canada  Stickers for Less Holographic Goose   300     2010 Jan\n",
       "6 6  2010-01-01 Canada  Stickers for Less Kaggle             1837     2010 Jan\n",
       "  day wkday\n",
       "1 1   Fri  \n",
       "2 1   Fri  \n",
       "3 1   Fri  \n",
       "4 1   Fri  \n",
       "5 1   Fri  \n",
       "6 1   Fri  "
      ]
     },
     "metadata": {},
     "output_type": "display_data"
    }
   ],
   "source": [
    "sum(is.na(canada))\n",
    "head(canada)"
   ]
  },
  {
   "cell_type": "code",
   "execution_count": 83,
   "id": "63f17d65-5066-4b71-b1cd-04e8fd73e3fc",
   "metadata": {},
   "outputs": [
    {
     "data": {
      "text/html": [
       "1308"
      ],
      "text/latex": [
       "1308"
      ],
      "text/markdown": [
       "1308"
      ],
      "text/plain": [
       "[1] 1308"
      ]
     },
     "metadata": {},
     "output_type": "display_data"
    },
    {
     "data": {
      "text/html": [
       "380"
      ],
      "text/latex": [
       "380"
      ],
      "text/markdown": [
       "380"
      ],
      "text/plain": [
       "[1] 380"
      ]
     },
     "metadata": {},
     "output_type": "display_data"
    },
    {
     "data": {
      "text/html": [
       "1"
      ],
      "text/latex": [
       "1"
      ],
      "text/markdown": [
       "1"
      ],
      "text/plain": [
       "[1] 1"
      ]
     },
     "metadata": {},
     "output_type": "display_data"
    },
    {
     "data": {
      "text/html": [
       "1689"
      ],
      "text/latex": [
       "1689"
      ],
      "text/markdown": [
       "1689"
      ],
      "text/plain": [
       "[1] 1689"
      ]
     },
     "metadata": {},
     "output_type": "display_data"
    },
    {
     "name": "stdout",
     "output_type": "stream",
     "text": [
      "\n",
      " The total NAs from the 3 store types in Canada are:  1689 \n",
      "\n"
     ]
    }
   ],
   "source": [
    "store1 <- canada %>% filter(store == \"Stickers for Less\")\n",
    "sum(is.na(store1))\n",
    "indices_store1 <- store1$id\n",
    "store2 <- canada %>% filter(store == \"Premium Sticker Mart\")\n",
    "sum(is.na(store2))\n",
    "indices_store2 <- store2$id\n",
    "store3 <- canada %>% filter(store == \"Discount Stickers\" ) \n",
    "sum(is.na(store3))\n",
    "indices_store3 <- store3$id\n",
    "1308+380+1\n",
    "can <- 1308 + 380+ 1\n",
    "\n",
    "cat(\"\\n The total NAs from the 3 store types in Canada are: \", can ,\"\\n\\n\")"
   ]
  },
  {
   "cell_type": "code",
   "execution_count": null,
   "id": "50a4212e-9d3f-45b6-b873-38ec79eba470",
   "metadata": {},
   "outputs": [],
   "source": []
  },
  {
   "cell_type": "markdown",
   "id": "b376510b-84ab-4529-9d54-18671c83b3d7",
   "metadata": {},
   "source": [
    "# <font color = lime> STOP:"
   ]
  },
  {
   "cell_type": "code",
   "execution_count": null,
   "id": "1d415632-0fd2-438e-b224-752b08261d40",
   "metadata": {},
   "outputs": [],
   "source": []
  },
  {
   "cell_type": "markdown",
   "id": "94c28251-a698-4aa1-9e02-ac4d3eef807c",
   "metadata": {},
   "source": [
    "#### Seasonal Decomposition (for Time Series Data)"
   ]
  },
  {
   "cell_type": "code",
   "execution_count": null,
   "id": "8bcc590c-22cc-4bb6-a70a-36b12d0d5f59",
   "metadata": {
    "jupyter": {
     "source_hidden": true
    }
   },
   "outputs": [],
   "source": [
    "# library(forecast)\n",
    "# library(lubridate)\n",
    "# # Assuming `training` has a time series column\n",
    "# ts_data <- ts(training$variable, frequency = 12) # Monthly data\n",
    "# decomposed <- decompose(ts_data)\n",
    "\n",
    "# # Plot the decomposed components\n",
    "# plot(decomposed)\n"
   ]
  },
  {
   "cell_type": "code",
   "execution_count": null,
   "id": "0eaddf40-d48a-46a5-84c7-ab1287bd0e5f",
   "metadata": {},
   "outputs": [],
   "source": []
  },
  {
   "cell_type": "markdown",
   "id": "feb657a5-b3c8-4033-9f59-7c2145a43023",
   "metadata": {},
   "source": [
    "# Modelish"
   ]
  },
  {
   "cell_type": "markdown",
   "id": "96e29d7d-de92-4f04-a78b-ec5d01c43973",
   "metadata": {},
   "source": [
    "### <font color = lime> Manual Encoding"
   ]
  },
  {
   "cell_type": "code",
   "execution_count": 122,
   "id": "6a5248a7-d914-4a0e-89e6-d01f43267cc5",
   "metadata": {},
   "outputs": [
    {
     "data": {
      "text/html": [
       "<style>\n",
       ".list-inline {list-style: none; margin:0; padding: 0}\n",
       ".list-inline>li {display: inline-block}\n",
       ".list-inline>li:not(:last-child)::after {content: \"\\00b7\"; padding: 0 .5ex}\n",
       "</style>\n",
       "<ol class=list-inline><li>6</li><li>2</li></ol>\n"
      ],
      "text/latex": [
       "\\begin{enumerate*}\n",
       "\\item 6\n",
       "\\item 2\n",
       "\\end{enumerate*}\n"
      ],
      "text/markdown": [
       "1. 6\n",
       "2. 2\n",
       "\n",
       "\n"
      ],
      "text/plain": [
       "[1] 6 2"
      ]
     },
     "metadata": {},
     "output_type": "display_data"
    },
    {
     "data": {
      "text/html": [
       "<style>\n",
       ".list-inline {list-style: none; margin:0; padding: 0}\n",
       ".list-inline>li {display: inline-block}\n",
       ".list-inline>li:not(:last-child)::after {content: \"\\00b7\"; padding: 0 .5ex}\n",
       "</style>\n",
       "<ol class=list-inline><li>5</li><li>2</li></ol>\n"
      ],
      "text/latex": [
       "\\begin{enumerate*}\n",
       "\\item 5\n",
       "\\item 2\n",
       "\\end{enumerate*}\n"
      ],
      "text/markdown": [
       "1. 5\n",
       "2. 2\n",
       "\n",
       "\n"
      ],
      "text/plain": [
       "[1] 5 2"
      ]
     },
     "metadata": {},
     "output_type": "display_data"
    },
    {
     "data": {
      "text/html": [
       "<style>\n",
       ".list-inline {list-style: none; margin:0; padding: 0}\n",
       ".list-inline>li {display: inline-block}\n",
       ".list-inline>li:not(:last-child)::after {content: \"\\00b7\"; padding: 0 .5ex}\n",
       "</style>\n",
       "<ol class=list-inline><li>3</li><li>2</li></ol>\n"
      ],
      "text/latex": [
       "\\begin{enumerate*}\n",
       "\\item 3\n",
       "\\item 2\n",
       "\\end{enumerate*}\n"
      ],
      "text/markdown": [
       "1. 3\n",
       "2. 2\n",
       "\n",
       "\n"
      ],
      "text/plain": [
       "[1] 3 2"
      ]
     },
     "metadata": {},
     "output_type": "display_data"
    }
   ],
   "source": [
    "country = data.frame(id = c(1,2,3,4,5,6), country = c(\"Canada\", \"Finland\", \"Italy\", \"Kenya\", \"Norway\", \"Singapore\") )\n",
    "dim(country)\n",
    "\n",
    "product = data.frame(id = c(1,2,3,4,5), product = c(\"Holographic Goose\", \"Kaggle\", \"Kaggle Tiers\", \"Kerneler\", \"Kerneler Dark Mode\") )\n",
    "dim(product)\n",
    "\n",
    "store = data.frame(id = c(1,2,3) , store = c(\"Discount Stickers\", \"Stickers for Less\", \"Premium Sticker Mart\") )\n",
    "dim(store)\n"
   ]
  },
  {
   "cell_type": "code",
   "execution_count": 96,
   "id": "98102d24-1177-4906-a0a3-6bd0fe3c5ff0",
   "metadata": {},
   "outputs": [
    {
     "data": {
      "text/html": [
       "<table class=\"dataframe\">\n",
       "<caption>A tibble: 3 × 10</caption>\n",
       "<thead>\n",
       "\t<tr><th scope=col>id</th><th scope=col>date</th><th scope=col>country</th><th scope=col>store</th><th scope=col>product</th><th scope=col>num_sold</th><th scope=col>year</th><th scope=col>mo</th><th scope=col>day</th><th scope=col>wkday</th></tr>\n",
       "\t<tr><th scope=col>&lt;dbl&gt;</th><th scope=col>&lt;date&gt;</th><th scope=col>&lt;int&gt;</th><th scope=col>&lt;int&gt;</th><th scope=col>&lt;int&gt;</th><th scope=col>&lt;dbl&gt;</th><th scope=col>&lt;dbl&gt;</th><th scope=col>&lt;dbl&gt;</th><th scope=col>&lt;int&gt;</th><th scope=col>&lt;dbl&gt;</th></tr>\n",
       "</thead>\n",
       "<tbody>\n",
       "\t<tr><td>1</td><td>2010-01-01</td><td>1</td><td>1</td><td>2</td><td>973</td><td>2010</td><td>1</td><td>1</td><td>6</td></tr>\n",
       "\t<tr><td>2</td><td>2010-01-01</td><td>1</td><td>1</td><td>3</td><td>906</td><td>2010</td><td>1</td><td>1</td><td>6</td></tr>\n",
       "\t<tr><td>3</td><td>2010-01-01</td><td>1</td><td>1</td><td>4</td><td>423</td><td>2010</td><td>1</td><td>1</td><td>6</td></tr>\n",
       "</tbody>\n",
       "</table>\n"
      ],
      "text/latex": [
       "A tibble: 3 × 10\n",
       "\\begin{tabular}{llllllllll}\n",
       " id & date & country & store & product & num\\_sold & year & mo & day & wkday\\\\\n",
       " <dbl> & <date> & <int> & <int> & <int> & <dbl> & <dbl> & <dbl> & <int> & <dbl>\\\\\n",
       "\\hline\n",
       "\t 1 & 2010-01-01 & 1 & 1 & 2 & 973 & 2010 & 1 & 1 & 6\\\\\n",
       "\t 2 & 2010-01-01 & 1 & 1 & 3 & 906 & 2010 & 1 & 1 & 6\\\\\n",
       "\t 3 & 2010-01-01 & 1 & 1 & 4 & 423 & 2010 & 1 & 1 & 6\\\\\n",
       "\\end{tabular}\n"
      ],
      "text/markdown": [
       "\n",
       "A tibble: 3 × 10\n",
       "\n",
       "| id &lt;dbl&gt; | date &lt;date&gt; | country &lt;int&gt; | store &lt;int&gt; | product &lt;int&gt; | num_sold &lt;dbl&gt; | year &lt;dbl&gt; | mo &lt;dbl&gt; | day &lt;int&gt; | wkday &lt;dbl&gt; |\n",
       "|---|---|---|---|---|---|---|---|---|---|\n",
       "| 1 | 2010-01-01 | 1 | 1 | 2 | 973 | 2010 | 1 | 1 | 6 |\n",
       "| 2 | 2010-01-01 | 1 | 1 | 3 | 906 | 2010 | 1 | 1 | 6 |\n",
       "| 3 | 2010-01-01 | 1 | 1 | 4 | 423 | 2010 | 1 | 1 | 6 |\n",
       "\n"
      ],
      "text/plain": [
       "  id date       country store product num_sold year mo day wkday\n",
       "1 1  2010-01-01 1       1     2       973      2010 1  1   6    \n",
       "2 2  2010-01-01 1       1     3       906      2010 1  1   6    \n",
       "3 3  2010-01-01 1       1     4       423      2010 1  1   6    "
      ]
     },
     "metadata": {},
     "output_type": "display_data"
    }
   ],
   "source": [
    "test_train <- train\n",
    "head(test_train %>% filter(country == \"1\" ),3)\n"
   ]
  },
  {
   "cell_type": "code",
   "execution_count": null,
   "id": "2557d60c-26bd-4669-a0ff-0f0faa7026cb",
   "metadata": {},
   "outputs": [],
   "source": []
  },
  {
   "cell_type": "markdown",
   "id": "f5cf2386-c6c2-4360-9dcf-4d6bc2384b87",
   "metadata": {},
   "source": [
    "### <font color = lime> Encode the classification vars"
   ]
  },
  {
   "cell_type": "code",
   "execution_count": 116,
   "id": "8941b82e-dfbd-4d33-a0bb-241b69d92d26",
   "metadata": {},
   "outputs": [
    {
     "data": {
      "text/html": [
       "<table class=\"dataframe\">\n",
       "<caption>A tibble: 2 × 10</caption>\n",
       "<thead>\n",
       "\t<tr><th scope=col>id</th><th scope=col>date</th><th scope=col>country</th><th scope=col>store</th><th scope=col>product</th><th scope=col>num_sold</th><th scope=col>year</th><th scope=col>mo</th><th scope=col>day</th><th scope=col>wkday</th></tr>\n",
       "\t<tr><th scope=col>&lt;dbl&gt;</th><th scope=col>&lt;date&gt;</th><th scope=col>&lt;int&gt;</th><th scope=col>&lt;int&gt;</th><th scope=col>&lt;int&gt;</th><th scope=col>&lt;int&gt;</th><th scope=col>&lt;dbl&gt;</th><th scope=col>&lt;dbl&gt;</th><th scope=col>&lt;int&gt;</th><th scope=col>&lt;dbl&gt;</th></tr>\n",
       "</thead>\n",
       "<tbody>\n",
       "\t<tr><td>1</td><td>2010-01-01</td><td>1</td><td>1</td><td>2</td><td>973</td><td>2010</td><td>1</td><td>1</td><td>6</td></tr>\n",
       "\t<tr><td>2</td><td>2010-01-01</td><td>1</td><td>1</td><td>3</td><td>906</td><td>2010</td><td>1</td><td>1</td><td>6</td></tr>\n",
       "</tbody>\n",
       "</table>\n"
      ],
      "text/latex": [
       "A tibble: 2 × 10\n",
       "\\begin{tabular}{llllllllll}\n",
       " id & date & country & store & product & num\\_sold & year & mo & day & wkday\\\\\n",
       " <dbl> & <date> & <int> & <int> & <int> & <int> & <dbl> & <dbl> & <int> & <dbl>\\\\\n",
       "\\hline\n",
       "\t 1 & 2010-01-01 & 1 & 1 & 2 & 973 & 2010 & 1 & 1 & 6\\\\\n",
       "\t 2 & 2010-01-01 & 1 & 1 & 3 & 906 & 2010 & 1 & 1 & 6\\\\\n",
       "\\end{tabular}\n"
      ],
      "text/markdown": [
       "\n",
       "A tibble: 2 × 10\n",
       "\n",
       "| id &lt;dbl&gt; | date &lt;date&gt; | country &lt;int&gt; | store &lt;int&gt; | product &lt;int&gt; | num_sold &lt;int&gt; | year &lt;dbl&gt; | mo &lt;dbl&gt; | day &lt;int&gt; | wkday &lt;dbl&gt; |\n",
       "|---|---|---|---|---|---|---|---|---|---|\n",
       "| 1 | 2010-01-01 | 1 | 1 | 2 | 973 | 2010 | 1 | 1 | 6 |\n",
       "| 2 | 2010-01-01 | 1 | 1 | 3 | 906 | 2010 | 1 | 1 | 6 |\n",
       "\n"
      ],
      "text/plain": [
       "  id date       country store product num_sold year mo day wkday\n",
       "1 1  2010-01-01 1       1     2       973      2010 1  1   6    \n",
       "2 2  2010-01-01 1       1     3       906      2010 1  1   6    "
      ]
     },
     "metadata": {},
     "output_type": "display_data"
    },
    {
     "data": {
      "text/html": [
       "<table class=\"dataframe\">\n",
       "<caption>A tibble: 3 × 10</caption>\n",
       "<thead>\n",
       "\t<tr><th scope=col>id</th><th scope=col>date</th><th scope=col>country</th><th scope=col>store</th><th scope=col>product</th><th scope=col>num_sold</th><th scope=col>year</th><th scope=col>mo</th><th scope=col>day</th><th scope=col>wkday</th></tr>\n",
       "\t<tr><th scope=col>&lt;dbl&gt;</th><th scope=col>&lt;date&gt;</th><th scope=col>&lt;int&gt;</th><th scope=col>&lt;int&gt;</th><th scope=col>&lt;int&gt;</th><th scope=col>&lt;int&gt;</th><th scope=col>&lt;dbl&gt;</th><th scope=col>&lt;dbl&gt;</th><th scope=col>&lt;int&gt;</th><th scope=col>&lt;dbl&gt;</th></tr>\n",
       "</thead>\n",
       "<tbody>\n",
       "\t<tr><td>1</td><td>2010-01-01</td><td>1</td><td>1</td><td>2</td><td>973</td><td>2010</td><td>1</td><td>1</td><td>6</td></tr>\n",
       "\t<tr><td>2</td><td>2010-01-01</td><td>1</td><td>1</td><td>3</td><td>906</td><td>2010</td><td>1</td><td>1</td><td>6</td></tr>\n",
       "\t<tr><td>3</td><td>2010-01-01</td><td>1</td><td>1</td><td>4</td><td>423</td><td>2010</td><td>1</td><td>1</td><td>6</td></tr>\n",
       "</tbody>\n",
       "</table>\n"
      ],
      "text/latex": [
       "A tibble: 3 × 10\n",
       "\\begin{tabular}{llllllllll}\n",
       " id & date & country & store & product & num\\_sold & year & mo & day & wkday\\\\\n",
       " <dbl> & <date> & <int> & <int> & <int> & <int> & <dbl> & <dbl> & <int> & <dbl>\\\\\n",
       "\\hline\n",
       "\t 1 & 2010-01-01 & 1 & 1 & 2 & 973 & 2010 & 1 & 1 & 6\\\\\n",
       "\t 2 & 2010-01-01 & 1 & 1 & 3 & 906 & 2010 & 1 & 1 & 6\\\\\n",
       "\t 3 & 2010-01-01 & 1 & 1 & 4 & 423 & 2010 & 1 & 1 & 6\\\\\n",
       "\\end{tabular}\n"
      ],
      "text/markdown": [
       "\n",
       "A tibble: 3 × 10\n",
       "\n",
       "| id &lt;dbl&gt; | date &lt;date&gt; | country &lt;int&gt; | store &lt;int&gt; | product &lt;int&gt; | num_sold &lt;int&gt; | year &lt;dbl&gt; | mo &lt;dbl&gt; | day &lt;int&gt; | wkday &lt;dbl&gt; |\n",
       "|---|---|---|---|---|---|---|---|---|---|\n",
       "| 1 | 2010-01-01 | 1 | 1 | 2 | 973 | 2010 | 1 | 1 | 6 |\n",
       "| 2 | 2010-01-01 | 1 | 1 | 3 | 906 | 2010 | 1 | 1 | 6 |\n",
       "| 3 | 2010-01-01 | 1 | 1 | 4 | 423 | 2010 | 1 | 1 | 6 |\n",
       "\n"
      ],
      "text/plain": [
       "  id date       country store product num_sold year mo day wkday\n",
       "1 1  2010-01-01 1       1     2       973      2010 1  1   6    \n",
       "2 2  2010-01-01 1       1     3       906      2010 1  1   6    \n",
       "3 3  2010-01-01 1       1     4       423      2010 1  1   6    "
      ]
     },
     "metadata": {},
     "output_type": "display_data"
    },
    {
     "data": {
      "text/html": [
       "<table class=\"dataframe\">\n",
       "<caption>A tibble: 2 × 10</caption>\n",
       "<thead>\n",
       "\t<tr><th scope=col>id</th><th scope=col>date</th><th scope=col>country</th><th scope=col>store</th><th scope=col>product</th><th scope=col>num_sold</th><th scope=col>year</th><th scope=col>mo</th><th scope=col>day</th><th scope=col>wkday</th></tr>\n",
       "\t<tr><th scope=col>&lt;dbl&gt;</th><th scope=col>&lt;date&gt;</th><th scope=col>&lt;int&gt;</th><th scope=col>&lt;int&gt;</th><th scope=col>&lt;int&gt;</th><th scope=col>&lt;int&gt;</th><th scope=col>&lt;int&gt;</th><th scope=col>&lt;int&gt;</th><th scope=col>&lt;int&gt;</th><th scope=col>&lt;int&gt;</th></tr>\n",
       "</thead>\n",
       "<tbody>\n",
       "\t<tr><td>1</td><td>2010-01-01</td><td>1</td><td>1</td><td>2</td><td>973</td><td>2010</td><td>1</td><td>1</td><td>6</td></tr>\n",
       "\t<tr><td>2</td><td>2010-01-01</td><td>1</td><td>1</td><td>3</td><td>906</td><td>2010</td><td>1</td><td>1</td><td>6</td></tr>\n",
       "</tbody>\n",
       "</table>\n"
      ],
      "text/latex": [
       "A tibble: 2 × 10\n",
       "\\begin{tabular}{llllllllll}\n",
       " id & date & country & store & product & num\\_sold & year & mo & day & wkday\\\\\n",
       " <dbl> & <date> & <int> & <int> & <int> & <int> & <int> & <int> & <int> & <int>\\\\\n",
       "\\hline\n",
       "\t 1 & 2010-01-01 & 1 & 1 & 2 & 973 & 2010 & 1 & 1 & 6\\\\\n",
       "\t 2 & 2010-01-01 & 1 & 1 & 3 & 906 & 2010 & 1 & 1 & 6\\\\\n",
       "\\end{tabular}\n"
      ],
      "text/markdown": [
       "\n",
       "A tibble: 2 × 10\n",
       "\n",
       "| id &lt;dbl&gt; | date &lt;date&gt; | country &lt;int&gt; | store &lt;int&gt; | product &lt;int&gt; | num_sold &lt;int&gt; | year &lt;int&gt; | mo &lt;int&gt; | day &lt;int&gt; | wkday &lt;int&gt; |\n",
       "|---|---|---|---|---|---|---|---|---|---|\n",
       "| 1 | 2010-01-01 | 1 | 1 | 2 | 973 | 2010 | 1 | 1 | 6 |\n",
       "| 2 | 2010-01-01 | 1 | 1 | 3 | 906 | 2010 | 1 | 1 | 6 |\n",
       "\n"
      ],
      "text/plain": [
       "  id date       country store product num_sold year mo day wkday\n",
       "1 1  2010-01-01 1       1     2       973      2010 1  1   6    \n",
       "2 2  2010-01-01 1       1     3       906      2010 1  1   6    "
      ]
     },
     "metadata": {},
     "output_type": "display_data"
    }
   ],
   "source": [
    "test_train$country[test_train$country == \"Canada\"] <- 1\n",
    "test_train$country[test_train$country == \"Finland\"] <- 2\n",
    "test_train$country[test_train$country == \"Italy\"] <- 3\n",
    "test_train$country[test_train$country == \"Kenya\"] <- 4\n",
    "test_train$country[test_train$country == \"Norway\"] <- 5\n",
    "test_train$country[test_train$country == \"Singapore\"] <- 6\n",
    "test <- test_train\n",
    "test_train <- test %>% mutate(country = as.integer(country) )\n",
    "\n",
    "test_train$product[test_train$product == \"Holographic Goose\"] <- 1\n",
    "test_train$product[test_train$product == \"Kaggle\"] <- 2\n",
    "test_train$product[test_train$product == \"Kaggle Tiers\"] <- 3\n",
    "test_train$product[test_train$product == \"Kerneler\"] <- 4\n",
    "test_train$product[test_train$product == \"Kerneler Dark Mode\"] <- 5\n",
    "test <- test_train\n",
    "test_train <- test %>% mutate(product = as.integer(product) )\n",
    "\n",
    "test_train$store[test_train$store == \"Discount Stickers\"] <- 1\n",
    "test_train$store[test_train$store == \"Stickers for Less\"] <- 2                   \n",
    "test_train$store[test_train$store == \"Premium Sticker Mart\"] <- 3\n",
    "test2 <- test_train\n",
    "test_train <- test2 %>% mutate(store = as.integer(store) )\n",
    "head(test_train,2)\n",
    "\n",
    "# Convert month and weekday to numeric using lubridate functions \n",
    "date_train <- test_train %>% mutate(mo = month(date), wkday = wday(date, label = FALSE)) \n",
    "head(date_train,3)\n",
    "\n",
    "# Conver doubles to integer data types\n",
    "\n",
    "date_train1 <- date_train %>% mutate(num_sold = as.integer(num_sold)) \n",
    "date_train2 <- date_train1 %>% mutate(year = as.integer(year) )\n",
    "date_train3 <- date_train2 %>% mutate(mo = as.integer(mo)) \n",
    "date_train4 <- date_train3 %>%  mutate(wkday = as.integer(wkday))\n",
    "\n",
    "# revert to train \n",
    "train <- date_train4\n",
    "head(train,2)\n",
    "\n"
   ]
  },
  {
   "cell_type": "code",
   "execution_count": null,
   "id": "fdd89099-e5db-4b65-9772-5169c34c385e",
   "metadata": {},
   "outputs": [],
   "source": []
  },
  {
   "cell_type": "markdown",
   "id": "d43ec5c8-5b64-4b80-82ee-97fb0810ba1d",
   "metadata": {},
   "source": [
    "## <font color = yellow> train : rough-prep ( 75% NAs removed / encoded vars) "
   ]
  },
  {
   "cell_type": "code",
   "execution_count": 125,
   "id": "708da3e3-99a5-43b5-9b60-0933594edbf5",
   "metadata": {},
   "outputs": [
    {
     "data": {
      "text/html": [
       "<table class=\"dataframe\">\n",
       "<caption>A matrix: 2 × 6 of type chr</caption>\n",
       "<tbody>\n",
       "\t<tr><th scope=row>id</th><td>1     </td><td>2      </td><td>3    </td><td>4    </td><td>5     </td><td>6        </td></tr>\n",
       "\t<tr><th scope=row>country</th><td>Canada</td><td>Finland</td><td>Italy</td><td>Kenya</td><td>Norway</td><td>Singapore</td></tr>\n",
       "</tbody>\n",
       "</table>\n"
      ],
      "text/latex": [
       "A matrix: 2 × 6 of type chr\n",
       "\\begin{tabular}{r|llllll}\n",
       "\tid & 1      & 2       & 3     & 4     & 5      & 6        \\\\\n",
       "\tcountry & Canada & Finland & Italy & Kenya & Norway & Singapore\\\\\n",
       "\\end{tabular}\n"
      ],
      "text/markdown": [
       "\n",
       "A matrix: 2 × 6 of type chr\n",
       "\n",
       "| id | 1      | 2       | 3     | 4     | 5      | 6         |\n",
       "| country | Canada | Finland | Italy | Kenya | Norway | Singapore |\n",
       "\n"
      ],
      "text/plain": [
       "        [,1]   [,2]    [,3]  [,4]  [,5]   [,6]     \n",
       "id      1      2       3     4     5      6        \n",
       "country Canada Finland Italy Kenya Norway Singapore"
      ]
     },
     "metadata": {},
     "output_type": "display_data"
    },
    {
     "data": {
      "text/html": [
       "<style>\n",
       ".list-inline {list-style: none; margin:0; padding: 0}\n",
       ".list-inline>li {display: inline-block}\n",
       ".list-inline>li:not(:last-child)::after {content: \"\\00b7\"; padding: 0 .5ex}\n",
       "</style>\n",
       "<ol class=list-inline><li>'id'</li><li>'date'</li><li>'country'</li><li>'store'</li><li>'product'</li><li>'num_sold'</li><li>'year'</li><li>'mo'</li><li>'day'</li><li>'wkday'</li></ol>\n"
      ],
      "text/latex": [
       "\\begin{enumerate*}\n",
       "\\item 'id'\n",
       "\\item 'date'\n",
       "\\item 'country'\n",
       "\\item 'store'\n",
       "\\item 'product'\n",
       "\\item 'num\\_sold'\n",
       "\\item 'year'\n",
       "\\item 'mo'\n",
       "\\item 'day'\n",
       "\\item 'wkday'\n",
       "\\end{enumerate*}\n"
      ],
      "text/markdown": [
       "1. 'id'\n",
       "2. 'date'\n",
       "3. 'country'\n",
       "4. 'store'\n",
       "5. 'product'\n",
       "6. 'num_sold'\n",
       "7. 'year'\n",
       "8. 'mo'\n",
       "9. 'day'\n",
       "10. 'wkday'\n",
       "\n",
       "\n"
      ],
      "text/plain": [
       " [1] \"id\"       \"date\"     \"country\"  \"store\"    \"product\"  \"num_sold\"\n",
       " [7] \"year\"     \"mo\"       \"day\"      \"wkday\"   "
      ]
     },
     "metadata": {},
     "output_type": "display_data"
    }
   ],
   "source": [
    "t(country)\n",
    "names(train)"
   ]
  },
  {
   "cell_type": "code",
   "execution_count": 138,
   "id": "74cf89fe-f91e-40a5-ad64-58a1b45f6ff8",
   "metadata": {},
   "outputs": [
    {
     "data": {
      "text/html": [
       "<table class=\"dataframe\">\n",
       "<caption>A tibble: 1 × 10</caption>\n",
       "<thead>\n",
       "\t<tr><th scope=col>id</th><th scope=col>date</th><th scope=col>country</th><th scope=col>store</th><th scope=col>product</th><th scope=col>num_sold</th><th scope=col>year</th><th scope=col>mo</th><th scope=col>day</th><th scope=col>wkday</th></tr>\n",
       "\t<tr><th scope=col>&lt;dbl&gt;</th><th scope=col>&lt;date&gt;</th><th scope=col>&lt;int&gt;</th><th scope=col>&lt;int&gt;</th><th scope=col>&lt;int&gt;</th><th scope=col>&lt;int&gt;</th><th scope=col>&lt;int&gt;</th><th scope=col>&lt;int&gt;</th><th scope=col>&lt;int&gt;</th><th scope=col>&lt;int&gt;</th></tr>\n",
       "</thead>\n",
       "<tbody>\n",
       "\t<tr><td>320</td><td>2010-01-04</td><td>4</td><td>2</td><td>1</td><td>NA</td><td>2010</td><td>1</td><td>4</td><td>2</td></tr>\n",
       "</tbody>\n",
       "</table>\n"
      ],
      "text/latex": [
       "A tibble: 1 × 10\n",
       "\\begin{tabular}{llllllllll}\n",
       " id & date & country & store & product & num\\_sold & year & mo & day & wkday\\\\\n",
       " <dbl> & <date> & <int> & <int> & <int> & <int> & <int> & <int> & <int> & <int>\\\\\n",
       "\\hline\n",
       "\t 320 & 2010-01-04 & 4 & 2 & 1 & NA & 2010 & 1 & 4 & 2\\\\\n",
       "\\end{tabular}\n"
      ],
      "text/markdown": [
       "\n",
       "A tibble: 1 × 10\n",
       "\n",
       "| id &lt;dbl&gt; | date &lt;date&gt; | country &lt;int&gt; | store &lt;int&gt; | product &lt;int&gt; | num_sold &lt;int&gt; | year &lt;int&gt; | mo &lt;int&gt; | day &lt;int&gt; | wkday &lt;int&gt; |\n",
       "|---|---|---|---|---|---|---|---|---|---|\n",
       "| 320 | 2010-01-04 | 4 | 2 | 1 | NA | 2010 | 1 | 4 | 2 |\n",
       "\n"
      ],
      "text/plain": [
       "  id  date       country store product num_sold year mo day wkday\n",
       "1 320 2010-01-04 4       2     1       NA       2010 1  4   2    "
      ]
     },
     "metadata": {},
     "output_type": "display_data"
    }
   ],
   "source": [
    "train %>% filter(country == \"4\" & id == 320)"
   ]
  },
  {
   "cell_type": "code",
   "execution_count": 141,
   "id": "81710c0b-5f0e-4e8d-afe2-e40b8ff1856c",
   "metadata": {},
   "outputs": [
    {
     "data": {
      "text/html": [
       "3110"
      ],
      "text/latex": [
       "3110"
      ],
      "text/markdown": [
       "3110"
      ],
      "text/plain": [
       "[1] 3110"
      ]
     },
     "metadata": {},
     "output_type": "display_data"
    },
    {
     "data": {
      "text/html": [
       "<style>\n",
       ".list-inline {list-style: none; margin:0; padding: 0}\n",
       ".list-inline>li {display: inline-block}\n",
       ".list-inline>li:not(:last-child)::after {content: \"\\00b7\"; padding: 0 .5ex}\n",
       "</style>\n",
       "<ol class=list-inline><li>1421</li><li>10</li></ol>\n"
      ],
      "text/latex": [
       "\\begin{enumerate*}\n",
       "\\item 1421\n",
       "\\item 10\n",
       "\\end{enumerate*}\n"
      ],
      "text/markdown": [
       "1. 1421\n",
       "2. 10\n",
       "\n",
       "\n"
      ],
      "text/plain": [
       "[1] 1421   10"
      ]
     },
     "metadata": {},
     "output_type": "display_data"
    },
    {
     "data": {
      "text/html": [
       "<table class=\"dataframe\">\n",
       "<caption>A tibble: 1 × 10</caption>\n",
       "<thead>\n",
       "\t<tr><th scope=col>id</th><th scope=col>date</th><th scope=col>country</th><th scope=col>store</th><th scope=col>product</th><th scope=col>num_sold</th><th scope=col>year</th><th scope=col>mo</th><th scope=col>day</th><th scope=col>wkday</th></tr>\n",
       "\t<tr><th scope=col>&lt;dbl&gt;</th><th scope=col>&lt;date&gt;</th><th scope=col>&lt;int&gt;</th><th scope=col>&lt;int&gt;</th><th scope=col>&lt;int&gt;</th><th scope=col>&lt;dbl&gt;</th><th scope=col>&lt;int&gt;</th><th scope=col>&lt;int&gt;</th><th scope=col>&lt;int&gt;</th><th scope=col>&lt;int&gt;</th></tr>\n",
       "</thead>\n",
       "<tbody>\n",
       "\t<tr><td>320</td><td>2010-01-04</td><td>4</td><td>2</td><td>1</td><td>20.27</td><td>2010</td><td>1</td><td>4</td><td>2</td></tr>\n",
       "</tbody>\n",
       "</table>\n"
      ],
      "text/latex": [
       "A tibble: 1 × 10\n",
       "\\begin{tabular}{llllllllll}\n",
       " id & date & country & store & product & num\\_sold & year & mo & day & wkday\\\\\n",
       " <dbl> & <date> & <int> & <int> & <int> & <dbl> & <int> & <int> & <int> & <int>\\\\\n",
       "\\hline\n",
       "\t 320 & 2010-01-04 & 4 & 2 & 1 & 20.27 & 2010 & 1 & 4 & 2\\\\\n",
       "\\end{tabular}\n"
      ],
      "text/markdown": [
       "\n",
       "A tibble: 1 × 10\n",
       "\n",
       "| id &lt;dbl&gt; | date &lt;date&gt; | country &lt;int&gt; | store &lt;int&gt; | product &lt;int&gt; | num_sold &lt;dbl&gt; | year &lt;int&gt; | mo &lt;int&gt; | day &lt;int&gt; | wkday &lt;int&gt; |\n",
       "|---|---|---|---|---|---|---|---|---|---|\n",
       "| 320 | 2010-01-04 | 4 | 2 | 1 | 20.27 | 2010 | 1 | 4 | 2 |\n",
       "\n"
      ],
      "text/plain": [
       "  id  date       country store product num_sold year mo day wkday\n",
       "1 320 2010-01-04 4       2     1       20.27    2010 1  4   2    "
      ]
     },
     "metadata": {},
     "output_type": "display_data"
    }
   ],
   "source": [
    "sum(is.na(train))\n",
    "\n",
    "dim(train %>% filter(country == \"4\" & is.na(num_sold)  ))\n",
    "ken_mean_sale <- 20.27   # 34,087 sold / 1421 NA\n",
    "\n",
    "kenya_train <- train %>% mutate(num_sold = ifelse(is.na(num_sold), 20.27, num_sold) )\n",
    "kenya_train %>% filter(id == 320)"
   ]
  },
  {
   "cell_type": "code",
   "execution_count": null,
   "id": "774b2a04-d5fe-456c-a632-e18036135697",
   "metadata": {},
   "outputs": [],
   "source": [
    "stopper "
   ]
  },
  {
   "cell_type": "code",
   "execution_count": 142,
   "id": "9d55eafd-dcad-48cc-b576-6ef138fbcb91",
   "metadata": {},
   "outputs": [
    {
     "data": {
      "text/html": [
       "<style>\n",
       ".list-inline {list-style: none; margin:0; padding: 0}\n",
       ".list-inline>li {display: inline-block}\n",
       ".list-inline>li:not(:last-child)::after {content: \"\\00b7\"; padding: 0 .5ex}\n",
       "</style>\n",
       "<ol class=list-inline><li>'id'</li><li>'date'</li><li>'country'</li><li>'store'</li><li>'product'</li><li>'num_sold'</li><li>'year'</li><li>'mo'</li><li>'day'</li><li>'wkday'</li></ol>\n"
      ],
      "text/latex": [
       "\\begin{enumerate*}\n",
       "\\item 'id'\n",
       "\\item 'date'\n",
       "\\item 'country'\n",
       "\\item 'store'\n",
       "\\item 'product'\n",
       "\\item 'num\\_sold'\n",
       "\\item 'year'\n",
       "\\item 'mo'\n",
       "\\item 'day'\n",
       "\\item 'wkday'\n",
       "\\end{enumerate*}\n"
      ],
      "text/markdown": [
       "1. 'id'\n",
       "2. 'date'\n",
       "3. 'country'\n",
       "4. 'store'\n",
       "5. 'product'\n",
       "6. 'num_sold'\n",
       "7. 'year'\n",
       "8. 'mo'\n",
       "9. 'day'\n",
       "10. 'wkday'\n",
       "\n",
       "\n"
      ],
      "text/plain": [
       " [1] \"id\"       \"date\"     \"country\"  \"store\"    \"product\"  \"num_sold\"\n",
       " [7] \"year\"     \"mo\"       \"day\"      \"wkday\"   "
      ]
     },
     "metadata": {},
     "output_type": "display_data"
    }
   ],
   "source": [
    "names(kenya_train)"
   ]
  },
  {
   "cell_type": "markdown",
   "id": "db4f6020-46af-4eb5-a521-f0c1a480dc08",
   "metadata": {},
   "source": [
    "## <font color = lime> Remove id: kenya_train dataset (No NAs = 20.27)"
   ]
  },
  {
   "cell_type": "code",
   "execution_count": 148,
   "id": "a967138d-791a-411d-a0a0-363db24537ea",
   "metadata": {},
   "outputs": [
    {
     "data": {
      "text/html": [
       "<style>\n",
       ".list-inline {list-style: none; margin:0; padding: 0}\n",
       ".list-inline>li {display: inline-block}\n",
       ".list-inline>li:not(:last-child)::after {content: \"\\00b7\"; padding: 0 .5ex}\n",
       "</style>\n",
       "<ol class=list-inline><li>'date'</li><li>'country'</li><li>'store'</li><li>'product'</li><li>'num_sold'</li><li>'year'</li><li>'mo'</li><li>'day'</li><li>'wkday'</li></ol>\n"
      ],
      "text/latex": [
       "\\begin{enumerate*}\n",
       "\\item 'date'\n",
       "\\item 'country'\n",
       "\\item 'store'\n",
       "\\item 'product'\n",
       "\\item 'num\\_sold'\n",
       "\\item 'year'\n",
       "\\item 'mo'\n",
       "\\item 'day'\n",
       "\\item 'wkday'\n",
       "\\end{enumerate*}\n"
      ],
      "text/markdown": [
       "1. 'date'\n",
       "2. 'country'\n",
       "3. 'store'\n",
       "4. 'product'\n",
       "5. 'num_sold'\n",
       "6. 'year'\n",
       "7. 'mo'\n",
       "8. 'day'\n",
       "9. 'wkday'\n",
       "\n",
       "\n"
      ],
      "text/plain": [
       "[1] \"date\"     \"country\"  \"store\"    \"product\"  \"num_sold\" \"year\"     \"mo\"      \n",
       "[8] \"day\"      \"wkday\"   "
      ]
     },
     "metadata": {},
     "output_type": "display_data"
    }
   ],
   "source": [
    "# Use select to remove a column \n",
    "kenya_train <- kenya_train %>% select(-id)\n",
    "names(kenya_train)"
   ]
  },
  {
   "cell_type": "markdown",
   "id": "21a9b8e7-854f-4b28-899b-d7269818aa8b",
   "metadata": {},
   "source": [
    "## <font color = yellow> Split the data (kenya_train)"
   ]
  },
  {
   "cell_type": "code",
   "execution_count": 158,
   "id": "fbff2eba-2fdd-4d91-bdc4-09a3fdc40dbb",
   "metadata": {},
   "outputs": [
    {
     "name": "stdout",
     "output_type": "stream",
     "text": [
      "  |======================================================================| 100%\n",
      "  |======================================================================| 100%\n",
      "  |======================================================================| 100%\n",
      "  |======================================================================| 100%\n",
      "Training set dimensions (x): 179782 8 \n",
      "Testing set dimensions (x): 44944 8 \n",
      "Training set dimensions (y): 179782 \n",
      "Testing set dimensions (y): 44944 \n"
     ]
    },
    {
     "data": {
      "text/html": [
       "<table class=\"dataframe\">\n",
       "<caption>A data.frame: 6 × 8</caption>\n",
       "<thead>\n",
       "\t<tr><th></th><th scope=col>date</th><th scope=col>country</th><th scope=col>store</th><th scope=col>product</th><th scope=col>year</th><th scope=col>mo</th><th scope=col>day</th><th scope=col>wkday</th></tr>\n",
       "\t<tr><th></th><th scope=col>&lt;dbl&gt;</th><th scope=col>&lt;dbl&gt;</th><th scope=col>&lt;dbl&gt;</th><th scope=col>&lt;dbl&gt;</th><th scope=col>&lt;dbl&gt;</th><th scope=col>&lt;dbl&gt;</th><th scope=col>&lt;dbl&gt;</th><th scope=col>&lt;dbl&gt;</th></tr>\n",
       "</thead>\n",
       "<tbody>\n",
       "\t<tr><th scope=row>1</th><td>1262304000000</td><td>1</td><td>1</td><td>2</td><td>2010</td><td>1</td><td>1</td><td>6</td></tr>\n",
       "\t<tr><th scope=row>2</th><td>1262304000000</td><td>1</td><td>1</td><td>3</td><td>2010</td><td>1</td><td>1</td><td>6</td></tr>\n",
       "\t<tr><th scope=row>3</th><td>1262304000000</td><td>1</td><td>1</td><td>4</td><td>2010</td><td>1</td><td>1</td><td>6</td></tr>\n",
       "\t<tr><th scope=row>4</th><td>1262304000000</td><td>1</td><td>2</td><td>1</td><td>2010</td><td>1</td><td>1</td><td>6</td></tr>\n",
       "\t<tr><th scope=row>5</th><td>1262304000000</td><td>1</td><td>2</td><td>2</td><td>2010</td><td>1</td><td>1</td><td>6</td></tr>\n",
       "\t<tr><th scope=row>6</th><td>1262304000000</td><td>1</td><td>2</td><td>3</td><td>2010</td><td>1</td><td>1</td><td>6</td></tr>\n",
       "</tbody>\n",
       "</table>\n"
      ],
      "text/latex": [
       "A data.frame: 6 × 8\n",
       "\\begin{tabular}{r|llllllll}\n",
       "  & date & country & store & product & year & mo & day & wkday\\\\\n",
       "  & <dbl> & <dbl> & <dbl> & <dbl> & <dbl> & <dbl> & <dbl> & <dbl>\\\\\n",
       "\\hline\n",
       "\t1 & 1262304000000 & 1 & 1 & 2 & 2010 & 1 & 1 & 6\\\\\n",
       "\t2 & 1262304000000 & 1 & 1 & 3 & 2010 & 1 & 1 & 6\\\\\n",
       "\t3 & 1262304000000 & 1 & 1 & 4 & 2010 & 1 & 1 & 6\\\\\n",
       "\t4 & 1262304000000 & 1 & 2 & 1 & 2010 & 1 & 1 & 6\\\\\n",
       "\t5 & 1262304000000 & 1 & 2 & 2 & 2010 & 1 & 1 & 6\\\\\n",
       "\t6 & 1262304000000 & 1 & 2 & 3 & 2010 & 1 & 1 & 6\\\\\n",
       "\\end{tabular}\n"
      ],
      "text/markdown": [
       "\n",
       "A data.frame: 6 × 8\n",
       "\n",
       "| <!--/--> | date &lt;dbl&gt; | country &lt;dbl&gt; | store &lt;dbl&gt; | product &lt;dbl&gt; | year &lt;dbl&gt; | mo &lt;dbl&gt; | day &lt;dbl&gt; | wkday &lt;dbl&gt; |\n",
       "|---|---|---|---|---|---|---|---|---|\n",
       "| 1 | 1262304000000 | 1 | 1 | 2 | 2010 | 1 | 1 | 6 |\n",
       "| 2 | 1262304000000 | 1 | 1 | 3 | 2010 | 1 | 1 | 6 |\n",
       "| 3 | 1262304000000 | 1 | 1 | 4 | 2010 | 1 | 1 | 6 |\n",
       "| 4 | 1262304000000 | 1 | 2 | 1 | 2010 | 1 | 1 | 6 |\n",
       "| 5 | 1262304000000 | 1 | 2 | 2 | 2010 | 1 | 1 | 6 |\n",
       "| 6 | 1262304000000 | 1 | 2 | 3 | 2010 | 1 | 1 | 6 |\n",
       "\n"
      ],
      "text/plain": [
       "  date          country store product year mo day wkday\n",
       "1 1262304000000 1       1     2       2010 1  1   6    \n",
       "2 1262304000000 1       1     3       2010 1  1   6    \n",
       "3 1262304000000 1       1     4       2010 1  1   6    \n",
       "4 1262304000000 1       2     1       2010 1  1   6    \n",
       "5 1262304000000 1       2     2       2010 1  1   6    \n",
       "6 1262304000000 1       2     3       2010 1  1   6    "
      ]
     },
     "metadata": {},
     "output_type": "display_data"
    },
    {
     "data": {
      "text/html": [
       "<table class=\"dataframe\">\n",
       "<caption>A data.frame: 6 × 1</caption>\n",
       "<thead>\n",
       "\t<tr><th></th><th scope=col>x</th></tr>\n",
       "\t<tr><th></th><th scope=col>&lt;dbl&gt;</th></tr>\n",
       "</thead>\n",
       "<tbody>\n",
       "\t<tr><th scope=row>1</th><td> 973</td></tr>\n",
       "\t<tr><th scope=row>2</th><td> 906</td></tr>\n",
       "\t<tr><th scope=row>3</th><td> 423</td></tr>\n",
       "\t<tr><th scope=row>4</th><td> 300</td></tr>\n",
       "\t<tr><th scope=row>5</th><td>1837</td></tr>\n",
       "\t<tr><th scope=row>6</th><td>1659</td></tr>\n",
       "</tbody>\n",
       "</table>\n"
      ],
      "text/latex": [
       "A data.frame: 6 × 1\n",
       "\\begin{tabular}{r|l}\n",
       "  & x\\\\\n",
       "  & <dbl>\\\\\n",
       "\\hline\n",
       "\t1 &  973\\\\\n",
       "\t2 &  906\\\\\n",
       "\t3 &  423\\\\\n",
       "\t4 &  300\\\\\n",
       "\t5 & 1837\\\\\n",
       "\t6 & 1659\\\\\n",
       "\\end{tabular}\n"
      ],
      "text/markdown": [
       "\n",
       "A data.frame: 6 × 1\n",
       "\n",
       "| <!--/--> | x &lt;dbl&gt; |\n",
       "|---|---|\n",
       "| 1 |  973 |\n",
       "| 2 |  906 |\n",
       "| 3 |  423 |\n",
       "| 4 |  300 |\n",
       "| 5 | 1837 |\n",
       "| 6 | 1659 |\n",
       "\n"
      ],
      "text/plain": [
       "  x   \n",
       "1  973\n",
       "2  906\n",
       "3  423\n",
       "4  300\n",
       "5 1837\n",
       "6 1659"
      ]
     },
     "metadata": {},
     "output_type": "display_data"
    },
    {
     "data": {
      "text/html": [
       "<table class=\"dataframe\">\n",
       "<caption>A data.frame: 6 × 8</caption>\n",
       "<thead>\n",
       "\t<tr><th></th><th scope=col>date</th><th scope=col>country</th><th scope=col>store</th><th scope=col>product</th><th scope=col>year</th><th scope=col>mo</th><th scope=col>day</th><th scope=col>wkday</th></tr>\n",
       "\t<tr><th></th><th scope=col>&lt;dbl&gt;</th><th scope=col>&lt;dbl&gt;</th><th scope=col>&lt;dbl&gt;</th><th scope=col>&lt;dbl&gt;</th><th scope=col>&lt;dbl&gt;</th><th scope=col>&lt;dbl&gt;</th><th scope=col>&lt;dbl&gt;</th><th scope=col>&lt;dbl&gt;</th></tr>\n",
       "</thead>\n",
       "<tbody>\n",
       "\t<tr><th scope=row>1</th><td>1262304000000</td><td>1</td><td>1</td><td>5</td><td>2010</td><td>1</td><td>1</td><td>6</td></tr>\n",
       "\t<tr><th scope=row>2</th><td>1262304000000</td><td>1</td><td>2</td><td>4</td><td>2010</td><td>1</td><td>1</td><td>6</td></tr>\n",
       "\t<tr><th scope=row>3</th><td>1262304000000</td><td>1</td><td>2</td><td>5</td><td>2010</td><td>1</td><td>1</td><td>6</td></tr>\n",
       "\t<tr><th scope=row>4</th><td>1262304000000</td><td>1</td><td>3</td><td>3</td><td>2010</td><td>1</td><td>1</td><td>6</td></tr>\n",
       "\t<tr><th scope=row>5</th><td>1262304000000</td><td>1</td><td>3</td><td>5</td><td>2010</td><td>1</td><td>1</td><td>6</td></tr>\n",
       "\t<tr><th scope=row>6</th><td>1262304000000</td><td>2</td><td>1</td><td>5</td><td>2010</td><td>1</td><td>1</td><td>6</td></tr>\n",
       "</tbody>\n",
       "</table>\n"
      ],
      "text/latex": [
       "A data.frame: 6 × 8\n",
       "\\begin{tabular}{r|llllllll}\n",
       "  & date & country & store & product & year & mo & day & wkday\\\\\n",
       "  & <dbl> & <dbl> & <dbl> & <dbl> & <dbl> & <dbl> & <dbl> & <dbl>\\\\\n",
       "\\hline\n",
       "\t1 & 1262304000000 & 1 & 1 & 5 & 2010 & 1 & 1 & 6\\\\\n",
       "\t2 & 1262304000000 & 1 & 2 & 4 & 2010 & 1 & 1 & 6\\\\\n",
       "\t3 & 1262304000000 & 1 & 2 & 5 & 2010 & 1 & 1 & 6\\\\\n",
       "\t4 & 1262304000000 & 1 & 3 & 3 & 2010 & 1 & 1 & 6\\\\\n",
       "\t5 & 1262304000000 & 1 & 3 & 5 & 2010 & 1 & 1 & 6\\\\\n",
       "\t6 & 1262304000000 & 2 & 1 & 5 & 2010 & 1 & 1 & 6\\\\\n",
       "\\end{tabular}\n"
      ],
      "text/markdown": [
       "\n",
       "A data.frame: 6 × 8\n",
       "\n",
       "| <!--/--> | date &lt;dbl&gt; | country &lt;dbl&gt; | store &lt;dbl&gt; | product &lt;dbl&gt; | year &lt;dbl&gt; | mo &lt;dbl&gt; | day &lt;dbl&gt; | wkday &lt;dbl&gt; |\n",
       "|---|---|---|---|---|---|---|---|---|\n",
       "| 1 | 1262304000000 | 1 | 1 | 5 | 2010 | 1 | 1 | 6 |\n",
       "| 2 | 1262304000000 | 1 | 2 | 4 | 2010 | 1 | 1 | 6 |\n",
       "| 3 | 1262304000000 | 1 | 2 | 5 | 2010 | 1 | 1 | 6 |\n",
       "| 4 | 1262304000000 | 1 | 3 | 3 | 2010 | 1 | 1 | 6 |\n",
       "| 5 | 1262304000000 | 1 | 3 | 5 | 2010 | 1 | 1 | 6 |\n",
       "| 6 | 1262304000000 | 2 | 1 | 5 | 2010 | 1 | 1 | 6 |\n",
       "\n"
      ],
      "text/plain": [
       "  date          country store product year mo day wkday\n",
       "1 1262304000000 1       1     5       2010 1  1   6    \n",
       "2 1262304000000 1       2     4       2010 1  1   6    \n",
       "3 1262304000000 1       2     5       2010 1  1   6    \n",
       "4 1262304000000 1       3     3       2010 1  1   6    \n",
       "5 1262304000000 1       3     5       2010 1  1   6    \n",
       "6 1262304000000 2       1     5       2010 1  1   6    "
      ]
     },
     "metadata": {},
     "output_type": "display_data"
    },
    {
     "data": {
      "text/html": [
       "<table class=\"dataframe\">\n",
       "<caption>A data.frame: 6 × 1</caption>\n",
       "<thead>\n",
       "\t<tr><th></th><th scope=col>x</th></tr>\n",
       "\t<tr><th></th><th scope=col>&lt;dbl&gt;</th></tr>\n",
       "</thead>\n",
       "<tbody>\n",
       "\t<tr><th scope=row>1</th><td> 491</td></tr>\n",
       "\t<tr><th scope=row>2</th><td> 807</td></tr>\n",
       "\t<tr><th scope=row>3</th><td> 940</td></tr>\n",
       "\t<tr><th scope=row>4</th><td>2013</td></tr>\n",
       "\t<tr><th scope=row>5</th><td>1213</td></tr>\n",
       "\t<tr><th scope=row>6</th><td> 450</td></tr>\n",
       "</tbody>\n",
       "</table>\n"
      ],
      "text/latex": [
       "A data.frame: 6 × 1\n",
       "\\begin{tabular}{r|l}\n",
       "  & x\\\\\n",
       "  & <dbl>\\\\\n",
       "\\hline\n",
       "\t1 &  491\\\\\n",
       "\t2 &  807\\\\\n",
       "\t3 &  940\\\\\n",
       "\t4 & 2013\\\\\n",
       "\t5 & 1213\\\\\n",
       "\t6 &  450\\\\\n",
       "\\end{tabular}\n"
      ],
      "text/markdown": [
       "\n",
       "A data.frame: 6 × 1\n",
       "\n",
       "| <!--/--> | x &lt;dbl&gt; |\n",
       "|---|---|\n",
       "| 1 |  491 |\n",
       "| 2 |  807 |\n",
       "| 3 |  940 |\n",
       "| 4 | 2013 |\n",
       "| 5 | 1213 |\n",
       "| 6 |  450 |\n",
       "\n"
      ],
      "text/plain": [
       "  x   \n",
       "1  491\n",
       "2  807\n",
       "3  940\n",
       "4 2013\n",
       "5 1213\n",
       "6  450"
      ]
     },
     "metadata": {},
     "output_type": "display_data"
    }
   ],
   "source": [
    "# Load necessary packages\n",
    "library(caret)\n",
    "\n",
    "# Define x (predictors) and y (target variable)\n",
    "x <- kenya_train %>%\n",
    "  select(-num_sold)  # Exclude the target variable\n",
    "y <- kenya_train$num_sold\n",
    "\n",
    "# Create an index for splitting the data\n",
    "train_index <- createDataPartition(y, p = 0.8, list = FALSE)\n",
    "\n",
    "# Split the data into training and testing sets\n",
    "train_data_x <- x[train_index, ]\n",
    "test_data_x <- x[-train_index, ]\n",
    "train_data_y <- y[train_index]\n",
    "test_data_y <- y[-train_index]\n",
    "\n",
    "# Convert to H2O frame for further analysis \n",
    "train_data_h2o <- as.h2o(train_data_x) \n",
    "train_labels_h2o <- as.h2o(train_data_y) \n",
    "test_data_h2o <- as.h2o(test_data_x) \n",
    "test_labels_h2o <- as.h2o(test_data_y)\n",
    "\n",
    "\n",
    "# Check the dimensions of the splits\n",
    "cat(\"Training set dimensions (x):\", dim(train_data_x), \"\\n\")\n",
    "cat(\"Testing set dimensions (x):\", dim(test_data_x), \"\\n\")\n",
    "cat(\"Training set dimensions (y):\", length(train_data_y), \"\\n\")\n",
    "cat(\"Testing set dimensions (y):\", length(test_data_y), \"\\n\")\n",
    "\n",
    "head(train_data_h2o)\n",
    "head(train_labels_h2o)\n",
    "head(test_data_h2o)\n",
    "head(test_labels_h2o)\n"
   ]
  },
  {
   "cell_type": "code",
   "execution_count": null,
   "id": "873d6ce6-080b-4525-87ed-fb6104cf53b7",
   "metadata": {},
   "outputs": [],
   "source": []
  },
  {
   "cell_type": "markdown",
   "id": "8adfae76-0575-4344-870b-4440ee768285",
   "metadata": {},
   "source": [
    "# <font color = yellow> Training a Model"
   ]
  },
  {
   "cell_type": "code",
   "execution_count": null,
   "id": "19ad6bcc-afe4-40b4-9c1b-937b378589e8",
   "metadata": {},
   "outputs": [],
   "source": []
  },
  {
   "cell_type": "code",
   "execution_count": 160,
   "id": "41345fa9-965b-43bc-bf3d-2f8e7449b480",
   "metadata": {},
   "outputs": [
    {
     "name": "stdout",
     "output_type": "stream",
     "text": [
      " Connection successful!\n",
      "\n",
      "R is connected to the H2O cluster: \n",
      "    H2O cluster uptime:         19 minutes 12 seconds \n",
      "    H2O cluster timezone:       America/Anchorage \n",
      "    H2O data parsing timezone:  UTC \n",
      "    H2O cluster version:        3.46.0.6 \n",
      "    H2O cluster version age:    2 months and 14 days \n",
      "    H2O cluster name:           H2O_started_from_R_prior_kta076 \n",
      "    H2O cluster total nodes:    1 \n",
      "    H2O cluster total memory:   12.19 GB \n",
      "    H2O cluster total cores:    8 \n",
      "    H2O cluster allowed cores:  6 \n",
      "    H2O cluster healthy:        TRUE \n",
      "    H2O Connection ip:          localhost \n",
      "    H2O Connection port:        54321 \n",
      "    H2O Connection proxy:       NA \n",
      "    H2O Internal Security:      FALSE \n",
      "    R Version:                  R version 4.3.0 (2023-04-21 ucrt) \n",
      "\n",
      "  |======================================================================| 100%\n",
      "  |======================================================================| 100%\n",
      "  |======================================================================| 100%\n",
      "Model Details:\n",
      "==============\n",
      "\n",
      "H2ORegressionModel: drf\n",
      "Model ID:  DRF_model_R_1737069570860_1 \n",
      "Model Summary: \n",
      "  number_of_trees number_of_internal_trees model_size_in_bytes min_depth\n",
      "1              50                       50            41524319        20\n",
      "  max_depth mean_depth min_leaves max_leaves mean_leaves\n",
      "1        20   20.00000      57890      70472 66227.98000\n",
      "\n",
      "\n",
      "H2ORegressionMetrics: drf\n",
      "** Reported on training data. **\n",
      "** Metrics reported on Out-Of-Bag training samples **\n",
      "\n",
      "MSE:  5371.499\n",
      "RMSE:  73.29051\n",
      "MAE:  43.59186\n",
      "RMSLE:  0.2825846\n",
      "Mean Residual Deviance :  5371.499\n",
      "\n",
      "\n",
      "H2ORegressionMetrics: drf\n",
      "** Reported on validation data. **\n",
      "** Validation metrics **\n",
      "\n",
      "MSE:  4585.797\n",
      "RMSE:  67.71851\n",
      "MAE:  40.93248\n",
      "RMSLE:  0.2706134\n",
      "Mean Residual Deviance :  4585.797\n",
      "\n",
      "\n",
      "\n",
      "  |======================================================================| 100%\n",
      "    predict\n",
      "1  131.0874\n",
      "2  707.6343\n",
      "3  687.8220\n",
      "4  303.3594\n",
      "5 1018.9315\n",
      "6  517.3017\n",
      "\n",
      "[44944 rows x 1 column] \n"
     ]
    }
   ],
   "source": [
    "\n",
    "library(h2o)\n",
    "\n",
    "# Initialize H2O\n",
    "h2o.init()\n",
    "\n",
    "\n",
    "# Define predictors (x) and target (y)\n",
    "x <- kenya_train %>% select(-num_sold)  # Exclude target variable 'num_sold'\n",
    "y <- kenya_train$num_sold\n",
    "\n",
    "# Create an index for splitting the data\n",
    "train_index <- createDataPartition(y, p = 0.8, list = FALSE)\n",
    "\n",
    "# Split the data into training and testing sets\n",
    "train_data_x <- x[train_index, ]\n",
    "test_data_x <- x[-train_index, ]\n",
    "train_data_y <- y[train_index]\n",
    "test_data_y <- y[-train_index]\n",
    "\n",
    "# Convert to H2O frame for further analysis\n",
    "train_data_h2o <- as.h2o(cbind(train_data_x, num_sold = train_data_y))\n",
    "test_data_h2o <- as.h2o(cbind(test_data_x, num_sold = test_data_y))\n",
    "\n",
    "# Define predictors and response for H2O model\n",
    "predictors <- colnames(train_data_x)\n",
    "response <- \"num_sold\"\n",
    "\n",
    "# Train a Random Forest model\n",
    "rf_model <- h2o.randomForest(\n",
    "  x = predictors,\n",
    "  y = response,\n",
    "  training_frame = train_data_h2o,\n",
    "  validation_frame = test_data_h2o,\n",
    "  ntrees = 50,\n",
    "  max_depth = 20,\n",
    "  seed = 123\n",
    ")\n",
    "\n",
    "# View model details\n",
    "print(rf_model)\n",
    "\n",
    "# Predict on the test set\n",
    "predictions <- h2o.predict(rf_model, test_data_h2o)\n",
    "\n",
    "# View predictions\n",
    "print(predictions)\n",
    "\n",
    "# Shutdown H2O (optional)\n",
    "# h2o.shutdown(prompt = FALSE)\n"
   ]
  },
  {
   "cell_type": "code",
   "execution_count": null,
   "id": "0a60c4f4-5850-48db-ac18-fb36108d7b03",
   "metadata": {},
   "outputs": [],
   "source": []
  },
  {
   "cell_type": "code",
   "execution_count": 162,
   "id": "b5d4a0c0-aa8b-429d-9ed6-a784ccf9fe9d",
   "metadata": {},
   "outputs": [
    {
     "name": "stdout",
     "output_type": "stream",
     "text": [
      " Connection successful!\n",
      "\n",
      "R is connected to the H2O cluster: \n",
      "    H2O cluster uptime:         1 hours 51 minutes \n",
      "    H2O cluster timezone:       America/Anchorage \n",
      "    H2O data parsing timezone:  UTC \n",
      "    H2O cluster version:        3.46.0.6 \n",
      "    H2O cluster version age:    2 months and 14 days \n",
      "    H2O cluster name:           H2O_started_from_R_prior_kta076 \n",
      "    H2O cluster total nodes:    1 \n",
      "    H2O cluster total memory:   11.84 GB \n",
      "    H2O cluster total cores:    8 \n",
      "    H2O cluster allowed cores:  6 \n",
      "    H2O cluster healthy:        TRUE \n",
      "    H2O Connection ip:          localhost \n",
      "    H2O Connection port:        54321 \n",
      "    H2O Connection proxy:       NA \n",
      "    H2O Internal Security:      FALSE \n",
      "    R Version:                  R version 4.3.0 (2023-04-21 ucrt) \n",
      "\n",
      "  |======================================================================| 100%\n",
      "  |======================================================================| 100%\n",
      "  |                                                                      |   1%\n",
      "16:11:11.652: User specified a validation frame with cross-validation still enabled. Please note that the models will still be validated using cross-validation only, the validation frame will be used to provide purely informative validation metrics on the trained models.\n",
      "  |======================================================================| 100%\n",
      "                                                 model_id     rmse      mse\n",
      "1    StackedEnsemble_AllModels_4_AutoML_1_20250116_161111 57.20451 3272.356\n",
      "2    StackedEnsemble_AllModels_3_AutoML_1_20250116_161111 57.20713 3272.656\n",
      "3    StackedEnsemble_AllModels_1_AutoML_1_20250116_161111 58.83262 3461.277\n",
      "4    StackedEnsemble_AllModels_2_AutoML_1_20250116_161111 58.83338 3461.367\n",
      "5 StackedEnsemble_BestOfFamily_5_AutoML_1_20250116_161111 59.00656 3481.774\n",
      "6 StackedEnsemble_BestOfFamily_4_AutoML_1_20250116_161111 59.03728 3485.400\n",
      "       mae     rmsle mean_residual_deviance\n",
      "1 34.38692       NaN               3272.356\n",
      "2 34.38764       NaN               3272.656\n",
      "3 35.32727       NaN               3461.277\n",
      "4 35.32683       NaN               3461.367\n",
      "5 34.69815 0.1939911               3481.774\n",
      "6 34.66790       NaN               3485.400\n",
      "\n",
      "[87 rows x 6 columns] \n",
      "  |======================================================================| 100%\n",
      "    predict\n",
      "1 1595.5473\n",
      "2 2147.1545\n",
      "3  841.4647\n",
      "4  974.0895\n",
      "5  332.3238\n",
      "6 1185.6301\n",
      "\n",
      "[44944 rows x 1 column] \n"
     ]
    }
   ],
   "source": [
    "\n",
    "library(h2o)\n",
    "\n",
    "# Initialize H2O\n",
    "h2o.init()\n",
    "\n",
    "\n",
    "# Define predictors (x) and target (y)\n",
    "x <- kenya_train %>% select(-num_sold)  # Exclude target variable 'num_sold'\n",
    "y <- kenya_train$num_sold\n",
    "\n",
    "# Create an index for splitting the data\n",
    "train_index <- createDataPartition(y, p = 0.8, list = FALSE)\n",
    "\n",
    "# Split the data into training and testing sets\n",
    "train_data_x <- x[train_index, ]\n",
    "test_data_x <- x[-train_index, ]\n",
    "train_data_y <- y[train_index]\n",
    "test_data_y <- y[-train_index]\n",
    "\n",
    "# Convert to H2O frame for further analysis\n",
    "train_data_h2o <- as.h2o(cbind(train_data_x, num_sold = train_data_y))\n",
    "test_data_h2o <- as.h2o(cbind(test_data_x, num_sold = test_data_y))\n",
    "\n",
    "# Define predictors and response for H2O model\n",
    "predictors <- colnames(train_data_x)\n",
    "response <- \"num_sold\"\n",
    "\n",
    "# Run H2O AutoML \n",
    "aml <- h2o.automl( \n",
    "    x = predictors, \n",
    "    y = response, \n",
    "    training_frame = train_data_h2o, \n",
    "    validation_frame = test_data_h2o, \n",
    "    max_runtime_secs = 3600, # Set a max run time for AutoML \n",
    "    stopping_metric = \"RMSE\", # Use RMSE as the stopping metric \n",
    "    seed = 123 ) \n",
    "\n",
    "# View the leaderboard of models \n",
    "print(aml@leaderboard) \n",
    "# Get the best model \n",
    "best_model <- aml@leader \n",
    "# Predict on the test set \n",
    "predictions <- h2o.predict(best_model, test_data_h2o) \n",
    "# View predictions \n",
    "print(predictions)"
   ]
  },
  {
   "cell_type": "code",
   "execution_count": null,
   "id": "83772c93-06f7-49fe-aea2-b2b8779719ae",
   "metadata": {},
   "outputs": [],
   "source": []
  },
  {
   "cell_type": "code",
   "execution_count": 165,
   "id": "09df558f-8f40-4e92-a202-10cd5e3b846d",
   "metadata": {},
   "outputs": [
    {
     "name": "stdout",
     "output_type": "stream",
     "text": [
      "Model Details:\n",
      "==============\n",
      "\n",
      "H2ORegressionModel: stackedensemble\n",
      "Model ID:  StackedEnsemble_AllModels_4_AutoML_1_20250116_161111 \n",
      "Model Summary for Stacked Ensemble: \n",
      "                                         key            value\n",
      "1                          Stacking strategy cross_validation\n",
      "2       Number of base models (used / total)             6/77\n",
      "3           # GBM base models (used / total)             6/63\n",
      "4           # DRF base models (used / total)              0/2\n",
      "5  # DeepLearning base models (used / total)             0/11\n",
      "6           # GLM base models (used / total)              0/1\n",
      "7                      Metalearner algorithm              GLM\n",
      "8         Metalearner fold assignment scheme           Random\n",
      "9                         Metalearner nfolds                5\n",
      "10                   Metalearner fold_column               NA\n",
      "11        Custom metalearner hyperparameters             None\n",
      "\n",
      "\n",
      "H2ORegressionMetrics: stackedensemble\n",
      "** Reported on training data. **\n",
      "\n",
      "MSE:  2225.315\n",
      "RMSE:  47.17325\n",
      "MAE:  28.37564\n",
      "RMSLE:  NaN\n",
      "Mean Residual Deviance :  2225.315\n",
      "\n",
      "\n",
      "H2ORegressionMetrics: stackedensemble\n",
      "** Reported on validation data. **\n",
      "\n",
      "MSE:  3290.993\n",
      "RMSE:  57.36718\n",
      "MAE:  34.13737\n",
      "RMSLE:  NaN\n",
      "Mean Residual Deviance :  3290.993\n",
      "\n",
      "\n",
      "H2ORegressionMetrics: stackedensemble\n",
      "** Reported on cross-validation data. **\n",
      "** 5-fold cross-validation on training data (Metrics computed for combined holdout predictions) **\n",
      "\n",
      "MSE:  3272.356\n",
      "RMSE:  57.20451\n",
      "MAE:  34.38692\n",
      "RMSLE:  NaN\n",
      "Mean Residual Deviance :  3272.356\n",
      "\n",
      "\n",
      "Cross-Validation Metrics Summary: \n",
      "                                     mean              sd         cv_1_valid\n",
      "aic                         393050.840000     2006.704600      394449.800000\n",
      "loglikelihood                    0.000000        0.000000           0.000000\n",
      "mae                             34.393974        0.279550          34.372227\n",
      "mean_residual_deviance        3272.313700       75.710320        3264.923600\n",
      "mse                           3272.313700       75.710320        3264.923600\n",
      "null_deviance          17112067100.000000 99117208.000000 17049703400.000000\n",
      "r2                               0.993124        0.000144           0.993088\n",
      "residual_deviance        117652976.000000  2382541.500000   117834352.000000\n",
      "rmse                            57.201080        0.661453          57.139510\n",
      "rmsle                                  NA        0.000000                 NA\n",
      "                               cv_2_valid         cv_3_valid         cv_4_valid\n",
      "aic                         393605.380000      394788.340000      389788.970000\n",
      "loglikelihood                    0.000000           0.000000           0.000000\n",
      "mae                             34.640780          34.030620          34.229004\n",
      "mean_residual_deviance        3292.172400        3169.772200        3254.470000\n",
      "mse                           3292.172400        3169.772200        3254.470000\n",
      "null_deviance          17141214200.000000 17236955100.000000 16980326400.000000\n",
      "r2                               0.993089           0.993339           0.993162\n",
      "residual_deviance        118472120.000000   114809144.000000   116103216.000000\n",
      "rmse                            57.377457          56.300728          57.047962\n",
      "rmsle                                  NA                 NA                 NA\n",
      "                               cv_5_valid\n",
      "aic                         392621.660000\n",
      "loglikelihood                    0.000000\n",
      "mae                             34.697230\n",
      "mean_residual_deviance        3380.230500\n",
      "mse                           3380.230500\n",
      "null_deviance          17152136200.000000\n",
      "r2                               0.992943\n",
      "residual_deviance        121046056.000000\n",
      "rmse                            58.139750\n",
      "rmsle                                  NA\n"
     ]
    }
   ],
   "source": [
    "best_model <- aml@leader\n",
    "print(best_model)"
   ]
  },
  {
   "cell_type": "markdown",
   "id": "72badd32-3734-45f4-948b-2837b8c090c5",
   "metadata": {},
   "source": [
    "# <font color = yellow> Assemble results"
   ]
  },
  {
   "cell_type": "markdown",
   "id": "253610a6-3801-4789-b857-b43c28d3aa83",
   "metadata": {},
   "source": [
    "- Training set dimensions (x): 179782 x 8 \n",
    "- Testing set dimensions (x): 44944 x 8 \n",
    "- Training set dimensions (y): 179782 \n",
    "- Testing set dimensions (y): 44944 "
   ]
  },
  {
   "cell_type": "code",
   "execution_count": 191,
   "id": "b1d4ffa3-c618-483a-90d7-f2acf373064e",
   "metadata": {},
   "outputs": [
    {
     "data": {
      "text/html": [
       "44944"
      ],
      "text/latex": [
       "44944"
      ],
      "text/markdown": [
       "44944"
      ],
      "text/plain": [
       "[1] 44944"
      ]
     },
     "metadata": {},
     "output_type": "display_data"
    },
    {
     "data": {
      "text/html": [
       "44944"
      ],
      "text/latex": [
       "44944"
      ],
      "text/markdown": [
       "44944"
      ],
      "text/plain": [
       "[1] 44944"
      ]
     },
     "metadata": {},
     "output_type": "display_data"
    },
    {
     "data": {
      "text/html": [
       "<style>\n",
       ".list-inline {list-style: none; margin:0; padding: 0}\n",
       ".list-inline>li {display: inline-block}\n",
       ".list-inline>li:not(:last-child)::after {content: \"\\00b7\"; padding: 0 .5ex}\n",
       "</style>\n",
       "<ol class=list-inline><li>1595.54729642291</li><li>2147.15450210171</li><li>841.464663200206</li><li>974.089500789029</li></ol>\n"
      ],
      "text/latex": [
       "\\begin{enumerate*}\n",
       "\\item 1595.54729642291\n",
       "\\item 2147.15450210171\n",
       "\\item 841.464663200206\n",
       "\\item 974.089500789029\n",
       "\\end{enumerate*}\n"
      ],
      "text/markdown": [
       "1. 1595.54729642291\n",
       "2. 2147.15450210171\n",
       "3. 841.464663200206\n",
       "4. 974.089500789029\n",
       "\n",
       "\n"
      ],
      "text/plain": [
       "[1] 1595.5473 2147.1545  841.4647  974.0895"
      ]
     },
     "metadata": {},
     "output_type": "display_data"
    },
    {
     "data": {
      "text/html": [
       "<style>\n",
       ".list-inline {list-style: none; margin:0; padding: 0}\n",
       ".list-inline>li {display: inline-block}\n",
       ".list-inline>li:not(:last-child)::after {content: \"\\00b7\"; padding: 0 .5ex}\n",
       "</style>\n",
       "<ol class=list-inline><li>1659</li><li>2212</li><li>878</li><li>950</li><li>340</li><li>1281</li></ol>\n"
      ],
      "text/latex": [
       "\\begin{enumerate*}\n",
       "\\item 1659\n",
       "\\item 2212\n",
       "\\item 878\n",
       "\\item 950\n",
       "\\item 340\n",
       "\\item 1281\n",
       "\\end{enumerate*}\n"
      ],
      "text/markdown": [
       "1. 1659\n",
       "2. 2212\n",
       "3. 878\n",
       "4. 950\n",
       "5. 340\n",
       "6. 1281\n",
       "\n",
       "\n"
      ],
      "text/plain": [
       "[1] 1659 2212  878  950  340 1281"
      ]
     },
     "metadata": {},
     "output_type": "display_data"
    }
   ],
   "source": [
    "# create df from h2o predictions & create vector from target values\n",
    "predicted_values <- as.data.frame(predictions)$predict\n",
    "actual_values <- test_data_y\n",
    "\n",
    "length(predicted_values)\n",
    "length(actual_values)\n",
    "\n",
    "head(predicted_values,4)  # new \n",
    "head(actual_values, 6)    # from train => test_data_y\n",
    "      "
   ]
  },
  {
   "cell_type": "code",
   "execution_count": 174,
   "id": "a58be5a9-7b54-4f01-9dcd-5c9e24dc0b7c",
   "metadata": {},
   "outputs": [
    {
     "data": {
      "text/html": [
       "44944"
      ],
      "text/latex": [
       "44944"
      ],
      "text/markdown": [
       "44944"
      ],
      "text/plain": [
       "[1] 44944"
      ]
     },
     "metadata": {},
     "output_type": "display_data"
    },
    {
     "name": "stdout",
     "output_type": "stream",
     "text": [
      " num [1:44944] 1 2 3 4 5 6 7 8 9 10 ...\n"
     ]
    }
   ],
   "source": [
    "# create vector of indices\n",
    "indices <- seq(from = 1, to = length(predicted_values), by = 1 )\n",
    "length(indices)"
   ]
  },
  {
   "cell_type": "code",
   "execution_count": 190,
   "id": "4c64717b-c6c3-42da-9c3c-f7d5413784a3",
   "metadata": {},
   "outputs": [
    {
     "data": {
      "text/html": [
       "<style>\n",
       ".list-inline {list-style: none; margin:0; padding: 0}\n",
       ".list-inline>li {display: inline-block}\n",
       ".list-inline>li:not(:last-child)::after {content: \"\\00b7\"; padding: 0 .5ex}\n",
       "</style>\n",
       "<ol class=list-inline><li>1659</li><li>2212</li><li>878</li><li>950</li><li>340</li><li>1281</li></ol>\n"
      ],
      "text/latex": [
       "\\begin{enumerate*}\n",
       "\\item 1659\n",
       "\\item 2212\n",
       "\\item 878\n",
       "\\item 950\n",
       "\\item 340\n",
       "\\item 1281\n",
       "\\end{enumerate*}\n"
      ],
      "text/markdown": [
       "1. 1659\n",
       "2. 2212\n",
       "3. 878\n",
       "4. 950\n",
       "5. 340\n",
       "6. 1281\n",
       "\n",
       "\n"
      ],
      "text/plain": [
       "[1] 1659 2212  878  950  340 1281"
      ]
     },
     "metadata": {},
     "output_type": "display_data"
    }
   ],
   "source": [
    "head(actual_values)"
   ]
  },
  {
   "cell_type": "markdown",
   "id": "02a50477-844d-4245-8753-d10959bc9127",
   "metadata": {},
   "source": [
    "### <font color = yellow> Create df of actual (num_sold) and predicted (target var) values"
   ]
  },
  {
   "cell_type": "code",
   "execution_count": 182,
   "id": "906716a2-ab64-4b8b-be0f-c13878ca7a71",
   "metadata": {},
   "outputs": [
    {
     "name": "stdout",
     "output_type": "stream",
     "text": [
      "'data.frame':\t44944 obs. of  2 variables:\n",
      " $ Actual   : num  1659 2212 878 950 340 ...\n",
      " $ Predicted: num  1596 2147 841 974 332 ...\n"
     ]
    },
    {
     "data": {
      "text/html": [
       "<table class=\"dataframe\">\n",
       "<caption>A data.frame: 3 × 2</caption>\n",
       "<thead>\n",
       "\t<tr><th></th><th scope=col>Actual</th><th scope=col>Predicted</th></tr>\n",
       "\t<tr><th></th><th scope=col>&lt;dbl&gt;</th><th scope=col>&lt;dbl&gt;</th></tr>\n",
       "</thead>\n",
       "<tbody>\n",
       "\t<tr><th scope=row>1</th><td>1659</td><td>1596</td></tr>\n",
       "\t<tr><th scope=row>2</th><td>2212</td><td>2147</td></tr>\n",
       "\t<tr><th scope=row>3</th><td> 878</td><td> 841</td></tr>\n",
       "</tbody>\n",
       "</table>\n"
      ],
      "text/latex": [
       "A data.frame: 3 × 2\n",
       "\\begin{tabular}{r|ll}\n",
       "  & Actual & Predicted\\\\\n",
       "  & <dbl> & <dbl>\\\\\n",
       "\\hline\n",
       "\t1 & 1659 & 1596\\\\\n",
       "\t2 & 2212 & 2147\\\\\n",
       "\t3 &  878 &  841\\\\\n",
       "\\end{tabular}\n"
      ],
      "text/markdown": [
       "\n",
       "A data.frame: 3 × 2\n",
       "\n",
       "| <!--/--> | Actual &lt;dbl&gt; | Predicted &lt;dbl&gt; |\n",
       "|---|---|---|\n",
       "| 1 | 1659 | 1596 |\n",
       "| 2 | 2212 | 2147 |\n",
       "| 3 |  878 |  841 |\n",
       "\n"
      ],
      "text/plain": [
       "  Actual Predicted\n",
       "1 1659   1596     \n",
       "2 2212   2147     \n",
       "3  878    841     "
      ]
     },
     "metadata": {},
     "output_type": "display_data"
    }
   ],
   "source": [
    "# Create df of actual and predicted num_sold (target var) values\n",
    "predicted_results <- data.frame(Actual = c(actual_values[indices]), Predicted = round(c(predicted_values[indices]),0) )\n",
    "str(predicted_results)\n",
    "head(predicted_results,3)"
   ]
  },
  {
   "cell_type": "markdown",
   "id": "f6d26bb5-bc24-4834-9aa9-80031941572f",
   "metadata": {},
   "source": [
    "## <font color = yellow> Difference column"
   ]
  },
  {
   "cell_type": "code",
   "execution_count": 186,
   "id": "bc83cd8b-b52f-4751-867a-c8cfc92b2524",
   "metadata": {},
   "outputs": [
    {
     "data": {
      "text/html": [
       "<style>\n",
       ".list-inline {list-style: none; margin:0; padding: 0}\n",
       ".list-inline>li {display: inline-block}\n",
       ".list-inline>li:not(:last-child)::after {content: \"\\00b7\"; padding: 0 .5ex}\n",
       "</style>\n",
       "<ol class=list-inline><li>44944</li><li>3</li></ol>\n"
      ],
      "text/latex": [
       "\\begin{enumerate*}\n",
       "\\item 44944\n",
       "\\item 3\n",
       "\\end{enumerate*}\n"
      ],
      "text/markdown": [
       "1. 44944\n",
       "2. 3\n",
       "\n",
       "\n"
      ],
      "text/plain": [
       "[1] 44944     3"
      ]
     },
     "metadata": {},
     "output_type": "display_data"
    },
    {
     "data": {
      "text/html": [
       "<table class=\"dataframe\">\n",
       "<caption>A data.frame: 3 × 3</caption>\n",
       "<thead>\n",
       "\t<tr><th></th><th scope=col>Actual</th><th scope=col>Predicted</th><th scope=col>Dif</th></tr>\n",
       "\t<tr><th></th><th scope=col>&lt;dbl&gt;</th><th scope=col>&lt;dbl&gt;</th><th scope=col>&lt;dbl&gt;</th></tr>\n",
       "</thead>\n",
       "<tbody>\n",
       "\t<tr><th scope=row>1</th><td>1659</td><td>1596</td><td>63</td></tr>\n",
       "\t<tr><th scope=row>2</th><td>2212</td><td>2147</td><td>65</td></tr>\n",
       "\t<tr><th scope=row>3</th><td> 878</td><td> 841</td><td>37</td></tr>\n",
       "</tbody>\n",
       "</table>\n"
      ],
      "text/latex": [
       "A data.frame: 3 × 3\n",
       "\\begin{tabular}{r|lll}\n",
       "  & Actual & Predicted & Dif\\\\\n",
       "  & <dbl> & <dbl> & <dbl>\\\\\n",
       "\\hline\n",
       "\t1 & 1659 & 1596 & 63\\\\\n",
       "\t2 & 2212 & 2147 & 65\\\\\n",
       "\t3 &  878 &  841 & 37\\\\\n",
       "\\end{tabular}\n"
      ],
      "text/markdown": [
       "\n",
       "A data.frame: 3 × 3\n",
       "\n",
       "| <!--/--> | Actual &lt;dbl&gt; | Predicted &lt;dbl&gt; | Dif &lt;dbl&gt; |\n",
       "|---|---|---|---|\n",
       "| 1 | 1659 | 1596 | 63 |\n",
       "| 2 | 2212 | 2147 | 65 |\n",
       "| 3 |  878 |  841 | 37 |\n",
       "\n"
      ],
      "text/plain": [
       "  Actual Predicted Dif\n",
       "1 1659   1596      63 \n",
       "2 2212   2147      65 \n",
       "3  878    841      37 "
      ]
     },
     "metadata": {},
     "output_type": "display_data"
    }
   ],
   "source": [
    "predict_vs_actual_model_results <- predicted_results %>% mutate(Dif = abs(Actual-Predicted) )\n",
    "dim(predict_vs_actual_model_results)\n",
    "head(predict_vs_actual_model_results, 3)"
   ]
  },
  {
   "cell_type": "markdown",
   "id": "4265ec9f-dd26-4a02-b1b9-0d420b8c7b74",
   "metadata": {},
   "source": [
    "## <font color = yellow> Mean Absolute Error (MAE)"
   ]
  },
  {
   "cell_type": "code",
   "execution_count": 187,
   "id": "06e769ae-0f75-474a-a865-de5792582835",
   "metadata": {},
   "outputs": [
    {
     "data": {
      "text/html": [
       "55"
      ],
      "text/latex": [
       "55"
      ],
      "text/markdown": [
       "55"
      ],
      "text/plain": [
       "[1] 55"
      ]
     },
     "metadata": {},
     "output_type": "display_data"
    }
   ],
   "source": [
    "mini_mae <- (63+65+37) / 3 \n",
    "mini_mae"
   ]
  },
  {
   "cell_type": "markdown",
   "id": "fd87ba7e-2a40-4887-a686-4ae94f97bc79",
   "metadata": {},
   "source": [
    "## <font color = yellow> Mean Absolute Percentage Error (MAPE)\n",
    "\n",
    "#### MAPE provides context and expresses the MAE as a percentage of the actual values,\n",
    "\n"
   ]
  },
  {
   "cell_type": "code",
   "execution_count": 188,
   "id": "2adc4ef7-43b5-43c0-915a-3883983a0312",
   "metadata": {},
   "outputs": [
    {
     "name": "stdout",
     "output_type": "stream",
     "text": [
      "MAPE: 13.84458 %\n"
     ]
    }
   ],
   "source": [
    "# Calculate the Mean Absolute Percentage Error (MAPE)\n",
    "mape <- mean(abs((actual_values - predicted_values) / actual_values)) * 100\n",
    "\n",
    "cat(\"MAPE:\", mape, \"%\\n\")\n"
   ]
  },
  {
   "cell_type": "markdown",
   "id": "0f6b1313-9f48-4c5c-9d43-ad477a08ffc5",
   "metadata": {},
   "source": [
    "### <font color = lime> Visualization:"
   ]
  },
  {
   "cell_type": "code",
   "execution_count": 189,
   "id": "d0aad66b-f0ff-48e7-be55-8459bd185a7e",
   "metadata": {},
   "outputs": [
    {
     "data": {
      "image/png": "[encoded data removed]",
      "text/plain": [
       "plot without title"
      ]
     },
     "metadata": {
      "image/png": {
       "height": 420,
       "width": 420
      }
     },
     "output_type": "display_data"
    }
   ],
   "source": [
    "\n",
    "# Create a data frame for plotting\n",
    "plot_data <- data.frame(\n",
    "  Actual = actual_values,\n",
    "  Predicted = predicted_values\n",
    ")\n",
    "\n",
    "# Plot actual vs. predicted values\n",
    "ggplot(plot_data, aes(x = Actual, y = Predicted)) +\n",
    "  geom_point() +\n",
    "  geom_abline(slope = 1, intercept = 0, linetype = \"dashed\", color = \"red\") +\n",
    "  labs(title = \"Actual vs. Predicted Values\",\n",
    "       x = \"Actual Values\",\n",
    "       y = \"Predicted Values\")\n"
   ]
  },
  {
   "cell_type": "code",
   "execution_count": null,
   "id": "f6af1f50-ebee-4226-afd7-8f5066deccba",
   "metadata": {},
   "outputs": [],
   "source": []
  },
  {
   "cell_type": "markdown",
   "id": "9c8550ee-2b59-4351-85d7-472697f9f03e",
   "metadata": {},
   "source": [
    "# <font color = lime> Save best_model to models folder "
   ]
  },
  {
   "cell_type": "code",
   "execution_count": null,
   "id": "c4c3fa3f-437b-4d3e-9a97-2452f8c8af26",
   "metadata": {},
   "outputs": [],
   "source": [
    "# Check if H2O is initialized\n",
    "# h2o.is_running()\n"
   ]
  },
  {
   "cell_type": "code",
   "execution_count": 164,
   "id": "fb3cc4c9-11de-462b-8afb-acccd5b4dd7d",
   "metadata": {},
   "outputs": [
    {
     "ename": "ERROR",
     "evalue": "Error in h2o.save_model(best_model_r13, path = \"C:/all_kaggle/jan25/models\", : could not find function \"h2o.save_model\"\n",
     "output_type": "error",
     "traceback": [
      "Error in h2o.save_model(best_model_r13, path = \"C:/all_kaggle/jan25/models\", : could not find function \"h2o.save_model\"\nTraceback:\n"
     ]
    }
   ],
   "source": [
    "# Get the best model from the AutoML object\n",
    "best_model_r13 <- h2o.get_best_model(aml)\n",
    "\n",
    "# Save the model to a file\n",
    "model_path <- h2o.save_model(best_model_r13, path = \"C:/all_kaggle/jan25/models\", force = TRUE)\n",
    "print(model_path)\n"
   ]
  },
  {
   "cell_type": "code",
   "execution_count": null,
   "id": "264a1db6-a662-41f2-9caf-5fdd061f5842",
   "metadata": {},
   "outputs": [],
   "source": []
  },
  {
   "cell_type": "code",
   "execution_count": null,
   "id": "6e13f0f7-704f-40a4-ab8a-414dca7e2a6e",
   "metadata": {},
   "outputs": [],
   "source": [
    "stopper"
   ]
  },
  {
   "cell_type": "code",
   "execution_count": null,
   "id": "e1bd52f2-4c71-4286-8c45-d7d72668fe46",
   "metadata": {},
   "outputs": [],
   "source": []
  },
  {
   "cell_type": "code",
   "execution_count": null,
   "id": "c0b721f3-3ba0-420b-81fe-9a9e7878bd68",
   "metadata": {},
   "outputs": [],
   "source": [
    "# Load the h2o package and initialize the H2O cluster if not already done\n",
    "\n",
    "# Define the path to the /models folder\n",
    "models_path <- \"C:/all_kaggle/jan25/models\"\n",
    "\n",
    "# Save the best model to the specified path with the designated name\n",
    "model_path <- h2o.saveModel(object = best_model, path = models_path, force = TRUE)\n",
    "\n",
    "# Rename the saved model file\n",
    "file.rename(from = model_path, to = file.path(models_path, \"kaggle_best_model1\"))\n",
    "\n",
    "# Confirmation message\n",
    "cat(\"The best model has been saved as kaggle_best_model1 in the /models folder.\")\n",
    "\n"
   ]
  },
  {
   "cell_type": "code",
   "execution_count": null,
   "id": "3d3d1cfc-a794-4cbc-93da-9a39dfc4afd9",
   "metadata": {},
   "outputs": [],
   "source": []
  },
  {
   "cell_type": "markdown",
   "id": "6c2579c5-f355-4093-9217-68abcef13a35",
   "metadata": {},
   "source": [
    "# <font color = lime> Evaluate the test dataset with the best_model"
   ]
  },
  {
   "cell_type": "code",
   "execution_count": null,
   "id": "a09fa5d0-f6f5-4265-9601-b69251723517",
   "metadata": {},
   "outputs": [],
   "source": []
  },
  {
   "cell_type": "markdown",
   "id": "abb0f1ec-e16d-419b-8b43-0996e4b6869b",
   "metadata": {},
   "source": [
    "## <font color = yellow> Get test dataset"
   ]
  },
  {
   "cell_type": "code",
   "execution_count": null,
   "id": "426bb319-5886-4f8d-ab5b-c2071582a651",
   "metadata": {},
   "outputs": [],
   "source": [
    "testing "
   ]
  },
  {
   "cell_type": "code",
   "execution_count": null,
   "id": "6cc57fec-6fd2-4f6a-b383-3d919e6c91a8",
   "metadata": {},
   "outputs": [],
   "source": []
  },
  {
   "cell_type": "code",
   "execution_count": null,
   "id": "4c9b6a97-7841-4895-83d0-e112d37883b0",
   "metadata": {},
   "outputs": [],
   "source": [
    "glimpse(testing)\n",
    "summary(testing)"
   ]
  },
  {
   "cell_type": "markdown",
   "id": "372c354d-0e28-47b3-aeed-3dd36c07dfa4",
   "metadata": {},
   "source": [
    "# <font color = yellow> Prepare Testing Dataset:\n",
    "\n",
    "### Convert all features to numeric data types"
   ]
  },
  {
   "cell_type": "code",
   "execution_count": null,
   "id": "b50cdb35-97e7-4c5f-9659-787be0ade286",
   "metadata": {},
   "outputs": [],
   "source": []
  },
  {
   "cell_type": "markdown",
   "id": "4d223428-d9bc-429b-9b3b-a1a82435b469",
   "metadata": {},
   "source": [
    "### <font color = yellow> Review for NAs  (if NA's exist)\n",
    "\n",
    "#### Likely no NA's since the NAs in the train dataset were only found in the response var (num_sold)"
   ]
  },
  {
   "cell_type": "code",
   "execution_count": null,
   "id": "2848ef8b-397b-41d2-a827-f471d9cc9aba",
   "metadata": {},
   "outputs": [],
   "source": []
  },
  {
   "cell_type": "code",
   "execution_count": null,
   "id": "54f1af44-59ff-4d34-909f-c79c0f132f8b",
   "metadata": {},
   "outputs": [],
   "source": [
    "sum(is.na(testing))"
   ]
  },
  {
   "cell_type": "code",
   "execution_count": null,
   "id": "51c00324-6201-438b-a126-591e910cd510",
   "metadata": {},
   "outputs": [],
   "source": [
    "head(testing,2)"
   ]
  },
  {
   "cell_type": "code",
   "execution_count": null,
   "id": "80285fb6-150a-4a58-bee0-1273908fb660",
   "metadata": {},
   "outputs": [],
   "source": []
  },
  {
   "cell_type": "code",
   "execution_count": null,
   "id": "1e03b5f3-0187-4bb9-97d0-78e5a68394c1",
   "metadata": {},
   "outputs": [],
   "source": [
    "str(predictions$predict)  # an instance of h2oFrame object  ... ugly "
   ]
  },
  {
   "cell_type": "markdown",
   "id": "ff992674-353e-4b8e-8cad-6b44e9d010b1",
   "metadata": {},
   "source": [
    "# <font color = lime> Data Ready: Fork in Road"
   ]
  },
  {
   "cell_type": "code",
   "execution_count": null,
   "id": "58289a56-6a16-44d6-88ab-958069951546",
   "metadata": {},
   "outputs": [],
   "source": []
  },
  {
   "cell_type": "code",
   "execution_count": null,
   "id": "81d3d550-a7bf-4389-811e-0c67c8029323",
   "metadata": {},
   "outputs": [],
   "source": []
  },
  {
   "cell_type": "code",
   "execution_count": null,
   "id": "982fa5cf-a675-4c56-a07b-fbf51c79ce87",
   "metadata": {},
   "outputs": [],
   "source": []
  },
  {
   "cell_type": "code",
   "execution_count": null,
   "id": "e4cde15b-10e0-433a-8be7-41cbcec5e8af",
   "metadata": {},
   "outputs": [],
   "source": []
  },
  {
   "cell_type": "code",
   "execution_count": null,
   "id": "d99b5894-bacf-4c59-a64b-0cf2473e2f09",
   "metadata": {},
   "outputs": [],
   "source": []
  },
  {
   "cell_type": "code",
   "execution_count": null,
   "id": "ab701e38-0cae-4640-877e-ed8f85d1c27e",
   "metadata": {},
   "outputs": [],
   "source": []
  },
  {
   "cell_type": "code",
   "execution_count": null,
   "id": "81864f48-9a25-46b9-877b-34ced6d4af4f",
   "metadata": {},
   "outputs": [],
   "source": []
  },
  {
   "cell_type": "code",
   "execution_count": null,
   "id": "635dd2f1-c0d2-490e-8b86-4c4a79996793",
   "metadata": {},
   "outputs": [],
   "source": []
  },
  {
   "cell_type": "markdown",
   "id": "f1739e03-19c8-42d6-a4b9-d762d68535dd",
   "metadata": {},
   "source": [
    "### <font color = yellow> "
   ]
  }
 ],
 "metadata": {
  "kernelspec": {
   "display_name": "R",
   "language": "R",
   "name": "ir"
  },
  "language_info": {
   "codemirror_mode": "r",
   "file_extension": ".r",
   "mimetype": "text/x-r-source",
   "name": "R",
   "pygments_lexer": "r",
   "version": "4.3.0"
  }
 },
 "nbformat": 4,
 "nbformat_minor": 5
}
